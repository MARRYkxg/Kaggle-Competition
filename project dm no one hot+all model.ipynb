{
 "cells": [
  {
   "cell_type": "markdown",
   "metadata": {},
   "source": [
    "# DNSC 6279 Group Project - House Prices"
   ]
  },
  {
   "cell_type": "markdown",
   "metadata": {},
   "source": [
    "![title](img/title.png \"ShowMyImage\")"
   ]
  },
  {
   "cell_type": "markdown",
   "metadata": {},
   "source": [
    " <br>\n",
    " ## Part One: Import & Look At The Train & Test Data"
   ]
  },
  {
   "cell_type": "markdown",
   "metadata": {},
   "source": [
    "![title](img/step one.png \"ShowMyImage\")"
   ]
  },
  {
   "cell_type": "code",
   "execution_count": 2,
   "metadata": {},
   "outputs": [],
   "source": [
    "import pandas as pd\n",
    "import numpy as np\n",
    "\n",
    "import matplotlib.pyplot as plt\n",
    "%matplotlib inline\n",
    "\n",
    "from scipy import stats\n",
    "\n",
    "import seaborn as sns\n",
    "sns.set_style('whitegrid')"
   ]
  },
  {
   "cell_type": "code",
   "execution_count": 3,
   "metadata": {},
   "outputs": [],
   "source": [
    "train = pd.read_csv('/Users/wanmochen/Desktop/Data mining/project/train.csv')\n",
    "test = pd.read_csv('/Users/wanmochen/Desktop/Data mining/project/test.csv')"
   ]
  },
  {
   "cell_type": "code",
   "execution_count": 4,
   "metadata": {},
   "outputs": [
    {
     "data": {
      "text/plain": [
       "array(['Id', 'MSSubClass', 'MSZoning', 'LotFrontage', 'LotArea', 'Street',\n",
       "       'Alley', 'LotShape', 'LandContour', 'Utilities', 'LotConfig',\n",
       "       'LandSlope', 'Neighborhood', 'Condition1', 'Condition2',\n",
       "       'BldgType', 'HouseStyle', 'OverallQual', 'OverallCond',\n",
       "       'YearBuilt', 'YearRemodAdd', 'RoofStyle', 'RoofMatl',\n",
       "       'Exterior1st', 'Exterior2nd', 'MasVnrType', 'MasVnrArea',\n",
       "       'ExterQual', 'ExterCond', 'Foundation', 'BsmtQual', 'BsmtCond',\n",
       "       'BsmtExposure', 'BsmtFinType1', 'BsmtFinSF1', 'BsmtFinType2',\n",
       "       'BsmtFinSF2', 'BsmtUnfSF', 'TotalBsmtSF', 'Heating', 'HeatingQC',\n",
       "       'CentralAir', 'Electrical', '1stFlrSF', '2ndFlrSF', 'LowQualFinSF',\n",
       "       'GrLivArea', 'BsmtFullBath', 'BsmtHalfBath', 'FullBath',\n",
       "       'HalfBath', 'BedroomAbvGr', 'KitchenAbvGr', 'KitchenQual',\n",
       "       'TotRmsAbvGrd', 'Functional', 'Fireplaces', 'FireplaceQu',\n",
       "       'GarageType', 'GarageYrBlt', 'GarageFinish', 'GarageCars',\n",
       "       'GarageArea', 'GarageQual', 'GarageCond', 'PavedDrive',\n",
       "       'WoodDeckSF', 'OpenPorchSF', 'EnclosedPorch', '3SsnPorch',\n",
       "       'ScreenPorch', 'PoolArea', 'PoolQC', 'Fence', 'MiscFeature',\n",
       "       'MiscVal', 'MoSold', 'YrSold', 'SaleType', 'SaleCondition',\n",
       "       'SalePrice'], dtype=object)"
      ]
     },
     "execution_count": 4,
     "metadata": {},
     "output_type": "execute_result"
    }
   ],
   "source": [
    "train.columns.values"
   ]
  },
  {
   "cell_type": "code",
   "execution_count": 5,
   "metadata": {},
   "outputs": [
    {
     "data": {
      "text/plain": [
       "array(['Id', 'MSSubClass', 'MSZoning', 'LotFrontage', 'LotArea', 'Street',\n",
       "       'Alley', 'LotShape', 'LandContour', 'Utilities', 'LotConfig',\n",
       "       'LandSlope', 'Neighborhood', 'Condition1', 'Condition2',\n",
       "       'BldgType', 'HouseStyle', 'OverallQual', 'OverallCond',\n",
       "       'YearBuilt', 'YearRemodAdd', 'RoofStyle', 'RoofMatl',\n",
       "       'Exterior1st', 'Exterior2nd', 'MasVnrType', 'MasVnrArea',\n",
       "       'ExterQual', 'ExterCond', 'Foundation', 'BsmtQual', 'BsmtCond',\n",
       "       'BsmtExposure', 'BsmtFinType1', 'BsmtFinSF1', 'BsmtFinType2',\n",
       "       'BsmtFinSF2', 'BsmtUnfSF', 'TotalBsmtSF', 'Heating', 'HeatingQC',\n",
       "       'CentralAir', 'Electrical', '1stFlrSF', '2ndFlrSF', 'LowQualFinSF',\n",
       "       'GrLivArea', 'BsmtFullBath', 'BsmtHalfBath', 'FullBath',\n",
       "       'HalfBath', 'BedroomAbvGr', 'KitchenAbvGr', 'KitchenQual',\n",
       "       'TotRmsAbvGrd', 'Functional', 'Fireplaces', 'FireplaceQu',\n",
       "       'GarageType', 'GarageYrBlt', 'GarageFinish', 'GarageCars',\n",
       "       'GarageArea', 'GarageQual', 'GarageCond', 'PavedDrive',\n",
       "       'WoodDeckSF', 'OpenPorchSF', 'EnclosedPorch', '3SsnPorch',\n",
       "       'ScreenPorch', 'PoolArea', 'PoolQC', 'Fence', 'MiscFeature',\n",
       "       'MiscVal', 'MoSold', 'YrSold', 'SaleType', 'SaleCondition'],\n",
       "      dtype=object)"
      ]
     },
     "execution_count": 5,
     "metadata": {},
     "output_type": "execute_result"
    }
   ],
   "source": [
    "test.columns.values"
   ]
  },
  {
   "cell_type": "code",
   "execution_count": 6,
   "metadata": {},
   "outputs": [
    {
     "data": {
      "text/html": [
       "<div>\n",
       "<style scoped>\n",
       "    .dataframe tbody tr th:only-of-type {\n",
       "        vertical-align: middle;\n",
       "    }\n",
       "\n",
       "    .dataframe tbody tr th {\n",
       "        vertical-align: top;\n",
       "    }\n",
       "\n",
       "    .dataframe thead th {\n",
       "        text-align: right;\n",
       "    }\n",
       "</style>\n",
       "<table border=\"1\" class=\"dataframe\">\n",
       "  <thead>\n",
       "    <tr style=\"text-align: right;\">\n",
       "      <th></th>\n",
       "      <th>Id</th>\n",
       "      <th>MSSubClass</th>\n",
       "      <th>MSZoning</th>\n",
       "      <th>LotFrontage</th>\n",
       "      <th>LotArea</th>\n",
       "      <th>Street</th>\n",
       "      <th>Alley</th>\n",
       "      <th>LotShape</th>\n",
       "      <th>LandContour</th>\n",
       "      <th>Utilities</th>\n",
       "      <th>...</th>\n",
       "      <th>PoolArea</th>\n",
       "      <th>PoolQC</th>\n",
       "      <th>Fence</th>\n",
       "      <th>MiscFeature</th>\n",
       "      <th>MiscVal</th>\n",
       "      <th>MoSold</th>\n",
       "      <th>YrSold</th>\n",
       "      <th>SaleType</th>\n",
       "      <th>SaleCondition</th>\n",
       "      <th>SalePrice</th>\n",
       "    </tr>\n",
       "  </thead>\n",
       "  <tbody>\n",
       "    <tr>\n",
       "      <th>1455</th>\n",
       "      <td>1456</td>\n",
       "      <td>60</td>\n",
       "      <td>RL</td>\n",
       "      <td>62.0</td>\n",
       "      <td>7917</td>\n",
       "      <td>Pave</td>\n",
       "      <td>NaN</td>\n",
       "      <td>Reg</td>\n",
       "      <td>Lvl</td>\n",
       "      <td>AllPub</td>\n",
       "      <td>...</td>\n",
       "      <td>0</td>\n",
       "      <td>NaN</td>\n",
       "      <td>NaN</td>\n",
       "      <td>NaN</td>\n",
       "      <td>0</td>\n",
       "      <td>8</td>\n",
       "      <td>2007</td>\n",
       "      <td>WD</td>\n",
       "      <td>Normal</td>\n",
       "      <td>175000</td>\n",
       "    </tr>\n",
       "    <tr>\n",
       "      <th>1456</th>\n",
       "      <td>1457</td>\n",
       "      <td>20</td>\n",
       "      <td>RL</td>\n",
       "      <td>85.0</td>\n",
       "      <td>13175</td>\n",
       "      <td>Pave</td>\n",
       "      <td>NaN</td>\n",
       "      <td>Reg</td>\n",
       "      <td>Lvl</td>\n",
       "      <td>AllPub</td>\n",
       "      <td>...</td>\n",
       "      <td>0</td>\n",
       "      <td>NaN</td>\n",
       "      <td>MnPrv</td>\n",
       "      <td>NaN</td>\n",
       "      <td>0</td>\n",
       "      <td>2</td>\n",
       "      <td>2010</td>\n",
       "      <td>WD</td>\n",
       "      <td>Normal</td>\n",
       "      <td>210000</td>\n",
       "    </tr>\n",
       "    <tr>\n",
       "      <th>1457</th>\n",
       "      <td>1458</td>\n",
       "      <td>70</td>\n",
       "      <td>RL</td>\n",
       "      <td>66.0</td>\n",
       "      <td>9042</td>\n",
       "      <td>Pave</td>\n",
       "      <td>NaN</td>\n",
       "      <td>Reg</td>\n",
       "      <td>Lvl</td>\n",
       "      <td>AllPub</td>\n",
       "      <td>...</td>\n",
       "      <td>0</td>\n",
       "      <td>NaN</td>\n",
       "      <td>GdPrv</td>\n",
       "      <td>Shed</td>\n",
       "      <td>2500</td>\n",
       "      <td>5</td>\n",
       "      <td>2010</td>\n",
       "      <td>WD</td>\n",
       "      <td>Normal</td>\n",
       "      <td>266500</td>\n",
       "    </tr>\n",
       "    <tr>\n",
       "      <th>1458</th>\n",
       "      <td>1459</td>\n",
       "      <td>20</td>\n",
       "      <td>RL</td>\n",
       "      <td>68.0</td>\n",
       "      <td>9717</td>\n",
       "      <td>Pave</td>\n",
       "      <td>NaN</td>\n",
       "      <td>Reg</td>\n",
       "      <td>Lvl</td>\n",
       "      <td>AllPub</td>\n",
       "      <td>...</td>\n",
       "      <td>0</td>\n",
       "      <td>NaN</td>\n",
       "      <td>NaN</td>\n",
       "      <td>NaN</td>\n",
       "      <td>0</td>\n",
       "      <td>4</td>\n",
       "      <td>2010</td>\n",
       "      <td>WD</td>\n",
       "      <td>Normal</td>\n",
       "      <td>142125</td>\n",
       "    </tr>\n",
       "    <tr>\n",
       "      <th>1459</th>\n",
       "      <td>1460</td>\n",
       "      <td>20</td>\n",
       "      <td>RL</td>\n",
       "      <td>75.0</td>\n",
       "      <td>9937</td>\n",
       "      <td>Pave</td>\n",
       "      <td>NaN</td>\n",
       "      <td>Reg</td>\n",
       "      <td>Lvl</td>\n",
       "      <td>AllPub</td>\n",
       "      <td>...</td>\n",
       "      <td>0</td>\n",
       "      <td>NaN</td>\n",
       "      <td>NaN</td>\n",
       "      <td>NaN</td>\n",
       "      <td>0</td>\n",
       "      <td>6</td>\n",
       "      <td>2008</td>\n",
       "      <td>WD</td>\n",
       "      <td>Normal</td>\n",
       "      <td>147500</td>\n",
       "    </tr>\n",
       "  </tbody>\n",
       "</table>\n",
       "<p>5 rows × 81 columns</p>\n",
       "</div>"
      ],
      "text/plain": [
       "        Id  MSSubClass MSZoning  LotFrontage  LotArea Street Alley LotShape  \\\n",
       "1455  1456          60       RL         62.0     7917   Pave   NaN      Reg   \n",
       "1456  1457          20       RL         85.0    13175   Pave   NaN      Reg   \n",
       "1457  1458          70       RL         66.0     9042   Pave   NaN      Reg   \n",
       "1458  1459          20       RL         68.0     9717   Pave   NaN      Reg   \n",
       "1459  1460          20       RL         75.0     9937   Pave   NaN      Reg   \n",
       "\n",
       "     LandContour Utilities    ...     PoolArea PoolQC  Fence MiscFeature  \\\n",
       "1455         Lvl    AllPub    ...            0    NaN    NaN         NaN   \n",
       "1456         Lvl    AllPub    ...            0    NaN  MnPrv         NaN   \n",
       "1457         Lvl    AllPub    ...            0    NaN  GdPrv        Shed   \n",
       "1458         Lvl    AllPub    ...            0    NaN    NaN         NaN   \n",
       "1459         Lvl    AllPub    ...            0    NaN    NaN         NaN   \n",
       "\n",
       "     MiscVal MoSold YrSold  SaleType  SaleCondition  SalePrice  \n",
       "1455       0      8   2007        WD         Normal     175000  \n",
       "1456       0      2   2010        WD         Normal     210000  \n",
       "1457    2500      5   2010        WD         Normal     266500  \n",
       "1458       0      4   2010        WD         Normal     142125  \n",
       "1459       0      6   2008        WD         Normal     147500  \n",
       "\n",
       "[5 rows x 81 columns]"
      ]
     },
     "execution_count": 6,
     "metadata": {},
     "output_type": "execute_result"
    }
   ],
   "source": [
    "train.tail()"
   ]
  },
  {
   "cell_type": "code",
   "execution_count": 7,
   "metadata": {},
   "outputs": [
    {
     "data": {
      "text/html": [
       "<div>\n",
       "<style scoped>\n",
       "    .dataframe tbody tr th:only-of-type {\n",
       "        vertical-align: middle;\n",
       "    }\n",
       "\n",
       "    .dataframe tbody tr th {\n",
       "        vertical-align: top;\n",
       "    }\n",
       "\n",
       "    .dataframe thead th {\n",
       "        text-align: right;\n",
       "    }\n",
       "</style>\n",
       "<table border=\"1\" class=\"dataframe\">\n",
       "  <thead>\n",
       "    <tr style=\"text-align: right;\">\n",
       "      <th></th>\n",
       "      <th>Id</th>\n",
       "      <th>MSSubClass</th>\n",
       "      <th>MSZoning</th>\n",
       "      <th>LotFrontage</th>\n",
       "      <th>LotArea</th>\n",
       "      <th>Street</th>\n",
       "      <th>Alley</th>\n",
       "      <th>LotShape</th>\n",
       "      <th>LandContour</th>\n",
       "      <th>Utilities</th>\n",
       "      <th>...</th>\n",
       "      <th>ScreenPorch</th>\n",
       "      <th>PoolArea</th>\n",
       "      <th>PoolQC</th>\n",
       "      <th>Fence</th>\n",
       "      <th>MiscFeature</th>\n",
       "      <th>MiscVal</th>\n",
       "      <th>MoSold</th>\n",
       "      <th>YrSold</th>\n",
       "      <th>SaleType</th>\n",
       "      <th>SaleCondition</th>\n",
       "    </tr>\n",
       "  </thead>\n",
       "  <tbody>\n",
       "    <tr>\n",
       "      <th>1454</th>\n",
       "      <td>2915</td>\n",
       "      <td>160</td>\n",
       "      <td>RM</td>\n",
       "      <td>21.0</td>\n",
       "      <td>1936</td>\n",
       "      <td>Pave</td>\n",
       "      <td>NaN</td>\n",
       "      <td>Reg</td>\n",
       "      <td>Lvl</td>\n",
       "      <td>AllPub</td>\n",
       "      <td>...</td>\n",
       "      <td>0</td>\n",
       "      <td>0</td>\n",
       "      <td>NaN</td>\n",
       "      <td>NaN</td>\n",
       "      <td>NaN</td>\n",
       "      <td>0</td>\n",
       "      <td>6</td>\n",
       "      <td>2006</td>\n",
       "      <td>WD</td>\n",
       "      <td>Normal</td>\n",
       "    </tr>\n",
       "    <tr>\n",
       "      <th>1455</th>\n",
       "      <td>2916</td>\n",
       "      <td>160</td>\n",
       "      <td>RM</td>\n",
       "      <td>21.0</td>\n",
       "      <td>1894</td>\n",
       "      <td>Pave</td>\n",
       "      <td>NaN</td>\n",
       "      <td>Reg</td>\n",
       "      <td>Lvl</td>\n",
       "      <td>AllPub</td>\n",
       "      <td>...</td>\n",
       "      <td>0</td>\n",
       "      <td>0</td>\n",
       "      <td>NaN</td>\n",
       "      <td>NaN</td>\n",
       "      <td>NaN</td>\n",
       "      <td>0</td>\n",
       "      <td>4</td>\n",
       "      <td>2006</td>\n",
       "      <td>WD</td>\n",
       "      <td>Abnorml</td>\n",
       "    </tr>\n",
       "    <tr>\n",
       "      <th>1456</th>\n",
       "      <td>2917</td>\n",
       "      <td>20</td>\n",
       "      <td>RL</td>\n",
       "      <td>160.0</td>\n",
       "      <td>20000</td>\n",
       "      <td>Pave</td>\n",
       "      <td>NaN</td>\n",
       "      <td>Reg</td>\n",
       "      <td>Lvl</td>\n",
       "      <td>AllPub</td>\n",
       "      <td>...</td>\n",
       "      <td>0</td>\n",
       "      <td>0</td>\n",
       "      <td>NaN</td>\n",
       "      <td>NaN</td>\n",
       "      <td>NaN</td>\n",
       "      <td>0</td>\n",
       "      <td>9</td>\n",
       "      <td>2006</td>\n",
       "      <td>WD</td>\n",
       "      <td>Abnorml</td>\n",
       "    </tr>\n",
       "    <tr>\n",
       "      <th>1457</th>\n",
       "      <td>2918</td>\n",
       "      <td>85</td>\n",
       "      <td>RL</td>\n",
       "      <td>62.0</td>\n",
       "      <td>10441</td>\n",
       "      <td>Pave</td>\n",
       "      <td>NaN</td>\n",
       "      <td>Reg</td>\n",
       "      <td>Lvl</td>\n",
       "      <td>AllPub</td>\n",
       "      <td>...</td>\n",
       "      <td>0</td>\n",
       "      <td>0</td>\n",
       "      <td>NaN</td>\n",
       "      <td>MnPrv</td>\n",
       "      <td>Shed</td>\n",
       "      <td>700</td>\n",
       "      <td>7</td>\n",
       "      <td>2006</td>\n",
       "      <td>WD</td>\n",
       "      <td>Normal</td>\n",
       "    </tr>\n",
       "    <tr>\n",
       "      <th>1458</th>\n",
       "      <td>2919</td>\n",
       "      <td>60</td>\n",
       "      <td>RL</td>\n",
       "      <td>74.0</td>\n",
       "      <td>9627</td>\n",
       "      <td>Pave</td>\n",
       "      <td>NaN</td>\n",
       "      <td>Reg</td>\n",
       "      <td>Lvl</td>\n",
       "      <td>AllPub</td>\n",
       "      <td>...</td>\n",
       "      <td>0</td>\n",
       "      <td>0</td>\n",
       "      <td>NaN</td>\n",
       "      <td>NaN</td>\n",
       "      <td>NaN</td>\n",
       "      <td>0</td>\n",
       "      <td>11</td>\n",
       "      <td>2006</td>\n",
       "      <td>WD</td>\n",
       "      <td>Normal</td>\n",
       "    </tr>\n",
       "  </tbody>\n",
       "</table>\n",
       "<p>5 rows × 80 columns</p>\n",
       "</div>"
      ],
      "text/plain": [
       "        Id  MSSubClass MSZoning  LotFrontage  LotArea Street Alley LotShape  \\\n",
       "1454  2915         160       RM         21.0     1936   Pave   NaN      Reg   \n",
       "1455  2916         160       RM         21.0     1894   Pave   NaN      Reg   \n",
       "1456  2917          20       RL        160.0    20000   Pave   NaN      Reg   \n",
       "1457  2918          85       RL         62.0    10441   Pave   NaN      Reg   \n",
       "1458  2919          60       RL         74.0     9627   Pave   NaN      Reg   \n",
       "\n",
       "     LandContour Utilities      ...       ScreenPorch PoolArea PoolQC  Fence  \\\n",
       "1454         Lvl    AllPub      ...                 0        0    NaN    NaN   \n",
       "1455         Lvl    AllPub      ...                 0        0    NaN    NaN   \n",
       "1456         Lvl    AllPub      ...                 0        0    NaN    NaN   \n",
       "1457         Lvl    AllPub      ...                 0        0    NaN  MnPrv   \n",
       "1458         Lvl    AllPub      ...                 0        0    NaN    NaN   \n",
       "\n",
       "     MiscFeature MiscVal MoSold  YrSold  SaleType  SaleCondition  \n",
       "1454         NaN       0      6    2006        WD         Normal  \n",
       "1455         NaN       0      4    2006        WD        Abnorml  \n",
       "1456         NaN       0      9    2006        WD        Abnorml  \n",
       "1457        Shed     700      7    2006        WD         Normal  \n",
       "1458         NaN       0     11    2006        WD         Normal  \n",
       "\n",
       "[5 rows x 80 columns]"
      ]
     },
     "execution_count": 7,
     "metadata": {},
     "output_type": "execute_result"
    }
   ],
   "source": [
    "test.tail()"
   ]
  },
  {
   "cell_type": "code",
   "execution_count": 8,
   "metadata": {},
   "outputs": [
    {
     "name": "stdout",
     "output_type": "stream",
     "text": [
      "(1460, 81)\n",
      "(1459, 80)\n"
     ]
    }
   ],
   "source": [
    "print(train.shape)\n",
    "print(test.shape)"
   ]
  },
  {
   "cell_type": "markdown",
   "metadata": {},
   "source": [
    "<br>\n",
    "# Part Two: Data Preparation & Data Cleaning"
   ]
  },
  {
   "cell_type": "markdown",
   "metadata": {},
   "source": [
    "![title](img/data_preparation.png \"ShowMyImage\")"
   ]
  },
  {
   "cell_type": "markdown",
   "metadata": {},
   "source": [
    "## 1. Target Variable Transformation"
   ]
  },
  {
   "cell_type": "code",
   "execution_count": 9,
   "metadata": {},
   "outputs": [
    {
     "data": {
      "text/plain": [
       "count      1460.000000\n",
       "mean     180921.195890\n",
       "std       79442.502883\n",
       "min       34900.000000\n",
       "25%      129975.000000\n",
       "50%      163000.000000\n",
       "75%      214000.000000\n",
       "max      755000.000000\n",
       "Name: SalePrice, dtype: float64"
      ]
     },
     "execution_count": 9,
     "metadata": {},
     "output_type": "execute_result"
    }
   ],
   "source": [
    "train['SalePrice'].describe()"
   ]
  },
  {
   "cell_type": "code",
   "execution_count": 10,
   "metadata": {},
   "outputs": [
    {
     "data": {
      "text/plain": [
       "[<matplotlib.lines.Line2D at 0x1a0b4a3780>]"
      ]
     },
     "execution_count": 10,
     "metadata": {},
     "output_type": "execute_result"
    },
    {
     "data": {
      "image/png": "[encoded data removed]",
      "text/plain": [
       "<matplotlib.figure.Figure at 0x1a0b3d6278>"
      ]
     },
     "metadata": {},
     "output_type": "display_data"
    }
   ],
   "source": [
    "price=train['SalePrice'].value_counts().sort_index()\n",
    "plt. plot(price,color = 'salmon')"
   ]
  },
  {
   "cell_type": "markdown",
   "metadata": {},
   "source": [
    "<div class=\"alert alert-block alert-warning\">\n",
    "<font color='red'>From the distribution plot, we see the distribution of SalePrice is right skewed. </font>"
   ]
  },
  {
   "cell_type": "code",
   "execution_count": 11,
   "metadata": {},
   "outputs": [
    {
     "data": {
      "image/png": "[encoded data removed]",
      "text/plain": [
       "<matplotlib.figure.Figure at 0x1a0b4ca278>"
      ]
     },
     "metadata": {},
     "output_type": "display_data"
    }
   ],
   "source": [
    "#Get also the QQ-plot\n",
    "fig = plt.figure()\n",
    "res = stats.probplot(train['SalePrice'], plot=plt)"
   ]
  },
  {
   "cell_type": "markdown",
   "metadata": {},
   "source": [
    "<div class=\"alert alert-block alert-warning\">\n",
    "<font color='red'>From the probability plot, we see the plot is not fit. \n",
    "<br>\n",
    "So we need to fix this problem. One way to fix this problem is to do the log transformation on our target variable. </font>"
   ]
  },
  {
   "cell_type": "code",
   "execution_count": 12,
   "metadata": {},
   "outputs": [],
   "source": [
    "train[\"SalePrice\"] = np.log1p(train[\"SalePrice\"])"
   ]
  },
  {
   "cell_type": "code",
   "execution_count": 13,
   "metadata": {},
   "outputs": [
    {
     "data": {
      "text/plain": [
       "[<matplotlib.lines.Line2D at 0x1a152bf668>]"
      ]
     },
     "execution_count": 13,
     "metadata": {},
     "output_type": "execute_result"
    },
    {
     "data": {
      "image/png": "[encoded data removed]",
      "text/plain": [
       "<matplotlib.figure.Figure at 0x1a0bc535c0>"
      ]
     },
     "metadata": {},
     "output_type": "display_data"
    }
   ],
   "source": [
    "price=train['SalePrice'].value_counts().sort_index()\n",
    "plt. plot(price,color='salmon')"
   ]
  },
  {
   "cell_type": "code",
   "execution_count": 14,
   "metadata": {},
   "outputs": [
    {
     "data": {
      "image/png": "[encoded data removed]",
      "text/plain": [
       "<matplotlib.figure.Figure at 0x1a1523d668>"
      ]
     },
     "metadata": {},
     "output_type": "display_data"
    }
   ],
   "source": [
    "fig = plt.figure()\n",
    "res = stats.probplot(train['SalePrice'], plot=plt)"
   ]
  },
  {
   "cell_type": "markdown",
   "metadata": {},
   "source": [
    "<div class=\"alert alert-block alert-info\">\n",
    "<font color='green'>Now we get rid of the skewness problem, and the plot seems better and fit for linear model.</font>"
   ]
  },
  {
   "cell_type": "markdown",
   "metadata": {},
   "source": [
    "## 2. Look at the Correlation & Outliers"
   ]
  },
  {
   "cell_type": "code",
   "execution_count": 15,
   "metadata": {},
   "outputs": [
    {
     "data": {
      "text/plain": [
       "<matplotlib.axes._subplots.AxesSubplot at 0x1a152fde10>"
      ]
     },
     "execution_count": 15,
     "metadata": {},
     "output_type": "execute_result"
    },
    {
     "data": {
      "image/png": "[encoded data removed]",
      "text/plain": [
       "<matplotlib.figure.Figure at 0x1a1537b6d8>"
      ]
     },
     "metadata": {},
     "output_type": "display_data"
    }
   ],
   "source": [
    "corrmat = train.corr()\n",
    "plt.subplots(figsize=(12,9))\n",
    "sns.heatmap(corrmat, vmax=1, linewidths=.5,square=True, cmap=\"RdPu\")"
   ]
  },
  {
   "cell_type": "markdown",
   "metadata": {},
   "source": [
    "<div class=\"alert alert-block alert-info\">\n",
    "<font color='green'>From the above correlation heatmap, we see that the OverallQual seems highly correlated with our target variable SalePrice. \n",
    "<br>\n",
    "So, we need to futher look at this variable. \n",
    "<br>\n",
    "Notice that we also look at other vairables, but we found these two variables are most interested to us.\n",
    "</font>"
   ]
  },
  {
   "cell_type": "code",
   "execution_count": 16,
   "metadata": {},
   "outputs": [
    {
     "data": {
      "image/png": "[encoded data removed]",
      "text/plain": [
       "<matplotlib.figure.Figure at 0x1a0bcfc438>"
      ]
     },
     "metadata": {},
     "output_type": "display_data"
    }
   ],
   "source": [
    "fig, ax = plt.subplots()\n",
    "ax.scatter(x = train['OverallQual'], y = train['SalePrice'], color='pink')\n",
    "plt.ylabel('SalePrice', fontsize=15)\n",
    "plt.xlabel('OverallQual', fontsize=15)\n",
    "plt.show()"
   ]
  },
  {
   "cell_type": "markdown",
   "metadata": {},
   "source": [
    "<div class=\"alert alert-block alert-info\">\n",
    "<font color='green'>The GrLivArea also seems highly correlated with SalePrice.</font>"
   ]
  },
  {
   "cell_type": "code",
   "execution_count": 17,
   "metadata": {},
   "outputs": [
    {
     "data": {
      "image/png": "[encoded data removed]",
      "text/plain": [
       "<matplotlib.figure.Figure at 0x1a15653438>"
      ]
     },
     "metadata": {},
     "output_type": "display_data"
    }
   ],
   "source": [
    "fig, ax = plt.subplots()\n",
    "ax.scatter(x = train['GrLivArea'], y = train['SalePrice'],color='pink')\n",
    "plt.ylabel('SalePrice', fontsize=15)\n",
    "plt.xlabel('GrLivArea', fontsize=15)\n",
    "plt.show()"
   ]
  },
  {
   "cell_type": "markdown",
   "metadata": {},
   "source": [
    "<div class=\"alert alert-block alert-warning\">\n",
    "<font color='red'>GrLivArea means the above grade (ground) living area square feet. \n",
    "<br>\n",
    "After futher look at this variable, we found that there are two outliers (the larger area square feet but low saleprice), so we should exclude the outliers.</font>"
   ]
  },
  {
   "cell_type": "code",
   "execution_count": 18,
   "metadata": {},
   "outputs": [],
   "source": [
    "train = train.drop(train[(train['GrLivArea']>4000) & (train['SalePrice']<12.5)].index)"
   ]
  },
  {
   "cell_type": "code",
   "execution_count": 19,
   "metadata": {},
   "outputs": [
    {
     "data": {
      "image/png": "[encoded data removed]",
      "text/plain": [
       "<matplotlib.figure.Figure at 0x1a158ec3c8>"
      ]
     },
     "metadata": {},
     "output_type": "display_data"
    }
   ],
   "source": [
    "fig, ax = plt.subplots()\n",
    "ax.scatter(x = train['GrLivArea'], y = train['SalePrice'],color='pink')\n",
    "plt.ylabel('SalePrice', fontsize=15)\n",
    "plt.xlabel('GrLivArea', fontsize=15)\n",
    "plt.show()"
   ]
  },
  {
   "cell_type": "markdown",
   "metadata": {},
   "source": [
    "<div class=\"alert alert-block alert-info\">\n",
    "<font color='green'>Now we can see from the plot, we dropped that two outliers.</font>"
   ]
  },
  {
   "cell_type": "markdown",
   "metadata": {},
   "source": [
    "## 3. Split into to train and validation (Before Doing Feature Engineering!!!)"
   ]
  },
  {
   "cell_type": "markdown",
   "metadata": {},
   "source": [
    "<div class=\"alert alert-block alert-success\">\n",
    "<font color='darkblue'>We dececided to split our train data into two parts: </font>\n",
    "\n",
    "-  <font color='darkblue'>train </font>\n",
    "-  <font color='darkblue'>validation </font>"
   ]
  },
  {
   "cell_type": "code",
   "execution_count": 20,
   "metadata": {},
   "outputs": [],
   "source": [
    "train1 = train[:1000]\n",
    "validation = train[1000:]"
   ]
  },
  {
   "cell_type": "code",
   "execution_count": 21,
   "metadata": {},
   "outputs": [
    {
     "name": "stdout",
     "output_type": "stream",
     "text": [
      "(1000, 81)\n",
      "(458, 81)\n"
     ]
    }
   ],
   "source": [
    "print(train1.shape)\n",
    "print(validation.shape)"
   ]
  },
  {
   "cell_type": "markdown",
   "metadata": {},
   "source": [
    "## 4. Independent variables selection and inputing"
   ]
  },
  {
   "cell_type": "markdown",
   "metadata": {},
   "source": [
    "![title](img/dataclean.jpg \"ShowMyImage\")"
   ]
  },
  {
   "cell_type": "markdown",
   "metadata": {},
   "source": [
    "**(1) Missing Value (NA)**"
   ]
  },
  {
   "cell_type": "markdown",
   "metadata": {},
   "source": [
    "![title](img/missa.png \"ShowMyImage\")"
   ]
  },
  {
   "cell_type": "code",
   "execution_count": 22,
   "metadata": {},
   "outputs": [
    {
     "data": {
      "text/html": [
       "<div>\n",
       "<style scoped>\n",
       "    .dataframe tbody tr th:only-of-type {\n",
       "        vertical-align: middle;\n",
       "    }\n",
       "\n",
       "    .dataframe tbody tr th {\n",
       "        vertical-align: top;\n",
       "    }\n",
       "\n",
       "    .dataframe thead th {\n",
       "        text-align: right;\n",
       "    }\n",
       "</style>\n",
       "<table border=\"1\" class=\"dataframe\">\n",
       "  <thead>\n",
       "    <tr style=\"text-align: right;\">\n",
       "      <th></th>\n",
       "      <th>Total</th>\n",
       "      <th>Percent</th>\n",
       "    </tr>\n",
       "  </thead>\n",
       "  <tbody>\n",
       "    <tr>\n",
       "      <th>PoolQC</th>\n",
       "      <td>998</td>\n",
       "      <td>0.998</td>\n",
       "    </tr>\n",
       "    <tr>\n",
       "      <th>MiscFeature</th>\n",
       "      <td>957</td>\n",
       "      <td>0.957</td>\n",
       "    </tr>\n",
       "    <tr>\n",
       "      <th>Alley</th>\n",
       "      <td>935</td>\n",
       "      <td>0.935</td>\n",
       "    </tr>\n",
       "    <tr>\n",
       "      <th>Fence</th>\n",
       "      <td>806</td>\n",
       "      <td>0.806</td>\n",
       "    </tr>\n",
       "    <tr>\n",
       "      <th>FireplaceQu</th>\n",
       "      <td>479</td>\n",
       "      <td>0.479</td>\n",
       "    </tr>\n",
       "    <tr>\n",
       "      <th>LotFrontage</th>\n",
       "      <td>173</td>\n",
       "      <td>0.173</td>\n",
       "    </tr>\n",
       "    <tr>\n",
       "      <th>GarageType</th>\n",
       "      <td>56</td>\n",
       "      <td>0.056</td>\n",
       "    </tr>\n",
       "    <tr>\n",
       "      <th>GarageCond</th>\n",
       "      <td>56</td>\n",
       "      <td>0.056</td>\n",
       "    </tr>\n",
       "    <tr>\n",
       "      <th>GarageYrBlt</th>\n",
       "      <td>56</td>\n",
       "      <td>0.056</td>\n",
       "    </tr>\n",
       "    <tr>\n",
       "      <th>GarageFinish</th>\n",
       "      <td>56</td>\n",
       "      <td>0.056</td>\n",
       "    </tr>\n",
       "    <tr>\n",
       "      <th>GarageQual</th>\n",
       "      <td>56</td>\n",
       "      <td>0.056</td>\n",
       "    </tr>\n",
       "    <tr>\n",
       "      <th>BsmtExposure</th>\n",
       "      <td>26</td>\n",
       "      <td>0.026</td>\n",
       "    </tr>\n",
       "    <tr>\n",
       "      <th>BsmtFinType2</th>\n",
       "      <td>26</td>\n",
       "      <td>0.026</td>\n",
       "    </tr>\n",
       "    <tr>\n",
       "      <th>BsmtFinType1</th>\n",
       "      <td>25</td>\n",
       "      <td>0.025</td>\n",
       "    </tr>\n",
       "    <tr>\n",
       "      <th>BsmtCond</th>\n",
       "      <td>25</td>\n",
       "      <td>0.025</td>\n",
       "    </tr>\n",
       "    <tr>\n",
       "      <th>BsmtQual</th>\n",
       "      <td>25</td>\n",
       "      <td>0.025</td>\n",
       "    </tr>\n",
       "    <tr>\n",
       "      <th>MasVnrArea</th>\n",
       "      <td>6</td>\n",
       "      <td>0.006</td>\n",
       "    </tr>\n",
       "    <tr>\n",
       "      <th>MasVnrType</th>\n",
       "      <td>6</td>\n",
       "      <td>0.006</td>\n",
       "    </tr>\n",
       "    <tr>\n",
       "      <th>Exterior2nd</th>\n",
       "      <td>0</td>\n",
       "      <td>0.000</td>\n",
       "    </tr>\n",
       "    <tr>\n",
       "      <th>Exterior1st</th>\n",
       "      <td>0</td>\n",
       "      <td>0.000</td>\n",
       "    </tr>\n",
       "    <tr>\n",
       "      <th>OverallCond</th>\n",
       "      <td>0</td>\n",
       "      <td>0.000</td>\n",
       "    </tr>\n",
       "    <tr>\n",
       "      <th>ExterQual</th>\n",
       "      <td>0</td>\n",
       "      <td>0.000</td>\n",
       "    </tr>\n",
       "    <tr>\n",
       "      <th>ExterCond</th>\n",
       "      <td>0</td>\n",
       "      <td>0.000</td>\n",
       "    </tr>\n",
       "    <tr>\n",
       "      <th>Foundation</th>\n",
       "      <td>0</td>\n",
       "      <td>0.000</td>\n",
       "    </tr>\n",
       "    <tr>\n",
       "      <th>RoofMatl</th>\n",
       "      <td>0</td>\n",
       "      <td>0.000</td>\n",
       "    </tr>\n",
       "    <tr>\n",
       "      <th>RoofStyle</th>\n",
       "      <td>0</td>\n",
       "      <td>0.000</td>\n",
       "    </tr>\n",
       "    <tr>\n",
       "      <th>YearRemodAdd</th>\n",
       "      <td>0</td>\n",
       "      <td>0.000</td>\n",
       "    </tr>\n",
       "    <tr>\n",
       "      <th>YearBuilt</th>\n",
       "      <td>0</td>\n",
       "      <td>0.000</td>\n",
       "    </tr>\n",
       "    <tr>\n",
       "      <th>SalePrice</th>\n",
       "      <td>0</td>\n",
       "      <td>0.000</td>\n",
       "    </tr>\n",
       "    <tr>\n",
       "      <th>OverallQual</th>\n",
       "      <td>0</td>\n",
       "      <td>0.000</td>\n",
       "    </tr>\n",
       "    <tr>\n",
       "      <th>HouseStyle</th>\n",
       "      <td>0</td>\n",
       "      <td>0.000</td>\n",
       "    </tr>\n",
       "    <tr>\n",
       "      <th>BldgType</th>\n",
       "      <td>0</td>\n",
       "      <td>0.000</td>\n",
       "    </tr>\n",
       "    <tr>\n",
       "      <th>Condition2</th>\n",
       "      <td>0</td>\n",
       "      <td>0.000</td>\n",
       "    </tr>\n",
       "    <tr>\n",
       "      <th>Condition1</th>\n",
       "      <td>0</td>\n",
       "      <td>0.000</td>\n",
       "    </tr>\n",
       "    <tr>\n",
       "      <th>Neighborhood</th>\n",
       "      <td>0</td>\n",
       "      <td>0.000</td>\n",
       "    </tr>\n",
       "  </tbody>\n",
       "</table>\n",
       "</div>"
      ],
      "text/plain": [
       "              Total  Percent\n",
       "PoolQC          998    0.998\n",
       "MiscFeature     957    0.957\n",
       "Alley           935    0.935\n",
       "Fence           806    0.806\n",
       "FireplaceQu     479    0.479\n",
       "LotFrontage     173    0.173\n",
       "GarageType       56    0.056\n",
       "GarageCond       56    0.056\n",
       "GarageYrBlt      56    0.056\n",
       "GarageFinish     56    0.056\n",
       "GarageQual       56    0.056\n",
       "BsmtExposure     26    0.026\n",
       "BsmtFinType2     26    0.026\n",
       "BsmtFinType1     25    0.025\n",
       "BsmtCond         25    0.025\n",
       "BsmtQual         25    0.025\n",
       "MasVnrArea        6    0.006\n",
       "MasVnrType        6    0.006\n",
       "Exterior2nd       0    0.000\n",
       "Exterior1st       0    0.000\n",
       "OverallCond       0    0.000\n",
       "ExterQual         0    0.000\n",
       "ExterCond         0    0.000\n",
       "Foundation        0    0.000\n",
       "RoofMatl          0    0.000\n",
       "RoofStyle         0    0.000\n",
       "YearRemodAdd      0    0.000\n",
       "YearBuilt         0    0.000\n",
       "SalePrice         0    0.000\n",
       "OverallQual       0    0.000\n",
       "HouseStyle        0    0.000\n",
       "BldgType          0    0.000\n",
       "Condition2        0    0.000\n",
       "Condition1        0    0.000\n",
       "Neighborhood      0    0.000"
      ]
     },
     "execution_count": 22,
     "metadata": {},
     "output_type": "execute_result"
    }
   ],
   "source": [
    "total = train1.isnull().sum().sort_values(ascending=False)\n",
    "percent = (train1.isnull().sum()/train1.isnull().count()).sort_values(ascending=False)\n",
    "missing_data = pd.concat([total, percent], axis=1, keys=['Total', 'Percent'])\n",
    "missing_data.head(35)"
   ]
  },
  {
   "cell_type": "markdown",
   "metadata": {},
   "source": [
    "<div class=\"alert alert-block alert-info\">\n",
    "<font color='green'>By looking our train data, we ranked our missing value (NA) from highest to lowest based on their total missing number. \n",
    "<br>\n",
    "We also show their percentage of missing by comparing each of them to the full_data. </font>\n",
    "\n",
    "***\n",
    "\n",
    "<font color='green'>Notice that the below bar chart shows the top 20 of missing value (NA) while the Y-axis is the percentage of missing and X-axis is the Variables' name. </font>"
   ]
  },
  {
   "cell_type": "code",
   "execution_count": 23,
   "metadata": {},
   "outputs": [
    {
     "data": {
      "text/plain": [
       "Text(0.5,1,'Percent missing data by feature')"
      ]
     },
     "execution_count": 23,
     "metadata": {},
     "output_type": "execute_result"
    },
    {
     "data": {
      "image/png": "[encoded data removed]",
      "text/plain": [
       "<matplotlib.figure.Figure at 0x1a156c8eb8>"
      ]
     },
     "metadata": {},
     "output_type": "display_data"
    }
   ],
   "source": [
    "ratio=percent.head(20)\n",
    "f, ax = plt.subplots(figsize=(15, 12))\n",
    "plt.xticks(rotation='90')\n",
    "sns.barplot(x=ratio.index, y=ratio,palette=\"Pastel1\")\n",
    "plt.xlabel('Features', fontsize=20)\n",
    "plt.ylabel('Percent of missing values', fontsize=20)\n",
    "plt.title('Percent missing data by feature', fontsize=30)"
   ]
  },
  {
   "cell_type": "markdown",
   "metadata": {},
   "source": [
    "<div class=\"alert alert-block alert-success\">\n",
    "<font color='darkblue'>(a) Based on the result we saw in our train data, we decided to drop the columns, which have more than 50% missing value in our train, validation, and test data sets.</font>"
   ]
  },
  {
   "cell_type": "code",
   "execution_count": 24,
   "metadata": {},
   "outputs": [],
   "source": [
    "train1=train1.drop(['PoolQC', 'MiscFeature', 'Alley','Fence'], axis=1)\n",
    "validation=validation.drop(['PoolQC', 'MiscFeature', 'Alley','Fence'], axis=1)\n",
    "test=test.drop(['PoolQC', 'MiscFeature', 'Alley','Fence'], axis=1)"
   ]
  },
  {
   "cell_type": "markdown",
   "metadata": {},
   "source": [
    "<div class=\"alert alert-block alert-success\">\n",
    "<font color='darkblue'> (b) For other columns in the train, test, and validation data sets, we considered each meaning of the variable based on their types.</font>\n",
    "\n",
    "-  <font color='darkblue'> For Categorical Variables, we fill the NA as 'N'. </font>\n",
    "\n",
    "-  <font color='darkblue'> For Nueric Variables, we fill the NA as '0'. </font>\n",
    "\n",
    "-  <font color='darkblue'> For other (some special column), we fill the NA as their most frequent value. </font>"
   ]
  },
  {
   "cell_type": "code",
   "execution_count": 25,
   "metadata": {},
   "outputs": [],
   "source": [
    "categorical_cols = ['FireplaceQu',\n",
    "            'GarageQual','GarageFinish','GarageCond','GarageType',\n",
    "            'BsmtCond','BsmtExposure','BsmtQual','BsmtFinType2','BsmtFinType1',\n",
    "            'MasVnrType']\n",
    "train1[categorical_cols] = train1[categorical_cols].fillna('N')\n",
    "validation[categorical_cols] = validation[categorical_cols].fillna('N')\n",
    "test[categorical_cols] = test[categorical_cols].fillna('N')"
   ]
  },
  {
   "cell_type": "code",
   "execution_count": 26,
   "metadata": {},
   "outputs": [],
   "source": [
    "numeric_cols = ['GarageYrBlt','GarageCars','GarageArea',\n",
    "       'BsmtFullBath','BsmtHalfBath','TotalBsmtSF','BsmtUnfSF','BsmtFinSF2','BsmtFinSF1',\n",
    "       'MasVnrArea']\n",
    "train1[numeric_cols] = train1[numeric_cols].fillna(0)\n",
    "validation[numeric_cols] = validation[numeric_cols].fillna(0)\n",
    "test[numeric_cols] = test[numeric_cols].fillna(0)"
   ]
  },
  {
   "cell_type": "code",
   "execution_count": 27,
   "metadata": {},
   "outputs": [],
   "source": [
    "#Variables: 'LotFontage', 'MSZoning','Electrical','Utilities', 'Functional''Exterior2nd','KitchenQual','Exterior1st','SaleType'\n",
    "train1=train1.apply(lambda x: x.fillna(x.value_counts().index[0]))\n",
    "validation=validation.apply(lambda x: x.fillna(x.value_counts().index[0]))\n",
    "test=test.apply(lambda x: x.fillna(x.value_counts().index[0]))"
   ]
  },
  {
   "cell_type": "markdown",
   "metadata": {},
   "source": [
    "<div class=\"alert alert-block alert-info\">\n",
    "<font color='green'> Now let's check our data after handing the missing value, we now see we have 0 missing value in our full_data. </font>"
   ]
  },
  {
   "cell_type": "code",
   "execution_count": 28,
   "metadata": {},
   "outputs": [
    {
     "data": {
      "text/plain": [
       "0"
      ]
     },
     "execution_count": 28,
     "metadata": {},
     "output_type": "execute_result"
    }
   ],
   "source": [
    "train1.isnull().values.ravel().sum()\n",
    "validation.isnull().values.ravel().sum()\n",
    "test.isnull().values.ravel().sum()"
   ]
  },
  {
   "cell_type": "code",
   "execution_count": 29,
   "metadata": {},
   "outputs": [
    {
     "data": {
      "text/html": [
       "<div>\n",
       "<style scoped>\n",
       "    .dataframe tbody tr th:only-of-type {\n",
       "        vertical-align: middle;\n",
       "    }\n",
       "\n",
       "    .dataframe tbody tr th {\n",
       "        vertical-align: top;\n",
       "    }\n",
       "\n",
       "    .dataframe thead th {\n",
       "        text-align: right;\n",
       "    }\n",
       "</style>\n",
       "<table border=\"1\" class=\"dataframe\">\n",
       "  <thead>\n",
       "    <tr style=\"text-align: right;\">\n",
       "      <th></th>\n",
       "      <th>Id</th>\n",
       "      <th>MSSubClass</th>\n",
       "      <th>MSZoning</th>\n",
       "      <th>LotFrontage</th>\n",
       "      <th>LotArea</th>\n",
       "      <th>Street</th>\n",
       "      <th>LotShape</th>\n",
       "      <th>LandContour</th>\n",
       "      <th>Utilities</th>\n",
       "      <th>LotConfig</th>\n",
       "      <th>...</th>\n",
       "      <th>EnclosedPorch</th>\n",
       "      <th>3SsnPorch</th>\n",
       "      <th>ScreenPorch</th>\n",
       "      <th>PoolArea</th>\n",
       "      <th>MiscVal</th>\n",
       "      <th>MoSold</th>\n",
       "      <th>YrSold</th>\n",
       "      <th>SaleType</th>\n",
       "      <th>SaleCondition</th>\n",
       "      <th>SalePrice</th>\n",
       "    </tr>\n",
       "  </thead>\n",
       "  <tbody>\n",
       "    <tr>\n",
       "      <th>0</th>\n",
       "      <td>1</td>\n",
       "      <td>60</td>\n",
       "      <td>RL</td>\n",
       "      <td>65.0</td>\n",
       "      <td>8450</td>\n",
       "      <td>Pave</td>\n",
       "      <td>Reg</td>\n",
       "      <td>Lvl</td>\n",
       "      <td>AllPub</td>\n",
       "      <td>Inside</td>\n",
       "      <td>...</td>\n",
       "      <td>0</td>\n",
       "      <td>0</td>\n",
       "      <td>0</td>\n",
       "      <td>0</td>\n",
       "      <td>0</td>\n",
       "      <td>2</td>\n",
       "      <td>2008</td>\n",
       "      <td>WD</td>\n",
       "      <td>Normal</td>\n",
       "      <td>12.247699</td>\n",
       "    </tr>\n",
       "    <tr>\n",
       "      <th>1</th>\n",
       "      <td>2</td>\n",
       "      <td>20</td>\n",
       "      <td>RL</td>\n",
       "      <td>80.0</td>\n",
       "      <td>9600</td>\n",
       "      <td>Pave</td>\n",
       "      <td>Reg</td>\n",
       "      <td>Lvl</td>\n",
       "      <td>AllPub</td>\n",
       "      <td>FR2</td>\n",
       "      <td>...</td>\n",
       "      <td>0</td>\n",
       "      <td>0</td>\n",
       "      <td>0</td>\n",
       "      <td>0</td>\n",
       "      <td>0</td>\n",
       "      <td>5</td>\n",
       "      <td>2007</td>\n",
       "      <td>WD</td>\n",
       "      <td>Normal</td>\n",
       "      <td>12.109016</td>\n",
       "    </tr>\n",
       "    <tr>\n",
       "      <th>2</th>\n",
       "      <td>3</td>\n",
       "      <td>60</td>\n",
       "      <td>RL</td>\n",
       "      <td>68.0</td>\n",
       "      <td>11250</td>\n",
       "      <td>Pave</td>\n",
       "      <td>IR1</td>\n",
       "      <td>Lvl</td>\n",
       "      <td>AllPub</td>\n",
       "      <td>Inside</td>\n",
       "      <td>...</td>\n",
       "      <td>0</td>\n",
       "      <td>0</td>\n",
       "      <td>0</td>\n",
       "      <td>0</td>\n",
       "      <td>0</td>\n",
       "      <td>9</td>\n",
       "      <td>2008</td>\n",
       "      <td>WD</td>\n",
       "      <td>Normal</td>\n",
       "      <td>12.317171</td>\n",
       "    </tr>\n",
       "    <tr>\n",
       "      <th>3</th>\n",
       "      <td>4</td>\n",
       "      <td>70</td>\n",
       "      <td>RL</td>\n",
       "      <td>60.0</td>\n",
       "      <td>9550</td>\n",
       "      <td>Pave</td>\n",
       "      <td>IR1</td>\n",
       "      <td>Lvl</td>\n",
       "      <td>AllPub</td>\n",
       "      <td>Corner</td>\n",
       "      <td>...</td>\n",
       "      <td>272</td>\n",
       "      <td>0</td>\n",
       "      <td>0</td>\n",
       "      <td>0</td>\n",
       "      <td>0</td>\n",
       "      <td>2</td>\n",
       "      <td>2006</td>\n",
       "      <td>WD</td>\n",
       "      <td>Abnorml</td>\n",
       "      <td>11.849405</td>\n",
       "    </tr>\n",
       "    <tr>\n",
       "      <th>4</th>\n",
       "      <td>5</td>\n",
       "      <td>60</td>\n",
       "      <td>RL</td>\n",
       "      <td>84.0</td>\n",
       "      <td>14260</td>\n",
       "      <td>Pave</td>\n",
       "      <td>IR1</td>\n",
       "      <td>Lvl</td>\n",
       "      <td>AllPub</td>\n",
       "      <td>FR2</td>\n",
       "      <td>...</td>\n",
       "      <td>0</td>\n",
       "      <td>0</td>\n",
       "      <td>0</td>\n",
       "      <td>0</td>\n",
       "      <td>0</td>\n",
       "      <td>12</td>\n",
       "      <td>2008</td>\n",
       "      <td>WD</td>\n",
       "      <td>Normal</td>\n",
       "      <td>12.429220</td>\n",
       "    </tr>\n",
       "  </tbody>\n",
       "</table>\n",
       "<p>5 rows × 77 columns</p>\n",
       "</div>"
      ],
      "text/plain": [
       "   Id  MSSubClass MSZoning  LotFrontage  LotArea Street LotShape LandContour  \\\n",
       "0   1          60       RL         65.0     8450   Pave      Reg         Lvl   \n",
       "1   2          20       RL         80.0     9600   Pave      Reg         Lvl   \n",
       "2   3          60       RL         68.0    11250   Pave      IR1         Lvl   \n",
       "3   4          70       RL         60.0     9550   Pave      IR1         Lvl   \n",
       "4   5          60       RL         84.0    14260   Pave      IR1         Lvl   \n",
       "\n",
       "  Utilities LotConfig    ...     EnclosedPorch 3SsnPorch ScreenPorch PoolArea  \\\n",
       "0    AllPub    Inside    ...                 0         0           0        0   \n",
       "1    AllPub       FR2    ...                 0         0           0        0   \n",
       "2    AllPub    Inside    ...                 0         0           0        0   \n",
       "3    AllPub    Corner    ...               272         0           0        0   \n",
       "4    AllPub       FR2    ...                 0         0           0        0   \n",
       "\n",
       "  MiscVal MoSold  YrSold  SaleType  SaleCondition  SalePrice  \n",
       "0       0      2    2008        WD         Normal  12.247699  \n",
       "1       0      5    2007        WD         Normal  12.109016  \n",
       "2       0      9    2008        WD         Normal  12.317171  \n",
       "3       0      2    2006        WD        Abnorml  11.849405  \n",
       "4       0     12    2008        WD         Normal  12.429220  \n",
       "\n",
       "[5 rows x 77 columns]"
      ]
     },
     "execution_count": 29,
     "metadata": {},
     "output_type": "execute_result"
    }
   ],
   "source": [
    "train1.head()"
   ]
  },
  {
   "cell_type": "code",
   "execution_count": 30,
   "metadata": {},
   "outputs": [
    {
     "data": {
      "text/html": [
       "<div>\n",
       "<style scoped>\n",
       "    .dataframe tbody tr th:only-of-type {\n",
       "        vertical-align: middle;\n",
       "    }\n",
       "\n",
       "    .dataframe tbody tr th {\n",
       "        vertical-align: top;\n",
       "    }\n",
       "\n",
       "    .dataframe thead th {\n",
       "        text-align: right;\n",
       "    }\n",
       "</style>\n",
       "<table border=\"1\" class=\"dataframe\">\n",
       "  <thead>\n",
       "    <tr style=\"text-align: right;\">\n",
       "      <th></th>\n",
       "      <th>Id</th>\n",
       "      <th>MSSubClass</th>\n",
       "      <th>MSZoning</th>\n",
       "      <th>LotFrontage</th>\n",
       "      <th>LotArea</th>\n",
       "      <th>Street</th>\n",
       "      <th>LotShape</th>\n",
       "      <th>LandContour</th>\n",
       "      <th>Utilities</th>\n",
       "      <th>LotConfig</th>\n",
       "      <th>...</th>\n",
       "      <th>EnclosedPorch</th>\n",
       "      <th>3SsnPorch</th>\n",
       "      <th>ScreenPorch</th>\n",
       "      <th>PoolArea</th>\n",
       "      <th>MiscVal</th>\n",
       "      <th>MoSold</th>\n",
       "      <th>YrSold</th>\n",
       "      <th>SaleType</th>\n",
       "      <th>SaleCondition</th>\n",
       "      <th>SalePrice</th>\n",
       "    </tr>\n",
       "  </thead>\n",
       "  <tbody>\n",
       "    <tr>\n",
       "      <th>1001</th>\n",
       "      <td>1002</td>\n",
       "      <td>30</td>\n",
       "      <td>RL</td>\n",
       "      <td>60.0</td>\n",
       "      <td>5400</td>\n",
       "      <td>Pave</td>\n",
       "      <td>Reg</td>\n",
       "      <td>Lvl</td>\n",
       "      <td>AllPub</td>\n",
       "      <td>Corner</td>\n",
       "      <td>...</td>\n",
       "      <td>94</td>\n",
       "      <td>0</td>\n",
       "      <td>0</td>\n",
       "      <td>0</td>\n",
       "      <td>0</td>\n",
       "      <td>1</td>\n",
       "      <td>2007</td>\n",
       "      <td>WD</td>\n",
       "      <td>Abnorml</td>\n",
       "      <td>11.362114</td>\n",
       "    </tr>\n",
       "    <tr>\n",
       "      <th>1002</th>\n",
       "      <td>1003</td>\n",
       "      <td>20</td>\n",
       "      <td>RL</td>\n",
       "      <td>75.0</td>\n",
       "      <td>11957</td>\n",
       "      <td>Pave</td>\n",
       "      <td>IR1</td>\n",
       "      <td>Lvl</td>\n",
       "      <td>AllPub</td>\n",
       "      <td>Inside</td>\n",
       "      <td>...</td>\n",
       "      <td>0</td>\n",
       "      <td>0</td>\n",
       "      <td>0</td>\n",
       "      <td>0</td>\n",
       "      <td>0</td>\n",
       "      <td>7</td>\n",
       "      <td>2008</td>\n",
       "      <td>WD</td>\n",
       "      <td>Normal</td>\n",
       "      <td>12.354497</td>\n",
       "    </tr>\n",
       "    <tr>\n",
       "      <th>1003</th>\n",
       "      <td>1004</td>\n",
       "      <td>90</td>\n",
       "      <td>RL</td>\n",
       "      <td>60.0</td>\n",
       "      <td>11500</td>\n",
       "      <td>Pave</td>\n",
       "      <td>IR1</td>\n",
       "      <td>Lvl</td>\n",
       "      <td>AllPub</td>\n",
       "      <td>Corner</td>\n",
       "      <td>...</td>\n",
       "      <td>0</td>\n",
       "      <td>0</td>\n",
       "      <td>0</td>\n",
       "      <td>0</td>\n",
       "      <td>0</td>\n",
       "      <td>6</td>\n",
       "      <td>2007</td>\n",
       "      <td>WD</td>\n",
       "      <td>Normal</td>\n",
       "      <td>11.827050</td>\n",
       "    </tr>\n",
       "    <tr>\n",
       "      <th>1004</th>\n",
       "      <td>1005</td>\n",
       "      <td>120</td>\n",
       "      <td>RL</td>\n",
       "      <td>43.0</td>\n",
       "      <td>3182</td>\n",
       "      <td>Pave</td>\n",
       "      <td>Reg</td>\n",
       "      <td>Lvl</td>\n",
       "      <td>AllPub</td>\n",
       "      <td>Inside</td>\n",
       "      <td>...</td>\n",
       "      <td>0</td>\n",
       "      <td>0</td>\n",
       "      <td>0</td>\n",
       "      <td>0</td>\n",
       "      <td>0</td>\n",
       "      <td>5</td>\n",
       "      <td>2009</td>\n",
       "      <td>WD</td>\n",
       "      <td>Normal</td>\n",
       "      <td>12.106258</td>\n",
       "    </tr>\n",
       "    <tr>\n",
       "      <th>1005</th>\n",
       "      <td>1006</td>\n",
       "      <td>80</td>\n",
       "      <td>RL</td>\n",
       "      <td>65.0</td>\n",
       "      <td>8385</td>\n",
       "      <td>Pave</td>\n",
       "      <td>Reg</td>\n",
       "      <td>Lvl</td>\n",
       "      <td>AllPub</td>\n",
       "      <td>Inside</td>\n",
       "      <td>...</td>\n",
       "      <td>0</td>\n",
       "      <td>0</td>\n",
       "      <td>0</td>\n",
       "      <td>0</td>\n",
       "      <td>0</td>\n",
       "      <td>11</td>\n",
       "      <td>2008</td>\n",
       "      <td>WD</td>\n",
       "      <td>Normal</td>\n",
       "      <td>11.917730</td>\n",
       "    </tr>\n",
       "  </tbody>\n",
       "</table>\n",
       "<p>5 rows × 77 columns</p>\n",
       "</div>"
      ],
      "text/plain": [
       "        Id  MSSubClass MSZoning  LotFrontage  LotArea Street LotShape  \\\n",
       "1001  1002          30       RL         60.0     5400   Pave      Reg   \n",
       "1002  1003          20       RL         75.0    11957   Pave      IR1   \n",
       "1003  1004          90       RL         60.0    11500   Pave      IR1   \n",
       "1004  1005         120       RL         43.0     3182   Pave      Reg   \n",
       "1005  1006          80       RL         65.0     8385   Pave      Reg   \n",
       "\n",
       "     LandContour Utilities LotConfig    ...     EnclosedPorch 3SsnPorch  \\\n",
       "1001         Lvl    AllPub    Corner    ...                94         0   \n",
       "1002         Lvl    AllPub    Inside    ...                 0         0   \n",
       "1003         Lvl    AllPub    Corner    ...                 0         0   \n",
       "1004         Lvl    AllPub    Inside    ...                 0         0   \n",
       "1005         Lvl    AllPub    Inside    ...                 0         0   \n",
       "\n",
       "     ScreenPorch PoolArea MiscVal MoSold  YrSold  SaleType  SaleCondition  \\\n",
       "1001           0        0       0      1    2007        WD        Abnorml   \n",
       "1002           0        0       0      7    2008        WD         Normal   \n",
       "1003           0        0       0      6    2007        WD         Normal   \n",
       "1004           0        0       0      5    2009        WD         Normal   \n",
       "1005           0        0       0     11    2008        WD         Normal   \n",
       "\n",
       "      SalePrice  \n",
       "1001  11.362114  \n",
       "1002  12.354497  \n",
       "1003  11.827050  \n",
       "1004  12.106258  \n",
       "1005  11.917730  \n",
       "\n",
       "[5 rows x 77 columns]"
      ]
     },
     "execution_count": 30,
     "metadata": {},
     "output_type": "execute_result"
    }
   ],
   "source": [
    "validation.head()"
   ]
  },
  {
   "cell_type": "code",
   "execution_count": 31,
   "metadata": {},
   "outputs": [
    {
     "data": {
      "text/html": [
       "<div>\n",
       "<style scoped>\n",
       "    .dataframe tbody tr th:only-of-type {\n",
       "        vertical-align: middle;\n",
       "    }\n",
       "\n",
       "    .dataframe tbody tr th {\n",
       "        vertical-align: top;\n",
       "    }\n",
       "\n",
       "    .dataframe thead th {\n",
       "        text-align: right;\n",
       "    }\n",
       "</style>\n",
       "<table border=\"1\" class=\"dataframe\">\n",
       "  <thead>\n",
       "    <tr style=\"text-align: right;\">\n",
       "      <th></th>\n",
       "      <th>Id</th>\n",
       "      <th>MSSubClass</th>\n",
       "      <th>MSZoning</th>\n",
       "      <th>LotFrontage</th>\n",
       "      <th>LotArea</th>\n",
       "      <th>Street</th>\n",
       "      <th>LotShape</th>\n",
       "      <th>LandContour</th>\n",
       "      <th>Utilities</th>\n",
       "      <th>LotConfig</th>\n",
       "      <th>...</th>\n",
       "      <th>OpenPorchSF</th>\n",
       "      <th>EnclosedPorch</th>\n",
       "      <th>3SsnPorch</th>\n",
       "      <th>ScreenPorch</th>\n",
       "      <th>PoolArea</th>\n",
       "      <th>MiscVal</th>\n",
       "      <th>MoSold</th>\n",
       "      <th>YrSold</th>\n",
       "      <th>SaleType</th>\n",
       "      <th>SaleCondition</th>\n",
       "    </tr>\n",
       "  </thead>\n",
       "  <tbody>\n",
       "    <tr>\n",
       "      <th>0</th>\n",
       "      <td>1461</td>\n",
       "      <td>20</td>\n",
       "      <td>RH</td>\n",
       "      <td>80.0</td>\n",
       "      <td>11622</td>\n",
       "      <td>Pave</td>\n",
       "      <td>Reg</td>\n",
       "      <td>Lvl</td>\n",
       "      <td>AllPub</td>\n",
       "      <td>Inside</td>\n",
       "      <td>...</td>\n",
       "      <td>0</td>\n",
       "      <td>0</td>\n",
       "      <td>0</td>\n",
       "      <td>120</td>\n",
       "      <td>0</td>\n",
       "      <td>0</td>\n",
       "      <td>6</td>\n",
       "      <td>2010</td>\n",
       "      <td>WD</td>\n",
       "      <td>Normal</td>\n",
       "    </tr>\n",
       "    <tr>\n",
       "      <th>1</th>\n",
       "      <td>1462</td>\n",
       "      <td>20</td>\n",
       "      <td>RL</td>\n",
       "      <td>81.0</td>\n",
       "      <td>14267</td>\n",
       "      <td>Pave</td>\n",
       "      <td>IR1</td>\n",
       "      <td>Lvl</td>\n",
       "      <td>AllPub</td>\n",
       "      <td>Corner</td>\n",
       "      <td>...</td>\n",
       "      <td>36</td>\n",
       "      <td>0</td>\n",
       "      <td>0</td>\n",
       "      <td>0</td>\n",
       "      <td>0</td>\n",
       "      <td>12500</td>\n",
       "      <td>6</td>\n",
       "      <td>2010</td>\n",
       "      <td>WD</td>\n",
       "      <td>Normal</td>\n",
       "    </tr>\n",
       "    <tr>\n",
       "      <th>2</th>\n",
       "      <td>1463</td>\n",
       "      <td>60</td>\n",
       "      <td>RL</td>\n",
       "      <td>74.0</td>\n",
       "      <td>13830</td>\n",
       "      <td>Pave</td>\n",
       "      <td>IR1</td>\n",
       "      <td>Lvl</td>\n",
       "      <td>AllPub</td>\n",
       "      <td>Inside</td>\n",
       "      <td>...</td>\n",
       "      <td>34</td>\n",
       "      <td>0</td>\n",
       "      <td>0</td>\n",
       "      <td>0</td>\n",
       "      <td>0</td>\n",
       "      <td>0</td>\n",
       "      <td>3</td>\n",
       "      <td>2010</td>\n",
       "      <td>WD</td>\n",
       "      <td>Normal</td>\n",
       "    </tr>\n",
       "    <tr>\n",
       "      <th>3</th>\n",
       "      <td>1464</td>\n",
       "      <td>60</td>\n",
       "      <td>RL</td>\n",
       "      <td>78.0</td>\n",
       "      <td>9978</td>\n",
       "      <td>Pave</td>\n",
       "      <td>IR1</td>\n",
       "      <td>Lvl</td>\n",
       "      <td>AllPub</td>\n",
       "      <td>Inside</td>\n",
       "      <td>...</td>\n",
       "      <td>36</td>\n",
       "      <td>0</td>\n",
       "      <td>0</td>\n",
       "      <td>0</td>\n",
       "      <td>0</td>\n",
       "      <td>0</td>\n",
       "      <td>6</td>\n",
       "      <td>2010</td>\n",
       "      <td>WD</td>\n",
       "      <td>Normal</td>\n",
       "    </tr>\n",
       "    <tr>\n",
       "      <th>4</th>\n",
       "      <td>1465</td>\n",
       "      <td>120</td>\n",
       "      <td>RL</td>\n",
       "      <td>43.0</td>\n",
       "      <td>5005</td>\n",
       "      <td>Pave</td>\n",
       "      <td>IR1</td>\n",
       "      <td>HLS</td>\n",
       "      <td>AllPub</td>\n",
       "      <td>Inside</td>\n",
       "      <td>...</td>\n",
       "      <td>82</td>\n",
       "      <td>0</td>\n",
       "      <td>0</td>\n",
       "      <td>144</td>\n",
       "      <td>0</td>\n",
       "      <td>0</td>\n",
       "      <td>1</td>\n",
       "      <td>2010</td>\n",
       "      <td>WD</td>\n",
       "      <td>Normal</td>\n",
       "    </tr>\n",
       "  </tbody>\n",
       "</table>\n",
       "<p>5 rows × 76 columns</p>\n",
       "</div>"
      ],
      "text/plain": [
       "     Id  MSSubClass MSZoning  LotFrontage  LotArea Street LotShape  \\\n",
       "0  1461          20       RH         80.0    11622   Pave      Reg   \n",
       "1  1462          20       RL         81.0    14267   Pave      IR1   \n",
       "2  1463          60       RL         74.0    13830   Pave      IR1   \n",
       "3  1464          60       RL         78.0     9978   Pave      IR1   \n",
       "4  1465         120       RL         43.0     5005   Pave      IR1   \n",
       "\n",
       "  LandContour Utilities LotConfig      ...       OpenPorchSF EnclosedPorch  \\\n",
       "0         Lvl    AllPub    Inside      ...                 0             0   \n",
       "1         Lvl    AllPub    Corner      ...                36             0   \n",
       "2         Lvl    AllPub    Inside      ...                34             0   \n",
       "3         Lvl    AllPub    Inside      ...                36             0   \n",
       "4         HLS    AllPub    Inside      ...                82             0   \n",
       "\n",
       "  3SsnPorch ScreenPorch PoolArea MiscVal  MoSold  YrSold  SaleType  \\\n",
       "0         0         120        0       0       6    2010        WD   \n",
       "1         0           0        0   12500       6    2010        WD   \n",
       "2         0           0        0       0       3    2010        WD   \n",
       "3         0           0        0       0       6    2010        WD   \n",
       "4         0         144        0       0       1    2010        WD   \n",
       "\n",
       "   SaleCondition  \n",
       "0         Normal  \n",
       "1         Normal  \n",
       "2         Normal  \n",
       "3         Normal  \n",
       "4         Normal  \n",
       "\n",
       "[5 rows x 76 columns]"
      ]
     },
     "execution_count": 31,
     "metadata": {},
     "output_type": "execute_result"
    }
   ],
   "source": [
    "test.head()"
   ]
  },
  {
   "cell_type": "markdown",
   "metadata": {},
   "source": [
    "**(2) Value of \"0\"**"
   ]
  },
  {
   "cell_type": "markdown",
   "metadata": {},
   "source": [
    "![title](img/0value.png \"ShowMyImage\")"
   ]
  },
  {
   "cell_type": "markdown",
   "metadata": {},
   "source": [
    "<div class=\"alert alert-block alert-info\">\n",
    "<font color='green'>We need to avoid to many zero value in our data. <br>Therefore, we use the same method as we did for NA, to rank the value 0 from highest to lowest by looking at ou train data set. </font>"
   ]
  },
  {
   "cell_type": "code",
   "execution_count": 32,
   "metadata": {},
   "outputs": [
    {
     "data": {
      "text/html": [
       "<div>\n",
       "<style scoped>\n",
       "    .dataframe tbody tr th:only-of-type {\n",
       "        vertical-align: middle;\n",
       "    }\n",
       "\n",
       "    .dataframe tbody tr th {\n",
       "        vertical-align: top;\n",
       "    }\n",
       "\n",
       "    .dataframe thead th {\n",
       "        text-align: right;\n",
       "    }\n",
       "</style>\n",
       "<table border=\"1\" class=\"dataframe\">\n",
       "  <thead>\n",
       "    <tr style=\"text-align: right;\">\n",
       "      <th></th>\n",
       "      <th>Total</th>\n",
       "      <th>Percent</th>\n",
       "    </tr>\n",
       "  </thead>\n",
       "  <tbody>\n",
       "    <tr>\n",
       "      <th>PoolArea</th>\n",
       "      <td>1452</td>\n",
       "      <td>0.995885</td>\n",
       "    </tr>\n",
       "    <tr>\n",
       "      <th>3SsnPorch</th>\n",
       "      <td>1434</td>\n",
       "      <td>0.983539</td>\n",
       "    </tr>\n",
       "    <tr>\n",
       "      <th>LowQualFinSF</th>\n",
       "      <td>1432</td>\n",
       "      <td>0.982167</td>\n",
       "    </tr>\n",
       "    <tr>\n",
       "      <th>MiscVal</th>\n",
       "      <td>1406</td>\n",
       "      <td>0.964335</td>\n",
       "    </tr>\n",
       "    <tr>\n",
       "      <th>BsmtHalfBath</th>\n",
       "      <td>1376</td>\n",
       "      <td>0.943759</td>\n",
       "    </tr>\n",
       "    <tr>\n",
       "      <th>ScreenPorch</th>\n",
       "      <td>1342</td>\n",
       "      <td>0.920439</td>\n",
       "    </tr>\n",
       "    <tr>\n",
       "      <th>BsmtFinSF2</th>\n",
       "      <td>1291</td>\n",
       "      <td>0.885460</td>\n",
       "    </tr>\n",
       "    <tr>\n",
       "      <th>EnclosedPorch</th>\n",
       "      <td>1250</td>\n",
       "      <td>0.857339</td>\n",
       "    </tr>\n",
       "    <tr>\n",
       "      <th>HalfBath</th>\n",
       "      <td>913</td>\n",
       "      <td>0.626200</td>\n",
       "    </tr>\n",
       "    <tr>\n",
       "      <th>MasVnrArea</th>\n",
       "      <td>861</td>\n",
       "      <td>0.590535</td>\n",
       "    </tr>\n",
       "  </tbody>\n",
       "</table>\n",
       "</div>"
      ],
      "text/plain": [
       "               Total   Percent\n",
       "PoolArea        1452  0.995885\n",
       "3SsnPorch       1434  0.983539\n",
       "LowQualFinSF    1432  0.982167\n",
       "MiscVal         1406  0.964335\n",
       "BsmtHalfBath    1376  0.943759\n",
       "ScreenPorch     1342  0.920439\n",
       "BsmtFinSF2      1291  0.885460\n",
       "EnclosedPorch   1250  0.857339\n",
       "HalfBath         913  0.626200\n",
       "MasVnrArea       861  0.590535"
      ]
     },
     "execution_count": 32,
     "metadata": {},
     "output_type": "execute_result"
    }
   ],
   "source": [
    "total = (train == 0).astype(int).sum(axis=0).sort_values(ascending=False)\n",
    "percent = (train == 0).astype(int).sum(axis=0)/(train == 0).astype(int).count(axis=0).sort_values(ascending=False)\n",
    "missing_data = pd.concat([total, percent], axis=1, keys=['Total', 'Percent'])\n",
    "missing_data.sort_values(by=['Total'],ascending=False).head(10)"
   ]
  },
  {
   "cell_type": "markdown",
   "metadata": {},
   "source": [
    "<div class=\"alert alert-block alert-success\">\n",
    "<font color='darkblue'>Based on the result we saw in our train data, we decided to drop the columns, which have more than 90% of value is 0 in the train, test, and validation data sets.</font>"
   ]
  },
  {
   "cell_type": "code",
   "execution_count": 33,
   "metadata": {},
   "outputs": [],
   "source": [
    "train2=train1.drop(['PoolArea', '3SsnPorch', 'LowQualFinSF','MiscVal','BsmtHalfBath','ScreenPorch'], axis=1)\n",
    "validation2=validation.drop(['PoolArea', '3SsnPorch', 'LowQualFinSF','MiscVal','BsmtHalfBath','ScreenPorch'], axis=1)\n",
    "test2=test.drop(['PoolArea', '3SsnPorch', 'LowQualFinSF','MiscVal','BsmtHalfBath','ScreenPorch'], axis=1)"
   ]
  },
  {
   "cell_type": "markdown",
   "metadata": {},
   "source": [
    "<div class=\"alert alert-block alert-info\">\n",
    "<font color='green'>Check our data after handing both NA and zero value. </font>"
   ]
  },
  {
   "cell_type": "code",
   "execution_count": 34,
   "metadata": {
    "scrolled": true
   },
   "outputs": [
    {
     "data": {
      "text/plain": [
       "array(['Id', 'MSSubClass', 'MSZoning', 'LotFrontage', 'LotArea', 'Street',\n",
       "       'LotShape', 'LandContour', 'Utilities', 'LotConfig', 'LandSlope',\n",
       "       'Neighborhood', 'Condition1', 'Condition2', 'BldgType',\n",
       "       'HouseStyle', 'OverallQual', 'OverallCond', 'YearBuilt',\n",
       "       'YearRemodAdd', 'RoofStyle', 'RoofMatl', 'Exterior1st',\n",
       "       'Exterior2nd', 'MasVnrType', 'MasVnrArea', 'ExterQual',\n",
       "       'ExterCond', 'Foundation', 'BsmtQual', 'BsmtCond', 'BsmtExposure',\n",
       "       'BsmtFinType1', 'BsmtFinSF1', 'BsmtFinType2', 'BsmtFinSF2',\n",
       "       'BsmtUnfSF', 'TotalBsmtSF', 'Heating', 'HeatingQC', 'CentralAir',\n",
       "       'Electrical', '1stFlrSF', '2ndFlrSF', 'GrLivArea', 'BsmtFullBath',\n",
       "       'FullBath', 'HalfBath', 'BedroomAbvGr', 'KitchenAbvGr',\n",
       "       'KitchenQual', 'TotRmsAbvGrd', 'Functional', 'Fireplaces',\n",
       "       'FireplaceQu', 'GarageType', 'GarageYrBlt', 'GarageFinish',\n",
       "       'GarageCars', 'GarageArea', 'GarageQual', 'GarageCond',\n",
       "       'PavedDrive', 'WoodDeckSF', 'OpenPorchSF', 'EnclosedPorch',\n",
       "       'MoSold', 'YrSold', 'SaleType', 'SaleCondition', 'SalePrice'],\n",
       "      dtype=object)"
      ]
     },
     "execution_count": 34,
     "metadata": {},
     "output_type": "execute_result"
    }
   ],
   "source": [
    "train2.columns.values"
   ]
  },
  {
   "cell_type": "code",
   "execution_count": 35,
   "metadata": {},
   "outputs": [
    {
     "name": "stdout",
     "output_type": "stream",
     "text": [
      "(1000, 71)\n",
      "(458, 71)\n",
      "(1459, 70)\n"
     ]
    }
   ],
   "source": [
    "print(train2.shape)\n",
    "print(validation2.shape)\n",
    "print(test2.shape)"
   ]
  },
  {
   "cell_type": "markdown",
   "metadata": {},
   "source": [
    "*** (3) Add one more important variable, the total area of basement *** "
   ]
  },
  {
   "cell_type": "markdown",
   "metadata": {},
   "source": [
    "![title](img/basement.jpg \"ShowMyImage\")"
   ]
  },
  {
   "cell_type": "markdown",
   "metadata": {},
   "source": [
    "<div class=\"alert alert-block alert-success\">\n",
    "<font color='darkblue'>We decided to add one more important vairable, the total area of basement by adding several vairables together in our train, test, and validation data set. </font>"
   ]
  },
  {
   "cell_type": "code",
   "execution_count": 36,
   "metadata": {},
   "outputs": [],
   "source": [
    "# total area of basement, first and second floor areas of each house\n",
    "train2['TotalSF'] = train1.apply(lambda row: row['1stFlrSF'] + row['2ndFlrSF']+row['TotalBsmtSF'], axis=1)\n",
    "validation2['TotalSF'] = validation.apply(lambda row: row['1stFlrSF'] + row['2ndFlrSF']+row['TotalBsmtSF'], axis=1)\n",
    "test2['TotalSF'] = test.apply(lambda row: row['1stFlrSF'] + row['2ndFlrSF']+row['TotalBsmtSF'], axis=1)"
   ]
  },
  {
   "cell_type": "code",
   "execution_count": 37,
   "metadata": {},
   "outputs": [
    {
     "name": "stdout",
     "output_type": "stream",
     "text": [
      "(1000, 72)\n",
      "(458, 72)\n",
      "(1459, 71)\n"
     ]
    }
   ],
   "source": [
    "print(train2.shape)\n",
    "print(validation2.shape)\n",
    "print(test2.shape)"
   ]
  },
  {
   "cell_type": "markdown",
   "metadata": {},
   "source": [
    " **(4) Feature Engineering**"
   ]
  },
  {
   "cell_type": "markdown",
   "metadata": {},
   "source": [
    "![title](img/feature engineering.jpg \"ShowMyImage\")"
   ]
  },
  {
   "cell_type": "markdown",
   "metadata": {},
   "source": [
    "<div class=\"alert alert-block alert-info\"> <font color='green'>\n",
    "Notice here we drop SalePrice. But we need to add it back later.</font>"
   ]
  },
  {
   "cell_type": "code",
   "execution_count": 38,
   "metadata": {},
   "outputs": [
    {
     "data": {
      "text/html": [
       "<div>\n",
       "<style scoped>\n",
       "    .dataframe tbody tr th:only-of-type {\n",
       "        vertical-align: middle;\n",
       "    }\n",
       "\n",
       "    .dataframe tbody tr th {\n",
       "        vertical-align: top;\n",
       "    }\n",
       "\n",
       "    .dataframe thead th {\n",
       "        text-align: right;\n",
       "    }\n",
       "</style>\n",
       "<table border=\"1\" class=\"dataframe\">\n",
       "  <thead>\n",
       "    <tr style=\"text-align: right;\">\n",
       "      <th></th>\n",
       "      <th>1stFlrSF</th>\n",
       "      <th>2ndFlrSF</th>\n",
       "      <th>BedroomAbvGr</th>\n",
       "      <th>BldgType</th>\n",
       "      <th>BsmtCond</th>\n",
       "      <th>BsmtExposure</th>\n",
       "      <th>BsmtFinSF1</th>\n",
       "      <th>BsmtFinSF2</th>\n",
       "      <th>BsmtFinType1</th>\n",
       "      <th>BsmtFinType2</th>\n",
       "      <th>...</th>\n",
       "      <th>SaleType</th>\n",
       "      <th>Street</th>\n",
       "      <th>TotRmsAbvGrd</th>\n",
       "      <th>TotalBsmtSF</th>\n",
       "      <th>TotalSF</th>\n",
       "      <th>Utilities</th>\n",
       "      <th>WoodDeckSF</th>\n",
       "      <th>YearBuilt</th>\n",
       "      <th>YearRemodAdd</th>\n",
       "      <th>YrSold</th>\n",
       "    </tr>\n",
       "  </thead>\n",
       "  <tbody>\n",
       "    <tr>\n",
       "      <th>0</th>\n",
       "      <td>856</td>\n",
       "      <td>854</td>\n",
       "      <td>3</td>\n",
       "      <td>1Fam</td>\n",
       "      <td>TA</td>\n",
       "      <td>No</td>\n",
       "      <td>706.0</td>\n",
       "      <td>0.0</td>\n",
       "      <td>GLQ</td>\n",
       "      <td>Unf</td>\n",
       "      <td>...</td>\n",
       "      <td>WD</td>\n",
       "      <td>Pave</td>\n",
       "      <td>8</td>\n",
       "      <td>856.0</td>\n",
       "      <td>2566.0</td>\n",
       "      <td>AllPub</td>\n",
       "      <td>0</td>\n",
       "      <td>2003</td>\n",
       "      <td>2003</td>\n",
       "      <td>2008</td>\n",
       "    </tr>\n",
       "    <tr>\n",
       "      <th>1</th>\n",
       "      <td>1262</td>\n",
       "      <td>0</td>\n",
       "      <td>3</td>\n",
       "      <td>1Fam</td>\n",
       "      <td>TA</td>\n",
       "      <td>Gd</td>\n",
       "      <td>978.0</td>\n",
       "      <td>0.0</td>\n",
       "      <td>ALQ</td>\n",
       "      <td>Unf</td>\n",
       "      <td>...</td>\n",
       "      <td>WD</td>\n",
       "      <td>Pave</td>\n",
       "      <td>6</td>\n",
       "      <td>1262.0</td>\n",
       "      <td>2524.0</td>\n",
       "      <td>AllPub</td>\n",
       "      <td>298</td>\n",
       "      <td>1976</td>\n",
       "      <td>1976</td>\n",
       "      <td>2007</td>\n",
       "    </tr>\n",
       "    <tr>\n",
       "      <th>2</th>\n",
       "      <td>920</td>\n",
       "      <td>866</td>\n",
       "      <td>3</td>\n",
       "      <td>1Fam</td>\n",
       "      <td>TA</td>\n",
       "      <td>Mn</td>\n",
       "      <td>486.0</td>\n",
       "      <td>0.0</td>\n",
       "      <td>GLQ</td>\n",
       "      <td>Unf</td>\n",
       "      <td>...</td>\n",
       "      <td>WD</td>\n",
       "      <td>Pave</td>\n",
       "      <td>6</td>\n",
       "      <td>920.0</td>\n",
       "      <td>2706.0</td>\n",
       "      <td>AllPub</td>\n",
       "      <td>0</td>\n",
       "      <td>2001</td>\n",
       "      <td>2002</td>\n",
       "      <td>2008</td>\n",
       "    </tr>\n",
       "    <tr>\n",
       "      <th>3</th>\n",
       "      <td>961</td>\n",
       "      <td>756</td>\n",
       "      <td>3</td>\n",
       "      <td>1Fam</td>\n",
       "      <td>Gd</td>\n",
       "      <td>No</td>\n",
       "      <td>216.0</td>\n",
       "      <td>0.0</td>\n",
       "      <td>ALQ</td>\n",
       "      <td>Unf</td>\n",
       "      <td>...</td>\n",
       "      <td>WD</td>\n",
       "      <td>Pave</td>\n",
       "      <td>7</td>\n",
       "      <td>756.0</td>\n",
       "      <td>2473.0</td>\n",
       "      <td>AllPub</td>\n",
       "      <td>0</td>\n",
       "      <td>1915</td>\n",
       "      <td>1970</td>\n",
       "      <td>2006</td>\n",
       "    </tr>\n",
       "    <tr>\n",
       "      <th>4</th>\n",
       "      <td>1145</td>\n",
       "      <td>1053</td>\n",
       "      <td>4</td>\n",
       "      <td>1Fam</td>\n",
       "      <td>TA</td>\n",
       "      <td>Av</td>\n",
       "      <td>655.0</td>\n",
       "      <td>0.0</td>\n",
       "      <td>GLQ</td>\n",
       "      <td>Unf</td>\n",
       "      <td>...</td>\n",
       "      <td>WD</td>\n",
       "      <td>Pave</td>\n",
       "      <td>9</td>\n",
       "      <td>1145.0</td>\n",
       "      <td>3343.0</td>\n",
       "      <td>AllPub</td>\n",
       "      <td>192</td>\n",
       "      <td>2000</td>\n",
       "      <td>2000</td>\n",
       "      <td>2008</td>\n",
       "    </tr>\n",
       "  </tbody>\n",
       "</table>\n",
       "<p>5 rows × 71 columns</p>\n",
       "</div>"
      ],
      "text/plain": [
       "   1stFlrSF  2ndFlrSF  BedroomAbvGr BldgType BsmtCond BsmtExposure  \\\n",
       "0       856       854             3     1Fam       TA           No   \n",
       "1      1262         0             3     1Fam       TA           Gd   \n",
       "2       920       866             3     1Fam       TA           Mn   \n",
       "3       961       756             3     1Fam       Gd           No   \n",
       "4      1145      1053             4     1Fam       TA           Av   \n",
       "\n",
       "   BsmtFinSF1  BsmtFinSF2 BsmtFinType1 BsmtFinType2  ...    SaleType Street  \\\n",
       "0       706.0         0.0          GLQ          Unf  ...          WD   Pave   \n",
       "1       978.0         0.0          ALQ          Unf  ...          WD   Pave   \n",
       "2       486.0         0.0          GLQ          Unf  ...          WD   Pave   \n",
       "3       216.0         0.0          ALQ          Unf  ...          WD   Pave   \n",
       "4       655.0         0.0          GLQ          Unf  ...          WD   Pave   \n",
       "\n",
       "   TotRmsAbvGrd TotalBsmtSF TotalSF Utilities WoodDeckSF  YearBuilt  \\\n",
       "0             8       856.0  2566.0    AllPub          0       2003   \n",
       "1             6      1262.0  2524.0    AllPub        298       1976   \n",
       "2             6       920.0  2706.0    AllPub          0       2001   \n",
       "3             7       756.0  2473.0    AllPub          0       1915   \n",
       "4             9      1145.0  3343.0    AllPub        192       2000   \n",
       "\n",
       "  YearRemodAdd YrSold  \n",
       "0         2003   2008  \n",
       "1         1976   2007  \n",
       "2         2002   2008  \n",
       "3         1970   2006  \n",
       "4         2000   2008  \n",
       "\n",
       "[5 rows x 71 columns]"
      ]
     },
     "execution_count": 38,
     "metadata": {},
     "output_type": "execute_result"
    }
   ],
   "source": [
    "full_data=pd.concat((train2,validation2,test2)).reset_index(drop=True)\n",
    "\n",
    "full_data.drop(['SalePrice'],axis=1,inplace=True)\n",
    "\n",
    "full_data.head()"
   ]
  },
  {
   "cell_type": "code",
   "execution_count": 39,
   "metadata": {},
   "outputs": [
    {
     "data": {
      "text/plain": [
       "(2917, 71)"
      ]
     },
     "execution_count": 39,
     "metadata": {},
     "output_type": "execute_result"
    }
   ],
   "source": [
    "full_data.shape"
   ]
  },
  {
   "cell_type": "code",
   "execution_count": 40,
   "metadata": {},
   "outputs": [
    {
     "data": {
      "text/plain": [
       "array(['1stFlrSF', '2ndFlrSF', 'BedroomAbvGr', 'BldgType', 'BsmtCond',\n",
       "       'BsmtExposure', 'BsmtFinSF1', 'BsmtFinSF2', 'BsmtFinType1',\n",
       "       'BsmtFinType2', 'BsmtFullBath', 'BsmtQual', 'BsmtUnfSF',\n",
       "       'CentralAir', 'Condition1', 'Condition2', 'Electrical',\n",
       "       'EnclosedPorch', 'ExterCond', 'ExterQual', 'Exterior1st',\n",
       "       'Exterior2nd', 'FireplaceQu', 'Fireplaces', 'Foundation',\n",
       "       'FullBath', 'Functional', 'GarageArea', 'GarageCars', 'GarageCond',\n",
       "       'GarageFinish', 'GarageQual', 'GarageType', 'GarageYrBlt',\n",
       "       'GrLivArea', 'HalfBath', 'Heating', 'HeatingQC', 'HouseStyle',\n",
       "       'Id', 'KitchenAbvGr', 'KitchenQual', 'LandContour', 'LandSlope',\n",
       "       'LotArea', 'LotConfig', 'LotFrontage', 'LotShape', 'MSSubClass',\n",
       "       'MSZoning', 'MasVnrArea', 'MasVnrType', 'MoSold', 'Neighborhood',\n",
       "       'OpenPorchSF', 'OverallCond', 'OverallQual', 'PavedDrive',\n",
       "       'RoofMatl', 'RoofStyle', 'SaleCondition', 'SaleType', 'Street',\n",
       "       'TotRmsAbvGrd', 'TotalBsmtSF', 'TotalSF', 'Utilities',\n",
       "       'WoodDeckSF', 'YearBuilt', 'YearRemodAdd', 'YrSold'], dtype=object)"
      ]
     },
     "execution_count": 40,
     "metadata": {},
     "output_type": "execute_result"
    }
   ],
   "source": [
    "full_data.columns.values"
   ]
  },
  {
   "cell_type": "code",
   "execution_count": 41,
   "metadata": {},
   "outputs": [
    {
     "data": {
      "text/plain": [
       "1stFlrSF           int64\n",
       "2ndFlrSF           int64\n",
       "BedroomAbvGr       int64\n",
       "BldgType          object\n",
       "BsmtCond          object\n",
       "BsmtExposure      object\n",
       "BsmtFinSF1       float64\n",
       "BsmtFinSF2       float64\n",
       "BsmtFinType1      object\n",
       "BsmtFinType2      object\n",
       "BsmtFullBath     float64\n",
       "BsmtQual          object\n",
       "BsmtUnfSF        float64\n",
       "CentralAir        object\n",
       "Condition1        object\n",
       "Condition2        object\n",
       "Electrical        object\n",
       "EnclosedPorch      int64\n",
       "ExterCond         object\n",
       "ExterQual         object\n",
       "Exterior1st       object\n",
       "Exterior2nd       object\n",
       "FireplaceQu       object\n",
       "Fireplaces         int64\n",
       "Foundation        object\n",
       "FullBath           int64\n",
       "Functional        object\n",
       "GarageArea       float64\n",
       "GarageCars       float64\n",
       "GarageCond        object\n",
       "                  ...   \n",
       "KitchenQual       object\n",
       "LandContour       object\n",
       "LandSlope         object\n",
       "LotArea            int64\n",
       "LotConfig         object\n",
       "LotFrontage      float64\n",
       "LotShape          object\n",
       "MSSubClass         int64\n",
       "MSZoning          object\n",
       "MasVnrArea       float64\n",
       "MasVnrType        object\n",
       "MoSold             int64\n",
       "Neighborhood      object\n",
       "OpenPorchSF        int64\n",
       "OverallCond        int64\n",
       "OverallQual        int64\n",
       "PavedDrive        object\n",
       "RoofMatl          object\n",
       "RoofStyle         object\n",
       "SaleCondition     object\n",
       "SaleType          object\n",
       "Street            object\n",
       "TotRmsAbvGrd       int64\n",
       "TotalBsmtSF      float64\n",
       "TotalSF          float64\n",
       "Utilities         object\n",
       "WoodDeckSF         int64\n",
       "YearBuilt          int64\n",
       "YearRemodAdd       int64\n",
       "YrSold             int64\n",
       "Length: 71, dtype: object"
      ]
     },
     "execution_count": 41,
     "metadata": {},
     "output_type": "execute_result"
    }
   ],
   "source": [
    "full_data.dtypes"
   ]
  },
  {
   "cell_type": "code",
   "execution_count": 42,
   "metadata": {},
   "outputs": [],
   "source": [
    "#MSSubClass=the type of dwelling involved in the sale\n",
    "full_data['MSSubClass'] = full_data['MSSubClass'].apply(str)\n",
    "\n",
    "#Year and month sold are transformed into categorical features.\n",
    "full_data['YrSold'] = full_data['YrSold'].astype(str)\n",
    "full_data['MoSold'] = full_data['MoSold'].astype(str)"
   ]
  },
  {
   "cell_type": "code",
   "execution_count": 43,
   "metadata": {},
   "outputs": [
    {
     "data": {
      "text/plain": [
       "(2917, 71)"
      ]
     },
     "execution_count": 43,
     "metadata": {},
     "output_type": "execute_result"
    }
   ],
   "source": [
    "full_data.shape"
   ]
  },
  {
   "cell_type": "markdown",
   "metadata": {},
   "source": [
    "<div class=\"alert alert-block alert-success\">\n",
    "<font color='darkblue'>We decided to remove Duplicated Features because some variables are highly correlated with each other. </font>"
   ]
  },
  {
   "cell_type": "code",
   "execution_count": 44,
   "metadata": {},
   "outputs": [
    {
     "data": {
      "image/png": "[encoded data removed]",
      "text/plain": [
       "<matplotlib.figure.Figure at 0x1a16086860>"
      ]
     },
     "metadata": {},
     "output_type": "display_data"
    }
   ],
   "source": [
    "best_feat = full_data\n",
    "corr =best_feat.corr() # We already examined SalePrice correlations\n",
    "plt.figure(figsize=(12, 10))\n",
    "\n",
    "sns.heatmap(corr[(corr >= 0.7) | (corr <= -0.7)], \n",
    "            cmap='coolwarm', vmax=1.0, vmin=-1.0, linewidths=0.1,\n",
    "            annot=True, annot_kws={\"size\": 8}, square=True);"
   ]
  },
  {
   "cell_type": "markdown",
   "metadata": {},
   "source": [
    "<div class=\"alert alert-block alert-info\">\n",
    "<font color='green'>GrLivArea vs TotRmsAbvGrd These features are highly correlated with a correlation of 0.83. </font>\n",
    "\n",
    "- <font color='darkblue'> Of these two variables，TotRmsAbvGrd will be removed because it has a lower correlation with SalePrice.</font>\n",
    "\n",
    "\n",
    "<font color='green'>Garage Cars vs Garage Area Garage Cars and GarageArea are also highly correlated as indicated by their correlation coefficient of 0.88. </font>\n",
    "\n",
    "- <font color='darkblue'>Of these two variables，GarageArea will be removed as it has a lower correlation with our target variable, SalePrice. </font>\n",
    "\n",
    "\n"
   ]
  },
  {
   "cell_type": "code",
   "execution_count": 45,
   "metadata": {},
   "outputs": [
    {
     "data": {
      "text/plain": [
       "Index(['1stFlrSF', '2ndFlrSF', 'BedroomAbvGr', 'BldgType', 'BsmtCond',\n",
       "       'BsmtExposure', 'BsmtFinSF1', 'BsmtFinSF2', 'BsmtFinType1',\n",
       "       'BsmtFinType2', 'BsmtFullBath', 'BsmtQual', 'BsmtUnfSF', 'CentralAir',\n",
       "       'Condition1', 'Condition2', 'Electrical', 'EnclosedPorch', 'ExterCond',\n",
       "       'ExterQual', 'Exterior1st', 'Exterior2nd', 'FireplaceQu', 'Fireplaces',\n",
       "       'Foundation', 'FullBath', 'Functional', 'GarageCars', 'GarageCond',\n",
       "       'GarageFinish', 'GarageQual', 'GarageType', 'GarageYrBlt', 'GrLivArea',\n",
       "       'HalfBath', 'Heating', 'HeatingQC', 'HouseStyle', 'Id', 'KitchenAbvGr',\n",
       "       'KitchenQual', 'LandContour', 'LandSlope', 'LotArea', 'LotConfig',\n",
       "       'LotFrontage', 'LotShape', 'MSSubClass', 'MSZoning', 'MasVnrArea',\n",
       "       'MasVnrType', 'MoSold', 'Neighborhood', 'OpenPorchSF', 'OverallCond',\n",
       "       'OverallQual', 'PavedDrive', 'RoofMatl', 'RoofStyle', 'SaleCondition',\n",
       "       'SaleType', 'Street', 'TotalBsmtSF', 'TotalSF', 'Utilities',\n",
       "       'WoodDeckSF', 'YearBuilt', 'YearRemodAdd', 'YrSold'],\n",
       "      dtype='object')"
      ]
     },
     "execution_count": 45,
     "metadata": {},
     "output_type": "execute_result"
    }
   ],
   "source": [
    "# Remove redundant features\n",
    "full_data = full_data.drop(['TotRmsAbvGrd','GarageArea'], axis = 1)\n",
    "full_data.columns"
   ]
  },
  {
   "cell_type": "markdown",
   "metadata": {},
   "source": [
    "<div class=\"alert alert-block alert-success\">\n",
    "<font color='darkblue'>Ordinal Encoding:  </font>\n",
    "\n",
    "We decided to encoding our ordinal vairables by Oridnal Encoding, so that they can change to numeric vairables. </font>"
   ]
  },
  {
   "cell_type": "code",
   "execution_count": 46,
   "metadata": {},
   "outputs": [],
   "source": [
    "# Create Mapper\n",
    "LotShape_Mapper = {'Reg':4, 'IR1':3, 'IR2':2, 'IR3':1}\n",
    "LandSlope_Mapper = {'Gtl':3,'Mod':2,'Sev':1}\n",
    "ExterQual_Mapper = {'Ex':5,'Gd':4, 'TA':3, 'Fa':2, 'Po':1}\n",
    "ExterCond_Mapper = {'Ex':5,'Gd':4, 'TA':3, 'Fa':2, 'Po':1}\n",
    "BsmtQual_Mapper = {'Ex':5,'Gd':4, 'TA':3, 'Fa':2, 'Po':1, 'N':0}\n",
    "BsmtCond_Mapper = {'Ex':5,'Gd':4, 'TA':3, 'Fa':2, 'Po':1, 'N':0}\n",
    "BsmtExposure_Mapper = {'Gd':3, 'Av':2, 'Mn':1, 'No':0,'N':0}\n",
    "BsmtFinType1_Mapper={'GLQ':6,'ALQ':5,'BLQ':4,'Rec':3,'LwQ':2,'Unf':1,'N':0}\n",
    "BsmtFinType2_Mapper={'GLQ':6,'ALQ':5,'BLQ':4,'Rec':3,'LwQ':2,'Unf':1,'N':0}\n",
    "HeatingQC_Mapper={'Ex':5,'Gd':4, 'TA':3, 'Fa':2, 'Po':1}\n",
    "KitchenQual_Mapper = {'Ex':5,'Gd':4, 'TA':3, 'Fa':2, 'Po':1}\n",
    "FireplaceQu_Mapper = {'Ex':5,'Gd':4, 'TA':3, 'Fa':2, 'Po':1,'N':0}\n",
    "GarageFinish_Mapper = {'Fin':3, 'RFn':2,'Unf':1, 'N':0}\n",
    "GarageQual_Mapper = {'Ex':5,'Gd':4, 'TA':3, 'Fa':2, 'Po':1,'N':0}\n",
    "GarageCond_Mapper = {'Ex':5,'Gd':4, 'TA':3, 'Fa':2, 'Po':1,'N':0}\n",
    "PavedDrive_Mapper = {'Y':3,'P':2,'N':1}\n",
    "PoolQC_Mapper = {'Ex':4,'Gd':3, 'TA':2, 'Fa':1,'N':0}"
   ]
  },
  {
   "cell_type": "code",
   "execution_count": 47,
   "metadata": {},
   "outputs": [],
   "source": [
    "full_data['LotShape'] = full_data['LotShape'].replace(LotShape_Mapper)"
   ]
  },
  {
   "cell_type": "code",
   "execution_count": 48,
   "metadata": {},
   "outputs": [],
   "source": [
    "full_data['LandSlope']=full_data['LandSlope'].replace(LandSlope_Mapper)"
   ]
  },
  {
   "cell_type": "code",
   "execution_count": 49,
   "metadata": {},
   "outputs": [],
   "source": [
    "full_data['ExterQual']=full_data['ExterQual'].replace(ExterQual_Mapper)"
   ]
  },
  {
   "cell_type": "code",
   "execution_count": 50,
   "metadata": {},
   "outputs": [],
   "source": [
    "full_data['ExterCond']=full_data['ExterCond'].replace(ExterCond_Mapper)"
   ]
  },
  {
   "cell_type": "code",
   "execution_count": 51,
   "metadata": {},
   "outputs": [],
   "source": [
    "full_data['BsmtQual']=full_data['BsmtQual'].replace(BsmtQual_Mapper)"
   ]
  },
  {
   "cell_type": "code",
   "execution_count": 52,
   "metadata": {},
   "outputs": [],
   "source": [
    "full_data['BsmtCond']=full_data['BsmtCond'].replace(BsmtCond_Mapper)"
   ]
  },
  {
   "cell_type": "code",
   "execution_count": 53,
   "metadata": {},
   "outputs": [],
   "source": [
    "full_data['BsmtExposure']=full_data['BsmtExposure'].replace(BsmtExposure_Mapper)"
   ]
  },
  {
   "cell_type": "code",
   "execution_count": 54,
   "metadata": {},
   "outputs": [],
   "source": [
    "full_data['BsmtFinType1']=full_data['BsmtFinType1'].replace(BsmtFinType1_Mapper)"
   ]
  },
  {
   "cell_type": "code",
   "execution_count": 55,
   "metadata": {},
   "outputs": [],
   "source": [
    "full_data['BsmtFinType2']=full_data['BsmtFinType2'].replace(BsmtFinType2_Mapper)"
   ]
  },
  {
   "cell_type": "code",
   "execution_count": 56,
   "metadata": {},
   "outputs": [],
   "source": [
    "full_data['HeatingQC']=full_data['HeatingQC'].replace(HeatingQC_Mapper)"
   ]
  },
  {
   "cell_type": "code",
   "execution_count": 57,
   "metadata": {},
   "outputs": [],
   "source": [
    "full_data['KitchenQual']=full_data['KitchenQual'].replace(KitchenQual_Mapper)"
   ]
  },
  {
   "cell_type": "code",
   "execution_count": 58,
   "metadata": {},
   "outputs": [],
   "source": [
    "full_data['FireplaceQu']=full_data['FireplaceQu'].replace(FireplaceQu_Mapper)"
   ]
  },
  {
   "cell_type": "code",
   "execution_count": 59,
   "metadata": {},
   "outputs": [],
   "source": [
    "full_data['GarageFinish']=full_data['GarageFinish'].replace(GarageFinish_Mapper)"
   ]
  },
  {
   "cell_type": "code",
   "execution_count": 60,
   "metadata": {},
   "outputs": [],
   "source": [
    "full_data['GarageQual']=full_data['GarageQual'].replace(GarageQual_Mapper)"
   ]
  },
  {
   "cell_type": "code",
   "execution_count": 61,
   "metadata": {},
   "outputs": [],
   "source": [
    "full_data['GarageCond']=full_data['GarageCond'].replace(GarageCond_Mapper)"
   ]
  },
  {
   "cell_type": "code",
   "execution_count": 62,
   "metadata": {},
   "outputs": [],
   "source": [
    "full_data['PavedDrive']=full_data['PavedDrive'].replace(PavedDrive_Mapper)"
   ]
  },
  {
   "cell_type": "markdown",
   "metadata": {},
   "source": [
    "<div class=\"alert alert-block alert-info\">\n",
    "<font color='green'>Now, we can see those variables' type changed. </font>"
   ]
  },
  {
   "cell_type": "code",
   "execution_count": 63,
   "metadata": {},
   "outputs": [
    {
     "data": {
      "text/plain": [
       "1stFlrSF           int64\n",
       "2ndFlrSF           int64\n",
       "BedroomAbvGr       int64\n",
       "BldgType          object\n",
       "BsmtCond           int64\n",
       "BsmtExposure       int64\n",
       "BsmtFinSF1       float64\n",
       "BsmtFinSF2       float64\n",
       "BsmtFinType1       int64\n",
       "BsmtFinType2       int64\n",
       "BsmtFullBath     float64\n",
       "BsmtQual           int64\n",
       "BsmtUnfSF        float64\n",
       "CentralAir        object\n",
       "Condition1        object\n",
       "Condition2        object\n",
       "Electrical        object\n",
       "EnclosedPorch      int64\n",
       "ExterCond          int64\n",
       "ExterQual          int64\n",
       "Exterior1st       object\n",
       "Exterior2nd       object\n",
       "FireplaceQu        int64\n",
       "Fireplaces         int64\n",
       "Foundation        object\n",
       "FullBath           int64\n",
       "Functional        object\n",
       "GarageCars       float64\n",
       "GarageCond         int64\n",
       "GarageFinish       int64\n",
       "                  ...   \n",
       "KitchenAbvGr       int64\n",
       "KitchenQual        int64\n",
       "LandContour       object\n",
       "LandSlope          int64\n",
       "LotArea            int64\n",
       "LotConfig         object\n",
       "LotFrontage      float64\n",
       "LotShape           int64\n",
       "MSSubClass        object\n",
       "MSZoning          object\n",
       "MasVnrArea       float64\n",
       "MasVnrType        object\n",
       "MoSold            object\n",
       "Neighborhood      object\n",
       "OpenPorchSF        int64\n",
       "OverallCond        int64\n",
       "OverallQual        int64\n",
       "PavedDrive         int64\n",
       "RoofMatl          object\n",
       "RoofStyle         object\n",
       "SaleCondition     object\n",
       "SaleType          object\n",
       "Street            object\n",
       "TotalBsmtSF      float64\n",
       "TotalSF          float64\n",
       "Utilities         object\n",
       "WoodDeckSF         int64\n",
       "YearBuilt          int64\n",
       "YearRemodAdd       int64\n",
       "YrSold            object\n",
       "Length: 69, dtype: object"
      ]
     },
     "execution_count": 63,
     "metadata": {},
     "output_type": "execute_result"
    }
   ],
   "source": [
    "full_data.dtypes"
   ]
  },
  {
   "cell_type": "code",
   "execution_count": 64,
   "metadata": {},
   "outputs": [
    {
     "data": {
      "text/plain": [
       "(2917, 69)"
      ]
     },
     "execution_count": 64,
     "metadata": {},
     "output_type": "execute_result"
    }
   ],
   "source": [
    "full_data.shape"
   ]
  },
  {
   "cell_type": "code",
   "execution_count": 153,
   "metadata": {},
   "outputs": [],
   "source": [
    "#object=full_data.select_dtypes(object)"
   ]
  },
  {
   "cell_type": "code",
   "execution_count": 148,
   "metadata": {},
   "outputs": [],
   "source": [
    "#from sklearn import preprocessing"
   ]
  },
  {
   "cell_type": "code",
   "execution_count": 159,
   "metadata": {},
   "outputs": [],
   "source": [
    "#le = preprocessing.LabelEncoder()"
   ]
  },
  {
   "cell_type": "code",
   "execution_count": 160,
   "metadata": {},
   "outputs": [],
   "source": [
    "#df_encoded = object.apply(le.fit_transform)"
   ]
  },
  {
   "cell_type": "code",
   "execution_count": 162,
   "metadata": {},
   "outputs": [
    {
     "data": {
      "text/html": [
       "<div>\n",
       "<style scoped>\n",
       "    .dataframe tbody tr th:only-of-type {\n",
       "        vertical-align: middle;\n",
       "    }\n",
       "\n",
       "    .dataframe tbody tr th {\n",
       "        vertical-align: top;\n",
       "    }\n",
       "\n",
       "    .dataframe thead th {\n",
       "        text-align: right;\n",
       "    }\n",
       "</style>\n",
       "<table border=\"1\" class=\"dataframe\">\n",
       "  <thead>\n",
       "    <tr style=\"text-align: right;\">\n",
       "      <th></th>\n",
       "      <th>BldgType</th>\n",
       "      <th>CentralAir</th>\n",
       "      <th>Condition1</th>\n",
       "      <th>Condition2</th>\n",
       "      <th>Electrical</th>\n",
       "      <th>Exterior1st</th>\n",
       "      <th>Exterior2nd</th>\n",
       "      <th>Foundation</th>\n",
       "      <th>Functional</th>\n",
       "      <th>GarageType</th>\n",
       "      <th>...</th>\n",
       "      <th>MasVnrType</th>\n",
       "      <th>MoSold</th>\n",
       "      <th>Neighborhood</th>\n",
       "      <th>RoofMatl</th>\n",
       "      <th>RoofStyle</th>\n",
       "      <th>SaleCondition</th>\n",
       "      <th>SaleType</th>\n",
       "      <th>Street</th>\n",
       "      <th>Utilities</th>\n",
       "      <th>YrSold</th>\n",
       "    </tr>\n",
       "  </thead>\n",
       "  <tbody>\n",
       "    <tr>\n",
       "      <th>0</th>\n",
       "      <td>0</td>\n",
       "      <td>1</td>\n",
       "      <td>2</td>\n",
       "      <td>2</td>\n",
       "      <td>4</td>\n",
       "      <td>12</td>\n",
       "      <td>13</td>\n",
       "      <td>2</td>\n",
       "      <td>6</td>\n",
       "      <td>1</td>\n",
       "      <td>...</td>\n",
       "      <td>1</td>\n",
       "      <td>4</td>\n",
       "      <td>5</td>\n",
       "      <td>0</td>\n",
       "      <td>1</td>\n",
       "      <td>4</td>\n",
       "      <td>8</td>\n",
       "      <td>1</td>\n",
       "      <td>0</td>\n",
       "      <td>2</td>\n",
       "    </tr>\n",
       "    <tr>\n",
       "      <th>1</th>\n",
       "      <td>0</td>\n",
       "      <td>1</td>\n",
       "      <td>1</td>\n",
       "      <td>2</td>\n",
       "      <td>4</td>\n",
       "      <td>8</td>\n",
       "      <td>8</td>\n",
       "      <td>1</td>\n",
       "      <td>6</td>\n",
       "      <td>1</td>\n",
       "      <td>...</td>\n",
       "      <td>3</td>\n",
       "      <td>7</td>\n",
       "      <td>24</td>\n",
       "      <td>0</td>\n",
       "      <td>1</td>\n",
       "      <td>4</td>\n",
       "      <td>8</td>\n",
       "      <td>1</td>\n",
       "      <td>0</td>\n",
       "      <td>1</td>\n",
       "    </tr>\n",
       "    <tr>\n",
       "      <th>2</th>\n",
       "      <td>0</td>\n",
       "      <td>1</td>\n",
       "      <td>2</td>\n",
       "      <td>2</td>\n",
       "      <td>4</td>\n",
       "      <td>12</td>\n",
       "      <td>13</td>\n",
       "      <td>2</td>\n",
       "      <td>6</td>\n",
       "      <td>1</td>\n",
       "      <td>...</td>\n",
       "      <td>1</td>\n",
       "      <td>11</td>\n",
       "      <td>5</td>\n",
       "      <td>0</td>\n",
       "      <td>1</td>\n",
       "      <td>4</td>\n",
       "      <td>8</td>\n",
       "      <td>1</td>\n",
       "      <td>0</td>\n",
       "      <td>2</td>\n",
       "    </tr>\n",
       "    <tr>\n",
       "      <th>3</th>\n",
       "      <td>0</td>\n",
       "      <td>1</td>\n",
       "      <td>2</td>\n",
       "      <td>2</td>\n",
       "      <td>4</td>\n",
       "      <td>13</td>\n",
       "      <td>15</td>\n",
       "      <td>0</td>\n",
       "      <td>6</td>\n",
       "      <td>5</td>\n",
       "      <td>...</td>\n",
       "      <td>3</td>\n",
       "      <td>4</td>\n",
       "      <td>6</td>\n",
       "      <td>0</td>\n",
       "      <td>1</td>\n",
       "      <td>0</td>\n",
       "      <td>8</td>\n",
       "      <td>1</td>\n",
       "      <td>0</td>\n",
       "      <td>0</td>\n",
       "    </tr>\n",
       "    <tr>\n",
       "      <th>4</th>\n",
       "      <td>0</td>\n",
       "      <td>1</td>\n",
       "      <td>2</td>\n",
       "      <td>2</td>\n",
       "      <td>4</td>\n",
       "      <td>12</td>\n",
       "      <td>13</td>\n",
       "      <td>2</td>\n",
       "      <td>6</td>\n",
       "      <td>1</td>\n",
       "      <td>...</td>\n",
       "      <td>1</td>\n",
       "      <td>3</td>\n",
       "      <td>15</td>\n",
       "      <td>0</td>\n",
       "      <td>1</td>\n",
       "      <td>4</td>\n",
       "      <td>8</td>\n",
       "      <td>1</td>\n",
       "      <td>0</td>\n",
       "      <td>2</td>\n",
       "    </tr>\n",
       "  </tbody>\n",
       "</table>\n",
       "<p>5 rows × 26 columns</p>\n",
       "</div>"
      ],
      "text/plain": [
       "   BldgType  CentralAir  Condition1  Condition2  Electrical  Exterior1st  \\\n",
       "0         0           1           2           2           4           12   \n",
       "1         0           1           1           2           4            8   \n",
       "2         0           1           2           2           4           12   \n",
       "3         0           1           2           2           4           13   \n",
       "4         0           1           2           2           4           12   \n",
       "\n",
       "   Exterior2nd  Foundation  Functional  GarageType   ...    MasVnrType  \\\n",
       "0           13           2           6           1   ...             1   \n",
       "1            8           1           6           1   ...             3   \n",
       "2           13           2           6           1   ...             1   \n",
       "3           15           0           6           5   ...             3   \n",
       "4           13           2           6           1   ...             1   \n",
       "\n",
       "   MoSold  Neighborhood  RoofMatl  RoofStyle  SaleCondition  SaleType  Street  \\\n",
       "0       4             5         0          1              4         8       1   \n",
       "1       7            24         0          1              4         8       1   \n",
       "2      11             5         0          1              4         8       1   \n",
       "3       4             6         0          1              0         8       1   \n",
       "4       3            15         0          1              4         8       1   \n",
       "\n",
       "   Utilities  YrSold  \n",
       "0          0       2  \n",
       "1          0       1  \n",
       "2          0       2  \n",
       "3          0       0  \n",
       "4          0       2  \n",
       "\n",
       "[5 rows x 26 columns]"
      ]
     },
     "execution_count": 162,
     "metadata": {},
     "output_type": "execute_result"
    }
   ],
   "source": [
    "#df_encoded.head()"
   ]
  },
  {
   "cell_type": "code",
   "execution_count": 168,
   "metadata": {},
   "outputs": [
    {
     "data": {
      "text/plain": [
       "Index(['1stFlrSF', '2ndFlrSF', 'BedroomAbvGr', 'BsmtCond', 'BsmtExposure',\n",
       "       'BsmtFinSF1', 'BsmtFinSF2', 'BsmtFinType1', 'BsmtFinType2',\n",
       "       'BsmtFullBath', 'BsmtQual', 'BsmtUnfSF', 'EnclosedPorch', 'ExterCond',\n",
       "       'ExterQual', 'FireplaceQu', 'Fireplaces', 'FullBath', 'GarageCars',\n",
       "       'GarageCond', 'GarageFinish', 'GarageQual', 'GarageYrBlt', 'GrLivArea',\n",
       "       'HalfBath', 'HeatingQC', 'Id', 'KitchenAbvGr', 'KitchenQual',\n",
       "       'LandSlope', 'LotArea', 'LotFrontage', 'LotShape', 'MasVnrArea',\n",
       "       'OpenPorchSF', 'OverallCond', 'OverallQual', 'PavedDrive',\n",
       "       'TotalBsmtSF', 'TotalSF', 'WoodDeckSF', 'YearBuilt', 'YearRemodAdd'],\n",
       "      dtype='object')"
      ]
     },
     "execution_count": 168,
     "metadata": {},
     "output_type": "execute_result"
    }
   ],
   "source": [
    "#other=full_data.loc[:, full_data.dtypes != np.object]\n",
    "other.columns"
   ]
  },
  {
   "cell_type": "code",
   "execution_count": 170,
   "metadata": {},
   "outputs": [
    {
     "data": {
      "text/plain": [
       "(2917, 69)"
      ]
     },
     "execution_count": 170,
     "metadata": {},
     "output_type": "execute_result"
    }
   ],
   "source": [
    "#new_data=pd.concat([other, df_encoded], axis=1)\n",
    "#new_data.shape"
   ]
  },
  {
   "cell_type": "code",
   "execution_count": 174,
   "metadata": {},
   "outputs": [],
   "source": [
    "newtrain= full_data[:1000]\n",
    "\n",
    "newvalidation = full_data[1000:1458]\n",
    "\n",
    "newtest = full_data[1458:]"
   ]
  },
  {
   "cell_type": "code",
   "execution_count": 175,
   "metadata": {},
   "outputs": [
    {
     "name": "stdout",
     "output_type": "stream",
     "text": [
      "(1000, 69)\n",
      "(458, 69)\n",
      "(1459, 69)\n"
     ]
    }
   ],
   "source": [
    "print(newtrain.shape)\n",
    "print(newvalidation.shape)\n",
    "print(newtest.shape)"
   ]
  },
  {
   "cell_type": "markdown",
   "metadata": {},
   "source": [
    "** (5) Save our cleaned and encoded data **"
   ]
  },
  {
   "cell_type": "code",
   "execution_count": 176,
   "metadata": {},
   "outputs": [],
   "source": [
    "newtrain.to_csv('/Users/wanmochen/Desktop/Data mining/project/newtrain.csv',index=False)\n",
    "newvalidation.to_csv('/Users/wanmochen/Desktop/Data mining/project/newvalidation.csv',index=False)\n",
    "newtest.to_csv('/Users/wanmochen/Desktop/Data mining/project/newtest.csv',index=False)              "
   ]
  },
  {
   "cell_type": "markdown",
   "metadata": {},
   "source": [
    "<div class=\"alert alert-block alert-info\">\n",
    "<font color='green'>Check our new data after saving. <br>\n",
    "Notice that we move Id in front of all other columns, so that it allows the checking process easier. </font>"
   ]
  },
  {
   "cell_type": "code",
   "execution_count": 177,
   "metadata": {},
   "outputs": [
    {
     "data": {
      "text/html": [
       "<div>\n",
       "<style scoped>\n",
       "    .dataframe tbody tr th:only-of-type {\n",
       "        vertical-align: middle;\n",
       "    }\n",
       "\n",
       "    .dataframe tbody tr th {\n",
       "        vertical-align: top;\n",
       "    }\n",
       "\n",
       "    .dataframe thead th {\n",
       "        text-align: right;\n",
       "    }\n",
       "</style>\n",
       "<table border=\"1\" class=\"dataframe\">\n",
       "  <thead>\n",
       "    <tr style=\"text-align: right;\">\n",
       "      <th></th>\n",
       "      <th>1stFlrSF</th>\n",
       "      <th>2ndFlrSF</th>\n",
       "      <th>BedroomAbvGr</th>\n",
       "      <th>BsmtCond</th>\n",
       "      <th>BsmtExposure</th>\n",
       "      <th>BsmtFinSF1</th>\n",
       "      <th>BsmtFinSF2</th>\n",
       "      <th>BsmtFinType1</th>\n",
       "      <th>BsmtFinType2</th>\n",
       "      <th>BsmtFullBath</th>\n",
       "      <th>...</th>\n",
       "      <th>MasVnrType</th>\n",
       "      <th>MoSold</th>\n",
       "      <th>Neighborhood</th>\n",
       "      <th>RoofMatl</th>\n",
       "      <th>RoofStyle</th>\n",
       "      <th>SaleCondition</th>\n",
       "      <th>SaleType</th>\n",
       "      <th>Street</th>\n",
       "      <th>Utilities</th>\n",
       "      <th>YrSold</th>\n",
       "    </tr>\n",
       "  </thead>\n",
       "  <tbody>\n",
       "    <tr>\n",
       "      <th>0</th>\n",
       "      <td>856</td>\n",
       "      <td>854</td>\n",
       "      <td>3</td>\n",
       "      <td>3</td>\n",
       "      <td>0</td>\n",
       "      <td>706.0</td>\n",
       "      <td>0.0</td>\n",
       "      <td>6</td>\n",
       "      <td>1</td>\n",
       "      <td>1.0</td>\n",
       "      <td>...</td>\n",
       "      <td>1</td>\n",
       "      <td>4</td>\n",
       "      <td>5</td>\n",
       "      <td>0</td>\n",
       "      <td>1</td>\n",
       "      <td>4</td>\n",
       "      <td>8</td>\n",
       "      <td>1</td>\n",
       "      <td>0</td>\n",
       "      <td>2</td>\n",
       "    </tr>\n",
       "    <tr>\n",
       "      <th>1</th>\n",
       "      <td>1262</td>\n",
       "      <td>0</td>\n",
       "      <td>3</td>\n",
       "      <td>3</td>\n",
       "      <td>3</td>\n",
       "      <td>978.0</td>\n",
       "      <td>0.0</td>\n",
       "      <td>5</td>\n",
       "      <td>1</td>\n",
       "      <td>0.0</td>\n",
       "      <td>...</td>\n",
       "      <td>3</td>\n",
       "      <td>7</td>\n",
       "      <td>24</td>\n",
       "      <td>0</td>\n",
       "      <td>1</td>\n",
       "      <td>4</td>\n",
       "      <td>8</td>\n",
       "      <td>1</td>\n",
       "      <td>0</td>\n",
       "      <td>1</td>\n",
       "    </tr>\n",
       "    <tr>\n",
       "      <th>2</th>\n",
       "      <td>920</td>\n",
       "      <td>866</td>\n",
       "      <td>3</td>\n",
       "      <td>3</td>\n",
       "      <td>1</td>\n",
       "      <td>486.0</td>\n",
       "      <td>0.0</td>\n",
       "      <td>6</td>\n",
       "      <td>1</td>\n",
       "      <td>1.0</td>\n",
       "      <td>...</td>\n",
       "      <td>1</td>\n",
       "      <td>11</td>\n",
       "      <td>5</td>\n",
       "      <td>0</td>\n",
       "      <td>1</td>\n",
       "      <td>4</td>\n",
       "      <td>8</td>\n",
       "      <td>1</td>\n",
       "      <td>0</td>\n",
       "      <td>2</td>\n",
       "    </tr>\n",
       "    <tr>\n",
       "      <th>3</th>\n",
       "      <td>961</td>\n",
       "      <td>756</td>\n",
       "      <td>3</td>\n",
       "      <td>4</td>\n",
       "      <td>0</td>\n",
       "      <td>216.0</td>\n",
       "      <td>0.0</td>\n",
       "      <td>5</td>\n",
       "      <td>1</td>\n",
       "      <td>1.0</td>\n",
       "      <td>...</td>\n",
       "      <td>3</td>\n",
       "      <td>4</td>\n",
       "      <td>6</td>\n",
       "      <td>0</td>\n",
       "      <td>1</td>\n",
       "      <td>0</td>\n",
       "      <td>8</td>\n",
       "      <td>1</td>\n",
       "      <td>0</td>\n",
       "      <td>0</td>\n",
       "    </tr>\n",
       "    <tr>\n",
       "      <th>4</th>\n",
       "      <td>1145</td>\n",
       "      <td>1053</td>\n",
       "      <td>4</td>\n",
       "      <td>3</td>\n",
       "      <td>2</td>\n",
       "      <td>655.0</td>\n",
       "      <td>0.0</td>\n",
       "      <td>6</td>\n",
       "      <td>1</td>\n",
       "      <td>1.0</td>\n",
       "      <td>...</td>\n",
       "      <td>1</td>\n",
       "      <td>3</td>\n",
       "      <td>15</td>\n",
       "      <td>0</td>\n",
       "      <td>1</td>\n",
       "      <td>4</td>\n",
       "      <td>8</td>\n",
       "      <td>1</td>\n",
       "      <td>0</td>\n",
       "      <td>2</td>\n",
       "    </tr>\n",
       "  </tbody>\n",
       "</table>\n",
       "<p>5 rows × 69 columns</p>\n",
       "</div>"
      ],
      "text/plain": [
       "   1stFlrSF  2ndFlrSF  BedroomAbvGr  BsmtCond  BsmtExposure  BsmtFinSF1  \\\n",
       "0       856       854             3         3             0       706.0   \n",
       "1      1262         0             3         3             3       978.0   \n",
       "2       920       866             3         3             1       486.0   \n",
       "3       961       756             3         4             0       216.0   \n",
       "4      1145      1053             4         3             2       655.0   \n",
       "\n",
       "   BsmtFinSF2  BsmtFinType1  BsmtFinType2  BsmtFullBath   ...    MasVnrType  \\\n",
       "0         0.0             6             1           1.0   ...             1   \n",
       "1         0.0             5             1           0.0   ...             3   \n",
       "2         0.0             6             1           1.0   ...             1   \n",
       "3         0.0             5             1           1.0   ...             3   \n",
       "4         0.0             6             1           1.0   ...             1   \n",
       "\n",
       "   MoSold  Neighborhood  RoofMatl  RoofStyle  SaleCondition  SaleType  Street  \\\n",
       "0       4             5         0          1              4         8       1   \n",
       "1       7            24         0          1              4         8       1   \n",
       "2      11             5         0          1              4         8       1   \n",
       "3       4             6         0          1              0         8       1   \n",
       "4       3            15         0          1              4         8       1   \n",
       "\n",
       "   Utilities  YrSold  \n",
       "0          0       2  \n",
       "1          0       1  \n",
       "2          0       2  \n",
       "3          0       0  \n",
       "4          0       2  \n",
       "\n",
       "[5 rows x 69 columns]"
      ]
     },
     "execution_count": 177,
     "metadata": {},
     "output_type": "execute_result"
    }
   ],
   "source": [
    "traint = pd.read_csv('/Users/wanmochen/Desktop/Data mining/project/newtrain.csv')\n",
    "validationt=pd.read_csv('/Users/wanmochen/Desktop/Data mining/project/newvalidation.csv')\n",
    "testt =pd.read_csv('/Users/wanmochen/Desktop/Data mining/project/newtest.csv')\n",
    "traint.head()"
   ]
  },
  {
   "cell_type": "code",
   "execution_count": 178,
   "metadata": {},
   "outputs": [
    {
     "data": {
      "text/html": [
       "<div>\n",
       "<style scoped>\n",
       "    .dataframe tbody tr th:only-of-type {\n",
       "        vertical-align: middle;\n",
       "    }\n",
       "\n",
       "    .dataframe tbody tr th {\n",
       "        vertical-align: top;\n",
       "    }\n",
       "\n",
       "    .dataframe thead th {\n",
       "        text-align: right;\n",
       "    }\n",
       "</style>\n",
       "<table border=\"1\" class=\"dataframe\">\n",
       "  <thead>\n",
       "    <tr style=\"text-align: right;\">\n",
       "      <th></th>\n",
       "      <th>Id</th>\n",
       "      <th>1stFlrSF</th>\n",
       "      <th>2ndFlrSF</th>\n",
       "      <th>BedroomAbvGr</th>\n",
       "      <th>BsmtCond</th>\n",
       "      <th>BsmtExposure</th>\n",
       "      <th>BsmtFinSF1</th>\n",
       "      <th>BsmtFinSF2</th>\n",
       "      <th>BsmtFinType1</th>\n",
       "      <th>BsmtFinType2</th>\n",
       "      <th>...</th>\n",
       "      <th>MasVnrType</th>\n",
       "      <th>MoSold</th>\n",
       "      <th>Neighborhood</th>\n",
       "      <th>RoofMatl</th>\n",
       "      <th>RoofStyle</th>\n",
       "      <th>SaleCondition</th>\n",
       "      <th>SaleType</th>\n",
       "      <th>Street</th>\n",
       "      <th>Utilities</th>\n",
       "      <th>YrSold</th>\n",
       "    </tr>\n",
       "  </thead>\n",
       "  <tbody>\n",
       "    <tr>\n",
       "      <th>995</th>\n",
       "      <td>997</td>\n",
       "      <td>1050</td>\n",
       "      <td>0</td>\n",
       "      <td>3</td>\n",
       "      <td>3</td>\n",
       "      <td>0</td>\n",
       "      <td>915.0</td>\n",
       "      <td>0.0</td>\n",
       "      <td>3</td>\n",
       "      <td>1</td>\n",
       "      <td>...</td>\n",
       "      <td>3</td>\n",
       "      <td>0</td>\n",
       "      <td>12</td>\n",
       "      <td>0</td>\n",
       "      <td>3</td>\n",
       "      <td>4</td>\n",
       "      <td>0</td>\n",
       "      <td>1</td>\n",
       "      <td>0</td>\n",
       "      <td>0</td>\n",
       "    </tr>\n",
       "    <tr>\n",
       "      <th>996</th>\n",
       "      <td>998</td>\n",
       "      <td>1442</td>\n",
       "      <td>0</td>\n",
       "      <td>2</td>\n",
       "      <td>3</td>\n",
       "      <td>0</td>\n",
       "      <td>0.0</td>\n",
       "      <td>0.0</td>\n",
       "      <td>1</td>\n",
       "      <td>1</td>\n",
       "      <td>...</td>\n",
       "      <td>1</td>\n",
       "      <td>4</td>\n",
       "      <td>14</td>\n",
       "      <td>0</td>\n",
       "      <td>3</td>\n",
       "      <td>4</td>\n",
       "      <td>8</td>\n",
       "      <td>1</td>\n",
       "      <td>0</td>\n",
       "      <td>3</td>\n",
       "    </tr>\n",
       "    <tr>\n",
       "      <th>997</th>\n",
       "      <td>999</td>\n",
       "      <td>1077</td>\n",
       "      <td>0</td>\n",
       "      <td>3</td>\n",
       "      <td>2</td>\n",
       "      <td>0</td>\n",
       "      <td>0.0</td>\n",
       "      <td>0.0</td>\n",
       "      <td>1</td>\n",
       "      <td>1</td>\n",
       "      <td>...</td>\n",
       "      <td>3</td>\n",
       "      <td>7</td>\n",
       "      <td>9</td>\n",
       "      <td>0</td>\n",
       "      <td>3</td>\n",
       "      <td>4</td>\n",
       "      <td>8</td>\n",
       "      <td>1</td>\n",
       "      <td>0</td>\n",
       "      <td>0</td>\n",
       "    </tr>\n",
       "    <tr>\n",
       "      <th>998</th>\n",
       "      <td>1000</td>\n",
       "      <td>1208</td>\n",
       "      <td>0</td>\n",
       "      <td>2</td>\n",
       "      <td>3</td>\n",
       "      <td>2</td>\n",
       "      <td>686.0</td>\n",
       "      <td>0.0</td>\n",
       "      <td>6</td>\n",
       "      <td>1</td>\n",
       "      <td>...</td>\n",
       "      <td>4</td>\n",
       "      <td>4</td>\n",
       "      <td>5</td>\n",
       "      <td>0</td>\n",
       "      <td>1</td>\n",
       "      <td>4</td>\n",
       "      <td>8</td>\n",
       "      <td>1</td>\n",
       "      <td>0</td>\n",
       "      <td>4</td>\n",
       "    </tr>\n",
       "    <tr>\n",
       "      <th>999</th>\n",
       "      <td>1001</td>\n",
       "      <td>944</td>\n",
       "      <td>0</td>\n",
       "      <td>2</td>\n",
       "      <td>0</td>\n",
       "      <td>0</td>\n",
       "      <td>0.0</td>\n",
       "      <td>0.0</td>\n",
       "      <td>0</td>\n",
       "      <td>0</td>\n",
       "      <td>...</td>\n",
       "      <td>3</td>\n",
       "      <td>9</td>\n",
       "      <td>7</td>\n",
       "      <td>4</td>\n",
       "      <td>0</td>\n",
       "      <td>4</td>\n",
       "      <td>8</td>\n",
       "      <td>1</td>\n",
       "      <td>0</td>\n",
       "      <td>3</td>\n",
       "    </tr>\n",
       "  </tbody>\n",
       "</table>\n",
       "<p>5 rows × 69 columns</p>\n",
       "</div>"
      ],
      "text/plain": [
       "       Id  1stFlrSF  2ndFlrSF  BedroomAbvGr  BsmtCond  BsmtExposure  \\\n",
       "995   997      1050         0             3         3             0   \n",
       "996   998      1442         0             2         3             0   \n",
       "997   999      1077         0             3         2             0   \n",
       "998  1000      1208         0             2         3             2   \n",
       "999  1001       944         0             2         0             0   \n",
       "\n",
       "     BsmtFinSF1  BsmtFinSF2  BsmtFinType1  BsmtFinType2   ...    MasVnrType  \\\n",
       "995       915.0         0.0             3             1   ...             3   \n",
       "996         0.0         0.0             1             1   ...             1   \n",
       "997         0.0         0.0             1             1   ...             3   \n",
       "998       686.0         0.0             6             1   ...             4   \n",
       "999         0.0         0.0             0             0   ...             3   \n",
       "\n",
       "     MoSold  Neighborhood  RoofMatl  RoofStyle  SaleCondition  SaleType  \\\n",
       "995       0            12         0          3              4         0   \n",
       "996       4            14         0          3              4         8   \n",
       "997       7             9         0          3              4         8   \n",
       "998       4             5         0          1              4         8   \n",
       "999       9             7         4          0              4         8   \n",
       "\n",
       "     Street  Utilities  YrSold  \n",
       "995       1          0       0  \n",
       "996       1          0       3  \n",
       "997       1          0       0  \n",
       "998       1          0       4  \n",
       "999       1          0       3  \n",
       "\n",
       "[5 rows x 69 columns]"
      ]
     },
     "execution_count": 178,
     "metadata": {},
     "output_type": "execute_result"
    }
   ],
   "source": [
    "cols = traint.columns.tolist()\n",
    "cols = ['Id']  + [col for col in traint if col != 'Id']\n",
    "traint = traint[cols]\n",
    "traint.tail()"
   ]
  },
  {
   "cell_type": "code",
   "execution_count": 179,
   "metadata": {},
   "outputs": [
    {
     "data": {
      "text/html": [
       "<div>\n",
       "<style scoped>\n",
       "    .dataframe tbody tr th:only-of-type {\n",
       "        vertical-align: middle;\n",
       "    }\n",
       "\n",
       "    .dataframe tbody tr th {\n",
       "        vertical-align: top;\n",
       "    }\n",
       "\n",
       "    .dataframe thead th {\n",
       "        text-align: right;\n",
       "    }\n",
       "</style>\n",
       "<table border=\"1\" class=\"dataframe\">\n",
       "  <thead>\n",
       "    <tr style=\"text-align: right;\">\n",
       "      <th></th>\n",
       "      <th>Id</th>\n",
       "      <th>1stFlrSF</th>\n",
       "      <th>2ndFlrSF</th>\n",
       "      <th>BedroomAbvGr</th>\n",
       "      <th>BsmtCond</th>\n",
       "      <th>BsmtExposure</th>\n",
       "      <th>BsmtFinSF1</th>\n",
       "      <th>BsmtFinSF2</th>\n",
       "      <th>BsmtFinType1</th>\n",
       "      <th>BsmtFinType2</th>\n",
       "      <th>...</th>\n",
       "      <th>MasVnrType</th>\n",
       "      <th>MoSold</th>\n",
       "      <th>Neighborhood</th>\n",
       "      <th>RoofMatl</th>\n",
       "      <th>RoofStyle</th>\n",
       "      <th>SaleCondition</th>\n",
       "      <th>SaleType</th>\n",
       "      <th>Street</th>\n",
       "      <th>Utilities</th>\n",
       "      <th>YrSold</th>\n",
       "    </tr>\n",
       "  </thead>\n",
       "  <tbody>\n",
       "    <tr>\n",
       "      <th>453</th>\n",
       "      <td>1456</td>\n",
       "      <td>953</td>\n",
       "      <td>694</td>\n",
       "      <td>3</td>\n",
       "      <td>3</td>\n",
       "      <td>0</td>\n",
       "      <td>0.0</td>\n",
       "      <td>0.0</td>\n",
       "      <td>1</td>\n",
       "      <td>1</td>\n",
       "      <td>...</td>\n",
       "      <td>3</td>\n",
       "      <td>10</td>\n",
       "      <td>8</td>\n",
       "      <td>0</td>\n",
       "      <td>1</td>\n",
       "      <td>4</td>\n",
       "      <td>8</td>\n",
       "      <td>1</td>\n",
       "      <td>0</td>\n",
       "      <td>1</td>\n",
       "    </tr>\n",
       "    <tr>\n",
       "      <th>454</th>\n",
       "      <td>1457</td>\n",
       "      <td>2073</td>\n",
       "      <td>0</td>\n",
       "      <td>3</td>\n",
       "      <td>3</td>\n",
       "      <td>0</td>\n",
       "      <td>790.0</td>\n",
       "      <td>163.0</td>\n",
       "      <td>5</td>\n",
       "      <td>3</td>\n",
       "      <td>...</td>\n",
       "      <td>4</td>\n",
       "      <td>4</td>\n",
       "      <td>14</td>\n",
       "      <td>0</td>\n",
       "      <td>1</td>\n",
       "      <td>4</td>\n",
       "      <td>8</td>\n",
       "      <td>1</td>\n",
       "      <td>0</td>\n",
       "      <td>4</td>\n",
       "    </tr>\n",
       "    <tr>\n",
       "      <th>455</th>\n",
       "      <td>1458</td>\n",
       "      <td>1188</td>\n",
       "      <td>1152</td>\n",
       "      <td>4</td>\n",
       "      <td>4</td>\n",
       "      <td>0</td>\n",
       "      <td>275.0</td>\n",
       "      <td>0.0</td>\n",
       "      <td>6</td>\n",
       "      <td>1</td>\n",
       "      <td>...</td>\n",
       "      <td>3</td>\n",
       "      <td>7</td>\n",
       "      <td>6</td>\n",
       "      <td>0</td>\n",
       "      <td>1</td>\n",
       "      <td>4</td>\n",
       "      <td>8</td>\n",
       "      <td>1</td>\n",
       "      <td>0</td>\n",
       "      <td>4</td>\n",
       "    </tr>\n",
       "    <tr>\n",
       "      <th>456</th>\n",
       "      <td>1459</td>\n",
       "      <td>1078</td>\n",
       "      <td>0</td>\n",
       "      <td>2</td>\n",
       "      <td>3</td>\n",
       "      <td>1</td>\n",
       "      <td>49.0</td>\n",
       "      <td>1029.0</td>\n",
       "      <td>6</td>\n",
       "      <td>3</td>\n",
       "      <td>...</td>\n",
       "      <td>3</td>\n",
       "      <td>6</td>\n",
       "      <td>12</td>\n",
       "      <td>0</td>\n",
       "      <td>3</td>\n",
       "      <td>4</td>\n",
       "      <td>8</td>\n",
       "      <td>1</td>\n",
       "      <td>0</td>\n",
       "      <td>4</td>\n",
       "    </tr>\n",
       "    <tr>\n",
       "      <th>457</th>\n",
       "      <td>1460</td>\n",
       "      <td>1256</td>\n",
       "      <td>0</td>\n",
       "      <td>3</td>\n",
       "      <td>3</td>\n",
       "      <td>0</td>\n",
       "      <td>830.0</td>\n",
       "      <td>290.0</td>\n",
       "      <td>4</td>\n",
       "      <td>2</td>\n",
       "      <td>...</td>\n",
       "      <td>3</td>\n",
       "      <td>8</td>\n",
       "      <td>7</td>\n",
       "      <td>0</td>\n",
       "      <td>1</td>\n",
       "      <td>4</td>\n",
       "      <td>8</td>\n",
       "      <td>1</td>\n",
       "      <td>0</td>\n",
       "      <td>2</td>\n",
       "    </tr>\n",
       "  </tbody>\n",
       "</table>\n",
       "<p>5 rows × 69 columns</p>\n",
       "</div>"
      ],
      "text/plain": [
       "       Id  1stFlrSF  2ndFlrSF  BedroomAbvGr  BsmtCond  BsmtExposure  \\\n",
       "453  1456       953       694             3         3             0   \n",
       "454  1457      2073         0             3         3             0   \n",
       "455  1458      1188      1152             4         4             0   \n",
       "456  1459      1078         0             2         3             1   \n",
       "457  1460      1256         0             3         3             0   \n",
       "\n",
       "     BsmtFinSF1  BsmtFinSF2  BsmtFinType1  BsmtFinType2   ...    MasVnrType  \\\n",
       "453         0.0         0.0             1             1   ...             3   \n",
       "454       790.0       163.0             5             3   ...             4   \n",
       "455       275.0         0.0             6             1   ...             3   \n",
       "456        49.0      1029.0             6             3   ...             3   \n",
       "457       830.0       290.0             4             2   ...             3   \n",
       "\n",
       "     MoSold  Neighborhood  RoofMatl  RoofStyle  SaleCondition  SaleType  \\\n",
       "453      10             8         0          1              4         8   \n",
       "454       4            14         0          1              4         8   \n",
       "455       7             6         0          1              4         8   \n",
       "456       6            12         0          3              4         8   \n",
       "457       8             7         0          1              4         8   \n",
       "\n",
       "     Street  Utilities  YrSold  \n",
       "453       1          0       1  \n",
       "454       1          0       4  \n",
       "455       1          0       4  \n",
       "456       1          0       4  \n",
       "457       1          0       2  \n",
       "\n",
       "[5 rows x 69 columns]"
      ]
     },
     "execution_count": 179,
     "metadata": {},
     "output_type": "execute_result"
    }
   ],
   "source": [
    "cols = validationt.columns.tolist()\n",
    "cols = ['Id']  + [col for col in validationt if col != 'Id']\n",
    "validationt = validationt[cols]\n",
    "validationt.tail()"
   ]
  },
  {
   "cell_type": "code",
   "execution_count": 180,
   "metadata": {},
   "outputs": [
    {
     "data": {
      "text/html": [
       "<div>\n",
       "<style scoped>\n",
       "    .dataframe tbody tr th:only-of-type {\n",
       "        vertical-align: middle;\n",
       "    }\n",
       "\n",
       "    .dataframe tbody tr th {\n",
       "        vertical-align: top;\n",
       "    }\n",
       "\n",
       "    .dataframe thead th {\n",
       "        text-align: right;\n",
       "    }\n",
       "</style>\n",
       "<table border=\"1\" class=\"dataframe\">\n",
       "  <thead>\n",
       "    <tr style=\"text-align: right;\">\n",
       "      <th></th>\n",
       "      <th>Id</th>\n",
       "      <th>1stFlrSF</th>\n",
       "      <th>2ndFlrSF</th>\n",
       "      <th>BedroomAbvGr</th>\n",
       "      <th>BsmtCond</th>\n",
       "      <th>BsmtExposure</th>\n",
       "      <th>BsmtFinSF1</th>\n",
       "      <th>BsmtFinSF2</th>\n",
       "      <th>BsmtFinType1</th>\n",
       "      <th>BsmtFinType2</th>\n",
       "      <th>...</th>\n",
       "      <th>MasVnrType</th>\n",
       "      <th>MoSold</th>\n",
       "      <th>Neighborhood</th>\n",
       "      <th>RoofMatl</th>\n",
       "      <th>RoofStyle</th>\n",
       "      <th>SaleCondition</th>\n",
       "      <th>SaleType</th>\n",
       "      <th>Street</th>\n",
       "      <th>Utilities</th>\n",
       "      <th>YrSold</th>\n",
       "    </tr>\n",
       "  </thead>\n",
       "  <tbody>\n",
       "    <tr>\n",
       "      <th>1454</th>\n",
       "      <td>2915</td>\n",
       "      <td>546</td>\n",
       "      <td>546</td>\n",
       "      <td>3</td>\n",
       "      <td>3</td>\n",
       "      <td>0</td>\n",
       "      <td>0.0</td>\n",
       "      <td>0.0</td>\n",
       "      <td>1</td>\n",
       "      <td>1</td>\n",
       "      <td>...</td>\n",
       "      <td>3</td>\n",
       "      <td>8</td>\n",
       "      <td>10</td>\n",
       "      <td>0</td>\n",
       "      <td>1</td>\n",
       "      <td>4</td>\n",
       "      <td>8</td>\n",
       "      <td>1</td>\n",
       "      <td>0</td>\n",
       "      <td>0</td>\n",
       "    </tr>\n",
       "    <tr>\n",
       "      <th>1455</th>\n",
       "      <td>2916</td>\n",
       "      <td>546</td>\n",
       "      <td>546</td>\n",
       "      <td>3</td>\n",
       "      <td>3</td>\n",
       "      <td>0</td>\n",
       "      <td>252.0</td>\n",
       "      <td>0.0</td>\n",
       "      <td>3</td>\n",
       "      <td>1</td>\n",
       "      <td>...</td>\n",
       "      <td>3</td>\n",
       "      <td>6</td>\n",
       "      <td>10</td>\n",
       "      <td>0</td>\n",
       "      <td>1</td>\n",
       "      <td>0</td>\n",
       "      <td>8</td>\n",
       "      <td>1</td>\n",
       "      <td>0</td>\n",
       "      <td>0</td>\n",
       "    </tr>\n",
       "    <tr>\n",
       "      <th>1456</th>\n",
       "      <td>2917</td>\n",
       "      <td>1224</td>\n",
       "      <td>0</td>\n",
       "      <td>4</td>\n",
       "      <td>3</td>\n",
       "      <td>0</td>\n",
       "      <td>1224.0</td>\n",
       "      <td>0.0</td>\n",
       "      <td>5</td>\n",
       "      <td>1</td>\n",
       "      <td>...</td>\n",
       "      <td>3</td>\n",
       "      <td>11</td>\n",
       "      <td>11</td>\n",
       "      <td>0</td>\n",
       "      <td>1</td>\n",
       "      <td>0</td>\n",
       "      <td>8</td>\n",
       "      <td>1</td>\n",
       "      <td>0</td>\n",
       "      <td>0</td>\n",
       "    </tr>\n",
       "    <tr>\n",
       "      <th>1457</th>\n",
       "      <td>2918</td>\n",
       "      <td>970</td>\n",
       "      <td>0</td>\n",
       "      <td>3</td>\n",
       "      <td>3</td>\n",
       "      <td>2</td>\n",
       "      <td>337.0</td>\n",
       "      <td>0.0</td>\n",
       "      <td>6</td>\n",
       "      <td>1</td>\n",
       "      <td>...</td>\n",
       "      <td>3</td>\n",
       "      <td>9</td>\n",
       "      <td>11</td>\n",
       "      <td>0</td>\n",
       "      <td>1</td>\n",
       "      <td>4</td>\n",
       "      <td>8</td>\n",
       "      <td>1</td>\n",
       "      <td>0</td>\n",
       "      <td>0</td>\n",
       "    </tr>\n",
       "    <tr>\n",
       "      <th>1458</th>\n",
       "      <td>2919</td>\n",
       "      <td>996</td>\n",
       "      <td>1004</td>\n",
       "      <td>3</td>\n",
       "      <td>3</td>\n",
       "      <td>2</td>\n",
       "      <td>758.0</td>\n",
       "      <td>0.0</td>\n",
       "      <td>2</td>\n",
       "      <td>1</td>\n",
       "      <td>...</td>\n",
       "      <td>1</td>\n",
       "      <td>2</td>\n",
       "      <td>11</td>\n",
       "      <td>0</td>\n",
       "      <td>1</td>\n",
       "      <td>4</td>\n",
       "      <td>8</td>\n",
       "      <td>1</td>\n",
       "      <td>0</td>\n",
       "      <td>0</td>\n",
       "    </tr>\n",
       "  </tbody>\n",
       "</table>\n",
       "<p>5 rows × 69 columns</p>\n",
       "</div>"
      ],
      "text/plain": [
       "        Id  1stFlrSF  2ndFlrSF  BedroomAbvGr  BsmtCond  BsmtExposure  \\\n",
       "1454  2915       546       546             3         3             0   \n",
       "1455  2916       546       546             3         3             0   \n",
       "1456  2917      1224         0             4         3             0   \n",
       "1457  2918       970         0             3         3             2   \n",
       "1458  2919       996      1004             3         3             2   \n",
       "\n",
       "      BsmtFinSF1  BsmtFinSF2  BsmtFinType1  BsmtFinType2   ...    MasVnrType  \\\n",
       "1454         0.0         0.0             1             1   ...             3   \n",
       "1455       252.0         0.0             3             1   ...             3   \n",
       "1456      1224.0         0.0             5             1   ...             3   \n",
       "1457       337.0         0.0             6             1   ...             3   \n",
       "1458       758.0         0.0             2             1   ...             1   \n",
       "\n",
       "      MoSold  Neighborhood  RoofMatl  RoofStyle  SaleCondition  SaleType  \\\n",
       "1454       8            10         0          1              4         8   \n",
       "1455       6            10         0          1              0         8   \n",
       "1456      11            11         0          1              0         8   \n",
       "1457       9            11         0          1              4         8   \n",
       "1458       2            11         0          1              4         8   \n",
       "\n",
       "      Street  Utilities  YrSold  \n",
       "1454       1          0       0  \n",
       "1455       1          0       0  \n",
       "1456       1          0       0  \n",
       "1457       1          0       0  \n",
       "1458       1          0       0  \n",
       "\n",
       "[5 rows x 69 columns]"
      ]
     },
     "execution_count": 180,
     "metadata": {},
     "output_type": "execute_result"
    }
   ],
   "source": [
    "cols = testt.columns.tolist()\n",
    "cols = ['Id']  + [col for col in testt if col != 'Id']\n",
    "testt = testt[cols]\n",
    "testt.tail()"
   ]
  },
  {
   "cell_type": "code",
   "execution_count": 181,
   "metadata": {},
   "outputs": [
    {
     "name": "stdout",
     "output_type": "stream",
     "text": [
      "(1000, 69)\n",
      "(458, 69)\n",
      "(1459, 69)\n"
     ]
    }
   ],
   "source": [
    "print(traint.shape)\n",
    "print(validationt.shape)\n",
    "print(testt.shape)"
   ]
  },
  {
   "cell_type": "markdown",
   "metadata": {},
   "source": [
    "<div class=\"alert alert-block alert-success\">\n",
    "<font color='darkblue'>We need to add back our target variable SalePrice in our Train data and Validation data in order to build our model later. </font>\n",
    "<br>We will talk about how we build our validation data set after this."
   ]
  },
  {
   "cell_type": "code",
   "execution_count": 182,
   "metadata": {},
   "outputs": [
    {
     "ename": "AttributeError",
     "evalue": "'H2OFrame' object has no attribute 'SalePrice'",
     "output_type": "error",
     "traceback": [
      "\u001b[0;31m---------------------------------------------------------------------------\u001b[0m",
      "\u001b[0;31mAttributeError\u001b[0m                            Traceback (most recent call last)",
      "\u001b[0;32m<ipython-input-182-ca147abe9503>\u001b[0m in \u001b[0;36m<module>\u001b[0;34m()\u001b[0m\n\u001b[0;32m----> 1\u001b[0;31m \u001b[0my_train\u001b[0m \u001b[0;34m=\u001b[0m \u001b[0mtrain\u001b[0m\u001b[0;34m.\u001b[0m\u001b[0mSalePrice\u001b[0m\u001b[0;34m.\u001b[0m\u001b[0mvalues\u001b[0m\u001b[0;34m\u001b[0m\u001b[0m\n\u001b[0m\u001b[1;32m      2\u001b[0m \u001b[0my_train\u001b[0m\u001b[0;34m\u001b[0m\u001b[0m\n",
      "\u001b[0;31mAttributeError\u001b[0m: 'H2OFrame' object has no attribute 'SalePrice'"
     ]
    }
   ],
   "source": [
    "y_train = train.SalePrice.values\n",
    "y_train"
   ]
  },
  {
   "cell_type": "code",
   "execution_count": 183,
   "metadata": {},
   "outputs": [
    {
     "name": "stdout",
     "output_type": "stream",
     "text": [
      "(1458, 1)\n"
     ]
    },
    {
     "data": {
      "text/html": [
       "<div>\n",
       "<style scoped>\n",
       "    .dataframe tbody tr th:only-of-type {\n",
       "        vertical-align: middle;\n",
       "    }\n",
       "\n",
       "    .dataframe tbody tr th {\n",
       "        vertical-align: top;\n",
       "    }\n",
       "\n",
       "    .dataframe thead th {\n",
       "        text-align: right;\n",
       "    }\n",
       "</style>\n",
       "<table border=\"1\" class=\"dataframe\">\n",
       "  <thead>\n",
       "    <tr style=\"text-align: right;\">\n",
       "      <th></th>\n",
       "      <th>SalePrice</th>\n",
       "    </tr>\n",
       "  </thead>\n",
       "  <tbody>\n",
       "    <tr>\n",
       "      <th>0</th>\n",
       "      <td>12.247699</td>\n",
       "    </tr>\n",
       "    <tr>\n",
       "      <th>1</th>\n",
       "      <td>12.109016</td>\n",
       "    </tr>\n",
       "    <tr>\n",
       "      <th>2</th>\n",
       "      <td>12.317171</td>\n",
       "    </tr>\n",
       "    <tr>\n",
       "      <th>3</th>\n",
       "      <td>11.849405</td>\n",
       "    </tr>\n",
       "    <tr>\n",
       "      <th>4</th>\n",
       "      <td>12.429220</td>\n",
       "    </tr>\n",
       "  </tbody>\n",
       "</table>\n",
       "</div>"
      ],
      "text/plain": [
       "   SalePrice\n",
       "0  12.247699\n",
       "1  12.109016\n",
       "2  12.317171\n",
       "3  11.849405\n",
       "4  12.429220"
      ]
     },
     "execution_count": 183,
     "metadata": {},
     "output_type": "execute_result"
    }
   ],
   "source": [
    "a=y_train\n",
    "\n",
    "df_SalePrice=pd.DataFrame(a)\n",
    "df_SalePrice.columns =['SalePrice']\n",
    "\n",
    "print(df_SalePrice.shape)\n",
    "df_SalePrice.head()"
   ]
  },
  {
   "cell_type": "code",
   "execution_count": 184,
   "metadata": {},
   "outputs": [],
   "source": [
    "data=pd.concat((traint,validationt)).reset_index(drop=True)"
   ]
  },
  {
   "cell_type": "code",
   "execution_count": 185,
   "metadata": {},
   "outputs": [
    {
     "name": "stdout",
     "output_type": "stream",
     "text": [
      "(1458, 70)\n"
     ]
    },
    {
     "data": {
      "text/html": [
       "<div>\n",
       "<style scoped>\n",
       "    .dataframe tbody tr th:only-of-type {\n",
       "        vertical-align: middle;\n",
       "    }\n",
       "\n",
       "    .dataframe tbody tr th {\n",
       "        vertical-align: top;\n",
       "    }\n",
       "\n",
       "    .dataframe thead th {\n",
       "        text-align: right;\n",
       "    }\n",
       "</style>\n",
       "<table border=\"1\" class=\"dataframe\">\n",
       "  <thead>\n",
       "    <tr style=\"text-align: right;\">\n",
       "      <th></th>\n",
       "      <th>Id</th>\n",
       "      <th>1stFlrSF</th>\n",
       "      <th>2ndFlrSF</th>\n",
       "      <th>BedroomAbvGr</th>\n",
       "      <th>BsmtCond</th>\n",
       "      <th>BsmtExposure</th>\n",
       "      <th>BsmtFinSF1</th>\n",
       "      <th>BsmtFinSF2</th>\n",
       "      <th>BsmtFinType1</th>\n",
       "      <th>BsmtFinType2</th>\n",
       "      <th>...</th>\n",
       "      <th>MoSold</th>\n",
       "      <th>Neighborhood</th>\n",
       "      <th>RoofMatl</th>\n",
       "      <th>RoofStyle</th>\n",
       "      <th>SaleCondition</th>\n",
       "      <th>SaleType</th>\n",
       "      <th>Street</th>\n",
       "      <th>Utilities</th>\n",
       "      <th>YrSold</th>\n",
       "      <th>SalePrice</th>\n",
       "    </tr>\n",
       "  </thead>\n",
       "  <tbody>\n",
       "    <tr>\n",
       "      <th>0</th>\n",
       "      <td>1</td>\n",
       "      <td>856</td>\n",
       "      <td>854</td>\n",
       "      <td>3</td>\n",
       "      <td>3</td>\n",
       "      <td>0</td>\n",
       "      <td>706.0</td>\n",
       "      <td>0.0</td>\n",
       "      <td>6</td>\n",
       "      <td>1</td>\n",
       "      <td>...</td>\n",
       "      <td>4</td>\n",
       "      <td>5</td>\n",
       "      <td>0</td>\n",
       "      <td>1</td>\n",
       "      <td>4</td>\n",
       "      <td>8</td>\n",
       "      <td>1</td>\n",
       "      <td>0</td>\n",
       "      <td>2</td>\n",
       "      <td>12.247699</td>\n",
       "    </tr>\n",
       "    <tr>\n",
       "      <th>1</th>\n",
       "      <td>2</td>\n",
       "      <td>1262</td>\n",
       "      <td>0</td>\n",
       "      <td>3</td>\n",
       "      <td>3</td>\n",
       "      <td>3</td>\n",
       "      <td>978.0</td>\n",
       "      <td>0.0</td>\n",
       "      <td>5</td>\n",
       "      <td>1</td>\n",
       "      <td>...</td>\n",
       "      <td>7</td>\n",
       "      <td>24</td>\n",
       "      <td>0</td>\n",
       "      <td>1</td>\n",
       "      <td>4</td>\n",
       "      <td>8</td>\n",
       "      <td>1</td>\n",
       "      <td>0</td>\n",
       "      <td>1</td>\n",
       "      <td>12.109016</td>\n",
       "    </tr>\n",
       "    <tr>\n",
       "      <th>2</th>\n",
       "      <td>3</td>\n",
       "      <td>920</td>\n",
       "      <td>866</td>\n",
       "      <td>3</td>\n",
       "      <td>3</td>\n",
       "      <td>1</td>\n",
       "      <td>486.0</td>\n",
       "      <td>0.0</td>\n",
       "      <td>6</td>\n",
       "      <td>1</td>\n",
       "      <td>...</td>\n",
       "      <td>11</td>\n",
       "      <td>5</td>\n",
       "      <td>0</td>\n",
       "      <td>1</td>\n",
       "      <td>4</td>\n",
       "      <td>8</td>\n",
       "      <td>1</td>\n",
       "      <td>0</td>\n",
       "      <td>2</td>\n",
       "      <td>12.317171</td>\n",
       "    </tr>\n",
       "    <tr>\n",
       "      <th>3</th>\n",
       "      <td>4</td>\n",
       "      <td>961</td>\n",
       "      <td>756</td>\n",
       "      <td>3</td>\n",
       "      <td>4</td>\n",
       "      <td>0</td>\n",
       "      <td>216.0</td>\n",
       "      <td>0.0</td>\n",
       "      <td>5</td>\n",
       "      <td>1</td>\n",
       "      <td>...</td>\n",
       "      <td>4</td>\n",
       "      <td>6</td>\n",
       "      <td>0</td>\n",
       "      <td>1</td>\n",
       "      <td>0</td>\n",
       "      <td>8</td>\n",
       "      <td>1</td>\n",
       "      <td>0</td>\n",
       "      <td>0</td>\n",
       "      <td>11.849405</td>\n",
       "    </tr>\n",
       "    <tr>\n",
       "      <th>4</th>\n",
       "      <td>5</td>\n",
       "      <td>1145</td>\n",
       "      <td>1053</td>\n",
       "      <td>4</td>\n",
       "      <td>3</td>\n",
       "      <td>2</td>\n",
       "      <td>655.0</td>\n",
       "      <td>0.0</td>\n",
       "      <td>6</td>\n",
       "      <td>1</td>\n",
       "      <td>...</td>\n",
       "      <td>3</td>\n",
       "      <td>15</td>\n",
       "      <td>0</td>\n",
       "      <td>1</td>\n",
       "      <td>4</td>\n",
       "      <td>8</td>\n",
       "      <td>1</td>\n",
       "      <td>0</td>\n",
       "      <td>2</td>\n",
       "      <td>12.429220</td>\n",
       "    </tr>\n",
       "  </tbody>\n",
       "</table>\n",
       "<p>5 rows × 70 columns</p>\n",
       "</div>"
      ],
      "text/plain": [
       "   Id  1stFlrSF  2ndFlrSF  BedroomAbvGr  BsmtCond  BsmtExposure  BsmtFinSF1  \\\n",
       "0   1       856       854             3         3             0       706.0   \n",
       "1   2      1262         0             3         3             3       978.0   \n",
       "2   3       920       866             3         3             1       486.0   \n",
       "3   4       961       756             3         4             0       216.0   \n",
       "4   5      1145      1053             4         3             2       655.0   \n",
       "\n",
       "   BsmtFinSF2  BsmtFinType1  BsmtFinType2    ...      MoSold  Neighborhood  \\\n",
       "0         0.0             6             1    ...           4             5   \n",
       "1         0.0             5             1    ...           7            24   \n",
       "2         0.0             6             1    ...          11             5   \n",
       "3         0.0             5             1    ...           4             6   \n",
       "4         0.0             6             1    ...           3            15   \n",
       "\n",
       "   RoofMatl  RoofStyle  SaleCondition  SaleType  Street  Utilities  YrSold  \\\n",
       "0         0          1              4         8       1          0       2   \n",
       "1         0          1              4         8       1          0       1   \n",
       "2         0          1              4         8       1          0       2   \n",
       "3         0          1              0         8       1          0       0   \n",
       "4         0          1              4         8       1          0       2   \n",
       "\n",
       "   SalePrice  \n",
       "0  12.247699  \n",
       "1  12.109016  \n",
       "2  12.317171  \n",
       "3  11.849405  \n",
       "4  12.429220  \n",
       "\n",
       "[5 rows x 70 columns]"
      ]
     },
     "execution_count": 185,
     "metadata": {},
     "output_type": "execute_result"
    }
   ],
   "source": [
    "data = pd.concat([data, df_SalePrice], axis=1)\n",
    "print(data.shape)\n",
    "data.head()"
   ]
  },
  {
   "cell_type": "code",
   "execution_count": 186,
   "metadata": {},
   "outputs": [
    {
     "name": "stdout",
     "output_type": "stream",
     "text": [
      "(1000, 70)\n",
      "(458, 70)\n"
     ]
    }
   ],
   "source": [
    "newtrain2 =data[:1000]\n",
    "newvalidation2 = data[1000:]\n",
    "print(newtrain2.shape)\n",
    "print(newvalidation2.shape)"
   ]
  },
  {
   "cell_type": "code",
   "execution_count": 187,
   "metadata": {},
   "outputs": [],
   "source": [
    "newtrain2.to_csv('/Users/wanmochen/Desktop/Data mining/project/train_model.csv',index=False)\n",
    "newvalidation2.to_csv('/Users/wanmochen/Desktop/Data mining/project/validation_model.csv',index=False)\n",
    "testt.to_csv('/Users/wanmochen/Desktop/Data mining/project/test_model.csv',index=False)"
   ]
  },
  {
   "cell_type": "markdown",
   "metadata": {},
   "source": [
    "<div class=\"alert alert-block alert-info\">\n",
    "<font color='green'>Final Check our data and save them as train, validation, and test data, so that we can building our model. </font>"
   ]
  },
  {
   "cell_type": "code",
   "execution_count": 188,
   "metadata": {},
   "outputs": [
    {
     "data": {
      "text/html": [
       "<div>\n",
       "<style scoped>\n",
       "    .dataframe tbody tr th:only-of-type {\n",
       "        vertical-align: middle;\n",
       "    }\n",
       "\n",
       "    .dataframe tbody tr th {\n",
       "        vertical-align: top;\n",
       "    }\n",
       "\n",
       "    .dataframe thead th {\n",
       "        text-align: right;\n",
       "    }\n",
       "</style>\n",
       "<table border=\"1\" class=\"dataframe\">\n",
       "  <thead>\n",
       "    <tr style=\"text-align: right;\">\n",
       "      <th></th>\n",
       "      <th>Id</th>\n",
       "      <th>1stFlrSF</th>\n",
       "      <th>2ndFlrSF</th>\n",
       "      <th>BedroomAbvGr</th>\n",
       "      <th>BsmtCond</th>\n",
       "      <th>BsmtExposure</th>\n",
       "      <th>BsmtFinSF1</th>\n",
       "      <th>BsmtFinSF2</th>\n",
       "      <th>BsmtFinType1</th>\n",
       "      <th>BsmtFinType2</th>\n",
       "      <th>...</th>\n",
       "      <th>MoSold</th>\n",
       "      <th>Neighborhood</th>\n",
       "      <th>RoofMatl</th>\n",
       "      <th>RoofStyle</th>\n",
       "      <th>SaleCondition</th>\n",
       "      <th>SaleType</th>\n",
       "      <th>Street</th>\n",
       "      <th>Utilities</th>\n",
       "      <th>YrSold</th>\n",
       "      <th>SalePrice</th>\n",
       "    </tr>\n",
       "  </thead>\n",
       "  <tbody>\n",
       "    <tr>\n",
       "      <th>995</th>\n",
       "      <td>997</td>\n",
       "      <td>1050</td>\n",
       "      <td>0</td>\n",
       "      <td>3</td>\n",
       "      <td>3</td>\n",
       "      <td>0</td>\n",
       "      <td>915.0</td>\n",
       "      <td>0.0</td>\n",
       "      <td>3</td>\n",
       "      <td>1</td>\n",
       "      <td>...</td>\n",
       "      <td>0</td>\n",
       "      <td>12</td>\n",
       "      <td>0</td>\n",
       "      <td>3</td>\n",
       "      <td>4</td>\n",
       "      <td>0</td>\n",
       "      <td>1</td>\n",
       "      <td>0</td>\n",
       "      <td>0</td>\n",
       "      <td>11.824087</td>\n",
       "    </tr>\n",
       "    <tr>\n",
       "      <th>996</th>\n",
       "      <td>998</td>\n",
       "      <td>1442</td>\n",
       "      <td>0</td>\n",
       "      <td>2</td>\n",
       "      <td>3</td>\n",
       "      <td>0</td>\n",
       "      <td>0.0</td>\n",
       "      <td>0.0</td>\n",
       "      <td>1</td>\n",
       "      <td>1</td>\n",
       "      <td>...</td>\n",
       "      <td>4</td>\n",
       "      <td>14</td>\n",
       "      <td>0</td>\n",
       "      <td>3</td>\n",
       "      <td>4</td>\n",
       "      <td>8</td>\n",
       "      <td>1</td>\n",
       "      <td>0</td>\n",
       "      <td>3</td>\n",
       "      <td>12.128117</td>\n",
       "    </tr>\n",
       "    <tr>\n",
       "      <th>997</th>\n",
       "      <td>999</td>\n",
       "      <td>1077</td>\n",
       "      <td>0</td>\n",
       "      <td>3</td>\n",
       "      <td>2</td>\n",
       "      <td>0</td>\n",
       "      <td>0.0</td>\n",
       "      <td>0.0</td>\n",
       "      <td>1</td>\n",
       "      <td>1</td>\n",
       "      <td>...</td>\n",
       "      <td>7</td>\n",
       "      <td>9</td>\n",
       "      <td>0</td>\n",
       "      <td>3</td>\n",
       "      <td>4</td>\n",
       "      <td>8</td>\n",
       "      <td>1</td>\n",
       "      <td>0</td>\n",
       "      <td>0</td>\n",
       "      <td>11.418626</td>\n",
       "    </tr>\n",
       "    <tr>\n",
       "      <th>998</th>\n",
       "      <td>1000</td>\n",
       "      <td>1208</td>\n",
       "      <td>0</td>\n",
       "      <td>2</td>\n",
       "      <td>3</td>\n",
       "      <td>2</td>\n",
       "      <td>686.0</td>\n",
       "      <td>0.0</td>\n",
       "      <td>6</td>\n",
       "      <td>1</td>\n",
       "      <td>...</td>\n",
       "      <td>4</td>\n",
       "      <td>5</td>\n",
       "      <td>0</td>\n",
       "      <td>1</td>\n",
       "      <td>4</td>\n",
       "      <td>8</td>\n",
       "      <td>1</td>\n",
       "      <td>0</td>\n",
       "      <td>4</td>\n",
       "      <td>12.235636</td>\n",
       "    </tr>\n",
       "    <tr>\n",
       "      <th>999</th>\n",
       "      <td>1001</td>\n",
       "      <td>944</td>\n",
       "      <td>0</td>\n",
       "      <td>2</td>\n",
       "      <td>0</td>\n",
       "      <td>0</td>\n",
       "      <td>0.0</td>\n",
       "      <td>0.0</td>\n",
       "      <td>0</td>\n",
       "      <td>0</td>\n",
       "      <td>...</td>\n",
       "      <td>9</td>\n",
       "      <td>7</td>\n",
       "      <td>4</td>\n",
       "      <td>0</td>\n",
       "      <td>4</td>\n",
       "      <td>8</td>\n",
       "      <td>1</td>\n",
       "      <td>0</td>\n",
       "      <td>3</td>\n",
       "      <td>11.314487</td>\n",
       "    </tr>\n",
       "  </tbody>\n",
       "</table>\n",
       "<p>5 rows × 70 columns</p>\n",
       "</div>"
      ],
      "text/plain": [
       "       Id  1stFlrSF  2ndFlrSF  BedroomAbvGr  BsmtCond  BsmtExposure  \\\n",
       "995   997      1050         0             3         3             0   \n",
       "996   998      1442         0             2         3             0   \n",
       "997   999      1077         0             3         2             0   \n",
       "998  1000      1208         0             2         3             2   \n",
       "999  1001       944         0             2         0             0   \n",
       "\n",
       "     BsmtFinSF1  BsmtFinSF2  BsmtFinType1  BsmtFinType2    ...      MoSold  \\\n",
       "995       915.0         0.0             3             1    ...           0   \n",
       "996         0.0         0.0             1             1    ...           4   \n",
       "997         0.0         0.0             1             1    ...           7   \n",
       "998       686.0         0.0             6             1    ...           4   \n",
       "999         0.0         0.0             0             0    ...           9   \n",
       "\n",
       "     Neighborhood  RoofMatl  RoofStyle  SaleCondition  SaleType  Street  \\\n",
       "995            12         0          3              4         0       1   \n",
       "996            14         0          3              4         8       1   \n",
       "997             9         0          3              4         8       1   \n",
       "998             5         0          1              4         8       1   \n",
       "999             7         4          0              4         8       1   \n",
       "\n",
       "     Utilities  YrSold  SalePrice  \n",
       "995          0       0  11.824087  \n",
       "996          0       3  12.128117  \n",
       "997          0       0  11.418626  \n",
       "998          0       4  12.235636  \n",
       "999          0       3  11.314487  \n",
       "\n",
       "[5 rows x 70 columns]"
      ]
     },
     "execution_count": 188,
     "metadata": {},
     "output_type": "execute_result"
    }
   ],
   "source": [
    "train = pd.read_csv('/Users/wanmochen/Desktop/Data mining/project/train_model.csv')\n",
    "train.tail()"
   ]
  },
  {
   "cell_type": "code",
   "execution_count": 189,
   "metadata": {},
   "outputs": [
    {
     "data": {
      "text/html": [
       "<div>\n",
       "<style scoped>\n",
       "    .dataframe tbody tr th:only-of-type {\n",
       "        vertical-align: middle;\n",
       "    }\n",
       "\n",
       "    .dataframe tbody tr th {\n",
       "        vertical-align: top;\n",
       "    }\n",
       "\n",
       "    .dataframe thead th {\n",
       "        text-align: right;\n",
       "    }\n",
       "</style>\n",
       "<table border=\"1\" class=\"dataframe\">\n",
       "  <thead>\n",
       "    <tr style=\"text-align: right;\">\n",
       "      <th></th>\n",
       "      <th>Id</th>\n",
       "      <th>1stFlrSF</th>\n",
       "      <th>2ndFlrSF</th>\n",
       "      <th>BedroomAbvGr</th>\n",
       "      <th>BsmtCond</th>\n",
       "      <th>BsmtExposure</th>\n",
       "      <th>BsmtFinSF1</th>\n",
       "      <th>BsmtFinSF2</th>\n",
       "      <th>BsmtFinType1</th>\n",
       "      <th>BsmtFinType2</th>\n",
       "      <th>...</th>\n",
       "      <th>MoSold</th>\n",
       "      <th>Neighborhood</th>\n",
       "      <th>RoofMatl</th>\n",
       "      <th>RoofStyle</th>\n",
       "      <th>SaleCondition</th>\n",
       "      <th>SaleType</th>\n",
       "      <th>Street</th>\n",
       "      <th>Utilities</th>\n",
       "      <th>YrSold</th>\n",
       "      <th>SalePrice</th>\n",
       "    </tr>\n",
       "  </thead>\n",
       "  <tbody>\n",
       "    <tr>\n",
       "      <th>0</th>\n",
       "      <td>1002</td>\n",
       "      <td>691</td>\n",
       "      <td>0</td>\n",
       "      <td>2</td>\n",
       "      <td>3</td>\n",
       "      <td>0</td>\n",
       "      <td>0.0</td>\n",
       "      <td>0.0</td>\n",
       "      <td>1</td>\n",
       "      <td>1</td>\n",
       "      <td>...</td>\n",
       "      <td>0</td>\n",
       "      <td>17</td>\n",
       "      <td>0</td>\n",
       "      <td>1</td>\n",
       "      <td>0</td>\n",
       "      <td>8</td>\n",
       "      <td>1</td>\n",
       "      <td>0</td>\n",
       "      <td>1</td>\n",
       "      <td>11.362114</td>\n",
       "    </tr>\n",
       "    <tr>\n",
       "      <th>1</th>\n",
       "      <td>1003</td>\n",
       "      <td>1574</td>\n",
       "      <td>0</td>\n",
       "      <td>3</td>\n",
       "      <td>3</td>\n",
       "      <td>0</td>\n",
       "      <td>24.0</td>\n",
       "      <td>0.0</td>\n",
       "      <td>6</td>\n",
       "      <td>1</td>\n",
       "      <td>...</td>\n",
       "      <td>9</td>\n",
       "      <td>21</td>\n",
       "      <td>0</td>\n",
       "      <td>1</td>\n",
       "      <td>4</td>\n",
       "      <td>8</td>\n",
       "      <td>1</td>\n",
       "      <td>0</td>\n",
       "      <td>2</td>\n",
       "      <td>12.354497</td>\n",
       "    </tr>\n",
       "    <tr>\n",
       "      <th>2</th>\n",
       "      <td>1004</td>\n",
       "      <td>1680</td>\n",
       "      <td>0</td>\n",
       "      <td>4</td>\n",
       "      <td>3</td>\n",
       "      <td>0</td>\n",
       "      <td>0.0</td>\n",
       "      <td>0.0</td>\n",
       "      <td>1</td>\n",
       "      <td>1</td>\n",
       "      <td>...</td>\n",
       "      <td>8</td>\n",
       "      <td>14</td>\n",
       "      <td>0</td>\n",
       "      <td>1</td>\n",
       "      <td>4</td>\n",
       "      <td>8</td>\n",
       "      <td>1</td>\n",
       "      <td>0</td>\n",
       "      <td>1</td>\n",
       "      <td>11.827050</td>\n",
       "    </tr>\n",
       "    <tr>\n",
       "      <th>3</th>\n",
       "      <td>1005</td>\n",
       "      <td>1504</td>\n",
       "      <td>0</td>\n",
       "      <td>1</td>\n",
       "      <td>3</td>\n",
       "      <td>0</td>\n",
       "      <td>16.0</td>\n",
       "      <td>0.0</td>\n",
       "      <td>6</td>\n",
       "      <td>1</td>\n",
       "      <td>...</td>\n",
       "      <td>7</td>\n",
       "      <td>0</td>\n",
       "      <td>0</td>\n",
       "      <td>1</td>\n",
       "      <td>4</td>\n",
       "      <td>8</td>\n",
       "      <td>1</td>\n",
       "      <td>0</td>\n",
       "      <td>3</td>\n",
       "      <td>12.106258</td>\n",
       "    </tr>\n",
       "    <tr>\n",
       "      <th>4</th>\n",
       "      <td>1006</td>\n",
       "      <td>985</td>\n",
       "      <td>0</td>\n",
       "      <td>3</td>\n",
       "      <td>4</td>\n",
       "      <td>2</td>\n",
       "      <td>595.0</td>\n",
       "      <td>0.0</td>\n",
       "      <td>6</td>\n",
       "      <td>1</td>\n",
       "      <td>...</td>\n",
       "      <td>2</td>\n",
       "      <td>5</td>\n",
       "      <td>0</td>\n",
       "      <td>1</td>\n",
       "      <td>4</td>\n",
       "      <td>8</td>\n",
       "      <td>1</td>\n",
       "      <td>0</td>\n",
       "      <td>2</td>\n",
       "      <td>11.917730</td>\n",
       "    </tr>\n",
       "  </tbody>\n",
       "</table>\n",
       "<p>5 rows × 70 columns</p>\n",
       "</div>"
      ],
      "text/plain": [
       "     Id  1stFlrSF  2ndFlrSF  BedroomAbvGr  BsmtCond  BsmtExposure  BsmtFinSF1  \\\n",
       "0  1002       691         0             2         3             0         0.0   \n",
       "1  1003      1574         0             3         3             0        24.0   \n",
       "2  1004      1680         0             4         3             0         0.0   \n",
       "3  1005      1504         0             1         3             0        16.0   \n",
       "4  1006       985         0             3         4             2       595.0   \n",
       "\n",
       "   BsmtFinSF2  BsmtFinType1  BsmtFinType2    ...      MoSold  Neighborhood  \\\n",
       "0         0.0             1             1    ...           0            17   \n",
       "1         0.0             6             1    ...           9            21   \n",
       "2         0.0             1             1    ...           8            14   \n",
       "3         0.0             6             1    ...           7             0   \n",
       "4         0.0             6             1    ...           2             5   \n",
       "\n",
       "   RoofMatl  RoofStyle  SaleCondition  SaleType  Street  Utilities  YrSold  \\\n",
       "0         0          1              0         8       1          0       1   \n",
       "1         0          1              4         8       1          0       2   \n",
       "2         0          1              4         8       1          0       1   \n",
       "3         0          1              4         8       1          0       3   \n",
       "4         0          1              4         8       1          0       2   \n",
       "\n",
       "   SalePrice  \n",
       "0  11.362114  \n",
       "1  12.354497  \n",
       "2  11.827050  \n",
       "3  12.106258  \n",
       "4  11.917730  \n",
       "\n",
       "[5 rows x 70 columns]"
      ]
     },
     "execution_count": 189,
     "metadata": {},
     "output_type": "execute_result"
    }
   ],
   "source": [
    "validation = pd.read_csv('/Users/wanmochen/Desktop/Data mining/project/validation_model.csv')\n",
    "validation.head()"
   ]
  },
  {
   "cell_type": "code",
   "execution_count": 190,
   "metadata": {},
   "outputs": [
    {
     "data": {
      "text/html": [
       "<div>\n",
       "<style scoped>\n",
       "    .dataframe tbody tr th:only-of-type {\n",
       "        vertical-align: middle;\n",
       "    }\n",
       "\n",
       "    .dataframe tbody tr th {\n",
       "        vertical-align: top;\n",
       "    }\n",
       "\n",
       "    .dataframe thead th {\n",
       "        text-align: right;\n",
       "    }\n",
       "</style>\n",
       "<table border=\"1\" class=\"dataframe\">\n",
       "  <thead>\n",
       "    <tr style=\"text-align: right;\">\n",
       "      <th></th>\n",
       "      <th>Id</th>\n",
       "      <th>1stFlrSF</th>\n",
       "      <th>2ndFlrSF</th>\n",
       "      <th>BedroomAbvGr</th>\n",
       "      <th>BsmtCond</th>\n",
       "      <th>BsmtExposure</th>\n",
       "      <th>BsmtFinSF1</th>\n",
       "      <th>BsmtFinSF2</th>\n",
       "      <th>BsmtFinType1</th>\n",
       "      <th>BsmtFinType2</th>\n",
       "      <th>...</th>\n",
       "      <th>MasVnrType</th>\n",
       "      <th>MoSold</th>\n",
       "      <th>Neighborhood</th>\n",
       "      <th>RoofMatl</th>\n",
       "      <th>RoofStyle</th>\n",
       "      <th>SaleCondition</th>\n",
       "      <th>SaleType</th>\n",
       "      <th>Street</th>\n",
       "      <th>Utilities</th>\n",
       "      <th>YrSold</th>\n",
       "    </tr>\n",
       "  </thead>\n",
       "  <tbody>\n",
       "    <tr>\n",
       "      <th>1454</th>\n",
       "      <td>2915</td>\n",
       "      <td>546</td>\n",
       "      <td>546</td>\n",
       "      <td>3</td>\n",
       "      <td>3</td>\n",
       "      <td>0</td>\n",
       "      <td>0.0</td>\n",
       "      <td>0.0</td>\n",
       "      <td>1</td>\n",
       "      <td>1</td>\n",
       "      <td>...</td>\n",
       "      <td>3</td>\n",
       "      <td>8</td>\n",
       "      <td>10</td>\n",
       "      <td>0</td>\n",
       "      <td>1</td>\n",
       "      <td>4</td>\n",
       "      <td>8</td>\n",
       "      <td>1</td>\n",
       "      <td>0</td>\n",
       "      <td>0</td>\n",
       "    </tr>\n",
       "    <tr>\n",
       "      <th>1455</th>\n",
       "      <td>2916</td>\n",
       "      <td>546</td>\n",
       "      <td>546</td>\n",
       "      <td>3</td>\n",
       "      <td>3</td>\n",
       "      <td>0</td>\n",
       "      <td>252.0</td>\n",
       "      <td>0.0</td>\n",
       "      <td>3</td>\n",
       "      <td>1</td>\n",
       "      <td>...</td>\n",
       "      <td>3</td>\n",
       "      <td>6</td>\n",
       "      <td>10</td>\n",
       "      <td>0</td>\n",
       "      <td>1</td>\n",
       "      <td>0</td>\n",
       "      <td>8</td>\n",
       "      <td>1</td>\n",
       "      <td>0</td>\n",
       "      <td>0</td>\n",
       "    </tr>\n",
       "    <tr>\n",
       "      <th>1456</th>\n",
       "      <td>2917</td>\n",
       "      <td>1224</td>\n",
       "      <td>0</td>\n",
       "      <td>4</td>\n",
       "      <td>3</td>\n",
       "      <td>0</td>\n",
       "      <td>1224.0</td>\n",
       "      <td>0.0</td>\n",
       "      <td>5</td>\n",
       "      <td>1</td>\n",
       "      <td>...</td>\n",
       "      <td>3</td>\n",
       "      <td>11</td>\n",
       "      <td>11</td>\n",
       "      <td>0</td>\n",
       "      <td>1</td>\n",
       "      <td>0</td>\n",
       "      <td>8</td>\n",
       "      <td>1</td>\n",
       "      <td>0</td>\n",
       "      <td>0</td>\n",
       "    </tr>\n",
       "    <tr>\n",
       "      <th>1457</th>\n",
       "      <td>2918</td>\n",
       "      <td>970</td>\n",
       "      <td>0</td>\n",
       "      <td>3</td>\n",
       "      <td>3</td>\n",
       "      <td>2</td>\n",
       "      <td>337.0</td>\n",
       "      <td>0.0</td>\n",
       "      <td>6</td>\n",
       "      <td>1</td>\n",
       "      <td>...</td>\n",
       "      <td>3</td>\n",
       "      <td>9</td>\n",
       "      <td>11</td>\n",
       "      <td>0</td>\n",
       "      <td>1</td>\n",
       "      <td>4</td>\n",
       "      <td>8</td>\n",
       "      <td>1</td>\n",
       "      <td>0</td>\n",
       "      <td>0</td>\n",
       "    </tr>\n",
       "    <tr>\n",
       "      <th>1458</th>\n",
       "      <td>2919</td>\n",
       "      <td>996</td>\n",
       "      <td>1004</td>\n",
       "      <td>3</td>\n",
       "      <td>3</td>\n",
       "      <td>2</td>\n",
       "      <td>758.0</td>\n",
       "      <td>0.0</td>\n",
       "      <td>2</td>\n",
       "      <td>1</td>\n",
       "      <td>...</td>\n",
       "      <td>1</td>\n",
       "      <td>2</td>\n",
       "      <td>11</td>\n",
       "      <td>0</td>\n",
       "      <td>1</td>\n",
       "      <td>4</td>\n",
       "      <td>8</td>\n",
       "      <td>1</td>\n",
       "      <td>0</td>\n",
       "      <td>0</td>\n",
       "    </tr>\n",
       "  </tbody>\n",
       "</table>\n",
       "<p>5 rows × 69 columns</p>\n",
       "</div>"
      ],
      "text/plain": [
       "        Id  1stFlrSF  2ndFlrSF  BedroomAbvGr  BsmtCond  BsmtExposure  \\\n",
       "1454  2915       546       546             3         3             0   \n",
       "1455  2916       546       546             3         3             0   \n",
       "1456  2917      1224         0             4         3             0   \n",
       "1457  2918       970         0             3         3             2   \n",
       "1458  2919       996      1004             3         3             2   \n",
       "\n",
       "      BsmtFinSF1  BsmtFinSF2  BsmtFinType1  BsmtFinType2   ...    MasVnrType  \\\n",
       "1454         0.0         0.0             1             1   ...             3   \n",
       "1455       252.0         0.0             3             1   ...             3   \n",
       "1456      1224.0         0.0             5             1   ...             3   \n",
       "1457       337.0         0.0             6             1   ...             3   \n",
       "1458       758.0         0.0             2             1   ...             1   \n",
       "\n",
       "      MoSold  Neighborhood  RoofMatl  RoofStyle  SaleCondition  SaleType  \\\n",
       "1454       8            10         0          1              4         8   \n",
       "1455       6            10         0          1              0         8   \n",
       "1456      11            11         0          1              0         8   \n",
       "1457       9            11         0          1              4         8   \n",
       "1458       2            11         0          1              4         8   \n",
       "\n",
       "      Street  Utilities  YrSold  \n",
       "1454       1          0       0  \n",
       "1455       1          0       0  \n",
       "1456       1          0       0  \n",
       "1457       1          0       0  \n",
       "1458       1          0       0  \n",
       "\n",
       "[5 rows x 69 columns]"
      ]
     },
     "execution_count": 190,
     "metadata": {},
     "output_type": "execute_result"
    }
   ],
   "source": [
    "testa = pd.read_csv('/Users/wanmochen/Desktop/Data mining/project/test_model.csv')\n",
    "testa.tail()"
   ]
  },
  {
   "cell_type": "code",
   "execution_count": 191,
   "metadata": {},
   "outputs": [
    {
     "name": "stdout",
     "output_type": "stream",
     "text": [
      "(1000, 70)\n",
      "(458, 70)\n",
      "(1459, 69)\n"
     ]
    }
   ],
   "source": [
    "print(train.shape)\n",
    "print(validation.shape)\n",
    "print(testa.shape)"
   ]
  },
  {
   "cell_type": "markdown",
   "metadata": {},
   "source": [
    "<br>\n",
    "# Step Three:  Build Models"
   ]
  },
  {
   "cell_type": "markdown",
   "metadata": {},
   "source": [
    "![title](img/h20.png \"ShowMyImage\")"
   ]
  },
  {
   "cell_type": "code",
   "execution_count": 192,
   "metadata": {},
   "outputs": [],
   "source": [
    "import h2o\n",
    "from h2o.estimators.gbm import H2OGradientBoostingEstimator \n",
    "from h2o.estimators.random_forest import H2ORandomForestEstimator\n",
    "from h2o.grid.grid_search import H2OGridSearch \n",
    "from h2o.estimators.xgboost import H2OXGBoostEstimator\n",
    "from h2o.estimators.gbm import H2OGradientBoostingEstimator"
   ]
  },
  {
   "cell_type": "code",
   "execution_count": 193,
   "metadata": {},
   "outputs": [
    {
     "name": "stdout",
     "output_type": "stream",
     "text": [
      "Checking whether there is an H2O instance running at http://localhost:54321. connected.\n"
     ]
    },
    {
     "data": {
      "text/html": [
       "<div style=\"overflow:auto\"><table style=\"width:50%\"><tr><td>H2O cluster uptime:</td>\n",
       "<td>8 hours 22 mins</td></tr>\n",
       "<tr><td>H2O cluster timezone:</td>\n",
       "<td>America/New_York</td></tr>\n",
       "<tr><td>H2O data parsing timezone:</td>\n",
       "<td>UTC</td></tr>\n",
       "<tr><td>H2O cluster version:</td>\n",
       "<td>3.18.0.4</td></tr>\n",
       "<tr><td>H2O cluster version age:</td>\n",
       "<td>1 month and 7 days </td></tr>\n",
       "<tr><td>H2O cluster name:</td>\n",
       "<td>H2O_from_python_wanmochen_slnf2c</td></tr>\n",
       "<tr><td>H2O cluster total nodes:</td>\n",
       "<td>1</td></tr>\n",
       "<tr><td>H2O cluster free memory:</td>\n",
       "<td>1.340 Gb</td></tr>\n",
       "<tr><td>H2O cluster total cores:</td>\n",
       "<td>4</td></tr>\n",
       "<tr><td>H2O cluster allowed cores:</td>\n",
       "<td>4</td></tr>\n",
       "<tr><td>H2O cluster status:</td>\n",
       "<td>locked, healthy</td></tr>\n",
       "<tr><td>H2O connection url:</td>\n",
       "<td>http://localhost:54321</td></tr>\n",
       "<tr><td>H2O connection proxy:</td>\n",
       "<td>None</td></tr>\n",
       "<tr><td>H2O internal security:</td>\n",
       "<td>False</td></tr>\n",
       "<tr><td>H2O API Extensions:</td>\n",
       "<td>XGBoost, Algos, AutoML, Core V3, Core V4</td></tr>\n",
       "<tr><td>Python version:</td>\n",
       "<td>3.6.4 final</td></tr></table></div>"
      ],
      "text/plain": [
       "--------------------------  ----------------------------------------\n",
       "H2O cluster uptime:         8 hours 22 mins\n",
       "H2O cluster timezone:       America/New_York\n",
       "H2O data parsing timezone:  UTC\n",
       "H2O cluster version:        3.18.0.4\n",
       "H2O cluster version age:    1 month and 7 days\n",
       "H2O cluster name:           H2O_from_python_wanmochen_slnf2c\n",
       "H2O cluster total nodes:    1\n",
       "H2O cluster free memory:    1.340 Gb\n",
       "H2O cluster total cores:    4\n",
       "H2O cluster allowed cores:  4\n",
       "H2O cluster status:         locked, healthy\n",
       "H2O connection url:         http://localhost:54321\n",
       "H2O connection proxy:\n",
       "H2O internal security:      False\n",
       "H2O API Extensions:         XGBoost, Algos, AutoML, Core V3, Core V4\n",
       "Python version:             3.6.4 final\n",
       "--------------------------  ----------------------------------------"
      ]
     },
     "metadata": {},
     "output_type": "display_data"
    }
   ],
   "source": [
    "h2o.init()"
   ]
  },
  {
   "cell_type": "code",
   "execution_count": 194,
   "metadata": {},
   "outputs": [
    {
     "name": "stdout",
     "output_type": "stream",
     "text": [
      "Parse progress: |█████████████████████████████████████████████████████████| 100%\n"
     ]
    }
   ],
   "source": [
    "train = h2o.import_file(path='/Users/wanmochen/Desktop/Data mining/project/train_model.csv')"
   ]
  },
  {
   "cell_type": "code",
   "execution_count": 195,
   "metadata": {},
   "outputs": [
    {
     "name": "stdout",
     "output_type": "stream",
     "text": [
      "Parse progress: |█████████████████████████████████████████████████████████| 100%\n"
     ]
    }
   ],
   "source": [
    "validation = h2o.import_file(path='/Users/wanmochen/Desktop/Data mining/project/validation_model.csv')"
   ]
  },
  {
   "cell_type": "code",
   "execution_count": 196,
   "metadata": {},
   "outputs": [
    {
     "name": "stdout",
     "output_type": "stream",
     "text": [
      "Parse progress: |█████████████████████████████████████████████████████████| 100%\n"
     ]
    }
   ],
   "source": [
    "test = h2o.import_file(path='/Users/wanmochen/Desktop/Data mining/project/test_model.csv')"
   ]
  },
  {
   "cell_type": "code",
   "execution_count": 197,
   "metadata": {},
   "outputs": [
    {
     "name": "stdout",
     "output_type": "stream",
     "text": [
      "(1000, 70)\n",
      "(458, 70)\n",
      "(1459, 69)\n"
     ]
    }
   ],
   "source": [
    "print(train.shape)\n",
    "print(validation.shape)\n",
    "print(test.shape)"
   ]
  },
  {
   "cell_type": "code",
   "execution_count": 198,
   "metadata": {},
   "outputs": [
    {
     "data": {
      "text/html": [
       "<table>\n",
       "<thead>\n",
       "<tr><th style=\"text-align: right;\">  Id</th><th style=\"text-align: right;\">  1stFlrSF</th><th style=\"text-align: right;\">  2ndFlrSF</th><th style=\"text-align: right;\">  BedroomAbvGr</th><th style=\"text-align: right;\">  BsmtCond</th><th style=\"text-align: right;\">  BsmtExposure</th><th style=\"text-align: right;\">  BsmtFinSF1</th><th style=\"text-align: right;\">  BsmtFinSF2</th><th style=\"text-align: right;\">  BsmtFinType1</th><th style=\"text-align: right;\">  BsmtFinType2</th><th style=\"text-align: right;\">  BsmtFullBath</th><th style=\"text-align: right;\">  BsmtQual</th><th style=\"text-align: right;\">  BsmtUnfSF</th><th style=\"text-align: right;\">  EnclosedPorch</th><th style=\"text-align: right;\">  ExterCond</th><th style=\"text-align: right;\">  ExterQual</th><th style=\"text-align: right;\">  FireplaceQu</th><th style=\"text-align: right;\">  Fireplaces</th><th style=\"text-align: right;\">  FullBath</th><th style=\"text-align: right;\">  GarageCars</th><th style=\"text-align: right;\">  GarageCond</th><th style=\"text-align: right;\">  GarageFinish</th><th style=\"text-align: right;\">  GarageQual</th><th style=\"text-align: right;\">  GarageYrBlt</th><th style=\"text-align: right;\">  GrLivArea</th><th style=\"text-align: right;\">  HalfBath</th><th style=\"text-align: right;\">  HeatingQC</th><th style=\"text-align: right;\">  KitchenAbvGr</th><th style=\"text-align: right;\">  KitchenQual</th><th style=\"text-align: right;\">  LandSlope</th><th style=\"text-align: right;\">  LotArea</th><th style=\"text-align: right;\">  LotFrontage</th><th style=\"text-align: right;\">  LotShape</th><th style=\"text-align: right;\">  MasVnrArea</th><th style=\"text-align: right;\">  OpenPorchSF</th><th style=\"text-align: right;\">  OverallCond</th><th style=\"text-align: right;\">  OverallQual</th><th style=\"text-align: right;\">  PavedDrive</th><th style=\"text-align: right;\">  TotalBsmtSF</th><th style=\"text-align: right;\">  TotalSF</th><th style=\"text-align: right;\">  WoodDeckSF</th><th style=\"text-align: right;\">  YearBuilt</th><th style=\"text-align: right;\">  YearRemodAdd</th><th style=\"text-align: right;\">  BldgType</th><th style=\"text-align: right;\">  CentralAir</th><th style=\"text-align: right;\">  Condition1</th><th style=\"text-align: right;\">  Condition2</th><th style=\"text-align: right;\">  Electrical</th><th style=\"text-align: right;\">  Exterior1st</th><th style=\"text-align: right;\">  Exterior2nd</th><th style=\"text-align: right;\">  Foundation</th><th style=\"text-align: right;\">  Functional</th><th style=\"text-align: right;\">  GarageType</th><th style=\"text-align: right;\">  Heating</th><th style=\"text-align: right;\">  HouseStyle</th><th style=\"text-align: right;\">  LandContour</th><th style=\"text-align: right;\">  LotConfig</th><th style=\"text-align: right;\">  MSSubClass</th><th style=\"text-align: right;\">  MSZoning</th><th style=\"text-align: right;\">  MasVnrType</th><th style=\"text-align: right;\">  MoSold</th><th style=\"text-align: right;\">  Neighborhood</th><th style=\"text-align: right;\">  RoofMatl</th><th style=\"text-align: right;\">  RoofStyle</th><th style=\"text-align: right;\">  SaleCondition</th><th style=\"text-align: right;\">  SaleType</th><th style=\"text-align: right;\">  Street</th><th style=\"text-align: right;\">  Utilities</th><th style=\"text-align: right;\">  YrSold</th><th style=\"text-align: right;\">  SalePrice</th></tr>\n",
       "</thead>\n",
       "<tbody>\n",
       "<tr><td style=\"text-align: right;\">   1</td><td style=\"text-align: right;\">       856</td><td style=\"text-align: right;\">       854</td><td style=\"text-align: right;\">             3</td><td style=\"text-align: right;\">         3</td><td style=\"text-align: right;\">             0</td><td style=\"text-align: right;\">         706</td><td style=\"text-align: right;\">           0</td><td style=\"text-align: right;\">             6</td><td style=\"text-align: right;\">             1</td><td style=\"text-align: right;\">             1</td><td style=\"text-align: right;\">         4</td><td style=\"text-align: right;\">        150</td><td style=\"text-align: right;\">              0</td><td style=\"text-align: right;\">          3</td><td style=\"text-align: right;\">          4</td><td style=\"text-align: right;\">            0</td><td style=\"text-align: right;\">           0</td><td style=\"text-align: right;\">         2</td><td style=\"text-align: right;\">           2</td><td style=\"text-align: right;\">           3</td><td style=\"text-align: right;\">             2</td><td style=\"text-align: right;\">           3</td><td style=\"text-align: right;\">         2003</td><td style=\"text-align: right;\">       1710</td><td style=\"text-align: right;\">         1</td><td style=\"text-align: right;\">          5</td><td style=\"text-align: right;\">             1</td><td style=\"text-align: right;\">            4</td><td style=\"text-align: right;\">          3</td><td style=\"text-align: right;\">     8450</td><td style=\"text-align: right;\">           65</td><td style=\"text-align: right;\">         4</td><td style=\"text-align: right;\">         196</td><td style=\"text-align: right;\">           61</td><td style=\"text-align: right;\">            5</td><td style=\"text-align: right;\">            7</td><td style=\"text-align: right;\">           3</td><td style=\"text-align: right;\">          856</td><td style=\"text-align: right;\">     2566</td><td style=\"text-align: right;\">           0</td><td style=\"text-align: right;\">       2003</td><td style=\"text-align: right;\">          2003</td><td style=\"text-align: right;\">         0</td><td style=\"text-align: right;\">           1</td><td style=\"text-align: right;\">           2</td><td style=\"text-align: right;\">           2</td><td style=\"text-align: right;\">           4</td><td style=\"text-align: right;\">           12</td><td style=\"text-align: right;\">           13</td><td style=\"text-align: right;\">           2</td><td style=\"text-align: right;\">           6</td><td style=\"text-align: right;\">           1</td><td style=\"text-align: right;\">        1</td><td style=\"text-align: right;\">           5</td><td style=\"text-align: right;\">            3</td><td style=\"text-align: right;\">          4</td><td style=\"text-align: right;\">          10</td><td style=\"text-align: right;\">         3</td><td style=\"text-align: right;\">           1</td><td style=\"text-align: right;\">       4</td><td style=\"text-align: right;\">             5</td><td style=\"text-align: right;\">         0</td><td style=\"text-align: right;\">          1</td><td style=\"text-align: right;\">              4</td><td style=\"text-align: right;\">         8</td><td style=\"text-align: right;\">       1</td><td style=\"text-align: right;\">          0</td><td style=\"text-align: right;\">       2</td><td style=\"text-align: right;\">    12.2477</td></tr>\n",
       "<tr><td style=\"text-align: right;\">   2</td><td style=\"text-align: right;\">      1262</td><td style=\"text-align: right;\">         0</td><td style=\"text-align: right;\">             3</td><td style=\"text-align: right;\">         3</td><td style=\"text-align: right;\">             3</td><td style=\"text-align: right;\">         978</td><td style=\"text-align: right;\">           0</td><td style=\"text-align: right;\">             5</td><td style=\"text-align: right;\">             1</td><td style=\"text-align: right;\">             0</td><td style=\"text-align: right;\">         4</td><td style=\"text-align: right;\">        284</td><td style=\"text-align: right;\">              0</td><td style=\"text-align: right;\">          3</td><td style=\"text-align: right;\">          3</td><td style=\"text-align: right;\">            3</td><td style=\"text-align: right;\">           1</td><td style=\"text-align: right;\">         2</td><td style=\"text-align: right;\">           2</td><td style=\"text-align: right;\">           3</td><td style=\"text-align: right;\">             2</td><td style=\"text-align: right;\">           3</td><td style=\"text-align: right;\">         1976</td><td style=\"text-align: right;\">       1262</td><td style=\"text-align: right;\">         0</td><td style=\"text-align: right;\">          5</td><td style=\"text-align: right;\">             1</td><td style=\"text-align: right;\">            3</td><td style=\"text-align: right;\">          3</td><td style=\"text-align: right;\">     9600</td><td style=\"text-align: right;\">           80</td><td style=\"text-align: right;\">         4</td><td style=\"text-align: right;\">           0</td><td style=\"text-align: right;\">            0</td><td style=\"text-align: right;\">            8</td><td style=\"text-align: right;\">            6</td><td style=\"text-align: right;\">           3</td><td style=\"text-align: right;\">         1262</td><td style=\"text-align: right;\">     2524</td><td style=\"text-align: right;\">         298</td><td style=\"text-align: right;\">       1976</td><td style=\"text-align: right;\">          1976</td><td style=\"text-align: right;\">         0</td><td style=\"text-align: right;\">           1</td><td style=\"text-align: right;\">           1</td><td style=\"text-align: right;\">           2</td><td style=\"text-align: right;\">           4</td><td style=\"text-align: right;\">            8</td><td style=\"text-align: right;\">            8</td><td style=\"text-align: right;\">           1</td><td style=\"text-align: right;\">           6</td><td style=\"text-align: right;\">           1</td><td style=\"text-align: right;\">        1</td><td style=\"text-align: right;\">           2</td><td style=\"text-align: right;\">            3</td><td style=\"text-align: right;\">          2</td><td style=\"text-align: right;\">           5</td><td style=\"text-align: right;\">         3</td><td style=\"text-align: right;\">           3</td><td style=\"text-align: right;\">       7</td><td style=\"text-align: right;\">            24</td><td style=\"text-align: right;\">         0</td><td style=\"text-align: right;\">          1</td><td style=\"text-align: right;\">              4</td><td style=\"text-align: right;\">         8</td><td style=\"text-align: right;\">       1</td><td style=\"text-align: right;\">          0</td><td style=\"text-align: right;\">       1</td><td style=\"text-align: right;\">    12.109 </td></tr>\n",
       "<tr><td style=\"text-align: right;\">   3</td><td style=\"text-align: right;\">       920</td><td style=\"text-align: right;\">       866</td><td style=\"text-align: right;\">             3</td><td style=\"text-align: right;\">         3</td><td style=\"text-align: right;\">             1</td><td style=\"text-align: right;\">         486</td><td style=\"text-align: right;\">           0</td><td style=\"text-align: right;\">             6</td><td style=\"text-align: right;\">             1</td><td style=\"text-align: right;\">             1</td><td style=\"text-align: right;\">         4</td><td style=\"text-align: right;\">        434</td><td style=\"text-align: right;\">              0</td><td style=\"text-align: right;\">          3</td><td style=\"text-align: right;\">          4</td><td style=\"text-align: right;\">            3</td><td style=\"text-align: right;\">           1</td><td style=\"text-align: right;\">         2</td><td style=\"text-align: right;\">           2</td><td style=\"text-align: right;\">           3</td><td style=\"text-align: right;\">             2</td><td style=\"text-align: right;\">           3</td><td style=\"text-align: right;\">         2001</td><td style=\"text-align: right;\">       1786</td><td style=\"text-align: right;\">         1</td><td style=\"text-align: right;\">          5</td><td style=\"text-align: right;\">             1</td><td style=\"text-align: right;\">            4</td><td style=\"text-align: right;\">          3</td><td style=\"text-align: right;\">    11250</td><td style=\"text-align: right;\">           68</td><td style=\"text-align: right;\">         3</td><td style=\"text-align: right;\">         162</td><td style=\"text-align: right;\">           42</td><td style=\"text-align: right;\">            5</td><td style=\"text-align: right;\">            7</td><td style=\"text-align: right;\">           3</td><td style=\"text-align: right;\">          920</td><td style=\"text-align: right;\">     2706</td><td style=\"text-align: right;\">           0</td><td style=\"text-align: right;\">       2001</td><td style=\"text-align: right;\">          2002</td><td style=\"text-align: right;\">         0</td><td style=\"text-align: right;\">           1</td><td style=\"text-align: right;\">           2</td><td style=\"text-align: right;\">           2</td><td style=\"text-align: right;\">           4</td><td style=\"text-align: right;\">           12</td><td style=\"text-align: right;\">           13</td><td style=\"text-align: right;\">           2</td><td style=\"text-align: right;\">           6</td><td style=\"text-align: right;\">           1</td><td style=\"text-align: right;\">        1</td><td style=\"text-align: right;\">           5</td><td style=\"text-align: right;\">            3</td><td style=\"text-align: right;\">          4</td><td style=\"text-align: right;\">          10</td><td style=\"text-align: right;\">         3</td><td style=\"text-align: right;\">           1</td><td style=\"text-align: right;\">      11</td><td style=\"text-align: right;\">             5</td><td style=\"text-align: right;\">         0</td><td style=\"text-align: right;\">          1</td><td style=\"text-align: right;\">              4</td><td style=\"text-align: right;\">         8</td><td style=\"text-align: right;\">       1</td><td style=\"text-align: right;\">          0</td><td style=\"text-align: right;\">       2</td><td style=\"text-align: right;\">    12.3172</td></tr>\n",
       "<tr><td style=\"text-align: right;\">   4</td><td style=\"text-align: right;\">       961</td><td style=\"text-align: right;\">       756</td><td style=\"text-align: right;\">             3</td><td style=\"text-align: right;\">         4</td><td style=\"text-align: right;\">             0</td><td style=\"text-align: right;\">         216</td><td style=\"text-align: right;\">           0</td><td style=\"text-align: right;\">             5</td><td style=\"text-align: right;\">             1</td><td style=\"text-align: right;\">             1</td><td style=\"text-align: right;\">         3</td><td style=\"text-align: right;\">        540</td><td style=\"text-align: right;\">            272</td><td style=\"text-align: right;\">          3</td><td style=\"text-align: right;\">          3</td><td style=\"text-align: right;\">            4</td><td style=\"text-align: right;\">           1</td><td style=\"text-align: right;\">         1</td><td style=\"text-align: right;\">           3</td><td style=\"text-align: right;\">           3</td><td style=\"text-align: right;\">             1</td><td style=\"text-align: right;\">           3</td><td style=\"text-align: right;\">         1998</td><td style=\"text-align: right;\">       1717</td><td style=\"text-align: right;\">         0</td><td style=\"text-align: right;\">          4</td><td style=\"text-align: right;\">             1</td><td style=\"text-align: right;\">            4</td><td style=\"text-align: right;\">          3</td><td style=\"text-align: right;\">     9550</td><td style=\"text-align: right;\">           60</td><td style=\"text-align: right;\">         3</td><td style=\"text-align: right;\">           0</td><td style=\"text-align: right;\">           35</td><td style=\"text-align: right;\">            5</td><td style=\"text-align: right;\">            7</td><td style=\"text-align: right;\">           3</td><td style=\"text-align: right;\">          756</td><td style=\"text-align: right;\">     2473</td><td style=\"text-align: right;\">           0</td><td style=\"text-align: right;\">       1915</td><td style=\"text-align: right;\">          1970</td><td style=\"text-align: right;\">         0</td><td style=\"text-align: right;\">           1</td><td style=\"text-align: right;\">           2</td><td style=\"text-align: right;\">           2</td><td style=\"text-align: right;\">           4</td><td style=\"text-align: right;\">           13</td><td style=\"text-align: right;\">           15</td><td style=\"text-align: right;\">           0</td><td style=\"text-align: right;\">           6</td><td style=\"text-align: right;\">           5</td><td style=\"text-align: right;\">        1</td><td style=\"text-align: right;\">           5</td><td style=\"text-align: right;\">            3</td><td style=\"text-align: right;\">          0</td><td style=\"text-align: right;\">          11</td><td style=\"text-align: right;\">         3</td><td style=\"text-align: right;\">           3</td><td style=\"text-align: right;\">       4</td><td style=\"text-align: right;\">             6</td><td style=\"text-align: right;\">         0</td><td style=\"text-align: right;\">          1</td><td style=\"text-align: right;\">              0</td><td style=\"text-align: right;\">         8</td><td style=\"text-align: right;\">       1</td><td style=\"text-align: right;\">          0</td><td style=\"text-align: right;\">       0</td><td style=\"text-align: right;\">    11.8494</td></tr>\n",
       "<tr><td style=\"text-align: right;\">   5</td><td style=\"text-align: right;\">      1145</td><td style=\"text-align: right;\">      1053</td><td style=\"text-align: right;\">             4</td><td style=\"text-align: right;\">         3</td><td style=\"text-align: right;\">             2</td><td style=\"text-align: right;\">         655</td><td style=\"text-align: right;\">           0</td><td style=\"text-align: right;\">             6</td><td style=\"text-align: right;\">             1</td><td style=\"text-align: right;\">             1</td><td style=\"text-align: right;\">         4</td><td style=\"text-align: right;\">        490</td><td style=\"text-align: right;\">              0</td><td style=\"text-align: right;\">          3</td><td style=\"text-align: right;\">          4</td><td style=\"text-align: right;\">            3</td><td style=\"text-align: right;\">           1</td><td style=\"text-align: right;\">         2</td><td style=\"text-align: right;\">           3</td><td style=\"text-align: right;\">           3</td><td style=\"text-align: right;\">             2</td><td style=\"text-align: right;\">           3</td><td style=\"text-align: right;\">         2000</td><td style=\"text-align: right;\">       2198</td><td style=\"text-align: right;\">         1</td><td style=\"text-align: right;\">          5</td><td style=\"text-align: right;\">             1</td><td style=\"text-align: right;\">            4</td><td style=\"text-align: right;\">          3</td><td style=\"text-align: right;\">    14260</td><td style=\"text-align: right;\">           84</td><td style=\"text-align: right;\">         3</td><td style=\"text-align: right;\">         350</td><td style=\"text-align: right;\">           84</td><td style=\"text-align: right;\">            5</td><td style=\"text-align: right;\">            8</td><td style=\"text-align: right;\">           3</td><td style=\"text-align: right;\">         1145</td><td style=\"text-align: right;\">     3343</td><td style=\"text-align: right;\">         192</td><td style=\"text-align: right;\">       2000</td><td style=\"text-align: right;\">          2000</td><td style=\"text-align: right;\">         0</td><td style=\"text-align: right;\">           1</td><td style=\"text-align: right;\">           2</td><td style=\"text-align: right;\">           2</td><td style=\"text-align: right;\">           4</td><td style=\"text-align: right;\">           12</td><td style=\"text-align: right;\">           13</td><td style=\"text-align: right;\">           2</td><td style=\"text-align: right;\">           6</td><td style=\"text-align: right;\">           1</td><td style=\"text-align: right;\">        1</td><td style=\"text-align: right;\">           5</td><td style=\"text-align: right;\">            3</td><td style=\"text-align: right;\">          2</td><td style=\"text-align: right;\">          10</td><td style=\"text-align: right;\">         3</td><td style=\"text-align: right;\">           1</td><td style=\"text-align: right;\">       3</td><td style=\"text-align: right;\">            15</td><td style=\"text-align: right;\">         0</td><td style=\"text-align: right;\">          1</td><td style=\"text-align: right;\">              4</td><td style=\"text-align: right;\">         8</td><td style=\"text-align: right;\">       1</td><td style=\"text-align: right;\">          0</td><td style=\"text-align: right;\">       2</td><td style=\"text-align: right;\">    12.4292</td></tr>\n",
       "</tbody>\n",
       "</table>"
      ]
     },
     "metadata": {},
     "output_type": "display_data"
    },
    {
     "data": {
      "text/plain": []
     },
     "execution_count": 198,
     "metadata": {},
     "output_type": "execute_result"
    }
   ],
   "source": [
    "train.head(5)"
   ]
  },
  {
   "cell_type": "code",
   "execution_count": 199,
   "metadata": {},
   "outputs": [
    {
     "data": {
      "text/html": [
       "<table>\n",
       "<thead>\n",
       "<tr><th style=\"text-align: right;\">  Id</th><th style=\"text-align: right;\">  1stFlrSF</th><th style=\"text-align: right;\">  2ndFlrSF</th><th style=\"text-align: right;\">  BedroomAbvGr</th><th style=\"text-align: right;\">  BsmtCond</th><th style=\"text-align: right;\">  BsmtExposure</th><th style=\"text-align: right;\">  BsmtFinSF1</th><th style=\"text-align: right;\">  BsmtFinSF2</th><th style=\"text-align: right;\">  BsmtFinType1</th><th style=\"text-align: right;\">  BsmtFinType2</th><th style=\"text-align: right;\">  BsmtFullBath</th><th style=\"text-align: right;\">  BsmtQual</th><th style=\"text-align: right;\">  BsmtUnfSF</th><th style=\"text-align: right;\">  EnclosedPorch</th><th style=\"text-align: right;\">  ExterCond</th><th style=\"text-align: right;\">  ExterQual</th><th style=\"text-align: right;\">  FireplaceQu</th><th style=\"text-align: right;\">  Fireplaces</th><th style=\"text-align: right;\">  FullBath</th><th style=\"text-align: right;\">  GarageCars</th><th style=\"text-align: right;\">  GarageCond</th><th style=\"text-align: right;\">  GarageFinish</th><th style=\"text-align: right;\">  GarageQual</th><th style=\"text-align: right;\">  GarageYrBlt</th><th style=\"text-align: right;\">  GrLivArea</th><th style=\"text-align: right;\">  HalfBath</th><th style=\"text-align: right;\">  HeatingQC</th><th style=\"text-align: right;\">  KitchenAbvGr</th><th style=\"text-align: right;\">  KitchenQual</th><th style=\"text-align: right;\">  LandSlope</th><th style=\"text-align: right;\">  LotArea</th><th style=\"text-align: right;\">  LotFrontage</th><th style=\"text-align: right;\">  LotShape</th><th style=\"text-align: right;\">  MasVnrArea</th><th style=\"text-align: right;\">  OpenPorchSF</th><th style=\"text-align: right;\">  OverallCond</th><th style=\"text-align: right;\">  OverallQual</th><th style=\"text-align: right;\">  PavedDrive</th><th style=\"text-align: right;\">  TotalBsmtSF</th><th style=\"text-align: right;\">  TotalSF</th><th style=\"text-align: right;\">  WoodDeckSF</th><th style=\"text-align: right;\">  YearBuilt</th><th style=\"text-align: right;\">  YearRemodAdd</th><th style=\"text-align: right;\">  BldgType</th><th style=\"text-align: right;\">  CentralAir</th><th style=\"text-align: right;\">  Condition1</th><th style=\"text-align: right;\">  Condition2</th><th style=\"text-align: right;\">  Electrical</th><th style=\"text-align: right;\">  Exterior1st</th><th style=\"text-align: right;\">  Exterior2nd</th><th style=\"text-align: right;\">  Foundation</th><th style=\"text-align: right;\">  Functional</th><th style=\"text-align: right;\">  GarageType</th><th style=\"text-align: right;\">  Heating</th><th style=\"text-align: right;\">  HouseStyle</th><th style=\"text-align: right;\">  LandContour</th><th style=\"text-align: right;\">  LotConfig</th><th style=\"text-align: right;\">  MSSubClass</th><th style=\"text-align: right;\">  MSZoning</th><th style=\"text-align: right;\">  MasVnrType</th><th style=\"text-align: right;\">  MoSold</th><th style=\"text-align: right;\">  Neighborhood</th><th style=\"text-align: right;\">  RoofMatl</th><th style=\"text-align: right;\">  RoofStyle</th><th style=\"text-align: right;\">  SaleCondition</th><th style=\"text-align: right;\">  SaleType</th><th style=\"text-align: right;\">  Street</th><th style=\"text-align: right;\">  Utilities</th><th style=\"text-align: right;\">  YrSold</th><th style=\"text-align: right;\">  SalePrice</th></tr>\n",
       "</thead>\n",
       "<tbody>\n",
       "<tr><td style=\"text-align: right;\">1002</td><td style=\"text-align: right;\">       691</td><td style=\"text-align: right;\">         0</td><td style=\"text-align: right;\">             2</td><td style=\"text-align: right;\">         3</td><td style=\"text-align: right;\">             0</td><td style=\"text-align: right;\">           0</td><td style=\"text-align: right;\">           0</td><td style=\"text-align: right;\">             1</td><td style=\"text-align: right;\">             1</td><td style=\"text-align: right;\">             0</td><td style=\"text-align: right;\">         2</td><td style=\"text-align: right;\">        691</td><td style=\"text-align: right;\">             94</td><td style=\"text-align: right;\">          3</td><td style=\"text-align: right;\">          3</td><td style=\"text-align: right;\">            0</td><td style=\"text-align: right;\">           0</td><td style=\"text-align: right;\">         1</td><td style=\"text-align: right;\">           1</td><td style=\"text-align: right;\">           3</td><td style=\"text-align: right;\">             1</td><td style=\"text-align: right;\">           2</td><td style=\"text-align: right;\">         1920</td><td style=\"text-align: right;\">        691</td><td style=\"text-align: right;\">         0</td><td style=\"text-align: right;\">          5</td><td style=\"text-align: right;\">             1</td><td style=\"text-align: right;\">            5</td><td style=\"text-align: right;\">          3</td><td style=\"text-align: right;\">     5400</td><td style=\"text-align: right;\">           60</td><td style=\"text-align: right;\">         4</td><td style=\"text-align: right;\">           0</td><td style=\"text-align: right;\">           20</td><td style=\"text-align: right;\">            6</td><td style=\"text-align: right;\">            5</td><td style=\"text-align: right;\">           1</td><td style=\"text-align: right;\">          691</td><td style=\"text-align: right;\">     1382</td><td style=\"text-align: right;\">           0</td><td style=\"text-align: right;\">       1920</td><td style=\"text-align: right;\">          1950</td><td style=\"text-align: right;\">         0</td><td style=\"text-align: right;\">           1</td><td style=\"text-align: right;\">           2</td><td style=\"text-align: right;\">           2</td><td style=\"text-align: right;\">           0</td><td style=\"text-align: right;\">           13</td><td style=\"text-align: right;\">           14</td><td style=\"text-align: right;\">           0</td><td style=\"text-align: right;\">           6</td><td style=\"text-align: right;\">           5</td><td style=\"text-align: right;\">        1</td><td style=\"text-align: right;\">           2</td><td style=\"text-align: right;\">            3</td><td style=\"text-align: right;\">          0</td><td style=\"text-align: right;\">           6</td><td style=\"text-align: right;\">         3</td><td style=\"text-align: right;\">           3</td><td style=\"text-align: right;\">       0</td><td style=\"text-align: right;\">            17</td><td style=\"text-align: right;\">         0</td><td style=\"text-align: right;\">          1</td><td style=\"text-align: right;\">              0</td><td style=\"text-align: right;\">         8</td><td style=\"text-align: right;\">       1</td><td style=\"text-align: right;\">          0</td><td style=\"text-align: right;\">       1</td><td style=\"text-align: right;\">    11.3621</td></tr>\n",
       "<tr><td style=\"text-align: right;\">1003</td><td style=\"text-align: right;\">      1574</td><td style=\"text-align: right;\">         0</td><td style=\"text-align: right;\">             3</td><td style=\"text-align: right;\">         3</td><td style=\"text-align: right;\">             0</td><td style=\"text-align: right;\">          24</td><td style=\"text-align: right;\">           0</td><td style=\"text-align: right;\">             6</td><td style=\"text-align: right;\">             1</td><td style=\"text-align: right;\">             0</td><td style=\"text-align: right;\">         4</td><td style=\"text-align: right;\">       1550</td><td style=\"text-align: right;\">              0</td><td style=\"text-align: right;\">          3</td><td style=\"text-align: right;\">          4</td><td style=\"text-align: right;\">            4</td><td style=\"text-align: right;\">           1</td><td style=\"text-align: right;\">         2</td><td style=\"text-align: right;\">           3</td><td style=\"text-align: right;\">           3</td><td style=\"text-align: right;\">             2</td><td style=\"text-align: right;\">           3</td><td style=\"text-align: right;\">         2006</td><td style=\"text-align: right;\">       1574</td><td style=\"text-align: right;\">         0</td><td style=\"text-align: right;\">          5</td><td style=\"text-align: right;\">             1</td><td style=\"text-align: right;\">            4</td><td style=\"text-align: right;\">          3</td><td style=\"text-align: right;\">    11957</td><td style=\"text-align: right;\">           75</td><td style=\"text-align: right;\">         3</td><td style=\"text-align: right;\">          53</td><td style=\"text-align: right;\">          104</td><td style=\"text-align: right;\">            5</td><td style=\"text-align: right;\">            8</td><td style=\"text-align: right;\">           3</td><td style=\"text-align: right;\">         1574</td><td style=\"text-align: right;\">     3148</td><td style=\"text-align: right;\">         144</td><td style=\"text-align: right;\">       2006</td><td style=\"text-align: right;\">          2006</td><td style=\"text-align: right;\">         0</td><td style=\"text-align: right;\">           1</td><td style=\"text-align: right;\">           6</td><td style=\"text-align: right;\">           2</td><td style=\"text-align: right;\">           4</td><td style=\"text-align: right;\">           12</td><td style=\"text-align: right;\">           13</td><td style=\"text-align: right;\">           2</td><td style=\"text-align: right;\">           6</td><td style=\"text-align: right;\">           1</td><td style=\"text-align: right;\">        1</td><td style=\"text-align: right;\">           2</td><td style=\"text-align: right;\">            3</td><td style=\"text-align: right;\">          4</td><td style=\"text-align: right;\">           5</td><td style=\"text-align: right;\">         3</td><td style=\"text-align: right;\">           1</td><td style=\"text-align: right;\">       9</td><td style=\"text-align: right;\">            21</td><td style=\"text-align: right;\">         0</td><td style=\"text-align: right;\">          1</td><td style=\"text-align: right;\">              4</td><td style=\"text-align: right;\">         8</td><td style=\"text-align: right;\">       1</td><td style=\"text-align: right;\">          0</td><td style=\"text-align: right;\">       2</td><td style=\"text-align: right;\">    12.3545</td></tr>\n",
       "<tr><td style=\"text-align: right;\">1004</td><td style=\"text-align: right;\">      1680</td><td style=\"text-align: right;\">         0</td><td style=\"text-align: right;\">             4</td><td style=\"text-align: right;\">         3</td><td style=\"text-align: right;\">             0</td><td style=\"text-align: right;\">           0</td><td style=\"text-align: right;\">           0</td><td style=\"text-align: right;\">             1</td><td style=\"text-align: right;\">             1</td><td style=\"text-align: right;\">             0</td><td style=\"text-align: right;\">         3</td><td style=\"text-align: right;\">       1680</td><td style=\"text-align: right;\">              0</td><td style=\"text-align: right;\">          3</td><td style=\"text-align: right;\">          3</td><td style=\"text-align: right;\">            0</td><td style=\"text-align: right;\">           0</td><td style=\"text-align: right;\">         2</td><td style=\"text-align: right;\">           2</td><td style=\"text-align: right;\">           3</td><td style=\"text-align: right;\">             1</td><td style=\"text-align: right;\">           3</td><td style=\"text-align: right;\">         1976</td><td style=\"text-align: right;\">       1680</td><td style=\"text-align: right;\">         0</td><td style=\"text-align: right;\">          2</td><td style=\"text-align: right;\">             2</td><td style=\"text-align: right;\">            3</td><td style=\"text-align: right;\">          3</td><td style=\"text-align: right;\">    11500</td><td style=\"text-align: right;\">           60</td><td style=\"text-align: right;\">         3</td><td style=\"text-align: right;\">         164</td><td style=\"text-align: right;\">            0</td><td style=\"text-align: right;\">            6</td><td style=\"text-align: right;\">            5</td><td style=\"text-align: right;\">           3</td><td style=\"text-align: right;\">         1680</td><td style=\"text-align: right;\">     3360</td><td style=\"text-align: right;\">           0</td><td style=\"text-align: right;\">       1976</td><td style=\"text-align: right;\">          1976</td><td style=\"text-align: right;\">         2</td><td style=\"text-align: right;\">           1</td><td style=\"text-align: right;\">           1</td><td style=\"text-align: right;\">           6</td><td style=\"text-align: right;\">           4</td><td style=\"text-align: right;\">           12</td><td style=\"text-align: right;\">           13</td><td style=\"text-align: right;\">           1</td><td style=\"text-align: right;\">           6</td><td style=\"text-align: right;\">           5</td><td style=\"text-align: right;\">        1</td><td style=\"text-align: right;\">           2</td><td style=\"text-align: right;\">            3</td><td style=\"text-align: right;\">          0</td><td style=\"text-align: right;\">          15</td><td style=\"text-align: right;\">         3</td><td style=\"text-align: right;\">           1</td><td style=\"text-align: right;\">       8</td><td style=\"text-align: right;\">            14</td><td style=\"text-align: right;\">         0</td><td style=\"text-align: right;\">          1</td><td style=\"text-align: right;\">              4</td><td style=\"text-align: right;\">         8</td><td style=\"text-align: right;\">       1</td><td style=\"text-align: right;\">          0</td><td style=\"text-align: right;\">       1</td><td style=\"text-align: right;\">    11.827 </td></tr>\n",
       "<tr><td style=\"text-align: right;\">1005</td><td style=\"text-align: right;\">      1504</td><td style=\"text-align: right;\">         0</td><td style=\"text-align: right;\">             1</td><td style=\"text-align: right;\">         3</td><td style=\"text-align: right;\">             0</td><td style=\"text-align: right;\">          16</td><td style=\"text-align: right;\">           0</td><td style=\"text-align: right;\">             6</td><td style=\"text-align: right;\">             1</td><td style=\"text-align: right;\">             0</td><td style=\"text-align: right;\">         4</td><td style=\"text-align: right;\">       1330</td><td style=\"text-align: right;\">              0</td><td style=\"text-align: right;\">          3</td><td style=\"text-align: right;\">          4</td><td style=\"text-align: right;\">            4</td><td style=\"text-align: right;\">           1</td><td style=\"text-align: right;\">         2</td><td style=\"text-align: right;\">           2</td><td style=\"text-align: right;\">           3</td><td style=\"text-align: right;\">             3</td><td style=\"text-align: right;\">           3</td><td style=\"text-align: right;\">         2005</td><td style=\"text-align: right;\">       1504</td><td style=\"text-align: right;\">         0</td><td style=\"text-align: right;\">          5</td><td style=\"text-align: right;\">             1</td><td style=\"text-align: right;\">            4</td><td style=\"text-align: right;\">          3</td><td style=\"text-align: right;\">     3182</td><td style=\"text-align: right;\">           43</td><td style=\"text-align: right;\">         4</td><td style=\"text-align: right;\">          16</td><td style=\"text-align: right;\">            0</td><td style=\"text-align: right;\">            5</td><td style=\"text-align: right;\">            7</td><td style=\"text-align: right;\">           3</td><td style=\"text-align: right;\">         1346</td><td style=\"text-align: right;\">     2850</td><td style=\"text-align: right;\">         156</td><td style=\"text-align: right;\">       2005</td><td style=\"text-align: right;\">          2006</td><td style=\"text-align: right;\">         4</td><td style=\"text-align: right;\">           1</td><td style=\"text-align: right;\">           2</td><td style=\"text-align: right;\">           2</td><td style=\"text-align: right;\">           4</td><td style=\"text-align: right;\">           12</td><td style=\"text-align: right;\">           13</td><td style=\"text-align: right;\">           2</td><td style=\"text-align: right;\">           6</td><td style=\"text-align: right;\">           1</td><td style=\"text-align: right;\">        1</td><td style=\"text-align: right;\">           2</td><td style=\"text-align: right;\">            3</td><td style=\"text-align: right;\">          4</td><td style=\"text-align: right;\">           0</td><td style=\"text-align: right;\">         3</td><td style=\"text-align: right;\">           1</td><td style=\"text-align: right;\">       7</td><td style=\"text-align: right;\">             0</td><td style=\"text-align: right;\">         0</td><td style=\"text-align: right;\">          1</td><td style=\"text-align: right;\">              4</td><td style=\"text-align: right;\">         8</td><td style=\"text-align: right;\">       1</td><td style=\"text-align: right;\">          0</td><td style=\"text-align: right;\">       3</td><td style=\"text-align: right;\">    12.1063</td></tr>\n",
       "<tr><td style=\"text-align: right;\">1006</td><td style=\"text-align: right;\">       985</td><td style=\"text-align: right;\">         0</td><td style=\"text-align: right;\">             3</td><td style=\"text-align: right;\">         4</td><td style=\"text-align: right;\">             2</td><td style=\"text-align: right;\">         595</td><td style=\"text-align: right;\">           0</td><td style=\"text-align: right;\">             6</td><td style=\"text-align: right;\">             1</td><td style=\"text-align: right;\">             0</td><td style=\"text-align: right;\">         4</td><td style=\"text-align: right;\">        390</td><td style=\"text-align: right;\">              0</td><td style=\"text-align: right;\">          3</td><td style=\"text-align: right;\">          4</td><td style=\"text-align: right;\">            0</td><td style=\"text-align: right;\">           0</td><td style=\"text-align: right;\">         2</td><td style=\"text-align: right;\">           1</td><td style=\"text-align: right;\">           3</td><td style=\"text-align: right;\">             1</td><td style=\"text-align: right;\">           3</td><td style=\"text-align: right;\">         1977</td><td style=\"text-align: right;\">        985</td><td style=\"text-align: right;\">         0</td><td style=\"text-align: right;\">          3</td><td style=\"text-align: right;\">             1</td><td style=\"text-align: right;\">            3</td><td style=\"text-align: right;\">          3</td><td style=\"text-align: right;\">     8385</td><td style=\"text-align: right;\">           65</td><td style=\"text-align: right;\">         4</td><td style=\"text-align: right;\">         220</td><td style=\"text-align: right;\">            0</td><td style=\"text-align: right;\">            8</td><td style=\"text-align: right;\">            5</td><td style=\"text-align: right;\">           3</td><td style=\"text-align: right;\">          985</td><td style=\"text-align: right;\">     1970</td><td style=\"text-align: right;\">         210</td><td style=\"text-align: right;\">       1977</td><td style=\"text-align: right;\">          1977</td><td style=\"text-align: right;\">         0</td><td style=\"text-align: right;\">           1</td><td style=\"text-align: right;\">           2</td><td style=\"text-align: right;\">           2</td><td style=\"text-align: right;\">           4</td><td style=\"text-align: right;\">            6</td><td style=\"text-align: right;\">            6</td><td style=\"text-align: right;\">           1</td><td style=\"text-align: right;\">           6</td><td style=\"text-align: right;\">           1</td><td style=\"text-align: right;\">        1</td><td style=\"text-align: right;\">           7</td><td style=\"text-align: right;\">            3</td><td style=\"text-align: right;\">          4</td><td style=\"text-align: right;\">          13</td><td style=\"text-align: right;\">         3</td><td style=\"text-align: right;\">           1</td><td style=\"text-align: right;\">       2</td><td style=\"text-align: right;\">             5</td><td style=\"text-align: right;\">         0</td><td style=\"text-align: right;\">          1</td><td style=\"text-align: right;\">              4</td><td style=\"text-align: right;\">         8</td><td style=\"text-align: right;\">       1</td><td style=\"text-align: right;\">          0</td><td style=\"text-align: right;\">       2</td><td style=\"text-align: right;\">    11.9177</td></tr>\n",
       "</tbody>\n",
       "</table>"
      ]
     },
     "metadata": {},
     "output_type": "display_data"
    },
    {
     "data": {
      "text/plain": []
     },
     "execution_count": 199,
     "metadata": {},
     "output_type": "execute_result"
    }
   ],
   "source": [
    "validation.head(5)"
   ]
  },
  {
   "cell_type": "markdown",
   "metadata": {},
   "source": [
    "## Models"
   ]
  },
  {
   "cell_type": "markdown",
   "metadata": {},
   "source": [
    "## 1. Decision Tree"
   ]
  },
  {
   "cell_type": "markdown",
   "metadata": {},
   "source": [
    "![title](img/tree.png \"ShowMyImage\")"
   ]
  },
  {
   "cell_type": "markdown",
   "metadata": {},
   "source": [
    "<div class=\"alert alert-block alert-success\">\n",
    "<font color='darkblue'>Before we build our model, we first need to set our x variable and y variable. </font>"
   ]
  },
  {
   "cell_type": "code",
   "execution_count": 200,
   "metadata": {},
   "outputs": [
    {
     "name": "stdout",
     "output_type": "stream",
     "text": [
      "SalePrice\n",
      "['1stFlrSF', '2ndFlrSF', 'BedroomAbvGr', 'BsmtCond', 'BsmtExposure', 'BsmtFinSF1', 'BsmtFinSF2', 'BsmtFinType1', 'BsmtFinType2', 'BsmtFullBath', 'BsmtQual', 'BsmtUnfSF', 'EnclosedPorch', 'ExterCond', 'ExterQual', 'FireplaceQu', 'Fireplaces', 'FullBath', 'GarageCars', 'GarageCond', 'GarageFinish', 'GarageQual', 'GarageYrBlt', 'GrLivArea', 'HalfBath', 'HeatingQC', 'KitchenAbvGr', 'KitchenQual', 'LandSlope', 'LotArea', 'LotFrontage', 'LotShape', 'MasVnrArea', 'OpenPorchSF', 'OverallCond', 'OverallQual', 'PavedDrive', 'TotalBsmtSF', 'TotalSF', 'WoodDeckSF', 'YearBuilt', 'YearRemodAdd', 'BldgType', 'CentralAir', 'Condition1', 'Condition2', 'Electrical', 'Exterior1st', 'Exterior2nd', 'Foundation', 'Functional', 'GarageType', 'Heating', 'HouseStyle', 'LandContour', 'LotConfig', 'MSSubClass', 'MSZoning', 'MasVnrType', 'MoSold', 'Neighborhood', 'RoofMatl', 'RoofStyle', 'SaleCondition', 'SaleType', 'Street', 'Utilities', 'YrSold']\n"
     ]
    }
   ],
   "source": [
    "x=[name for name in train.columns if name not in ['SalePrice','Id']]\n",
    "y=\"SalePrice\"\n",
    "\n",
    "print(y)\n",
    "print(x)"
   ]
  },
  {
   "cell_type": "markdown",
   "metadata": {},
   "source": [
    "### (1) Random Forest"
   ]
  },
  {
   "cell_type": "code",
   "execution_count": 93,
   "metadata": {},
   "outputs": [
    {
     "name": "stdout",
     "output_type": "stream",
     "text": [
      "drf Model Build progress: |███████████████████████████████████████████████| 100%\n",
      "Model Details\n",
      "=============\n",
      "H2ORandomForestEstimator :  Distributed Random Forest\n",
      "Model Key:  DRF_model_python_1522814867933_17\n",
      "\n",
      "\n",
      "ModelMetricsRegression: drf\n",
      "** Reported on train data. **\n",
      "\n",
      "MSE: 0.02199521503869593\n",
      "RMSE: 0.14830783876348522\n",
      "MAE: 0.09885645544904449\n",
      "RMSLE: 0.011570495384038992\n",
      "Mean Residual Deviance: 0.02199521503869593\n",
      "\n",
      "ModelMetricsRegression: drf\n",
      "** Reported on validation data. **\n",
      "\n",
      "MSE: 0.017186544991187224\n",
      "RMSE: 0.13109746370997122\n",
      "MAE: 0.09320732799011575\n",
      "RMSLE: 0.010105633183728627\n",
      "Mean Residual Deviance: 0.017186544991187224\n",
      "\n",
      "ModelMetricsRegression: drf\n",
      "** Reported on cross-validation data. **\n",
      "\n",
      "MSE: 0.02213209371939317\n",
      "RMSE: 0.1487685911723075\n",
      "MAE: 0.09864818932912696\n",
      "RMSLE: 0.011625245867656089\n",
      "Mean Residual Deviance: 0.02213209371939317\n",
      "Cross-Validation Metrics Summary: \n"
     ]
    },
    {
     "data": {
      "text/html": [
       "<div style=\"overflow:auto\"><table style=\"width:50%\"><tr><td><b></b></td>\n",
       "<td><b>mean</b></td>\n",
       "<td><b>sd</b></td>\n",
       "<td><b>cv_1_valid</b></td>\n",
       "<td><b>cv_2_valid</b></td>\n",
       "<td><b>cv_3_valid</b></td></tr>\n",
       "<tr><td>mae</td>\n",
       "<td>0.0985485</td>\n",
       "<td>0.0022540</td>\n",
       "<td>0.0940933</td>\n",
       "<td>0.1013722</td>\n",
       "<td>0.1001799</td></tr>\n",
       "<tr><td>mean_residual_deviance</td>\n",
       "<td>0.0221321</td>\n",
       "<td>0.0003435</td>\n",
       "<td>0.0215781</td>\n",
       "<td>0.0220571</td>\n",
       "<td>0.0227610</td></tr>\n",
       "<tr><td>mse</td>\n",
       "<td>0.0221321</td>\n",
       "<td>0.0003435</td>\n",
       "<td>0.0215781</td>\n",
       "<td>0.0220571</td>\n",
       "<td>0.0227610</td></tr>\n",
       "<tr><td>r2</td>\n",
       "<td>0.8655584</td>\n",
       "<td>0.0025273</td>\n",
       "<td>0.8605043</td>\n",
       "<td>0.8681411</td>\n",
       "<td>0.86803</td></tr>\n",
       "<tr><td>residual_deviance</td>\n",
       "<td>0.0221321</td>\n",
       "<td>0.0003435</td>\n",
       "<td>0.0215781</td>\n",
       "<td>0.0220571</td>\n",
       "<td>0.0227610</td></tr>\n",
       "<tr><td>rmse</td>\n",
       "<td>0.1487595</td>\n",
       "<td>0.0011532</td>\n",
       "<td>0.1468949</td>\n",
       "<td>0.1485163</td>\n",
       "<td>0.1508673</td></tr>\n",
       "<tr><td>rmsle</td>\n",
       "<td>0.0116266</td>\n",
       "<td>0.0000305</td>\n",
       "<td>0.0116216</td>\n",
       "<td>0.0115764</td>\n",
       "<td>0.0116818</td></tr></table></div>"
      ],
      "text/plain": [
       "                        mean       sd           cv_1_valid    cv_2_valid    cv_3_valid\n",
       "----------------------  ---------  -----------  ------------  ------------  ------------\n",
       "mae                     0.0985485  0.00225402   0.0940933     0.101372      0.10018\n",
       "mean_residual_deviance  0.0221321  0.000343507  0.0215781     0.0220571     0.022761\n",
       "mse                     0.0221321  0.000343507  0.0215781     0.0220571     0.022761\n",
       "r2                      0.865558   0.00252727   0.860504      0.868141      0.86803\n",
       "residual_deviance       0.0221321  0.000343507  0.0215781     0.0220571     0.022761\n",
       "rmse                    0.14876    0.00115317   0.146895      0.148516      0.150867\n",
       "rmsle                   0.0116266  3.05418e-05  0.0116216     0.0115764     0.0116818"
      ]
     },
     "metadata": {},
     "output_type": "display_data"
    },
    {
     "name": "stdout",
     "output_type": "stream",
     "text": [
      "Scoring History: \n"
     ]
    },
    {
     "data": {
      "text/html": [
       "<div style=\"overflow:auto\"><table style=\"width:50%\"><tr><td><b></b></td>\n",
       "<td><b>timestamp</b></td>\n",
       "<td><b>duration</b></td>\n",
       "<td><b>number_of_trees</b></td>\n",
       "<td><b>training_rmse</b></td>\n",
       "<td><b>training_mae</b></td>\n",
       "<td><b>training_deviance</b></td>\n",
       "<td><b>validation_rmse</b></td>\n",
       "<td><b>validation_mae</b></td>\n",
       "<td><b>validation_deviance</b></td></tr>\n",
       "<tr><td></td>\n",
       "<td>2018-04-15 23:36:00</td>\n",
       "<td>27.390 sec</td>\n",
       "<td>0.0</td>\n",
       "<td>nan</td>\n",
       "<td>nan</td>\n",
       "<td>nan</td>\n",
       "<td>nan</td>\n",
       "<td>nan</td>\n",
       "<td>nan</td></tr>\n",
       "<tr><td></td>\n",
       "<td>2018-04-15 23:36:00</td>\n",
       "<td>27.442 sec</td>\n",
       "<td>1.0</td>\n",
       "<td>0.2132358</td>\n",
       "<td>0.1573479</td>\n",
       "<td>0.0454695</td>\n",
       "<td>0.2215950</td>\n",
       "<td>0.1639344</td>\n",
       "<td>0.0491044</td></tr>\n",
       "<tr><td></td>\n",
       "<td>2018-04-15 23:36:00</td>\n",
       "<td>27.498 sec</td>\n",
       "<td>2.0</td>\n",
       "<td>0.2511844</td>\n",
       "<td>0.1776714</td>\n",
       "<td>0.0630936</td>\n",
       "<td>0.2053816</td>\n",
       "<td>0.1486332</td>\n",
       "<td>0.0421816</td></tr>\n",
       "<tr><td></td>\n",
       "<td>2018-04-15 23:36:00</td>\n",
       "<td>27.540 sec</td>\n",
       "<td>3.0</td>\n",
       "<td>0.2617780</td>\n",
       "<td>0.1893513</td>\n",
       "<td>0.0685277</td>\n",
       "<td>0.1895978</td>\n",
       "<td>0.1405806</td>\n",
       "<td>0.0359473</td></tr>\n",
       "<tr><td></td>\n",
       "<td>2018-04-15 23:36:00</td>\n",
       "<td>27.592 sec</td>\n",
       "<td>4.0</td>\n",
       "<td>0.2449461</td>\n",
       "<td>0.1778056</td>\n",
       "<td>0.0599986</td>\n",
       "<td>0.1759604</td>\n",
       "<td>0.1320853</td>\n",
       "<td>0.0309621</td></tr>\n",
       "<tr><td>---</td>\n",
       "<td>---</td>\n",
       "<td>---</td>\n",
       "<td>---</td>\n",
       "<td>---</td>\n",
       "<td>---</td>\n",
       "<td>---</td>\n",
       "<td>---</td>\n",
       "<td>---</td>\n",
       "<td>---</td></tr>\n",
       "<tr><td></td>\n",
       "<td>2018-04-15 23:36:13</td>\n",
       "<td>39.752 sec</td>\n",
       "<td>158.0</td>\n",
       "<td>0.1482111</td>\n",
       "<td>0.0990614</td>\n",
       "<td>0.0219665</td>\n",
       "<td>0.1307171</td>\n",
       "<td>0.0928083</td>\n",
       "<td>0.0170870</td></tr>\n",
       "<tr><td></td>\n",
       "<td>2018-04-15 23:36:13</td>\n",
       "<td>39.829 sec</td>\n",
       "<td>159.0</td>\n",
       "<td>0.1483714</td>\n",
       "<td>0.0991500</td>\n",
       "<td>0.0220141</td>\n",
       "<td>0.1309599</td>\n",
       "<td>0.0930609</td>\n",
       "<td>0.0171505</td></tr>\n",
       "<tr><td></td>\n",
       "<td>2018-04-15 23:36:13</td>\n",
       "<td>39.909 sec</td>\n",
       "<td>160.0</td>\n",
       "<td>0.1482656</td>\n",
       "<td>0.0990050</td>\n",
       "<td>0.0219827</td>\n",
       "<td>0.1310807</td>\n",
       "<td>0.0931762</td>\n",
       "<td>0.0171821</td></tr>\n",
       "<tr><td></td>\n",
       "<td>2018-04-15 23:36:13</td>\n",
       "<td>39.988 sec</td>\n",
       "<td>161.0</td>\n",
       "<td>0.1481430</td>\n",
       "<td>0.0988287</td>\n",
       "<td>0.0219464</td>\n",
       "<td>0.1310805</td>\n",
       "<td>0.0931826</td>\n",
       "<td>0.0171821</td></tr>\n",
       "<tr><td></td>\n",
       "<td>2018-04-15 23:36:13</td>\n",
       "<td>40.060 sec</td>\n",
       "<td>162.0</td>\n",
       "<td>0.1483078</td>\n",
       "<td>0.0988565</td>\n",
       "<td>0.0219952</td>\n",
       "<td>0.1310975</td>\n",
       "<td>0.0932073</td>\n",
       "<td>0.0171865</td></tr></table></div>"
      ],
      "text/plain": [
       "     timestamp            duration    number_of_trees    training_rmse        training_mae         training_deviance     validation_rmse      validation_mae       validation_deviance\n",
       "---  -------------------  ----------  -----------------  -------------------  -------------------  --------------------  -------------------  -------------------  ---------------------\n",
       "     2018-04-15 23:36:00  27.390 sec  0.0                nan                  nan                  nan                   nan                  nan                  nan\n",
       "     2018-04-15 23:36:00  27.442 sec  1.0                0.21323580572797038  0.1573479375228506   0.045469508844456726  0.22159503965315858  0.16393440154962666  0.04910436159888492\n",
       "     2018-04-15 23:36:00  27.498 sec  2.0                0.25118438844803487  0.17767143802366395  0.06309359700001327   0.20538155948752038  0.14863319688488824  0.04218158497752587\n",
       "     2018-04-15 23:36:00  27.540 sec  3.0                0.2617779920851224   0.18935134072176346  0.06852771714011843   0.18959776637451675  0.1405806416507371   0.03594731301420583\n",
       "     2018-04-15 23:36:00  27.592 sec  4.0                0.24494608814823443  0.17780560507670573  0.05999858609912263   0.17596044263274638  0.13208525097526316  0.03096207737151203\n",
       "---  ---                  ---         ---                ---                  ---                  ---                   ---                  ---                  ---\n",
       "     2018-04-15 23:36:13  39.752 sec  158.0              0.148211088996752    0.09906144358692492  0.021966526901603143  0.13071709596440206  0.09280834217239164  0.0170869591773667\n",
       "     2018-04-15 23:36:13  39.829 sec  159.0              0.14837142045231033  0.09915004386830992  0.02201407840703625   0.13095988414708437  0.09306092932912403  0.017150491255817763\n",
       "     2018-04-15 23:36:13  39.909 sec  160.0              0.1482655995085235   0.09900496756788292  0.02198268799762188   0.13108067582266153  0.09317617020752754  0.017182143574125685\n",
       "     2018-04-15 23:36:13  39.988 sec  161.0              0.14814302502901433  0.09882866901492389  0.021946355864747167  0.13108053874752323  0.09318255900935735  0.01718210763834094\n",
       "     2018-04-15 23:36:13  40.060 sec  162.0              0.14830783876348522  0.09885645544904449  0.02199521503869593   0.13109746370997122  0.09320732799011575  0.017186544991187224"
      ]
     },
     "metadata": {},
     "output_type": "display_data"
    },
    {
     "name": "stdout",
     "output_type": "stream",
     "text": [
      "\n",
      "See the whole table with table.as_data_frame()\n",
      "Variable Importances: \n"
     ]
    },
    {
     "data": {
      "text/html": [
       "<div style=\"overflow:auto\"><table style=\"width:50%\"><tr><td><b>variable</b></td>\n",
       "<td><b>relative_importance</b></td>\n",
       "<td><b>scaled_importance</b></td>\n",
       "<td><b>percentage</b></td></tr>\n",
       "<tr><td>TotalSF</td>\n",
       "<td>1747.1717529</td>\n",
       "<td>1.0</td>\n",
       "<td>0.0751851</td></tr>\n",
       "<tr><td>OverallQual.1</td>\n",
       "<td>1583.4511719</td>\n",
       "<td>0.9062939</td>\n",
       "<td>0.0681398</td></tr>\n",
       "<tr><td>OverallQual</td>\n",
       "<td>1367.9737549</td>\n",
       "<td>0.7829647</td>\n",
       "<td>0.0588673</td></tr>\n",
       "<tr><td>TotalSF.1</td>\n",
       "<td>1313.7036133</td>\n",
       "<td>0.7519030</td>\n",
       "<td>0.0565319</td></tr>\n",
       "<tr><td>GrLivArea.1</td>\n",
       "<td>1168.4340820</td>\n",
       "<td>0.6687574</td>\n",
       "<td>0.0502806</td></tr>\n",
       "<tr><td>---</td>\n",
       "<td>---</td>\n",
       "<td>---</td>\n",
       "<td>---</td></tr>\n",
       "<tr><td>Utilities_NoSeWa</td>\n",
       "<td>0.0579664</td>\n",
       "<td>0.0000332</td>\n",
       "<td>0.0000025</td></tr>\n",
       "<tr><td>SaleType_Oth</td>\n",
       "<td>0.0371437</td>\n",
       "<td>0.0000213</td>\n",
       "<td>0.0000016</td></tr>\n",
       "<tr><td>SaleCondition_AdjLand</td>\n",
       "<td>0.0266788</td>\n",
       "<td>0.0000153</td>\n",
       "<td>0.0000011</td></tr>\n",
       "<tr><td>Exterior2nd_AsphShn</td>\n",
       "<td>0.0139188</td>\n",
       "<td>0.0000080</td>\n",
       "<td>0.0000006</td></tr>\n",
       "<tr><td>LotConfig_FR3</td>\n",
       "<td>0.0062742</td>\n",
       "<td>0.0000036</td>\n",
       "<td>0.0000003</td></tr></table></div>"
      ],
      "text/plain": [
       "variable               relative_importance    scaled_importance       percentage\n",
       "---------------------  ---------------------  ----------------------  ----------------------\n",
       "TotalSF                1747.1717529296875     1.0                     0.07518508802267247\n",
       "OverallQual.1          1583.451171875         0.9062939400318497      0.06813978965570927\n",
       "OverallQual            1367.9737548828125     0.7829646699524364      0.058867267629016624\n",
       "TotalSF.1              1313.70361328125       0.7519029603577377      0.05653189025900452\n",
       "GrLivArea.1            1168.43408203125       0.6687574247191209      0.050280585843322866\n",
       "---                    ---                    ---                     ---\n",
       "Utilities_NoSeWa       0.05796636641025543    3.3177257080224903e-05  2.494434993927543e-06\n",
       "SaleType_Oth           0.03714369237422943    2.1259325141873573e-05  1.5983842320943785e-06\n",
       "SaleCondition_AdjLand  0.026678776368498802   1.526969304749998e-05   1.1480532158554758e-06\n",
       "Exterior2nd_AsphShn    0.013918806798756123   7.966478839539862e-06   5.989604127815621e-07\n",
       "LotConfig_FR3          0.006274238228797913   3.591082684502633e-06   2.699958677310254e-07"
      ]
     },
     "metadata": {},
     "output_type": "display_data"
    },
    {
     "name": "stdout",
     "output_type": "stream",
     "text": [
      "\n",
      "See the whole table with table.as_data_frame()\n",
      "\n"
     ]
    }
   ],
   "source": [
    "# initialize rf model\n",
    "rf_model = H2ORandomForestEstimator(\n",
    "    ntrees=10000,                    # Up to 10000 decision trees in the forest \n",
    "    max_depth=20,                    # trees can grow to depth of 20\n",
    "    col_sample_rate_per_tree=0.1,\n",
    "    sample_rate=0.8,\n",
    "    stopping_rounds=50,              # stop after validation error does not decrease for 5 iterations/new trees\n",
    "    score_each_iteration=True,       # score validation error on every iteration/new tree\n",
    "    nfolds=3,\n",
    "    keep_cross_validation_predictions=True,\n",
    "    seed=12345)           \n",
    "\n",
    "# train rf model\n",
    "rf_model.train(x,y,training_frame=train,validation_frame=validation)\n",
    "\n",
    "# print model information\n",
    "print(rf_model)"
   ]
  },
  {
   "cell_type": "markdown",
   "metadata": {},
   "source": [
    "<div class=\"alert alert-block alert-success\">\n",
    "<font color='darkblue'> For our Random Forest Model, we set:<font>\n",
    "\n",
    "- <font color='darkblue'> Up to 10000 decision trees in the forest.<font>\n",
    "\n",
    "- <font color='darkblue'> Trees can grow to depth of 20<font>\n",
    "\n",
    "- <font color='darkblue'>stop after validation error does not decrease for 5 iterations/new trees <font>\n",
    "\n",
    "- <font color='darkblue'>score validation error on every iteration/new tree<font>"
   ]
  },
  {
   "cell_type": "code",
   "execution_count": 94,
   "metadata": {},
   "outputs": [
    {
     "name": "stdout",
     "output_type": "stream",
     "text": [
      "drf prediction progress: |████████████████████████████████████████████████| 100%\n",
      "drf prediction progress: |████████████████████████████████████████████████| 100%\n"
     ]
    }
   ],
   "source": [
    "ert_preds1_val = rf_model.predict(validation)\n",
    "ert_preds1_test = rf_model.predict(test)"
   ]
  },
  {
   "cell_type": "markdown",
   "metadata": {},
   "source": [
    "<div class=\"alert alert-block alert-info\">\n",
    "<font color='green'>Below is our predicted log(SalePrice) based on our Random Forest Model. \n",
    "<br>\n",
    "We then convernt the predicted SalePrice to a data frame so that we can concatenate it with Id.</font>"
   ]
  },
  {
   "cell_type": "code",
   "execution_count": 95,
   "metadata": {
    "scrolled": true
   },
   "outputs": [
    {
     "data": {
      "text/html": [
       "<table>\n",
       "<thead>\n",
       "<tr><th style=\"text-align: right;\">  predict</th></tr>\n",
       "</thead>\n",
       "<tbody>\n",
       "<tr><td style=\"text-align: right;\">  11.73  </td></tr>\n",
       "<tr><td style=\"text-align: right;\">  11.9595</td></tr>\n",
       "<tr><td style=\"text-align: right;\">  12.1489</td></tr>\n",
       "<tr><td style=\"text-align: right;\">  12.1621</td></tr>\n",
       "<tr><td style=\"text-align: right;\">  12.1129</td></tr>\n",
       "<tr><td style=\"text-align: right;\">  12.1304</td></tr>\n",
       "<tr><td style=\"text-align: right;\">  12.0754</td></tr>\n",
       "<tr><td style=\"text-align: right;\">  12.0939</td></tr>\n",
       "<tr><td style=\"text-align: right;\">  12.1009</td></tr>\n",
       "<tr><td style=\"text-align: right;\">  11.8083</td></tr>\n",
       "</tbody>\n",
       "</table>"
      ]
     },
     "metadata": {},
     "output_type": "display_data"
    },
    {
     "data": {
      "text/plain": []
     },
     "execution_count": 95,
     "metadata": {},
     "output_type": "execute_result"
    }
   ],
   "source": [
    "ert_preds1_test.head()"
   ]
  },
  {
   "cell_type": "code",
   "execution_count": 96,
   "metadata": {
    "collapsed": true
   },
   "outputs": [],
   "source": [
    "a=ert_preds1_test.as_data_frame()"
   ]
  },
  {
   "cell_type": "code",
   "execution_count": 97,
   "metadata": {},
   "outputs": [
    {
     "data": {
      "text/html": [
       "<div>\n",
       "<style>\n",
       "    .dataframe thead tr:only-child th {\n",
       "        text-align: right;\n",
       "    }\n",
       "\n",
       "    .dataframe thead th {\n",
       "        text-align: left;\n",
       "    }\n",
       "\n",
       "    .dataframe tbody tr th {\n",
       "        vertical-align: top;\n",
       "    }\n",
       "</style>\n",
       "<table border=\"1\" class=\"dataframe\">\n",
       "  <thead>\n",
       "    <tr style=\"text-align: right;\">\n",
       "      <th></th>\n",
       "      <th>predict</th>\n",
       "    </tr>\n",
       "  </thead>\n",
       "  <tbody>\n",
       "    <tr>\n",
       "      <th>0</th>\n",
       "      <td>11.729967</td>\n",
       "    </tr>\n",
       "    <tr>\n",
       "      <th>1</th>\n",
       "      <td>11.959527</td>\n",
       "    </tr>\n",
       "    <tr>\n",
       "      <th>2</th>\n",
       "      <td>12.148912</td>\n",
       "    </tr>\n",
       "    <tr>\n",
       "      <th>3</th>\n",
       "      <td>12.162078</td>\n",
       "    </tr>\n",
       "    <tr>\n",
       "      <th>4</th>\n",
       "      <td>12.112869</td>\n",
       "    </tr>\n",
       "  </tbody>\n",
       "</table>\n",
       "</div>"
      ],
      "text/plain": [
       "     predict\n",
       "0  11.729967\n",
       "1  11.959527\n",
       "2  12.148912\n",
       "3  12.162078\n",
       "4  12.112869"
      ]
     },
     "execution_count": 97,
     "metadata": {},
     "output_type": "execute_result"
    }
   ],
   "source": [
    "a.head()"
   ]
  },
  {
   "cell_type": "markdown",
   "metadata": {},
   "source": [
    "<div class=\"alert alert-block alert-success\">\n",
    "<font color='darkblue'>Before we concatenate our Log(SalePrice) with Id, we need to convert our log(Saleprice) to Saleprice ($) </font>"
   ]
  },
  {
   "cell_type": "code",
   "execution_count": 98,
   "metadata": {
    "collapsed": true
   },
   "outputs": [],
   "source": [
    "a['Saleprice'] = np.exp(a['predict'])"
   ]
  },
  {
   "cell_type": "code",
   "execution_count": 99,
   "metadata": {},
   "outputs": [
    {
     "data": {
      "text/html": [
       "<div>\n",
       "<style>\n",
       "    .dataframe thead tr:only-child th {\n",
       "        text-align: right;\n",
       "    }\n",
       "\n",
       "    .dataframe thead th {\n",
       "        text-align: left;\n",
       "    }\n",
       "\n",
       "    .dataframe tbody tr th {\n",
       "        vertical-align: top;\n",
       "    }\n",
       "</style>\n",
       "<table border=\"1\" class=\"dataframe\">\n",
       "  <thead>\n",
       "    <tr style=\"text-align: right;\">\n",
       "      <th></th>\n",
       "      <th>predict</th>\n",
       "      <th>Saleprice</th>\n",
       "    </tr>\n",
       "  </thead>\n",
       "  <tbody>\n",
       "    <tr>\n",
       "      <th>0</th>\n",
       "      <td>11.729967</td>\n",
       "      <td>124239.533047</td>\n",
       "    </tr>\n",
       "    <tr>\n",
       "      <th>1</th>\n",
       "      <td>11.959527</td>\n",
       "      <td>156299.100674</td>\n",
       "    </tr>\n",
       "    <tr>\n",
       "      <th>2</th>\n",
       "      <td>12.148912</td>\n",
       "      <td>188888.497384</td>\n",
       "    </tr>\n",
       "    <tr>\n",
       "      <th>3</th>\n",
       "      <td>12.162078</td>\n",
       "      <td>191391.802378</td>\n",
       "    </tr>\n",
       "    <tr>\n",
       "      <th>4</th>\n",
       "      <td>12.112869</td>\n",
       "      <td>182201.566668</td>\n",
       "    </tr>\n",
       "  </tbody>\n",
       "</table>\n",
       "</div>"
      ],
      "text/plain": [
       "     predict      Saleprice\n",
       "0  11.729967  124239.533047\n",
       "1  11.959527  156299.100674\n",
       "2  12.148912  188888.497384\n",
       "3  12.162078  191391.802378\n",
       "4  12.112869  182201.566668"
      ]
     },
     "execution_count": 99,
     "metadata": {},
     "output_type": "execute_result"
    }
   ],
   "source": [
    "a.head()"
   ]
  },
  {
   "cell_type": "markdown",
   "metadata": {},
   "source": [
    "<div class=\"alert alert-block alert-info\">\n",
    "<font color='green'>Here, we can have a look at the statistics of  our predict log(SalePrice) and SalePrice.</font>"
   ]
  },
  {
   "cell_type": "code",
   "execution_count": 100,
   "metadata": {},
   "outputs": [
    {
     "data": {
      "text/html": [
       "<div>\n",
       "<style>\n",
       "    .dataframe thead tr:only-child th {\n",
       "        text-align: right;\n",
       "    }\n",
       "\n",
       "    .dataframe thead th {\n",
       "        text-align: left;\n",
       "    }\n",
       "\n",
       "    .dataframe tbody tr th {\n",
       "        vertical-align: top;\n",
       "    }\n",
       "</style>\n",
       "<table border=\"1\" class=\"dataframe\">\n",
       "  <thead>\n",
       "    <tr style=\"text-align: right;\">\n",
       "      <th></th>\n",
       "      <th>predict</th>\n",
       "      <th>Saleprice</th>\n",
       "    </tr>\n",
       "  </thead>\n",
       "  <tbody>\n",
       "    <tr>\n",
       "      <th>count</th>\n",
       "      <td>1459.000000</td>\n",
       "      <td>1459.000000</td>\n",
       "    </tr>\n",
       "    <tr>\n",
       "      <th>mean</th>\n",
       "      <td>12.012020</td>\n",
       "      <td>174872.252432</td>\n",
       "    </tr>\n",
       "    <tr>\n",
       "      <th>std</th>\n",
       "      <td>0.339873</td>\n",
       "      <td>64324.324459</td>\n",
       "    </tr>\n",
       "    <tr>\n",
       "      <th>min</th>\n",
       "      <td>11.026526</td>\n",
       "      <td>61483.591614</td>\n",
       "    </tr>\n",
       "    <tr>\n",
       "      <th>25%</th>\n",
       "      <td>11.790698</td>\n",
       "      <td>132018.604612</td>\n",
       "    </tr>\n",
       "    <tr>\n",
       "      <th>50%</th>\n",
       "      <td>11.959268</td>\n",
       "      <td>156258.703698</td>\n",
       "    </tr>\n",
       "    <tr>\n",
       "      <th>75%</th>\n",
       "      <td>12.228712</td>\n",
       "      <td>204579.493333</td>\n",
       "    </tr>\n",
       "    <tr>\n",
       "      <th>max</th>\n",
       "      <td>13.129512</td>\n",
       "      <td>503587.160969</td>\n",
       "    </tr>\n",
       "  </tbody>\n",
       "</table>\n",
       "</div>"
      ],
      "text/plain": [
       "           predict      Saleprice\n",
       "count  1459.000000    1459.000000\n",
       "mean     12.012020  174872.252432\n",
       "std       0.339873   64324.324459\n",
       "min      11.026526   61483.591614\n",
       "25%      11.790698  132018.604612\n",
       "50%      11.959268  156258.703698\n",
       "75%      12.228712  204579.493333\n",
       "max      13.129512  503587.160969"
      ]
     },
     "execution_count": 100,
     "metadata": {},
     "output_type": "execute_result"
    }
   ],
   "source": [
    "a.describe()"
   ]
  },
  {
   "cell_type": "markdown",
   "metadata": {},
   "source": [
    "<div class=\"alert alert-block alert-info\">\n",
    "<font color='green'>Now, we can put Id and Saleprice together, save them and submit it on Kaggle. </font>"
   ]
  },
  {
   "cell_type": "code",
   "execution_count": 101,
   "metadata": {
    "collapsed": true
   },
   "outputs": [],
   "source": [
    "Id=testa['Id']"
   ]
  },
  {
   "cell_type": "code",
   "execution_count": 102,
   "metadata": {
    "collapsed": true
   },
   "outputs": [],
   "source": [
    "SalePrice=a['Saleprice']"
   ]
  },
  {
   "cell_type": "code",
   "execution_count": 103,
   "metadata": {
    "collapsed": true
   },
   "outputs": [],
   "source": [
    "rf_result=pd.concat((Id,SalePrice),axis=1)"
   ]
  },
  {
   "cell_type": "code",
   "execution_count": 104,
   "metadata": {},
   "outputs": [
    {
     "data": {
      "text/html": [
       "<div>\n",
       "<style>\n",
       "    .dataframe thead tr:only-child th {\n",
       "        text-align: right;\n",
       "    }\n",
       "\n",
       "    .dataframe thead th {\n",
       "        text-align: left;\n",
       "    }\n",
       "\n",
       "    .dataframe tbody tr th {\n",
       "        vertical-align: top;\n",
       "    }\n",
       "</style>\n",
       "<table border=\"1\" class=\"dataframe\">\n",
       "  <thead>\n",
       "    <tr style=\"text-align: right;\">\n",
       "      <th></th>\n",
       "      <th>Id</th>\n",
       "      <th>Saleprice</th>\n",
       "    </tr>\n",
       "  </thead>\n",
       "  <tbody>\n",
       "    <tr>\n",
       "      <th>0</th>\n",
       "      <td>1461</td>\n",
       "      <td>124239.533047</td>\n",
       "    </tr>\n",
       "    <tr>\n",
       "      <th>1</th>\n",
       "      <td>1462</td>\n",
       "      <td>156299.100674</td>\n",
       "    </tr>\n",
       "    <tr>\n",
       "      <th>2</th>\n",
       "      <td>1463</td>\n",
       "      <td>188888.497384</td>\n",
       "    </tr>\n",
       "    <tr>\n",
       "      <th>3</th>\n",
       "      <td>1464</td>\n",
       "      <td>191391.802378</td>\n",
       "    </tr>\n",
       "    <tr>\n",
       "      <th>4</th>\n",
       "      <td>1465</td>\n",
       "      <td>182201.566668</td>\n",
       "    </tr>\n",
       "  </tbody>\n",
       "</table>\n",
       "</div>"
      ],
      "text/plain": [
       "     Id      Saleprice\n",
       "0  1461  124239.533047\n",
       "1  1462  156299.100674\n",
       "2  1463  188888.497384\n",
       "3  1464  191391.802378\n",
       "4  1465  182201.566668"
      ]
     },
     "execution_count": 104,
     "metadata": {},
     "output_type": "execute_result"
    }
   ],
   "source": [
    "rf_result.head()"
   ]
  },
  {
   "cell_type": "code",
   "execution_count": 105,
   "metadata": {
    "collapsed": true
   },
   "outputs": [],
   "source": [
    "rf_result.to_csv('rf_result.csv')"
   ]
  },
  {
   "cell_type": "markdown",
   "metadata": {},
   "source": [
    "### (2) GBM"
   ]
  },
  {
   "cell_type": "markdown",
   "metadata": {},
   "source": [
    "### a. GBM with random hyperparameter search"
   ]
  },
  {
   "cell_type": "code",
   "execution_count": 204,
   "metadata": {},
   "outputs": [
    {
     "name": "stdout",
     "output_type": "stream",
     "text": [
      "gbm Grid Build progress: |████████████████████████████████████████████████| 100%\n"
     ]
    }
   ],
   "source": [
    "# GBM with random hyperparameter search\n",
    "# train many different GBM models with random hyperparameters\n",
    "# and select best model based on validation error\n",
    "\n",
    "# define random grid search parameters\n",
    "hyper_parameters = {'ntrees':list(range(0, 500, 50)),\n",
    "                    'max_depth':list(range(0, 20, 2)),\n",
    "                    'sample_rate':[s/float(10) for s in range(1, 11)],\n",
    "                    'col_sample_rate':[s/float(10) for s in range(1, 11)]}\n",
    "\n",
    "# define search strategy\n",
    "search_criteria = {'strategy':'RandomDiscrete',\n",
    "                   'max_models':20,\n",
    "                   'max_runtime_secs':600}\n",
    "\n",
    "# initialize grid search\n",
    "gsearch = H2OGridSearch(H2OGradientBoostingEstimator,\n",
    "                        hyper_params=hyper_parameters,\n",
    "                        search_criteria=search_criteria)\n",
    "\n",
    "# execute training w/ grid search\n",
    "gsearch.train(x=x,\n",
    "              y=y,\n",
    "              training_frame=train,\n",
    "              validation_frame=validation)"
   ]
  },
  {
   "cell_type": "code",
   "execution_count": 205,
   "metadata": {},
   "outputs": [
    {
     "name": "stdout",
     "output_type": "stream",
     "text": [
      "     col_sample_rate max_depth ntrees sample_rate  \\\n",
      "0                0.5         4    100         0.7   \n",
      "1                0.5         8    200         0.5   \n",
      "2                0.1        16    400         0.6   \n",
      "3                0.5         4     50         0.8   \n",
      "4                0.4        10    450         0.7   \n",
      "5                0.7         8    350         0.9   \n",
      "6                0.7        14    300         0.9   \n",
      "7                1.0        10    150         0.4   \n",
      "8                0.4        10    250         0.4   \n",
      "9                0.3         6    400         0.5   \n",
      "10               0.1         2    100         0.4   \n",
      "11               0.5        12    400         0.5   \n",
      "12               1.0         2    350         0.1   \n",
      "13               0.9         4    200         0.3   \n",
      "14               0.3        16    450         0.1   \n",
      "15               0.8        10      0         0.3   \n",
      "16               0.8         4      0         0.5   \n",
      "17               0.6        18      0         0.8   \n",
      "18               0.6         2      0         0.4   \n",
      "19               1.0         4      0         0.2   \n",
      "\n",
      "                                                           model_ids  \\\n",
      "0   Grid_GBM_train_model3.hex_model_python_1523825102485_25_model_10   \n",
      "1    Grid_GBM_train_model3.hex_model_python_1523825102485_25_model_3   \n",
      "2   Grid_GBM_train_model3.hex_model_python_1523825102485_25_model_16   \n",
      "3    Grid_GBM_train_model3.hex_model_python_1523825102485_25_model_6   \n",
      "4   Grid_GBM_train_model3.hex_model_python_1523825102485_25_model_19   \n",
      "5   Grid_GBM_train_model3.hex_model_python_1523825102485_25_model_14   \n",
      "6    Grid_GBM_train_model3.hex_model_python_1523825102485_25_model_9   \n",
      "7    Grid_GBM_train_model3.hex_model_python_1523825102485_25_model_8   \n",
      "8   Grid_GBM_train_model3.hex_model_python_1523825102485_25_model_18   \n",
      "9    Grid_GBM_train_model3.hex_model_python_1523825102485_25_model_0   \n",
      "10   Grid_GBM_train_model3.hex_model_python_1523825102485_25_model_7   \n",
      "11  Grid_GBM_train_model3.hex_model_python_1523825102485_25_model_17   \n",
      "12   Grid_GBM_train_model3.hex_model_python_1523825102485_25_model_4   \n",
      "13  Grid_GBM_train_model3.hex_model_python_1523825102485_25_model_13   \n",
      "14   Grid_GBM_train_model3.hex_model_python_1523825102485_25_model_1   \n",
      "15   Grid_GBM_train_model3.hex_model_python_1523825102485_25_model_5   \n",
      "16  Grid_GBM_train_model3.hex_model_python_1523825102485_25_model_15   \n",
      "17  Grid_GBM_train_model3.hex_model_python_1523825102485_25_model_12   \n",
      "18  Grid_GBM_train_model3.hex_model_python_1523825102485_25_model_11   \n",
      "19   Grid_GBM_train_model3.hex_model_python_1523825102485_25_model_2   \n",
      "\n",
      "       residual_deviance  \n",
      "0   0.012914586769865972  \n",
      "1   0.013216760406512358  \n",
      "2   0.013859130584556787  \n",
      "3   0.014028849910368632  \n",
      "4    0.01450789925108485  \n",
      "5   0.014583150038053171  \n",
      "6   0.014606109691692418  \n",
      "7   0.015020915768114733  \n",
      "8   0.015220948560880347  \n",
      "9   0.015420291927432581  \n",
      "10  0.015424675651910276  \n",
      "11   0.01563998169532968  \n",
      "12   0.01580851684915735  \n",
      "13  0.016261794787075345  \n",
      "14  0.018186407834509793  \n",
      "15   0.14778851671432447  \n",
      "16   0.14778851671432447  \n",
      "17   0.14778851671432447  \n",
      "18   0.14778851671432447  \n",
      "19   0.14778851671432447  \n",
      "Model Details\n",
      "=============\n",
      "H2OGradientBoostingEstimator :  Gradient Boosting Machine\n",
      "Model Key:  Grid_GBM_train_model3.hex_model_python_1523825102485_25_model_10\n",
      "\n",
      "\n",
      "ModelMetricsRegression: gbm\n",
      "** Reported on train data. **\n",
      "\n",
      "MSE: 0.005304071920678325\n",
      "RMSE: 0.07282905958941338\n",
      "MAE: 0.05135387229919434\n",
      "RMSLE: 0.005677688180476339\n",
      "Mean Residual Deviance: 0.005304071920678325\n",
      "\n",
      "ModelMetricsRegression: gbm\n",
      "** Reported on validation data. **\n",
      "\n",
      "MSE: 0.012914586769865972\n",
      "RMSE: 0.11364236344720208\n",
      "MAE: 0.08262342722421065\n",
      "RMSLE: 0.00878824376224119\n",
      "Mean Residual Deviance: 0.012914586769865972\n",
      "Scoring History: \n"
     ]
    },
    {
     "data": {
      "text/html": [
       "<div style=\"overflow:auto\"><table style=\"width:50%\"><tr><td><b></b></td>\n",
       "<td><b>timestamp</b></td>\n",
       "<td><b>duration</b></td>\n",
       "<td><b>number_of_trees</b></td>\n",
       "<td><b>training_rmse</b></td>\n",
       "<td><b>training_mae</b></td>\n",
       "<td><b>training_deviance</b></td>\n",
       "<td><b>validation_rmse</b></td>\n",
       "<td><b>validation_mae</b></td>\n",
       "<td><b>validation_deviance</b></td></tr>\n",
       "<tr><td></td>\n",
       "<td>2018-04-16 01:09:40</td>\n",
       "<td>18.197 sec</td>\n",
       "<td>0.0</td>\n",
       "<td>0.4063635</td>\n",
       "<td>0.3149379</td>\n",
       "<td>0.1651313</td>\n",
       "<td>0.3844327</td>\n",
       "<td>0.3003295</td>\n",
       "<td>0.1477885</td></tr>\n",
       "<tr><td></td>\n",
       "<td>2018-04-16 01:09:40</td>\n",
       "<td>18.203 sec</td>\n",
       "<td>1.0</td>\n",
       "<td>0.3753379</td>\n",
       "<td>0.2894575</td>\n",
       "<td>0.1408785</td>\n",
       "<td>0.3553160</td>\n",
       "<td>0.2767437</td>\n",
       "<td>0.1262495</td></tr>\n",
       "<tr><td></td>\n",
       "<td>2018-04-16 01:09:40</td>\n",
       "<td>18.208 sec</td>\n",
       "<td>2.0</td>\n",
       "<td>0.3462703</td>\n",
       "<td>0.2659869</td>\n",
       "<td>0.1199031</td>\n",
       "<td>0.3290097</td>\n",
       "<td>0.2559820</td>\n",
       "<td>0.1082474</td></tr>\n",
       "<tr><td></td>\n",
       "<td>2018-04-16 01:09:40</td>\n",
       "<td>18.213 sec</td>\n",
       "<td>3.0</td>\n",
       "<td>0.3209796</td>\n",
       "<td>0.2448302</td>\n",
       "<td>0.1030279</td>\n",
       "<td>0.3068961</td>\n",
       "<td>0.2373181</td>\n",
       "<td>0.0941852</td></tr>\n",
       "<tr><td></td>\n",
       "<td>2018-04-16 01:09:40</td>\n",
       "<td>18.218 sec</td>\n",
       "<td>4.0</td>\n",
       "<td>0.2991230</td>\n",
       "<td>0.2260097</td>\n",
       "<td>0.0894746</td>\n",
       "<td>0.2874069</td>\n",
       "<td>0.2209825</td>\n",
       "<td>0.0826027</td></tr>\n",
       "<tr><td>---</td>\n",
       "<td>---</td>\n",
       "<td>---</td>\n",
       "<td>---</td>\n",
       "<td>---</td>\n",
       "<td>---</td>\n",
       "<td>---</td>\n",
       "<td>---</td>\n",
       "<td>---</td>\n",
       "<td>---</td></tr>\n",
       "<tr><td></td>\n",
       "<td>2018-04-16 01:09:40</td>\n",
       "<td>18.645 sec</td>\n",
       "<td>96.0</td>\n",
       "<td>0.0740735</td>\n",
       "<td>0.0521351</td>\n",
       "<td>0.0054869</td>\n",
       "<td>0.1135918</td>\n",
       "<td>0.0826388</td>\n",
       "<td>0.0129031</td></tr>\n",
       "<tr><td></td>\n",
       "<td>2018-04-16 01:09:40</td>\n",
       "<td>18.650 sec</td>\n",
       "<td>97.0</td>\n",
       "<td>0.0738086</td>\n",
       "<td>0.0519921</td>\n",
       "<td>0.0054477</td>\n",
       "<td>0.1135670</td>\n",
       "<td>0.0826136</td>\n",
       "<td>0.0128975</td></tr>\n",
       "<tr><td></td>\n",
       "<td>2018-04-16 01:09:40</td>\n",
       "<td>18.655 sec</td>\n",
       "<td>98.0</td>\n",
       "<td>0.0734579</td>\n",
       "<td>0.0517134</td>\n",
       "<td>0.0053961</td>\n",
       "<td>0.1136025</td>\n",
       "<td>0.0826252</td>\n",
       "<td>0.0129055</td></tr>\n",
       "<tr><td></td>\n",
       "<td>2018-04-16 01:09:40</td>\n",
       "<td>18.659 sec</td>\n",
       "<td>99.0</td>\n",
       "<td>0.0731083</td>\n",
       "<td>0.0515199</td>\n",
       "<td>0.0053448</td>\n",
       "<td>0.1136500</td>\n",
       "<td>0.0826449</td>\n",
       "<td>0.0129163</td></tr>\n",
       "<tr><td></td>\n",
       "<td>2018-04-16 01:09:40</td>\n",
       "<td>18.664 sec</td>\n",
       "<td>100.0</td>\n",
       "<td>0.0728291</td>\n",
       "<td>0.0513539</td>\n",
       "<td>0.0053041</td>\n",
       "<td>0.1136424</td>\n",
       "<td>0.0826234</td>\n",
       "<td>0.0129146</td></tr></table></div>"
      ],
      "text/plain": [
       "     timestamp            duration    number_of_trees    training_rmse        training_mae         training_deviance      validation_rmse      validation_mae       validation_deviance\n",
       "---  -------------------  ----------  -----------------  -------------------  -------------------  ---------------------  -------------------  -------------------  ---------------------\n",
       "     2018-04-16 01:09:40  18.197 sec  0.0                0.40636345067387103  0.3149378786500236   0.16513125404357562    0.3844327206603575   0.30032950343529763  0.14778851671432447\n",
       "     2018-04-16 01:09:40  18.203 sec  1.0                0.375337884847891    0.28945748805999755  0.14087852780208868    0.3553160116585554   0.27674374062010004  0.12624946814094268\n",
       "     2018-04-16 01:09:40  18.208 sec  2.0                0.34627025276688045  0.2659869136810303   0.11990308795123929    0.32900965894682643  0.25598195337584717  0.10824735568030705\n",
       "     2018-04-16 01:09:40  18.213 sec  3.0                0.32097958549183403  0.24483017730712892  0.1030278943025096     0.3068961383979369   0.23731805534104228  0.09418523976356563\n",
       "     2018-04-16 01:09:40  18.218 sec  4.0                0.2991230276673515   0.22600968647003175  0.08947458568088314    0.2874068785464788   0.2209824692668312   0.0826027138358304\n",
       "---  ---                  ---         ---                ---                  ---                  ---                    ---                  ---                  ---\n",
       "     2018-04-16 01:09:40  18.645 sec  96.0               0.07407353659107575  0.0521350793838501   0.005486888823109439   0.11359176823074525  0.08263883008920953  0.012903089809787348\n",
       "     2018-04-16 01:09:40  18.650 sec  97.0               0.0738085924490047   0.05199212265014649  0.005447708319303274   0.11356698405918778  0.08261358107088279  0.012897459868299809\n",
       "     2018-04-16 01:09:40  18.655 sec  98.0               0.0734579391927825   0.05171335411071777  0.005396068830450531   0.11360245476528492  0.08262516103810616  0.012905517728698607\n",
       "     2018-04-16 01:09:40  18.659 sec  99.0               0.07310827894914433  0.05151985359191895  0.0053448204509058996  0.11365000458731653  0.08264490203257621  0.012916323542697066\n",
       "     2018-04-16 01:09:40  18.664 sec  100.0              0.07282905958941338  0.05135387229919434  0.005304071920678325   0.11364236344720208  0.08262342722421065  0.012914586769865972"
      ]
     },
     "metadata": {},
     "output_type": "display_data"
    },
    {
     "name": "stdout",
     "output_type": "stream",
     "text": [
      "\n",
      "See the whole table with table.as_data_frame()\n",
      "Variable Importances: \n"
     ]
    },
    {
     "data": {
      "text/html": [
       "<div style=\"overflow:auto\"><table style=\"width:50%\"><tr><td><b>variable</b></td>\n",
       "<td><b>relative_importance</b></td>\n",
       "<td><b>scaled_importance</b></td>\n",
       "<td><b>percentage</b></td></tr>\n",
       "<tr><td>OverallQual</td>\n",
       "<td>247.7046051</td>\n",
       "<td>1.0</td>\n",
       "<td>0.3275441</td></tr>\n",
       "<tr><td>TotalSF</td>\n",
       "<td>190.5270081</td>\n",
       "<td>0.7691702</td>\n",
       "<td>0.2519371</td></tr>\n",
       "<tr><td>GrLivArea</td>\n",
       "<td>67.9819794</td>\n",
       "<td>0.2744478</td>\n",
       "<td>0.0898937</td></tr>\n",
       "<tr><td>ExterQual</td>\n",
       "<td>39.0815659</td>\n",
       "<td>0.1577749</td>\n",
       "<td>0.0516782</td></tr>\n",
       "<tr><td>BsmtFinSF1</td>\n",
       "<td>17.7379074</td>\n",
       "<td>0.0716091</td>\n",
       "<td>0.0234551</td></tr>\n",
       "<tr><td>---</td>\n",
       "<td>---</td>\n",
       "<td>---</td>\n",
       "<td>---</td></tr>\n",
       "<tr><td>LandSlope</td>\n",
       "<td>0.0</td>\n",
       "<td>0.0</td>\n",
       "<td>0.0</td></tr>\n",
       "<tr><td>Condition2</td>\n",
       "<td>0.0</td>\n",
       "<td>0.0</td>\n",
       "<td>0.0</td></tr>\n",
       "<tr><td>Heating</td>\n",
       "<td>0.0</td>\n",
       "<td>0.0</td>\n",
       "<td>0.0</td></tr>\n",
       "<tr><td>Street</td>\n",
       "<td>0.0</td>\n",
       "<td>0.0</td>\n",
       "<td>0.0</td></tr>\n",
       "<tr><td>Utilities</td>\n",
       "<td>0.0</td>\n",
       "<td>0.0</td>\n",
       "<td>0.0</td></tr></table></div>"
      ],
      "text/plain": [
       "variable     relative_importance    scaled_importance    percentage\n",
       "-----------  ---------------------  -------------------  --------------------\n",
       "OverallQual  247.70460510253906     1.0                  0.3275440662217881\n",
       "TotalSF      190.52700805664062     0.7691702299106253   0.25193714472167383\n",
       "GrLivArea    67.98197937011719      0.2744477816307677   0.08989374236089102\n",
       "ExterQual    39.081565856933594     0.1577748861017562   0.0516782277414487\n",
       "BsmtFinSF1   17.73790740966797      0.07160911442209658  0.023455140516354805\n",
       "---          ---                    ---                  ---\n",
       "LandSlope    0.0                    0.0                  0.0\n",
       "Condition2   0.0                    0.0                  0.0\n",
       "Heating      0.0                    0.0                  0.0\n",
       "Street       0.0                    0.0                  0.0\n",
       "Utilities    0.0                    0.0                  0.0"
      ]
     },
     "metadata": {},
     "output_type": "display_data"
    },
    {
     "name": "stdout",
     "output_type": "stream",
     "text": [
      "\n",
      "See the whole table with table.as_data_frame()\n"
     ]
    },
    {
     "data": {
      "text/plain": []
     },
     "execution_count": 205,
     "metadata": {},
     "output_type": "execute_result"
    }
   ],
   "source": [
    "# show grid search results\n",
    "gsearch.show()\n",
    "\n",
    "# select best model\n",
    "gbm_model = gsearch.get_grid()[0]\n",
    "\n",
    "# print model information\n",
    "gbm_model"
   ]
  },
  {
   "cell_type": "code",
   "execution_count": 206,
   "metadata": {
    "scrolled": true
   },
   "outputs": [
    {
     "name": "stdout",
     "output_type": "stream",
     "text": [
      "gbm prediction progress: |████████████████████████████████████████████████| 100%\n",
      "gbm prediction progress: |████████████████████████████████████████████████| 100%\n"
     ]
    }
   ],
   "source": [
    "ert_preds1_val = gbm_model.predict(validation)\n",
    "ert_preds1_test = gbm_model.predict(test)"
   ]
  },
  {
   "cell_type": "markdown",
   "metadata": {},
   "source": [
    "<div class=\"alert alert-block alert-info\">\n",
    "<font color='green'>Below is our predicted log(SalePrice) based on our Random Forest Model. \n",
    "<br>\n",
    "We then convernt the predicted SalePrice to a data frame so that we can concatenate it with Id.</font>"
   ]
  },
  {
   "cell_type": "code",
   "execution_count": 207,
   "metadata": {
    "scrolled": true
   },
   "outputs": [
    {
     "data": {
      "text/html": [
       "<table>\n",
       "<thead>\n",
       "<tr><th style=\"text-align: right;\">  predict</th></tr>\n",
       "</thead>\n",
       "<tbody>\n",
       "<tr><td style=\"text-align: right;\">  11.6473</td></tr>\n",
       "<tr><td style=\"text-align: right;\">  11.9536</td></tr>\n",
       "<tr><td style=\"text-align: right;\">  12.1503</td></tr>\n",
       "<tr><td style=\"text-align: right;\">  12.1655</td></tr>\n",
       "<tr><td style=\"text-align: right;\">  12.133 </td></tr>\n",
       "<tr><td style=\"text-align: right;\">  12.1054</td></tr>\n",
       "<tr><td style=\"text-align: right;\">  12.093 </td></tr>\n",
       "<tr><td style=\"text-align: right;\">  12.0414</td></tr>\n",
       "<tr><td style=\"text-align: right;\">  12.1048</td></tr>\n",
       "<tr><td style=\"text-align: right;\">  11.72  </td></tr>\n",
       "</tbody>\n",
       "</table>"
      ]
     },
     "metadata": {},
     "output_type": "display_data"
    },
    {
     "data": {
      "text/plain": []
     },
     "execution_count": 207,
     "metadata": {},
     "output_type": "execute_result"
    }
   ],
   "source": [
    "ert_preds1_test.head()"
   ]
  },
  {
   "cell_type": "code",
   "execution_count": 208,
   "metadata": {},
   "outputs": [],
   "source": [
    "a=ert_preds1_test.as_data_frame()"
   ]
  },
  {
   "cell_type": "code",
   "execution_count": 209,
   "metadata": {},
   "outputs": [
    {
     "data": {
      "text/html": [
       "<div>\n",
       "<style scoped>\n",
       "    .dataframe tbody tr th:only-of-type {\n",
       "        vertical-align: middle;\n",
       "    }\n",
       "\n",
       "    .dataframe tbody tr th {\n",
       "        vertical-align: top;\n",
       "    }\n",
       "\n",
       "    .dataframe thead th {\n",
       "        text-align: right;\n",
       "    }\n",
       "</style>\n",
       "<table border=\"1\" class=\"dataframe\">\n",
       "  <thead>\n",
       "    <tr style=\"text-align: right;\">\n",
       "      <th></th>\n",
       "      <th>predict</th>\n",
       "    </tr>\n",
       "  </thead>\n",
       "  <tbody>\n",
       "    <tr>\n",
       "      <th>0</th>\n",
       "      <td>11.647286</td>\n",
       "    </tr>\n",
       "    <tr>\n",
       "      <th>1</th>\n",
       "      <td>11.953631</td>\n",
       "    </tr>\n",
       "    <tr>\n",
       "      <th>2</th>\n",
       "      <td>12.150252</td>\n",
       "    </tr>\n",
       "    <tr>\n",
       "      <th>3</th>\n",
       "      <td>12.165505</td>\n",
       "    </tr>\n",
       "    <tr>\n",
       "      <th>4</th>\n",
       "      <td>12.133018</td>\n",
       "    </tr>\n",
       "  </tbody>\n",
       "</table>\n",
       "</div>"
      ],
      "text/plain": [
       "     predict\n",
       "0  11.647286\n",
       "1  11.953631\n",
       "2  12.150252\n",
       "3  12.165505\n",
       "4  12.133018"
      ]
     },
     "execution_count": 209,
     "metadata": {},
     "output_type": "execute_result"
    }
   ],
   "source": [
    "a.head()"
   ]
  },
  {
   "cell_type": "markdown",
   "metadata": {},
   "source": [
    "<div class=\"alert alert-block alert-success\">\n",
    "<font color='darkblue'>Before we concatenate our Log(SalePrice) with Id, we need to convert our log(Saleprice) to Saleprice ($) </font>"
   ]
  },
  {
   "cell_type": "code",
   "execution_count": 210,
   "metadata": {},
   "outputs": [],
   "source": [
    "a['Saleprice'] = np.exp(a['predict'])"
   ]
  },
  {
   "cell_type": "code",
   "execution_count": 211,
   "metadata": {},
   "outputs": [
    {
     "data": {
      "text/html": [
       "<div>\n",
       "<style scoped>\n",
       "    .dataframe tbody tr th:only-of-type {\n",
       "        vertical-align: middle;\n",
       "    }\n",
       "\n",
       "    .dataframe tbody tr th {\n",
       "        vertical-align: top;\n",
       "    }\n",
       "\n",
       "    .dataframe thead th {\n",
       "        text-align: right;\n",
       "    }\n",
       "</style>\n",
       "<table border=\"1\" class=\"dataframe\">\n",
       "  <thead>\n",
       "    <tr style=\"text-align: right;\">\n",
       "      <th></th>\n",
       "      <th>predict</th>\n",
       "      <th>Saleprice</th>\n",
       "    </tr>\n",
       "  </thead>\n",
       "  <tbody>\n",
       "    <tr>\n",
       "      <th>0</th>\n",
       "      <td>11.647286</td>\n",
       "      <td>114380.481740</td>\n",
       "    </tr>\n",
       "    <tr>\n",
       "      <th>1</th>\n",
       "      <td>11.953631</td>\n",
       "      <td>155380.378010</td>\n",
       "    </tr>\n",
       "    <tr>\n",
       "      <th>2</th>\n",
       "      <td>12.150252</td>\n",
       "      <td>189141.684390</td>\n",
       "    </tr>\n",
       "    <tr>\n",
       "      <th>3</th>\n",
       "      <td>12.165505</td>\n",
       "      <td>192048.804453</td>\n",
       "    </tr>\n",
       "    <tr>\n",
       "      <th>4</th>\n",
       "      <td>12.133018</td>\n",
       "      <td>185910.058116</td>\n",
       "    </tr>\n",
       "  </tbody>\n",
       "</table>\n",
       "</div>"
      ],
      "text/plain": [
       "     predict      Saleprice\n",
       "0  11.647286  114380.481740\n",
       "1  11.953631  155380.378010\n",
       "2  12.150252  189141.684390\n",
       "3  12.165505  192048.804453\n",
       "4  12.133018  185910.058116"
      ]
     },
     "execution_count": 211,
     "metadata": {},
     "output_type": "execute_result"
    }
   ],
   "source": [
    "a.head()"
   ]
  },
  {
   "cell_type": "markdown",
   "metadata": {},
   "source": [
    "<div class=\"alert alert-block alert-info\">\n",
    "<font color='green'>Here, we can have a look at the statistics of  our predict log(SalePrice) and SalePrice.</font>"
   ]
  },
  {
   "cell_type": "code",
   "execution_count": 212,
   "metadata": {},
   "outputs": [
    {
     "data": {
      "text/html": [
       "<div>\n",
       "<style scoped>\n",
       "    .dataframe tbody tr th:only-of-type {\n",
       "        vertical-align: middle;\n",
       "    }\n",
       "\n",
       "    .dataframe tbody tr th {\n",
       "        vertical-align: top;\n",
       "    }\n",
       "\n",
       "    .dataframe thead th {\n",
       "        text-align: right;\n",
       "    }\n",
       "</style>\n",
       "<table border=\"1\" class=\"dataframe\">\n",
       "  <thead>\n",
       "    <tr style=\"text-align: right;\">\n",
       "      <th></th>\n",
       "      <th>predict</th>\n",
       "      <th>Saleprice</th>\n",
       "    </tr>\n",
       "  </thead>\n",
       "  <tbody>\n",
       "    <tr>\n",
       "      <th>count</th>\n",
       "      <td>1459.000000</td>\n",
       "      <td>1459.000000</td>\n",
       "    </tr>\n",
       "    <tr>\n",
       "      <th>mean</th>\n",
       "      <td>12.009125</td>\n",
       "      <td>178256.222560</td>\n",
       "    </tr>\n",
       "    <tr>\n",
       "      <th>std</th>\n",
       "      <td>0.396531</td>\n",
       "      <td>78699.477459</td>\n",
       "    </tr>\n",
       "    <tr>\n",
       "      <th>min</th>\n",
       "      <td>10.763509</td>\n",
       "      <td>47264.217843</td>\n",
       "    </tr>\n",
       "    <tr>\n",
       "      <th>25%</th>\n",
       "      <td>11.761705</td>\n",
       "      <td>128245.866912</td>\n",
       "    </tr>\n",
       "    <tr>\n",
       "      <th>50%</th>\n",
       "      <td>11.954780</td>\n",
       "      <td>155558.963357</td>\n",
       "    </tr>\n",
       "    <tr>\n",
       "      <th>75%</th>\n",
       "      <td>12.250274</td>\n",
       "      <td>209038.454257</td>\n",
       "    </tr>\n",
       "    <tr>\n",
       "      <th>max</th>\n",
       "      <td>13.307257</td>\n",
       "      <td>601545.311581</td>\n",
       "    </tr>\n",
       "  </tbody>\n",
       "</table>\n",
       "</div>"
      ],
      "text/plain": [
       "           predict      Saleprice\n",
       "count  1459.000000    1459.000000\n",
       "mean     12.009125  178256.222560\n",
       "std       0.396531   78699.477459\n",
       "min      10.763509   47264.217843\n",
       "25%      11.761705  128245.866912\n",
       "50%      11.954780  155558.963357\n",
       "75%      12.250274  209038.454257\n",
       "max      13.307257  601545.311581"
      ]
     },
     "execution_count": 212,
     "metadata": {},
     "output_type": "execute_result"
    }
   ],
   "source": [
    "a.describe()"
   ]
  },
  {
   "cell_type": "markdown",
   "metadata": {},
   "source": [
    "<div class=\"alert alert-block alert-info\">\n",
    "<font color='green'>Now, we can put Id and Saleprice together, save them and submit it on Kaggle. </font>"
   ]
  },
  {
   "cell_type": "code",
   "execution_count": 213,
   "metadata": {},
   "outputs": [],
   "source": [
    "Id=testa['Id']"
   ]
  },
  {
   "cell_type": "code",
   "execution_count": 214,
   "metadata": {},
   "outputs": [],
   "source": [
    "SalePrice=a['Saleprice']"
   ]
  },
  {
   "cell_type": "code",
   "execution_count": 218,
   "metadata": {},
   "outputs": [],
   "source": [
    "gbm_random_hyperparameter_result2=pd.concat((Id,SalePrice),axis=1)"
   ]
  },
  {
   "cell_type": "code",
   "execution_count": 219,
   "metadata": {},
   "outputs": [
    {
     "data": {
      "text/html": [
       "<div>\n",
       "<style scoped>\n",
       "    .dataframe tbody tr th:only-of-type {\n",
       "        vertical-align: middle;\n",
       "    }\n",
       "\n",
       "    .dataframe tbody tr th {\n",
       "        vertical-align: top;\n",
       "    }\n",
       "\n",
       "    .dataframe thead th {\n",
       "        text-align: right;\n",
       "    }\n",
       "</style>\n",
       "<table border=\"1\" class=\"dataframe\">\n",
       "  <thead>\n",
       "    <tr style=\"text-align: right;\">\n",
       "      <th></th>\n",
       "      <th>Id</th>\n",
       "      <th>Saleprice</th>\n",
       "    </tr>\n",
       "  </thead>\n",
       "  <tbody>\n",
       "    <tr>\n",
       "      <th>0</th>\n",
       "      <td>1461</td>\n",
       "      <td>114380.481740</td>\n",
       "    </tr>\n",
       "    <tr>\n",
       "      <th>1</th>\n",
       "      <td>1462</td>\n",
       "      <td>155380.378010</td>\n",
       "    </tr>\n",
       "    <tr>\n",
       "      <th>2</th>\n",
       "      <td>1463</td>\n",
       "      <td>189141.684390</td>\n",
       "    </tr>\n",
       "    <tr>\n",
       "      <th>3</th>\n",
       "      <td>1464</td>\n",
       "      <td>192048.804453</td>\n",
       "    </tr>\n",
       "    <tr>\n",
       "      <th>4</th>\n",
       "      <td>1465</td>\n",
       "      <td>185910.058116</td>\n",
       "    </tr>\n",
       "  </tbody>\n",
       "</table>\n",
       "</div>"
      ],
      "text/plain": [
       "     Id      Saleprice\n",
       "0  1461  114380.481740\n",
       "1  1462  155380.378010\n",
       "2  1463  189141.684390\n",
       "3  1464  192048.804453\n",
       "4  1465  185910.058116"
      ]
     },
     "execution_count": 219,
     "metadata": {},
     "output_type": "execute_result"
    }
   ],
   "source": [
    "gbm_random_hyperparameter_result2.head()"
   ]
  },
  {
   "cell_type": "code",
   "execution_count": 220,
   "metadata": {},
   "outputs": [],
   "source": [
    "gbm_random_hyperparameter_result2.to_csv('gbm_random_hyperparameter_result2.csv')"
   ]
  },
  {
   "cell_type": "markdown",
   "metadata": {},
   "source": [
    "### b. base line GBM"
   ]
  },
  {
   "cell_type": "code",
   "execution_count": 120,
   "metadata": {},
   "outputs": [
    {
     "name": "stdout",
     "output_type": "stream",
     "text": [
      "gbm Model Build progress: |███████████████████████████████████████████████| 100%\n"
     ]
    }
   ],
   "source": [
    "gbm = H2OGradientBoostingEstimator()\n",
    "gbm.train(x=x, y=y, training_frame=train,validation_frame=validation)"
   ]
  },
  {
   "cell_type": "code",
   "execution_count": 121,
   "metadata": {},
   "outputs": [
    {
     "name": "stdout",
     "output_type": "stream",
     "text": [
      "Model Details\n",
      "=============\n",
      "H2OGradientBoostingEstimator :  Gradient Boosting Machine\n",
      "Model Key:  GBM_model_python_1522814867933_19\n",
      "\n",
      "\n",
      "ModelMetricsRegression: gbm\n",
      "** Reported on train data. **\n",
      "\n",
      "MSE: 0.004621757681026793\n",
      "RMSE: 0.0679835103611662\n",
      "MAE: 0.04792799949645996\n",
      "RMSLE: 0.005315245200225335\n",
      "Mean Residual Deviance: 0.004621757681026793\n",
      "\n",
      "ModelMetricsRegression: gbm\n",
      "** Reported on validation data. **\n",
      "\n",
      "MSE: 0.015050098496709047\n",
      "RMSE: 0.1226788429058126\n",
      "MAE: 0.08831561290423076\n",
      "RMSLE: 0.009510459754901687\n",
      "Mean Residual Deviance: 0.015050098496709047\n",
      "Scoring History: \n"
     ]
    },
    {
     "data": {
      "text/html": [
       "<div style=\"overflow:auto\"><table style=\"width:50%\"><tr><td><b></b></td>\n",
       "<td><b>timestamp</b></td>\n",
       "<td><b>duration</b></td>\n",
       "<td><b>number_of_trees</b></td>\n",
       "<td><b>training_rmse</b></td>\n",
       "<td><b>training_mae</b></td>\n",
       "<td><b>training_deviance</b></td>\n",
       "<td><b>validation_rmse</b></td>\n",
       "<td><b>validation_mae</b></td>\n",
       "<td><b>validation_deviance</b></td></tr>\n",
       "<tr><td></td>\n",
       "<td>2018-04-15 23:39:10</td>\n",
       "<td> 0.009 sec</td>\n",
       "<td>0.0</td>\n",
       "<td>0.4063635</td>\n",
       "<td>0.3149379</td>\n",
       "<td>0.1651313</td>\n",
       "<td>0.3844327</td>\n",
       "<td>0.3003295</td>\n",
       "<td>0.1477885</td></tr>\n",
       "<tr><td></td>\n",
       "<td>2018-04-15 23:39:10</td>\n",
       "<td> 0.061 sec</td>\n",
       "<td>1.0</td>\n",
       "<td>0.3714381</td>\n",
       "<td>0.2868048</td>\n",
       "<td>0.1379663</td>\n",
       "<td>0.3528313</td>\n",
       "<td>0.2753390</td>\n",
       "<td>0.1244900</td></tr>\n",
       "<tr><td></td>\n",
       "<td>2018-04-15 23:39:10</td>\n",
       "<td> 0.089 sec</td>\n",
       "<td>2.0</td>\n",
       "<td>0.3404217</td>\n",
       "<td>0.2619740</td>\n",
       "<td>0.1158870</td>\n",
       "<td>0.3254547</td>\n",
       "<td>0.2526292</td>\n",
       "<td>0.1059207</td></tr>\n",
       "<tr><td></td>\n",
       "<td>2018-04-15 23:39:10</td>\n",
       "<td> 0.122 sec</td>\n",
       "<td>3.0</td>\n",
       "<td>0.3125285</td>\n",
       "<td>0.2395798</td>\n",
       "<td>0.0976741</td>\n",
       "<td>0.2997968</td>\n",
       "<td>0.2323508</td>\n",
       "<td>0.0898781</td></tr>\n",
       "<tr><td></td>\n",
       "<td>2018-04-15 23:39:10</td>\n",
       "<td> 0.150 sec</td>\n",
       "<td>4.0</td>\n",
       "<td>0.2880359</td>\n",
       "<td>0.2197855</td>\n",
       "<td>0.0829647</td>\n",
       "<td>0.2794914</td>\n",
       "<td>0.2159369</td>\n",
       "<td>0.0781155</td></tr>\n",
       "<tr><td>---</td>\n",
       "<td>---</td>\n",
       "<td>---</td>\n",
       "<td>---</td>\n",
       "<td>---</td>\n",
       "<td>---</td>\n",
       "<td>---</td>\n",
       "<td>---</td>\n",
       "<td>---</td>\n",
       "<td>---</td></tr>\n",
       "<tr><td></td>\n",
       "<td>2018-04-15 23:39:12</td>\n",
       "<td> 2.057 sec</td>\n",
       "<td>46.0</td>\n",
       "<td>0.0706416</td>\n",
       "<td>0.0497540</td>\n",
       "<td>0.0049902</td>\n",
       "<td>0.1228950</td>\n",
       "<td>0.0885476</td>\n",
       "<td>0.0151032</td></tr>\n",
       "<tr><td></td>\n",
       "<td>2018-04-15 23:39:12</td>\n",
       "<td> 2.104 sec</td>\n",
       "<td>47.0</td>\n",
       "<td>0.0700320</td>\n",
       "<td>0.0493138</td>\n",
       "<td>0.0049045</td>\n",
       "<td>0.1227827</td>\n",
       "<td>0.0884161</td>\n",
       "<td>0.0150756</td></tr>\n",
       "<tr><td></td>\n",
       "<td>2018-04-15 23:39:12</td>\n",
       "<td> 2.162 sec</td>\n",
       "<td>48.0</td>\n",
       "<td>0.0693126</td>\n",
       "<td>0.0487285</td>\n",
       "<td>0.0048042</td>\n",
       "<td>0.1224465</td>\n",
       "<td>0.0881942</td>\n",
       "<td>0.0149931</td></tr>\n",
       "<tr><td></td>\n",
       "<td>2018-04-15 23:39:12</td>\n",
       "<td> 2.218 sec</td>\n",
       "<td>49.0</td>\n",
       "<td>0.0687320</td>\n",
       "<td>0.0484097</td>\n",
       "<td>0.0047241</td>\n",
       "<td>0.1225382</td>\n",
       "<td>0.0882942</td>\n",
       "<td>0.0150156</td></tr>\n",
       "<tr><td></td>\n",
       "<td>2018-04-15 23:39:12</td>\n",
       "<td> 2.258 sec</td>\n",
       "<td>50.0</td>\n",
       "<td>0.0679835</td>\n",
       "<td>0.0479280</td>\n",
       "<td>0.0046218</td>\n",
       "<td>0.1226788</td>\n",
       "<td>0.0883156</td>\n",
       "<td>0.0150501</td></tr></table></div>"
      ],
      "text/plain": [
       "     timestamp            duration    number_of_trees    training_rmse        training_mae          training_deviance     validation_rmse      validation_mae       validation_deviance\n",
       "---  -------------------  ----------  -----------------  -------------------  --------------------  --------------------  -------------------  -------------------  ---------------------\n",
       "     2018-04-15 23:39:10  0.009 sec   0.0                0.40636345067387103  0.3149378786500236    0.16513125404357562   0.3844327206603575   0.30032950343529763  0.14778851671432444\n",
       "     2018-04-15 23:39:10  0.061 sec   1.0                0.3714381324309463   0.2868048267364502    0.1379662862237892    0.3528313438902489   0.27533901145794637  0.12448995723139906\n",
       "     2018-04-15 23:39:10  0.089 sec   2.0                0.3404217423932802   0.26197401905059814   0.11588696269407683   0.32545465735071577  0.2526292469629953   0.1059207339912718\n",
       "     2018-04-15 23:39:10  0.122 sec   3.0                0.31252854345209835  0.23957976531982422   0.09767409047229011   0.29979684654985456  0.23235078197335687  0.08987814920123703\n",
       "     2018-04-15 23:39:10  0.150 sec   4.0                0.2880358800396757   0.21978548049926758   0.08296466819023043   0.27949141773258873  0.215936886602445    0.0781154525861724\n",
       "---  ---                  ---         ---                ---                  ---                   ---                   ---                  ---                  ---\n",
       "     2018-04-15 23:39:12  2.057 sec   46.0               0.07064160087642422  0.04975403499603272   0.004990235774384019  0.12289498468084763  0.08854762948640255  0.015103177259705773\n",
       "     2018-04-15 23:39:12  2.104 sec   47.0               0.07003201208909714  0.04931382179260254   0.004904482717247447  0.12278267216236413  0.08841613372577194  0.015075584583330588\n",
       "     2018-04-15 23:39:12  2.162 sec   48.0               0.06931261302799403  0.04872846031188965   0.004804238324768448  0.12244648736765917  0.08819416489153091  0.014993142268678318\n",
       "     2018-04-15 23:39:12  2.218 sec   49.0               0.06873199105633918  0.048409693717956545  0.004724086594568689  0.12253819222945224  0.08829418070671541  0.015015608554862189\n",
       "     2018-04-15 23:39:12  2.258 sec   50.0               0.0679835103611662   0.04792799949645996   0.004621757681026793  0.1226788429058126   0.08831561290423076  0.015050098496709047"
      ]
     },
     "metadata": {},
     "output_type": "display_data"
    },
    {
     "name": "stdout",
     "output_type": "stream",
     "text": [
      "\n",
      "See the whole table with table.as_data_frame()\n",
      "Variable Importances: \n"
     ]
    },
    {
     "data": {
      "text/html": [
       "<div style=\"overflow:auto\"><table style=\"width:50%\"><tr><td><b>variable</b></td>\n",
       "<td><b>relative_importance</b></td>\n",
       "<td><b>scaled_importance</b></td>\n",
       "<td><b>percentage</b></td></tr>\n",
       "<tr><td>OverallQual</td>\n",
       "<td>356.2423401</td>\n",
       "<td>1.0</td>\n",
       "<td>0.4216948</td></tr>\n",
       "<tr><td>TotalSF</td>\n",
       "<td>286.3715210</td>\n",
       "<td>0.8038672</td>\n",
       "<td>0.3389866</td></tr>\n",
       "<tr><td>GrLivArea</td>\n",
       "<td>23.3157082</td>\n",
       "<td>0.0654490</td>\n",
       "<td>0.0275995</td></tr>\n",
       "<tr><td>CentralAir_N</td>\n",
       "<td>16.9386311</td>\n",
       "<td>0.0475481</td>\n",
       "<td>0.0200508</td></tr>\n",
       "<tr><td>BsmtFinSF1</td>\n",
       "<td>14.6451321</td>\n",
       "<td>0.0411100</td>\n",
       "<td>0.0173359</td></tr>\n",
       "<tr><td>---</td>\n",
       "<td>---</td>\n",
       "<td>---</td>\n",
       "<td>---</td></tr>\n",
       "<tr><td>Street_Grvl</td>\n",
       "<td>0.0</td>\n",
       "<td>0.0</td>\n",
       "<td>0.0</td></tr>\n",
       "<tr><td>Street_Pave</td>\n",
       "<td>0.0</td>\n",
       "<td>0.0</td>\n",
       "<td>0.0</td></tr>\n",
       "<tr><td>Utilities_AllPub</td>\n",
       "<td>0.0</td>\n",
       "<td>0.0</td>\n",
       "<td>0.0</td></tr>\n",
       "<tr><td>Utilities_NoSeWa</td>\n",
       "<td>0.0</td>\n",
       "<td>0.0</td>\n",
       "<td>0.0</td></tr>\n",
       "<tr><td>YrSold_2010</td>\n",
       "<td>0.0</td>\n",
       "<td>0.0</td>\n",
       "<td>0.0</td></tr></table></div>"
      ],
      "text/plain": [
       "variable          relative_importance    scaled_importance     percentage\n",
       "----------------  ---------------------  --------------------  --------------------\n",
       "OverallQual       356.2423400878906      1.0                   0.4216947955369847\n",
       "TotalSF           286.37152099609375     0.8038671678538867    0.3389866009870397\n",
       "GrLivArea         23.31570816040039      0.06544900910612712   0.02759950651310653\n",
       "CentralAir_N      16.938631057739258     0.04754805690295047   0.020050768133870613\n",
       "BsmtFinSF1        14.645132064819336     0.041110026565641104  0.017335884247118034\n",
       "---               ---                    ---                   ---\n",
       "Street_Grvl       0.0                    0.0                   0.0\n",
       "Street_Pave       0.0                    0.0                   0.0\n",
       "Utilities_AllPub  0.0                    0.0                   0.0\n",
       "Utilities_NoSeWa  0.0                    0.0                   0.0\n",
       "YrSold_2010       0.0                    0.0                   0.0"
      ]
     },
     "metadata": {},
     "output_type": "display_data"
    },
    {
     "name": "stdout",
     "output_type": "stream",
     "text": [
      "\n",
      "See the whole table with table.as_data_frame()\n"
     ]
    },
    {
     "data": {
      "text/plain": []
     },
     "execution_count": 121,
     "metadata": {},
     "output_type": "execute_result"
    }
   ],
   "source": [
    "gbm"
   ]
  },
  {
   "cell_type": "code",
   "execution_count": 122,
   "metadata": {},
   "outputs": [
    {
     "name": "stdout",
     "output_type": "stream",
     "text": [
      "gbm prediction progress: |████████████████████████████████████████████████| 100%\n",
      "gbm prediction progress: |████████████████████████████████████████████████| 100%\n"
     ]
    }
   ],
   "source": [
    "ert_preds1_val = gbm.predict(validation)\n",
    "ert_preds1_test = gbm.predict(test)"
   ]
  },
  {
   "cell_type": "markdown",
   "metadata": {},
   "source": [
    "<div class=\"alert alert-block alert-info\">\n",
    "<font color='green'>Below is our predicted log(SalePrice) based on our Random Forest Model. \n",
    "<br>\n",
    "We then convernt the predicted SalePrice to a data frame so that we can concatenate it with Id.</font>"
   ]
  },
  {
   "cell_type": "code",
   "execution_count": 123,
   "metadata": {
    "scrolled": true
   },
   "outputs": [
    {
     "data": {
      "text/html": [
       "<table>\n",
       "<thead>\n",
       "<tr><th style=\"text-align: right;\">  predict</th></tr>\n",
       "</thead>\n",
       "<tbody>\n",
       "<tr><td style=\"text-align: right;\">  11.7165</td></tr>\n",
       "<tr><td style=\"text-align: right;\">  11.9743</td></tr>\n",
       "<tr><td style=\"text-align: right;\">  12.1563</td></tr>\n",
       "<tr><td style=\"text-align: right;\">  12.1288</td></tr>\n",
       "<tr><td style=\"text-align: right;\">  12.1405</td></tr>\n",
       "<tr><td style=\"text-align: right;\">  12.1047</td></tr>\n",
       "<tr><td style=\"text-align: right;\">  12.0854</td></tr>\n",
       "<tr><td style=\"text-align: right;\">  12.0684</td></tr>\n",
       "<tr><td style=\"text-align: right;\">  12.1648</td></tr>\n",
       "<tr><td style=\"text-align: right;\">  11.6989</td></tr>\n",
       "</tbody>\n",
       "</table>"
      ]
     },
     "metadata": {},
     "output_type": "display_data"
    },
    {
     "data": {
      "text/plain": []
     },
     "execution_count": 123,
     "metadata": {},
     "output_type": "execute_result"
    }
   ],
   "source": [
    "ert_preds1_test.head()"
   ]
  },
  {
   "cell_type": "code",
   "execution_count": 124,
   "metadata": {
    "collapsed": true
   },
   "outputs": [],
   "source": [
    "a=ert_preds1_test.as_data_frame()"
   ]
  },
  {
   "cell_type": "code",
   "execution_count": 125,
   "metadata": {},
   "outputs": [
    {
     "data": {
      "text/html": [
       "<div>\n",
       "<style>\n",
       "    .dataframe thead tr:only-child th {\n",
       "        text-align: right;\n",
       "    }\n",
       "\n",
       "    .dataframe thead th {\n",
       "        text-align: left;\n",
       "    }\n",
       "\n",
       "    .dataframe tbody tr th {\n",
       "        vertical-align: top;\n",
       "    }\n",
       "</style>\n",
       "<table border=\"1\" class=\"dataframe\">\n",
       "  <thead>\n",
       "    <tr style=\"text-align: right;\">\n",
       "      <th></th>\n",
       "      <th>predict</th>\n",
       "    </tr>\n",
       "  </thead>\n",
       "  <tbody>\n",
       "    <tr>\n",
       "      <th>0</th>\n",
       "      <td>11.716483</td>\n",
       "    </tr>\n",
       "    <tr>\n",
       "      <th>1</th>\n",
       "      <td>11.974320</td>\n",
       "    </tr>\n",
       "    <tr>\n",
       "      <th>2</th>\n",
       "      <td>12.156325</td>\n",
       "    </tr>\n",
       "    <tr>\n",
       "      <th>3</th>\n",
       "      <td>12.128753</td>\n",
       "    </tr>\n",
       "    <tr>\n",
       "      <th>4</th>\n",
       "      <td>12.140453</td>\n",
       "    </tr>\n",
       "  </tbody>\n",
       "</table>\n",
       "</div>"
      ],
      "text/plain": [
       "     predict\n",
       "0  11.716483\n",
       "1  11.974320\n",
       "2  12.156325\n",
       "3  12.128753\n",
       "4  12.140453"
      ]
     },
     "execution_count": 125,
     "metadata": {},
     "output_type": "execute_result"
    }
   ],
   "source": [
    "a.head()"
   ]
  },
  {
   "cell_type": "markdown",
   "metadata": {},
   "source": [
    "<div class=\"alert alert-block alert-success\">\n",
    "<font color='darkblue'>Before we concatenate our Log(SalePrice) with Id, we need to convert our log(Saleprice) to Saleprice ($) </font>"
   ]
  },
  {
   "cell_type": "code",
   "execution_count": 126,
   "metadata": {
    "collapsed": true
   },
   "outputs": [],
   "source": [
    "a['Saleprice'] = np.exp(a['predict'])"
   ]
  },
  {
   "cell_type": "code",
   "execution_count": 127,
   "metadata": {},
   "outputs": [
    {
     "data": {
      "text/html": [
       "<div>\n",
       "<style>\n",
       "    .dataframe thead tr:only-child th {\n",
       "        text-align: right;\n",
       "    }\n",
       "\n",
       "    .dataframe thead th {\n",
       "        text-align: left;\n",
       "    }\n",
       "\n",
       "    .dataframe tbody tr th {\n",
       "        vertical-align: top;\n",
       "    }\n",
       "</style>\n",
       "<table border=\"1\" class=\"dataframe\">\n",
       "  <thead>\n",
       "    <tr style=\"text-align: right;\">\n",
       "      <th></th>\n",
       "      <th>predict</th>\n",
       "      <th>Saleprice</th>\n",
       "    </tr>\n",
       "  </thead>\n",
       "  <tbody>\n",
       "    <tr>\n",
       "      <th>0</th>\n",
       "      <td>11.716483</td>\n",
       "      <td>122575.512533</td>\n",
       "    </tr>\n",
       "    <tr>\n",
       "      <th>1</th>\n",
       "      <td>11.974320</td>\n",
       "      <td>158628.396477</td>\n",
       "    </tr>\n",
       "    <tr>\n",
       "      <th>2</th>\n",
       "      <td>12.156325</td>\n",
       "      <td>190293.912262</td>\n",
       "    </tr>\n",
       "    <tr>\n",
       "      <th>3</th>\n",
       "      <td>12.128753</td>\n",
       "      <td>185118.803281</td>\n",
       "    </tr>\n",
       "    <tr>\n",
       "      <th>4</th>\n",
       "      <td>12.140453</td>\n",
       "      <td>187297.363334</td>\n",
       "    </tr>\n",
       "  </tbody>\n",
       "</table>\n",
       "</div>"
      ],
      "text/plain": [
       "     predict      Saleprice\n",
       "0  11.716483  122575.512533\n",
       "1  11.974320  158628.396477\n",
       "2  12.156325  190293.912262\n",
       "3  12.128753  185118.803281\n",
       "4  12.140453  187297.363334"
      ]
     },
     "execution_count": 127,
     "metadata": {},
     "output_type": "execute_result"
    }
   ],
   "source": [
    "a.head()"
   ]
  },
  {
   "cell_type": "markdown",
   "metadata": {},
   "source": [
    "<div class=\"alert alert-block alert-info\">\n",
    "<font color='green'>Here, we can have a look at the statistics of  our predict log(SalePrice) and SalePrice.</font>"
   ]
  },
  {
   "cell_type": "code",
   "execution_count": 128,
   "metadata": {},
   "outputs": [
    {
     "data": {
      "text/html": [
       "<div>\n",
       "<style>\n",
       "    .dataframe thead tr:only-child th {\n",
       "        text-align: right;\n",
       "    }\n",
       "\n",
       "    .dataframe thead th {\n",
       "        text-align: left;\n",
       "    }\n",
       "\n",
       "    .dataframe tbody tr th {\n",
       "        vertical-align: top;\n",
       "    }\n",
       "</style>\n",
       "<table border=\"1\" class=\"dataframe\">\n",
       "  <thead>\n",
       "    <tr style=\"text-align: right;\">\n",
       "      <th></th>\n",
       "      <th>predict</th>\n",
       "      <th>Saleprice</th>\n",
       "    </tr>\n",
       "  </thead>\n",
       "  <tbody>\n",
       "    <tr>\n",
       "      <th>count</th>\n",
       "      <td>1459.000000</td>\n",
       "      <td>1459.000000</td>\n",
       "    </tr>\n",
       "    <tr>\n",
       "      <th>mean</th>\n",
       "      <td>12.005707</td>\n",
       "      <td>177313.216753</td>\n",
       "    </tr>\n",
       "    <tr>\n",
       "      <th>std</th>\n",
       "      <td>0.392858</td>\n",
       "      <td>76961.664828</td>\n",
       "    </tr>\n",
       "    <tr>\n",
       "      <th>min</th>\n",
       "      <td>10.776421</td>\n",
       "      <td>47878.437828</td>\n",
       "    </tr>\n",
       "    <tr>\n",
       "      <th>25%</th>\n",
       "      <td>11.766484</td>\n",
       "      <td>128860.303421</td>\n",
       "    </tr>\n",
       "    <tr>\n",
       "      <th>50%</th>\n",
       "      <td>11.964730</td>\n",
       "      <td>157114.472394</td>\n",
       "    </tr>\n",
       "    <tr>\n",
       "      <th>75%</th>\n",
       "      <td>12.232848</td>\n",
       "      <td>205427.414446</td>\n",
       "    </tr>\n",
       "    <tr>\n",
       "      <th>max</th>\n",
       "      <td>13.245310</td>\n",
       "      <td>565412.177207</td>\n",
       "    </tr>\n",
       "  </tbody>\n",
       "</table>\n",
       "</div>"
      ],
      "text/plain": [
       "           predict      Saleprice\n",
       "count  1459.000000    1459.000000\n",
       "mean     12.005707  177313.216753\n",
       "std       0.392858   76961.664828\n",
       "min      10.776421   47878.437828\n",
       "25%      11.766484  128860.303421\n",
       "50%      11.964730  157114.472394\n",
       "75%      12.232848  205427.414446\n",
       "max      13.245310  565412.177207"
      ]
     },
     "execution_count": 128,
     "metadata": {},
     "output_type": "execute_result"
    }
   ],
   "source": [
    "a.describe()"
   ]
  },
  {
   "cell_type": "markdown",
   "metadata": {},
   "source": [
    "<div class=\"alert alert-block alert-info\">\n",
    "<font color='green'>Now, we can put Id and Saleprice together, save them and submit it on Kaggle. </font>"
   ]
  },
  {
   "cell_type": "code",
   "execution_count": 129,
   "metadata": {
    "collapsed": true
   },
   "outputs": [],
   "source": [
    "Id=testa['Id']"
   ]
  },
  {
   "cell_type": "code",
   "execution_count": 130,
   "metadata": {
    "collapsed": true
   },
   "outputs": [],
   "source": [
    "SalePrice=a['Saleprice']"
   ]
  },
  {
   "cell_type": "code",
   "execution_count": 131,
   "metadata": {
    "collapsed": true
   },
   "outputs": [],
   "source": [
    "gbm_baseline_result=pd.concat((Id,SalePrice),axis=1)"
   ]
  },
  {
   "cell_type": "code",
   "execution_count": 132,
   "metadata": {},
   "outputs": [
    {
     "data": {
      "text/html": [
       "<div>\n",
       "<style>\n",
       "    .dataframe thead tr:only-child th {\n",
       "        text-align: right;\n",
       "    }\n",
       "\n",
       "    .dataframe thead th {\n",
       "        text-align: left;\n",
       "    }\n",
       "\n",
       "    .dataframe tbody tr th {\n",
       "        vertical-align: top;\n",
       "    }\n",
       "</style>\n",
       "<table border=\"1\" class=\"dataframe\">\n",
       "  <thead>\n",
       "    <tr style=\"text-align: right;\">\n",
       "      <th></th>\n",
       "      <th>Id</th>\n",
       "      <th>Saleprice</th>\n",
       "    </tr>\n",
       "  </thead>\n",
       "  <tbody>\n",
       "    <tr>\n",
       "      <th>0</th>\n",
       "      <td>1461</td>\n",
       "      <td>122575.512533</td>\n",
       "    </tr>\n",
       "    <tr>\n",
       "      <th>1</th>\n",
       "      <td>1462</td>\n",
       "      <td>158628.396477</td>\n",
       "    </tr>\n",
       "    <tr>\n",
       "      <th>2</th>\n",
       "      <td>1463</td>\n",
       "      <td>190293.912262</td>\n",
       "    </tr>\n",
       "    <tr>\n",
       "      <th>3</th>\n",
       "      <td>1464</td>\n",
       "      <td>185118.803281</td>\n",
       "    </tr>\n",
       "    <tr>\n",
       "      <th>4</th>\n",
       "      <td>1465</td>\n",
       "      <td>187297.363334</td>\n",
       "    </tr>\n",
       "  </tbody>\n",
       "</table>\n",
       "</div>"
      ],
      "text/plain": [
       "     Id      Saleprice\n",
       "0  1461  122575.512533\n",
       "1  1462  158628.396477\n",
       "2  1463  190293.912262\n",
       "3  1464  185118.803281\n",
       "4  1465  187297.363334"
      ]
     },
     "execution_count": 132,
     "metadata": {},
     "output_type": "execute_result"
    }
   ],
   "source": [
    "gbm_baseline_result.head()"
   ]
  },
  {
   "cell_type": "code",
   "execution_count": 133,
   "metadata": {
    "collapsed": true
   },
   "outputs": [],
   "source": [
    "gbm_baseline_result.to_csv('gbm_baseline_result.csv')"
   ]
  },
  {
   "cell_type": "markdown",
   "metadata": {},
   "source": [
    "### c. GBM + Cross-validation"
   ]
  },
  {
   "cell_type": "code",
   "execution_count": 134,
   "metadata": {},
   "outputs": [
    {
     "name": "stdout",
     "output_type": "stream",
     "text": [
      "gbm Model Build progress: |███████████████████████████████████████████████| 100%\n"
     ]
    }
   ],
   "source": [
    "cv_gbm = H2OGradientBoostingEstimator(nfolds = 4, seed = 0xDECAF)\n",
    "cv_gbm.train(x=x, y=y, training_frame=train.rbind(validation))\n",
    "cv_summary = cv_gbm.cross_validation_metrics_summary().as_data_frame()"
   ]
  },
  {
   "cell_type": "code",
   "execution_count": 135,
   "metadata": {},
   "outputs": [
    {
     "name": "stdout",
     "output_type": "stream",
     "text": [
      "Model Details\n",
      "=============\n",
      "H2OGradientBoostingEstimator :  Gradient Boosting Machine\n",
      "Model Key:  GBM_model_python_1522814867933_20\n",
      "\n",
      "\n",
      "ModelMetricsRegression: gbm\n",
      "** Reported on train data. **\n",
      "\n",
      "MSE: 0.0056448818111242876\n",
      "RMSE: 0.07513242849212508\n",
      "MAE: 0.0533828401761781\n",
      "RMSLE: 0.005851290255372026\n",
      "Mean Residual Deviance: 0.0056448818111242876\n",
      "\n",
      "ModelMetricsRegression: gbm\n",
      "** Reported on cross-validation data. **\n",
      "\n",
      "MSE: 0.01687773470500897\n",
      "RMSE: 0.12991433602574032\n",
      "MAE: 0.08962755489395112\n",
      "RMSLE: 0.010138201393400721\n",
      "Mean Residual Deviance: 0.01687773470500897\n",
      "Cross-Validation Metrics Summary: \n"
     ]
    },
    {
     "data": {
      "text/html": [
       "<div style=\"overflow:auto\"><table style=\"width:50%\"><tr><td><b></b></td>\n",
       "<td><b>mean</b></td>\n",
       "<td><b>sd</b></td>\n",
       "<td><b>cv_1_valid</b></td>\n",
       "<td><b>cv_2_valid</b></td>\n",
       "<td><b>cv_3_valid</b></td>\n",
       "<td><b>cv_4_valid</b></td></tr>\n",
       "<tr><td>mae</td>\n",
       "<td>0.0896231</td>\n",
       "<td>0.0033668</td>\n",
       "<td>0.0827225</td>\n",
       "<td>0.0894418</td>\n",
       "<td>0.0961605</td>\n",
       "<td>0.0901674</td></tr>\n",
       "<tr><td>mean_residual_deviance</td>\n",
       "<td>0.0168769</td>\n",
       "<td>0.0020763</td>\n",
       "<td>0.0128271</td>\n",
       "<td>0.0163378</td>\n",
       "<td>0.0210775</td>\n",
       "<td>0.0172650</td></tr>\n",
       "<tr><td>mse</td>\n",
       "<td>0.0168769</td>\n",
       "<td>0.0020763</td>\n",
       "<td>0.0128271</td>\n",
       "<td>0.0163378</td>\n",
       "<td>0.0210775</td>\n",
       "<td>0.0172650</td></tr>\n",
       "<tr><td>r2</td>\n",
       "<td>0.8944825</td>\n",
       "<td>0.0099725</td>\n",
       "<td>0.9131916</td>\n",
       "<td>0.9022763</td>\n",
       "<td>0.8771298</td>\n",
       "<td>0.8853323</td></tr>\n",
       "<tr><td>residual_deviance</td>\n",
       "<td>0.0168769</td>\n",
       "<td>0.0020763</td>\n",
       "<td>0.0128271</td>\n",
       "<td>0.0163378</td>\n",
       "<td>0.0210775</td>\n",
       "<td>0.0172650</td></tr>\n",
       "<tr><td>rmse</td>\n",
       "<td>0.1294134</td>\n",
       "<td>0.0080322</td>\n",
       "<td>0.1132566</td>\n",
       "<td>0.1278195</td>\n",
       "<td>0.1451810</td>\n",
       "<td>0.1313964</td></tr>\n",
       "<tr><td>rmsle</td>\n",
       "<td>0.0100931</td>\n",
       "<td>0.0006635</td>\n",
       "<td>0.0087476</td>\n",
       "<td>0.0100832</td>\n",
       "<td>0.0114002</td>\n",
       "<td>0.0101414</td></tr></table></div>"
      ],
      "text/plain": [
       "                        mean       sd           cv_1_valid    cv_2_valid    cv_3_valid    cv_4_valid\n",
       "----------------------  ---------  -----------  ------------  ------------  ------------  ------------\n",
       "mae                     0.0896231  0.00336684   0.0827225     0.0894418     0.0961605     0.0901674\n",
       "mean_residual_deviance  0.0168769  0.00207628   0.0128271     0.0163378     0.0210775     0.017265\n",
       "mse                     0.0168769  0.00207628   0.0128271     0.0163378     0.0210775     0.017265\n",
       "r2                      0.894482   0.00997253   0.913192      0.902276      0.87713       0.885332\n",
       "residual_deviance       0.0168769  0.00207628   0.0128271     0.0163378     0.0210775     0.017265\n",
       "rmse                    0.129413   0.00803221   0.113257      0.12782       0.145181      0.131396\n",
       "rmsle                   0.0100931  0.000663452  0.00874761    0.0100832     0.0114002     0.0101414"
      ]
     },
     "metadata": {},
     "output_type": "display_data"
    },
    {
     "name": "stdout",
     "output_type": "stream",
     "text": [
      "Scoring History: \n"
     ]
    },
    {
     "data": {
      "text/html": [
       "<div style=\"overflow:auto\"><table style=\"width:50%\"><tr><td><b></b></td>\n",
       "<td><b>timestamp</b></td>\n",
       "<td><b>duration</b></td>\n",
       "<td><b>number_of_trees</b></td>\n",
       "<td><b>training_rmse</b></td>\n",
       "<td><b>training_mae</b></td>\n",
       "<td><b>training_deviance</b></td></tr>\n",
       "<tr><td></td>\n",
       "<td>2018-04-15 23:39:24</td>\n",
       "<td>10.649 sec</td>\n",
       "<td>0.0</td>\n",
       "<td>0.3995757</td>\n",
       "<td>0.3101343</td>\n",
       "<td>0.1596608</td></tr>\n",
       "<tr><td></td>\n",
       "<td>2018-04-15 23:39:24</td>\n",
       "<td>10.698 sec</td>\n",
       "<td>1.0</td>\n",
       "<td>0.3658735</td>\n",
       "<td>0.2830362</td>\n",
       "<td>0.1338634</td></tr>\n",
       "<tr><td></td>\n",
       "<td>2018-04-15 23:39:24</td>\n",
       "<td>10.758 sec</td>\n",
       "<td>2.0</td>\n",
       "<td>0.3357848</td>\n",
       "<td>0.2589942</td>\n",
       "<td>0.1127514</td></tr>\n",
       "<tr><td></td>\n",
       "<td>2018-04-15 23:39:24</td>\n",
       "<td>10.806 sec</td>\n",
       "<td>3.0</td>\n",
       "<td>0.3090302</td>\n",
       "<td>0.2376198</td>\n",
       "<td>0.0954997</td></tr>\n",
       "<tr><td></td>\n",
       "<td>2018-04-15 23:39:24</td>\n",
       "<td>10.854 sec</td>\n",
       "<td>4.0</td>\n",
       "<td>0.2847995</td>\n",
       "<td>0.2178316</td>\n",
       "<td>0.0811108</td></tr>\n",
       "<tr><td>---</td>\n",
       "<td>---</td>\n",
       "<td>---</td>\n",
       "<td>---</td>\n",
       "<td>---</td>\n",
       "<td>---</td>\n",
       "<td>---</td></tr>\n",
       "<tr><td></td>\n",
       "<td>2018-04-15 23:39:27</td>\n",
       "<td>13.645 sec</td>\n",
       "<td>46.0</td>\n",
       "<td>0.0772833</td>\n",
       "<td>0.0549165</td>\n",
       "<td>0.0059727</td></tr>\n",
       "<tr><td></td>\n",
       "<td>2018-04-15 23:39:27</td>\n",
       "<td>13.687 sec</td>\n",
       "<td>47.0</td>\n",
       "<td>0.0769177</td>\n",
       "<td>0.0545938</td>\n",
       "<td>0.0059163</td></tr>\n",
       "<tr><td></td>\n",
       "<td>2018-04-15 23:39:27</td>\n",
       "<td>13.757 sec</td>\n",
       "<td>48.0</td>\n",
       "<td>0.0762816</td>\n",
       "<td>0.0542058</td>\n",
       "<td>0.0058189</td></tr>\n",
       "<tr><td></td>\n",
       "<td>2018-04-15 23:39:27</td>\n",
       "<td>13.806 sec</td>\n",
       "<td>49.0</td>\n",
       "<td>0.0757022</td>\n",
       "<td>0.0537636</td>\n",
       "<td>0.0057308</td></tr>\n",
       "<tr><td></td>\n",
       "<td>2018-04-15 23:39:27</td>\n",
       "<td>13.883 sec</td>\n",
       "<td>50.0</td>\n",
       "<td>0.0751324</td>\n",
       "<td>0.0533828</td>\n",
       "<td>0.0056449</td></tr></table></div>"
      ],
      "text/plain": [
       "     timestamp            duration    number_of_trees    training_rmse        training_mae         training_deviance\n",
       "---  -------------------  ----------  -----------------  -------------------  -------------------  ---------------------\n",
       "     2018-04-15 23:39:24  10.649 sec  0.0                0.39957573215404474  0.3101343473800082   0.15966076572644092\n",
       "     2018-04-15 23:39:24  10.698 sec  1.0                0.3658735435387465   0.28303616593077024  0.13386344986159904\n",
       "     2018-04-15 23:39:24  10.758 sec  2.0                0.3357847989267127   0.258994177045155    0.11275143119025287\n",
       "     2018-04-15 23:39:24  10.806 sec  3.0                0.30903018907445107  0.23761976828136888  0.09549965775939097\n",
       "     2018-04-15 23:39:24  10.854 sec  4.0                0.2847995466863478   0.21783164499227892  0.0811107817927492\n",
       "---  ---                  ---         ---                ---                  ---                  ---\n",
       "     2018-04-15 23:39:27  13.645 sec  46.0               0.07728332171666984  0.05491648845384804  0.005972711815562292\n",
       "     2018-04-15 23:39:27  13.687 sec  47.0               0.07691774642980191  0.05459375800092198  0.005916339715839305\n",
       "     2018-04-15 23:39:27  13.757 sec  48.0               0.07628161111366637  0.05420579570147563  0.0058188841940966275\n",
       "     2018-04-15 23:39:27  13.806 sec  49.0               0.07570224155461104  0.05376356096097635  0.005730829376392678\n",
       "     2018-04-15 23:39:27  13.883 sec  50.0               0.07513242849212508  0.0533828401761781   0.0056448818111242876"
      ]
     },
     "metadata": {},
     "output_type": "display_data"
    },
    {
     "name": "stdout",
     "output_type": "stream",
     "text": [
      "\n",
      "See the whole table with table.as_data_frame()\n",
      "Variable Importances: \n"
     ]
    },
    {
     "data": {
      "text/html": [
       "<div style=\"overflow:auto\"><table style=\"width:50%\"><tr><td><b>variable</b></td>\n",
       "<td><b>relative_importance</b></td>\n",
       "<td><b>scaled_importance</b></td>\n",
       "<td><b>percentage</b></td></tr>\n",
       "<tr><td>OverallQual</td>\n",
       "<td>512.9088745</td>\n",
       "<td>1.0</td>\n",
       "<td>0.4339808</td></tr>\n",
       "<tr><td>TotalSF</td>\n",
       "<td>370.6371460</td>\n",
       "<td>0.7226179</td>\n",
       "<td>0.3136023</td></tr>\n",
       "<tr><td>CentralAir_N</td>\n",
       "<td>24.0761871</td>\n",
       "<td>0.0469405</td>\n",
       "<td>0.0203713</td></tr>\n",
       "<tr><td>GrLivArea</td>\n",
       "<td>23.1407547</td>\n",
       "<td>0.0451167</td>\n",
       "<td>0.0195798</td></tr>\n",
       "<tr><td>GarageCars</td>\n",
       "<td>22.0582371</td>\n",
       "<td>0.0430062</td>\n",
       "<td>0.0186638</td></tr>\n",
       "<tr><td>---</td>\n",
       "<td>---</td>\n",
       "<td>---</td>\n",
       "<td>---</td></tr>\n",
       "<tr><td>Street_Pave</td>\n",
       "<td>0.0</td>\n",
       "<td>0.0</td>\n",
       "<td>0.0</td></tr>\n",
       "<tr><td>Utilities_AllPub</td>\n",
       "<td>0.0</td>\n",
       "<td>0.0</td>\n",
       "<td>0.0</td></tr>\n",
       "<tr><td>Utilities_NoSeWa</td>\n",
       "<td>0.0</td>\n",
       "<td>0.0</td>\n",
       "<td>0.0</td></tr>\n",
       "<tr><td>YrSold_2006</td>\n",
       "<td>0.0</td>\n",
       "<td>0.0</td>\n",
       "<td>0.0</td></tr>\n",
       "<tr><td>YrSold_2010</td>\n",
       "<td>0.0</td>\n",
       "<td>0.0</td>\n",
       "<td>0.0</td></tr></table></div>"
      ],
      "text/plain": [
       "variable          relative_importance    scaled_importance    percentage\n",
       "----------------  ---------------------  -------------------  --------------------\n",
       "OverallQual       512.9088745117188      1.0                  0.4339808035432817\n",
       "TotalSF           370.63714599609375     0.7226179237957903   0.313602307223675\n",
       "CentralAir_N      24.076187133789062     0.04694047681804924  0.0203712658482018\n",
       "GrLivArea         23.14075469970703      0.04511669781837304  0.019579780772436956\n",
       "GarageCars        22.058237075805664     0.04300615210997229  0.018663844449990374\n",
       "---               ---                    ---                  ---\n",
       "Street_Pave       0.0                    0.0                  0.0\n",
       "Utilities_AllPub  0.0                    0.0                  0.0\n",
       "Utilities_NoSeWa  0.0                    0.0                  0.0\n",
       "YrSold_2006       0.0                    0.0                  0.0\n",
       "YrSold_2010       0.0                    0.0                  0.0"
      ]
     },
     "metadata": {},
     "output_type": "display_data"
    },
    {
     "name": "stdout",
     "output_type": "stream",
     "text": [
      "\n",
      "See the whole table with table.as_data_frame()\n"
     ]
    },
    {
     "data": {
      "text/plain": []
     },
     "execution_count": 135,
     "metadata": {},
     "output_type": "execute_result"
    }
   ],
   "source": [
    "cv_gbm"
   ]
  },
  {
   "cell_type": "code",
   "execution_count": 136,
   "metadata": {},
   "outputs": [
    {
     "name": "stdout",
     "output_type": "stream",
     "text": [
      "gbm prediction progress: |████████████████████████████████████████████████| 100%\n",
      "gbm prediction progress: |████████████████████████████████████████████████| 100%\n"
     ]
    }
   ],
   "source": [
    "ert_preds1_val = cv_gbm.predict(validation)\n",
    "ert_preds1_test = cv_gbm.predict(test)"
   ]
  },
  {
   "cell_type": "markdown",
   "metadata": {},
   "source": [
    "<div class=\"alert alert-block alert-info\">\n",
    "<font color='green'>Below is our predicted log(SalePrice) based on our Random Forest Model. \n",
    "<br>\n",
    "We then convernt the predicted SalePrice to a data frame so that we can concatenate it with Id.</font>"
   ]
  },
  {
   "cell_type": "code",
   "execution_count": 137,
   "metadata": {
    "scrolled": true
   },
   "outputs": [
    {
     "data": {
      "text/html": [
       "<table>\n",
       "<thead>\n",
       "<tr><th style=\"text-align: right;\">  predict</th></tr>\n",
       "</thead>\n",
       "<tbody>\n",
       "<tr><td style=\"text-align: right;\">  11.6998</td></tr>\n",
       "<tr><td style=\"text-align: right;\">  12.0179</td></tr>\n",
       "<tr><td style=\"text-align: right;\">  12.1075</td></tr>\n",
       "<tr><td style=\"text-align: right;\">  12.1399</td></tr>\n",
       "<tr><td style=\"text-align: right;\">  12.157 </td></tr>\n",
       "<tr><td style=\"text-align: right;\">  12.0765</td></tr>\n",
       "<tr><td style=\"text-align: right;\">  12.0666</td></tr>\n",
       "<tr><td style=\"text-align: right;\">  12.0258</td></tr>\n",
       "<tr><td style=\"text-align: right;\">  12.1624</td></tr>\n",
       "<tr><td style=\"text-align: right;\">  11.7073</td></tr>\n",
       "</tbody>\n",
       "</table>"
      ]
     },
     "metadata": {},
     "output_type": "display_data"
    },
    {
     "data": {
      "text/plain": []
     },
     "execution_count": 137,
     "metadata": {},
     "output_type": "execute_result"
    }
   ],
   "source": [
    "ert_preds1_test.head()"
   ]
  },
  {
   "cell_type": "code",
   "execution_count": 138,
   "metadata": {
    "collapsed": true
   },
   "outputs": [],
   "source": [
    "a=ert_preds1_test.as_data_frame()"
   ]
  },
  {
   "cell_type": "code",
   "execution_count": 139,
   "metadata": {},
   "outputs": [
    {
     "data": {
      "text/html": [
       "<div>\n",
       "<style>\n",
       "    .dataframe thead tr:only-child th {\n",
       "        text-align: right;\n",
       "    }\n",
       "\n",
       "    .dataframe thead th {\n",
       "        text-align: left;\n",
       "    }\n",
       "\n",
       "    .dataframe tbody tr th {\n",
       "        vertical-align: top;\n",
       "    }\n",
       "</style>\n",
       "<table border=\"1\" class=\"dataframe\">\n",
       "  <thead>\n",
       "    <tr style=\"text-align: right;\">\n",
       "      <th></th>\n",
       "      <th>predict</th>\n",
       "    </tr>\n",
       "  </thead>\n",
       "  <tbody>\n",
       "    <tr>\n",
       "      <th>0</th>\n",
       "      <td>11.699822</td>\n",
       "    </tr>\n",
       "    <tr>\n",
       "      <th>1</th>\n",
       "      <td>12.017865</td>\n",
       "    </tr>\n",
       "    <tr>\n",
       "      <th>2</th>\n",
       "      <td>12.107474</td>\n",
       "    </tr>\n",
       "    <tr>\n",
       "      <th>3</th>\n",
       "      <td>12.139873</td>\n",
       "    </tr>\n",
       "    <tr>\n",
       "      <th>4</th>\n",
       "      <td>12.156956</td>\n",
       "    </tr>\n",
       "  </tbody>\n",
       "</table>\n",
       "</div>"
      ],
      "text/plain": [
       "     predict\n",
       "0  11.699822\n",
       "1  12.017865\n",
       "2  12.107474\n",
       "3  12.139873\n",
       "4  12.156956"
      ]
     },
     "execution_count": 139,
     "metadata": {},
     "output_type": "execute_result"
    }
   ],
   "source": [
    "a.head()"
   ]
  },
  {
   "cell_type": "markdown",
   "metadata": {},
   "source": [
    "<div class=\"alert alert-block alert-success\">\n",
    "<font color='darkblue'>Before we concatenate our Log(SalePrice) with Id, we need to convert our log(Saleprice) to Saleprice ($) </font>"
   ]
  },
  {
   "cell_type": "code",
   "execution_count": 140,
   "metadata": {
    "collapsed": true
   },
   "outputs": [],
   "source": [
    "a['Saleprice'] = np.exp(a['predict'])"
   ]
  },
  {
   "cell_type": "code",
   "execution_count": 141,
   "metadata": {},
   "outputs": [
    {
     "data": {
      "text/html": [
       "<div>\n",
       "<style>\n",
       "    .dataframe thead tr:only-child th {\n",
       "        text-align: right;\n",
       "    }\n",
       "\n",
       "    .dataframe thead th {\n",
       "        text-align: left;\n",
       "    }\n",
       "\n",
       "    .dataframe tbody tr th {\n",
       "        vertical-align: top;\n",
       "    }\n",
       "</style>\n",
       "<table border=\"1\" class=\"dataframe\">\n",
       "  <thead>\n",
       "    <tr style=\"text-align: right;\">\n",
       "      <th></th>\n",
       "      <th>predict</th>\n",
       "      <th>Saleprice</th>\n",
       "    </tr>\n",
       "  </thead>\n",
       "  <tbody>\n",
       "    <tr>\n",
       "      <th>0</th>\n",
       "      <td>11.699822</td>\n",
       "      <td>120550.286231</td>\n",
       "    </tr>\n",
       "    <tr>\n",
       "      <th>1</th>\n",
       "      <td>12.017865</td>\n",
       "      <td>165688.606213</td>\n",
       "    </tr>\n",
       "    <tr>\n",
       "      <th>2</th>\n",
       "      <td>12.107474</td>\n",
       "      <td>181221.192237</td>\n",
       "    </tr>\n",
       "    <tr>\n",
       "      <th>3</th>\n",
       "      <td>12.139873</td>\n",
       "      <td>187188.736632</td>\n",
       "    </tr>\n",
       "    <tr>\n",
       "      <th>4</th>\n",
       "      <td>12.156956</td>\n",
       "      <td>190413.919070</td>\n",
       "    </tr>\n",
       "  </tbody>\n",
       "</table>\n",
       "</div>"
      ],
      "text/plain": [
       "     predict      Saleprice\n",
       "0  11.699822  120550.286231\n",
       "1  12.017865  165688.606213\n",
       "2  12.107474  181221.192237\n",
       "3  12.139873  187188.736632\n",
       "4  12.156956  190413.919070"
      ]
     },
     "execution_count": 141,
     "metadata": {},
     "output_type": "execute_result"
    }
   ],
   "source": [
    "a.head()"
   ]
  },
  {
   "cell_type": "markdown",
   "metadata": {},
   "source": [
    "<div class=\"alert alert-block alert-info\">\n",
    "<font color='green'>Here, we can have a look at the statistics of  our predict log(SalePrice) and SalePrice.</font>"
   ]
  },
  {
   "cell_type": "code",
   "execution_count": 142,
   "metadata": {},
   "outputs": [
    {
     "data": {
      "text/html": [
       "<div>\n",
       "<style>\n",
       "    .dataframe thead tr:only-child th {\n",
       "        text-align: right;\n",
       "    }\n",
       "\n",
       "    .dataframe thead th {\n",
       "        text-align: left;\n",
       "    }\n",
       "\n",
       "    .dataframe tbody tr th {\n",
       "        vertical-align: top;\n",
       "    }\n",
       "</style>\n",
       "<table border=\"1\" class=\"dataframe\">\n",
       "  <thead>\n",
       "    <tr style=\"text-align: right;\">\n",
       "      <th></th>\n",
       "      <th>predict</th>\n",
       "      <th>Saleprice</th>\n",
       "    </tr>\n",
       "  </thead>\n",
       "  <tbody>\n",
       "    <tr>\n",
       "      <th>count</th>\n",
       "      <td>1459.000000</td>\n",
       "      <td>1459.000000</td>\n",
       "    </tr>\n",
       "    <tr>\n",
       "      <th>mean</th>\n",
       "      <td>12.007991</td>\n",
       "      <td>177685.291423</td>\n",
       "    </tr>\n",
       "    <tr>\n",
       "      <th>std</th>\n",
       "      <td>0.389463</td>\n",
       "      <td>78444.255982</td>\n",
       "    </tr>\n",
       "    <tr>\n",
       "      <th>min</th>\n",
       "      <td>10.774187</td>\n",
       "      <td>47771.609238</td>\n",
       "    </tr>\n",
       "    <tr>\n",
       "      <th>25%</th>\n",
       "      <td>11.767515</td>\n",
       "      <td>128993.204835</td>\n",
       "    </tr>\n",
       "    <tr>\n",
       "      <th>50%</th>\n",
       "      <td>11.963897</td>\n",
       "      <td>156983.642109</td>\n",
       "    </tr>\n",
       "    <tr>\n",
       "      <th>75%</th>\n",
       "      <td>12.231422</td>\n",
       "      <td>205134.758959</td>\n",
       "    </tr>\n",
       "    <tr>\n",
       "      <th>max</th>\n",
       "      <td>13.340702</td>\n",
       "      <td>622004.301815</td>\n",
       "    </tr>\n",
       "  </tbody>\n",
       "</table>\n",
       "</div>"
      ],
      "text/plain": [
       "           predict      Saleprice\n",
       "count  1459.000000    1459.000000\n",
       "mean     12.007991  177685.291423\n",
       "std       0.389463   78444.255982\n",
       "min      10.774187   47771.609238\n",
       "25%      11.767515  128993.204835\n",
       "50%      11.963897  156983.642109\n",
       "75%      12.231422  205134.758959\n",
       "max      13.340702  622004.301815"
      ]
     },
     "execution_count": 142,
     "metadata": {},
     "output_type": "execute_result"
    }
   ],
   "source": [
    "a.describe()"
   ]
  },
  {
   "cell_type": "markdown",
   "metadata": {},
   "source": [
    "<div class=\"alert alert-block alert-info\">\n",
    "<font color='green'>Now, we can put Id and Saleprice together, save them and submit it on Kaggle. </font>"
   ]
  },
  {
   "cell_type": "code",
   "execution_count": 143,
   "metadata": {
    "collapsed": true
   },
   "outputs": [],
   "source": [
    "Id=testa['Id']"
   ]
  },
  {
   "cell_type": "code",
   "execution_count": 144,
   "metadata": {
    "collapsed": true
   },
   "outputs": [],
   "source": [
    "SalePrice=a['Saleprice']"
   ]
  },
  {
   "cell_type": "code",
   "execution_count": 145,
   "metadata": {
    "collapsed": true
   },
   "outputs": [],
   "source": [
    "gbm_crossvalidation_result=pd.concat((Id,SalePrice),axis=1)"
   ]
  },
  {
   "cell_type": "code",
   "execution_count": 146,
   "metadata": {},
   "outputs": [
    {
     "data": {
      "text/html": [
       "<div>\n",
       "<style>\n",
       "    .dataframe thead tr:only-child th {\n",
       "        text-align: right;\n",
       "    }\n",
       "\n",
       "    .dataframe thead th {\n",
       "        text-align: left;\n",
       "    }\n",
       "\n",
       "    .dataframe tbody tr th {\n",
       "        vertical-align: top;\n",
       "    }\n",
       "</style>\n",
       "<table border=\"1\" class=\"dataframe\">\n",
       "  <thead>\n",
       "    <tr style=\"text-align: right;\">\n",
       "      <th></th>\n",
       "      <th>Id</th>\n",
       "      <th>Saleprice</th>\n",
       "    </tr>\n",
       "  </thead>\n",
       "  <tbody>\n",
       "    <tr>\n",
       "      <th>0</th>\n",
       "      <td>1461</td>\n",
       "      <td>120550.286231</td>\n",
       "    </tr>\n",
       "    <tr>\n",
       "      <th>1</th>\n",
       "      <td>1462</td>\n",
       "      <td>165688.606213</td>\n",
       "    </tr>\n",
       "    <tr>\n",
       "      <th>2</th>\n",
       "      <td>1463</td>\n",
       "      <td>181221.192237</td>\n",
       "    </tr>\n",
       "    <tr>\n",
       "      <th>3</th>\n",
       "      <td>1464</td>\n",
       "      <td>187188.736632</td>\n",
       "    </tr>\n",
       "    <tr>\n",
       "      <th>4</th>\n",
       "      <td>1465</td>\n",
       "      <td>190413.919070</td>\n",
       "    </tr>\n",
       "  </tbody>\n",
       "</table>\n",
       "</div>"
      ],
      "text/plain": [
       "     Id      Saleprice\n",
       "0  1461  120550.286231\n",
       "1  1462  165688.606213\n",
       "2  1463  181221.192237\n",
       "3  1464  187188.736632\n",
       "4  1465  190413.919070"
      ]
     },
     "execution_count": 146,
     "metadata": {},
     "output_type": "execute_result"
    }
   ],
   "source": [
    "gbm_crossvalidation_result.head()"
   ]
  },
  {
   "cell_type": "code",
   "execution_count": 147,
   "metadata": {
    "collapsed": true
   },
   "outputs": [],
   "source": [
    "gbm_crossvalidation_result.to_csv('gbm_cv_result.csv')"
   ]
  },
  {
   "cell_type": "markdown",
   "metadata": {},
   "source": [
    "### d. GBM + I feel lucky parameters"
   ]
  },
  {
   "cell_type": "code",
   "execution_count": 148,
   "metadata": {},
   "outputs": [
    {
     "name": "stdout",
     "output_type": "stream",
     "text": [
      "gbm Model Build progress: |███████████████████████████████████████████████| 100%\n"
     ]
    }
   ],
   "source": [
    "gbm_lucky = H2OGradientBoostingEstimator(\n",
    "  ## more trees is better if the learning rate is small enough \n",
    "  ## here, use \"more than enough\" trees - we have early stopping\n",
    "  ntrees = 10000,                                                            \n",
    "\n",
    "  ## smaller learning rate is better (this is a good value for most datasets, but see below for annealing)\n",
    "  learn_rate = 0.01,                                                         \n",
    "\n",
    "  ## early stopping once the validation AUC doesn't improve by at least 0.01% for 5 consecutive scoring events\n",
    "  stopping_rounds = 5, stopping_tolerance = 1e-4, stopping_metric = \"RMSE\", \n",
    "\n",
    "  ## sample 80% of rows per tree\n",
    "  sample_rate = 0.8,                                                       \n",
    "\n",
    "  ## sample 80% of columns per split\n",
    "  col_sample_rate = 0.8,                                                   \n",
    "\n",
    "  ## fix a random number generator seed for reproducibility\n",
    "  seed = 1234,                                                             \n",
    "\n",
    "  ## score every 10 trees to make early stopping reproducible (it depends on the scoring interval)\n",
    "  score_tree_interval = 10)\n",
    "\n",
    "gbm_lucky.train(x=x,\n",
    "              y=y,\n",
    "              training_frame=train,\n",
    "              validation_frame=validation)"
   ]
  },
  {
   "cell_type": "code",
   "execution_count": 149,
   "metadata": {},
   "outputs": [
    {
     "name": "stdout",
     "output_type": "stream",
     "text": [
      "Model Details\n",
      "=============\n",
      "H2OGradientBoostingEstimator :  Gradient Boosting Machine\n",
      "Model Key:  GBM_model_python_1522814867933_21\n",
      "\n",
      "\n",
      "ModelMetricsRegression: gbm\n",
      "** Reported on train data. **\n",
      "\n",
      "MSE: 0.0032692098786019416\n",
      "RMSE: 0.05717700480614511\n",
      "MAE: 0.03964182949066162\n",
      "RMSLE: 0.004472163912339438\n",
      "Mean Residual Deviance: 0.0032692098786019416\n",
      "\n",
      "ModelMetricsRegression: gbm\n",
      "** Reported on validation data. **\n",
      "\n",
      "MSE: 0.013739714817685692\n",
      "RMSE: 0.11721652962652362\n",
      "MAE: 0.08321399220501996\n",
      "RMSLE: 0.009075801135802666\n",
      "Mean Residual Deviance: 0.013739714817685692\n",
      "Scoring History: \n"
     ]
    },
    {
     "data": {
      "text/html": [
       "<div style=\"overflow:auto\"><table style=\"width:50%\"><tr><td><b></b></td>\n",
       "<td><b>timestamp</b></td>\n",
       "<td><b>duration</b></td>\n",
       "<td><b>number_of_trees</b></td>\n",
       "<td><b>training_rmse</b></td>\n",
       "<td><b>training_mae</b></td>\n",
       "<td><b>training_deviance</b></td>\n",
       "<td><b>validation_rmse</b></td>\n",
       "<td><b>validation_mae</b></td>\n",
       "<td><b>validation_deviance</b></td></tr>\n",
       "<tr><td></td>\n",
       "<td>2018-04-15 23:39:28</td>\n",
       "<td> 0.008 sec</td>\n",
       "<td>0.0</td>\n",
       "<td>0.4063635</td>\n",
       "<td>0.3149379</td>\n",
       "<td>0.1651313</td>\n",
       "<td>0.3844327</td>\n",
       "<td>0.3003295</td>\n",
       "<td>0.1477885</td></tr>\n",
       "<tr><td></td>\n",
       "<td>2018-04-15 23:39:29</td>\n",
       "<td> 0.516 sec</td>\n",
       "<td>10.0</td>\n",
       "<td>0.3733326</td>\n",
       "<td>0.2882627</td>\n",
       "<td>0.1393773</td>\n",
       "<td>0.3546344</td>\n",
       "<td>0.2763057</td>\n",
       "<td>0.1257656</td></tr>\n",
       "<tr><td></td>\n",
       "<td>2018-04-15 23:39:29</td>\n",
       "<td> 0.886 sec</td>\n",
       "<td>20.0</td>\n",
       "<td>0.3436451</td>\n",
       "<td>0.2641520</td>\n",
       "<td>0.1180920</td>\n",
       "<td>0.3277312</td>\n",
       "<td>0.2543904</td>\n",
       "<td>0.1074077</td></tr>\n",
       "<tr><td></td>\n",
       "<td>2018-04-15 23:39:30</td>\n",
       "<td> 1.192 sec</td>\n",
       "<td>30.0</td>\n",
       "<td>0.3171156</td>\n",
       "<td>0.2425439</td>\n",
       "<td>0.1005623</td>\n",
       "<td>0.3040878</td>\n",
       "<td>0.2351497</td>\n",
       "<td>0.0924694</td></tr>\n",
       "<tr><td></td>\n",
       "<td>2018-04-15 23:39:30</td>\n",
       "<td> 1.644 sec</td>\n",
       "<td>40.0</td>\n",
       "<td>0.2930472</td>\n",
       "<td>0.2229219</td>\n",
       "<td>0.0858767</td>\n",
       "<td>0.2825365</td>\n",
       "<td>0.2177833</td>\n",
       "<td>0.0798269</td></tr>\n",
       "<tr><td>---</td>\n",
       "<td>---</td>\n",
       "<td>---</td>\n",
       "<td>---</td>\n",
       "<td>---</td>\n",
       "<td>---</td>\n",
       "<td>---</td>\n",
       "<td>---</td>\n",
       "<td>---</td>\n",
       "<td>---</td></tr>\n",
       "<tr><td></td>\n",
       "<td>2018-04-15 23:39:57</td>\n",
       "<td>28.887 sec</td>\n",
       "<td>880.0</td>\n",
       "<td>0.0583189</td>\n",
       "<td>0.0404331</td>\n",
       "<td>0.0034011</td>\n",
       "<td>0.1170286</td>\n",
       "<td>0.0831151</td>\n",
       "<td>0.0136957</td></tr>\n",
       "<tr><td></td>\n",
       "<td>2018-04-15 23:39:57</td>\n",
       "<td>29.124 sec</td>\n",
       "<td>890.0</td>\n",
       "<td>0.0580610</td>\n",
       "<td>0.0402606</td>\n",
       "<td>0.0033711</td>\n",
       "<td>0.1170796</td>\n",
       "<td>0.0831396</td>\n",
       "<td>0.0137076</td></tr>\n",
       "<tr><td></td>\n",
       "<td>2018-04-15 23:39:58</td>\n",
       "<td>29.359 sec</td>\n",
       "<td>900.0</td>\n",
       "<td>0.0578151</td>\n",
       "<td>0.0401041</td>\n",
       "<td>0.0033426</td>\n",
       "<td>0.1170763</td>\n",
       "<td>0.0831293</td>\n",
       "<td>0.0137069</td></tr>\n",
       "<tr><td></td>\n",
       "<td>2018-04-15 23:39:58</td>\n",
       "<td>29.642 sec</td>\n",
       "<td>910.0</td>\n",
       "<td>0.0575172</td>\n",
       "<td>0.0398877</td>\n",
       "<td>0.0033082</td>\n",
       "<td>0.1171381</td>\n",
       "<td>0.0831721</td>\n",
       "<td>0.0137213</td></tr>\n",
       "<tr><td></td>\n",
       "<td>2018-04-15 23:39:58</td>\n",
       "<td>29.999 sec</td>\n",
       "<td>920.0</td>\n",
       "<td>0.0571770</td>\n",
       "<td>0.0396418</td>\n",
       "<td>0.0032692</td>\n",
       "<td>0.1172165</td>\n",
       "<td>0.0832140</td>\n",
       "<td>0.0137397</td></tr></table></div>"
      ],
      "text/plain": [
       "     timestamp            duration    number_of_trees    training_rmse         training_mae          training_deviance      validation_rmse      validation_mae       validation_deviance\n",
       "---  -------------------  ----------  -----------------  --------------------  --------------------  ---------------------  -------------------  -------------------  ---------------------\n",
       "     2018-04-15 23:39:28  0.008 sec   0.0                0.40636345067387103   0.3149378786500236    0.16513125404357562    0.3844327206603575   0.30032950343529763  0.14778851671432444\n",
       "     2018-04-15 23:39:29  0.516 sec   10.0               0.3733326410737486    0.28826269721984865   0.1393772608911004     0.3546344499774978   0.2763057068410307   0.1257655931108424\n",
       "     2018-04-15 23:39:29  0.886 sec   20.0               0.3436451146995779    0.26415203952789307   0.11809196485688608    0.3277311765709088   0.25439036801687454  0.10740772409655218\n",
       "     2018-04-15 23:39:30  1.192 sec   30.0               0.3171155789332269    0.24254386615753173   0.10056229040215567    0.3040878337900721   0.23514969332766175  0.09246941065913852\n",
       "     2018-04-15 23:39:30  1.644 sec   40.0               0.2930472190431448    0.22292190265655518   0.08587667258892089    0.28253652485622044  0.21778327405165895  0.07982688787782967\n",
       "---  ---                  ---         ---                ---                   ---                   ---                    ---                  ---                  ---\n",
       "     2018-04-15 23:39:57  28.887 sec  880.0              0.05831886167724284   0.04043314838409424   0.0034010896273293837  0.11702862856625036  0.08311508746110019  0.01369569990409739\n",
       "     2018-04-15 23:39:57  29.124 sec  890.0              0.05806101973818731   0.040260560989379884  0.003371082013038176   0.11707963550470006  0.08313957697662776  0.013707641049913422\n",
       "     2018-04-15 23:39:58  29.359 sec  900.0              0.057815100808564016  0.040104116439819336  0.0033425858815044193  0.11707627920953802  0.0831293072566704   0.013706855153549703\n",
       "     2018-04-15 23:39:58  29.642 sec  910.0              0.05751715342886054   0.03988773250579834   0.0033082229385590837  0.11713806882295348  0.08317210117488583  0.013721327167570987\n",
       "     2018-04-15 23:39:58  29.999 sec  920.0              0.05717700480614511   0.03964182949066162   0.0032692098786019416  0.11721652962652362  0.08321399220501996  0.013739714817685692"
      ]
     },
     "metadata": {},
     "output_type": "display_data"
    },
    {
     "name": "stdout",
     "output_type": "stream",
     "text": [
      "\n",
      "See the whole table with table.as_data_frame()\n",
      "Variable Importances: \n"
     ]
    },
    {
     "data": {
      "text/html": [
       "<div style=\"overflow:auto\"><table style=\"width:50%\"><tr><td><b>variable</b></td>\n",
       "<td><b>relative_importance</b></td>\n",
       "<td><b>scaled_importance</b></td>\n",
       "<td><b>percentage</b></td></tr>\n",
       "<tr><td>OverallQual.1</td>\n",
       "<td>1785.8746338</td>\n",
       "<td>1.0</td>\n",
       "<td>0.2369651</td></tr>\n",
       "<tr><td>OverallQual</td>\n",
       "<td>1460.9417725</td>\n",
       "<td>0.8180539</td>\n",
       "<td>0.1938503</td></tr>\n",
       "<tr><td>TotalSF</td>\n",
       "<td>1276.9737549</td>\n",
       "<td>0.7150411</td>\n",
       "<td>0.1694398</td></tr>\n",
       "<tr><td>TotalSF.1</td>\n",
       "<td>1183.4334717</td>\n",
       "<td>0.6626632</td>\n",
       "<td>0.1570281</td></tr>\n",
       "<tr><td>GrLivArea.1</td>\n",
       "<td>106.6094666</td>\n",
       "<td>0.0596959</td>\n",
       "<td>0.0141459</td></tr>\n",
       "<tr><td>---</td>\n",
       "<td>---</td>\n",
       "<td>---</td>\n",
       "<td>---</td></tr>\n",
       "<tr><td>SaleType_Oth</td>\n",
       "<td>0.0</td>\n",
       "<td>0.0</td>\n",
       "<td>0.0</td></tr>\n",
       "<tr><td>Street_Grvl</td>\n",
       "<td>0.0</td>\n",
       "<td>0.0</td>\n",
       "<td>0.0</td></tr>\n",
       "<tr><td>Street_Pave</td>\n",
       "<td>0.0</td>\n",
       "<td>0.0</td>\n",
       "<td>0.0</td></tr>\n",
       "<tr><td>Utilities_AllPub</td>\n",
       "<td>0.0</td>\n",
       "<td>0.0</td>\n",
       "<td>0.0</td></tr>\n",
       "<tr><td>Utilities_NoSeWa</td>\n",
       "<td>0.0</td>\n",
       "<td>0.0</td>\n",
       "<td>0.0</td></tr></table></div>"
      ],
      "text/plain": [
       "variable          relative_importance    scaled_importance     percentage\n",
       "----------------  ---------------------  --------------------  --------------------\n",
       "OverallQual.1     1785.8746337890625     1.0                   0.23696514987941164\n",
       "OverallQual       1460.9417724609375     0.8180539354888983    0.19385027343256933\n",
       "TotalSF           1276.9737548828125     0.7150410956750515    0.1694398204065773\n",
       "TotalSF.1         1183.4334716796875     0.6626632403467286    0.15702809406833915\n",
       "GrLivArea.1       106.60946655273438     0.059695940877183926  0.014145857577154386\n",
       "---               ---                    ---                   ---\n",
       "SaleType_Oth      0.0                    0.0                   0.0\n",
       "Street_Grvl       0.0                    0.0                   0.0\n",
       "Street_Pave       0.0                    0.0                   0.0\n",
       "Utilities_AllPub  0.0                    0.0                   0.0\n",
       "Utilities_NoSeWa  0.0                    0.0                   0.0"
      ]
     },
     "metadata": {},
     "output_type": "display_data"
    },
    {
     "name": "stdout",
     "output_type": "stream",
     "text": [
      "\n",
      "See the whole table with table.as_data_frame()\n"
     ]
    },
    {
     "data": {
      "text/plain": []
     },
     "execution_count": 149,
     "metadata": {},
     "output_type": "execute_result"
    }
   ],
   "source": [
    "gbm_lucky"
   ]
  },
  {
   "cell_type": "code",
   "execution_count": 150,
   "metadata": {},
   "outputs": [
    {
     "name": "stdout",
     "output_type": "stream",
     "text": [
      "gbm prediction progress: |████████████████████████████████████████████████| 100%\n",
      "gbm prediction progress: |████████████████████████████████████████████████| 100%\n"
     ]
    }
   ],
   "source": [
    "ert_preds1_val = gbm_lucky.predict(validation)\n",
    "ert_preds1_test = gbm_lucky.predict(test)"
   ]
  },
  {
   "cell_type": "markdown",
   "metadata": {},
   "source": [
    "<div class=\"alert alert-block alert-info\">\n",
    "<font color='green'>Below is our predicted log(SalePrice) based on our Random Forest Model. \n",
    "<br>\n",
    "We then convernt the predicted SalePrice to a data frame so that we can concatenate it with Id.</font>"
   ]
  },
  {
   "cell_type": "code",
   "execution_count": 151,
   "metadata": {
    "scrolled": true
   },
   "outputs": [
    {
     "data": {
      "text/html": [
       "<table>\n",
       "<thead>\n",
       "<tr><th style=\"text-align: right;\">  predict</th></tr>\n",
       "</thead>\n",
       "<tbody>\n",
       "<tr><td style=\"text-align: right;\">  11.6791</td></tr>\n",
       "<tr><td style=\"text-align: right;\">  11.9927</td></tr>\n",
       "<tr><td style=\"text-align: right;\">  12.1573</td></tr>\n",
       "<tr><td style=\"text-align: right;\">  12.1777</td></tr>\n",
       "<tr><td style=\"text-align: right;\">  12.1384</td></tr>\n",
       "<tr><td style=\"text-align: right;\">  12.1066</td></tr>\n",
       "<tr><td style=\"text-align: right;\">  12.0936</td></tr>\n",
       "<tr><td style=\"text-align: right;\">  12.0642</td></tr>\n",
       "<tr><td style=\"text-align: right;\">  12.1431</td></tr>\n",
       "<tr><td style=\"text-align: right;\">  11.7126</td></tr>\n",
       "</tbody>\n",
       "</table>"
      ]
     },
     "metadata": {},
     "output_type": "display_data"
    },
    {
     "data": {
      "text/plain": []
     },
     "execution_count": 151,
     "metadata": {},
     "output_type": "execute_result"
    }
   ],
   "source": [
    "ert_preds1_test.head()"
   ]
  },
  {
   "cell_type": "code",
   "execution_count": 152,
   "metadata": {
    "collapsed": true
   },
   "outputs": [],
   "source": [
    "a=ert_preds1_test.as_data_frame()"
   ]
  },
  {
   "cell_type": "code",
   "execution_count": 153,
   "metadata": {},
   "outputs": [
    {
     "data": {
      "text/html": [
       "<div>\n",
       "<style>\n",
       "    .dataframe thead tr:only-child th {\n",
       "        text-align: right;\n",
       "    }\n",
       "\n",
       "    .dataframe thead th {\n",
       "        text-align: left;\n",
       "    }\n",
       "\n",
       "    .dataframe tbody tr th {\n",
       "        vertical-align: top;\n",
       "    }\n",
       "</style>\n",
       "<table border=\"1\" class=\"dataframe\">\n",
       "  <thead>\n",
       "    <tr style=\"text-align: right;\">\n",
       "      <th></th>\n",
       "      <th>predict</th>\n",
       "    </tr>\n",
       "  </thead>\n",
       "  <tbody>\n",
       "    <tr>\n",
       "      <th>0</th>\n",
       "      <td>11.679085</td>\n",
       "    </tr>\n",
       "    <tr>\n",
       "      <th>1</th>\n",
       "      <td>11.992723</td>\n",
       "    </tr>\n",
       "    <tr>\n",
       "      <th>2</th>\n",
       "      <td>12.157342</td>\n",
       "    </tr>\n",
       "    <tr>\n",
       "      <th>3</th>\n",
       "      <td>12.177654</td>\n",
       "    </tr>\n",
       "    <tr>\n",
       "      <th>4</th>\n",
       "      <td>12.138402</td>\n",
       "    </tr>\n",
       "  </tbody>\n",
       "</table>\n",
       "</div>"
      ],
      "text/plain": [
       "     predict\n",
       "0  11.679085\n",
       "1  11.992723\n",
       "2  12.157342\n",
       "3  12.177654\n",
       "4  12.138402"
      ]
     },
     "execution_count": 153,
     "metadata": {},
     "output_type": "execute_result"
    }
   ],
   "source": [
    "a.head()"
   ]
  },
  {
   "cell_type": "markdown",
   "metadata": {},
   "source": [
    "<div class=\"alert alert-block alert-success\">\n",
    "<font color='darkblue'>Before we concatenate our Log(SalePrice) with Id, we need to convert our log(Saleprice) to Saleprice ($) </font>"
   ]
  },
  {
   "cell_type": "code",
   "execution_count": 154,
   "metadata": {
    "collapsed": true
   },
   "outputs": [],
   "source": [
    "a['Saleprice'] = np.exp(a['predict'])"
   ]
  },
  {
   "cell_type": "code",
   "execution_count": 155,
   "metadata": {},
   "outputs": [
    {
     "data": {
      "text/html": [
       "<div>\n",
       "<style>\n",
       "    .dataframe thead tr:only-child th {\n",
       "        text-align: right;\n",
       "    }\n",
       "\n",
       "    .dataframe thead th {\n",
       "        text-align: left;\n",
       "    }\n",
       "\n",
       "    .dataframe tbody tr th {\n",
       "        vertical-align: top;\n",
       "    }\n",
       "</style>\n",
       "<table border=\"1\" class=\"dataframe\">\n",
       "  <thead>\n",
       "    <tr style=\"text-align: right;\">\n",
       "      <th></th>\n",
       "      <th>predict</th>\n",
       "      <th>Saleprice</th>\n",
       "    </tr>\n",
       "  </thead>\n",
       "  <tbody>\n",
       "    <tr>\n",
       "      <th>0</th>\n",
       "      <td>11.679085</td>\n",
       "      <td>118076.196615</td>\n",
       "    </tr>\n",
       "    <tr>\n",
       "      <th>1</th>\n",
       "      <td>11.992723</td>\n",
       "      <td>161574.691367</td>\n",
       "    </tr>\n",
       "    <tr>\n",
       "      <th>2</th>\n",
       "      <td>12.157342</td>\n",
       "      <td>190487.569640</td>\n",
       "    </tr>\n",
       "    <tr>\n",
       "      <th>3</th>\n",
       "      <td>12.177654</td>\n",
       "      <td>194396.260600</td>\n",
       "    </tr>\n",
       "    <tr>\n",
       "      <th>4</th>\n",
       "      <td>12.138402</td>\n",
       "      <td>186913.627138</td>\n",
       "    </tr>\n",
       "  </tbody>\n",
       "</table>\n",
       "</div>"
      ],
      "text/plain": [
       "     predict      Saleprice\n",
       "0  11.679085  118076.196615\n",
       "1  11.992723  161574.691367\n",
       "2  12.157342  190487.569640\n",
       "3  12.177654  194396.260600\n",
       "4  12.138402  186913.627138"
      ]
     },
     "execution_count": 155,
     "metadata": {},
     "output_type": "execute_result"
    }
   ],
   "source": [
    "a.head()"
   ]
  },
  {
   "cell_type": "markdown",
   "metadata": {},
   "source": [
    "<div class=\"alert alert-block alert-info\">\n",
    "<font color='green'>Here, we can have a look at the statistics of  our predict log(SalePrice) and SalePrice.</font>"
   ]
  },
  {
   "cell_type": "code",
   "execution_count": 156,
   "metadata": {},
   "outputs": [
    {
     "data": {
      "text/html": [
       "<div>\n",
       "<style>\n",
       "    .dataframe thead tr:only-child th {\n",
       "        text-align: right;\n",
       "    }\n",
       "\n",
       "    .dataframe thead th {\n",
       "        text-align: left;\n",
       "    }\n",
       "\n",
       "    .dataframe tbody tr th {\n",
       "        vertical-align: top;\n",
       "    }\n",
       "</style>\n",
       "<table border=\"1\" class=\"dataframe\">\n",
       "  <thead>\n",
       "    <tr style=\"text-align: right;\">\n",
       "      <th></th>\n",
       "      <th>predict</th>\n",
       "      <th>Saleprice</th>\n",
       "    </tr>\n",
       "  </thead>\n",
       "  <tbody>\n",
       "    <tr>\n",
       "      <th>count</th>\n",
       "      <td>1459.000000</td>\n",
       "      <td>1459.000000</td>\n",
       "    </tr>\n",
       "    <tr>\n",
       "      <th>mean</th>\n",
       "      <td>12.009823</td>\n",
       "      <td>178656.728814</td>\n",
       "    </tr>\n",
       "    <tr>\n",
       "      <th>std</th>\n",
       "      <td>0.401688</td>\n",
       "      <td>79165.675975</td>\n",
       "    </tr>\n",
       "    <tr>\n",
       "      <th>min</th>\n",
       "      <td>10.772854</td>\n",
       "      <td>47708.003994</td>\n",
       "    </tr>\n",
       "    <tr>\n",
       "      <th>25%</th>\n",
       "      <td>11.765902</td>\n",
       "      <td>128785.352414</td>\n",
       "    </tr>\n",
       "    <tr>\n",
       "      <th>50%</th>\n",
       "      <td>11.965008</td>\n",
       "      <td>157158.145422</td>\n",
       "    </tr>\n",
       "    <tr>\n",
       "      <th>75%</th>\n",
       "      <td>12.243809</td>\n",
       "      <td>207691.665553</td>\n",
       "    </tr>\n",
       "    <tr>\n",
       "      <th>max</th>\n",
       "      <td>13.311787</td>\n",
       "      <td>604276.271298</td>\n",
       "    </tr>\n",
       "  </tbody>\n",
       "</table>\n",
       "</div>"
      ],
      "text/plain": [
       "           predict      Saleprice\n",
       "count  1459.000000    1459.000000\n",
       "mean     12.009823  178656.728814\n",
       "std       0.401688   79165.675975\n",
       "min      10.772854   47708.003994\n",
       "25%      11.765902  128785.352414\n",
       "50%      11.965008  157158.145422\n",
       "75%      12.243809  207691.665553\n",
       "max      13.311787  604276.271298"
      ]
     },
     "execution_count": 156,
     "metadata": {},
     "output_type": "execute_result"
    }
   ],
   "source": [
    "a.describe()"
   ]
  },
  {
   "cell_type": "markdown",
   "metadata": {},
   "source": [
    "<div class=\"alert alert-block alert-info\">\n",
    "<font color='green'>Now, we can put Id and Saleprice together, save them and submit it on Kaggle. </font>"
   ]
  },
  {
   "cell_type": "code",
   "execution_count": 157,
   "metadata": {
    "collapsed": true
   },
   "outputs": [],
   "source": [
    "Id=testa['Id']"
   ]
  },
  {
   "cell_type": "code",
   "execution_count": 158,
   "metadata": {
    "collapsed": true
   },
   "outputs": [],
   "source": [
    "SalePrice=a['Saleprice']"
   ]
  },
  {
   "cell_type": "code",
   "execution_count": 159,
   "metadata": {
    "collapsed": true
   },
   "outputs": [],
   "source": [
    "gbm_lucky_result=pd.concat((Id,SalePrice),axis=1)"
   ]
  },
  {
   "cell_type": "code",
   "execution_count": 160,
   "metadata": {},
   "outputs": [
    {
     "data": {
      "text/html": [
       "<div>\n",
       "<style>\n",
       "    .dataframe thead tr:only-child th {\n",
       "        text-align: right;\n",
       "    }\n",
       "\n",
       "    .dataframe thead th {\n",
       "        text-align: left;\n",
       "    }\n",
       "\n",
       "    .dataframe tbody tr th {\n",
       "        vertical-align: top;\n",
       "    }\n",
       "</style>\n",
       "<table border=\"1\" class=\"dataframe\">\n",
       "  <thead>\n",
       "    <tr style=\"text-align: right;\">\n",
       "      <th></th>\n",
       "      <th>Id</th>\n",
       "      <th>Saleprice</th>\n",
       "    </tr>\n",
       "  </thead>\n",
       "  <tbody>\n",
       "    <tr>\n",
       "      <th>0</th>\n",
       "      <td>1461</td>\n",
       "      <td>118076.196615</td>\n",
       "    </tr>\n",
       "    <tr>\n",
       "      <th>1</th>\n",
       "      <td>1462</td>\n",
       "      <td>161574.691367</td>\n",
       "    </tr>\n",
       "    <tr>\n",
       "      <th>2</th>\n",
       "      <td>1463</td>\n",
       "      <td>190487.569640</td>\n",
       "    </tr>\n",
       "    <tr>\n",
       "      <th>3</th>\n",
       "      <td>1464</td>\n",
       "      <td>194396.260600</td>\n",
       "    </tr>\n",
       "    <tr>\n",
       "      <th>4</th>\n",
       "      <td>1465</td>\n",
       "      <td>186913.627138</td>\n",
       "    </tr>\n",
       "  </tbody>\n",
       "</table>\n",
       "</div>"
      ],
      "text/plain": [
       "     Id      Saleprice\n",
       "0  1461  118076.196615\n",
       "1  1462  161574.691367\n",
       "2  1463  190487.569640\n",
       "3  1464  194396.260600\n",
       "4  1465  186913.627138"
      ]
     },
     "execution_count": 160,
     "metadata": {},
     "output_type": "execute_result"
    }
   ],
   "source": [
    "gbm_lucky_result.head()"
   ]
  },
  {
   "cell_type": "code",
   "execution_count": 161,
   "metadata": {
    "collapsed": true
   },
   "outputs": [],
   "source": [
    "gbm_lucky_result.to_csv('gbm_lucky_result.csv')"
   ]
  },
  {
   "cell_type": "markdown",
   "metadata": {},
   "source": [
    "## 2. Regression "
   ]
  },
  {
   "cell_type": "code",
   "execution_count": 201,
   "metadata": {},
   "outputs": [],
   "source": [
    "from h2o.estimators.glm import H2OGeneralizedLinearEstimator"
   ]
  },
  {
   "cell_type": "code",
   "execution_count": 202,
   "metadata": {},
   "outputs": [
    {
     "name": "stdout",
     "output_type": "stream",
     "text": [
      "glm Model Build progress: |███████████████████████████████████████████████| 100%\n"
     ]
    }
   ],
   "source": [
    "# elastic net regularized regression\n",
    "#   - binomial family for logistic regression\n",
    "#   - L1 for variable selection\n",
    "#   - L2 for handling multicollinearity\n",
    "#   - IRLS for handling outliers\n",
    "#   - with lamba parameter tuning for variable selection\n",
    "\n",
    "# initialize\n",
    "price_glm = H2OGeneralizedLinearEstimator(family='gaussian',\n",
    "                                         solver='L_BFGS',\n",
    "                                         model_id='loan_glm1',\n",
    "                                         standardize=True,\n",
    "                                         lambda_search=True)\n",
    "\n",
    "# train \n",
    "price_glm.train(x, y, training_frame=train,validation_frame=validation)\n",
    "\n",
    "# view detailed results at http://host:ip/flow/index.html"
   ]
  },
  {
   "cell_type": "code",
   "execution_count": 203,
   "metadata": {},
   "outputs": [
    {
     "name": "stdout",
     "output_type": "stream",
     "text": [
      "Model Details\n",
      "=============\n",
      "H2OGeneralizedLinearEstimator :  Generalized Linear Modeling\n",
      "Model Key:  loan_glm1\n",
      "\n",
      "\n",
      "ModelMetricsRegressionGLM: glm\n",
      "** Reported on train data. **\n",
      "\n",
      "MSE: 0.01369236692578646\n",
      "RMSE: 0.11701438768709795\n",
      "MAE: 0.08189342826526357\n",
      "RMSLE: 0.009162185951711293\n",
      "R^2: 0.9170819176230742\n",
      "Mean Residual Deviance: 0.01369236692578646\n",
      "Null degrees of freedom: 999\n",
      "Residual degrees of freedom: 931\n",
      "Null deviance: 165.1312540435756\n",
      "Residual deviance: 13.69236692578646\n",
      "AIC: -1313.039693711016\n",
      "\n",
      "ModelMetricsRegressionGLM: glm\n",
      "** Reported on validation data. **\n",
      "\n",
      "MSE: 0.01364203533618937\n",
      "RMSE: 0.11679912386738768\n",
      "MAE: 0.08777581151454494\n",
      "RMSLE: 0.009057185640346037\n",
      "R^2: 0.9075487032058026\n",
      "Mean Residual Deviance: 0.01364203533618937\n",
      "Null degrees of freedom: 457\n",
      "Residual degrees of freedom: 389\n",
      "Null deviance: 67.68714065516063\n",
      "Residual deviance: 6.248052183974732\n",
      "AIC: -527.1788377169153\n",
      "Scoring History: \n"
     ]
    },
    {
     "data": {
      "text/html": [
       "<div style=\"overflow:auto\"><table style=\"width:50%\"><tr><td><b></b></td>\n",
       "<td><b>timestamp</b></td>\n",
       "<td><b>duration</b></td>\n",
       "<td><b>iteration</b></td>\n",
       "<td><b>lambda</b></td>\n",
       "<td><b>predictors</b></td>\n",
       "<td><b>deviance_train</b></td>\n",
       "<td><b>deviance_test</b></td></tr>\n",
       "<tr><td></td>\n",
       "<td>2018-04-16 01:08:01</td>\n",
       "<td> 0.000 sec</td>\n",
       "<td>3</td>\n",
       "<td>.34E2</td>\n",
       "<td>69</td>\n",
       "<td>0.2051966</td>\n",
       "<td>0.0911662</td></tr>\n",
       "<tr><td></td>\n",
       "<td>2018-04-16 01:08:01</td>\n",
       "<td> 0.010 sec</td>\n",
       "<td>4</td>\n",
       "<td>.25E2</td>\n",
       "<td>69</td>\n",
       "<td>0.1776785</td>\n",
       "<td>0.0787570</td></tr>\n",
       "<tr><td></td>\n",
       "<td>2018-04-16 01:08:01</td>\n",
       "<td> 0.018 sec</td>\n",
       "<td>5</td>\n",
       "<td>.18E2</td>\n",
       "<td>69</td>\n",
       "<td>0.1497927</td>\n",
       "<td>0.0662232</td></tr>\n",
       "<tr><td></td>\n",
       "<td>2018-04-16 01:08:01</td>\n",
       "<td> 0.025 sec</td>\n",
       "<td>8</td>\n",
       "<td>.13E2</td>\n",
       "<td>69</td>\n",
       "<td>0.1257574</td>\n",
       "<td>0.0554857</td></tr>\n",
       "<tr><td></td>\n",
       "<td>2018-04-16 01:08:01</td>\n",
       "<td> 0.039 sec</td>\n",
       "<td>11</td>\n",
       "<td>.95E1</td>\n",
       "<td>69</td>\n",
       "<td>0.1025004</td>\n",
       "<td>0.0451256</td></tr>\n",
       "<tr><td>---</td>\n",
       "<td>---</td>\n",
       "<td>---</td>\n",
       "<td>---</td>\n",
       "<td>---</td>\n",
       "<td>---</td>\n",
       "<td>---</td>\n",
       "<td>---</td></tr>\n",
       "<tr><td></td>\n",
       "<td>2018-04-16 01:08:01</td>\n",
       "<td> 0.266 sec</td>\n",
       "<td>93</td>\n",
       "<td>.81E-1</td>\n",
       "<td>69</td>\n",
       "<td>0.0271760</td>\n",
       "<td>0.0136599</td></tr>\n",
       "<tr><td></td>\n",
       "<td>2018-04-16 01:08:01</td>\n",
       "<td> 0.281 sec</td>\n",
       "<td>100</td>\n",
       "<td>.59E-1</td>\n",
       "<td>69</td>\n",
       "<td>0.0270379</td>\n",
       "<td>0.0136937</td></tr>\n",
       "<tr><td></td>\n",
       "<td>2018-04-16 01:08:01</td>\n",
       "<td> 0.290 sec</td>\n",
       "<td>106</td>\n",
       "<td>.43E-1</td>\n",
       "<td>69</td>\n",
       "<td>0.0269511</td>\n",
       "<td>0.0137354</td></tr>\n",
       "<tr><td></td>\n",
       "<td>2018-04-16 01:08:01</td>\n",
       "<td> 0.299 sec</td>\n",
       "<td>111</td>\n",
       "<td>.31E-1</td>\n",
       "<td>69</td>\n",
       "<td>0.0268978</td>\n",
       "<td>0.0137768</td></tr>\n",
       "<tr><td></td>\n",
       "<td>2018-04-16 01:08:01</td>\n",
       "<td> 0.301 sec</td>\n",
       "<td>112</td>\n",
       "<td>.23E-1</td>\n",
       "<td>69</td>\n",
       "<td>0.0268935</td>\n",
       "<td>0.0137859</td></tr></table></div>"
      ],
      "text/plain": [
       "     timestamp            duration    iteration    lambda    predictors    deviance_train        deviance_test\n",
       "---  -------------------  ----------  -----------  --------  ------------  --------------------  --------------------\n",
       "     2018-04-16 01:08:01  0.000 sec   3            .34E2     69            0.2051965627724512    0.09116615451856476\n",
       "     2018-04-16 01:08:01  0.010 sec   4            .25E2     69            0.17767848446241202   0.07875701860117265\n",
       "     2018-04-16 01:08:01  0.018 sec   5            .18E2     69            0.1497927312042014    0.06622324839090471\n",
       "     2018-04-16 01:08:01  0.025 sec   8            .13E2     69            0.1257574476374649    0.055485703666080695\n",
       "     2018-04-16 01:08:01  0.039 sec   11           .95E1     69            0.10250044854279937   0.04512559198322392\n",
       "---  ---                  ---         ---          ---       ---           ---                   ---\n",
       "     2018-04-16 01:08:01  0.266 sec   93           .81E-1    69            0.027175968311532097  0.013659885066873292\n",
       "     2018-04-16 01:08:01  0.281 sec   100          .59E-1    69            0.027037902811387737  0.013693744226606958\n",
       "     2018-04-16 01:08:01  0.290 sec   106          .43E-1    69            0.02695110712505916   0.013735396866235596\n",
       "     2018-04-16 01:08:01  0.299 sec   111          .31E-1    69            0.026897770316561875  0.01377681655427547\n",
       "     2018-04-16 01:08:01  0.301 sec   112          .23E-1    69            0.026893534200355326  0.013785929332590988"
      ]
     },
     "metadata": {},
     "output_type": "display_data"
    },
    {
     "name": "stdout",
     "output_type": "stream",
     "text": [
      "\n",
      "See the whole table with table.as_data_frame()\n"
     ]
    },
    {
     "data": {
      "text/plain": []
     },
     "execution_count": 203,
     "metadata": {},
     "output_type": "execute_result"
    }
   ],
   "source": [
    "price_glm"
   ]
  },
  {
   "cell_type": "code",
   "execution_count": 221,
   "metadata": {},
   "outputs": [
    {
     "name": "stdout",
     "output_type": "stream",
     "text": [
      "glm prediction progress: |████████████████████████████████████████████████| 100%\n",
      "glm prediction progress: |████████████████████████████████████████████████| 100%\n"
     ]
    }
   ],
   "source": [
    "ert_preds1_val = price_glm.predict(validation)\n",
    "ert_preds1_test = price_glm.predict(test)"
   ]
  },
  {
   "cell_type": "code",
   "execution_count": 222,
   "metadata": {
    "scrolled": true
   },
   "outputs": [
    {
     "data": {
      "text/html": [
       "<table>\n",
       "<thead>\n",
       "<tr><th style=\"text-align: right;\">  predict</th></tr>\n",
       "</thead>\n",
       "<tbody>\n",
       "<tr><td style=\"text-align: right;\">  11.636 </td></tr>\n",
       "<tr><td style=\"text-align: right;\">  11.9637</td></tr>\n",
       "<tr><td style=\"text-align: right;\">  12.0984</td></tr>\n",
       "<tr><td style=\"text-align: right;\">  12.1855</td></tr>\n",
       "<tr><td style=\"text-align: right;\">  12.0815</td></tr>\n",
       "<tr><td style=\"text-align: right;\">  12.0469</td></tr>\n",
       "<tr><td style=\"text-align: right;\">  12.1045</td></tr>\n",
       "<tr><td style=\"text-align: right;\">  12.0041</td></tr>\n",
       "<tr><td style=\"text-align: right;\">  12.1582</td></tr>\n",
       "<tr><td style=\"text-align: right;\">  11.6695</td></tr>\n",
       "</tbody>\n",
       "</table>"
      ]
     },
     "metadata": {},
     "output_type": "display_data"
    },
    {
     "data": {
      "text/plain": []
     },
     "execution_count": 222,
     "metadata": {},
     "output_type": "execute_result"
    }
   ],
   "source": [
    "ert_preds1_test.head()"
   ]
  },
  {
   "cell_type": "code",
   "execution_count": 223,
   "metadata": {},
   "outputs": [],
   "source": [
    "a=ert_preds1_test.as_data_frame()"
   ]
  },
  {
   "cell_type": "code",
   "execution_count": 224,
   "metadata": {},
   "outputs": [
    {
     "data": {
      "text/html": [
       "<div>\n",
       "<style scoped>\n",
       "    .dataframe tbody tr th:only-of-type {\n",
       "        vertical-align: middle;\n",
       "    }\n",
       "\n",
       "    .dataframe tbody tr th {\n",
       "        vertical-align: top;\n",
       "    }\n",
       "\n",
       "    .dataframe thead th {\n",
       "        text-align: right;\n",
       "    }\n",
       "</style>\n",
       "<table border=\"1\" class=\"dataframe\">\n",
       "  <thead>\n",
       "    <tr style=\"text-align: right;\">\n",
       "      <th></th>\n",
       "      <th>predict</th>\n",
       "    </tr>\n",
       "  </thead>\n",
       "  <tbody>\n",
       "    <tr>\n",
       "      <th>0</th>\n",
       "      <td>11.636016</td>\n",
       "    </tr>\n",
       "    <tr>\n",
       "      <th>1</th>\n",
       "      <td>11.963691</td>\n",
       "    </tr>\n",
       "    <tr>\n",
       "      <th>2</th>\n",
       "      <td>12.098417</td>\n",
       "    </tr>\n",
       "    <tr>\n",
       "      <th>3</th>\n",
       "      <td>12.185503</td>\n",
       "    </tr>\n",
       "    <tr>\n",
       "      <th>4</th>\n",
       "      <td>12.081470</td>\n",
       "    </tr>\n",
       "  </tbody>\n",
       "</table>\n",
       "</div>"
      ],
      "text/plain": [
       "     predict\n",
       "0  11.636016\n",
       "1  11.963691\n",
       "2  12.098417\n",
       "3  12.185503\n",
       "4  12.081470"
      ]
     },
     "execution_count": 224,
     "metadata": {},
     "output_type": "execute_result"
    }
   ],
   "source": [
    "a.head()"
   ]
  },
  {
   "cell_type": "markdown",
   "metadata": {},
   "source": [
    "<div class=\"alert alert-block alert-success\">\n",
    "<font color='darkblue'>Before we concatenate our Log(SalePrice) with Id, we need to convert our log(Saleprice) to Saleprice ($) </font>"
   ]
  },
  {
   "cell_type": "code",
   "execution_count": 225,
   "metadata": {},
   "outputs": [],
   "source": [
    "a['Saleprice'] = np.exp(a['predict'])"
   ]
  },
  {
   "cell_type": "code",
   "execution_count": 226,
   "metadata": {},
   "outputs": [
    {
     "data": {
      "text/html": [
       "<div>\n",
       "<style scoped>\n",
       "    .dataframe tbody tr th:only-of-type {\n",
       "        vertical-align: middle;\n",
       "    }\n",
       "\n",
       "    .dataframe tbody tr th {\n",
       "        vertical-align: top;\n",
       "    }\n",
       "\n",
       "    .dataframe thead th {\n",
       "        text-align: right;\n",
       "    }\n",
       "</style>\n",
       "<table border=\"1\" class=\"dataframe\">\n",
       "  <thead>\n",
       "    <tr style=\"text-align: right;\">\n",
       "      <th></th>\n",
       "      <th>predict</th>\n",
       "      <th>Saleprice</th>\n",
       "    </tr>\n",
       "  </thead>\n",
       "  <tbody>\n",
       "    <tr>\n",
       "      <th>0</th>\n",
       "      <td>11.636016</td>\n",
       "      <td>113098.646621</td>\n",
       "    </tr>\n",
       "    <tr>\n",
       "      <th>1</th>\n",
       "      <td>11.963691</td>\n",
       "      <td>156951.340489</td>\n",
       "    </tr>\n",
       "    <tr>\n",
       "      <th>2</th>\n",
       "      <td>12.098417</td>\n",
       "      <td>179587.393635</td>\n",
       "    </tr>\n",
       "    <tr>\n",
       "      <th>3</th>\n",
       "      <td>12.185503</td>\n",
       "      <td>195928.076250</td>\n",
       "    </tr>\n",
       "    <tr>\n",
       "      <th>4</th>\n",
       "      <td>12.081470</td>\n",
       "      <td>176569.565797</td>\n",
       "    </tr>\n",
       "  </tbody>\n",
       "</table>\n",
       "</div>"
      ],
      "text/plain": [
       "     predict      Saleprice\n",
       "0  11.636016  113098.646621\n",
       "1  11.963691  156951.340489\n",
       "2  12.098417  179587.393635\n",
       "3  12.185503  195928.076250\n",
       "4  12.081470  176569.565797"
      ]
     },
     "execution_count": 226,
     "metadata": {},
     "output_type": "execute_result"
    }
   ],
   "source": [
    "a.head()"
   ]
  },
  {
   "cell_type": "markdown",
   "metadata": {},
   "source": [
    "<div class=\"alert alert-block alert-info\">\n",
    "<font color='green'>Here, we can have a look at the statistics of  our predict log(SalePrice) and SalePrice.</font>"
   ]
  },
  {
   "cell_type": "code",
   "execution_count": 227,
   "metadata": {},
   "outputs": [
    {
     "data": {
      "text/html": [
       "<div>\n",
       "<style scoped>\n",
       "    .dataframe tbody tr th:only-of-type {\n",
       "        vertical-align: middle;\n",
       "    }\n",
       "\n",
       "    .dataframe tbody tr th {\n",
       "        vertical-align: top;\n",
       "    }\n",
       "\n",
       "    .dataframe thead th {\n",
       "        text-align: right;\n",
       "    }\n",
       "</style>\n",
       "<table border=\"1\" class=\"dataframe\">\n",
       "  <thead>\n",
       "    <tr style=\"text-align: right;\">\n",
       "      <th></th>\n",
       "      <th>predict</th>\n",
       "      <th>Saleprice</th>\n",
       "    </tr>\n",
       "  </thead>\n",
       "  <tbody>\n",
       "    <tr>\n",
       "      <th>count</th>\n",
       "      <td>1459.000000</td>\n",
       "      <td>1.459000e+03</td>\n",
       "    </tr>\n",
       "    <tr>\n",
       "      <th>mean</th>\n",
       "      <td>12.013802</td>\n",
       "      <td>1.794062e+05</td>\n",
       "    </tr>\n",
       "    <tr>\n",
       "      <th>std</th>\n",
       "      <td>0.394055</td>\n",
       "      <td>8.874769e+04</td>\n",
       "    </tr>\n",
       "    <tr>\n",
       "      <th>min</th>\n",
       "      <td>10.865569</td>\n",
       "      <td>5.234275e+04</td>\n",
       "    </tr>\n",
       "    <tr>\n",
       "      <th>25%</th>\n",
       "      <td>11.741692</td>\n",
       "      <td>1.257048e+05</td>\n",
       "    </tr>\n",
       "    <tr>\n",
       "      <th>50%</th>\n",
       "      <td>11.966384</td>\n",
       "      <td>1.573746e+05</td>\n",
       "    </tr>\n",
       "    <tr>\n",
       "      <th>75%</th>\n",
       "      <td>12.254307</td>\n",
       "      <td>2.098833e+05</td>\n",
       "    </tr>\n",
       "    <tr>\n",
       "      <th>max</th>\n",
       "      <td>14.459269</td>\n",
       "      <td>1.903622e+06</td>\n",
       "    </tr>\n",
       "  </tbody>\n",
       "</table>\n",
       "</div>"
      ],
      "text/plain": [
       "           predict     Saleprice\n",
       "count  1459.000000  1.459000e+03\n",
       "mean     12.013802  1.794062e+05\n",
       "std       0.394055  8.874769e+04\n",
       "min      10.865569  5.234275e+04\n",
       "25%      11.741692  1.257048e+05\n",
       "50%      11.966384  1.573746e+05\n",
       "75%      12.254307  2.098833e+05\n",
       "max      14.459269  1.903622e+06"
      ]
     },
     "execution_count": 227,
     "metadata": {},
     "output_type": "execute_result"
    }
   ],
   "source": [
    "a.describe()"
   ]
  },
  {
   "cell_type": "markdown",
   "metadata": {},
   "source": [
    "<div class=\"alert alert-block alert-info\">\n",
    "<font color='green'>Now, we can put Id and Saleprice together, save them and submit it on Kaggle. </font>"
   ]
  },
  {
   "cell_type": "code",
   "execution_count": 228,
   "metadata": {},
   "outputs": [],
   "source": [
    "Id=testa['Id']"
   ]
  },
  {
   "cell_type": "code",
   "execution_count": 229,
   "metadata": {},
   "outputs": [],
   "source": [
    "SalePrice=a['Saleprice']"
   ]
  },
  {
   "cell_type": "code",
   "execution_count": 230,
   "metadata": {},
   "outputs": [],
   "source": [
    "Regression_result2=pd.concat((Id,SalePrice),axis=1)"
   ]
  },
  {
   "cell_type": "code",
   "execution_count": 231,
   "metadata": {},
   "outputs": [
    {
     "data": {
      "text/html": [
       "<div>\n",
       "<style scoped>\n",
       "    .dataframe tbody tr th:only-of-type {\n",
       "        vertical-align: middle;\n",
       "    }\n",
       "\n",
       "    .dataframe tbody tr th {\n",
       "        vertical-align: top;\n",
       "    }\n",
       "\n",
       "    .dataframe thead th {\n",
       "        text-align: right;\n",
       "    }\n",
       "</style>\n",
       "<table border=\"1\" class=\"dataframe\">\n",
       "  <thead>\n",
       "    <tr style=\"text-align: right;\">\n",
       "      <th></th>\n",
       "      <th>Id</th>\n",
       "      <th>Saleprice</th>\n",
       "    </tr>\n",
       "  </thead>\n",
       "  <tbody>\n",
       "    <tr>\n",
       "      <th>0</th>\n",
       "      <td>1461</td>\n",
       "      <td>113098.646621</td>\n",
       "    </tr>\n",
       "    <tr>\n",
       "      <th>1</th>\n",
       "      <td>1462</td>\n",
       "      <td>156951.340489</td>\n",
       "    </tr>\n",
       "    <tr>\n",
       "      <th>2</th>\n",
       "      <td>1463</td>\n",
       "      <td>179587.393635</td>\n",
       "    </tr>\n",
       "    <tr>\n",
       "      <th>3</th>\n",
       "      <td>1464</td>\n",
       "      <td>195928.076250</td>\n",
       "    </tr>\n",
       "    <tr>\n",
       "      <th>4</th>\n",
       "      <td>1465</td>\n",
       "      <td>176569.565797</td>\n",
       "    </tr>\n",
       "  </tbody>\n",
       "</table>\n",
       "</div>"
      ],
      "text/plain": [
       "     Id      Saleprice\n",
       "0  1461  113098.646621\n",
       "1  1462  156951.340489\n",
       "2  1463  179587.393635\n",
       "3  1464  195928.076250\n",
       "4  1465  176569.565797"
      ]
     },
     "execution_count": 231,
     "metadata": {},
     "output_type": "execute_result"
    }
   ],
   "source": [
    "Regression_result2.head()"
   ]
  },
  {
   "cell_type": "code",
   "execution_count": 232,
   "metadata": {},
   "outputs": [],
   "source": [
    "Regression_result2.to_csv('regression_result2.csv')"
   ]
  },
  {
   "cell_type": "markdown",
   "metadata": {},
   "source": [
    "## 3. Neural Network "
   ]
  },
  {
   "cell_type": "code",
   "execution_count": 177,
   "metadata": {
    "collapsed": true
   },
   "outputs": [],
   "source": [
    "from h2o.estimators.deeplearning import H2ODeepLearningEstimator\n",
    "from h2o.grid.grid_search import H2OGridSearch"
   ]
  },
  {
   "cell_type": "markdown",
   "metadata": {},
   "source": [
    "### (1) Neural Network Model 1 "
   ]
  },
  {
   "cell_type": "code",
   "execution_count": 178,
   "metadata": {},
   "outputs": [
    {
     "name": "stdout",
     "output_type": "stream",
     "text": [
      "deeplearning Model Build progress: |██████████████████████████████████████| 100%\n",
      "Model Details\n",
      "=============\n",
      "H2ODeepLearningEstimator :  Deep Learning\n",
      "Model Key:  nn_model\n",
      "\n",
      "\n",
      "ModelMetricsRegression: deeplearning\n",
      "** Reported on train data. **\n",
      "\n",
      "MSE: 0.015531825076450139\n",
      "RMSE: 0.12462674302271619\n",
      "MAE: 0.09298413610041192\n",
      "RMSLE: 0.00968861250156411\n",
      "Mean Residual Deviance: 0.015531825076450139\n",
      "\n",
      "ModelMetricsRegression: deeplearning\n",
      "** Reported on validation data. **\n",
      "\n",
      "MSE: 0.01741765327895581\n",
      "RMSE: 0.13197595720037728\n",
      "MAE: 0.10171086310690211\n",
      "RMSLE: 0.01018665964448776\n",
      "Mean Residual Deviance: 0.01741765327895581\n",
      "Scoring History: \n"
     ]
    },
    {
     "data": {
      "text/html": [
       "<div style=\"overflow:auto\"><table style=\"width:50%\"><tr><td><b></b></td>\n",
       "<td><b>timestamp</b></td>\n",
       "<td><b>duration</b></td>\n",
       "<td><b>training_speed</b></td>\n",
       "<td><b>epochs</b></td>\n",
       "<td><b>iterations</b></td>\n",
       "<td><b>samples</b></td>\n",
       "<td><b>training_rmse</b></td>\n",
       "<td><b>training_deviance</b></td>\n",
       "<td><b>training_mae</b></td>\n",
       "<td><b>validation_rmse</b></td>\n",
       "<td><b>validation_deviance</b></td>\n",
       "<td><b>validation_mae</b></td></tr>\n",
       "<tr><td></td>\n",
       "<td>2018-04-15 23:40:02</td>\n",
       "<td> 0.000 sec</td>\n",
       "<td>None</td>\n",
       "<td>0.0</td>\n",
       "<td>0</td>\n",
       "<td>0.0</td>\n",
       "<td>nan</td>\n",
       "<td>nan</td>\n",
       "<td>nan</td>\n",
       "<td>nan</td>\n",
       "<td>nan</td>\n",
       "<td>nan</td></tr>\n",
       "<tr><td></td>\n",
       "<td>2018-04-15 23:40:03</td>\n",
       "<td> 1.245 sec</td>\n",
       "<td>4187 obs/sec</td>\n",
       "<td>5.0</td>\n",
       "<td>1</td>\n",
       "<td>5000.0</td>\n",
       "<td>0.1352178</td>\n",
       "<td>0.0182838</td>\n",
       "<td>0.1040893</td>\n",
       "<td>0.1529232</td>\n",
       "<td>0.0233855</td>\n",
       "<td>0.1195879</td></tr>\n",
       "<tr><td></td>\n",
       "<td>2018-04-15 23:40:04</td>\n",
       "<td> 2.720 sec</td>\n",
       "<td>3808 obs/sec</td>\n",
       "<td>10.0</td>\n",
       "<td>2</td>\n",
       "<td>10000.0</td>\n",
       "<td>0.1369108</td>\n",
       "<td>0.0187446</td>\n",
       "<td>0.1056577</td>\n",
       "<td>0.1415291</td>\n",
       "<td>0.0200305</td>\n",
       "<td>0.1104255</td></tr>\n",
       "<tr><td></td>\n",
       "<td>2018-04-15 23:40:05</td>\n",
       "<td> 3.748 sec</td>\n",
       "<td>4134 obs/sec</td>\n",
       "<td>15.0</td>\n",
       "<td>3</td>\n",
       "<td>15000.0</td>\n",
       "<td>0.1246267</td>\n",
       "<td>0.0155318</td>\n",
       "<td>0.0929841</td>\n",
       "<td>0.1319760</td>\n",
       "<td>0.0174177</td>\n",
       "<td>0.1017109</td></tr>\n",
       "<tr><td></td>\n",
       "<td>2018-04-15 23:40:06</td>\n",
       "<td> 4.893 sec</td>\n",
       "<td>4222 obs/sec</td>\n",
       "<td>20.0</td>\n",
       "<td>4</td>\n",
       "<td>20000.0</td>\n",
       "<td>0.1359796</td>\n",
       "<td>0.0184905</td>\n",
       "<td>0.1042958</td>\n",
       "<td>0.1392776</td>\n",
       "<td>0.0193983</td>\n",
       "<td>0.1097425</td></tr>\n",
       "<tr><td></td>\n",
       "<td>2018-04-15 23:40:08</td>\n",
       "<td> 6.017 sec</td>\n",
       "<td>4289 obs/sec</td>\n",
       "<td>25.0</td>\n",
       "<td>5</td>\n",
       "<td>25000.0</td>\n",
       "<td>0.1794113</td>\n",
       "<td>0.0321884</td>\n",
       "<td>0.1439804</td>\n",
       "<td>0.1807185</td>\n",
       "<td>0.0326592</td>\n",
       "<td>0.1470795</td></tr>\n",
       "<tr><td></td>\n",
       "<td>2018-04-15 23:40:09</td>\n",
       "<td> 7.377 sec</td>\n",
       "<td>4194 obs/sec</td>\n",
       "<td>30.0</td>\n",
       "<td>6</td>\n",
       "<td>30000.0</td>\n",
       "<td>0.1270947</td>\n",
       "<td>0.0161531</td>\n",
       "<td>0.0946912</td>\n",
       "<td>0.1326325</td>\n",
       "<td>0.0175914</td>\n",
       "<td>0.1010762</td></tr>\n",
       "<tr><td></td>\n",
       "<td>2018-04-15 23:40:10</td>\n",
       "<td> 8.561 sec</td>\n",
       "<td>4220 obs/sec</td>\n",
       "<td>35.0</td>\n",
       "<td>7</td>\n",
       "<td>35000.0</td>\n",
       "<td>0.1330509</td>\n",
       "<td>0.0177025</td>\n",
       "<td>0.0989243</td>\n",
       "<td>0.1386929</td>\n",
       "<td>0.0192357</td>\n",
       "<td>0.1068394</td></tr>\n",
       "<tr><td></td>\n",
       "<td>2018-04-15 23:40:11</td>\n",
       "<td> 9.729 sec</td>\n",
       "<td>4241 obs/sec</td>\n",
       "<td>40.0</td>\n",
       "<td>8</td>\n",
       "<td>40000.0</td>\n",
       "<td>0.1296556</td>\n",
       "<td>0.0168106</td>\n",
       "<td>0.0976159</td>\n",
       "<td>0.1375752</td>\n",
       "<td>0.0189269</td>\n",
       "<td>0.1052986</td></tr>\n",
       "<tr><td></td>\n",
       "<td>2018-04-15 23:40:12</td>\n",
       "<td>10.774 sec</td>\n",
       "<td>4307 obs/sec</td>\n",
       "<td>45.0</td>\n",
       "<td>9</td>\n",
       "<td>45000.0</td>\n",
       "<td>0.1630190</td>\n",
       "<td>0.0265752</td>\n",
       "<td>0.1285736</td>\n",
       "<td>0.1629276</td>\n",
       "<td>0.0265454</td>\n",
       "<td>0.1321976</td></tr>\n",
       "<tr><td></td>\n",
       "<td>2018-04-15 23:40:14</td>\n",
       "<td>12.005 sec</td>\n",
       "<td>4291 obs/sec</td>\n",
       "<td>50.0</td>\n",
       "<td>10</td>\n",
       "<td>50000.0</td>\n",
       "<td>0.1526226</td>\n",
       "<td>0.0232937</td>\n",
       "<td>0.1217871</td>\n",
       "<td>0.1528731</td>\n",
       "<td>0.0233702</td>\n",
       "<td>0.1215546</td></tr>\n",
       "<tr><td></td>\n",
       "<td>2018-04-15 23:40:14</td>\n",
       "<td>12.047 sec</td>\n",
       "<td>4290 obs/sec</td>\n",
       "<td>50.0</td>\n",
       "<td>10</td>\n",
       "<td>50000.0</td>\n",
       "<td>0.1246267</td>\n",
       "<td>0.0155318</td>\n",
       "<td>0.0929841</td>\n",
       "<td>0.1319760</td>\n",
       "<td>0.0174177</td>\n",
       "<td>0.1017109</td></tr></table></div>"
      ],
      "text/plain": [
       "    timestamp            duration    training_speed    epochs    iterations    samples    training_rmse    training_deviance    training_mae    validation_rmse    validation_deviance    validation_mae\n",
       "--  -------------------  ----------  ----------------  --------  ------------  ---------  ---------------  -------------------  --------------  -----------------  ---------------------  ----------------\n",
       "    2018-04-15 23:40:02  0.000 sec                     0         0             0          nan              nan                  nan             nan                nan                    nan\n",
       "    2018-04-15 23:40:03  1.245 sec   4187 obs/sec      5         1             5000       0.135218         0.0182838            0.104089        0.152923           0.0233855              0.119588\n",
       "    2018-04-15 23:40:04  2.720 sec   3808 obs/sec      10        2             10000      0.136911         0.0187446            0.105658        0.141529           0.0200305              0.110426\n",
       "    2018-04-15 23:40:05  3.748 sec   4134 obs/sec      15        3             15000      0.124627         0.0155318            0.0929841       0.131976           0.0174177              0.101711\n",
       "    2018-04-15 23:40:06  4.893 sec   4222 obs/sec      20        4             20000      0.13598          0.0184905            0.104296        0.139278           0.0193983              0.109743\n",
       "    2018-04-15 23:40:08  6.017 sec   4289 obs/sec      25        5             25000      0.179411         0.0321884            0.14398         0.180718           0.0326592              0.147079\n",
       "    2018-04-15 23:40:09  7.377 sec   4194 obs/sec      30        6             30000      0.127095         0.0161531            0.0946912       0.132633           0.0175914              0.101076\n",
       "    2018-04-15 23:40:10  8.561 sec   4220 obs/sec      35        7             35000      0.133051         0.0177025            0.0989243       0.138693           0.0192357              0.106839\n",
       "    2018-04-15 23:40:11  9.729 sec   4241 obs/sec      40        8             40000      0.129656         0.0168106            0.0976159       0.137575           0.0189269              0.105299\n",
       "    2018-04-15 23:40:12  10.774 sec  4307 obs/sec      45        9             45000      0.163019         0.0265752            0.128574        0.162928           0.0265454              0.132198\n",
       "    2018-04-15 23:40:14  12.005 sec  4291 obs/sec      50        10            50000      0.152623         0.0232937            0.121787        0.152873           0.0233702              0.121555\n",
       "    2018-04-15 23:40:14  12.047 sec  4290 obs/sec      50        10            50000      0.124627         0.0155318            0.0929841       0.131976           0.0174177              0.101711"
      ]
     },
     "metadata": {},
     "output_type": "display_data"
    },
    {
     "name": "stdout",
     "output_type": "stream",
     "text": [
      "Variable Importances: \n"
     ]
    },
    {
     "data": {
      "text/html": [
       "<div style=\"overflow:auto\"><table style=\"width:50%\"><tr><td><b>variable</b></td>\n",
       "<td><b>relative_importance</b></td>\n",
       "<td><b>scaled_importance</b></td>\n",
       "<td><b>percentage</b></td></tr>\n",
       "<tr><td>GrLivArea</td>\n",
       "<td>1.0</td>\n",
       "<td>1.0</td>\n",
       "<td>0.0129681</td></tr>\n",
       "<tr><td>SaleCondition_Abnorml</td>\n",
       "<td>0.9347567</td>\n",
       "<td>0.9347567</td>\n",
       "<td>0.0121220</td></tr>\n",
       "<tr><td>OverallQual.1</td>\n",
       "<td>0.9214306</td>\n",
       "<td>0.9214306</td>\n",
       "<td>0.0119492</td></tr>\n",
       "<tr><td>TotalSF.1</td>\n",
       "<td>0.8458849</td>\n",
       "<td>0.8458849</td>\n",
       "<td>0.0109695</td></tr>\n",
       "<tr><td>MSZoning_C (all)</td>\n",
       "<td>0.8429365</td>\n",
       "<td>0.8429365</td>\n",
       "<td>0.0109313</td></tr>\n",
       "<tr><td>---</td>\n",
       "<td>---</td>\n",
       "<td>---</td>\n",
       "<td>---</td></tr>\n",
       "<tr><td>MSSubClass_180</td>\n",
       "<td>0.0034857</td>\n",
       "<td>0.0034857</td>\n",
       "<td>0.0000452</td></tr>\n",
       "<tr><td>Exterior2nd_AsphShn</td>\n",
       "<td>0.0034375</td>\n",
       "<td>0.0034375</td>\n",
       "<td>0.0000446</td></tr>\n",
       "<tr><td>HouseStyle_2.5Unf</td>\n",
       "<td>0.0028396</td>\n",
       "<td>0.0028396</td>\n",
       "<td>0.0000368</td></tr>\n",
       "<tr><td>Foundation_Stone</td>\n",
       "<td>0.0018631</td>\n",
       "<td>0.0018631</td>\n",
       "<td>0.0000242</td></tr>\n",
       "<tr><td>Condition2_Artery</td>\n",
       "<td>0.0012490</td>\n",
       "<td>0.0012490</td>\n",
       "<td>0.0000162</td></tr></table></div>"
      ],
      "text/plain": [
       "variable               relative_importance    scaled_importance      percentage\n",
       "---------------------  ---------------------  ---------------------  ----------------------\n",
       "GrLivArea              1.0                    1.0                    0.012968059645164155\n",
       "SaleCondition_Abnorml  0.9347566962242126     0.9347566962242126     0.012121980590352181\n",
       "OverallQual.1          0.9214305877685547     0.9214305877685547     0.011949166821061282\n",
       "TotalSF.1              0.8458849191665649     0.8458849191665649     0.010969486084696873\n",
       "MSZoning_C (all)       0.8429364562034607     0.8429364562034607     0.010931250241129781\n",
       "---                    ---                    ---                    ---\n",
       "MSSubClass_180         0.0034857464488595724  0.0034857464488595724  4.5203367856730077e-05\n",
       "Exterior2nd_AsphShn    0.0034375071991235018  0.0034375071991235018  4.4577798388914744e-05\n",
       "HouseStyle_2.5Unf      0.0028396323323249817  0.0028396323323249817  3.682452145592696e-05\n",
       "Foundation_Stone       0.0018631493439897895  0.0018631493439897895  2.4161431820708058e-05\n",
       "Condition2_Artery      0.0012490283697843552  0.0012490283697843552  1.6197474397865667e-05"
      ]
     },
     "metadata": {},
     "output_type": "display_data"
    },
    {
     "name": "stdout",
     "output_type": "stream",
     "text": [
      "\n",
      "See the whole table with table.as_data_frame()\n"
     ]
    },
    {
     "data": {
      "text/plain": []
     },
     "execution_count": 178,
     "metadata": {},
     "output_type": "execute_result"
    }
   ],
   "source": [
    "# neural network\n",
    "\n",
    "# initialize nn model\n",
    "nn_model = H2ODeepLearningEstimator(\n",
    "    epochs=50,                    # read over the data 50 times, but in mini-batches\n",
    "    hidden=[100],                 # 100 hidden units in 1 hidden layer\n",
    "    input_dropout_ratio=0.2,      # randomly drop 20% of inputs for each iteration, helps w/ generalization\n",
    "    hidden_dropout_ratios=[0.05], # randomly set 5% of hidden weights to 0 each iteration, helps w/ generalization\n",
    "    activation='TanhWithDropout', # bounded activation function that allows for dropout, tanh\n",
    "    l1=0.001,                     # L1 penalty can help generalization   \n",
    "    l2=0.01,                      # L2 penalty can increase stability in presence of highly correlated inputs\n",
    "    adaptive_rate=True,           # adjust magnitude of weight updates automatically (+stability, +accuracy)\n",
    "    stopping_rounds=5,            # stop after validation error does not decrease for 5 iterations\n",
    "    score_each_iteration=True,    # score validation error on every iteration\n",
    "    model_id='nn_model')          # for easy lookup in flow\n",
    "\n",
    "# train nn model\n",
    "nn_model.train(\n",
    "    x=x,\n",
    "    y=y,\n",
    "    training_frame=train,\n",
    "    validation_frame=validation)\n",
    "\n",
    "# print model information\n",
    "nn_model\n",
    "\n",
    "# view detailed results at http://localhost:54321/flow/index.html"
   ]
  },
  {
   "cell_type": "code",
   "execution_count": 179,
   "metadata": {},
   "outputs": [
    {
     "name": "stdout",
     "output_type": "stream",
     "text": [
      "deeplearning prediction progress: |███████████████████████████████████████| 100%\n",
      "deeplearning prediction progress: |███████████████████████████████████████| 100%\n"
     ]
    }
   ],
   "source": [
    "ert_preds1_val = nn_model.predict(validation)\n",
    "ert_preds1_test = nn_model.predict(test)"
   ]
  },
  {
   "cell_type": "markdown",
   "metadata": {},
   "source": [
    "<div class=\"alert alert-block alert-info\">\n",
    "<font color='green'>Below is our predicted log(SalePrice) based on our Random Forest Model. \n",
    "<br>\n",
    "We then convernt the predicted SalePrice to a data frame so that we can concatenate it with Id.</font>"
   ]
  },
  {
   "cell_type": "code",
   "execution_count": 180,
   "metadata": {
    "scrolled": true
   },
   "outputs": [
    {
     "data": {
      "text/html": [
       "<table>\n",
       "<thead>\n",
       "<tr><th style=\"text-align: right;\">  predict</th></tr>\n",
       "</thead>\n",
       "<tbody>\n",
       "<tr><td style=\"text-align: right;\">  11.5619</td></tr>\n",
       "<tr><td style=\"text-align: right;\">  12.0213</td></tr>\n",
       "<tr><td style=\"text-align: right;\">  12.2152</td></tr>\n",
       "<tr><td style=\"text-align: right;\">  12.2416</td></tr>\n",
       "<tr><td style=\"text-align: right;\">  12.2146</td></tr>\n",
       "<tr><td style=\"text-align: right;\">  12.0531</td></tr>\n",
       "<tr><td style=\"text-align: right;\">  12.1002</td></tr>\n",
       "<tr><td style=\"text-align: right;\">  12.0012</td></tr>\n",
       "<tr><td style=\"text-align: right;\">  12.2223</td></tr>\n",
       "<tr><td style=\"text-align: right;\">  11.671 </td></tr>\n",
       "</tbody>\n",
       "</table>"
      ]
     },
     "metadata": {},
     "output_type": "display_data"
    },
    {
     "data": {
      "text/plain": []
     },
     "execution_count": 180,
     "metadata": {},
     "output_type": "execute_result"
    }
   ],
   "source": [
    "ert_preds1_test.head()"
   ]
  },
  {
   "cell_type": "code",
   "execution_count": 181,
   "metadata": {
    "collapsed": true
   },
   "outputs": [],
   "source": [
    "a=ert_preds1_test.as_data_frame()"
   ]
  },
  {
   "cell_type": "code",
   "execution_count": 182,
   "metadata": {},
   "outputs": [
    {
     "data": {
      "text/html": [
       "<div>\n",
       "<style>\n",
       "    .dataframe thead tr:only-child th {\n",
       "        text-align: right;\n",
       "    }\n",
       "\n",
       "    .dataframe thead th {\n",
       "        text-align: left;\n",
       "    }\n",
       "\n",
       "    .dataframe tbody tr th {\n",
       "        vertical-align: top;\n",
       "    }\n",
       "</style>\n",
       "<table border=\"1\" class=\"dataframe\">\n",
       "  <thead>\n",
       "    <tr style=\"text-align: right;\">\n",
       "      <th></th>\n",
       "      <th>predict</th>\n",
       "    </tr>\n",
       "  </thead>\n",
       "  <tbody>\n",
       "    <tr>\n",
       "      <th>0</th>\n",
       "      <td>11.561856</td>\n",
       "    </tr>\n",
       "    <tr>\n",
       "      <th>1</th>\n",
       "      <td>12.021342</td>\n",
       "    </tr>\n",
       "    <tr>\n",
       "      <th>2</th>\n",
       "      <td>12.215244</td>\n",
       "    </tr>\n",
       "    <tr>\n",
       "      <th>3</th>\n",
       "      <td>12.241612</td>\n",
       "    </tr>\n",
       "    <tr>\n",
       "      <th>4</th>\n",
       "      <td>12.214644</td>\n",
       "    </tr>\n",
       "  </tbody>\n",
       "</table>\n",
       "</div>"
      ],
      "text/plain": [
       "     predict\n",
       "0  11.561856\n",
       "1  12.021342\n",
       "2  12.215244\n",
       "3  12.241612\n",
       "4  12.214644"
      ]
     },
     "execution_count": 182,
     "metadata": {},
     "output_type": "execute_result"
    }
   ],
   "source": [
    "a.head()"
   ]
  },
  {
   "cell_type": "markdown",
   "metadata": {},
   "source": [
    "<div class=\"alert alert-block alert-success\">\n",
    "<font color='darkblue'>Before we concatenate our Log(SalePrice) with Id, we need to convert our log(Saleprice) to Saleprice ($) </font>"
   ]
  },
  {
   "cell_type": "code",
   "execution_count": 183,
   "metadata": {
    "collapsed": true
   },
   "outputs": [],
   "source": [
    "a['Saleprice'] = np.exp(a['predict'])"
   ]
  },
  {
   "cell_type": "code",
   "execution_count": 184,
   "metadata": {},
   "outputs": [
    {
     "data": {
      "text/html": [
       "<div>\n",
       "<style>\n",
       "    .dataframe thead tr:only-child th {\n",
       "        text-align: right;\n",
       "    }\n",
       "\n",
       "    .dataframe thead th {\n",
       "        text-align: left;\n",
       "    }\n",
       "\n",
       "    .dataframe tbody tr th {\n",
       "        vertical-align: top;\n",
       "    }\n",
       "</style>\n",
       "<table border=\"1\" class=\"dataframe\">\n",
       "  <thead>\n",
       "    <tr style=\"text-align: right;\">\n",
       "      <th></th>\n",
       "      <th>predict</th>\n",
       "      <th>Saleprice</th>\n",
       "    </tr>\n",
       "  </thead>\n",
       "  <tbody>\n",
       "    <tr>\n",
       "      <th>0</th>\n",
       "      <td>11.561856</td>\n",
       "      <td>105014.710259</td>\n",
       "    </tr>\n",
       "    <tr>\n",
       "      <th>1</th>\n",
       "      <td>12.021342</td>\n",
       "      <td>166265.651425</td>\n",
       "    </tr>\n",
       "    <tr>\n",
       "      <th>2</th>\n",
       "      <td>12.215244</td>\n",
       "      <td>201842.708291</td>\n",
       "    </tr>\n",
       "    <tr>\n",
       "      <th>3</th>\n",
       "      <td>12.241612</td>\n",
       "      <td>207235.650082</td>\n",
       "    </tr>\n",
       "    <tr>\n",
       "      <th>4</th>\n",
       "      <td>12.214644</td>\n",
       "      <td>201721.653796</td>\n",
       "    </tr>\n",
       "  </tbody>\n",
       "</table>\n",
       "</div>"
      ],
      "text/plain": [
       "     predict      Saleprice\n",
       "0  11.561856  105014.710259\n",
       "1  12.021342  166265.651425\n",
       "2  12.215244  201842.708291\n",
       "3  12.241612  207235.650082\n",
       "4  12.214644  201721.653796"
      ]
     },
     "execution_count": 184,
     "metadata": {},
     "output_type": "execute_result"
    }
   ],
   "source": [
    "a.head()"
   ]
  },
  {
   "cell_type": "markdown",
   "metadata": {},
   "source": [
    "<div class=\"alert alert-block alert-info\">\n",
    "<font color='green'>Here, we can have a look at the statistics of  our predict log(SalePrice) and SalePrice.</font>"
   ]
  },
  {
   "cell_type": "code",
   "execution_count": 185,
   "metadata": {},
   "outputs": [
    {
     "data": {
      "text/html": [
       "<div>\n",
       "<style>\n",
       "    .dataframe thead tr:only-child th {\n",
       "        text-align: right;\n",
       "    }\n",
       "\n",
       "    .dataframe thead th {\n",
       "        text-align: left;\n",
       "    }\n",
       "\n",
       "    .dataframe tbody tr th {\n",
       "        vertical-align: top;\n",
       "    }\n",
       "</style>\n",
       "<table border=\"1\" class=\"dataframe\">\n",
       "  <thead>\n",
       "    <tr style=\"text-align: right;\">\n",
       "      <th></th>\n",
       "      <th>predict</th>\n",
       "      <th>Saleprice</th>\n",
       "    </tr>\n",
       "  </thead>\n",
       "  <tbody>\n",
       "    <tr>\n",
       "      <th>count</th>\n",
       "      <td>1459.000000</td>\n",
       "      <td>1459.000000</td>\n",
       "    </tr>\n",
       "    <tr>\n",
       "      <th>mean</th>\n",
       "      <td>11.996992</td>\n",
       "      <td>179185.185721</td>\n",
       "    </tr>\n",
       "    <tr>\n",
       "      <th>std</th>\n",
       "      <td>0.438248</td>\n",
       "      <td>85256.908014</td>\n",
       "    </tr>\n",
       "    <tr>\n",
       "      <th>min</th>\n",
       "      <td>10.821364</td>\n",
       "      <td>50079.338913</td>\n",
       "    </tr>\n",
       "    <tr>\n",
       "      <th>25%</th>\n",
       "      <td>11.688636</td>\n",
       "      <td>119209.343999</td>\n",
       "    </tr>\n",
       "    <tr>\n",
       "      <th>50%</th>\n",
       "      <td>11.948284</td>\n",
       "      <td>154551.775107</td>\n",
       "    </tr>\n",
       "    <tr>\n",
       "      <th>75%</th>\n",
       "      <td>12.300455</td>\n",
       "      <td>219795.931484</td>\n",
       "    </tr>\n",
       "    <tr>\n",
       "      <th>max</th>\n",
       "      <td>13.375369</td>\n",
       "      <td>643945.550047</td>\n",
       "    </tr>\n",
       "  </tbody>\n",
       "</table>\n",
       "</div>"
      ],
      "text/plain": [
       "           predict      Saleprice\n",
       "count  1459.000000    1459.000000\n",
       "mean     11.996992  179185.185721\n",
       "std       0.438248   85256.908014\n",
       "min      10.821364   50079.338913\n",
       "25%      11.688636  119209.343999\n",
       "50%      11.948284  154551.775107\n",
       "75%      12.300455  219795.931484\n",
       "max      13.375369  643945.550047"
      ]
     },
     "execution_count": 185,
     "metadata": {},
     "output_type": "execute_result"
    }
   ],
   "source": [
    "a.describe()"
   ]
  },
  {
   "cell_type": "markdown",
   "metadata": {},
   "source": [
    "<div class=\"alert alert-block alert-info\">\n",
    "<font color='green'>Now, we can put Id and Saleprice together, save them and submit it on Kaggle. </font>"
   ]
  },
  {
   "cell_type": "code",
   "execution_count": 186,
   "metadata": {
    "collapsed": true
   },
   "outputs": [],
   "source": [
    "Id=testa['Id']"
   ]
  },
  {
   "cell_type": "code",
   "execution_count": 187,
   "metadata": {
    "collapsed": true
   },
   "outputs": [],
   "source": [
    "SalePrice=a['Saleprice']"
   ]
  },
  {
   "cell_type": "code",
   "execution_count": 188,
   "metadata": {
    "collapsed": true
   },
   "outputs": [],
   "source": [
    "nn_model1_result=pd.concat((Id,SalePrice),axis=1)"
   ]
  },
  {
   "cell_type": "code",
   "execution_count": 189,
   "metadata": {},
   "outputs": [
    {
     "data": {
      "text/html": [
       "<div>\n",
       "<style>\n",
       "    .dataframe thead tr:only-child th {\n",
       "        text-align: right;\n",
       "    }\n",
       "\n",
       "    .dataframe thead th {\n",
       "        text-align: left;\n",
       "    }\n",
       "\n",
       "    .dataframe tbody tr th {\n",
       "        vertical-align: top;\n",
       "    }\n",
       "</style>\n",
       "<table border=\"1\" class=\"dataframe\">\n",
       "  <thead>\n",
       "    <tr style=\"text-align: right;\">\n",
       "      <th></th>\n",
       "      <th>Id</th>\n",
       "      <th>Saleprice</th>\n",
       "    </tr>\n",
       "  </thead>\n",
       "  <tbody>\n",
       "    <tr>\n",
       "      <th>0</th>\n",
       "      <td>1461</td>\n",
       "      <td>105014.710259</td>\n",
       "    </tr>\n",
       "    <tr>\n",
       "      <th>1</th>\n",
       "      <td>1462</td>\n",
       "      <td>166265.651425</td>\n",
       "    </tr>\n",
       "    <tr>\n",
       "      <th>2</th>\n",
       "      <td>1463</td>\n",
       "      <td>201842.708291</td>\n",
       "    </tr>\n",
       "    <tr>\n",
       "      <th>3</th>\n",
       "      <td>1464</td>\n",
       "      <td>207235.650082</td>\n",
       "    </tr>\n",
       "    <tr>\n",
       "      <th>4</th>\n",
       "      <td>1465</td>\n",
       "      <td>201721.653796</td>\n",
       "    </tr>\n",
       "  </tbody>\n",
       "</table>\n",
       "</div>"
      ],
      "text/plain": [
       "     Id      Saleprice\n",
       "0  1461  105014.710259\n",
       "1  1462  166265.651425\n",
       "2  1463  201842.708291\n",
       "3  1464  207235.650082\n",
       "4  1465  201721.653796"
      ]
     },
     "execution_count": 189,
     "metadata": {},
     "output_type": "execute_result"
    }
   ],
   "source": [
    "nn_model1_result.head()"
   ]
  },
  {
   "cell_type": "code",
   "execution_count": 190,
   "metadata": {
    "collapsed": true
   },
   "outputs": [],
   "source": [
    "nn_model1_result.to_csv('nn_model1_result.csv')"
   ]
  },
  {
   "cell_type": "markdown",
   "metadata": {},
   "source": [
    "### (2) Neural Network Model 2"
   ]
  },
  {
   "cell_type": "code",
   "execution_count": 191,
   "metadata": {},
   "outputs": [
    {
     "name": "stdout",
     "output_type": "stream",
     "text": [
      "deeplearning Grid Build progress: |███████████████████████████████████████| 100%\n"
     ]
    }
   ],
   "source": [
    "# NN with random hyperparameter search\n",
    "# train many different NN models with random hyperparameters\n",
    "# and select best model based on validation error\n",
    "\n",
    "# define random grid search parameters\n",
    "hyper_parameters = {'hidden':[[170, 320], [80, 190], [320, 160, 80], [100], [50, 50, 50, 50]],\n",
    "                    'l1':[s/1e4 for s in range(0, 1000, 100)],\n",
    "                    'l2':[s/1e5 for s in range(0, 1000, 100)],\n",
    "                    'input_dropout_ratio':[s/1e2 for s in range(0, 20, 2)]}\n",
    "\n",
    "# define search strategy\n",
    "search_criteria = {'strategy':'RandomDiscrete',\n",
    "                   'max_models':20,\n",
    "                   'max_runtime_secs':600}\n",
    "\n",
    "# initialize grid search\n",
    "gsearch = H2OGridSearch(H2ODeepLearningEstimator,\n",
    "                        hyper_params=hyper_parameters,\n",
    "                        search_criteria=search_criteria)\n",
    "\n",
    "# execute training w/ grid search\n",
    "gsearch.train(x=x,\n",
    "              y=y,\n",
    "              training_frame=train,\n",
    "              validation_frame=validation)\n",
    "\n",
    "# view detailed results at http://localhost:54321/flow/index.html"
   ]
  },
  {
   "cell_type": "code",
   "execution_count": 192,
   "metadata": {},
   "outputs": [
    {
     "name": "stdout",
     "output_type": "stream",
     "text": [
      "                hidden input_dropout_ratio    l1     l2  \\\n",
      "0            [80, 190]                 0.1  0.04  0.008   \n",
      "1           [170, 320]                 0.1  0.03  0.009   \n",
      "2                [100]                0.18  0.06  0.003   \n",
      "3       [320, 160, 80]                 0.1  0.03  0.003   \n",
      "4            [80, 190]                0.14  0.02    0.0   \n",
      "5                [100]                0.06  0.02    0.0   \n",
      "6            [80, 190]                0.02  0.04  0.004   \n",
      "7                [100]                0.02  0.04  0.007   \n",
      "8                [100]                0.12  0.06  0.006   \n",
      "9            [80, 190]                0.06  0.05  0.008   \n",
      "10               [100]                0.04  0.05  0.008   \n",
      "11               [100]                0.16  0.07  0.005   \n",
      "12      [320, 160, 80]                0.06  0.03  0.001   \n",
      "13      [320, 160, 80]                0.18  0.03  0.002   \n",
      "14    [50, 50, 50, 50]                 0.1  0.04  0.005   \n",
      "15           [80, 190]                 0.0  0.05  0.006   \n",
      "16      [320, 160, 80]                0.04  0.05  0.008   \n",
      "17      [320, 160, 80]                0.04  0.04  0.003   \n",
      "18    [50, 50, 50, 50]                 0.1  0.06  0.004   \n",
      "19      [320, 160, 80]                0.06  0.04  0.002   \n",
      "\n",
      "                                                                model_ids  \\\n",
      "0   Grid_DeepLearning_train_model7.hex_model_python_1522814867933_22_m...   \n",
      "1   Grid_DeepLearning_train_model7.hex_model_python_1522814867933_22_m...   \n",
      "2   Grid_DeepLearning_train_model7.hex_model_python_1522814867933_22_m...   \n",
      "3   Grid_DeepLearning_train_model7.hex_model_python_1522814867933_22_m...   \n",
      "4   Grid_DeepLearning_train_model7.hex_model_python_1522814867933_22_m...   \n",
      "5   Grid_DeepLearning_train_model7.hex_model_python_1522814867933_22_m...   \n",
      "6   Grid_DeepLearning_train_model7.hex_model_python_1522814867933_22_m...   \n",
      "7   Grid_DeepLearning_train_model7.hex_model_python_1522814867933_22_m...   \n",
      "8   Grid_DeepLearning_train_model7.hex_model_python_1522814867933_22_m...   \n",
      "9   Grid_DeepLearning_train_model7.hex_model_python_1522814867933_22_m...   \n",
      "10  Grid_DeepLearning_train_model7.hex_model_python_1522814867933_22_m...   \n",
      "11  Grid_DeepLearning_train_model7.hex_model_python_1522814867933_22_m...   \n",
      "12  Grid_DeepLearning_train_model7.hex_model_python_1522814867933_22_m...   \n",
      "13  Grid_DeepLearning_train_model7.hex_model_python_1522814867933_22_m...   \n",
      "14  Grid_DeepLearning_train_model7.hex_model_python_1522814867933_22_m...   \n",
      "15  Grid_DeepLearning_train_model7.hex_model_python_1522814867933_22_m...   \n",
      "16  Grid_DeepLearning_train_model7.hex_model_python_1522814867933_22_m...   \n",
      "17  Grid_DeepLearning_train_model7.hex_model_python_1522814867933_22_m...   \n",
      "18  Grid_DeepLearning_train_model7.hex_model_python_1522814867933_22_m...   \n",
      "19  Grid_DeepLearning_train_model7.hex_model_python_1522814867933_22_m...   \n",
      "\n",
      "       residual_deviance  \n",
      "0   0.016006709997019225  \n",
      "1   0.016179731160104488  \n",
      "2   0.016454574779092762  \n",
      "3   0.016758542189870763  \n",
      "4   0.016797660299598196  \n",
      "5     0.0168003260246975  \n",
      "6    0.01700337000178659  \n",
      "7   0.017265241559180394  \n",
      "8   0.017397439153554496  \n",
      "9    0.01743570878556999  \n",
      "10  0.017471554577412625  \n",
      "11  0.018561335535965222  \n",
      "12  0.022607509962722178  \n",
      "13  0.025286970522867075  \n",
      "14  0.025357694444629136  \n",
      "15  0.028540069792745853  \n",
      "16   0.02939650424214681  \n",
      "17  0.029943722104567493  \n",
      "18   0.02999125497926343  \n",
      "19   0.03064833820159896  \n",
      "Model Details\n",
      "=============\n",
      "H2ODeepLearningEstimator :  Deep Learning\n",
      "Model Key:  Grid_DeepLearning_train_model7.hex_model_python_1522814867933_22_model_18\n",
      "\n",
      "\n",
      "ModelMetricsRegression: deeplearning\n",
      "** Reported on train data. **\n",
      "\n",
      "MSE: 0.01646193573627623\n",
      "RMSE: 0.12830407529099078\n",
      "MAE: 0.08799338682956412\n",
      "RMSLE: 0.010063335866345299\n",
      "Mean Residual Deviance: 0.01646193573627623\n",
      "\n",
      "ModelMetricsRegression: deeplearning\n",
      "** Reported on validation data. **\n",
      "\n",
      "MSE: 0.016006709997019225\n",
      "RMSE: 0.12651762721857862\n",
      "MAE: 0.0945966498337485\n",
      "RMSLE: 0.009819853788391196\n",
      "Mean Residual Deviance: 0.016006709997019225\n",
      "Scoring History: \n"
     ]
    },
    {
     "data": {
      "text/html": [
       "<div style=\"overflow:auto\"><table style=\"width:50%\"><tr><td><b></b></td>\n",
       "<td><b>timestamp</b></td>\n",
       "<td><b>duration</b></td>\n",
       "<td><b>training_speed</b></td>\n",
       "<td><b>epochs</b></td>\n",
       "<td><b>iterations</b></td>\n",
       "<td><b>samples</b></td>\n",
       "<td><b>training_rmse</b></td>\n",
       "<td><b>training_deviance</b></td>\n",
       "<td><b>training_mae</b></td>\n",
       "<td><b>validation_rmse</b></td>\n",
       "<td><b>validation_deviance</b></td>\n",
       "<td><b>validation_mae</b></td></tr>\n",
       "<tr><td></td>\n",
       "<td>2018-04-15 23:41:15</td>\n",
       "<td> 0.000 sec</td>\n",
       "<td>None</td>\n",
       "<td>0.0</td>\n",
       "<td>0</td>\n",
       "<td>0.0</td>\n",
       "<td>nan</td>\n",
       "<td>nan</td>\n",
       "<td>nan</td>\n",
       "<td>nan</td>\n",
       "<td>nan</td>\n",
       "<td>nan</td></tr>\n",
       "<tr><td></td>\n",
       "<td>2018-04-15 23:41:16</td>\n",
       "<td> 1 min  1.093 sec</td>\n",
       "<td>4098 obs/sec</td>\n",
       "<td>1.0</td>\n",
       "<td>1</td>\n",
       "<td>1000.0</td>\n",
       "<td>0.1400253</td>\n",
       "<td>0.0196071</td>\n",
       "<td>0.1000653</td>\n",
       "<td>0.1413891</td>\n",
       "<td>0.0199909</td>\n",
       "<td>0.1073716</td></tr>\n",
       "<tr><td></td>\n",
       "<td>2018-04-15 23:41:17</td>\n",
       "<td> 1 min  2.631 sec</td>\n",
       "<td>5780 obs/sec</td>\n",
       "<td>10.0</td>\n",
       "<td>10</td>\n",
       "<td>10000.0</td>\n",
       "<td>0.1283041</td>\n",
       "<td>0.0164619</td>\n",
       "<td>0.0879934</td>\n",
       "<td>0.1265176</td>\n",
       "<td>0.0160067</td>\n",
       "<td>0.0945966</td></tr></table></div>"
      ],
      "text/plain": [
       "    timestamp            duration          training_speed    epochs    iterations    samples    training_rmse    training_deviance    training_mae    validation_rmse    validation_deviance    validation_mae\n",
       "--  -------------------  ----------------  ----------------  --------  ------------  ---------  ---------------  -------------------  --------------  -----------------  ---------------------  ----------------\n",
       "    2018-04-15 23:41:15  0.000 sec                           0         0             0          nan              nan                  nan             nan                nan                    nan\n",
       "    2018-04-15 23:41:16  1 min  1.093 sec  4098 obs/sec      1         1             1000       0.140025         0.0196071            0.100065        0.141389           0.0199909              0.107372\n",
       "    2018-04-15 23:41:17  1 min  2.631 sec  5780 obs/sec      10        10            10000      0.128304         0.0164619            0.0879934       0.126518           0.0160067              0.0945966"
      ]
     },
     "metadata": {},
     "output_type": "display_data"
    },
    {
     "name": "stdout",
     "output_type": "stream",
     "text": [
      "Variable Importances: \n"
     ]
    },
    {
     "data": {
      "text/html": [
       "<div style=\"overflow:auto\"><table style=\"width:50%\"><tr><td><b>variable</b></td>\n",
       "<td><b>relative_importance</b></td>\n",
       "<td><b>scaled_importance</b></td>\n",
       "<td><b>percentage</b></td></tr>\n",
       "<tr><td>OverallQual</td>\n",
       "<td>1.0</td>\n",
       "<td>1.0</td>\n",
       "<td>0.0135907</td></tr>\n",
       "<tr><td>OverallQual.1</td>\n",
       "<td>0.9412336</td>\n",
       "<td>0.9412336</td>\n",
       "<td>0.0127920</td></tr>\n",
       "<tr><td>TotalSF</td>\n",
       "<td>0.7951981</td>\n",
       "<td>0.7951981</td>\n",
       "<td>0.0108073</td></tr>\n",
       "<tr><td>GrLivArea.1</td>\n",
       "<td>0.7758863</td>\n",
       "<td>0.7758863</td>\n",
       "<td>0.0105448</td></tr>\n",
       "<tr><td>TotalSF.1</td>\n",
       "<td>0.6989704</td>\n",
       "<td>0.6989704</td>\n",
       "<td>0.0094995</td></tr>\n",
       "<tr><td>---</td>\n",
       "<td>---</td>\n",
       "<td>---</td>\n",
       "<td>---</td></tr>\n",
       "<tr><td>Exterior1st_Wd Sdng</td>\n",
       "<td>0.1988249</td>\n",
       "<td>0.1988249</td>\n",
       "<td>0.0027022</td></tr>\n",
       "<tr><td>MoSold_4</td>\n",
       "<td>0.1981530</td>\n",
       "<td>0.1981530</td>\n",
       "<td>0.0026930</td></tr>\n",
       "<tr><td>Neighborhood_Timber</td>\n",
       "<td>0.1974790</td>\n",
       "<td>0.1974790</td>\n",
       "<td>0.0026839</td></tr>\n",
       "<tr><td>SaleType_COD</td>\n",
       "<td>0.1924006</td>\n",
       "<td>0.1924006</td>\n",
       "<td>0.0026149</td></tr>\n",
       "<tr><td>Neighborhood_BrkSide</td>\n",
       "<td>0.1839504</td>\n",
       "<td>0.1839504</td>\n",
       "<td>0.0025000</td></tr></table></div>"
      ],
      "text/plain": [
       "variable              relative_importance    scaled_importance    percentage\n",
       "--------------------  ---------------------  -------------------  ---------------------\n",
       "OverallQual           1.0                    1.0                  0.013590673463099959\n",
       "OverallQual.1         0.9412336349487305     0.9412336349487305   0.012791998985074826\n",
       "TotalSF               0.7951980829238892     0.7951980829238892   0.010807277483501661\n",
       "GrLivArea.1           0.7758862972259521     0.7758862972259521   0.010544817310091636\n",
       "TotalSF.1             0.698970377445221      0.698970377445221    0.009499478160237726\n",
       "---                   ---                    ---                  ---\n",
       "Exterior1st_Wd Sdng   0.1988248974084854     0.1988248974084854   0.0027021642570130744\n",
       "MoSold_4              0.1981530338525772     0.1981530338525772   0.002693033178812969\n",
       "Neighborhood_Timber   0.1974789798259735     0.1974789798259735   0.0026838723306409104\n",
       "SaleType_COD          0.19240063428878784    0.19240063428878784  0.002614854194712229\n",
       "Neighborhood_BrkSide  0.18395040929317474    0.18395040929317474  0.0025000099461071263"
      ]
     },
     "metadata": {},
     "output_type": "display_data"
    },
    {
     "name": "stdout",
     "output_type": "stream",
     "text": [
      "\n",
      "See the whole table with table.as_data_frame()\n"
     ]
    },
    {
     "data": {
      "text/plain": []
     },
     "execution_count": 192,
     "metadata": {},
     "output_type": "execute_result"
    }
   ],
   "source": [
    "# show grid search results\n",
    "gsearch.show()\n",
    "\n",
    "# select best model\n",
    "nn_model2 = gsearch.get_grid()[0]\n",
    "\n",
    "# print model information\n",
    "nn_model2"
   ]
  },
  {
   "cell_type": "code",
   "execution_count": 193,
   "metadata": {},
   "outputs": [
    {
     "name": "stdout",
     "output_type": "stream",
     "text": [
      "deeplearning prediction progress: |███████████████████████████████████████| 100%\n",
      "deeplearning prediction progress: |███████████████████████████████████████| 100%\n"
     ]
    }
   ],
   "source": [
    "ert_preds1_val = nn_model2.predict(validation)\n",
    "ert_preds1_test = nn_model2.predict(test)"
   ]
  },
  {
   "cell_type": "markdown",
   "metadata": {},
   "source": [
    "<div class=\"alert alert-block alert-info\">\n",
    "<font color='green'>Below is our predicted log(SalePrice) based on our Random Forest Model. \n",
    "<br>\n",
    "We then convernt the predicted SalePrice to a data frame so that we can concatenate it with Id.</font>"
   ]
  },
  {
   "cell_type": "code",
   "execution_count": 194,
   "metadata": {
    "scrolled": true
   },
   "outputs": [
    {
     "data": {
      "text/html": [
       "<table>\n",
       "<thead>\n",
       "<tr><th style=\"text-align: right;\">  predict</th></tr>\n",
       "</thead>\n",
       "<tbody>\n",
       "<tr><td style=\"text-align: right;\">  11.673 </td></tr>\n",
       "<tr><td style=\"text-align: right;\">  11.9085</td></tr>\n",
       "<tr><td style=\"text-align: right;\">  12.0591</td></tr>\n",
       "<tr><td style=\"text-align: right;\">  12.1454</td></tr>\n",
       "<tr><td style=\"text-align: right;\">  12.2195</td></tr>\n",
       "<tr><td style=\"text-align: right;\">  12.0537</td></tr>\n",
       "<tr><td style=\"text-align: right;\">  12.0224</td></tr>\n",
       "<tr><td style=\"text-align: right;\">  12.0224</td></tr>\n",
       "<tr><td style=\"text-align: right;\">  12.2112</td></tr>\n",
       "<tr><td style=\"text-align: right;\">  11.7592</td></tr>\n",
       "</tbody>\n",
       "</table>"
      ]
     },
     "metadata": {},
     "output_type": "display_data"
    },
    {
     "data": {
      "text/plain": []
     },
     "execution_count": 194,
     "metadata": {},
     "output_type": "execute_result"
    }
   ],
   "source": [
    "ert_preds1_test.head()"
   ]
  },
  {
   "cell_type": "code",
   "execution_count": 195,
   "metadata": {
    "collapsed": true
   },
   "outputs": [],
   "source": [
    "a=ert_preds1_test.as_data_frame()"
   ]
  },
  {
   "cell_type": "code",
   "execution_count": 196,
   "metadata": {},
   "outputs": [
    {
     "data": {
      "text/html": [
       "<div>\n",
       "<style>\n",
       "    .dataframe thead tr:only-child th {\n",
       "        text-align: right;\n",
       "    }\n",
       "\n",
       "    .dataframe thead th {\n",
       "        text-align: left;\n",
       "    }\n",
       "\n",
       "    .dataframe tbody tr th {\n",
       "        vertical-align: top;\n",
       "    }\n",
       "</style>\n",
       "<table border=\"1\" class=\"dataframe\">\n",
       "  <thead>\n",
       "    <tr style=\"text-align: right;\">\n",
       "      <th></th>\n",
       "      <th>predict</th>\n",
       "    </tr>\n",
       "  </thead>\n",
       "  <tbody>\n",
       "    <tr>\n",
       "      <th>0</th>\n",
       "      <td>11.672992</td>\n",
       "    </tr>\n",
       "    <tr>\n",
       "      <th>1</th>\n",
       "      <td>11.908483</td>\n",
       "    </tr>\n",
       "    <tr>\n",
       "      <th>2</th>\n",
       "      <td>12.059070</td>\n",
       "    </tr>\n",
       "    <tr>\n",
       "      <th>3</th>\n",
       "      <td>12.145416</td>\n",
       "    </tr>\n",
       "    <tr>\n",
       "      <th>4</th>\n",
       "      <td>12.219499</td>\n",
       "    </tr>\n",
       "  </tbody>\n",
       "</table>\n",
       "</div>"
      ],
      "text/plain": [
       "     predict\n",
       "0  11.672992\n",
       "1  11.908483\n",
       "2  12.059070\n",
       "3  12.145416\n",
       "4  12.219499"
      ]
     },
     "execution_count": 196,
     "metadata": {},
     "output_type": "execute_result"
    }
   ],
   "source": [
    "a.head()"
   ]
  },
  {
   "cell_type": "markdown",
   "metadata": {},
   "source": [
    "<div class=\"alert alert-block alert-success\">\n",
    "<font color='darkblue'>Before we concatenate our Log(SalePrice) with Id, we need to convert our log(Saleprice) to Saleprice ($) </font>"
   ]
  },
  {
   "cell_type": "code",
   "execution_count": 197,
   "metadata": {
    "collapsed": true
   },
   "outputs": [],
   "source": [
    "a['Saleprice'] = np.exp(a['predict'])"
   ]
  },
  {
   "cell_type": "code",
   "execution_count": 198,
   "metadata": {},
   "outputs": [
    {
     "data": {
      "text/html": [
       "<div>\n",
       "<style>\n",
       "    .dataframe thead tr:only-child th {\n",
       "        text-align: right;\n",
       "    }\n",
       "\n",
       "    .dataframe thead th {\n",
       "        text-align: left;\n",
       "    }\n",
       "\n",
       "    .dataframe tbody tr th {\n",
       "        vertical-align: top;\n",
       "    }\n",
       "</style>\n",
       "<table border=\"1\" class=\"dataframe\">\n",
       "  <thead>\n",
       "    <tr style=\"text-align: right;\">\n",
       "      <th></th>\n",
       "      <th>predict</th>\n",
       "      <th>Saleprice</th>\n",
       "    </tr>\n",
       "  </thead>\n",
       "  <tbody>\n",
       "    <tr>\n",
       "      <th>0</th>\n",
       "      <td>11.672992</td>\n",
       "      <td>117358.916944</td>\n",
       "    </tr>\n",
       "    <tr>\n",
       "      <th>1</th>\n",
       "      <td>11.908483</td>\n",
       "      <td>148521.202279</td>\n",
       "    </tr>\n",
       "    <tr>\n",
       "      <th>2</th>\n",
       "      <td>12.059070</td>\n",
       "      <td>172658.333945</td>\n",
       "    </tr>\n",
       "    <tr>\n",
       "      <th>3</th>\n",
       "      <td>12.145416</td>\n",
       "      <td>188229.267112</td>\n",
       "    </tr>\n",
       "    <tr>\n",
       "      <th>4</th>\n",
       "      <td>12.219499</td>\n",
       "      <td>202703.321252</td>\n",
       "    </tr>\n",
       "  </tbody>\n",
       "</table>\n",
       "</div>"
      ],
      "text/plain": [
       "     predict      Saleprice\n",
       "0  11.672992  117358.916944\n",
       "1  11.908483  148521.202279\n",
       "2  12.059070  172658.333945\n",
       "3  12.145416  188229.267112\n",
       "4  12.219499  202703.321252"
      ]
     },
     "execution_count": 198,
     "metadata": {},
     "output_type": "execute_result"
    }
   ],
   "source": [
    "a.head()"
   ]
  },
  {
   "cell_type": "markdown",
   "metadata": {},
   "source": [
    "<div class=\"alert alert-block alert-info\">\n",
    "<font color='green'>Here, we can have a look at the statistics of  our predict log(SalePrice) and SalePrice.</font>"
   ]
  },
  {
   "cell_type": "code",
   "execution_count": 199,
   "metadata": {},
   "outputs": [
    {
     "data": {
      "text/html": [
       "<div>\n",
       "<style>\n",
       "    .dataframe thead tr:only-child th {\n",
       "        text-align: right;\n",
       "    }\n",
       "\n",
       "    .dataframe thead th {\n",
       "        text-align: left;\n",
       "    }\n",
       "\n",
       "    .dataframe tbody tr th {\n",
       "        vertical-align: top;\n",
       "    }\n",
       "</style>\n",
       "<table border=\"1\" class=\"dataframe\">\n",
       "  <thead>\n",
       "    <tr style=\"text-align: right;\">\n",
       "      <th></th>\n",
       "      <th>predict</th>\n",
       "      <th>Saleprice</th>\n",
       "    </tr>\n",
       "  </thead>\n",
       "  <tbody>\n",
       "    <tr>\n",
       "      <th>count</th>\n",
       "      <td>1459.000000</td>\n",
       "      <td>1.459000e+03</td>\n",
       "    </tr>\n",
       "    <tr>\n",
       "      <th>mean</th>\n",
       "      <td>12.016507</td>\n",
       "      <td>1.782141e+05</td>\n",
       "    </tr>\n",
       "    <tr>\n",
       "      <th>std</th>\n",
       "      <td>0.373162</td>\n",
       "      <td>7.873468e+04</td>\n",
       "    </tr>\n",
       "    <tr>\n",
       "      <th>min</th>\n",
       "      <td>10.958033</td>\n",
       "      <td>5.741339e+04</td>\n",
       "    </tr>\n",
       "    <tr>\n",
       "      <th>25%</th>\n",
       "      <td>11.760602</td>\n",
       "      <td>1.281046e+05</td>\n",
       "    </tr>\n",
       "    <tr>\n",
       "      <th>50%</th>\n",
       "      <td>11.956023</td>\n",
       "      <td>1.557523e+05</td>\n",
       "    </tr>\n",
       "    <tr>\n",
       "      <th>75%</th>\n",
       "      <td>12.262604</td>\n",
       "      <td>2.116319e+05</td>\n",
       "    </tr>\n",
       "    <tr>\n",
       "      <th>max</th>\n",
       "      <td>14.160120</td>\n",
       "      <td>1.411438e+06</td>\n",
       "    </tr>\n",
       "  </tbody>\n",
       "</table>\n",
       "</div>"
      ],
      "text/plain": [
       "           predict     Saleprice\n",
       "count  1459.000000  1.459000e+03\n",
       "mean     12.016507  1.782141e+05\n",
       "std       0.373162  7.873468e+04\n",
       "min      10.958033  5.741339e+04\n",
       "25%      11.760602  1.281046e+05\n",
       "50%      11.956023  1.557523e+05\n",
       "75%      12.262604  2.116319e+05\n",
       "max      14.160120  1.411438e+06"
      ]
     },
     "execution_count": 199,
     "metadata": {},
     "output_type": "execute_result"
    }
   ],
   "source": [
    "a.describe()"
   ]
  },
  {
   "cell_type": "markdown",
   "metadata": {},
   "source": [
    "<div class=\"alert alert-block alert-info\">\n",
    "<font color='green'>Now, we can put Id and Saleprice together, save them and submit it on Kaggle. </font>"
   ]
  },
  {
   "cell_type": "code",
   "execution_count": 200,
   "metadata": {
    "collapsed": true
   },
   "outputs": [],
   "source": [
    "Id=testa['Id']"
   ]
  },
  {
   "cell_type": "code",
   "execution_count": 201,
   "metadata": {
    "collapsed": true
   },
   "outputs": [],
   "source": [
    "SalePrice=a['Saleprice']"
   ]
  },
  {
   "cell_type": "code",
   "execution_count": 202,
   "metadata": {
    "collapsed": true
   },
   "outputs": [],
   "source": [
    "nn_model2_result=pd.concat((Id,SalePrice),axis=1)"
   ]
  },
  {
   "cell_type": "code",
   "execution_count": 203,
   "metadata": {},
   "outputs": [
    {
     "data": {
      "text/html": [
       "<div>\n",
       "<style>\n",
       "    .dataframe thead tr:only-child th {\n",
       "        text-align: right;\n",
       "    }\n",
       "\n",
       "    .dataframe thead th {\n",
       "        text-align: left;\n",
       "    }\n",
       "\n",
       "    .dataframe tbody tr th {\n",
       "        vertical-align: top;\n",
       "    }\n",
       "</style>\n",
       "<table border=\"1\" class=\"dataframe\">\n",
       "  <thead>\n",
       "    <tr style=\"text-align: right;\">\n",
       "      <th></th>\n",
       "      <th>Id</th>\n",
       "      <th>Saleprice</th>\n",
       "    </tr>\n",
       "  </thead>\n",
       "  <tbody>\n",
       "    <tr>\n",
       "      <th>0</th>\n",
       "      <td>1461</td>\n",
       "      <td>117358.916944</td>\n",
       "    </tr>\n",
       "    <tr>\n",
       "      <th>1</th>\n",
       "      <td>1462</td>\n",
       "      <td>148521.202279</td>\n",
       "    </tr>\n",
       "    <tr>\n",
       "      <th>2</th>\n",
       "      <td>1463</td>\n",
       "      <td>172658.333945</td>\n",
       "    </tr>\n",
       "    <tr>\n",
       "      <th>3</th>\n",
       "      <td>1464</td>\n",
       "      <td>188229.267112</td>\n",
       "    </tr>\n",
       "    <tr>\n",
       "      <th>4</th>\n",
       "      <td>1465</td>\n",
       "      <td>202703.321252</td>\n",
       "    </tr>\n",
       "  </tbody>\n",
       "</table>\n",
       "</div>"
      ],
      "text/plain": [
       "     Id      Saleprice\n",
       "0  1461  117358.916944\n",
       "1  1462  148521.202279\n",
       "2  1463  172658.333945\n",
       "3  1464  188229.267112\n",
       "4  1465  202703.321252"
      ]
     },
     "execution_count": 203,
     "metadata": {},
     "output_type": "execute_result"
    }
   ],
   "source": [
    "nn_model2_result.head()"
   ]
  },
  {
   "cell_type": "code",
   "execution_count": 204,
   "metadata": {
    "collapsed": true
   },
   "outputs": [],
   "source": [
    "nn_model2_result.to_csv('nn_model2_result.csv')"
   ]
  },
  {
   "cell_type": "markdown",
   "metadata": {},
   "source": [
    "## 4. Deep Learning"
   ]
  },
  {
   "cell_type": "code",
   "execution_count": 127,
   "metadata": {},
   "outputs": [],
   "source": [
    "from h2o.estimators.deeplearning import H2OAutoEncoderEstimator, H2ODeepLearningEstimator"
   ]
  },
  {
   "cell_type": "markdown",
   "metadata": {},
   "source": [
    "### (1) Deep Learning Model 1 "
   ]
  },
  {
   "cell_type": "code",
   "execution_count": 146,
   "metadata": {},
   "outputs": [
    {
     "name": "stdout",
     "output_type": "stream",
     "text": [
      "deeplearning Model Build progress: |██████████████████████████████████████| 100%\n"
     ]
    }
   ],
   "source": [
    "DL_model1 = H2ODeepLearningEstimator(\n",
    "    model_id=\"model_1\", \n",
    "    hidden=[32,32,32],                  ## small network, runs faster\n",
    "    epochs=1000000,                      ## hopefully converges earlier...\n",
    "    score_validation_samples=10000,      ## sample the validation dataset (faster)\n",
    "    stopping_rounds=2,\n",
    "    standardize = True,\n",
    "    stopping_metric=\"MSE\", ## alternatives: \"MSE\",\"logloss\",\"r2\"\n",
    "    stopping_tolerance=0.01)\n",
    "DL_model1.train(x, y, training_frame=train, validation_frame=validation)"
   ]
  },
  {
   "cell_type": "code",
   "execution_count": 147,
   "metadata": {},
   "outputs": [
    {
     "name": "stdout",
     "output_type": "stream",
     "text": [
      "Model Details\n",
      "=============\n",
      "H2ODeepLearningEstimator :  Deep Learning\n",
      "Model Key:  model_1\n",
      "\n",
      "\n",
      "ModelMetricsRegression: deeplearning\n",
      "** Reported on train data. **\n",
      "\n",
      "MSE: 0.0001425507339845657\n",
      "RMSE: 0.011939461209977848\n",
      "MAE: 0.009120179552901557\n",
      "RMSLE: 0.0009190378073610905\n",
      "Mean Residual Deviance: 0.0001425507339845657\n",
      "\n",
      "ModelMetricsRegression: deeplearning\n",
      "** Reported on validation data. **\n",
      "\n",
      "MSE: 0.016069824330872017\n",
      "RMSE: 0.12676681084129243\n",
      "MAE: 0.09208236009823263\n",
      "RMSLE: 0.009804106370874057\n",
      "Mean Residual Deviance: 0.016069824330872017\n",
      "Scoring History: \n"
     ]
    },
    {
     "data": {
      "text/html": [
       "<div style=\"overflow:auto\"><table style=\"width:50%\"><tr><td><b></b></td>\n",
       "<td><b>timestamp</b></td>\n",
       "<td><b>duration</b></td>\n",
       "<td><b>training_speed</b></td>\n",
       "<td><b>epochs</b></td>\n",
       "<td><b>iterations</b></td>\n",
       "<td><b>samples</b></td>\n",
       "<td><b>training_rmse</b></td>\n",
       "<td><b>training_deviance</b></td>\n",
       "<td><b>training_mae</b></td>\n",
       "<td><b>validation_rmse</b></td>\n",
       "<td><b>validation_deviance</b></td>\n",
       "<td><b>validation_mae</b></td></tr>\n",
       "<tr><td></td>\n",
       "<td>2018-04-16 00:44:44</td>\n",
       "<td> 0.000 sec</td>\n",
       "<td>None</td>\n",
       "<td>0.0</td>\n",
       "<td>0</td>\n",
       "<td>0.0</td>\n",
       "<td>nan</td>\n",
       "<td>nan</td>\n",
       "<td>nan</td>\n",
       "<td>nan</td>\n",
       "<td>nan</td>\n",
       "<td>nan</td></tr>\n",
       "<tr><td></td>\n",
       "<td>2018-04-16 00:44:45</td>\n",
       "<td> 0.333 sec</td>\n",
       "<td>31446 obs/sec</td>\n",
       "<td>10.0</td>\n",
       "<td>1</td>\n",
       "<td>10000.0</td>\n",
       "<td>0.1049364</td>\n",
       "<td>0.0110116</td>\n",
       "<td>0.0757125</td>\n",
       "<td>0.1375934</td>\n",
       "<td>0.0189319</td>\n",
       "<td>0.1025338</td></tr>\n",
       "<tr><td></td>\n",
       "<td>2018-04-16 00:44:50</td>\n",
       "<td> 5.471 sec</td>\n",
       "<td>44085 obs/sec</td>\n",
       "<td>240.0</td>\n",
       "<td>24</td>\n",
       "<td>240000.0</td>\n",
       "<td>0.0212897</td>\n",
       "<td>0.0004533</td>\n",
       "<td>0.0164955</td>\n",
       "<td>0.1270929</td>\n",
       "<td>0.0161526</td>\n",
       "<td>0.0922470</td></tr>\n",
       "<tr><td></td>\n",
       "<td>2018-04-16 00:44:55</td>\n",
       "<td>10.547 sec</td>\n",
       "<td>40905 obs/sec</td>\n",
       "<td>430.0</td>\n",
       "<td>43</td>\n",
       "<td>430000.0</td>\n",
       "<td>0.0119395</td>\n",
       "<td>0.0001426</td>\n",
       "<td>0.0091202</td>\n",
       "<td>0.1267668</td>\n",
       "<td>0.0160698</td>\n",
       "<td>0.0920824</td></tr>\n",
       "<tr><td></td>\n",
       "<td>2018-04-16 00:45:00</td>\n",
       "<td>15.570 sec</td>\n",
       "<td>45726 obs/sec</td>\n",
       "<td>710.0</td>\n",
       "<td>71</td>\n",
       "<td>710000.0</td>\n",
       "<td>0.0091956</td>\n",
       "<td>0.0000846</td>\n",
       "<td>0.0071976</td>\n",
       "<td>0.1268737</td>\n",
       "<td>0.0160969</td>\n",
       "<td>0.0912907</td></tr>\n",
       "<tr><td></td>\n",
       "<td>2018-04-16 00:45:05</td>\n",
       "<td>20.669 sec</td>\n",
       "<td>47533 obs/sec</td>\n",
       "<td>980.0</td>\n",
       "<td>98</td>\n",
       "<td>980000.0</td>\n",
       "<td>0.0087044</td>\n",
       "<td>0.0000758</td>\n",
       "<td>0.0067141</td>\n",
       "<td>0.1279110</td>\n",
       "<td>0.0163612</td>\n",
       "<td>0.0922024</td></tr>\n",
       "<tr><td></td>\n",
       "<td>2018-04-16 00:45:05</td>\n",
       "<td>20.681 sec</td>\n",
       "<td>47526 obs/sec</td>\n",
       "<td>980.0</td>\n",
       "<td>98</td>\n",
       "<td>980000.0</td>\n",
       "<td>0.0119395</td>\n",
       "<td>0.0001426</td>\n",
       "<td>0.0091202</td>\n",
       "<td>0.1267668</td>\n",
       "<td>0.0160698</td>\n",
       "<td>0.0920824</td></tr></table></div>"
      ],
      "text/plain": [
       "    timestamp            duration    training_speed    epochs    iterations    samples    training_rmse    training_deviance    training_mae    validation_rmse    validation_deviance    validation_mae\n",
       "--  -------------------  ----------  ----------------  --------  ------------  ---------  ---------------  -------------------  --------------  -----------------  ---------------------  ----------------\n",
       "    2018-04-16 00:44:44  0.000 sec                     0         0             0          nan              nan                  nan             nan                nan                    nan\n",
       "    2018-04-16 00:44:45  0.333 sec   31446 obs/sec     10        1             10000      0.104936         0.0110116            0.0757125       0.137593           0.0189319              0.102534\n",
       "    2018-04-16 00:44:50  5.471 sec   44085 obs/sec     240       24            240000     0.0212897        0.000453251          0.0164955       0.127093           0.0161526              0.092247\n",
       "    2018-04-16 00:44:55  10.547 sec  40905 obs/sec     430       43            430000     0.0119395        0.000142551          0.00912018      0.126767           0.0160698              0.0920824\n",
       "    2018-04-16 00:45:00  15.570 sec  45726 obs/sec     710       71            710000     0.00919562       8.45595e-05          0.00719761      0.126874           0.0160969              0.0912907\n",
       "    2018-04-16 00:45:05  20.669 sec  47533 obs/sec     980       98            980000     0.00870441       7.57668e-05          0.00671407      0.127911           0.0163612              0.0922024\n",
       "    2018-04-16 00:45:05  20.681 sec  47526 obs/sec     980       98            980000     0.0119395        0.000142551          0.00912018      0.126767           0.0160698              0.0920824"
      ]
     },
     "metadata": {},
     "output_type": "display_data"
    },
    {
     "name": "stdout",
     "output_type": "stream",
     "text": [
      "Variable Importances: \n"
     ]
    },
    {
     "data": {
      "text/html": [
       "<div style=\"overflow:auto\"><table style=\"width:50%\"><tr><td><b>variable</b></td>\n",
       "<td><b>relative_importance</b></td>\n",
       "<td><b>scaled_importance</b></td>\n",
       "<td><b>percentage</b></td></tr>\n",
       "<tr><td>YrSold</td>\n",
       "<td>1.0</td>\n",
       "<td>1.0</td>\n",
       "<td>0.0088141</td></tr>\n",
       "<tr><td>FullBath</td>\n",
       "<td>0.9651597</td>\n",
       "<td>0.9651597</td>\n",
       "<td>0.0085070</td></tr>\n",
       "<tr><td>LotShape</td>\n",
       "<td>0.9539075</td>\n",
       "<td>0.9539075</td>\n",
       "<td>0.0084078</td></tr>\n",
       "<tr><td>SaleCondition.Normal</td>\n",
       "<td>0.9444706</td>\n",
       "<td>0.9444706</td>\n",
       "<td>0.0083246</td></tr>\n",
       "<tr><td>LotArea</td>\n",
       "<td>0.9341574</td>\n",
       "<td>0.9341574</td>\n",
       "<td>0.0082337</td></tr>\n",
       "<tr><td>---</td>\n",
       "<td>---</td>\n",
       "<td>---</td>\n",
       "<td>---</td></tr>\n",
       "<tr><td>Heating.missing(NA)</td>\n",
       "<td>0.0</td>\n",
       "<td>0.0</td>\n",
       "<td>0.0</td></tr>\n",
       "<tr><td>LandContour.missing(NA)</td>\n",
       "<td>0.0</td>\n",
       "<td>0.0</td>\n",
       "<td>0.0</td></tr>\n",
       "<tr><td>CentralAir.missing(NA)</td>\n",
       "<td>0.0</td>\n",
       "<td>0.0</td>\n",
       "<td>0.0</td></tr>\n",
       "<tr><td>Street.missing(NA)</td>\n",
       "<td>0.0</td>\n",
       "<td>0.0</td>\n",
       "<td>0.0</td></tr>\n",
       "<tr><td>Utilities.missing(NA)</td>\n",
       "<td>0.0</td>\n",
       "<td>0.0</td>\n",
       "<td>0.0</td></tr></table></div>"
      ],
      "text/plain": [
       "variable                 relative_importance    scaled_importance    percentage\n",
       "-----------------------  ---------------------  -------------------  --------------------\n",
       "YrSold                   1.0                    1.0                  0.008814081984757471\n",
       "FullBath                 0.9651597142219543     0.9651597142219543   0.008506996849537398\n",
       "LotShape                 0.9539074897766113     0.9539074897766113   0.008407818820765252\n",
       "SaleCondition.Normal     0.9444705843925476     0.9444705843925476   0.008324641163027715\n",
       "LotArea                  0.9341573715209961     0.9341573715209961   0.008233739659251605\n",
       "---                      ---                    ---                  ---\n",
       "Heating.missing(NA)      0.0                    0.0                  0.0\n",
       "LandContour.missing(NA)  0.0                    0.0                  0.0\n",
       "CentralAir.missing(NA)   0.0                    0.0                  0.0\n",
       "Street.missing(NA)       0.0                    0.0                  0.0\n",
       "Utilities.missing(NA)    0.0                    0.0                  0.0"
      ]
     },
     "metadata": {},
     "output_type": "display_data"
    },
    {
     "name": "stdout",
     "output_type": "stream",
     "text": [
      "\n",
      "See the whole table with table.as_data_frame()\n"
     ]
    },
    {
     "data": {
      "text/plain": []
     },
     "execution_count": 147,
     "metadata": {},
     "output_type": "execute_result"
    }
   ],
   "source": [
    "DL_model1"
   ]
  },
  {
   "cell_type": "code",
   "execution_count": 208,
   "metadata": {},
   "outputs": [
    {
     "name": "stdout",
     "output_type": "stream",
     "text": [
      "deeplearning prediction progress: |███████████████████████████████████████| 100%\n",
      "deeplearning prediction progress: |███████████████████████████████████████| 100%\n"
     ]
    }
   ],
   "source": [
    "ert_preds1_val = DL_model1.predict(validation)\n",
    "ert_preds1_test = DL_model1.predict(test)"
   ]
  },
  {
   "cell_type": "markdown",
   "metadata": {},
   "source": [
    "<div class=\"alert alert-block alert-info\">\n",
    "<font color='green'>Below is our predicted log(SalePrice) based on our Random Forest Model. \n",
    "<br>\n",
    "We then convernt the predicted SalePrice to a data frame so that we can concatenate it with Id.</font>"
   ]
  },
  {
   "cell_type": "code",
   "execution_count": 209,
   "metadata": {
    "scrolled": true
   },
   "outputs": [
    {
     "data": {
      "text/html": [
       "<table>\n",
       "<thead>\n",
       "<tr><th style=\"text-align: right;\">  predict</th></tr>\n",
       "</thead>\n",
       "<tbody>\n",
       "<tr><td style=\"text-align: right;\">  11.682 </td></tr>\n",
       "<tr><td style=\"text-align: right;\">  12.0308</td></tr>\n",
       "<tr><td style=\"text-align: right;\">  12.094 </td></tr>\n",
       "<tr><td style=\"text-align: right;\">  12.191 </td></tr>\n",
       "<tr><td style=\"text-align: right;\">  11.9904</td></tr>\n",
       "<tr><td style=\"text-align: right;\">  11.9677</td></tr>\n",
       "<tr><td style=\"text-align: right;\">  12.0815</td></tr>\n",
       "<tr><td style=\"text-align: right;\">  11.9964</td></tr>\n",
       "<tr><td style=\"text-align: right;\">  12.2132</td></tr>\n",
       "<tr><td style=\"text-align: right;\">  11.7623</td></tr>\n",
       "</tbody>\n",
       "</table>"
      ]
     },
     "metadata": {},
     "output_type": "display_data"
    },
    {
     "data": {
      "text/plain": []
     },
     "execution_count": 209,
     "metadata": {},
     "output_type": "execute_result"
    }
   ],
   "source": [
    "ert_preds1_test.head()"
   ]
  },
  {
   "cell_type": "code",
   "execution_count": 210,
   "metadata": {
    "collapsed": true
   },
   "outputs": [],
   "source": [
    "a=ert_preds1_test.as_data_frame()"
   ]
  },
  {
   "cell_type": "code",
   "execution_count": 211,
   "metadata": {},
   "outputs": [
    {
     "data": {
      "text/html": [
       "<div>\n",
       "<style>\n",
       "    .dataframe thead tr:only-child th {\n",
       "        text-align: right;\n",
       "    }\n",
       "\n",
       "    .dataframe thead th {\n",
       "        text-align: left;\n",
       "    }\n",
       "\n",
       "    .dataframe tbody tr th {\n",
       "        vertical-align: top;\n",
       "    }\n",
       "</style>\n",
       "<table border=\"1\" class=\"dataframe\">\n",
       "  <thead>\n",
       "    <tr style=\"text-align: right;\">\n",
       "      <th></th>\n",
       "      <th>predict</th>\n",
       "    </tr>\n",
       "  </thead>\n",
       "  <tbody>\n",
       "    <tr>\n",
       "      <th>0</th>\n",
       "      <td>11.681971</td>\n",
       "    </tr>\n",
       "    <tr>\n",
       "      <th>1</th>\n",
       "      <td>12.030809</td>\n",
       "    </tr>\n",
       "    <tr>\n",
       "      <th>2</th>\n",
       "      <td>12.094041</td>\n",
       "    </tr>\n",
       "    <tr>\n",
       "      <th>3</th>\n",
       "      <td>12.191030</td>\n",
       "    </tr>\n",
       "    <tr>\n",
       "      <th>4</th>\n",
       "      <td>11.990378</td>\n",
       "    </tr>\n",
       "  </tbody>\n",
       "</table>\n",
       "</div>"
      ],
      "text/plain": [
       "     predict\n",
       "0  11.681971\n",
       "1  12.030809\n",
       "2  12.094041\n",
       "3  12.191030\n",
       "4  11.990378"
      ]
     },
     "execution_count": 211,
     "metadata": {},
     "output_type": "execute_result"
    }
   ],
   "source": [
    "a.head()"
   ]
  },
  {
   "cell_type": "markdown",
   "metadata": {},
   "source": [
    "<div class=\"alert alert-block alert-success\">\n",
    "<font color='darkblue'>Before we concatenate our Log(SalePrice) with Id, we need to convert our log(Saleprice) to Saleprice ($) </font>"
   ]
  },
  {
   "cell_type": "code",
   "execution_count": 212,
   "metadata": {
    "collapsed": true
   },
   "outputs": [],
   "source": [
    "a['Saleprice'] = np.exp(a['predict'])"
   ]
  },
  {
   "cell_type": "code",
   "execution_count": 213,
   "metadata": {},
   "outputs": [
    {
     "data": {
      "text/html": [
       "<div>\n",
       "<style>\n",
       "    .dataframe thead tr:only-child th {\n",
       "        text-align: right;\n",
       "    }\n",
       "\n",
       "    .dataframe thead th {\n",
       "        text-align: left;\n",
       "    }\n",
       "\n",
       "    .dataframe tbody tr th {\n",
       "        vertical-align: top;\n",
       "    }\n",
       "</style>\n",
       "<table border=\"1\" class=\"dataframe\">\n",
       "  <thead>\n",
       "    <tr style=\"text-align: right;\">\n",
       "      <th></th>\n",
       "      <th>predict</th>\n",
       "      <th>Saleprice</th>\n",
       "    </tr>\n",
       "  </thead>\n",
       "  <tbody>\n",
       "    <tr>\n",
       "      <th>0</th>\n",
       "      <td>11.681971</td>\n",
       "      <td>118417.384900</td>\n",
       "    </tr>\n",
       "    <tr>\n",
       "      <th>1</th>\n",
       "      <td>12.030809</td>\n",
       "      <td>167847.204998</td>\n",
       "    </tr>\n",
       "    <tr>\n",
       "      <th>2</th>\n",
       "      <td>12.094041</td>\n",
       "      <td>178803.155848</td>\n",
       "    </tr>\n",
       "    <tr>\n",
       "      <th>3</th>\n",
       "      <td>12.191030</td>\n",
       "      <td>197013.917766</td>\n",
       "    </tr>\n",
       "    <tr>\n",
       "      <th>4</th>\n",
       "      <td>11.990378</td>\n",
       "      <td>161196.208729</td>\n",
       "    </tr>\n",
       "  </tbody>\n",
       "</table>\n",
       "</div>"
      ],
      "text/plain": [
       "     predict      Saleprice\n",
       "0  11.681971  118417.384900\n",
       "1  12.030809  167847.204998\n",
       "2  12.094041  178803.155848\n",
       "3  12.191030  197013.917766\n",
       "4  11.990378  161196.208729"
      ]
     },
     "execution_count": 213,
     "metadata": {},
     "output_type": "execute_result"
    }
   ],
   "source": [
    "a.head()"
   ]
  },
  {
   "cell_type": "markdown",
   "metadata": {},
   "source": [
    "<div class=\"alert alert-block alert-info\">\n",
    "<font color='green'>Here, we can have a look at the statistics of  our predict log(SalePrice) and SalePrice.</font>"
   ]
  },
  {
   "cell_type": "code",
   "execution_count": 214,
   "metadata": {},
   "outputs": [
    {
     "data": {
      "text/html": [
       "<div>\n",
       "<style>\n",
       "    .dataframe thead tr:only-child th {\n",
       "        text-align: right;\n",
       "    }\n",
       "\n",
       "    .dataframe thead th {\n",
       "        text-align: left;\n",
       "    }\n",
       "\n",
       "    .dataframe tbody tr th {\n",
       "        vertical-align: top;\n",
       "    }\n",
       "</style>\n",
       "<table border=\"1\" class=\"dataframe\">\n",
       "  <thead>\n",
       "    <tr style=\"text-align: right;\">\n",
       "      <th></th>\n",
       "      <th>predict</th>\n",
       "      <th>Saleprice</th>\n",
       "    </tr>\n",
       "  </thead>\n",
       "  <tbody>\n",
       "    <tr>\n",
       "      <th>count</th>\n",
       "      <td>1459.000000</td>\n",
       "      <td>1.459000e+03</td>\n",
       "    </tr>\n",
       "    <tr>\n",
       "      <th>mean</th>\n",
       "      <td>12.035139</td>\n",
       "      <td>1.830722e+05</td>\n",
       "    </tr>\n",
       "    <tr>\n",
       "      <th>std</th>\n",
       "      <td>0.394690</td>\n",
       "      <td>8.464124e+04</td>\n",
       "    </tr>\n",
       "    <tr>\n",
       "      <th>min</th>\n",
       "      <td>10.524466</td>\n",
       "      <td>3.721497e+04</td>\n",
       "    </tr>\n",
       "    <tr>\n",
       "      <th>25%</th>\n",
       "      <td>11.777470</td>\n",
       "      <td>1.302837e+05</td>\n",
       "    </tr>\n",
       "    <tr>\n",
       "      <th>50%</th>\n",
       "      <td>11.998312</td>\n",
       "      <td>1.624803e+05</td>\n",
       "    </tr>\n",
       "    <tr>\n",
       "      <th>75%</th>\n",
       "      <td>12.268374</td>\n",
       "      <td>2.128565e+05</td>\n",
       "    </tr>\n",
       "    <tr>\n",
       "      <th>max</th>\n",
       "      <td>14.114049</td>\n",
       "      <td>1.347887e+06</td>\n",
       "    </tr>\n",
       "  </tbody>\n",
       "</table>\n",
       "</div>"
      ],
      "text/plain": [
       "           predict     Saleprice\n",
       "count  1459.000000  1.459000e+03\n",
       "mean     12.035139  1.830722e+05\n",
       "std       0.394690  8.464124e+04\n",
       "min      10.524466  3.721497e+04\n",
       "25%      11.777470  1.302837e+05\n",
       "50%      11.998312  1.624803e+05\n",
       "75%      12.268374  2.128565e+05\n",
       "max      14.114049  1.347887e+06"
      ]
     },
     "execution_count": 214,
     "metadata": {},
     "output_type": "execute_result"
    }
   ],
   "source": [
    "a.describe()"
   ]
  },
  {
   "cell_type": "markdown",
   "metadata": {},
   "source": [
    "<div class=\"alert alert-block alert-info\">\n",
    "<font color='green'>Now, we can put Id and Saleprice together, save them and submit it on Kaggle. </font>"
   ]
  },
  {
   "cell_type": "code",
   "execution_count": 215,
   "metadata": {
    "collapsed": true
   },
   "outputs": [],
   "source": [
    "Id=testa['Id']"
   ]
  },
  {
   "cell_type": "code",
   "execution_count": 216,
   "metadata": {
    "collapsed": true
   },
   "outputs": [],
   "source": [
    "SalePrice=a['Saleprice']"
   ]
  },
  {
   "cell_type": "code",
   "execution_count": 217,
   "metadata": {
    "collapsed": true
   },
   "outputs": [],
   "source": [
    "DL_model1_result=pd.concat((Id,SalePrice),axis=1)"
   ]
  },
  {
   "cell_type": "code",
   "execution_count": 218,
   "metadata": {},
   "outputs": [
    {
     "data": {
      "text/html": [
       "<div>\n",
       "<style>\n",
       "    .dataframe thead tr:only-child th {\n",
       "        text-align: right;\n",
       "    }\n",
       "\n",
       "    .dataframe thead th {\n",
       "        text-align: left;\n",
       "    }\n",
       "\n",
       "    .dataframe tbody tr th {\n",
       "        vertical-align: top;\n",
       "    }\n",
       "</style>\n",
       "<table border=\"1\" class=\"dataframe\">\n",
       "  <thead>\n",
       "    <tr style=\"text-align: right;\">\n",
       "      <th></th>\n",
       "      <th>Id</th>\n",
       "      <th>Saleprice</th>\n",
       "    </tr>\n",
       "  </thead>\n",
       "  <tbody>\n",
       "    <tr>\n",
       "      <th>0</th>\n",
       "      <td>1461</td>\n",
       "      <td>118417.384900</td>\n",
       "    </tr>\n",
       "    <tr>\n",
       "      <th>1</th>\n",
       "      <td>1462</td>\n",
       "      <td>167847.204998</td>\n",
       "    </tr>\n",
       "    <tr>\n",
       "      <th>2</th>\n",
       "      <td>1463</td>\n",
       "      <td>178803.155848</td>\n",
       "    </tr>\n",
       "    <tr>\n",
       "      <th>3</th>\n",
       "      <td>1464</td>\n",
       "      <td>197013.917766</td>\n",
       "    </tr>\n",
       "    <tr>\n",
       "      <th>4</th>\n",
       "      <td>1465</td>\n",
       "      <td>161196.208729</td>\n",
       "    </tr>\n",
       "  </tbody>\n",
       "</table>\n",
       "</div>"
      ],
      "text/plain": [
       "     Id      Saleprice\n",
       "0  1461  118417.384900\n",
       "1  1462  167847.204998\n",
       "2  1463  178803.155848\n",
       "3  1464  197013.917766\n",
       "4  1465  161196.208729"
      ]
     },
     "execution_count": 218,
     "metadata": {},
     "output_type": "execute_result"
    }
   ],
   "source": [
    "DL_model1_result.head()"
   ]
  },
  {
   "cell_type": "code",
   "execution_count": 219,
   "metadata": {
    "collapsed": true
   },
   "outputs": [],
   "source": [
    "DL_model1_result.to_csv('DL_model1_result.csv')"
   ]
  },
  {
   "cell_type": "markdown",
   "metadata": {},
   "source": [
    "### (2) Deep Learning Model 2"
   ]
  },
  {
   "cell_type": "code",
   "execution_count": 220,
   "metadata": {},
   "outputs": [
    {
     "name": "stdout",
     "output_type": "stream",
     "text": [
      "deeplearning Model Build progress: |██████████████████████████████████████| 100%\n"
     ]
    }
   ],
   "source": [
    "DL_model2 = H2ODeepLearningEstimator(\n",
    "    model_id=\"model_1\",\n",
    "    stopping_metric = \"RMSE\",\n",
    "    epochs = 300, \n",
    "    hidden = [128,128,128,200],\n",
    "    stopping_rounds=2,\n",
    "    nfolds = 3)\n",
    "DL_model2.train(x, y, training_frame=train, validation_frame=validation)"
   ]
  },
  {
   "cell_type": "code",
   "execution_count": 221,
   "metadata": {},
   "outputs": [
    {
     "name": "stdout",
     "output_type": "stream",
     "text": [
      "Model Details\n",
      "=============\n",
      "H2ODeepLearningEstimator :  Deep Learning\n",
      "Model Key:  model_1\n",
      "\n",
      "\n",
      "ModelMetricsRegression: deeplearning\n",
      "** Reported on train data. **\n",
      "\n",
      "MSE: 0.00021855200689337357\n",
      "RMSE: 0.014783504553838835\n",
      "MAE: 0.01101875998482794\n",
      "RMSLE: 0.0011467400339275331\n",
      "Mean Residual Deviance: 0.00021855200689337357\n",
      "\n",
      "ModelMetricsRegression: deeplearning\n",
      "** Reported on validation data. **\n",
      "\n",
      "MSE: 0.013111349891520989\n",
      "RMSE: 0.11450480291900855\n",
      "MAE: 0.08236987861587916\n",
      "RMSLE: 0.00883957802383225\n",
      "Mean Residual Deviance: 0.013111349891520989\n",
      "\n",
      "ModelMetricsRegression: deeplearning\n",
      "** Reported on cross-validation data. **\n",
      "\n",
      "MSE: 0.016474235044090624\n",
      "RMSE: 0.12835199665019092\n",
      "MAE: 0.0855294531742791\n",
      "RMSLE: 0.010092115536206148\n",
      "Mean Residual Deviance: 0.016474235044090624\n",
      "Cross-Validation Metrics Summary: \n"
     ]
    },
    {
     "data": {
      "text/html": [
       "<div style=\"overflow:auto\"><table style=\"width:50%\"><tr><td><b></b></td>\n",
       "<td><b>mean</b></td>\n",
       "<td><b>sd</b></td>\n",
       "<td><b>cv_1_valid</b></td>\n",
       "<td><b>cv_2_valid</b></td>\n",
       "<td><b>cv_3_valid</b></td></tr>\n",
       "<tr><td>mae</td>\n",
       "<td>0.0855393</td>\n",
       "<td>0.0004097</td>\n",
       "<td>0.0863161</td>\n",
       "<td>0.0849252</td>\n",
       "<td>0.0853767</td></tr>\n",
       "<tr><td>mean_residual_deviance</td>\n",
       "<td>0.0164836</td>\n",
       "<td>0.0005854</td>\n",
       "<td>0.0176422</td>\n",
       "<td>0.0160509</td>\n",
       "<td>0.0157578</td></tr>\n",
       "<tr><td>mse</td>\n",
       "<td>0.0164836</td>\n",
       "<td>0.0005854</td>\n",
       "<td>0.0176422</td>\n",
       "<td>0.0160509</td>\n",
       "<td>0.0157578</td></tr>\n",
       "<tr><td>r2</td>\n",
       "<td>0.8989599</td>\n",
       "<td>0.0076920</td>\n",
       "<td>0.8843541</td>\n",
       "<td>0.9104463</td>\n",
       "<td>0.9020792</td></tr>\n",
       "<tr><td>residual_deviance</td>\n",
       "<td>0.0164836</td>\n",
       "<td>0.0005854</td>\n",
       "<td>0.0176422</td>\n",
       "<td>0.0160509</td>\n",
       "<td>0.0157578</td></tr>\n",
       "<tr><td>rmse</td>\n",
       "<td>0.1283487</td>\n",
       "<td>0.0022625</td>\n",
       "<td>0.1328238</td>\n",
       "<td>0.1266922</td>\n",
       "<td>0.1255301</td></tr>\n",
       "<tr><td>rmsle</td>\n",
       "<td>0.0100911</td>\n",
       "<td>0.0001939</td>\n",
       "<td>0.0104659</td>\n",
       "<td>0.0099898</td>\n",
       "<td>0.0098174</td></tr></table></div>"
      ],
      "text/plain": [
       "                        mean       sd           cv_1_valid    cv_2_valid    cv_3_valid\n",
       "----------------------  ---------  -----------  ------------  ------------  ------------\n",
       "mae                     0.0855393  0.000409684  0.0863161     0.0849252     0.0853767\n",
       "mean_residual_deviance  0.0164836  0.000585412  0.0176422     0.0160509     0.0157578\n",
       "mse                     0.0164836  0.000585412  0.0176422     0.0160509     0.0157578\n",
       "r2                      0.89896    0.00769198   0.884354      0.910446      0.902079\n",
       "residual_deviance       0.0164836  0.000585412  0.0176422     0.0160509     0.0157578\n",
       "rmse                    0.128349   0.00226255   0.132824      0.126692      0.12553\n",
       "rmsle                   0.0100911  0.000193943  0.0104659     0.00998983    0.00981738"
      ]
     },
     "metadata": {},
     "output_type": "display_data"
    },
    {
     "name": "stdout",
     "output_type": "stream",
     "text": [
      "Scoring History: \n"
     ]
    },
    {
     "data": {
      "text/html": [
       "<div style=\"overflow:auto\"><table style=\"width:50%\"><tr><td><b></b></td>\n",
       "<td><b>timestamp</b></td>\n",
       "<td><b>duration</b></td>\n",
       "<td><b>training_speed</b></td>\n",
       "<td><b>epochs</b></td>\n",
       "<td><b>iterations</b></td>\n",
       "<td><b>samples</b></td>\n",
       "<td><b>training_rmse</b></td>\n",
       "<td><b>training_deviance</b></td>\n",
       "<td><b>training_mae</b></td>\n",
       "<td><b>validation_rmse</b></td>\n",
       "<td><b>validation_deviance</b></td>\n",
       "<td><b>validation_mae</b></td></tr>\n",
       "<tr><td></td>\n",
       "<td>2018-04-15 23:44:35</td>\n",
       "<td> 0.000 sec</td>\n",
       "<td>None</td>\n",
       "<td>0.0</td>\n",
       "<td>0</td>\n",
       "<td>0.0</td>\n",
       "<td>nan</td>\n",
       "<td>nan</td>\n",
       "<td>nan</td>\n",
       "<td>nan</td>\n",
       "<td>nan</td>\n",
       "<td>nan</td></tr>\n",
       "<tr><td></td>\n",
       "<td>2018-04-15 23:44:43</td>\n",
       "<td> 2 min 48.233 sec</td>\n",
       "<td>1186 obs/sec</td>\n",
       "<td>10.0</td>\n",
       "<td>1</td>\n",
       "<td>10000.0</td>\n",
       "<td>0.1700569</td>\n",
       "<td>0.0289193</td>\n",
       "<td>0.1438966</td>\n",
       "<td>0.1853204</td>\n",
       "<td>0.0343437</td>\n",
       "<td>0.1495640</td></tr>\n",
       "<tr><td></td>\n",
       "<td>2018-04-15 23:44:52</td>\n",
       "<td> 2 min 56.717 sec</td>\n",
       "<td>1783 obs/sec</td>\n",
       "<td>30.0</td>\n",
       "<td>3</td>\n",
       "<td>30000.0</td>\n",
       "<td>0.0791398</td>\n",
       "<td>0.0062631</td>\n",
       "<td>0.0616070</td>\n",
       "<td>0.1322387</td>\n",
       "<td>0.0174871</td>\n",
       "<td>0.0953170</td></tr>\n",
       "<tr><td></td>\n",
       "<td>2018-04-15 23:44:59</td>\n",
       "<td> 3 min  3.740 sec</td>\n",
       "<td>2107 obs/sec</td>\n",
       "<td>50.0</td>\n",
       "<td>5</td>\n",
       "<td>50000.0</td>\n",
       "<td>0.0510623</td>\n",
       "<td>0.0026074</td>\n",
       "<td>0.0375831</td>\n",
       "<td>0.1269146</td>\n",
       "<td>0.0161073</td>\n",
       "<td>0.0931960</td></tr>\n",
       "<tr><td></td>\n",
       "<td>2018-04-15 23:45:06</td>\n",
       "<td> 3 min 11.269 sec</td>\n",
       "<td>2247 obs/sec</td>\n",
       "<td>70.0</td>\n",
       "<td>7</td>\n",
       "<td>70000.0</td>\n",
       "<td>0.0323673</td>\n",
       "<td>0.0010476</td>\n",
       "<td>0.0230501</td>\n",
       "<td>0.1181184</td>\n",
       "<td>0.0139520</td>\n",
       "<td>0.0847878</td></tr>\n",
       "<tr><td></td>\n",
       "<td>2018-04-15 23:45:13</td>\n",
       "<td> 3 min 17.994 sec</td>\n",
       "<td>2385 obs/sec</td>\n",
       "<td>90.0</td>\n",
       "<td>9</td>\n",
       "<td>90000.0</td>\n",
       "<td>0.0365538</td>\n",
       "<td>0.0013362</td>\n",
       "<td>0.0280072</td>\n",
       "<td>0.1196401</td>\n",
       "<td>0.0143138</td>\n",
       "<td>0.0866379</td></tr>\n",
       "<tr><td></td>\n",
       "<td>2018-04-15 23:45:20</td>\n",
       "<td> 3 min 25.502 sec</td>\n",
       "<td>2436 obs/sec</td>\n",
       "<td>110.0</td>\n",
       "<td>11</td>\n",
       "<td>110000.0</td>\n",
       "<td>0.0316818</td>\n",
       "<td>0.0010037</td>\n",
       "<td>0.0232763</td>\n",
       "<td>0.1190101</td>\n",
       "<td>0.0141634</td>\n",
       "<td>0.0845874</td></tr>\n",
       "<tr><td></td>\n",
       "<td>2018-04-15 23:45:26</td>\n",
       "<td> 3 min 31.506 sec</td>\n",
       "<td>2545 obs/sec</td>\n",
       "<td>130.0</td>\n",
       "<td>13</td>\n",
       "<td>130000.0</td>\n",
       "<td>0.0201617</td>\n",
       "<td>0.0004065</td>\n",
       "<td>0.0148409</td>\n",
       "<td>0.1174782</td>\n",
       "<td>0.0138011</td>\n",
       "<td>0.0842224</td></tr>\n",
       "<tr><td></td>\n",
       "<td>2018-04-15 23:45:34</td>\n",
       "<td> 3 min 39.095 sec</td>\n",
       "<td>2560 obs/sec</td>\n",
       "<td>150.0</td>\n",
       "<td>15</td>\n",
       "<td>150000.0</td>\n",
       "<td>0.0147508</td>\n",
       "<td>0.0002176</td>\n",
       "<td>0.0104188</td>\n",
       "<td>0.1139896</td>\n",
       "<td>0.0129936</td>\n",
       "<td>0.0803918</td></tr>\n",
       "<tr><td></td>\n",
       "<td>2018-04-15 23:45:41</td>\n",
       "<td> 3 min 45.773 sec</td>\n",
       "<td>2609 obs/sec</td>\n",
       "<td>170.0</td>\n",
       "<td>17</td>\n",
       "<td>170000.0</td>\n",
       "<td>0.0218768</td>\n",
       "<td>0.0004786</td>\n",
       "<td>0.0171221</td>\n",
       "<td>0.1187260</td>\n",
       "<td>0.0140959</td>\n",
       "<td>0.0858832</td></tr>\n",
       "<tr><td></td>\n",
       "<td>2018-04-15 23:45:47</td>\n",
       "<td> 3 min 52.213 sec</td>\n",
       "<td>2657 obs/sec</td>\n",
       "<td>190.0</td>\n",
       "<td>19</td>\n",
       "<td>190000.0</td>\n",
       "<td>0.0134830</td>\n",
       "<td>0.0001818</td>\n",
       "<td>0.0098476</td>\n",
       "<td>0.1144970</td>\n",
       "<td>0.0131096</td>\n",
       "<td>0.0809194</td></tr>\n",
       "<tr><td></td>\n",
       "<td>2018-04-15 23:45:54</td>\n",
       "<td> 3 min 59.368 sec</td>\n",
       "<td>2672 obs/sec</td>\n",
       "<td>210.0</td>\n",
       "<td>21</td>\n",
       "<td>210000.0</td>\n",
       "<td>0.0275208</td>\n",
       "<td>0.0007574</td>\n",
       "<td>0.0195592</td>\n",
       "<td>0.1173175</td>\n",
       "<td>0.0137634</td>\n",
       "<td>0.0822109</td></tr>\n",
       "<tr><td></td>\n",
       "<td>2018-04-15 23:46:01</td>\n",
       "<td> 4 min  5.845 sec</td>\n",
       "<td>2707 obs/sec</td>\n",
       "<td>230.0</td>\n",
       "<td>23</td>\n",
       "<td>230000.0</td>\n",
       "<td>0.0147835</td>\n",
       "<td>0.0002186</td>\n",
       "<td>0.0110188</td>\n",
       "<td>0.1145048</td>\n",
       "<td>0.0131113</td>\n",
       "<td>0.0823699</td></tr></table></div>"
      ],
      "text/plain": [
       "    timestamp            duration          training_speed    epochs    iterations    samples    training_rmse    training_deviance    training_mae    validation_rmse    validation_deviance    validation_mae\n",
       "--  -------------------  ----------------  ----------------  --------  ------------  ---------  ---------------  -------------------  --------------  -----------------  ---------------------  ----------------\n",
       "    2018-04-15 23:44:35  0.000 sec                           0         0             0          nan              nan                  nan             nan                nan                    nan\n",
       "    2018-04-15 23:44:43  2 min 48.233 sec  1186 obs/sec      10        1             10000      0.170057         0.0289193            0.143897        0.18532            0.0343437              0.149564\n",
       "    2018-04-15 23:44:52  2 min 56.717 sec  1783 obs/sec      30        3             30000      0.0791398        0.0062631            0.061607        0.132239           0.0174871              0.095317\n",
       "    2018-04-15 23:44:59  3 min  3.740 sec  2107 obs/sec      50        5             50000      0.0510623        0.00260736           0.0375831       0.126915           0.0161073              0.093196\n",
       "    2018-04-15 23:45:06  3 min 11.269 sec  2247 obs/sec      70        7             70000      0.0323673        0.00104764           0.0230501       0.118118           0.013952               0.0847878\n",
       "    2018-04-15 23:45:13  3 min 17.994 sec  2385 obs/sec      90        9             90000      0.0365538        0.00133618           0.0280072       0.11964            0.0143138              0.0866379\n",
       "    2018-04-15 23:45:20  3 min 25.502 sec  2436 obs/sec      110       11            110000     0.0316818        0.00100374           0.0232763       0.11901            0.0141634              0.0845874\n",
       "    2018-04-15 23:45:26  3 min 31.506 sec  2545 obs/sec      130       13            130000     0.0201617        0.000406493          0.0148409       0.117478           0.0138011              0.0842224\n",
       "    2018-04-15 23:45:34  3 min 39.095 sec  2560 obs/sec      150       15            150000     0.0147508        0.000217587          0.0104188       0.11399            0.0129936              0.0803918\n",
       "    2018-04-15 23:45:41  3 min 45.773 sec  2609 obs/sec      170       17            170000     0.0218768        0.000478593          0.0171221       0.118726           0.0140959              0.0858832\n",
       "    2018-04-15 23:45:47  3 min 52.213 sec  2657 obs/sec      190       19            190000     0.013483         0.000181791          0.00984764      0.114497           0.0131096              0.0809194\n",
       "    2018-04-15 23:45:54  3 min 59.368 sec  2672 obs/sec      210       21            210000     0.0275208        0.000757394          0.0195592       0.117317           0.0137634              0.0822109\n",
       "    2018-04-15 23:46:01  4 min  5.845 sec  2707 obs/sec      230       23            230000     0.0147835        0.000218552          0.0110188       0.114505           0.0131113              0.0823699"
      ]
     },
     "metadata": {},
     "output_type": "display_data"
    },
    {
     "name": "stdout",
     "output_type": "stream",
     "text": [
      "Variable Importances: \n"
     ]
    },
    {
     "data": {
      "text/html": [
       "<div style=\"overflow:auto\"><table style=\"width:50%\"><tr><td><b>variable</b></td>\n",
       "<td><b>relative_importance</b></td>\n",
       "<td><b>scaled_importance</b></td>\n",
       "<td><b>percentage</b></td></tr>\n",
       "<tr><td>YrSold_2007</td>\n",
       "<td>1.0</td>\n",
       "<td>1.0</td>\n",
       "<td>0.0060700</td></tr>\n",
       "<tr><td>Id.1</td>\n",
       "<td>0.9369264</td>\n",
       "<td>0.9369264</td>\n",
       "<td>0.0056871</td></tr>\n",
       "<tr><td>YrSold_2006</td>\n",
       "<td>0.8704465</td>\n",
       "<td>0.8704465</td>\n",
       "<td>0.0052836</td></tr>\n",
       "<tr><td>YrSold_2009</td>\n",
       "<td>0.8486263</td>\n",
       "<td>0.8486263</td>\n",
       "<td>0.0051512</td></tr>\n",
       "<tr><td>OverallQual</td>\n",
       "<td>0.8380388</td>\n",
       "<td>0.8380388</td>\n",
       "<td>0.0050869</td></tr>\n",
       "<tr><td>---</td>\n",
       "<td>---</td>\n",
       "<td>---</td>\n",
       "<td>---</td></tr>\n",
       "<tr><td>BldgType_2fmCon</td>\n",
       "<td>0.4471757</td>\n",
       "<td>0.4471757</td>\n",
       "<td>0.0027144</td></tr>\n",
       "<tr><td>Condition1_RRNe</td>\n",
       "<td>0.4451357</td>\n",
       "<td>0.4451357</td>\n",
       "<td>0.0027020</td></tr>\n",
       "<tr><td>Electrical_Mix</td>\n",
       "<td>0.4248740</td>\n",
       "<td>0.4248740</td>\n",
       "<td>0.0025790</td></tr>\n",
       "<tr><td>SaleType_ConLw</td>\n",
       "<td>0.4188837</td>\n",
       "<td>0.4188837</td>\n",
       "<td>0.0025426</td></tr>\n",
       "<tr><td>RoofStyle_Flat</td>\n",
       "<td>0.4051710</td>\n",
       "<td>0.4051710</td>\n",
       "<td>0.0024594</td></tr></table></div>"
      ],
      "text/plain": [
       "variable         relative_importance    scaled_importance    percentage\n",
       "---------------  ---------------------  -------------------  ---------------------\n",
       "YrSold_2007      1.0                    1.0                  0.006069994834523332\n",
       "Id.1             0.9369264245033264     0.9369264245033264   0.005687138557063606\n",
       "YrSold_2006      0.870446503162384      0.870446503162384    0.005283605777924568\n",
       "YrSold_2009      0.8486262559890747     0.8486262559890747   0.005151156990294559\n",
       "OverallQual      0.8380388021469116     0.8380388021469116   0.0050868912001618746\n",
       "---              ---                    ---                  ---\n",
       "BldgType_2fmCon  0.4471757411956787     0.4471757411956787   0.002714354439181912\n",
       "Condition1_RRNe  0.4451357424259186     0.4451357424259186   0.002701971657187034\n",
       "Electrical_Mix   0.4248739778995514     0.4248739778995514   0.0025789828511736572\n",
       "SaleType_ConLw   0.41888368129730225    0.41888368129730225  0.002542621781740742\n",
       "RoofStyle_Flat   0.4051710069179535     0.4051710069179535   0.002459385919090595"
      ]
     },
     "metadata": {},
     "output_type": "display_data"
    },
    {
     "name": "stdout",
     "output_type": "stream",
     "text": [
      "\n",
      "See the whole table with table.as_data_frame()\n"
     ]
    },
    {
     "data": {
      "text/plain": []
     },
     "execution_count": 221,
     "metadata": {},
     "output_type": "execute_result"
    }
   ],
   "source": [
    "DL_model2"
   ]
  },
  {
   "cell_type": "code",
   "execution_count": 222,
   "metadata": {},
   "outputs": [
    {
     "name": "stdout",
     "output_type": "stream",
     "text": [
      "deeplearning prediction progress: |███████████████████████████████████████| 100%\n",
      "deeplearning prediction progress: |███████████████████████████████████████| 100%\n"
     ]
    }
   ],
   "source": [
    "ert_preds1_val = DL_model2.predict(validation)\n",
    "ert_preds1_test = DL_model2.predict(test)"
   ]
  },
  {
   "cell_type": "markdown",
   "metadata": {},
   "source": [
    "<div class=\"alert alert-block alert-info\">\n",
    "<font color='green'>Below is our predicted log(SalePrice) based on our Random Forest Model. \n",
    "<br>\n",
    "We then convernt the predicted SalePrice to a data frame so that we can concatenate it with Id.</font>"
   ]
  },
  {
   "cell_type": "code",
   "execution_count": 223,
   "metadata": {
    "scrolled": true
   },
   "outputs": [
    {
     "data": {
      "text/html": [
       "<table>\n",
       "<thead>\n",
       "<tr><th style=\"text-align: right;\">  predict</th></tr>\n",
       "</thead>\n",
       "<tbody>\n",
       "<tr><td style=\"text-align: right;\">  11.6551</td></tr>\n",
       "<tr><td style=\"text-align: right;\">  11.998 </td></tr>\n",
       "<tr><td style=\"text-align: right;\">  12.0984</td></tr>\n",
       "<tr><td style=\"text-align: right;\">  12.1732</td></tr>\n",
       "<tr><td style=\"text-align: right;\">  12.0994</td></tr>\n",
       "<tr><td style=\"text-align: right;\">  12.0699</td></tr>\n",
       "<tr><td style=\"text-align: right;\">  12.0679</td></tr>\n",
       "<tr><td style=\"text-align: right;\">  12.0092</td></tr>\n",
       "<tr><td style=\"text-align: right;\">  12.1356</td></tr>\n",
       "<tr><td style=\"text-align: right;\">  11.778 </td></tr>\n",
       "</tbody>\n",
       "</table>"
      ]
     },
     "metadata": {},
     "output_type": "display_data"
    },
    {
     "data": {
      "text/plain": []
     },
     "execution_count": 223,
     "metadata": {},
     "output_type": "execute_result"
    }
   ],
   "source": [
    "ert_preds1_test.head()"
   ]
  },
  {
   "cell_type": "code",
   "execution_count": 224,
   "metadata": {
    "collapsed": true
   },
   "outputs": [],
   "source": [
    "a=ert_preds1_test.as_data_frame()"
   ]
  },
  {
   "cell_type": "code",
   "execution_count": 225,
   "metadata": {},
   "outputs": [
    {
     "data": {
      "text/html": [
       "<div>\n",
       "<style>\n",
       "    .dataframe thead tr:only-child th {\n",
       "        text-align: right;\n",
       "    }\n",
       "\n",
       "    .dataframe thead th {\n",
       "        text-align: left;\n",
       "    }\n",
       "\n",
       "    .dataframe tbody tr th {\n",
       "        vertical-align: top;\n",
       "    }\n",
       "</style>\n",
       "<table border=\"1\" class=\"dataframe\">\n",
       "  <thead>\n",
       "    <tr style=\"text-align: right;\">\n",
       "      <th></th>\n",
       "      <th>predict</th>\n",
       "    </tr>\n",
       "  </thead>\n",
       "  <tbody>\n",
       "    <tr>\n",
       "      <th>0</th>\n",
       "      <td>11.655080</td>\n",
       "    </tr>\n",
       "    <tr>\n",
       "      <th>1</th>\n",
       "      <td>11.998003</td>\n",
       "    </tr>\n",
       "    <tr>\n",
       "      <th>2</th>\n",
       "      <td>12.098374</td>\n",
       "    </tr>\n",
       "    <tr>\n",
       "      <th>3</th>\n",
       "      <td>12.173220</td>\n",
       "    </tr>\n",
       "    <tr>\n",
       "      <th>4</th>\n",
       "      <td>12.099354</td>\n",
       "    </tr>\n",
       "  </tbody>\n",
       "</table>\n",
       "</div>"
      ],
      "text/plain": [
       "     predict\n",
       "0  11.655080\n",
       "1  11.998003\n",
       "2  12.098374\n",
       "3  12.173220\n",
       "4  12.099354"
      ]
     },
     "execution_count": 225,
     "metadata": {},
     "output_type": "execute_result"
    }
   ],
   "source": [
    "a.head()"
   ]
  },
  {
   "cell_type": "markdown",
   "metadata": {},
   "source": [
    "<div class=\"alert alert-block alert-success\">\n",
    "<font color='darkblue'>Before we concatenate our Log(SalePrice) with Id, we need to convert our log(Saleprice) to Saleprice ($) </font>"
   ]
  },
  {
   "cell_type": "code",
   "execution_count": 226,
   "metadata": {
    "collapsed": true
   },
   "outputs": [],
   "source": [
    "a['Saleprice'] = np.exp(a['predict'])"
   ]
  },
  {
   "cell_type": "code",
   "execution_count": 227,
   "metadata": {},
   "outputs": [
    {
     "data": {
      "text/html": [
       "<div>\n",
       "<style>\n",
       "    .dataframe thead tr:only-child th {\n",
       "        text-align: right;\n",
       "    }\n",
       "\n",
       "    .dataframe thead th {\n",
       "        text-align: left;\n",
       "    }\n",
       "\n",
       "    .dataframe tbody tr th {\n",
       "        vertical-align: top;\n",
       "    }\n",
       "</style>\n",
       "<table border=\"1\" class=\"dataframe\">\n",
       "  <thead>\n",
       "    <tr style=\"text-align: right;\">\n",
       "      <th></th>\n",
       "      <th>predict</th>\n",
       "      <th>Saleprice</th>\n",
       "    </tr>\n",
       "  </thead>\n",
       "  <tbody>\n",
       "    <tr>\n",
       "      <th>0</th>\n",
       "      <td>11.655080</td>\n",
       "      <td>115275.518727</td>\n",
       "    </tr>\n",
       "    <tr>\n",
       "      <th>1</th>\n",
       "      <td>11.998003</td>\n",
       "      <td>162430.105167</td>\n",
       "    </tr>\n",
       "    <tr>\n",
       "      <th>2</th>\n",
       "      <td>12.098374</td>\n",
       "      <td>179579.622189</td>\n",
       "    </tr>\n",
       "    <tr>\n",
       "      <th>3</th>\n",
       "      <td>12.173220</td>\n",
       "      <td>193536.203524</td>\n",
       "    </tr>\n",
       "    <tr>\n",
       "      <th>4</th>\n",
       "      <td>12.099354</td>\n",
       "      <td>179755.646380</td>\n",
       "    </tr>\n",
       "  </tbody>\n",
       "</table>\n",
       "</div>"
      ],
      "text/plain": [
       "     predict      Saleprice\n",
       "0  11.655080  115275.518727\n",
       "1  11.998003  162430.105167\n",
       "2  12.098374  179579.622189\n",
       "3  12.173220  193536.203524\n",
       "4  12.099354  179755.646380"
      ]
     },
     "execution_count": 227,
     "metadata": {},
     "output_type": "execute_result"
    }
   ],
   "source": [
    "a.head()"
   ]
  },
  {
   "cell_type": "markdown",
   "metadata": {},
   "source": [
    "<div class=\"alert alert-block alert-info\">\n",
    "<font color='green'>Here, we can have a look at the statistics of  our predict log(SalePrice) and SalePrice.</font>"
   ]
  },
  {
   "cell_type": "code",
   "execution_count": 228,
   "metadata": {},
   "outputs": [
    {
     "data": {
      "text/html": [
       "<div>\n",
       "<style>\n",
       "    .dataframe thead tr:only-child th {\n",
       "        text-align: right;\n",
       "    }\n",
       "\n",
       "    .dataframe thead th {\n",
       "        text-align: left;\n",
       "    }\n",
       "\n",
       "    .dataframe tbody tr th {\n",
       "        vertical-align: top;\n",
       "    }\n",
       "</style>\n",
       "<table border=\"1\" class=\"dataframe\">\n",
       "  <thead>\n",
       "    <tr style=\"text-align: right;\">\n",
       "      <th></th>\n",
       "      <th>predict</th>\n",
       "      <th>Saleprice</th>\n",
       "    </tr>\n",
       "  </thead>\n",
       "  <tbody>\n",
       "    <tr>\n",
       "      <th>count</th>\n",
       "      <td>1459.000000</td>\n",
       "      <td>1.459000e+03</td>\n",
       "    </tr>\n",
       "    <tr>\n",
       "      <th>mean</th>\n",
       "      <td>11.999675</td>\n",
       "      <td>1.787233e+05</td>\n",
       "    </tr>\n",
       "    <tr>\n",
       "      <th>std</th>\n",
       "      <td>0.419476</td>\n",
       "      <td>8.832839e+04</td>\n",
       "    </tr>\n",
       "    <tr>\n",
       "      <th>min</th>\n",
       "      <td>10.576733</td>\n",
       "      <td>3.921182e+04</td>\n",
       "    </tr>\n",
       "    <tr>\n",
       "      <th>25%</th>\n",
       "      <td>11.723922</td>\n",
       "      <td>1.234908e+05</td>\n",
       "    </tr>\n",
       "    <tr>\n",
       "      <th>50%</th>\n",
       "      <td>11.924814</td>\n",
       "      <td>1.509666e+05</td>\n",
       "    </tr>\n",
       "    <tr>\n",
       "      <th>75%</th>\n",
       "      <td>12.262352</td>\n",
       "      <td>2.115786e+05</td>\n",
       "    </tr>\n",
       "    <tr>\n",
       "      <th>max</th>\n",
       "      <td>14.101533</td>\n",
       "      <td>1.331122e+06</td>\n",
       "    </tr>\n",
       "  </tbody>\n",
       "</table>\n",
       "</div>"
      ],
      "text/plain": [
       "           predict     Saleprice\n",
       "count  1459.000000  1.459000e+03\n",
       "mean     11.999675  1.787233e+05\n",
       "std       0.419476  8.832839e+04\n",
       "min      10.576733  3.921182e+04\n",
       "25%      11.723922  1.234908e+05\n",
       "50%      11.924814  1.509666e+05\n",
       "75%      12.262352  2.115786e+05\n",
       "max      14.101533  1.331122e+06"
      ]
     },
     "execution_count": 228,
     "metadata": {},
     "output_type": "execute_result"
    }
   ],
   "source": [
    "a.describe()"
   ]
  },
  {
   "cell_type": "markdown",
   "metadata": {},
   "source": [
    "<div class=\"alert alert-block alert-info\">\n",
    "<font color='green'>Now, we can put Id and Saleprice together, save them and submit it on Kaggle. </font>"
   ]
  },
  {
   "cell_type": "code",
   "execution_count": 229,
   "metadata": {
    "collapsed": true
   },
   "outputs": [],
   "source": [
    "Id=testa['Id']"
   ]
  },
  {
   "cell_type": "code",
   "execution_count": 230,
   "metadata": {
    "collapsed": true
   },
   "outputs": [],
   "source": [
    "SalePrice=a['Saleprice']"
   ]
  },
  {
   "cell_type": "code",
   "execution_count": 231,
   "metadata": {
    "collapsed": true
   },
   "outputs": [],
   "source": [
    "DL_model2_result=pd.concat((Id,SalePrice),axis=1)"
   ]
  },
  {
   "cell_type": "code",
   "execution_count": 232,
   "metadata": {},
   "outputs": [
    {
     "data": {
      "text/html": [
       "<div>\n",
       "<style>\n",
       "    .dataframe thead tr:only-child th {\n",
       "        text-align: right;\n",
       "    }\n",
       "\n",
       "    .dataframe thead th {\n",
       "        text-align: left;\n",
       "    }\n",
       "\n",
       "    .dataframe tbody tr th {\n",
       "        vertical-align: top;\n",
       "    }\n",
       "</style>\n",
       "<table border=\"1\" class=\"dataframe\">\n",
       "  <thead>\n",
       "    <tr style=\"text-align: right;\">\n",
       "      <th></th>\n",
       "      <th>Id</th>\n",
       "      <th>Saleprice</th>\n",
       "    </tr>\n",
       "  </thead>\n",
       "  <tbody>\n",
       "    <tr>\n",
       "      <th>0</th>\n",
       "      <td>1461</td>\n",
       "      <td>115275.518727</td>\n",
       "    </tr>\n",
       "    <tr>\n",
       "      <th>1</th>\n",
       "      <td>1462</td>\n",
       "      <td>162430.105167</td>\n",
       "    </tr>\n",
       "    <tr>\n",
       "      <th>2</th>\n",
       "      <td>1463</td>\n",
       "      <td>179579.622189</td>\n",
       "    </tr>\n",
       "    <tr>\n",
       "      <th>3</th>\n",
       "      <td>1464</td>\n",
       "      <td>193536.203524</td>\n",
       "    </tr>\n",
       "    <tr>\n",
       "      <th>4</th>\n",
       "      <td>1465</td>\n",
       "      <td>179755.646380</td>\n",
       "    </tr>\n",
       "  </tbody>\n",
       "</table>\n",
       "</div>"
      ],
      "text/plain": [
       "     Id      Saleprice\n",
       "0  1461  115275.518727\n",
       "1  1462  162430.105167\n",
       "2  1463  179579.622189\n",
       "3  1464  193536.203524\n",
       "4  1465  179755.646380"
      ]
     },
     "execution_count": 232,
     "metadata": {},
     "output_type": "execute_result"
    }
   ],
   "source": [
    "DL_model2_result.head()"
   ]
  },
  {
   "cell_type": "code",
   "execution_count": 233,
   "metadata": {
    "collapsed": true
   },
   "outputs": [],
   "source": [
    "DL_model2_result.to_csv('DL_model2_result.csv')"
   ]
  },
  {
   "cell_type": "markdown",
   "metadata": {},
   "source": [
    "### (3) Deep Learning Model 3"
   ]
  },
  {
   "cell_type": "code",
   "execution_count": 144,
   "metadata": {},
   "outputs": [
    {
     "name": "stdout",
     "output_type": "stream",
     "text": [
      "deeplearning Model Build progress: |██████████████████████████████████████| 100%\n"
     ]
    }
   ],
   "source": [
    "DL_model3 = H2ODeepLearningEstimator(\n",
    "    model_id=\"model_3\",\n",
    "    stopping_metric = \"RMSE\",\n",
    "    epochs = 200, \n",
    "    hidden = [64,64,64,64],\n",
    "    stopping_rounds=3,\n",
    "    standardize = True)\n",
    "DL_model3.train(x, y, training_frame=train, validation_frame=validation)"
   ]
  },
  {
   "cell_type": "code",
   "execution_count": 145,
   "metadata": {},
   "outputs": [
    {
     "name": "stdout",
     "output_type": "stream",
     "text": [
      "Model Details\n",
      "=============\n",
      "H2ODeepLearningEstimator :  Deep Learning\n",
      "Model Key:  model_3\n",
      "\n",
      "\n",
      "ModelMetricsRegression: deeplearning\n",
      "** Reported on train data. **\n",
      "\n",
      "MSE: 0.01023427459089159\n",
      "RMSE: 0.1011645915866396\n",
      "MAE: 0.06926382095471303\n",
      "RMSLE: 0.007910492668723715\n",
      "Mean Residual Deviance: 0.01023427459089159\n",
      "\n",
      "ModelMetricsRegression: deeplearning\n",
      "** Reported on validation data. **\n",
      "\n",
      "MSE: 0.015940020755907062\n",
      "RMSE: 0.12625379501586106\n",
      "MAE: 0.09131248126510991\n",
      "RMSLE: 0.00979676337172196\n",
      "Mean Residual Deviance: 0.015940020755907062\n",
      "Scoring History: \n"
     ]
    },
    {
     "data": {
      "text/html": [
       "<div style=\"overflow:auto\"><table style=\"width:50%\"><tr><td><b></b></td>\n",
       "<td><b>timestamp</b></td>\n",
       "<td><b>duration</b></td>\n",
       "<td><b>training_speed</b></td>\n",
       "<td><b>epochs</b></td>\n",
       "<td><b>iterations</b></td>\n",
       "<td><b>samples</b></td>\n",
       "<td><b>training_rmse</b></td>\n",
       "<td><b>training_deviance</b></td>\n",
       "<td><b>training_mae</b></td>\n",
       "<td><b>validation_rmse</b></td>\n",
       "<td><b>validation_deviance</b></td>\n",
       "<td><b>validation_mae</b></td></tr>\n",
       "<tr><td></td>\n",
       "<td>2018-04-16 00:44:09</td>\n",
       "<td> 0.000 sec</td>\n",
       "<td>None</td>\n",
       "<td>0.0</td>\n",
       "<td>0</td>\n",
       "<td>0.0</td>\n",
       "<td>nan</td>\n",
       "<td>nan</td>\n",
       "<td>nan</td>\n",
       "<td>nan</td>\n",
       "<td>nan</td>\n",
       "<td>nan</td></tr>\n",
       "<tr><td></td>\n",
       "<td>2018-04-16 00:44:10</td>\n",
       "<td> 0.856 sec</td>\n",
       "<td>12224 obs/sec</td>\n",
       "<td>10.0</td>\n",
       "<td>1</td>\n",
       "<td>10000.0</td>\n",
       "<td>0.1011646</td>\n",
       "<td>0.0102343</td>\n",
       "<td>0.0692638</td>\n",
       "<td>0.1262538</td>\n",
       "<td>0.0159400</td>\n",
       "<td>0.0913125</td></tr>\n",
       "<tr><td></td>\n",
       "<td>2018-04-16 00:44:15</td>\n",
       "<td> 5.967 sec</td>\n",
       "<td>15228 obs/sec</td>\n",
       "<td>90.0</td>\n",
       "<td>9</td>\n",
       "<td>90000.0</td>\n",
       "<td>0.0474803</td>\n",
       "<td>0.0022544</td>\n",
       "<td>0.0353725</td>\n",
       "<td>0.1308908</td>\n",
       "<td>0.0171324</td>\n",
       "<td>0.0909962</td></tr>\n",
       "<tr><td></td>\n",
       "<td>2018-04-16 00:44:20</td>\n",
       "<td>10.986 sec</td>\n",
       "<td>17415 obs/sec</td>\n",
       "<td>190.0</td>\n",
       "<td>19</td>\n",
       "<td>190000.0</td>\n",
       "<td>0.0247913</td>\n",
       "<td>0.0006146</td>\n",
       "<td>0.0187747</td>\n",
       "<td>0.1267080</td>\n",
       "<td>0.0160549</td>\n",
       "<td>0.0879164</td></tr>\n",
       "<tr><td></td>\n",
       "<td>2018-04-16 00:44:21</td>\n",
       "<td>11.603 sec</td>\n",
       "<td>17389 obs/sec</td>\n",
       "<td>200.0</td>\n",
       "<td>20</td>\n",
       "<td>200000.0</td>\n",
       "<td>0.0263101</td>\n",
       "<td>0.0006922</td>\n",
       "<td>0.0214064</td>\n",
       "<td>0.1271162</td>\n",
       "<td>0.0161585</td>\n",
       "<td>0.0897549</td></tr>\n",
       "<tr><td></td>\n",
       "<td>2018-04-16 00:44:21</td>\n",
       "<td>11.641 sec</td>\n",
       "<td>17382 obs/sec</td>\n",
       "<td>200.0</td>\n",
       "<td>20</td>\n",
       "<td>200000.0</td>\n",
       "<td>0.1011646</td>\n",
       "<td>0.0102343</td>\n",
       "<td>0.0692638</td>\n",
       "<td>0.1262538</td>\n",
       "<td>0.0159400</td>\n",
       "<td>0.0913125</td></tr></table></div>"
      ],
      "text/plain": [
       "    timestamp            duration    training_speed    epochs    iterations    samples    training_rmse    training_deviance    training_mae    validation_rmse    validation_deviance    validation_mae\n",
       "--  -------------------  ----------  ----------------  --------  ------------  ---------  ---------------  -------------------  --------------  -----------------  ---------------------  ----------------\n",
       "    2018-04-16 00:44:09  0.000 sec                     0         0             0          nan              nan                  nan             nan                nan                    nan\n",
       "    2018-04-16 00:44:10  0.856 sec   12224 obs/sec     10        1             10000      0.101165         0.0102343            0.0692638       0.126254           0.01594                0.0913125\n",
       "    2018-04-16 00:44:15  5.967 sec   15228 obs/sec     90        9             90000      0.0474803        0.00225438           0.0353725       0.130891           0.0171324              0.0909962\n",
       "    2018-04-16 00:44:20  10.986 sec  17415 obs/sec     190       19            190000     0.0247913        0.000614606          0.0187747       0.126708           0.0160549              0.0879164\n",
       "    2018-04-16 00:44:21  11.603 sec  17389 obs/sec     200       20            200000     0.0263101        0.000692222          0.0214064       0.127116           0.0161585              0.0897549\n",
       "    2018-04-16 00:44:21  11.641 sec  17382 obs/sec     200       20            200000     0.101165         0.0102343            0.0692638       0.126254           0.01594                0.0913125"
      ]
     },
     "metadata": {},
     "output_type": "display_data"
    },
    {
     "name": "stdout",
     "output_type": "stream",
     "text": [
      "Variable Importances: \n"
     ]
    },
    {
     "data": {
      "text/html": [
       "<div style=\"overflow:auto\"><table style=\"width:50%\"><tr><td><b>variable</b></td>\n",
       "<td><b>relative_importance</b></td>\n",
       "<td><b>scaled_importance</b></td>\n",
       "<td><b>percentage</b></td></tr>\n",
       "<tr><td>1stFlrSF</td>\n",
       "<td>1.0</td>\n",
       "<td>1.0</td>\n",
       "<td>0.0059446</td></tr>\n",
       "<tr><td>Utilities.AllPub</td>\n",
       "<td>0.9594290</td>\n",
       "<td>0.9594290</td>\n",
       "<td>0.0057035</td></tr>\n",
       "<tr><td>LotFrontage</td>\n",
       "<td>0.9575999</td>\n",
       "<td>0.9575999</td>\n",
       "<td>0.0056926</td></tr>\n",
       "<tr><td>Exterior1st.MetalSd</td>\n",
       "<td>0.9477925</td>\n",
       "<td>0.9477925</td>\n",
       "<td>0.0056343</td></tr>\n",
       "<tr><td>LotArea</td>\n",
       "<td>0.9441062</td>\n",
       "<td>0.9441062</td>\n",
       "<td>0.0056124</td></tr>\n",
       "<tr><td>---</td>\n",
       "<td>---</td>\n",
       "<td>---</td>\n",
       "<td>---</td></tr>\n",
       "<tr><td>Heating.missing(NA)</td>\n",
       "<td>0.0</td>\n",
       "<td>0.0</td>\n",
       "<td>0.0</td></tr>\n",
       "<tr><td>LandContour.missing(NA)</td>\n",
       "<td>0.0</td>\n",
       "<td>0.0</td>\n",
       "<td>0.0</td></tr>\n",
       "<tr><td>CentralAir.missing(NA)</td>\n",
       "<td>0.0</td>\n",
       "<td>0.0</td>\n",
       "<td>0.0</td></tr>\n",
       "<tr><td>Street.missing(NA)</td>\n",
       "<td>0.0</td>\n",
       "<td>0.0</td>\n",
       "<td>0.0</td></tr>\n",
       "<tr><td>Utilities.missing(NA)</td>\n",
       "<td>0.0</td>\n",
       "<td>0.0</td>\n",
       "<td>0.0</td></tr></table></div>"
      ],
      "text/plain": [
       "variable                 relative_importance    scaled_importance    percentage\n",
       "-----------------------  ---------------------  -------------------  ---------------------\n",
       "1stFlrSF                 1.0                    1.0                  0.005944642512884435\n",
       "Utilities.AllPub         0.9594290256500244     0.9594290256500244   0.005703462573974427\n",
       "LotFrontage              0.957599937915802      0.957599937915802    0.005692589301269773\n",
       "Exterior1st.MetalSd      0.9477924704551697     0.9477924704551697   0.005634287413259567\n",
       "LotArea                  0.9441062211990356     0.9441062211990356   0.0056123739792184645\n",
       "---                      ---                    ---                  ---\n",
       "Heating.missing(NA)      0.0                    0.0                  0.0\n",
       "LandContour.missing(NA)  0.0                    0.0                  0.0\n",
       "CentralAir.missing(NA)   0.0                    0.0                  0.0\n",
       "Street.missing(NA)       0.0                    0.0                  0.0\n",
       "Utilities.missing(NA)    0.0                    0.0                  0.0"
      ]
     },
     "metadata": {},
     "output_type": "display_data"
    },
    {
     "name": "stdout",
     "output_type": "stream",
     "text": [
      "\n",
      "See the whole table with table.as_data_frame()\n"
     ]
    },
    {
     "data": {
      "text/plain": []
     },
     "execution_count": 145,
     "metadata": {},
     "output_type": "execute_result"
    }
   ],
   "source": [
    "DL_model3"
   ]
  },
  {
   "cell_type": "code",
   "execution_count": 238,
   "metadata": {
    "scrolled": true
   },
   "outputs": [
    {
     "name": "stdout",
     "output_type": "stream",
     "text": [
      "deeplearning prediction progress: |███████████████████████████████████████| 100%\n",
      "deeplearning prediction progress: |███████████████████████████████████████| 100%\n"
     ]
    }
   ],
   "source": [
    "ert_preds1_val = DL_model3.predict(validation)\n",
    "ert_preds1_test = DL_model3.predict(test)"
   ]
  },
  {
   "cell_type": "code",
   "execution_count": 239,
   "metadata": {
    "scrolled": true
   },
   "outputs": [
    {
     "data": {
      "text/html": [
       "<table>\n",
       "<thead>\n",
       "<tr><th style=\"text-align: right;\">  predict</th></tr>\n",
       "</thead>\n",
       "<tbody>\n",
       "<tr><td style=\"text-align: right;\">  11.5782</td></tr>\n",
       "<tr><td style=\"text-align: right;\">  12.023 </td></tr>\n",
       "<tr><td style=\"text-align: right;\">  12.1543</td></tr>\n",
       "<tr><td style=\"text-align: right;\">  12.2044</td></tr>\n",
       "<tr><td style=\"text-align: right;\">  12.104 </td></tr>\n",
       "<tr><td style=\"text-align: right;\">  12.0898</td></tr>\n",
       "<tr><td style=\"text-align: right;\">  12.1574</td></tr>\n",
       "<tr><td style=\"text-align: right;\">  12.031 </td></tr>\n",
       "<tr><td style=\"text-align: right;\">  12.1476</td></tr>\n",
       "<tr><td style=\"text-align: right;\">  11.7942</td></tr>\n",
       "</tbody>\n",
       "</table>"
      ]
     },
     "metadata": {},
     "output_type": "display_data"
    },
    {
     "data": {
      "text/plain": []
     },
     "execution_count": 239,
     "metadata": {},
     "output_type": "execute_result"
    }
   ],
   "source": [
    "ert_preds1_test.head()"
   ]
  },
  {
   "cell_type": "code",
   "execution_count": 240,
   "metadata": {
    "collapsed": true
   },
   "outputs": [],
   "source": [
    "a=ert_preds1_test.as_data_frame()"
   ]
  },
  {
   "cell_type": "code",
   "execution_count": 241,
   "metadata": {},
   "outputs": [
    {
     "data": {
      "text/html": [
       "<div>\n",
       "<style>\n",
       "    .dataframe thead tr:only-child th {\n",
       "        text-align: right;\n",
       "    }\n",
       "\n",
       "    .dataframe thead th {\n",
       "        text-align: left;\n",
       "    }\n",
       "\n",
       "    .dataframe tbody tr th {\n",
       "        vertical-align: top;\n",
       "    }\n",
       "</style>\n",
       "<table border=\"1\" class=\"dataframe\">\n",
       "  <thead>\n",
       "    <tr style=\"text-align: right;\">\n",
       "      <th></th>\n",
       "      <th>predict</th>\n",
       "    </tr>\n",
       "  </thead>\n",
       "  <tbody>\n",
       "    <tr>\n",
       "      <th>0</th>\n",
       "      <td>11.578167</td>\n",
       "    </tr>\n",
       "    <tr>\n",
       "      <th>1</th>\n",
       "      <td>12.023013</td>\n",
       "    </tr>\n",
       "    <tr>\n",
       "      <th>2</th>\n",
       "      <td>12.154284</td>\n",
       "    </tr>\n",
       "    <tr>\n",
       "      <th>3</th>\n",
       "      <td>12.204391</td>\n",
       "    </tr>\n",
       "    <tr>\n",
       "      <th>4</th>\n",
       "      <td>12.104011</td>\n",
       "    </tr>\n",
       "  </tbody>\n",
       "</table>\n",
       "</div>"
      ],
      "text/plain": [
       "     predict\n",
       "0  11.578167\n",
       "1  12.023013\n",
       "2  12.154284\n",
       "3  12.204391\n",
       "4  12.104011"
      ]
     },
     "execution_count": 241,
     "metadata": {},
     "output_type": "execute_result"
    }
   ],
   "source": [
    "a.head()"
   ]
  },
  {
   "cell_type": "markdown",
   "metadata": {},
   "source": [
    "<div class=\"alert alert-block alert-success\">\n",
    "<font color='darkblue'>Before we concatenate our Log(SalePrice) with Id, we need to convert our log(Saleprice) to Saleprice ($) </font>"
   ]
  },
  {
   "cell_type": "code",
   "execution_count": 242,
   "metadata": {
    "collapsed": true
   },
   "outputs": [],
   "source": [
    "a['Saleprice'] = np.exp(a['predict'])"
   ]
  },
  {
   "cell_type": "code",
   "execution_count": 243,
   "metadata": {},
   "outputs": [
    {
     "data": {
      "text/html": [
       "<div>\n",
       "<style>\n",
       "    .dataframe thead tr:only-child th {\n",
       "        text-align: right;\n",
       "    }\n",
       "\n",
       "    .dataframe thead th {\n",
       "        text-align: left;\n",
       "    }\n",
       "\n",
       "    .dataframe tbody tr th {\n",
       "        vertical-align: top;\n",
       "    }\n",
       "</style>\n",
       "<table border=\"1\" class=\"dataframe\">\n",
       "  <thead>\n",
       "    <tr style=\"text-align: right;\">\n",
       "      <th></th>\n",
       "      <th>predict</th>\n",
       "      <th>Saleprice</th>\n",
       "    </tr>\n",
       "  </thead>\n",
       "  <tbody>\n",
       "    <tr>\n",
       "      <th>0</th>\n",
       "      <td>11.578167</td>\n",
       "      <td>106741.633094</td>\n",
       "    </tr>\n",
       "    <tr>\n",
       "      <th>1</th>\n",
       "      <td>12.023013</td>\n",
       "      <td>166543.691259</td>\n",
       "    </tr>\n",
       "    <tr>\n",
       "      <th>2</th>\n",
       "      <td>12.154284</td>\n",
       "      <td>189905.981548</td>\n",
       "    </tr>\n",
       "    <tr>\n",
       "      <th>3</th>\n",
       "      <td>12.204391</td>\n",
       "      <td>199663.974094</td>\n",
       "    </tr>\n",
       "    <tr>\n",
       "      <th>4</th>\n",
       "      <td>12.104011</td>\n",
       "      <td>180594.852664</td>\n",
       "    </tr>\n",
       "  </tbody>\n",
       "</table>\n",
       "</div>"
      ],
      "text/plain": [
       "     predict      Saleprice\n",
       "0  11.578167  106741.633094\n",
       "1  12.023013  166543.691259\n",
       "2  12.154284  189905.981548\n",
       "3  12.204391  199663.974094\n",
       "4  12.104011  180594.852664"
      ]
     },
     "execution_count": 243,
     "metadata": {},
     "output_type": "execute_result"
    }
   ],
   "source": [
    "a.head()"
   ]
  },
  {
   "cell_type": "markdown",
   "metadata": {},
   "source": [
    "<div class=\"alert alert-block alert-info\">\n",
    "<font color='green'>Here, we can have a look at the statistics of  our predict log(SalePrice) and SalePrice.</font>"
   ]
  },
  {
   "cell_type": "code",
   "execution_count": 244,
   "metadata": {},
   "outputs": [
    {
     "data": {
      "text/html": [
       "<div>\n",
       "<style>\n",
       "    .dataframe thead tr:only-child th {\n",
       "        text-align: right;\n",
       "    }\n",
       "\n",
       "    .dataframe thead th {\n",
       "        text-align: left;\n",
       "    }\n",
       "\n",
       "    .dataframe tbody tr th {\n",
       "        vertical-align: top;\n",
       "    }\n",
       "</style>\n",
       "<table border=\"1\" class=\"dataframe\">\n",
       "  <thead>\n",
       "    <tr style=\"text-align: right;\">\n",
       "      <th></th>\n",
       "      <th>predict</th>\n",
       "      <th>Saleprice</th>\n",
       "    </tr>\n",
       "  </thead>\n",
       "  <tbody>\n",
       "    <tr>\n",
       "      <th>count</th>\n",
       "      <td>1459.000000</td>\n",
       "      <td>1.459000e+03</td>\n",
       "    </tr>\n",
       "    <tr>\n",
       "      <th>mean</th>\n",
       "      <td>12.038113</td>\n",
       "      <td>1.854547e+05</td>\n",
       "    </tr>\n",
       "    <tr>\n",
       "      <th>std</th>\n",
       "      <td>0.417978</td>\n",
       "      <td>9.030903e+04</td>\n",
       "    </tr>\n",
       "    <tr>\n",
       "      <th>min</th>\n",
       "      <td>10.671394</td>\n",
       "      <td>4.310501e+04</td>\n",
       "    </tr>\n",
       "    <tr>\n",
       "      <th>25%</th>\n",
       "      <td>11.752652</td>\n",
       "      <td>1.270901e+05</td>\n",
       "    </tr>\n",
       "    <tr>\n",
       "      <th>50%</th>\n",
       "      <td>11.996287</td>\n",
       "      <td>1.621516e+05</td>\n",
       "    </tr>\n",
       "    <tr>\n",
       "      <th>75%</th>\n",
       "      <td>12.300341</td>\n",
       "      <td>2.197710e+05</td>\n",
       "    </tr>\n",
       "    <tr>\n",
       "      <th>max</th>\n",
       "      <td>14.161274</td>\n",
       "      <td>1.413068e+06</td>\n",
       "    </tr>\n",
       "  </tbody>\n",
       "</table>\n",
       "</div>"
      ],
      "text/plain": [
       "           predict     Saleprice\n",
       "count  1459.000000  1.459000e+03\n",
       "mean     12.038113  1.854547e+05\n",
       "std       0.417978  9.030903e+04\n",
       "min      10.671394  4.310501e+04\n",
       "25%      11.752652  1.270901e+05\n",
       "50%      11.996287  1.621516e+05\n",
       "75%      12.300341  2.197710e+05\n",
       "max      14.161274  1.413068e+06"
      ]
     },
     "execution_count": 244,
     "metadata": {},
     "output_type": "execute_result"
    }
   ],
   "source": [
    "a.describe()"
   ]
  },
  {
   "cell_type": "markdown",
   "metadata": {},
   "source": [
    "<div class=\"alert alert-block alert-info\">\n",
    "<font color='green'>Now, we can put Id and Saleprice together, save them and submit it on Kaggle. </font>"
   ]
  },
  {
   "cell_type": "code",
   "execution_count": 245,
   "metadata": {
    "collapsed": true
   },
   "outputs": [],
   "source": [
    "Id=testa['Id']"
   ]
  },
  {
   "cell_type": "code",
   "execution_count": 246,
   "metadata": {
    "collapsed": true
   },
   "outputs": [],
   "source": [
    "SalePrice=a['Saleprice']"
   ]
  },
  {
   "cell_type": "code",
   "execution_count": 247,
   "metadata": {
    "collapsed": true
   },
   "outputs": [],
   "source": [
    "DL_model3_result=pd.concat((Id,SalePrice),axis=1)"
   ]
  },
  {
   "cell_type": "code",
   "execution_count": 248,
   "metadata": {},
   "outputs": [
    {
     "data": {
      "text/html": [
       "<div>\n",
       "<style>\n",
       "    .dataframe thead tr:only-child th {\n",
       "        text-align: right;\n",
       "    }\n",
       "\n",
       "    .dataframe thead th {\n",
       "        text-align: left;\n",
       "    }\n",
       "\n",
       "    .dataframe tbody tr th {\n",
       "        vertical-align: top;\n",
       "    }\n",
       "</style>\n",
       "<table border=\"1\" class=\"dataframe\">\n",
       "  <thead>\n",
       "    <tr style=\"text-align: right;\">\n",
       "      <th></th>\n",
       "      <th>Id</th>\n",
       "      <th>Saleprice</th>\n",
       "    </tr>\n",
       "  </thead>\n",
       "  <tbody>\n",
       "    <tr>\n",
       "      <th>0</th>\n",
       "      <td>1461</td>\n",
       "      <td>106741.633094</td>\n",
       "    </tr>\n",
       "    <tr>\n",
       "      <th>1</th>\n",
       "      <td>1462</td>\n",
       "      <td>166543.691259</td>\n",
       "    </tr>\n",
       "    <tr>\n",
       "      <th>2</th>\n",
       "      <td>1463</td>\n",
       "      <td>189905.981548</td>\n",
       "    </tr>\n",
       "    <tr>\n",
       "      <th>3</th>\n",
       "      <td>1464</td>\n",
       "      <td>199663.974094</td>\n",
       "    </tr>\n",
       "    <tr>\n",
       "      <th>4</th>\n",
       "      <td>1465</td>\n",
       "      <td>180594.852664</td>\n",
       "    </tr>\n",
       "  </tbody>\n",
       "</table>\n",
       "</div>"
      ],
      "text/plain": [
       "     Id      Saleprice\n",
       "0  1461  106741.633094\n",
       "1  1462  166543.691259\n",
       "2  1463  189905.981548\n",
       "3  1464  199663.974094\n",
       "4  1465  180594.852664"
      ]
     },
     "execution_count": 248,
     "metadata": {},
     "output_type": "execute_result"
    }
   ],
   "source": [
    "DL_model3_result.head()"
   ]
  },
  {
   "cell_type": "code",
   "execution_count": 250,
   "metadata": {
    "collapsed": true
   },
   "outputs": [],
   "source": [
    "DL_model3_result.to_csv('DL_model3_result.csv')"
   ]
  },
  {
   "cell_type": "code",
   "execution_count": null,
   "metadata": {
    "collapsed": true
   },
   "outputs": [],
   "source": []
  }
 ],
 "metadata": {
  "kernelspec": {
   "display_name": "Python 3",
   "language": "python",
   "name": "python3"
  },
  "language_info": {
   "codemirror_mode": {
    "name": "ipython",
    "version": 3
   },
   "file_extension": ".py",
   "mimetype": "text/x-python",
   "name": "python",
   "nbconvert_exporter": "python",
   "pygments_lexer": "ipython3",
   "version": "3.6.4"
  }
 },
 "nbformat": 4,
 "nbformat_minor": 2
}
