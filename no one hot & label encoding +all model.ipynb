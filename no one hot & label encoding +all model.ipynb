{
 "cells": [
  {
   "cell_type": "markdown",
   "metadata": {},
   "source": [
    "# DNSC 6279 Group Project - House Prices"
   ]
  },
  {
   "cell_type": "markdown",
   "metadata": {},
   "source": [
    "![title](img/title.png \"ShowMyImage\")"
   ]
  },
  {
   "cell_type": "markdown",
   "metadata": {},
   "source": [
    " <br>\n",
    " ## Part One: Import & Look At The Train & Test Data"
   ]
  },
  {
   "cell_type": "markdown",
   "metadata": {},
   "source": [
    "![title](img/step one.png \"ShowMyImage\")"
   ]
  },
  {
   "cell_type": "code",
   "execution_count": 1,
   "metadata": {
    "collapsed": true
   },
   "outputs": [],
   "source": [
    "import pandas as pd\n",
    "import numpy as np\n",
    "\n",
    "import matplotlib.pyplot as plt\n",
    "%matplotlib inline\n",
    "\n",
    "from scipy import stats\n",
    "\n",
    "import seaborn as sns\n",
    "sns.set_style('whitegrid')"
   ]
  },
  {
   "cell_type": "code",
   "execution_count": 2,
   "metadata": {
    "collapsed": true
   },
   "outputs": [],
   "source": [
    "train = pd.read_csv('train project.csv')\n",
    "test = pd.read_csv('test project.csv')"
   ]
  },
  {
   "cell_type": "code",
   "execution_count": 3,
   "metadata": {},
   "outputs": [
    {
     "data": {
      "text/plain": [
       "array(['Id', 'MSSubClass', 'MSZoning', 'LotFrontage', 'LotArea', 'Street',\n",
       "       'Alley', 'LotShape', 'LandContour', 'Utilities', 'LotConfig',\n",
       "       'LandSlope', 'Neighborhood', 'Condition1', 'Condition2', 'BldgType',\n",
       "       'HouseStyle', 'OverallQual', 'OverallCond', 'YearBuilt',\n",
       "       'YearRemodAdd', 'RoofStyle', 'RoofMatl', 'Exterior1st',\n",
       "       'Exterior2nd', 'MasVnrType', 'MasVnrArea', 'ExterQual', 'ExterCond',\n",
       "       'Foundation', 'BsmtQual', 'BsmtCond', 'BsmtExposure',\n",
       "       'BsmtFinType1', 'BsmtFinSF1', 'BsmtFinType2', 'BsmtFinSF2',\n",
       "       'BsmtUnfSF', 'TotalBsmtSF', 'Heating', 'HeatingQC', 'CentralAir',\n",
       "       'Electrical', '1stFlrSF', '2ndFlrSF', 'LowQualFinSF', 'GrLivArea',\n",
       "       'BsmtFullBath', 'BsmtHalfBath', 'FullBath', 'HalfBath',\n",
       "       'BedroomAbvGr', 'KitchenAbvGr', 'KitchenQual', 'TotRmsAbvGrd',\n",
       "       'Functional', 'Fireplaces', 'FireplaceQu', 'GarageType',\n",
       "       'GarageYrBlt', 'GarageFinish', 'GarageCars', 'GarageArea',\n",
       "       'GarageQual', 'GarageCond', 'PavedDrive', 'WoodDeckSF',\n",
       "       'OpenPorchSF', 'EnclosedPorch', '3SsnPorch', 'ScreenPorch',\n",
       "       'PoolArea', 'PoolQC', 'Fence', 'MiscFeature', 'MiscVal', 'MoSold',\n",
       "       'YrSold', 'SaleType', 'SaleCondition', 'SalePrice'], dtype=object)"
      ]
     },
     "execution_count": 3,
     "metadata": {},
     "output_type": "execute_result"
    }
   ],
   "source": [
    "train.columns.values"
   ]
  },
  {
   "cell_type": "code",
   "execution_count": 4,
   "metadata": {},
   "outputs": [
    {
     "data": {
      "text/plain": [
       "array(['Id', 'MSSubClass', 'MSZoning', 'LotFrontage', 'LotArea', 'Street',\n",
       "       'Alley', 'LotShape', 'LandContour', 'Utilities', 'LotConfig',\n",
       "       'LandSlope', 'Neighborhood', 'Condition1', 'Condition2', 'BldgType',\n",
       "       'HouseStyle', 'OverallQual', 'OverallCond', 'YearBuilt',\n",
       "       'YearRemodAdd', 'RoofStyle', 'RoofMatl', 'Exterior1st',\n",
       "       'Exterior2nd', 'MasVnrType', 'MasVnrArea', 'ExterQual', 'ExterCond',\n",
       "       'Foundation', 'BsmtQual', 'BsmtCond', 'BsmtExposure',\n",
       "       'BsmtFinType1', 'BsmtFinSF1', 'BsmtFinType2', 'BsmtFinSF2',\n",
       "       'BsmtUnfSF', 'TotalBsmtSF', 'Heating', 'HeatingQC', 'CentralAir',\n",
       "       'Electrical', '1stFlrSF', '2ndFlrSF', 'LowQualFinSF', 'GrLivArea',\n",
       "       'BsmtFullBath', 'BsmtHalfBath', 'FullBath', 'HalfBath',\n",
       "       'BedroomAbvGr', 'KitchenAbvGr', 'KitchenQual', 'TotRmsAbvGrd',\n",
       "       'Functional', 'Fireplaces', 'FireplaceQu', 'GarageType',\n",
       "       'GarageYrBlt', 'GarageFinish', 'GarageCars', 'GarageArea',\n",
       "       'GarageQual', 'GarageCond', 'PavedDrive', 'WoodDeckSF',\n",
       "       'OpenPorchSF', 'EnclosedPorch', '3SsnPorch', 'ScreenPorch',\n",
       "       'PoolArea', 'PoolQC', 'Fence', 'MiscFeature', 'MiscVal', 'MoSold',\n",
       "       'YrSold', 'SaleType', 'SaleCondition'], dtype=object)"
      ]
     },
     "execution_count": 4,
     "metadata": {},
     "output_type": "execute_result"
    }
   ],
   "source": [
    "test.columns.values"
   ]
  },
  {
   "cell_type": "code",
   "execution_count": 5,
   "metadata": {},
   "outputs": [
    {
     "data": {
      "text/html": [
       "<div>\n",
       "<style>\n",
       "    .dataframe thead tr:only-child th {\n",
       "        text-align: right;\n",
       "    }\n",
       "\n",
       "    .dataframe thead th {\n",
       "        text-align: left;\n",
       "    }\n",
       "\n",
       "    .dataframe tbody tr th {\n",
       "        vertical-align: top;\n",
       "    }\n",
       "</style>\n",
       "<table border=\"1\" class=\"dataframe\">\n",
       "  <thead>\n",
       "    <tr style=\"text-align: right;\">\n",
       "      <th></th>\n",
       "      <th>Id</th>\n",
       "      <th>MSSubClass</th>\n",
       "      <th>MSZoning</th>\n",
       "      <th>LotFrontage</th>\n",
       "      <th>LotArea</th>\n",
       "      <th>Street</th>\n",
       "      <th>Alley</th>\n",
       "      <th>LotShape</th>\n",
       "      <th>LandContour</th>\n",
       "      <th>Utilities</th>\n",
       "      <th>...</th>\n",
       "      <th>PoolArea</th>\n",
       "      <th>PoolQC</th>\n",
       "      <th>Fence</th>\n",
       "      <th>MiscFeature</th>\n",
       "      <th>MiscVal</th>\n",
       "      <th>MoSold</th>\n",
       "      <th>YrSold</th>\n",
       "      <th>SaleType</th>\n",
       "      <th>SaleCondition</th>\n",
       "      <th>SalePrice</th>\n",
       "    </tr>\n",
       "  </thead>\n",
       "  <tbody>\n",
       "    <tr>\n",
       "      <th>1455</th>\n",
       "      <td>1456</td>\n",
       "      <td>60</td>\n",
       "      <td>RL</td>\n",
       "      <td>62.0</td>\n",
       "      <td>7917</td>\n",
       "      <td>Pave</td>\n",
       "      <td>NaN</td>\n",
       "      <td>Reg</td>\n",
       "      <td>Lvl</td>\n",
       "      <td>AllPub</td>\n",
       "      <td>...</td>\n",
       "      <td>0</td>\n",
       "      <td>NaN</td>\n",
       "      <td>NaN</td>\n",
       "      <td>NaN</td>\n",
       "      <td>0</td>\n",
       "      <td>8</td>\n",
       "      <td>2007</td>\n",
       "      <td>WD</td>\n",
       "      <td>Normal</td>\n",
       "      <td>175000</td>\n",
       "    </tr>\n",
       "    <tr>\n",
       "      <th>1456</th>\n",
       "      <td>1457</td>\n",
       "      <td>20</td>\n",
       "      <td>RL</td>\n",
       "      <td>85.0</td>\n",
       "      <td>13175</td>\n",
       "      <td>Pave</td>\n",
       "      <td>NaN</td>\n",
       "      <td>Reg</td>\n",
       "      <td>Lvl</td>\n",
       "      <td>AllPub</td>\n",
       "      <td>...</td>\n",
       "      <td>0</td>\n",
       "      <td>NaN</td>\n",
       "      <td>MnPrv</td>\n",
       "      <td>NaN</td>\n",
       "      <td>0</td>\n",
       "      <td>2</td>\n",
       "      <td>2010</td>\n",
       "      <td>WD</td>\n",
       "      <td>Normal</td>\n",
       "      <td>210000</td>\n",
       "    </tr>\n",
       "    <tr>\n",
       "      <th>1457</th>\n",
       "      <td>1458</td>\n",
       "      <td>70</td>\n",
       "      <td>RL</td>\n",
       "      <td>66.0</td>\n",
       "      <td>9042</td>\n",
       "      <td>Pave</td>\n",
       "      <td>NaN</td>\n",
       "      <td>Reg</td>\n",
       "      <td>Lvl</td>\n",
       "      <td>AllPub</td>\n",
       "      <td>...</td>\n",
       "      <td>0</td>\n",
       "      <td>NaN</td>\n",
       "      <td>GdPrv</td>\n",
       "      <td>Shed</td>\n",
       "      <td>2500</td>\n",
       "      <td>5</td>\n",
       "      <td>2010</td>\n",
       "      <td>WD</td>\n",
       "      <td>Normal</td>\n",
       "      <td>266500</td>\n",
       "    </tr>\n",
       "    <tr>\n",
       "      <th>1458</th>\n",
       "      <td>1459</td>\n",
       "      <td>20</td>\n",
       "      <td>RL</td>\n",
       "      <td>68.0</td>\n",
       "      <td>9717</td>\n",
       "      <td>Pave</td>\n",
       "      <td>NaN</td>\n",
       "      <td>Reg</td>\n",
       "      <td>Lvl</td>\n",
       "      <td>AllPub</td>\n",
       "      <td>...</td>\n",
       "      <td>0</td>\n",
       "      <td>NaN</td>\n",
       "      <td>NaN</td>\n",
       "      <td>NaN</td>\n",
       "      <td>0</td>\n",
       "      <td>4</td>\n",
       "      <td>2010</td>\n",
       "      <td>WD</td>\n",
       "      <td>Normal</td>\n",
       "      <td>142125</td>\n",
       "    </tr>\n",
       "    <tr>\n",
       "      <th>1459</th>\n",
       "      <td>1460</td>\n",
       "      <td>20</td>\n",
       "      <td>RL</td>\n",
       "      <td>75.0</td>\n",
       "      <td>9937</td>\n",
       "      <td>Pave</td>\n",
       "      <td>NaN</td>\n",
       "      <td>Reg</td>\n",
       "      <td>Lvl</td>\n",
       "      <td>AllPub</td>\n",
       "      <td>...</td>\n",
       "      <td>0</td>\n",
       "      <td>NaN</td>\n",
       "      <td>NaN</td>\n",
       "      <td>NaN</td>\n",
       "      <td>0</td>\n",
       "      <td>6</td>\n",
       "      <td>2008</td>\n",
       "      <td>WD</td>\n",
       "      <td>Normal</td>\n",
       "      <td>147500</td>\n",
       "    </tr>\n",
       "  </tbody>\n",
       "</table>\n",
       "<p>5 rows × 81 columns</p>\n",
       "</div>"
      ],
      "text/plain": [
       "        Id  MSSubClass MSZoning  LotFrontage  LotArea Street Alley LotShape  \\\n",
       "1455  1456          60       RL         62.0     7917   Pave   NaN      Reg   \n",
       "1456  1457          20       RL         85.0    13175   Pave   NaN      Reg   \n",
       "1457  1458          70       RL         66.0     9042   Pave   NaN      Reg   \n",
       "1458  1459          20       RL         68.0     9717   Pave   NaN      Reg   \n",
       "1459  1460          20       RL         75.0     9937   Pave   NaN      Reg   \n",
       "\n",
       "     LandContour Utilities    ...     PoolArea PoolQC  Fence MiscFeature  \\\n",
       "1455         Lvl    AllPub    ...            0    NaN    NaN         NaN   \n",
       "1456         Lvl    AllPub    ...            0    NaN  MnPrv         NaN   \n",
       "1457         Lvl    AllPub    ...            0    NaN  GdPrv        Shed   \n",
       "1458         Lvl    AllPub    ...            0    NaN    NaN         NaN   \n",
       "1459         Lvl    AllPub    ...            0    NaN    NaN         NaN   \n",
       "\n",
       "     MiscVal MoSold YrSold  SaleType  SaleCondition  SalePrice  \n",
       "1455       0      8   2007        WD         Normal     175000  \n",
       "1456       0      2   2010        WD         Normal     210000  \n",
       "1457    2500      5   2010        WD         Normal     266500  \n",
       "1458       0      4   2010        WD         Normal     142125  \n",
       "1459       0      6   2008        WD         Normal     147500  \n",
       "\n",
       "[5 rows x 81 columns]"
      ]
     },
     "execution_count": 5,
     "metadata": {},
     "output_type": "execute_result"
    }
   ],
   "source": [
    "train.tail()"
   ]
  },
  {
   "cell_type": "code",
   "execution_count": 6,
   "metadata": {},
   "outputs": [
    {
     "data": {
      "text/html": [
       "<div>\n",
       "<style>\n",
       "    .dataframe thead tr:only-child th {\n",
       "        text-align: right;\n",
       "    }\n",
       "\n",
       "    .dataframe thead th {\n",
       "        text-align: left;\n",
       "    }\n",
       "\n",
       "    .dataframe tbody tr th {\n",
       "        vertical-align: top;\n",
       "    }\n",
       "</style>\n",
       "<table border=\"1\" class=\"dataframe\">\n",
       "  <thead>\n",
       "    <tr style=\"text-align: right;\">\n",
       "      <th></th>\n",
       "      <th>Id</th>\n",
       "      <th>MSSubClass</th>\n",
       "      <th>MSZoning</th>\n",
       "      <th>LotFrontage</th>\n",
       "      <th>LotArea</th>\n",
       "      <th>Street</th>\n",
       "      <th>Alley</th>\n",
       "      <th>LotShape</th>\n",
       "      <th>LandContour</th>\n",
       "      <th>Utilities</th>\n",
       "      <th>...</th>\n",
       "      <th>ScreenPorch</th>\n",
       "      <th>PoolArea</th>\n",
       "      <th>PoolQC</th>\n",
       "      <th>Fence</th>\n",
       "      <th>MiscFeature</th>\n",
       "      <th>MiscVal</th>\n",
       "      <th>MoSold</th>\n",
       "      <th>YrSold</th>\n",
       "      <th>SaleType</th>\n",
       "      <th>SaleCondition</th>\n",
       "    </tr>\n",
       "  </thead>\n",
       "  <tbody>\n",
       "    <tr>\n",
       "      <th>1454</th>\n",
       "      <td>2915</td>\n",
       "      <td>160</td>\n",
       "      <td>RM</td>\n",
       "      <td>21.0</td>\n",
       "      <td>1936</td>\n",
       "      <td>Pave</td>\n",
       "      <td>NaN</td>\n",
       "      <td>Reg</td>\n",
       "      <td>Lvl</td>\n",
       "      <td>AllPub</td>\n",
       "      <td>...</td>\n",
       "      <td>0</td>\n",
       "      <td>0</td>\n",
       "      <td>NaN</td>\n",
       "      <td>NaN</td>\n",
       "      <td>NaN</td>\n",
       "      <td>0</td>\n",
       "      <td>6</td>\n",
       "      <td>2006</td>\n",
       "      <td>WD</td>\n",
       "      <td>Normal</td>\n",
       "    </tr>\n",
       "    <tr>\n",
       "      <th>1455</th>\n",
       "      <td>2916</td>\n",
       "      <td>160</td>\n",
       "      <td>RM</td>\n",
       "      <td>21.0</td>\n",
       "      <td>1894</td>\n",
       "      <td>Pave</td>\n",
       "      <td>NaN</td>\n",
       "      <td>Reg</td>\n",
       "      <td>Lvl</td>\n",
       "      <td>AllPub</td>\n",
       "      <td>...</td>\n",
       "      <td>0</td>\n",
       "      <td>0</td>\n",
       "      <td>NaN</td>\n",
       "      <td>NaN</td>\n",
       "      <td>NaN</td>\n",
       "      <td>0</td>\n",
       "      <td>4</td>\n",
       "      <td>2006</td>\n",
       "      <td>WD</td>\n",
       "      <td>Abnorml</td>\n",
       "    </tr>\n",
       "    <tr>\n",
       "      <th>1456</th>\n",
       "      <td>2917</td>\n",
       "      <td>20</td>\n",
       "      <td>RL</td>\n",
       "      <td>160.0</td>\n",
       "      <td>20000</td>\n",
       "      <td>Pave</td>\n",
       "      <td>NaN</td>\n",
       "      <td>Reg</td>\n",
       "      <td>Lvl</td>\n",
       "      <td>AllPub</td>\n",
       "      <td>...</td>\n",
       "      <td>0</td>\n",
       "      <td>0</td>\n",
       "      <td>NaN</td>\n",
       "      <td>NaN</td>\n",
       "      <td>NaN</td>\n",
       "      <td>0</td>\n",
       "      <td>9</td>\n",
       "      <td>2006</td>\n",
       "      <td>WD</td>\n",
       "      <td>Abnorml</td>\n",
       "    </tr>\n",
       "    <tr>\n",
       "      <th>1457</th>\n",
       "      <td>2918</td>\n",
       "      <td>85</td>\n",
       "      <td>RL</td>\n",
       "      <td>62.0</td>\n",
       "      <td>10441</td>\n",
       "      <td>Pave</td>\n",
       "      <td>NaN</td>\n",
       "      <td>Reg</td>\n",
       "      <td>Lvl</td>\n",
       "      <td>AllPub</td>\n",
       "      <td>...</td>\n",
       "      <td>0</td>\n",
       "      <td>0</td>\n",
       "      <td>NaN</td>\n",
       "      <td>MnPrv</td>\n",
       "      <td>Shed</td>\n",
       "      <td>700</td>\n",
       "      <td>7</td>\n",
       "      <td>2006</td>\n",
       "      <td>WD</td>\n",
       "      <td>Normal</td>\n",
       "    </tr>\n",
       "    <tr>\n",
       "      <th>1458</th>\n",
       "      <td>2919</td>\n",
       "      <td>60</td>\n",
       "      <td>RL</td>\n",
       "      <td>74.0</td>\n",
       "      <td>9627</td>\n",
       "      <td>Pave</td>\n",
       "      <td>NaN</td>\n",
       "      <td>Reg</td>\n",
       "      <td>Lvl</td>\n",
       "      <td>AllPub</td>\n",
       "      <td>...</td>\n",
       "      <td>0</td>\n",
       "      <td>0</td>\n",
       "      <td>NaN</td>\n",
       "      <td>NaN</td>\n",
       "      <td>NaN</td>\n",
       "      <td>0</td>\n",
       "      <td>11</td>\n",
       "      <td>2006</td>\n",
       "      <td>WD</td>\n",
       "      <td>Normal</td>\n",
       "    </tr>\n",
       "  </tbody>\n",
       "</table>\n",
       "<p>5 rows × 80 columns</p>\n",
       "</div>"
      ],
      "text/plain": [
       "        Id  MSSubClass MSZoning  LotFrontage  LotArea Street Alley LotShape  \\\n",
       "1454  2915         160       RM         21.0     1936   Pave   NaN      Reg   \n",
       "1455  2916         160       RM         21.0     1894   Pave   NaN      Reg   \n",
       "1456  2917          20       RL        160.0    20000   Pave   NaN      Reg   \n",
       "1457  2918          85       RL         62.0    10441   Pave   NaN      Reg   \n",
       "1458  2919          60       RL         74.0     9627   Pave   NaN      Reg   \n",
       "\n",
       "     LandContour Utilities      ...       ScreenPorch PoolArea PoolQC  Fence  \\\n",
       "1454         Lvl    AllPub      ...                 0        0    NaN    NaN   \n",
       "1455         Lvl    AllPub      ...                 0        0    NaN    NaN   \n",
       "1456         Lvl    AllPub      ...                 0        0    NaN    NaN   \n",
       "1457         Lvl    AllPub      ...                 0        0    NaN  MnPrv   \n",
       "1458         Lvl    AllPub      ...                 0        0    NaN    NaN   \n",
       "\n",
       "     MiscFeature MiscVal MoSold  YrSold  SaleType  SaleCondition  \n",
       "1454         NaN       0      6    2006        WD         Normal  \n",
       "1455         NaN       0      4    2006        WD        Abnorml  \n",
       "1456         NaN       0      9    2006        WD        Abnorml  \n",
       "1457        Shed     700      7    2006        WD         Normal  \n",
       "1458         NaN       0     11    2006        WD         Normal  \n",
       "\n",
       "[5 rows x 80 columns]"
      ]
     },
     "execution_count": 6,
     "metadata": {},
     "output_type": "execute_result"
    }
   ],
   "source": [
    "test.tail()"
   ]
  },
  {
   "cell_type": "code",
   "execution_count": 7,
   "metadata": {},
   "outputs": [
    {
     "name": "stdout",
     "output_type": "stream",
     "text": [
      "(1460, 81)\n",
      "(1459, 80)\n"
     ]
    }
   ],
   "source": [
    "print(train.shape)\n",
    "print(test.shape)"
   ]
  },
  {
   "cell_type": "markdown",
   "metadata": {},
   "source": [
    "<br>\n",
    "# Part Two: Data Preparation & Data Cleaning"
   ]
  },
  {
   "cell_type": "markdown",
   "metadata": {},
   "source": [
    "![title](img/data_preparation.png \"ShowMyImage\")"
   ]
  },
  {
   "cell_type": "markdown",
   "metadata": {},
   "source": [
    "## 1. Target Variable Transformation"
   ]
  },
  {
   "cell_type": "code",
   "execution_count": 8,
   "metadata": {},
   "outputs": [
    {
     "data": {
      "text/plain": [
       "count      1460.000000\n",
       "mean     180921.195890\n",
       "std       79442.502883\n",
       "min       34900.000000\n",
       "25%      129975.000000\n",
       "50%      163000.000000\n",
       "75%      214000.000000\n",
       "max      755000.000000\n",
       "Name: SalePrice, dtype: float64"
      ]
     },
     "execution_count": 8,
     "metadata": {},
     "output_type": "execute_result"
    }
   ],
   "source": [
    "train['SalePrice'].describe()"
   ]
  },
  {
   "cell_type": "code",
   "execution_count": 9,
   "metadata": {},
   "outputs": [
    {
     "data": {
      "text/plain": [
       "[<matplotlib.lines.Line2D at 0x112184748>]"
      ]
     },
     "execution_count": 9,
     "metadata": {},
     "output_type": "execute_result"
    },
    {
     "data": {
      "image/png": "[encoded data removed]",
      "text/plain": [
       "<matplotlib.figure.Figure at 0x111735668>"
      ]
     },
     "metadata": {},
     "output_type": "display_data"
    }
   ],
   "source": [
    "price=train['SalePrice'].value_counts().sort_index()\n",
    "plt. plot(price,color = 'salmon')"
   ]
  },
  {
   "cell_type": "markdown",
   "metadata": {},
   "source": [
    "<div class=\"alert alert-block alert-warning\">\n",
    "<font color='red'>From the distribution plot, we see the distribution of SalePrice is right skewed. </font>"
   ]
  },
  {
   "cell_type": "code",
   "execution_count": 10,
   "metadata": {},
   "outputs": [
    {
     "data": {
      "image/png": "[encoded data removed]",
      "text/plain": [
       "<matplotlib.figure.Figure at 0x1121eadd8>"
      ]
     },
     "metadata": {},
     "output_type": "display_data"
    }
   ],
   "source": [
    "#Get also the QQ-plot\n",
    "fig = plt.figure()\n",
    "res = stats.probplot(train['SalePrice'], plot=plt)"
   ]
  },
  {
   "cell_type": "markdown",
   "metadata": {},
   "source": [
    "<div class=\"alert alert-block alert-warning\">\n",
    "<font color='red'>From the probability plot, we see the plot is not fit. \n",
    "<br>\n",
    "So we need to fix this problem. One way to fix this problem is to do the log transformation on our target variable. </font>"
   ]
  },
  {
   "cell_type": "code",
   "execution_count": 11,
   "metadata": {
    "collapsed": true
   },
   "outputs": [],
   "source": [
    "train[\"SalePrice\"] = np.log1p(train[\"SalePrice\"])"
   ]
  },
  {
   "cell_type": "code",
   "execution_count": 12,
   "metadata": {},
   "outputs": [
    {
     "data": {
      "text/plain": [
       "[<matplotlib.lines.Line2D at 0x115d85898>]"
      ]
     },
     "execution_count": 12,
     "metadata": {},
     "output_type": "execute_result"
    },
    {
     "data": {
      "image/png": "[encoded data removed]",
      "text/plain": [
       "<matplotlib.figure.Figure at 0x1122775f8>"
      ]
     },
     "metadata": {},
     "output_type": "display_data"
    }
   ],
   "source": [
    "price=train['SalePrice'].value_counts().sort_index()\n",
    "plt. plot(price,color='salmon')"
   ]
  },
  {
   "cell_type": "code",
   "execution_count": 13,
   "metadata": {},
   "outputs": [
    {
     "data": {
      "image/png": "[encoded data removed]",
      "text/plain": [
       "<matplotlib.figure.Figure at 0x115dc6a90>"
      ]
     },
     "metadata": {},
     "output_type": "display_data"
    }
   ],
   "source": [
    "fig = plt.figure()\n",
    "res = stats.probplot(train['SalePrice'], plot=plt)"
   ]
  },
  {
   "cell_type": "markdown",
   "metadata": {},
   "source": [
    "<div class=\"alert alert-block alert-info\">\n",
    "<font color='green'>Now we get rid of the skewness problem, and the plot seems better and fit for linear model.</font>"
   ]
  },
  {
   "cell_type": "markdown",
   "metadata": {},
   "source": [
    "## 2. Look at the Correlation & Outliers"
   ]
  },
  {
   "cell_type": "code",
   "execution_count": 14,
   "metadata": {},
   "outputs": [
    {
     "data": {
      "text/plain": [
       "<matplotlib.axes._subplots.AxesSubplot at 0x115de75f8>"
      ]
     },
     "execution_count": 14,
     "metadata": {},
     "output_type": "execute_result"
    },
    {
     "data": {
      "image/png": "[encoded data removed]",
      "text/plain": [
       "<matplotlib.figure.Figure at 0x115e45dd8>"
      ]
     },
     "metadata": {},
     "output_type": "display_data"
    }
   ],
   "source": [
    "corrmat = train.corr()\n",
    "plt.subplots(figsize=(12,9))\n",
    "sns.heatmap(corrmat, vmax=1, linewidths=.5,square=True, cmap=\"RdPu\")"
   ]
  },
  {
   "cell_type": "markdown",
   "metadata": {},
   "source": [
    "<div class=\"alert alert-block alert-info\">\n",
    "<font color='green'>From the above correlation heatmap, we see that the OverallQual seems highly correlated with our target variable SalePrice. \n",
    "<br>\n",
    "So, we need to futher look at this variable. \n",
    "<br>\n",
    "Notice that we also look at other vairables, but we found these two variables are most interested to us.\n",
    "</font>"
   ]
  },
  {
   "cell_type": "code",
   "execution_count": 15,
   "metadata": {},
   "outputs": [
    {
     "data": {
      "image/png": "[encoded data removed]",
      "text/plain": [
       "<matplotlib.figure.Figure at 0x115f635f8>"
      ]
     },
     "metadata": {},
     "output_type": "display_data"
    }
   ],
   "source": [
    "fig, ax = plt.subplots()\n",
    "ax.scatter(x = train['OverallQual'], y = train['SalePrice'], color='pink')\n",
    "plt.ylabel('SalePrice', fontsize=15)\n",
    "plt.xlabel('OverallQual', fontsize=15)\n",
    "plt.show()"
   ]
  },
  {
   "cell_type": "markdown",
   "metadata": {},
   "source": [
    "<div class=\"alert alert-block alert-info\">\n",
    "<font color='green'>The GrLivArea also seems highly correlated with SalePrice.</font>"
   ]
  },
  {
   "cell_type": "code",
   "execution_count": 16,
   "metadata": {},
   "outputs": [
    {
     "data": {
      "image/png": "[encoded data removed]",
      "text/plain": [
       "<matplotlib.figure.Figure at 0x11625c5f8>"
      ]
     },
     "metadata": {},
     "output_type": "display_data"
    }
   ],
   "source": [
    "fig, ax = plt.subplots()\n",
    "ax.scatter(x = train['GrLivArea'], y = train['SalePrice'],color='pink')\n",
    "plt.ylabel('SalePrice', fontsize=15)\n",
    "plt.xlabel('GrLivArea', fontsize=15)\n",
    "plt.show()"
   ]
  },
  {
   "cell_type": "markdown",
   "metadata": {},
   "source": [
    "<div class=\"alert alert-block alert-warning\">\n",
    "<font color='red'>GrLivArea means the above grade (ground) living area square feet. \n",
    "<br>\n",
    "After futher look at this variable, we found that there are two outliers (the larger area square feet but low saleprice), so we should exclude the outliers.</font>"
   ]
  },
  {
   "cell_type": "code",
   "execution_count": 17,
   "metadata": {
    "collapsed": true
   },
   "outputs": [],
   "source": [
    "train = train.drop(train[(train['GrLivArea']>4000) & (train['SalePrice']<12.5)].index)"
   ]
  },
  {
   "cell_type": "code",
   "execution_count": 18,
   "metadata": {},
   "outputs": [
    {
     "data": {
      "image/png": "[encoded data removed]",
      "text/plain": [
       "<matplotlib.figure.Figure at 0x115dad358>"
      ]
     },
     "metadata": {},
     "output_type": "display_data"
    }
   ],
   "source": [
    "fig, ax = plt.subplots()\n",
    "ax.scatter(x = train['GrLivArea'], y = train['SalePrice'],color='pink')\n",
    "plt.ylabel('SalePrice', fontsize=15)\n",
    "plt.xlabel('GrLivArea', fontsize=15)\n",
    "plt.show()"
   ]
  },
  {
   "cell_type": "markdown",
   "metadata": {},
   "source": [
    "<div class=\"alert alert-block alert-info\">\n",
    "<font color='green'>Now we can see from the plot, we dropped that two outliers.</font>"
   ]
  },
  {
   "cell_type": "markdown",
   "metadata": {},
   "source": [
    "## 3. Split into to train and validation (Before Doing Feature Engineering!!!)"
   ]
  },
  {
   "cell_type": "markdown",
   "metadata": {},
   "source": [
    "<div class=\"alert alert-block alert-success\">\n",
    "<font color='darkblue'>We dececided to split our train data into two parts: </font>\n",
    "\n",
    "-  <font color='darkblue'>train </font>\n",
    "-  <font color='darkblue'>validation </font>"
   ]
  },
  {
   "cell_type": "code",
   "execution_count": 19,
   "metadata": {
    "collapsed": true
   },
   "outputs": [],
   "source": [
    "train1 = train[:1000]\n",
    "validation = train[1000:]"
   ]
  },
  {
   "cell_type": "code",
   "execution_count": 20,
   "metadata": {},
   "outputs": [
    {
     "name": "stdout",
     "output_type": "stream",
     "text": [
      "(1000, 81)\n",
      "(458, 81)\n"
     ]
    }
   ],
   "source": [
    "print(train1.shape)\n",
    "print(validation.shape)"
   ]
  },
  {
   "cell_type": "markdown",
   "metadata": {},
   "source": [
    "## 4. Independent variables selection and inputing"
   ]
  },
  {
   "cell_type": "markdown",
   "metadata": {},
   "source": [
    "![title](img/dataclean.jpg \"ShowMyImage\")"
   ]
  },
  {
   "cell_type": "markdown",
   "metadata": {},
   "source": [
    "**(1) Missing Value (NA)**"
   ]
  },
  {
   "cell_type": "markdown",
   "metadata": {},
   "source": [
    "![title](img/missa.png \"ShowMyImage\")"
   ]
  },
  {
   "cell_type": "code",
   "execution_count": 21,
   "metadata": {},
   "outputs": [
    {
     "data": {
      "text/html": [
       "<div>\n",
       "<style>\n",
       "    .dataframe thead tr:only-child th {\n",
       "        text-align: right;\n",
       "    }\n",
       "\n",
       "    .dataframe thead th {\n",
       "        text-align: left;\n",
       "    }\n",
       "\n",
       "    .dataframe tbody tr th {\n",
       "        vertical-align: top;\n",
       "    }\n",
       "</style>\n",
       "<table border=\"1\" class=\"dataframe\">\n",
       "  <thead>\n",
       "    <tr style=\"text-align: right;\">\n",
       "      <th></th>\n",
       "      <th>Total</th>\n",
       "      <th>Percent</th>\n",
       "    </tr>\n",
       "  </thead>\n",
       "  <tbody>\n",
       "    <tr>\n",
       "      <th>PoolQC</th>\n",
       "      <td>998</td>\n",
       "      <td>0.998</td>\n",
       "    </tr>\n",
       "    <tr>\n",
       "      <th>MiscFeature</th>\n",
       "      <td>957</td>\n",
       "      <td>0.957</td>\n",
       "    </tr>\n",
       "    <tr>\n",
       "      <th>Alley</th>\n",
       "      <td>935</td>\n",
       "      <td>0.935</td>\n",
       "    </tr>\n",
       "    <tr>\n",
       "      <th>Fence</th>\n",
       "      <td>806</td>\n",
       "      <td>0.806</td>\n",
       "    </tr>\n",
       "    <tr>\n",
       "      <th>FireplaceQu</th>\n",
       "      <td>479</td>\n",
       "      <td>0.479</td>\n",
       "    </tr>\n",
       "    <tr>\n",
       "      <th>LotFrontage</th>\n",
       "      <td>173</td>\n",
       "      <td>0.173</td>\n",
       "    </tr>\n",
       "    <tr>\n",
       "      <th>GarageType</th>\n",
       "      <td>56</td>\n",
       "      <td>0.056</td>\n",
       "    </tr>\n",
       "    <tr>\n",
       "      <th>GarageCond</th>\n",
       "      <td>56</td>\n",
       "      <td>0.056</td>\n",
       "    </tr>\n",
       "    <tr>\n",
       "      <th>GarageYrBlt</th>\n",
       "      <td>56</td>\n",
       "      <td>0.056</td>\n",
       "    </tr>\n",
       "    <tr>\n",
       "      <th>GarageFinish</th>\n",
       "      <td>56</td>\n",
       "      <td>0.056</td>\n",
       "    </tr>\n",
       "    <tr>\n",
       "      <th>GarageQual</th>\n",
       "      <td>56</td>\n",
       "      <td>0.056</td>\n",
       "    </tr>\n",
       "    <tr>\n",
       "      <th>BsmtExposure</th>\n",
       "      <td>26</td>\n",
       "      <td>0.026</td>\n",
       "    </tr>\n",
       "    <tr>\n",
       "      <th>BsmtFinType2</th>\n",
       "      <td>26</td>\n",
       "      <td>0.026</td>\n",
       "    </tr>\n",
       "    <tr>\n",
       "      <th>BsmtFinType1</th>\n",
       "      <td>25</td>\n",
       "      <td>0.025</td>\n",
       "    </tr>\n",
       "    <tr>\n",
       "      <th>BsmtCond</th>\n",
       "      <td>25</td>\n",
       "      <td>0.025</td>\n",
       "    </tr>\n",
       "    <tr>\n",
       "      <th>BsmtQual</th>\n",
       "      <td>25</td>\n",
       "      <td>0.025</td>\n",
       "    </tr>\n",
       "    <tr>\n",
       "      <th>MasVnrArea</th>\n",
       "      <td>6</td>\n",
       "      <td>0.006</td>\n",
       "    </tr>\n",
       "    <tr>\n",
       "      <th>MasVnrType</th>\n",
       "      <td>6</td>\n",
       "      <td>0.006</td>\n",
       "    </tr>\n",
       "    <tr>\n",
       "      <th>Exterior2nd</th>\n",
       "      <td>0</td>\n",
       "      <td>0.000</td>\n",
       "    </tr>\n",
       "    <tr>\n",
       "      <th>Exterior1st</th>\n",
       "      <td>0</td>\n",
       "      <td>0.000</td>\n",
       "    </tr>\n",
       "    <tr>\n",
       "      <th>OverallCond</th>\n",
       "      <td>0</td>\n",
       "      <td>0.000</td>\n",
       "    </tr>\n",
       "    <tr>\n",
       "      <th>ExterQual</th>\n",
       "      <td>0</td>\n",
       "      <td>0.000</td>\n",
       "    </tr>\n",
       "    <tr>\n",
       "      <th>ExterCond</th>\n",
       "      <td>0</td>\n",
       "      <td>0.000</td>\n",
       "    </tr>\n",
       "    <tr>\n",
       "      <th>Foundation</th>\n",
       "      <td>0</td>\n",
       "      <td>0.000</td>\n",
       "    </tr>\n",
       "    <tr>\n",
       "      <th>RoofMatl</th>\n",
       "      <td>0</td>\n",
       "      <td>0.000</td>\n",
       "    </tr>\n",
       "    <tr>\n",
       "      <th>RoofStyle</th>\n",
       "      <td>0</td>\n",
       "      <td>0.000</td>\n",
       "    </tr>\n",
       "    <tr>\n",
       "      <th>YearRemodAdd</th>\n",
       "      <td>0</td>\n",
       "      <td>0.000</td>\n",
       "    </tr>\n",
       "    <tr>\n",
       "      <th>YearBuilt</th>\n",
       "      <td>0</td>\n",
       "      <td>0.000</td>\n",
       "    </tr>\n",
       "    <tr>\n",
       "      <th>SalePrice</th>\n",
       "      <td>0</td>\n",
       "      <td>0.000</td>\n",
       "    </tr>\n",
       "    <tr>\n",
       "      <th>OverallQual</th>\n",
       "      <td>0</td>\n",
       "      <td>0.000</td>\n",
       "    </tr>\n",
       "    <tr>\n",
       "      <th>HouseStyle</th>\n",
       "      <td>0</td>\n",
       "      <td>0.000</td>\n",
       "    </tr>\n",
       "    <tr>\n",
       "      <th>BldgType</th>\n",
       "      <td>0</td>\n",
       "      <td>0.000</td>\n",
       "    </tr>\n",
       "    <tr>\n",
       "      <th>Condition2</th>\n",
       "      <td>0</td>\n",
       "      <td>0.000</td>\n",
       "    </tr>\n",
       "    <tr>\n",
       "      <th>Condition1</th>\n",
       "      <td>0</td>\n",
       "      <td>0.000</td>\n",
       "    </tr>\n",
       "    <tr>\n",
       "      <th>Neighborhood</th>\n",
       "      <td>0</td>\n",
       "      <td>0.000</td>\n",
       "    </tr>\n",
       "  </tbody>\n",
       "</table>\n",
       "</div>"
      ],
      "text/plain": [
       "              Total  Percent\n",
       "PoolQC          998    0.998\n",
       "MiscFeature     957    0.957\n",
       "Alley           935    0.935\n",
       "Fence           806    0.806\n",
       "FireplaceQu     479    0.479\n",
       "LotFrontage     173    0.173\n",
       "GarageType       56    0.056\n",
       "GarageCond       56    0.056\n",
       "GarageYrBlt      56    0.056\n",
       "GarageFinish     56    0.056\n",
       "GarageQual       56    0.056\n",
       "BsmtExposure     26    0.026\n",
       "BsmtFinType2     26    0.026\n",
       "BsmtFinType1     25    0.025\n",
       "BsmtCond         25    0.025\n",
       "BsmtQual         25    0.025\n",
       "MasVnrArea        6    0.006\n",
       "MasVnrType        6    0.006\n",
       "Exterior2nd       0    0.000\n",
       "Exterior1st       0    0.000\n",
       "OverallCond       0    0.000\n",
       "ExterQual         0    0.000\n",
       "ExterCond         0    0.000\n",
       "Foundation        0    0.000\n",
       "RoofMatl          0    0.000\n",
       "RoofStyle         0    0.000\n",
       "YearRemodAdd      0    0.000\n",
       "YearBuilt         0    0.000\n",
       "SalePrice         0    0.000\n",
       "OverallQual       0    0.000\n",
       "HouseStyle        0    0.000\n",
       "BldgType          0    0.000\n",
       "Condition2        0    0.000\n",
       "Condition1        0    0.000\n",
       "Neighborhood      0    0.000"
      ]
     },
     "execution_count": 21,
     "metadata": {},
     "output_type": "execute_result"
    }
   ],
   "source": [
    "total = train1.isnull().sum().sort_values(ascending=False)\n",
    "percent = (train1.isnull().sum()/train1.isnull().count()).sort_values(ascending=False)\n",
    "missing_data = pd.concat([total, percent], axis=1, keys=['Total', 'Percent'])\n",
    "missing_data.head(35)"
   ]
  },
  {
   "cell_type": "markdown",
   "metadata": {},
   "source": [
    "<div class=\"alert alert-block alert-info\">\n",
    "<font color='green'>By looking our train data, we ranked our missing value (NA) from highest to lowest based on their total missing number. \n",
    "<br>\n",
    "We also show their percentage of missing by comparing each of them to the full_data. </font>\n",
    "\n",
    "***\n",
    "\n",
    "<font color='green'>Notice that the below bar chart shows the top 20 of missing value (NA) while the Y-axis is the percentage of missing and X-axis is the Variables' name. </font>"
   ]
  },
  {
   "cell_type": "code",
   "execution_count": 22,
   "metadata": {},
   "outputs": [
    {
     "data": {
      "text/plain": [
       "<matplotlib.text.Text at 0x11630f860>"
      ]
     },
     "execution_count": 22,
     "metadata": {},
     "output_type": "execute_result"
    },
    {
     "data": {
      "image/png": "[encoded data removed]",
      "text/plain": [
       "<matplotlib.figure.Figure at 0x1161fa400>"
      ]
     },
     "metadata": {},
     "output_type": "display_data"
    }
   ],
   "source": [
    "ratio=percent.head(20)\n",
    "f, ax = plt.subplots(figsize=(15, 12))\n",
    "plt.xticks(rotation='90')\n",
    "sns.barplot(x=ratio.index, y=ratio,palette=\"Pastel1\")\n",
    "plt.xlabel('Features', fontsize=20)\n",
    "plt.ylabel('Percent of missing values', fontsize=20)\n",
    "plt.title('Percent missing data by feature', fontsize=30)"
   ]
  },
  {
   "cell_type": "markdown",
   "metadata": {},
   "source": [
    "<div class=\"alert alert-block alert-success\">\n",
    "<font color='darkblue'>(a) Based on the result we saw in our train data, we decided to drop the columns, which have more than 50% missing value in our train, validation, and test data sets.</font>"
   ]
  },
  {
   "cell_type": "code",
   "execution_count": 23,
   "metadata": {
    "collapsed": true
   },
   "outputs": [],
   "source": [
    "train1=train1.drop(['PoolQC', 'MiscFeature', 'Alley','Fence'], axis=1)\n",
    "validation=validation.drop(['PoolQC', 'MiscFeature', 'Alley','Fence'], axis=1)\n",
    "test=test.drop(['PoolQC', 'MiscFeature', 'Alley','Fence'], axis=1)"
   ]
  },
  {
   "cell_type": "markdown",
   "metadata": {},
   "source": [
    "<div class=\"alert alert-block alert-success\">\n",
    "<font color='darkblue'> (b) For other columns in the train, test, and validation data sets, we considered each meaning of the variable based on their types.</font>\n",
    "\n",
    "-  <font color='darkblue'> For Categorical Variables, we fill the NA as 'N'. </font>\n",
    "\n",
    "-  <font color='darkblue'> For Nueric Variables, we fill the NA as '0'. </font>\n",
    "\n",
    "-  <font color='darkblue'> For other (some special column), we fill the NA as their most frequent value. </font>"
   ]
  },
  {
   "cell_type": "code",
   "execution_count": 24,
   "metadata": {
    "collapsed": true
   },
   "outputs": [],
   "source": [
    "categorical_cols = ['FireplaceQu',\n",
    "            'GarageQual','GarageFinish','GarageCond','GarageType',\n",
    "            'BsmtCond','BsmtExposure','BsmtQual','BsmtFinType2','BsmtFinType1',\n",
    "            'MasVnrType']\n",
    "train1[categorical_cols] = train1[categorical_cols].fillna('N')\n",
    "validation[categorical_cols] = validation[categorical_cols].fillna('N')\n",
    "test[categorical_cols] = test[categorical_cols].fillna('N')"
   ]
  },
  {
   "cell_type": "code",
   "execution_count": 25,
   "metadata": {
    "collapsed": true
   },
   "outputs": [],
   "source": [
    "numeric_cols = ['GarageYrBlt','GarageCars','GarageArea',\n",
    "       'BsmtFullBath','BsmtHalfBath','TotalBsmtSF','BsmtUnfSF','BsmtFinSF2','BsmtFinSF1',\n",
    "       'MasVnrArea']\n",
    "train1[numeric_cols] = train1[numeric_cols].fillna(0)\n",
    "validation[numeric_cols] = validation[numeric_cols].fillna(0)\n",
    "test[numeric_cols] = test[numeric_cols].fillna(0)"
   ]
  },
  {
   "cell_type": "code",
   "execution_count": 26,
   "metadata": {
    "collapsed": true
   },
   "outputs": [],
   "source": [
    "#Variables: 'LotFontage', 'MSZoning','Electrical','Utilities', 'Functional''Exterior2nd','KitchenQual','Exterior1st','SaleType'\n",
    "train1=train1.apply(lambda x: x.fillna(x.value_counts().index[0]))\n",
    "validation=validation.apply(lambda x: x.fillna(x.value_counts().index[0]))\n",
    "test=test.apply(lambda x: x.fillna(x.value_counts().index[0]))"
   ]
  },
  {
   "cell_type": "markdown",
   "metadata": {},
   "source": [
    "<div class=\"alert alert-block alert-info\">\n",
    "<font color='green'> Now let's check our data after handing the missing value, we now see we have 0 missing value in our full_data. </font>"
   ]
  },
  {
   "cell_type": "code",
   "execution_count": 27,
   "metadata": {},
   "outputs": [
    {
     "data": {
      "text/plain": [
       "0"
      ]
     },
     "execution_count": 27,
     "metadata": {},
     "output_type": "execute_result"
    }
   ],
   "source": [
    "train1.isnull().values.ravel().sum()\n",
    "validation.isnull().values.ravel().sum()\n",
    "test.isnull().values.ravel().sum()"
   ]
  },
  {
   "cell_type": "code",
   "execution_count": 28,
   "metadata": {},
   "outputs": [
    {
     "data": {
      "text/html": [
       "<div>\n",
       "<style>\n",
       "    .dataframe thead tr:only-child th {\n",
       "        text-align: right;\n",
       "    }\n",
       "\n",
       "    .dataframe thead th {\n",
       "        text-align: left;\n",
       "    }\n",
       "\n",
       "    .dataframe tbody tr th {\n",
       "        vertical-align: top;\n",
       "    }\n",
       "</style>\n",
       "<table border=\"1\" class=\"dataframe\">\n",
       "  <thead>\n",
       "    <tr style=\"text-align: right;\">\n",
       "      <th></th>\n",
       "      <th>Id</th>\n",
       "      <th>MSSubClass</th>\n",
       "      <th>MSZoning</th>\n",
       "      <th>LotFrontage</th>\n",
       "      <th>LotArea</th>\n",
       "      <th>Street</th>\n",
       "      <th>LotShape</th>\n",
       "      <th>LandContour</th>\n",
       "      <th>Utilities</th>\n",
       "      <th>LotConfig</th>\n",
       "      <th>...</th>\n",
       "      <th>EnclosedPorch</th>\n",
       "      <th>3SsnPorch</th>\n",
       "      <th>ScreenPorch</th>\n",
       "      <th>PoolArea</th>\n",
       "      <th>MiscVal</th>\n",
       "      <th>MoSold</th>\n",
       "      <th>YrSold</th>\n",
       "      <th>SaleType</th>\n",
       "      <th>SaleCondition</th>\n",
       "      <th>SalePrice</th>\n",
       "    </tr>\n",
       "  </thead>\n",
       "  <tbody>\n",
       "    <tr>\n",
       "      <th>0</th>\n",
       "      <td>1</td>\n",
       "      <td>60</td>\n",
       "      <td>RL</td>\n",
       "      <td>65.0</td>\n",
       "      <td>8450</td>\n",
       "      <td>Pave</td>\n",
       "      <td>Reg</td>\n",
       "      <td>Lvl</td>\n",
       "      <td>AllPub</td>\n",
       "      <td>Inside</td>\n",
       "      <td>...</td>\n",
       "      <td>0</td>\n",
       "      <td>0</td>\n",
       "      <td>0</td>\n",
       "      <td>0</td>\n",
       "      <td>0</td>\n",
       "      <td>2</td>\n",
       "      <td>2008</td>\n",
       "      <td>WD</td>\n",
       "      <td>Normal</td>\n",
       "      <td>12.247699</td>\n",
       "    </tr>\n",
       "    <tr>\n",
       "      <th>1</th>\n",
       "      <td>2</td>\n",
       "      <td>20</td>\n",
       "      <td>RL</td>\n",
       "      <td>80.0</td>\n",
       "      <td>9600</td>\n",
       "      <td>Pave</td>\n",
       "      <td>Reg</td>\n",
       "      <td>Lvl</td>\n",
       "      <td>AllPub</td>\n",
       "      <td>FR2</td>\n",
       "      <td>...</td>\n",
       "      <td>0</td>\n",
       "      <td>0</td>\n",
       "      <td>0</td>\n",
       "      <td>0</td>\n",
       "      <td>0</td>\n",
       "      <td>5</td>\n",
       "      <td>2007</td>\n",
       "      <td>WD</td>\n",
       "      <td>Normal</td>\n",
       "      <td>12.109016</td>\n",
       "    </tr>\n",
       "    <tr>\n",
       "      <th>2</th>\n",
       "      <td>3</td>\n",
       "      <td>60</td>\n",
       "      <td>RL</td>\n",
       "      <td>68.0</td>\n",
       "      <td>11250</td>\n",
       "      <td>Pave</td>\n",
       "      <td>IR1</td>\n",
       "      <td>Lvl</td>\n",
       "      <td>AllPub</td>\n",
       "      <td>Inside</td>\n",
       "      <td>...</td>\n",
       "      <td>0</td>\n",
       "      <td>0</td>\n",
       "      <td>0</td>\n",
       "      <td>0</td>\n",
       "      <td>0</td>\n",
       "      <td>9</td>\n",
       "      <td>2008</td>\n",
       "      <td>WD</td>\n",
       "      <td>Normal</td>\n",
       "      <td>12.317171</td>\n",
       "    </tr>\n",
       "    <tr>\n",
       "      <th>3</th>\n",
       "      <td>4</td>\n",
       "      <td>70</td>\n",
       "      <td>RL</td>\n",
       "      <td>60.0</td>\n",
       "      <td>9550</td>\n",
       "      <td>Pave</td>\n",
       "      <td>IR1</td>\n",
       "      <td>Lvl</td>\n",
       "      <td>AllPub</td>\n",
       "      <td>Corner</td>\n",
       "      <td>...</td>\n",
       "      <td>272</td>\n",
       "      <td>0</td>\n",
       "      <td>0</td>\n",
       "      <td>0</td>\n",
       "      <td>0</td>\n",
       "      <td>2</td>\n",
       "      <td>2006</td>\n",
       "      <td>WD</td>\n",
       "      <td>Abnorml</td>\n",
       "      <td>11.849405</td>\n",
       "    </tr>\n",
       "    <tr>\n",
       "      <th>4</th>\n",
       "      <td>5</td>\n",
       "      <td>60</td>\n",
       "      <td>RL</td>\n",
       "      <td>84.0</td>\n",
       "      <td>14260</td>\n",
       "      <td>Pave</td>\n",
       "      <td>IR1</td>\n",
       "      <td>Lvl</td>\n",
       "      <td>AllPub</td>\n",
       "      <td>FR2</td>\n",
       "      <td>...</td>\n",
       "      <td>0</td>\n",
       "      <td>0</td>\n",
       "      <td>0</td>\n",
       "      <td>0</td>\n",
       "      <td>0</td>\n",
       "      <td>12</td>\n",
       "      <td>2008</td>\n",
       "      <td>WD</td>\n",
       "      <td>Normal</td>\n",
       "      <td>12.429220</td>\n",
       "    </tr>\n",
       "  </tbody>\n",
       "</table>\n",
       "<p>5 rows × 77 columns</p>\n",
       "</div>"
      ],
      "text/plain": [
       "   Id  MSSubClass MSZoning  LotFrontage  LotArea Street LotShape LandContour  \\\n",
       "0   1          60       RL         65.0     8450   Pave      Reg         Lvl   \n",
       "1   2          20       RL         80.0     9600   Pave      Reg         Lvl   \n",
       "2   3          60       RL         68.0    11250   Pave      IR1         Lvl   \n",
       "3   4          70       RL         60.0     9550   Pave      IR1         Lvl   \n",
       "4   5          60       RL         84.0    14260   Pave      IR1         Lvl   \n",
       "\n",
       "  Utilities LotConfig    ...     EnclosedPorch 3SsnPorch ScreenPorch PoolArea  \\\n",
       "0    AllPub    Inside    ...                 0         0           0        0   \n",
       "1    AllPub       FR2    ...                 0         0           0        0   \n",
       "2    AllPub    Inside    ...                 0         0           0        0   \n",
       "3    AllPub    Corner    ...               272         0           0        0   \n",
       "4    AllPub       FR2    ...                 0         0           0        0   \n",
       "\n",
       "  MiscVal MoSold  YrSold  SaleType  SaleCondition  SalePrice  \n",
       "0       0      2    2008        WD         Normal  12.247699  \n",
       "1       0      5    2007        WD         Normal  12.109016  \n",
       "2       0      9    2008        WD         Normal  12.317171  \n",
       "3       0      2    2006        WD        Abnorml  11.849405  \n",
       "4       0     12    2008        WD         Normal  12.429220  \n",
       "\n",
       "[5 rows x 77 columns]"
      ]
     },
     "execution_count": 28,
     "metadata": {},
     "output_type": "execute_result"
    }
   ],
   "source": [
    "train1.head()"
   ]
  },
  {
   "cell_type": "code",
   "execution_count": 29,
   "metadata": {},
   "outputs": [
    {
     "data": {
      "text/html": [
       "<div>\n",
       "<style>\n",
       "    .dataframe thead tr:only-child th {\n",
       "        text-align: right;\n",
       "    }\n",
       "\n",
       "    .dataframe thead th {\n",
       "        text-align: left;\n",
       "    }\n",
       "\n",
       "    .dataframe tbody tr th {\n",
       "        vertical-align: top;\n",
       "    }\n",
       "</style>\n",
       "<table border=\"1\" class=\"dataframe\">\n",
       "  <thead>\n",
       "    <tr style=\"text-align: right;\">\n",
       "      <th></th>\n",
       "      <th>Id</th>\n",
       "      <th>MSSubClass</th>\n",
       "      <th>MSZoning</th>\n",
       "      <th>LotFrontage</th>\n",
       "      <th>LotArea</th>\n",
       "      <th>Street</th>\n",
       "      <th>LotShape</th>\n",
       "      <th>LandContour</th>\n",
       "      <th>Utilities</th>\n",
       "      <th>LotConfig</th>\n",
       "      <th>...</th>\n",
       "      <th>EnclosedPorch</th>\n",
       "      <th>3SsnPorch</th>\n",
       "      <th>ScreenPorch</th>\n",
       "      <th>PoolArea</th>\n",
       "      <th>MiscVal</th>\n",
       "      <th>MoSold</th>\n",
       "      <th>YrSold</th>\n",
       "      <th>SaleType</th>\n",
       "      <th>SaleCondition</th>\n",
       "      <th>SalePrice</th>\n",
       "    </tr>\n",
       "  </thead>\n",
       "  <tbody>\n",
       "    <tr>\n",
       "      <th>1001</th>\n",
       "      <td>1002</td>\n",
       "      <td>30</td>\n",
       "      <td>RL</td>\n",
       "      <td>60.0</td>\n",
       "      <td>5400</td>\n",
       "      <td>Pave</td>\n",
       "      <td>Reg</td>\n",
       "      <td>Lvl</td>\n",
       "      <td>AllPub</td>\n",
       "      <td>Corner</td>\n",
       "      <td>...</td>\n",
       "      <td>94</td>\n",
       "      <td>0</td>\n",
       "      <td>0</td>\n",
       "      <td>0</td>\n",
       "      <td>0</td>\n",
       "      <td>1</td>\n",
       "      <td>2007</td>\n",
       "      <td>WD</td>\n",
       "      <td>Abnorml</td>\n",
       "      <td>11.362114</td>\n",
       "    </tr>\n",
       "    <tr>\n",
       "      <th>1002</th>\n",
       "      <td>1003</td>\n",
       "      <td>20</td>\n",
       "      <td>RL</td>\n",
       "      <td>75.0</td>\n",
       "      <td>11957</td>\n",
       "      <td>Pave</td>\n",
       "      <td>IR1</td>\n",
       "      <td>Lvl</td>\n",
       "      <td>AllPub</td>\n",
       "      <td>Inside</td>\n",
       "      <td>...</td>\n",
       "      <td>0</td>\n",
       "      <td>0</td>\n",
       "      <td>0</td>\n",
       "      <td>0</td>\n",
       "      <td>0</td>\n",
       "      <td>7</td>\n",
       "      <td>2008</td>\n",
       "      <td>WD</td>\n",
       "      <td>Normal</td>\n",
       "      <td>12.354497</td>\n",
       "    </tr>\n",
       "    <tr>\n",
       "      <th>1003</th>\n",
       "      <td>1004</td>\n",
       "      <td>90</td>\n",
       "      <td>RL</td>\n",
       "      <td>60.0</td>\n",
       "      <td>11500</td>\n",
       "      <td>Pave</td>\n",
       "      <td>IR1</td>\n",
       "      <td>Lvl</td>\n",
       "      <td>AllPub</td>\n",
       "      <td>Corner</td>\n",
       "      <td>...</td>\n",
       "      <td>0</td>\n",
       "      <td>0</td>\n",
       "      <td>0</td>\n",
       "      <td>0</td>\n",
       "      <td>0</td>\n",
       "      <td>6</td>\n",
       "      <td>2007</td>\n",
       "      <td>WD</td>\n",
       "      <td>Normal</td>\n",
       "      <td>11.827050</td>\n",
       "    </tr>\n",
       "    <tr>\n",
       "      <th>1004</th>\n",
       "      <td>1005</td>\n",
       "      <td>120</td>\n",
       "      <td>RL</td>\n",
       "      <td>43.0</td>\n",
       "      <td>3182</td>\n",
       "      <td>Pave</td>\n",
       "      <td>Reg</td>\n",
       "      <td>Lvl</td>\n",
       "      <td>AllPub</td>\n",
       "      <td>Inside</td>\n",
       "      <td>...</td>\n",
       "      <td>0</td>\n",
       "      <td>0</td>\n",
       "      <td>0</td>\n",
       "      <td>0</td>\n",
       "      <td>0</td>\n",
       "      <td>5</td>\n",
       "      <td>2009</td>\n",
       "      <td>WD</td>\n",
       "      <td>Normal</td>\n",
       "      <td>12.106258</td>\n",
       "    </tr>\n",
       "    <tr>\n",
       "      <th>1005</th>\n",
       "      <td>1006</td>\n",
       "      <td>80</td>\n",
       "      <td>RL</td>\n",
       "      <td>65.0</td>\n",
       "      <td>8385</td>\n",
       "      <td>Pave</td>\n",
       "      <td>Reg</td>\n",
       "      <td>Lvl</td>\n",
       "      <td>AllPub</td>\n",
       "      <td>Inside</td>\n",
       "      <td>...</td>\n",
       "      <td>0</td>\n",
       "      <td>0</td>\n",
       "      <td>0</td>\n",
       "      <td>0</td>\n",
       "      <td>0</td>\n",
       "      <td>11</td>\n",
       "      <td>2008</td>\n",
       "      <td>WD</td>\n",
       "      <td>Normal</td>\n",
       "      <td>11.917730</td>\n",
       "    </tr>\n",
       "  </tbody>\n",
       "</table>\n",
       "<p>5 rows × 77 columns</p>\n",
       "</div>"
      ],
      "text/plain": [
       "        Id  MSSubClass MSZoning  LotFrontage  LotArea Street LotShape  \\\n",
       "1001  1002          30       RL         60.0     5400   Pave      Reg   \n",
       "1002  1003          20       RL         75.0    11957   Pave      IR1   \n",
       "1003  1004          90       RL         60.0    11500   Pave      IR1   \n",
       "1004  1005         120       RL         43.0     3182   Pave      Reg   \n",
       "1005  1006          80       RL         65.0     8385   Pave      Reg   \n",
       "\n",
       "     LandContour Utilities LotConfig    ...     EnclosedPorch 3SsnPorch  \\\n",
       "1001         Lvl    AllPub    Corner    ...                94         0   \n",
       "1002         Lvl    AllPub    Inside    ...                 0         0   \n",
       "1003         Lvl    AllPub    Corner    ...                 0         0   \n",
       "1004         Lvl    AllPub    Inside    ...                 0         0   \n",
       "1005         Lvl    AllPub    Inside    ...                 0         0   \n",
       "\n",
       "     ScreenPorch PoolArea MiscVal MoSold  YrSold  SaleType  SaleCondition  \\\n",
       "1001           0        0       0      1    2007        WD        Abnorml   \n",
       "1002           0        0       0      7    2008        WD         Normal   \n",
       "1003           0        0       0      6    2007        WD         Normal   \n",
       "1004           0        0       0      5    2009        WD         Normal   \n",
       "1005           0        0       0     11    2008        WD         Normal   \n",
       "\n",
       "      SalePrice  \n",
       "1001  11.362114  \n",
       "1002  12.354497  \n",
       "1003  11.827050  \n",
       "1004  12.106258  \n",
       "1005  11.917730  \n",
       "\n",
       "[5 rows x 77 columns]"
      ]
     },
     "execution_count": 29,
     "metadata": {},
     "output_type": "execute_result"
    }
   ],
   "source": [
    "validation.head()"
   ]
  },
  {
   "cell_type": "code",
   "execution_count": 30,
   "metadata": {},
   "outputs": [
    {
     "data": {
      "text/html": [
       "<div>\n",
       "<style>\n",
       "    .dataframe thead tr:only-child th {\n",
       "        text-align: right;\n",
       "    }\n",
       "\n",
       "    .dataframe thead th {\n",
       "        text-align: left;\n",
       "    }\n",
       "\n",
       "    .dataframe tbody tr th {\n",
       "        vertical-align: top;\n",
       "    }\n",
       "</style>\n",
       "<table border=\"1\" class=\"dataframe\">\n",
       "  <thead>\n",
       "    <tr style=\"text-align: right;\">\n",
       "      <th></th>\n",
       "      <th>Id</th>\n",
       "      <th>MSSubClass</th>\n",
       "      <th>MSZoning</th>\n",
       "      <th>LotFrontage</th>\n",
       "      <th>LotArea</th>\n",
       "      <th>Street</th>\n",
       "      <th>LotShape</th>\n",
       "      <th>LandContour</th>\n",
       "      <th>Utilities</th>\n",
       "      <th>LotConfig</th>\n",
       "      <th>...</th>\n",
       "      <th>OpenPorchSF</th>\n",
       "      <th>EnclosedPorch</th>\n",
       "      <th>3SsnPorch</th>\n",
       "      <th>ScreenPorch</th>\n",
       "      <th>PoolArea</th>\n",
       "      <th>MiscVal</th>\n",
       "      <th>MoSold</th>\n",
       "      <th>YrSold</th>\n",
       "      <th>SaleType</th>\n",
       "      <th>SaleCondition</th>\n",
       "    </tr>\n",
       "  </thead>\n",
       "  <tbody>\n",
       "    <tr>\n",
       "      <th>0</th>\n",
       "      <td>1461</td>\n",
       "      <td>20</td>\n",
       "      <td>RH</td>\n",
       "      <td>80.0</td>\n",
       "      <td>11622</td>\n",
       "      <td>Pave</td>\n",
       "      <td>Reg</td>\n",
       "      <td>Lvl</td>\n",
       "      <td>AllPub</td>\n",
       "      <td>Inside</td>\n",
       "      <td>...</td>\n",
       "      <td>0</td>\n",
       "      <td>0</td>\n",
       "      <td>0</td>\n",
       "      <td>120</td>\n",
       "      <td>0</td>\n",
       "      <td>0</td>\n",
       "      <td>6</td>\n",
       "      <td>2010</td>\n",
       "      <td>WD</td>\n",
       "      <td>Normal</td>\n",
       "    </tr>\n",
       "    <tr>\n",
       "      <th>1</th>\n",
       "      <td>1462</td>\n",
       "      <td>20</td>\n",
       "      <td>RL</td>\n",
       "      <td>81.0</td>\n",
       "      <td>14267</td>\n",
       "      <td>Pave</td>\n",
       "      <td>IR1</td>\n",
       "      <td>Lvl</td>\n",
       "      <td>AllPub</td>\n",
       "      <td>Corner</td>\n",
       "      <td>...</td>\n",
       "      <td>36</td>\n",
       "      <td>0</td>\n",
       "      <td>0</td>\n",
       "      <td>0</td>\n",
       "      <td>0</td>\n",
       "      <td>12500</td>\n",
       "      <td>6</td>\n",
       "      <td>2010</td>\n",
       "      <td>WD</td>\n",
       "      <td>Normal</td>\n",
       "    </tr>\n",
       "    <tr>\n",
       "      <th>2</th>\n",
       "      <td>1463</td>\n",
       "      <td>60</td>\n",
       "      <td>RL</td>\n",
       "      <td>74.0</td>\n",
       "      <td>13830</td>\n",
       "      <td>Pave</td>\n",
       "      <td>IR1</td>\n",
       "      <td>Lvl</td>\n",
       "      <td>AllPub</td>\n",
       "      <td>Inside</td>\n",
       "      <td>...</td>\n",
       "      <td>34</td>\n",
       "      <td>0</td>\n",
       "      <td>0</td>\n",
       "      <td>0</td>\n",
       "      <td>0</td>\n",
       "      <td>0</td>\n",
       "      <td>3</td>\n",
       "      <td>2010</td>\n",
       "      <td>WD</td>\n",
       "      <td>Normal</td>\n",
       "    </tr>\n",
       "    <tr>\n",
       "      <th>3</th>\n",
       "      <td>1464</td>\n",
       "      <td>60</td>\n",
       "      <td>RL</td>\n",
       "      <td>78.0</td>\n",
       "      <td>9978</td>\n",
       "      <td>Pave</td>\n",
       "      <td>IR1</td>\n",
       "      <td>Lvl</td>\n",
       "      <td>AllPub</td>\n",
       "      <td>Inside</td>\n",
       "      <td>...</td>\n",
       "      <td>36</td>\n",
       "      <td>0</td>\n",
       "      <td>0</td>\n",
       "      <td>0</td>\n",
       "      <td>0</td>\n",
       "      <td>0</td>\n",
       "      <td>6</td>\n",
       "      <td>2010</td>\n",
       "      <td>WD</td>\n",
       "      <td>Normal</td>\n",
       "    </tr>\n",
       "    <tr>\n",
       "      <th>4</th>\n",
       "      <td>1465</td>\n",
       "      <td>120</td>\n",
       "      <td>RL</td>\n",
       "      <td>43.0</td>\n",
       "      <td>5005</td>\n",
       "      <td>Pave</td>\n",
       "      <td>IR1</td>\n",
       "      <td>HLS</td>\n",
       "      <td>AllPub</td>\n",
       "      <td>Inside</td>\n",
       "      <td>...</td>\n",
       "      <td>82</td>\n",
       "      <td>0</td>\n",
       "      <td>0</td>\n",
       "      <td>144</td>\n",
       "      <td>0</td>\n",
       "      <td>0</td>\n",
       "      <td>1</td>\n",
       "      <td>2010</td>\n",
       "      <td>WD</td>\n",
       "      <td>Normal</td>\n",
       "    </tr>\n",
       "  </tbody>\n",
       "</table>\n",
       "<p>5 rows × 76 columns</p>\n",
       "</div>"
      ],
      "text/plain": [
       "     Id  MSSubClass MSZoning  LotFrontage  LotArea Street LotShape  \\\n",
       "0  1461          20       RH         80.0    11622   Pave      Reg   \n",
       "1  1462          20       RL         81.0    14267   Pave      IR1   \n",
       "2  1463          60       RL         74.0    13830   Pave      IR1   \n",
       "3  1464          60       RL         78.0     9978   Pave      IR1   \n",
       "4  1465         120       RL         43.0     5005   Pave      IR1   \n",
       "\n",
       "  LandContour Utilities LotConfig      ...       OpenPorchSF EnclosedPorch  \\\n",
       "0         Lvl    AllPub    Inside      ...                 0             0   \n",
       "1         Lvl    AllPub    Corner      ...                36             0   \n",
       "2         Lvl    AllPub    Inside      ...                34             0   \n",
       "3         Lvl    AllPub    Inside      ...                36             0   \n",
       "4         HLS    AllPub    Inside      ...                82             0   \n",
       "\n",
       "  3SsnPorch ScreenPorch PoolArea MiscVal  MoSold  YrSold  SaleType  \\\n",
       "0         0         120        0       0       6    2010        WD   \n",
       "1         0           0        0   12500       6    2010        WD   \n",
       "2         0           0        0       0       3    2010        WD   \n",
       "3         0           0        0       0       6    2010        WD   \n",
       "4         0         144        0       0       1    2010        WD   \n",
       "\n",
       "   SaleCondition  \n",
       "0         Normal  \n",
       "1         Normal  \n",
       "2         Normal  \n",
       "3         Normal  \n",
       "4         Normal  \n",
       "\n",
       "[5 rows x 76 columns]"
      ]
     },
     "execution_count": 30,
     "metadata": {},
     "output_type": "execute_result"
    }
   ],
   "source": [
    "test.head()"
   ]
  },
  {
   "cell_type": "markdown",
   "metadata": {},
   "source": [
    "**(2) Value of \"0\"**"
   ]
  },
  {
   "cell_type": "markdown",
   "metadata": {},
   "source": [
    "![title](img/0value.png \"ShowMyImage\")"
   ]
  },
  {
   "cell_type": "markdown",
   "metadata": {},
   "source": [
    "<div class=\"alert alert-block alert-info\">\n",
    "<font color='green'>We need to avoid to many zero value in our data. <br>Therefore, we use the same method as we did for NA, to rank the value 0 from highest to lowest by looking at ou train data set. </font>"
   ]
  },
  {
   "cell_type": "code",
   "execution_count": 31,
   "metadata": {},
   "outputs": [
    {
     "data": {
      "text/html": [
       "<div>\n",
       "<style>\n",
       "    .dataframe thead tr:only-child th {\n",
       "        text-align: right;\n",
       "    }\n",
       "\n",
       "    .dataframe thead th {\n",
       "        text-align: left;\n",
       "    }\n",
       "\n",
       "    .dataframe tbody tr th {\n",
       "        vertical-align: top;\n",
       "    }\n",
       "</style>\n",
       "<table border=\"1\" class=\"dataframe\">\n",
       "  <thead>\n",
       "    <tr style=\"text-align: right;\">\n",
       "      <th></th>\n",
       "      <th>Total</th>\n",
       "      <th>Percent</th>\n",
       "    </tr>\n",
       "  </thead>\n",
       "  <tbody>\n",
       "    <tr>\n",
       "      <th>PoolArea</th>\n",
       "      <td>1452</td>\n",
       "      <td>0.995885</td>\n",
       "    </tr>\n",
       "    <tr>\n",
       "      <th>3SsnPorch</th>\n",
       "      <td>1434</td>\n",
       "      <td>0.983539</td>\n",
       "    </tr>\n",
       "    <tr>\n",
       "      <th>LowQualFinSF</th>\n",
       "      <td>1432</td>\n",
       "      <td>0.982167</td>\n",
       "    </tr>\n",
       "    <tr>\n",
       "      <th>MiscVal</th>\n",
       "      <td>1406</td>\n",
       "      <td>0.964335</td>\n",
       "    </tr>\n",
       "    <tr>\n",
       "      <th>BsmtHalfBath</th>\n",
       "      <td>1376</td>\n",
       "      <td>0.943759</td>\n",
       "    </tr>\n",
       "    <tr>\n",
       "      <th>ScreenPorch</th>\n",
       "      <td>1342</td>\n",
       "      <td>0.920439</td>\n",
       "    </tr>\n",
       "    <tr>\n",
       "      <th>BsmtFinSF2</th>\n",
       "      <td>1291</td>\n",
       "      <td>0.885460</td>\n",
       "    </tr>\n",
       "    <tr>\n",
       "      <th>EnclosedPorch</th>\n",
       "      <td>1250</td>\n",
       "      <td>0.857339</td>\n",
       "    </tr>\n",
       "    <tr>\n",
       "      <th>HalfBath</th>\n",
       "      <td>913</td>\n",
       "      <td>0.626200</td>\n",
       "    </tr>\n",
       "    <tr>\n",
       "      <th>MasVnrArea</th>\n",
       "      <td>861</td>\n",
       "      <td>0.590535</td>\n",
       "    </tr>\n",
       "  </tbody>\n",
       "</table>\n",
       "</div>"
      ],
      "text/plain": [
       "               Total   Percent\n",
       "PoolArea        1452  0.995885\n",
       "3SsnPorch       1434  0.983539\n",
       "LowQualFinSF    1432  0.982167\n",
       "MiscVal         1406  0.964335\n",
       "BsmtHalfBath    1376  0.943759\n",
       "ScreenPorch     1342  0.920439\n",
       "BsmtFinSF2      1291  0.885460\n",
       "EnclosedPorch   1250  0.857339\n",
       "HalfBath         913  0.626200\n",
       "MasVnrArea       861  0.590535"
      ]
     },
     "execution_count": 31,
     "metadata": {},
     "output_type": "execute_result"
    }
   ],
   "source": [
    "total = (train == 0).astype(int).sum(axis=0).sort_values(ascending=False)\n",
    "percent = (train == 0).astype(int).sum(axis=0)/(train == 0).astype(int).count(axis=0).sort_values(ascending=False)\n",
    "missing_data = pd.concat([total, percent], axis=1, keys=['Total', 'Percent'])\n",
    "missing_data.sort_values(by=['Total'],ascending=False).head(10)"
   ]
  },
  {
   "cell_type": "markdown",
   "metadata": {},
   "source": [
    "<div class=\"alert alert-block alert-success\">\n",
    "<font color='darkblue'>Based on the result we saw in our train data, we decided to drop the columns, which have more than 90% of value is 0 in the train, test, and validation data sets.</font>"
   ]
  },
  {
   "cell_type": "code",
   "execution_count": 32,
   "metadata": {
    "collapsed": true
   },
   "outputs": [],
   "source": [
    "train2=train1.drop(['PoolArea', '3SsnPorch', 'LowQualFinSF','MiscVal','BsmtHalfBath','ScreenPorch'], axis=1)\n",
    "validation2=validation.drop(['PoolArea', '3SsnPorch', 'LowQualFinSF','MiscVal','BsmtHalfBath','ScreenPorch'], axis=1)\n",
    "test2=test.drop(['PoolArea', '3SsnPorch', 'LowQualFinSF','MiscVal','BsmtHalfBath','ScreenPorch'], axis=1)"
   ]
  },
  {
   "cell_type": "markdown",
   "metadata": {},
   "source": [
    "<div class=\"alert alert-block alert-info\">\n",
    "<font color='green'>Check our data after handing both NA and zero value. </font>"
   ]
  },
  {
   "cell_type": "code",
   "execution_count": 33,
   "metadata": {
    "scrolled": true
   },
   "outputs": [
    {
     "data": {
      "text/plain": [
       "array(['Id', 'MSSubClass', 'MSZoning', 'LotFrontage', 'LotArea', 'Street',\n",
       "       'LotShape', 'LandContour', 'Utilities', 'LotConfig', 'LandSlope',\n",
       "       'Neighborhood', 'Condition1', 'Condition2', 'BldgType',\n",
       "       'HouseStyle', 'OverallQual', 'OverallCond', 'YearBuilt',\n",
       "       'YearRemodAdd', 'RoofStyle', 'RoofMatl', 'Exterior1st',\n",
       "       'Exterior2nd', 'MasVnrType', 'MasVnrArea', 'ExterQual', 'ExterCond',\n",
       "       'Foundation', 'BsmtQual', 'BsmtCond', 'BsmtExposure',\n",
       "       'BsmtFinType1', 'BsmtFinSF1', 'BsmtFinType2', 'BsmtFinSF2',\n",
       "       'BsmtUnfSF', 'TotalBsmtSF', 'Heating', 'HeatingQC', 'CentralAir',\n",
       "       'Electrical', '1stFlrSF', '2ndFlrSF', 'GrLivArea', 'BsmtFullBath',\n",
       "       'FullBath', 'HalfBath', 'BedroomAbvGr', 'KitchenAbvGr',\n",
       "       'KitchenQual', 'TotRmsAbvGrd', 'Functional', 'Fireplaces',\n",
       "       'FireplaceQu', 'GarageType', 'GarageYrBlt', 'GarageFinish',\n",
       "       'GarageCars', 'GarageArea', 'GarageQual', 'GarageCond',\n",
       "       'PavedDrive', 'WoodDeckSF', 'OpenPorchSF', 'EnclosedPorch',\n",
       "       'MoSold', 'YrSold', 'SaleType', 'SaleCondition', 'SalePrice'], dtype=object)"
      ]
     },
     "execution_count": 33,
     "metadata": {},
     "output_type": "execute_result"
    }
   ],
   "source": [
    "train2.columns.values"
   ]
  },
  {
   "cell_type": "code",
   "execution_count": 34,
   "metadata": {},
   "outputs": [
    {
     "name": "stdout",
     "output_type": "stream",
     "text": [
      "(1000, 71)\n",
      "(458, 71)\n",
      "(1459, 70)\n"
     ]
    }
   ],
   "source": [
    "print(train2.shape)\n",
    "print(validation2.shape)\n",
    "print(test2.shape)"
   ]
  },
  {
   "cell_type": "markdown",
   "metadata": {},
   "source": [
    "*** (3) Add one more important variable, the total area of basement *** "
   ]
  },
  {
   "cell_type": "markdown",
   "metadata": {},
   "source": [
    "![title](img/basement.jpg \"ShowMyImage\")"
   ]
  },
  {
   "cell_type": "markdown",
   "metadata": {},
   "source": [
    "<div class=\"alert alert-block alert-success\">\n",
    "<font color='darkblue'>We decided to add one more important vairable, the total area of basement by adding several vairables together in our train, test, and validation data set. </font>"
   ]
  },
  {
   "cell_type": "code",
   "execution_count": 35,
   "metadata": {
    "collapsed": true
   },
   "outputs": [],
   "source": [
    "# total area of basement, first and second floor areas of each house\n",
    "train2['TotalSF'] = train1.apply(lambda row: row['1stFlrSF'] + row['2ndFlrSF']+row['TotalBsmtSF'], axis=1)\n",
    "validation2['TotalSF'] = validation.apply(lambda row: row['1stFlrSF'] + row['2ndFlrSF']+row['TotalBsmtSF'], axis=1)\n",
    "test2['TotalSF'] = test.apply(lambda row: row['1stFlrSF'] + row['2ndFlrSF']+row['TotalBsmtSF'], axis=1)"
   ]
  },
  {
   "cell_type": "code",
   "execution_count": 36,
   "metadata": {},
   "outputs": [
    {
     "name": "stdout",
     "output_type": "stream",
     "text": [
      "(1000, 72)\n",
      "(458, 72)\n",
      "(1459, 71)\n"
     ]
    }
   ],
   "source": [
    "print(train2.shape)\n",
    "print(validation2.shape)\n",
    "print(test2.shape)"
   ]
  },
  {
   "cell_type": "markdown",
   "metadata": {},
   "source": [
    " **(4) Feature Engineering**"
   ]
  },
  {
   "cell_type": "markdown",
   "metadata": {},
   "source": [
    "![title](img/feature engineering.jpg \"ShowMyImage\")"
   ]
  },
  {
   "cell_type": "markdown",
   "metadata": {},
   "source": [
    "<div class=\"alert alert-block alert-info\"> <font color='green'>\n",
    "Notice here we drop SalePrice. But we need to add it back later.</font>"
   ]
  },
  {
   "cell_type": "code",
   "execution_count": 37,
   "metadata": {},
   "outputs": [
    {
     "data": {
      "text/html": [
       "<div>\n",
       "<style>\n",
       "    .dataframe thead tr:only-child th {\n",
       "        text-align: right;\n",
       "    }\n",
       "\n",
       "    .dataframe thead th {\n",
       "        text-align: left;\n",
       "    }\n",
       "\n",
       "    .dataframe tbody tr th {\n",
       "        vertical-align: top;\n",
       "    }\n",
       "</style>\n",
       "<table border=\"1\" class=\"dataframe\">\n",
       "  <thead>\n",
       "    <tr style=\"text-align: right;\">\n",
       "      <th></th>\n",
       "      <th>1stFlrSF</th>\n",
       "      <th>2ndFlrSF</th>\n",
       "      <th>BedroomAbvGr</th>\n",
       "      <th>BldgType</th>\n",
       "      <th>BsmtCond</th>\n",
       "      <th>BsmtExposure</th>\n",
       "      <th>BsmtFinSF1</th>\n",
       "      <th>BsmtFinSF2</th>\n",
       "      <th>BsmtFinType1</th>\n",
       "      <th>BsmtFinType2</th>\n",
       "      <th>...</th>\n",
       "      <th>SaleType</th>\n",
       "      <th>Street</th>\n",
       "      <th>TotRmsAbvGrd</th>\n",
       "      <th>TotalBsmtSF</th>\n",
       "      <th>TotalSF</th>\n",
       "      <th>Utilities</th>\n",
       "      <th>WoodDeckSF</th>\n",
       "      <th>YearBuilt</th>\n",
       "      <th>YearRemodAdd</th>\n",
       "      <th>YrSold</th>\n",
       "    </tr>\n",
       "  </thead>\n",
       "  <tbody>\n",
       "    <tr>\n",
       "      <th>0</th>\n",
       "      <td>856</td>\n",
       "      <td>854</td>\n",
       "      <td>3</td>\n",
       "      <td>1Fam</td>\n",
       "      <td>TA</td>\n",
       "      <td>No</td>\n",
       "      <td>706.0</td>\n",
       "      <td>0.0</td>\n",
       "      <td>GLQ</td>\n",
       "      <td>Unf</td>\n",
       "      <td>...</td>\n",
       "      <td>WD</td>\n",
       "      <td>Pave</td>\n",
       "      <td>8</td>\n",
       "      <td>856.0</td>\n",
       "      <td>2566.0</td>\n",
       "      <td>AllPub</td>\n",
       "      <td>0</td>\n",
       "      <td>2003</td>\n",
       "      <td>2003</td>\n",
       "      <td>2008</td>\n",
       "    </tr>\n",
       "    <tr>\n",
       "      <th>1</th>\n",
       "      <td>1262</td>\n",
       "      <td>0</td>\n",
       "      <td>3</td>\n",
       "      <td>1Fam</td>\n",
       "      <td>TA</td>\n",
       "      <td>Gd</td>\n",
       "      <td>978.0</td>\n",
       "      <td>0.0</td>\n",
       "      <td>ALQ</td>\n",
       "      <td>Unf</td>\n",
       "      <td>...</td>\n",
       "      <td>WD</td>\n",
       "      <td>Pave</td>\n",
       "      <td>6</td>\n",
       "      <td>1262.0</td>\n",
       "      <td>2524.0</td>\n",
       "      <td>AllPub</td>\n",
       "      <td>298</td>\n",
       "      <td>1976</td>\n",
       "      <td>1976</td>\n",
       "      <td>2007</td>\n",
       "    </tr>\n",
       "    <tr>\n",
       "      <th>2</th>\n",
       "      <td>920</td>\n",
       "      <td>866</td>\n",
       "      <td>3</td>\n",
       "      <td>1Fam</td>\n",
       "      <td>TA</td>\n",
       "      <td>Mn</td>\n",
       "      <td>486.0</td>\n",
       "      <td>0.0</td>\n",
       "      <td>GLQ</td>\n",
       "      <td>Unf</td>\n",
       "      <td>...</td>\n",
       "      <td>WD</td>\n",
       "      <td>Pave</td>\n",
       "      <td>6</td>\n",
       "      <td>920.0</td>\n",
       "      <td>2706.0</td>\n",
       "      <td>AllPub</td>\n",
       "      <td>0</td>\n",
       "      <td>2001</td>\n",
       "      <td>2002</td>\n",
       "      <td>2008</td>\n",
       "    </tr>\n",
       "    <tr>\n",
       "      <th>3</th>\n",
       "      <td>961</td>\n",
       "      <td>756</td>\n",
       "      <td>3</td>\n",
       "      <td>1Fam</td>\n",
       "      <td>Gd</td>\n",
       "      <td>No</td>\n",
       "      <td>216.0</td>\n",
       "      <td>0.0</td>\n",
       "      <td>ALQ</td>\n",
       "      <td>Unf</td>\n",
       "      <td>...</td>\n",
       "      <td>WD</td>\n",
       "      <td>Pave</td>\n",
       "      <td>7</td>\n",
       "      <td>756.0</td>\n",
       "      <td>2473.0</td>\n",
       "      <td>AllPub</td>\n",
       "      <td>0</td>\n",
       "      <td>1915</td>\n",
       "      <td>1970</td>\n",
       "      <td>2006</td>\n",
       "    </tr>\n",
       "    <tr>\n",
       "      <th>4</th>\n",
       "      <td>1145</td>\n",
       "      <td>1053</td>\n",
       "      <td>4</td>\n",
       "      <td>1Fam</td>\n",
       "      <td>TA</td>\n",
       "      <td>Av</td>\n",
       "      <td>655.0</td>\n",
       "      <td>0.0</td>\n",
       "      <td>GLQ</td>\n",
       "      <td>Unf</td>\n",
       "      <td>...</td>\n",
       "      <td>WD</td>\n",
       "      <td>Pave</td>\n",
       "      <td>9</td>\n",
       "      <td>1145.0</td>\n",
       "      <td>3343.0</td>\n",
       "      <td>AllPub</td>\n",
       "      <td>192</td>\n",
       "      <td>2000</td>\n",
       "      <td>2000</td>\n",
       "      <td>2008</td>\n",
       "    </tr>\n",
       "  </tbody>\n",
       "</table>\n",
       "<p>5 rows × 71 columns</p>\n",
       "</div>"
      ],
      "text/plain": [
       "   1stFlrSF  2ndFlrSF  BedroomAbvGr BldgType BsmtCond BsmtExposure  \\\n",
       "0       856       854             3     1Fam       TA           No   \n",
       "1      1262         0             3     1Fam       TA           Gd   \n",
       "2       920       866             3     1Fam       TA           Mn   \n",
       "3       961       756             3     1Fam       Gd           No   \n",
       "4      1145      1053             4     1Fam       TA           Av   \n",
       "\n",
       "   BsmtFinSF1  BsmtFinSF2 BsmtFinType1 BsmtFinType2  ...    SaleType Street  \\\n",
       "0       706.0         0.0          GLQ          Unf  ...          WD   Pave   \n",
       "1       978.0         0.0          ALQ          Unf  ...          WD   Pave   \n",
       "2       486.0         0.0          GLQ          Unf  ...          WD   Pave   \n",
       "3       216.0         0.0          ALQ          Unf  ...          WD   Pave   \n",
       "4       655.0         0.0          GLQ          Unf  ...          WD   Pave   \n",
       "\n",
       "   TotRmsAbvGrd TotalBsmtSF TotalSF Utilities WoodDeckSF  YearBuilt  \\\n",
       "0             8       856.0  2566.0    AllPub          0       2003   \n",
       "1             6      1262.0  2524.0    AllPub        298       1976   \n",
       "2             6       920.0  2706.0    AllPub          0       2001   \n",
       "3             7       756.0  2473.0    AllPub          0       1915   \n",
       "4             9      1145.0  3343.0    AllPub        192       2000   \n",
       "\n",
       "  YearRemodAdd YrSold  \n",
       "0         2003   2008  \n",
       "1         1976   2007  \n",
       "2         2002   2008  \n",
       "3         1970   2006  \n",
       "4         2000   2008  \n",
       "\n",
       "[5 rows x 71 columns]"
      ]
     },
     "execution_count": 37,
     "metadata": {},
     "output_type": "execute_result"
    }
   ],
   "source": [
    "full_data=pd.concat((train2,validation2,test2)).reset_index(drop=True)\n",
    "\n",
    "full_data.drop(['SalePrice'],axis=1,inplace=True)\n",
    "\n",
    "full_data.head()"
   ]
  },
  {
   "cell_type": "code",
   "execution_count": 38,
   "metadata": {},
   "outputs": [
    {
     "data": {
      "text/plain": [
       "(2917, 71)"
      ]
     },
     "execution_count": 38,
     "metadata": {},
     "output_type": "execute_result"
    }
   ],
   "source": [
    "full_data.shape"
   ]
  },
  {
   "cell_type": "code",
   "execution_count": 39,
   "metadata": {},
   "outputs": [
    {
     "data": {
      "text/plain": [
       "array(['1stFlrSF', '2ndFlrSF', 'BedroomAbvGr', 'BldgType', 'BsmtCond',\n",
       "       'BsmtExposure', 'BsmtFinSF1', 'BsmtFinSF2', 'BsmtFinType1',\n",
       "       'BsmtFinType2', 'BsmtFullBath', 'BsmtQual', 'BsmtUnfSF',\n",
       "       'CentralAir', 'Condition1', 'Condition2', 'Electrical',\n",
       "       'EnclosedPorch', 'ExterCond', 'ExterQual', 'Exterior1st',\n",
       "       'Exterior2nd', 'FireplaceQu', 'Fireplaces', 'Foundation',\n",
       "       'FullBath', 'Functional', 'GarageArea', 'GarageCars', 'GarageCond',\n",
       "       'GarageFinish', 'GarageQual', 'GarageType', 'GarageYrBlt',\n",
       "       'GrLivArea', 'HalfBath', 'Heating', 'HeatingQC', 'HouseStyle', 'Id',\n",
       "       'KitchenAbvGr', 'KitchenQual', 'LandContour', 'LandSlope',\n",
       "       'LotArea', 'LotConfig', 'LotFrontage', 'LotShape', 'MSSubClass',\n",
       "       'MSZoning', 'MasVnrArea', 'MasVnrType', 'MoSold', 'Neighborhood',\n",
       "       'OpenPorchSF', 'OverallCond', 'OverallQual', 'PavedDrive',\n",
       "       'RoofMatl', 'RoofStyle', 'SaleCondition', 'SaleType', 'Street',\n",
       "       'TotRmsAbvGrd', 'TotalBsmtSF', 'TotalSF', 'Utilities', 'WoodDeckSF',\n",
       "       'YearBuilt', 'YearRemodAdd', 'YrSold'], dtype=object)"
      ]
     },
     "execution_count": 39,
     "metadata": {},
     "output_type": "execute_result"
    }
   ],
   "source": [
    "full_data.columns.values"
   ]
  },
  {
   "cell_type": "code",
   "execution_count": 40,
   "metadata": {},
   "outputs": [
    {
     "data": {
      "text/plain": [
       "1stFlrSF           int64\n",
       "2ndFlrSF           int64\n",
       "BedroomAbvGr       int64\n",
       "BldgType          object\n",
       "BsmtCond          object\n",
       "BsmtExposure      object\n",
       "BsmtFinSF1       float64\n",
       "BsmtFinSF2       float64\n",
       "BsmtFinType1      object\n",
       "BsmtFinType2      object\n",
       "BsmtFullBath     float64\n",
       "BsmtQual          object\n",
       "BsmtUnfSF        float64\n",
       "CentralAir        object\n",
       "Condition1        object\n",
       "Condition2        object\n",
       "Electrical        object\n",
       "EnclosedPorch      int64\n",
       "ExterCond         object\n",
       "ExterQual         object\n",
       "Exterior1st       object\n",
       "Exterior2nd       object\n",
       "FireplaceQu       object\n",
       "Fireplaces         int64\n",
       "Foundation        object\n",
       "FullBath           int64\n",
       "Functional        object\n",
       "GarageArea       float64\n",
       "GarageCars       float64\n",
       "GarageCond        object\n",
       "                  ...   \n",
       "KitchenQual       object\n",
       "LandContour       object\n",
       "LandSlope         object\n",
       "LotArea            int64\n",
       "LotConfig         object\n",
       "LotFrontage      float64\n",
       "LotShape          object\n",
       "MSSubClass         int64\n",
       "MSZoning          object\n",
       "MasVnrArea       float64\n",
       "MasVnrType        object\n",
       "MoSold             int64\n",
       "Neighborhood      object\n",
       "OpenPorchSF        int64\n",
       "OverallCond        int64\n",
       "OverallQual        int64\n",
       "PavedDrive        object\n",
       "RoofMatl          object\n",
       "RoofStyle         object\n",
       "SaleCondition     object\n",
       "SaleType          object\n",
       "Street            object\n",
       "TotRmsAbvGrd       int64\n",
       "TotalBsmtSF      float64\n",
       "TotalSF          float64\n",
       "Utilities         object\n",
       "WoodDeckSF         int64\n",
       "YearBuilt          int64\n",
       "YearRemodAdd       int64\n",
       "YrSold             int64\n",
       "Length: 71, dtype: object"
      ]
     },
     "execution_count": 40,
     "metadata": {},
     "output_type": "execute_result"
    }
   ],
   "source": [
    "full_data.dtypes"
   ]
  },
  {
   "cell_type": "code",
   "execution_count": 41,
   "metadata": {
    "collapsed": true
   },
   "outputs": [],
   "source": [
    "#MSSubClass=the type of dwelling involved in the sale\n",
    "full_data['MSSubClass'] = full_data['MSSubClass'].apply(str)\n",
    "\n",
    "#Year and month sold are transformed into categorical features.\n",
    "full_data['YrSold'] = full_data['YrSold'].astype(str)\n",
    "full_data['MoSold'] = full_data['MoSold'].astype(str)"
   ]
  },
  {
   "cell_type": "code",
   "execution_count": 42,
   "metadata": {},
   "outputs": [
    {
     "data": {
      "text/plain": [
       "(2917, 71)"
      ]
     },
     "execution_count": 42,
     "metadata": {},
     "output_type": "execute_result"
    }
   ],
   "source": [
    "full_data.shape"
   ]
  },
  {
   "cell_type": "markdown",
   "metadata": {},
   "source": [
    "<div class=\"alert alert-block alert-success\">\n",
    "<font color='darkblue'>We decided to remove Duplicated Features because some variables are highly correlated with each other. </font>"
   ]
  },
  {
   "cell_type": "code",
   "execution_count": 43,
   "metadata": {},
   "outputs": [
    {
     "data": {
      "image/png": "[encoded data removed]",
      "text/plain": [
       "<matplotlib.figure.Figure at 0x116b7beb8>"
      ]
     },
     "metadata": {},
     "output_type": "display_data"
    }
   ],
   "source": [
    "best_feat = full_data\n",
    "corr =best_feat.corr() # We already examined SalePrice correlations\n",
    "plt.figure(figsize=(12, 10))\n",
    "\n",
    "sns.heatmap(corr[(corr >= 0.7) | (corr <= -0.7)], \n",
    "            cmap='coolwarm', vmax=1.0, vmin=-1.0, linewidths=0.1,\n",
    "            annot=True, annot_kws={\"size\": 8}, square=True);"
   ]
  },
  {
   "cell_type": "markdown",
   "metadata": {},
   "source": [
    "<div class=\"alert alert-block alert-info\">\n",
    "<font color='green'>GrLivArea vs TotRmsAbvGrd These features are highly correlated with a correlation of 0.83. </font>\n",
    "\n",
    "- <font color='darkblue'> Of these two variables，TotRmsAbvGrd will be removed because it has a lower correlation with SalePrice.</font>\n",
    "\n",
    "\n",
    "<font color='green'>Garage Cars vs Garage Area Garage Cars and GarageArea are also highly correlated as indicated by their correlation coefficient of 0.88. </font>\n",
    "\n",
    "- <font color='darkblue'>Of these two variables，GarageArea will be removed as it has a lower correlation with our target variable, SalePrice. </font>\n",
    "\n",
    "\n"
   ]
  },
  {
   "cell_type": "code",
   "execution_count": 44,
   "metadata": {},
   "outputs": [
    {
     "data": {
      "text/plain": [
       "Index(['1stFlrSF', '2ndFlrSF', 'BedroomAbvGr', 'BldgType', 'BsmtCond',\n",
       "       'BsmtExposure', 'BsmtFinSF1', 'BsmtFinSF2', 'BsmtFinType1',\n",
       "       'BsmtFinType2', 'BsmtFullBath', 'BsmtQual', 'BsmtUnfSF', 'CentralAir',\n",
       "       'Condition1', 'Condition2', 'Electrical', 'EnclosedPorch', 'ExterCond',\n",
       "       'ExterQual', 'Exterior1st', 'Exterior2nd', 'FireplaceQu', 'Fireplaces',\n",
       "       'Foundation', 'FullBath', 'Functional', 'GarageCars', 'GarageCond',\n",
       "       'GarageFinish', 'GarageQual', 'GarageType', 'GarageYrBlt', 'GrLivArea',\n",
       "       'HalfBath', 'Heating', 'HeatingQC', 'HouseStyle', 'Id', 'KitchenAbvGr',\n",
       "       'KitchenQual', 'LandContour', 'LandSlope', 'LotArea', 'LotConfig',\n",
       "       'LotFrontage', 'LotShape', 'MSSubClass', 'MSZoning', 'MasVnrArea',\n",
       "       'MasVnrType', 'MoSold', 'Neighborhood', 'OpenPorchSF', 'OverallCond',\n",
       "       'OverallQual', 'PavedDrive', 'RoofMatl', 'RoofStyle', 'SaleCondition',\n",
       "       'SaleType', 'Street', 'TotalBsmtSF', 'TotalSF', 'Utilities',\n",
       "       'WoodDeckSF', 'YearBuilt', 'YearRemodAdd', 'YrSold'],\n",
       "      dtype='object')"
      ]
     },
     "execution_count": 44,
     "metadata": {},
     "output_type": "execute_result"
    }
   ],
   "source": [
    "# Remove redundant features\n",
    "full_data = full_data.drop(['TotRmsAbvGrd','GarageArea'], axis = 1)\n",
    "full_data.columns"
   ]
  },
  {
   "cell_type": "markdown",
   "metadata": {},
   "source": [
    "<div class=\"alert alert-block alert-success\">\n",
    "<font color='darkblue'>Ordinal Encoding:  </font>\n",
    "\n",
    "We decided to encoding our ordinal vairables by Oridnal Encoding, so that they can change to numeric vairables. </font>"
   ]
  },
  {
   "cell_type": "code",
   "execution_count": 45,
   "metadata": {
    "collapsed": true
   },
   "outputs": [],
   "source": [
    "# Create Mapper\n",
    "LotShape_Mapper = {'Reg':4, 'IR1':3, 'IR2':2, 'IR3':1}\n",
    "LandSlope_Mapper = {'Gtl':3,'Mod':2,'Sev':1}\n",
    "ExterQual_Mapper = {'Ex':5,'Gd':4, 'TA':3, 'Fa':2, 'Po':1}\n",
    "ExterCond_Mapper = {'Ex':5,'Gd':4, 'TA':3, 'Fa':2, 'Po':1}\n",
    "BsmtQual_Mapper = {'Ex':5,'Gd':4, 'TA':3, 'Fa':2, 'Po':1, 'N':0}\n",
    "BsmtCond_Mapper = {'Ex':5,'Gd':4, 'TA':3, 'Fa':2, 'Po':1, 'N':0}\n",
    "BsmtExposure_Mapper = {'Gd':3, 'Av':2, 'Mn':1, 'No':0,'N':0}\n",
    "BsmtFinType1_Mapper={'GLQ':6,'ALQ':5,'BLQ':4,'Rec':3,'LwQ':2,'Unf':1,'N':0}\n",
    "BsmtFinType2_Mapper={'GLQ':6,'ALQ':5,'BLQ':4,'Rec':3,'LwQ':2,'Unf':1,'N':0}\n",
    "HeatingQC_Mapper={'Ex':5,'Gd':4, 'TA':3, 'Fa':2, 'Po':1}\n",
    "KitchenQual_Mapper = {'Ex':5,'Gd':4, 'TA':3, 'Fa':2, 'Po':1}\n",
    "FireplaceQu_Mapper = {'Ex':5,'Gd':4, 'TA':3, 'Fa':2, 'Po':1,'N':0}\n",
    "GarageFinish_Mapper = {'Fin':3, 'RFn':2,'Unf':1, 'N':0}\n",
    "GarageQual_Mapper = {'Ex':5,'Gd':4, 'TA':3, 'Fa':2, 'Po':1,'N':0}\n",
    "GarageCond_Mapper = {'Ex':5,'Gd':4, 'TA':3, 'Fa':2, 'Po':1,'N':0}\n",
    "PavedDrive_Mapper = {'Y':3,'P':2,'N':1}\n",
    "PoolQC_Mapper = {'Ex':4,'Gd':3, 'TA':2, 'Fa':1,'N':0}"
   ]
  },
  {
   "cell_type": "code",
   "execution_count": 46,
   "metadata": {
    "collapsed": true
   },
   "outputs": [],
   "source": [
    "full_data['LotShape'] = full_data['LotShape'].replace(LotShape_Mapper)"
   ]
  },
  {
   "cell_type": "code",
   "execution_count": 47,
   "metadata": {
    "collapsed": true
   },
   "outputs": [],
   "source": [
    "full_data['LandSlope']=full_data['LandSlope'].replace(LandSlope_Mapper)"
   ]
  },
  {
   "cell_type": "code",
   "execution_count": 48,
   "metadata": {
    "collapsed": true
   },
   "outputs": [],
   "source": [
    "full_data['ExterQual']=full_data['ExterQual'].replace(ExterQual_Mapper)"
   ]
  },
  {
   "cell_type": "code",
   "execution_count": 49,
   "metadata": {
    "collapsed": true
   },
   "outputs": [],
   "source": [
    "full_data['ExterCond']=full_data['ExterCond'].replace(ExterCond_Mapper)"
   ]
  },
  {
   "cell_type": "code",
   "execution_count": 50,
   "metadata": {
    "collapsed": true
   },
   "outputs": [],
   "source": [
    "full_data['BsmtQual']=full_data['BsmtQual'].replace(BsmtQual_Mapper)"
   ]
  },
  {
   "cell_type": "code",
   "execution_count": 51,
   "metadata": {
    "collapsed": true
   },
   "outputs": [],
   "source": [
    "full_data['BsmtCond']=full_data['BsmtCond'].replace(BsmtCond_Mapper)"
   ]
  },
  {
   "cell_type": "code",
   "execution_count": 52,
   "metadata": {
    "collapsed": true
   },
   "outputs": [],
   "source": [
    "full_data['BsmtExposure']=full_data['BsmtExposure'].replace(BsmtExposure_Mapper)"
   ]
  },
  {
   "cell_type": "code",
   "execution_count": 53,
   "metadata": {
    "collapsed": true
   },
   "outputs": [],
   "source": [
    "full_data['BsmtFinType1']=full_data['BsmtFinType1'].replace(BsmtFinType1_Mapper)"
   ]
  },
  {
   "cell_type": "code",
   "execution_count": 54,
   "metadata": {
    "collapsed": true
   },
   "outputs": [],
   "source": [
    "full_data['BsmtFinType2']=full_data['BsmtFinType2'].replace(BsmtFinType2_Mapper)"
   ]
  },
  {
   "cell_type": "code",
   "execution_count": 55,
   "metadata": {
    "collapsed": true
   },
   "outputs": [],
   "source": [
    "full_data['HeatingQC']=full_data['HeatingQC'].replace(HeatingQC_Mapper)"
   ]
  },
  {
   "cell_type": "code",
   "execution_count": 56,
   "metadata": {
    "collapsed": true
   },
   "outputs": [],
   "source": [
    "full_data['KitchenQual']=full_data['KitchenQual'].replace(KitchenQual_Mapper)"
   ]
  },
  {
   "cell_type": "code",
   "execution_count": 57,
   "metadata": {
    "collapsed": true
   },
   "outputs": [],
   "source": [
    "full_data['FireplaceQu']=full_data['FireplaceQu'].replace(FireplaceQu_Mapper)"
   ]
  },
  {
   "cell_type": "code",
   "execution_count": 58,
   "metadata": {
    "collapsed": true
   },
   "outputs": [],
   "source": [
    "full_data['GarageFinish']=full_data['GarageFinish'].replace(GarageFinish_Mapper)"
   ]
  },
  {
   "cell_type": "code",
   "execution_count": 59,
   "metadata": {
    "collapsed": true
   },
   "outputs": [],
   "source": [
    "full_data['GarageQual']=full_data['GarageQual'].replace(GarageQual_Mapper)"
   ]
  },
  {
   "cell_type": "code",
   "execution_count": 60,
   "metadata": {
    "collapsed": true
   },
   "outputs": [],
   "source": [
    "full_data['GarageCond']=full_data['GarageCond'].replace(GarageCond_Mapper)"
   ]
  },
  {
   "cell_type": "code",
   "execution_count": 61,
   "metadata": {
    "collapsed": true
   },
   "outputs": [],
   "source": [
    "full_data['PavedDrive']=full_data['PavedDrive'].replace(PavedDrive_Mapper)"
   ]
  },
  {
   "cell_type": "markdown",
   "metadata": {},
   "source": [
    "<div class=\"alert alert-block alert-info\">\n",
    "<font color='green'>Now, we can see those variables' type changed. </font>"
   ]
  },
  {
   "cell_type": "code",
   "execution_count": 62,
   "metadata": {},
   "outputs": [
    {
     "data": {
      "text/plain": [
       "1stFlrSF           int64\n",
       "2ndFlrSF           int64\n",
       "BedroomAbvGr       int64\n",
       "BldgType          object\n",
       "BsmtCond           int64\n",
       "BsmtExposure       int64\n",
       "BsmtFinSF1       float64\n",
       "BsmtFinSF2       float64\n",
       "BsmtFinType1       int64\n",
       "BsmtFinType2       int64\n",
       "BsmtFullBath     float64\n",
       "BsmtQual           int64\n",
       "BsmtUnfSF        float64\n",
       "CentralAir        object\n",
       "Condition1        object\n",
       "Condition2        object\n",
       "Electrical        object\n",
       "EnclosedPorch      int64\n",
       "ExterCond          int64\n",
       "ExterQual          int64\n",
       "Exterior1st       object\n",
       "Exterior2nd       object\n",
       "FireplaceQu        int64\n",
       "Fireplaces         int64\n",
       "Foundation        object\n",
       "FullBath           int64\n",
       "Functional        object\n",
       "GarageCars       float64\n",
       "GarageCond         int64\n",
       "GarageFinish       int64\n",
       "                  ...   \n",
       "KitchenAbvGr       int64\n",
       "KitchenQual        int64\n",
       "LandContour       object\n",
       "LandSlope          int64\n",
       "LotArea            int64\n",
       "LotConfig         object\n",
       "LotFrontage      float64\n",
       "LotShape           int64\n",
       "MSSubClass        object\n",
       "MSZoning          object\n",
       "MasVnrArea       float64\n",
       "MasVnrType        object\n",
       "MoSold            object\n",
       "Neighborhood      object\n",
       "OpenPorchSF        int64\n",
       "OverallCond        int64\n",
       "OverallQual        int64\n",
       "PavedDrive         int64\n",
       "RoofMatl          object\n",
       "RoofStyle         object\n",
       "SaleCondition     object\n",
       "SaleType          object\n",
       "Street            object\n",
       "TotalBsmtSF      float64\n",
       "TotalSF          float64\n",
       "Utilities         object\n",
       "WoodDeckSF         int64\n",
       "YearBuilt          int64\n",
       "YearRemodAdd       int64\n",
       "YrSold            object\n",
       "Length: 69, dtype: object"
      ]
     },
     "execution_count": 62,
     "metadata": {},
     "output_type": "execute_result"
    }
   ],
   "source": [
    "full_data.dtypes"
   ]
  },
  {
   "cell_type": "code",
   "execution_count": 63,
   "metadata": {},
   "outputs": [
    {
     "data": {
      "text/plain": [
       "(2917, 69)"
      ]
     },
     "execution_count": 63,
     "metadata": {},
     "output_type": "execute_result"
    }
   ],
   "source": [
    "full_data.shape"
   ]
  },
  {
   "cell_type": "markdown",
   "metadata": {},
   "source": [
    "<div class=\"alert alert-block alert-success\">\n",
    "<font color='darkblue'>Label Encoding:  </font>\n",
    "\n",
    "Instead of using one hot encoding, we decided to encoding our object variable, so that they can change to numeric vairables.</font>\n",
    "\n",
    "*** \n",
    "\n",
    "<font color='green'>Notice that we did not use one hot encoding here is because our data seems so sparse after we apply the one hot encoding. And if we choose to use one hot encoding, we need to do one more step for feature extraction. </font>"
   ]
  },
  {
   "cell_type": "code",
   "execution_count": 67,
   "metadata": {
    "collapsed": true
   },
   "outputs": [],
   "source": [
    "object=full_data.select_dtypes(include=['object'])"
   ]
  },
  {
   "cell_type": "code",
   "execution_count": 68,
   "metadata": {
    "collapsed": true
   },
   "outputs": [],
   "source": [
    "from sklearn import preprocessing"
   ]
  },
  {
   "cell_type": "code",
   "execution_count": 69,
   "metadata": {
    "collapsed": true
   },
   "outputs": [],
   "source": [
    "le = preprocessing.LabelEncoder()"
   ]
  },
  {
   "cell_type": "code",
   "execution_count": 70,
   "metadata": {
    "collapsed": true
   },
   "outputs": [],
   "source": [
    "df_encoded = object.apply(le.fit_transform)"
   ]
  },
  {
   "cell_type": "code",
   "execution_count": 71,
   "metadata": {},
   "outputs": [
    {
     "data": {
      "text/html": [
       "<div>\n",
       "<style>\n",
       "    .dataframe thead tr:only-child th {\n",
       "        text-align: right;\n",
       "    }\n",
       "\n",
       "    .dataframe thead th {\n",
       "        text-align: left;\n",
       "    }\n",
       "\n",
       "    .dataframe tbody tr th {\n",
       "        vertical-align: top;\n",
       "    }\n",
       "</style>\n",
       "<table border=\"1\" class=\"dataframe\">\n",
       "  <thead>\n",
       "    <tr style=\"text-align: right;\">\n",
       "      <th></th>\n",
       "      <th>BldgType</th>\n",
       "      <th>CentralAir</th>\n",
       "      <th>Condition1</th>\n",
       "      <th>Condition2</th>\n",
       "      <th>Electrical</th>\n",
       "      <th>Exterior1st</th>\n",
       "      <th>Exterior2nd</th>\n",
       "      <th>Foundation</th>\n",
       "      <th>Functional</th>\n",
       "      <th>GarageType</th>\n",
       "      <th>...</th>\n",
       "      <th>MasVnrType</th>\n",
       "      <th>MoSold</th>\n",
       "      <th>Neighborhood</th>\n",
       "      <th>RoofMatl</th>\n",
       "      <th>RoofStyle</th>\n",
       "      <th>SaleCondition</th>\n",
       "      <th>SaleType</th>\n",
       "      <th>Street</th>\n",
       "      <th>Utilities</th>\n",
       "      <th>YrSold</th>\n",
       "    </tr>\n",
       "  </thead>\n",
       "  <tbody>\n",
       "    <tr>\n",
       "      <th>0</th>\n",
       "      <td>0</td>\n",
       "      <td>1</td>\n",
       "      <td>2</td>\n",
       "      <td>2</td>\n",
       "      <td>4</td>\n",
       "      <td>12</td>\n",
       "      <td>13</td>\n",
       "      <td>2</td>\n",
       "      <td>6</td>\n",
       "      <td>1</td>\n",
       "      <td>...</td>\n",
       "      <td>1</td>\n",
       "      <td>4</td>\n",
       "      <td>5</td>\n",
       "      <td>0</td>\n",
       "      <td>1</td>\n",
       "      <td>4</td>\n",
       "      <td>8</td>\n",
       "      <td>1</td>\n",
       "      <td>0</td>\n",
       "      <td>2</td>\n",
       "    </tr>\n",
       "    <tr>\n",
       "      <th>1</th>\n",
       "      <td>0</td>\n",
       "      <td>1</td>\n",
       "      <td>1</td>\n",
       "      <td>2</td>\n",
       "      <td>4</td>\n",
       "      <td>8</td>\n",
       "      <td>8</td>\n",
       "      <td>1</td>\n",
       "      <td>6</td>\n",
       "      <td>1</td>\n",
       "      <td>...</td>\n",
       "      <td>3</td>\n",
       "      <td>7</td>\n",
       "      <td>24</td>\n",
       "      <td>0</td>\n",
       "      <td>1</td>\n",
       "      <td>4</td>\n",
       "      <td>8</td>\n",
       "      <td>1</td>\n",
       "      <td>0</td>\n",
       "      <td>1</td>\n",
       "    </tr>\n",
       "    <tr>\n",
       "      <th>2</th>\n",
       "      <td>0</td>\n",
       "      <td>1</td>\n",
       "      <td>2</td>\n",
       "      <td>2</td>\n",
       "      <td>4</td>\n",
       "      <td>12</td>\n",
       "      <td>13</td>\n",
       "      <td>2</td>\n",
       "      <td>6</td>\n",
       "      <td>1</td>\n",
       "      <td>...</td>\n",
       "      <td>1</td>\n",
       "      <td>11</td>\n",
       "      <td>5</td>\n",
       "      <td>0</td>\n",
       "      <td>1</td>\n",
       "      <td>4</td>\n",
       "      <td>8</td>\n",
       "      <td>1</td>\n",
       "      <td>0</td>\n",
       "      <td>2</td>\n",
       "    </tr>\n",
       "    <tr>\n",
       "      <th>3</th>\n",
       "      <td>0</td>\n",
       "      <td>1</td>\n",
       "      <td>2</td>\n",
       "      <td>2</td>\n",
       "      <td>4</td>\n",
       "      <td>13</td>\n",
       "      <td>15</td>\n",
       "      <td>0</td>\n",
       "      <td>6</td>\n",
       "      <td>5</td>\n",
       "      <td>...</td>\n",
       "      <td>3</td>\n",
       "      <td>4</td>\n",
       "      <td>6</td>\n",
       "      <td>0</td>\n",
       "      <td>1</td>\n",
       "      <td>0</td>\n",
       "      <td>8</td>\n",
       "      <td>1</td>\n",
       "      <td>0</td>\n",
       "      <td>0</td>\n",
       "    </tr>\n",
       "    <tr>\n",
       "      <th>4</th>\n",
       "      <td>0</td>\n",
       "      <td>1</td>\n",
       "      <td>2</td>\n",
       "      <td>2</td>\n",
       "      <td>4</td>\n",
       "      <td>12</td>\n",
       "      <td>13</td>\n",
       "      <td>2</td>\n",
       "      <td>6</td>\n",
       "      <td>1</td>\n",
       "      <td>...</td>\n",
       "      <td>1</td>\n",
       "      <td>3</td>\n",
       "      <td>15</td>\n",
       "      <td>0</td>\n",
       "      <td>1</td>\n",
       "      <td>4</td>\n",
       "      <td>8</td>\n",
       "      <td>1</td>\n",
       "      <td>0</td>\n",
       "      <td>2</td>\n",
       "    </tr>\n",
       "  </tbody>\n",
       "</table>\n",
       "<p>5 rows × 26 columns</p>\n",
       "</div>"
      ],
      "text/plain": [
       "   BldgType  CentralAir  Condition1  Condition2  Electrical  Exterior1st  \\\n",
       "0         0           1           2           2           4           12   \n",
       "1         0           1           1           2           4            8   \n",
       "2         0           1           2           2           4           12   \n",
       "3         0           1           2           2           4           13   \n",
       "4         0           1           2           2           4           12   \n",
       "\n",
       "   Exterior2nd  Foundation  Functional  GarageType   ...    MasVnrType  \\\n",
       "0           13           2           6           1   ...             1   \n",
       "1            8           1           6           1   ...             3   \n",
       "2           13           2           6           1   ...             1   \n",
       "3           15           0           6           5   ...             3   \n",
       "4           13           2           6           1   ...             1   \n",
       "\n",
       "   MoSold  Neighborhood  RoofMatl  RoofStyle  SaleCondition  SaleType  Street  \\\n",
       "0       4             5         0          1              4         8       1   \n",
       "1       7            24         0          1              4         8       1   \n",
       "2      11             5         0          1              4         8       1   \n",
       "3       4             6         0          1              0         8       1   \n",
       "4       3            15         0          1              4         8       1   \n",
       "\n",
       "   Utilities  YrSold  \n",
       "0          0       2  \n",
       "1          0       1  \n",
       "2          0       2  \n",
       "3          0       0  \n",
       "4          0       2  \n",
       "\n",
       "[5 rows x 26 columns]"
      ]
     },
     "execution_count": 71,
     "metadata": {},
     "output_type": "execute_result"
    }
   ],
   "source": [
    "df_encoded.head()"
   ]
  },
  {
   "cell_type": "code",
   "execution_count": 72,
   "metadata": {},
   "outputs": [
    {
     "data": {
      "text/plain": [
       "Index(['1stFlrSF', '2ndFlrSF', 'BedroomAbvGr', 'BsmtCond', 'BsmtExposure',\n",
       "       'BsmtFinSF1', 'BsmtFinSF2', 'BsmtFinType1', 'BsmtFinType2',\n",
       "       'BsmtFullBath', 'BsmtQual', 'BsmtUnfSF', 'EnclosedPorch', 'ExterCond',\n",
       "       'ExterQual', 'FireplaceQu', 'Fireplaces', 'FullBath', 'GarageCars',\n",
       "       'GarageCond', 'GarageFinish', 'GarageQual', 'GarageYrBlt', 'GrLivArea',\n",
       "       'HalfBath', 'HeatingQC', 'Id', 'KitchenAbvGr', 'KitchenQual',\n",
       "       'LandSlope', 'LotArea', 'LotFrontage', 'LotShape', 'MasVnrArea',\n",
       "       'OpenPorchSF', 'OverallCond', 'OverallQual', 'PavedDrive',\n",
       "       'TotalBsmtSF', 'TotalSF', 'WoodDeckSF', 'YearBuilt', 'YearRemodAdd'],\n",
       "      dtype='object')"
      ]
     },
     "execution_count": 72,
     "metadata": {},
     "output_type": "execute_result"
    }
   ],
   "source": [
    "other=full_data.loc[:, full_data.dtypes != np.object]\n",
    "other.columns"
   ]
  },
  {
   "cell_type": "code",
   "execution_count": 73,
   "metadata": {},
   "outputs": [
    {
     "data": {
      "text/plain": [
       "(2917, 69)"
      ]
     },
     "execution_count": 73,
     "metadata": {},
     "output_type": "execute_result"
    }
   ],
   "source": [
    "new_data=pd.concat([other, df_encoded], axis=1)\n",
    "new_data.shape"
   ]
  },
  {
   "cell_type": "code",
   "execution_count": 74,
   "metadata": {
    "collapsed": true
   },
   "outputs": [],
   "source": [
    "newtrain= new_data[:1000]\n",
    "\n",
    "newvalidation = new_data[1000:1458]\n",
    "\n",
    "newtest = new_data[1458:]"
   ]
  },
  {
   "cell_type": "code",
   "execution_count": 75,
   "metadata": {},
   "outputs": [
    {
     "name": "stdout",
     "output_type": "stream",
     "text": [
      "(1000, 69)\n",
      "(458, 69)\n",
      "(1459, 69)\n"
     ]
    }
   ],
   "source": [
    "print(newtrain.shape)\n",
    "print(newvalidation.shape)\n",
    "print(newtest.shape)"
   ]
  },
  {
   "cell_type": "markdown",
   "metadata": {},
   "source": [
    "** (5) Save our cleaned and encoded data **"
   ]
  },
  {
   "cell_type": "code",
   "execution_count": 76,
   "metadata": {
    "collapsed": true
   },
   "outputs": [],
   "source": [
    "newtrain.to_csv('newtrain.csv',index=False)\n",
    "newvalidation.to_csv('newvalidation.csv',index=False)\n",
    "newtest.to_csv('newtest.csv',index=False)              "
   ]
  },
  {
   "cell_type": "markdown",
   "metadata": {},
   "source": [
    "<div class=\"alert alert-block alert-info\">\n",
    "<font color='green'>Check our new data after saving. <br>\n",
    "Notice that we move Id in front of all other columns, so that it allows the checking process easier. </font>"
   ]
  },
  {
   "cell_type": "code",
   "execution_count": 77,
   "metadata": {},
   "outputs": [
    {
     "data": {
      "text/html": [
       "<div>\n",
       "<style>\n",
       "    .dataframe thead tr:only-child th {\n",
       "        text-align: right;\n",
       "    }\n",
       "\n",
       "    .dataframe thead th {\n",
       "        text-align: left;\n",
       "    }\n",
       "\n",
       "    .dataframe tbody tr th {\n",
       "        vertical-align: top;\n",
       "    }\n",
       "</style>\n",
       "<table border=\"1\" class=\"dataframe\">\n",
       "  <thead>\n",
       "    <tr style=\"text-align: right;\">\n",
       "      <th></th>\n",
       "      <th>1stFlrSF</th>\n",
       "      <th>2ndFlrSF</th>\n",
       "      <th>BedroomAbvGr</th>\n",
       "      <th>BsmtCond</th>\n",
       "      <th>BsmtExposure</th>\n",
       "      <th>BsmtFinSF1</th>\n",
       "      <th>BsmtFinSF2</th>\n",
       "      <th>BsmtFinType1</th>\n",
       "      <th>BsmtFinType2</th>\n",
       "      <th>BsmtFullBath</th>\n",
       "      <th>...</th>\n",
       "      <th>MasVnrType</th>\n",
       "      <th>MoSold</th>\n",
       "      <th>Neighborhood</th>\n",
       "      <th>RoofMatl</th>\n",
       "      <th>RoofStyle</th>\n",
       "      <th>SaleCondition</th>\n",
       "      <th>SaleType</th>\n",
       "      <th>Street</th>\n",
       "      <th>Utilities</th>\n",
       "      <th>YrSold</th>\n",
       "    </tr>\n",
       "  </thead>\n",
       "  <tbody>\n",
       "    <tr>\n",
       "      <th>0</th>\n",
       "      <td>856</td>\n",
       "      <td>854</td>\n",
       "      <td>3</td>\n",
       "      <td>3</td>\n",
       "      <td>0</td>\n",
       "      <td>706.0</td>\n",
       "      <td>0.0</td>\n",
       "      <td>6</td>\n",
       "      <td>1</td>\n",
       "      <td>1.0</td>\n",
       "      <td>...</td>\n",
       "      <td>1</td>\n",
       "      <td>4</td>\n",
       "      <td>5</td>\n",
       "      <td>0</td>\n",
       "      <td>1</td>\n",
       "      <td>4</td>\n",
       "      <td>8</td>\n",
       "      <td>1</td>\n",
       "      <td>0</td>\n",
       "      <td>2</td>\n",
       "    </tr>\n",
       "    <tr>\n",
       "      <th>1</th>\n",
       "      <td>1262</td>\n",
       "      <td>0</td>\n",
       "      <td>3</td>\n",
       "      <td>3</td>\n",
       "      <td>3</td>\n",
       "      <td>978.0</td>\n",
       "      <td>0.0</td>\n",
       "      <td>5</td>\n",
       "      <td>1</td>\n",
       "      <td>0.0</td>\n",
       "      <td>...</td>\n",
       "      <td>3</td>\n",
       "      <td>7</td>\n",
       "      <td>24</td>\n",
       "      <td>0</td>\n",
       "      <td>1</td>\n",
       "      <td>4</td>\n",
       "      <td>8</td>\n",
       "      <td>1</td>\n",
       "      <td>0</td>\n",
       "      <td>1</td>\n",
       "    </tr>\n",
       "    <tr>\n",
       "      <th>2</th>\n",
       "      <td>920</td>\n",
       "      <td>866</td>\n",
       "      <td>3</td>\n",
       "      <td>3</td>\n",
       "      <td>1</td>\n",
       "      <td>486.0</td>\n",
       "      <td>0.0</td>\n",
       "      <td>6</td>\n",
       "      <td>1</td>\n",
       "      <td>1.0</td>\n",
       "      <td>...</td>\n",
       "      <td>1</td>\n",
       "      <td>11</td>\n",
       "      <td>5</td>\n",
       "      <td>0</td>\n",
       "      <td>1</td>\n",
       "      <td>4</td>\n",
       "      <td>8</td>\n",
       "      <td>1</td>\n",
       "      <td>0</td>\n",
       "      <td>2</td>\n",
       "    </tr>\n",
       "    <tr>\n",
       "      <th>3</th>\n",
       "      <td>961</td>\n",
       "      <td>756</td>\n",
       "      <td>3</td>\n",
       "      <td>4</td>\n",
       "      <td>0</td>\n",
       "      <td>216.0</td>\n",
       "      <td>0.0</td>\n",
       "      <td>5</td>\n",
       "      <td>1</td>\n",
       "      <td>1.0</td>\n",
       "      <td>...</td>\n",
       "      <td>3</td>\n",
       "      <td>4</td>\n",
       "      <td>6</td>\n",
       "      <td>0</td>\n",
       "      <td>1</td>\n",
       "      <td>0</td>\n",
       "      <td>8</td>\n",
       "      <td>1</td>\n",
       "      <td>0</td>\n",
       "      <td>0</td>\n",
       "    </tr>\n",
       "    <tr>\n",
       "      <th>4</th>\n",
       "      <td>1145</td>\n",
       "      <td>1053</td>\n",
       "      <td>4</td>\n",
       "      <td>3</td>\n",
       "      <td>2</td>\n",
       "      <td>655.0</td>\n",
       "      <td>0.0</td>\n",
       "      <td>6</td>\n",
       "      <td>1</td>\n",
       "      <td>1.0</td>\n",
       "      <td>...</td>\n",
       "      <td>1</td>\n",
       "      <td>3</td>\n",
       "      <td>15</td>\n",
       "      <td>0</td>\n",
       "      <td>1</td>\n",
       "      <td>4</td>\n",
       "      <td>8</td>\n",
       "      <td>1</td>\n",
       "      <td>0</td>\n",
       "      <td>2</td>\n",
       "    </tr>\n",
       "  </tbody>\n",
       "</table>\n",
       "<p>5 rows × 69 columns</p>\n",
       "</div>"
      ],
      "text/plain": [
       "   1stFlrSF  2ndFlrSF  BedroomAbvGr  BsmtCond  BsmtExposure  BsmtFinSF1  \\\n",
       "0       856       854             3         3             0       706.0   \n",
       "1      1262         0             3         3             3       978.0   \n",
       "2       920       866             3         3             1       486.0   \n",
       "3       961       756             3         4             0       216.0   \n",
       "4      1145      1053             4         3             2       655.0   \n",
       "\n",
       "   BsmtFinSF2  BsmtFinType1  BsmtFinType2  BsmtFullBath   ...    MasVnrType  \\\n",
       "0         0.0             6             1           1.0   ...             1   \n",
       "1         0.0             5             1           0.0   ...             3   \n",
       "2         0.0             6             1           1.0   ...             1   \n",
       "3         0.0             5             1           1.0   ...             3   \n",
       "4         0.0             6             1           1.0   ...             1   \n",
       "\n",
       "   MoSold  Neighborhood  RoofMatl  RoofStyle  SaleCondition  SaleType  Street  \\\n",
       "0       4             5         0          1              4         8       1   \n",
       "1       7            24         0          1              4         8       1   \n",
       "2      11             5         0          1              4         8       1   \n",
       "3       4             6         0          1              0         8       1   \n",
       "4       3            15         0          1              4         8       1   \n",
       "\n",
       "   Utilities  YrSold  \n",
       "0          0       2  \n",
       "1          0       1  \n",
       "2          0       2  \n",
       "3          0       0  \n",
       "4          0       2  \n",
       "\n",
       "[5 rows x 69 columns]"
      ]
     },
     "execution_count": 77,
     "metadata": {},
     "output_type": "execute_result"
    }
   ],
   "source": [
    "traint = pd.read_csv('newtrain.csv')\n",
    "validationt=pd.read_csv('newvalidation.csv')\n",
    "testt =pd.read_csv('newtest.csv')\n",
    "traint.head()"
   ]
  },
  {
   "cell_type": "code",
   "execution_count": 78,
   "metadata": {},
   "outputs": [
    {
     "data": {
      "text/html": [
       "<div>\n",
       "<style>\n",
       "    .dataframe thead tr:only-child th {\n",
       "        text-align: right;\n",
       "    }\n",
       "\n",
       "    .dataframe thead th {\n",
       "        text-align: left;\n",
       "    }\n",
       "\n",
       "    .dataframe tbody tr th {\n",
       "        vertical-align: top;\n",
       "    }\n",
       "</style>\n",
       "<table border=\"1\" class=\"dataframe\">\n",
       "  <thead>\n",
       "    <tr style=\"text-align: right;\">\n",
       "      <th></th>\n",
       "      <th>Id</th>\n",
       "      <th>1stFlrSF</th>\n",
       "      <th>2ndFlrSF</th>\n",
       "      <th>BedroomAbvGr</th>\n",
       "      <th>BsmtCond</th>\n",
       "      <th>BsmtExposure</th>\n",
       "      <th>BsmtFinSF1</th>\n",
       "      <th>BsmtFinSF2</th>\n",
       "      <th>BsmtFinType1</th>\n",
       "      <th>BsmtFinType2</th>\n",
       "      <th>...</th>\n",
       "      <th>MasVnrType</th>\n",
       "      <th>MoSold</th>\n",
       "      <th>Neighborhood</th>\n",
       "      <th>RoofMatl</th>\n",
       "      <th>RoofStyle</th>\n",
       "      <th>SaleCondition</th>\n",
       "      <th>SaleType</th>\n",
       "      <th>Street</th>\n",
       "      <th>Utilities</th>\n",
       "      <th>YrSold</th>\n",
       "    </tr>\n",
       "  </thead>\n",
       "  <tbody>\n",
       "    <tr>\n",
       "      <th>995</th>\n",
       "      <td>997</td>\n",
       "      <td>1050</td>\n",
       "      <td>0</td>\n",
       "      <td>3</td>\n",
       "      <td>3</td>\n",
       "      <td>0</td>\n",
       "      <td>915.0</td>\n",
       "      <td>0.0</td>\n",
       "      <td>3</td>\n",
       "      <td>1</td>\n",
       "      <td>...</td>\n",
       "      <td>3</td>\n",
       "      <td>0</td>\n",
       "      <td>12</td>\n",
       "      <td>0</td>\n",
       "      <td>3</td>\n",
       "      <td>4</td>\n",
       "      <td>0</td>\n",
       "      <td>1</td>\n",
       "      <td>0</td>\n",
       "      <td>0</td>\n",
       "    </tr>\n",
       "    <tr>\n",
       "      <th>996</th>\n",
       "      <td>998</td>\n",
       "      <td>1442</td>\n",
       "      <td>0</td>\n",
       "      <td>2</td>\n",
       "      <td>3</td>\n",
       "      <td>0</td>\n",
       "      <td>0.0</td>\n",
       "      <td>0.0</td>\n",
       "      <td>1</td>\n",
       "      <td>1</td>\n",
       "      <td>...</td>\n",
       "      <td>1</td>\n",
       "      <td>4</td>\n",
       "      <td>14</td>\n",
       "      <td>0</td>\n",
       "      <td>3</td>\n",
       "      <td>4</td>\n",
       "      <td>8</td>\n",
       "      <td>1</td>\n",
       "      <td>0</td>\n",
       "      <td>3</td>\n",
       "    </tr>\n",
       "    <tr>\n",
       "      <th>997</th>\n",
       "      <td>999</td>\n",
       "      <td>1077</td>\n",
       "      <td>0</td>\n",
       "      <td>3</td>\n",
       "      <td>2</td>\n",
       "      <td>0</td>\n",
       "      <td>0.0</td>\n",
       "      <td>0.0</td>\n",
       "      <td>1</td>\n",
       "      <td>1</td>\n",
       "      <td>...</td>\n",
       "      <td>3</td>\n",
       "      <td>7</td>\n",
       "      <td>9</td>\n",
       "      <td>0</td>\n",
       "      <td>3</td>\n",
       "      <td>4</td>\n",
       "      <td>8</td>\n",
       "      <td>1</td>\n",
       "      <td>0</td>\n",
       "      <td>0</td>\n",
       "    </tr>\n",
       "    <tr>\n",
       "      <th>998</th>\n",
       "      <td>1000</td>\n",
       "      <td>1208</td>\n",
       "      <td>0</td>\n",
       "      <td>2</td>\n",
       "      <td>3</td>\n",
       "      <td>2</td>\n",
       "      <td>686.0</td>\n",
       "      <td>0.0</td>\n",
       "      <td>6</td>\n",
       "      <td>1</td>\n",
       "      <td>...</td>\n",
       "      <td>4</td>\n",
       "      <td>4</td>\n",
       "      <td>5</td>\n",
       "      <td>0</td>\n",
       "      <td>1</td>\n",
       "      <td>4</td>\n",
       "      <td>8</td>\n",
       "      <td>1</td>\n",
       "      <td>0</td>\n",
       "      <td>4</td>\n",
       "    </tr>\n",
       "    <tr>\n",
       "      <th>999</th>\n",
       "      <td>1001</td>\n",
       "      <td>944</td>\n",
       "      <td>0</td>\n",
       "      <td>2</td>\n",
       "      <td>0</td>\n",
       "      <td>0</td>\n",
       "      <td>0.0</td>\n",
       "      <td>0.0</td>\n",
       "      <td>0</td>\n",
       "      <td>0</td>\n",
       "      <td>...</td>\n",
       "      <td>3</td>\n",
       "      <td>9</td>\n",
       "      <td>7</td>\n",
       "      <td>4</td>\n",
       "      <td>0</td>\n",
       "      <td>4</td>\n",
       "      <td>8</td>\n",
       "      <td>1</td>\n",
       "      <td>0</td>\n",
       "      <td>3</td>\n",
       "    </tr>\n",
       "  </tbody>\n",
       "</table>\n",
       "<p>5 rows × 69 columns</p>\n",
       "</div>"
      ],
      "text/plain": [
       "       Id  1stFlrSF  2ndFlrSF  BedroomAbvGr  BsmtCond  BsmtExposure  \\\n",
       "995   997      1050         0             3         3             0   \n",
       "996   998      1442         0             2         3             0   \n",
       "997   999      1077         0             3         2             0   \n",
       "998  1000      1208         0             2         3             2   \n",
       "999  1001       944         0             2         0             0   \n",
       "\n",
       "     BsmtFinSF1  BsmtFinSF2  BsmtFinType1  BsmtFinType2   ...    MasVnrType  \\\n",
       "995       915.0         0.0             3             1   ...             3   \n",
       "996         0.0         0.0             1             1   ...             1   \n",
       "997         0.0         0.0             1             1   ...             3   \n",
       "998       686.0         0.0             6             1   ...             4   \n",
       "999         0.0         0.0             0             0   ...             3   \n",
       "\n",
       "     MoSold  Neighborhood  RoofMatl  RoofStyle  SaleCondition  SaleType  \\\n",
       "995       0            12         0          3              4         0   \n",
       "996       4            14         0          3              4         8   \n",
       "997       7             9         0          3              4         8   \n",
       "998       4             5         0          1              4         8   \n",
       "999       9             7         4          0              4         8   \n",
       "\n",
       "     Street  Utilities  YrSold  \n",
       "995       1          0       0  \n",
       "996       1          0       3  \n",
       "997       1          0       0  \n",
       "998       1          0       4  \n",
       "999       1          0       3  \n",
       "\n",
       "[5 rows x 69 columns]"
      ]
     },
     "execution_count": 78,
     "metadata": {},
     "output_type": "execute_result"
    }
   ],
   "source": [
    "cols = traint.columns.tolist()\n",
    "cols = ['Id']  + [col for col in traint if col != 'Id']\n",
    "traint = traint[cols]\n",
    "traint.tail()"
   ]
  },
  {
   "cell_type": "code",
   "execution_count": 79,
   "metadata": {},
   "outputs": [
    {
     "data": {
      "text/html": [
       "<div>\n",
       "<style>\n",
       "    .dataframe thead tr:only-child th {\n",
       "        text-align: right;\n",
       "    }\n",
       "\n",
       "    .dataframe thead th {\n",
       "        text-align: left;\n",
       "    }\n",
       "\n",
       "    .dataframe tbody tr th {\n",
       "        vertical-align: top;\n",
       "    }\n",
       "</style>\n",
       "<table border=\"1\" class=\"dataframe\">\n",
       "  <thead>\n",
       "    <tr style=\"text-align: right;\">\n",
       "      <th></th>\n",
       "      <th>Id</th>\n",
       "      <th>1stFlrSF</th>\n",
       "      <th>2ndFlrSF</th>\n",
       "      <th>BedroomAbvGr</th>\n",
       "      <th>BsmtCond</th>\n",
       "      <th>BsmtExposure</th>\n",
       "      <th>BsmtFinSF1</th>\n",
       "      <th>BsmtFinSF2</th>\n",
       "      <th>BsmtFinType1</th>\n",
       "      <th>BsmtFinType2</th>\n",
       "      <th>...</th>\n",
       "      <th>MasVnrType</th>\n",
       "      <th>MoSold</th>\n",
       "      <th>Neighborhood</th>\n",
       "      <th>RoofMatl</th>\n",
       "      <th>RoofStyle</th>\n",
       "      <th>SaleCondition</th>\n",
       "      <th>SaleType</th>\n",
       "      <th>Street</th>\n",
       "      <th>Utilities</th>\n",
       "      <th>YrSold</th>\n",
       "    </tr>\n",
       "  </thead>\n",
       "  <tbody>\n",
       "    <tr>\n",
       "      <th>453</th>\n",
       "      <td>1456</td>\n",
       "      <td>953</td>\n",
       "      <td>694</td>\n",
       "      <td>3</td>\n",
       "      <td>3</td>\n",
       "      <td>0</td>\n",
       "      <td>0.0</td>\n",
       "      <td>0.0</td>\n",
       "      <td>1</td>\n",
       "      <td>1</td>\n",
       "      <td>...</td>\n",
       "      <td>3</td>\n",
       "      <td>10</td>\n",
       "      <td>8</td>\n",
       "      <td>0</td>\n",
       "      <td>1</td>\n",
       "      <td>4</td>\n",
       "      <td>8</td>\n",
       "      <td>1</td>\n",
       "      <td>0</td>\n",
       "      <td>1</td>\n",
       "    </tr>\n",
       "    <tr>\n",
       "      <th>454</th>\n",
       "      <td>1457</td>\n",
       "      <td>2073</td>\n",
       "      <td>0</td>\n",
       "      <td>3</td>\n",
       "      <td>3</td>\n",
       "      <td>0</td>\n",
       "      <td>790.0</td>\n",
       "      <td>163.0</td>\n",
       "      <td>5</td>\n",
       "      <td>3</td>\n",
       "      <td>...</td>\n",
       "      <td>4</td>\n",
       "      <td>4</td>\n",
       "      <td>14</td>\n",
       "      <td>0</td>\n",
       "      <td>1</td>\n",
       "      <td>4</td>\n",
       "      <td>8</td>\n",
       "      <td>1</td>\n",
       "      <td>0</td>\n",
       "      <td>4</td>\n",
       "    </tr>\n",
       "    <tr>\n",
       "      <th>455</th>\n",
       "      <td>1458</td>\n",
       "      <td>1188</td>\n",
       "      <td>1152</td>\n",
       "      <td>4</td>\n",
       "      <td>4</td>\n",
       "      <td>0</td>\n",
       "      <td>275.0</td>\n",
       "      <td>0.0</td>\n",
       "      <td>6</td>\n",
       "      <td>1</td>\n",
       "      <td>...</td>\n",
       "      <td>3</td>\n",
       "      <td>7</td>\n",
       "      <td>6</td>\n",
       "      <td>0</td>\n",
       "      <td>1</td>\n",
       "      <td>4</td>\n",
       "      <td>8</td>\n",
       "      <td>1</td>\n",
       "      <td>0</td>\n",
       "      <td>4</td>\n",
       "    </tr>\n",
       "    <tr>\n",
       "      <th>456</th>\n",
       "      <td>1459</td>\n",
       "      <td>1078</td>\n",
       "      <td>0</td>\n",
       "      <td>2</td>\n",
       "      <td>3</td>\n",
       "      <td>1</td>\n",
       "      <td>49.0</td>\n",
       "      <td>1029.0</td>\n",
       "      <td>6</td>\n",
       "      <td>3</td>\n",
       "      <td>...</td>\n",
       "      <td>3</td>\n",
       "      <td>6</td>\n",
       "      <td>12</td>\n",
       "      <td>0</td>\n",
       "      <td>3</td>\n",
       "      <td>4</td>\n",
       "      <td>8</td>\n",
       "      <td>1</td>\n",
       "      <td>0</td>\n",
       "      <td>4</td>\n",
       "    </tr>\n",
       "    <tr>\n",
       "      <th>457</th>\n",
       "      <td>1460</td>\n",
       "      <td>1256</td>\n",
       "      <td>0</td>\n",
       "      <td>3</td>\n",
       "      <td>3</td>\n",
       "      <td>0</td>\n",
       "      <td>830.0</td>\n",
       "      <td>290.0</td>\n",
       "      <td>4</td>\n",
       "      <td>2</td>\n",
       "      <td>...</td>\n",
       "      <td>3</td>\n",
       "      <td>8</td>\n",
       "      <td>7</td>\n",
       "      <td>0</td>\n",
       "      <td>1</td>\n",
       "      <td>4</td>\n",
       "      <td>8</td>\n",
       "      <td>1</td>\n",
       "      <td>0</td>\n",
       "      <td>2</td>\n",
       "    </tr>\n",
       "  </tbody>\n",
       "</table>\n",
       "<p>5 rows × 69 columns</p>\n",
       "</div>"
      ],
      "text/plain": [
       "       Id  1stFlrSF  2ndFlrSF  BedroomAbvGr  BsmtCond  BsmtExposure  \\\n",
       "453  1456       953       694             3         3             0   \n",
       "454  1457      2073         0             3         3             0   \n",
       "455  1458      1188      1152             4         4             0   \n",
       "456  1459      1078         0             2         3             1   \n",
       "457  1460      1256         0             3         3             0   \n",
       "\n",
       "     BsmtFinSF1  BsmtFinSF2  BsmtFinType1  BsmtFinType2   ...    MasVnrType  \\\n",
       "453         0.0         0.0             1             1   ...             3   \n",
       "454       790.0       163.0             5             3   ...             4   \n",
       "455       275.0         0.0             6             1   ...             3   \n",
       "456        49.0      1029.0             6             3   ...             3   \n",
       "457       830.0       290.0             4             2   ...             3   \n",
       "\n",
       "     MoSold  Neighborhood  RoofMatl  RoofStyle  SaleCondition  SaleType  \\\n",
       "453      10             8         0          1              4         8   \n",
       "454       4            14         0          1              4         8   \n",
       "455       7             6         0          1              4         8   \n",
       "456       6            12         0          3              4         8   \n",
       "457       8             7         0          1              4         8   \n",
       "\n",
       "     Street  Utilities  YrSold  \n",
       "453       1          0       1  \n",
       "454       1          0       4  \n",
       "455       1          0       4  \n",
       "456       1          0       4  \n",
       "457       1          0       2  \n",
       "\n",
       "[5 rows x 69 columns]"
      ]
     },
     "execution_count": 79,
     "metadata": {},
     "output_type": "execute_result"
    }
   ],
   "source": [
    "cols = validationt.columns.tolist()\n",
    "cols = ['Id']  + [col for col in validationt if col != 'Id']\n",
    "validationt = validationt[cols]\n",
    "validationt.tail()"
   ]
  },
  {
   "cell_type": "code",
   "execution_count": 80,
   "metadata": {},
   "outputs": [
    {
     "data": {
      "text/html": [
       "<div>\n",
       "<style>\n",
       "    .dataframe thead tr:only-child th {\n",
       "        text-align: right;\n",
       "    }\n",
       "\n",
       "    .dataframe thead th {\n",
       "        text-align: left;\n",
       "    }\n",
       "\n",
       "    .dataframe tbody tr th {\n",
       "        vertical-align: top;\n",
       "    }\n",
       "</style>\n",
       "<table border=\"1\" class=\"dataframe\">\n",
       "  <thead>\n",
       "    <tr style=\"text-align: right;\">\n",
       "      <th></th>\n",
       "      <th>Id</th>\n",
       "      <th>1stFlrSF</th>\n",
       "      <th>2ndFlrSF</th>\n",
       "      <th>BedroomAbvGr</th>\n",
       "      <th>BsmtCond</th>\n",
       "      <th>BsmtExposure</th>\n",
       "      <th>BsmtFinSF1</th>\n",
       "      <th>BsmtFinSF2</th>\n",
       "      <th>BsmtFinType1</th>\n",
       "      <th>BsmtFinType2</th>\n",
       "      <th>...</th>\n",
       "      <th>MasVnrType</th>\n",
       "      <th>MoSold</th>\n",
       "      <th>Neighborhood</th>\n",
       "      <th>RoofMatl</th>\n",
       "      <th>RoofStyle</th>\n",
       "      <th>SaleCondition</th>\n",
       "      <th>SaleType</th>\n",
       "      <th>Street</th>\n",
       "      <th>Utilities</th>\n",
       "      <th>YrSold</th>\n",
       "    </tr>\n",
       "  </thead>\n",
       "  <tbody>\n",
       "    <tr>\n",
       "      <th>1454</th>\n",
       "      <td>2915</td>\n",
       "      <td>546</td>\n",
       "      <td>546</td>\n",
       "      <td>3</td>\n",
       "      <td>3</td>\n",
       "      <td>0</td>\n",
       "      <td>0.0</td>\n",
       "      <td>0.0</td>\n",
       "      <td>1</td>\n",
       "      <td>1</td>\n",
       "      <td>...</td>\n",
       "      <td>3</td>\n",
       "      <td>8</td>\n",
       "      <td>10</td>\n",
       "      <td>0</td>\n",
       "      <td>1</td>\n",
       "      <td>4</td>\n",
       "      <td>8</td>\n",
       "      <td>1</td>\n",
       "      <td>0</td>\n",
       "      <td>0</td>\n",
       "    </tr>\n",
       "    <tr>\n",
       "      <th>1455</th>\n",
       "      <td>2916</td>\n",
       "      <td>546</td>\n",
       "      <td>546</td>\n",
       "      <td>3</td>\n",
       "      <td>3</td>\n",
       "      <td>0</td>\n",
       "      <td>252.0</td>\n",
       "      <td>0.0</td>\n",
       "      <td>3</td>\n",
       "      <td>1</td>\n",
       "      <td>...</td>\n",
       "      <td>3</td>\n",
       "      <td>6</td>\n",
       "      <td>10</td>\n",
       "      <td>0</td>\n",
       "      <td>1</td>\n",
       "      <td>0</td>\n",
       "      <td>8</td>\n",
       "      <td>1</td>\n",
       "      <td>0</td>\n",
       "      <td>0</td>\n",
       "    </tr>\n",
       "    <tr>\n",
       "      <th>1456</th>\n",
       "      <td>2917</td>\n",
       "      <td>1224</td>\n",
       "      <td>0</td>\n",
       "      <td>4</td>\n",
       "      <td>3</td>\n",
       "      <td>0</td>\n",
       "      <td>1224.0</td>\n",
       "      <td>0.0</td>\n",
       "      <td>5</td>\n",
       "      <td>1</td>\n",
       "      <td>...</td>\n",
       "      <td>3</td>\n",
       "      <td>11</td>\n",
       "      <td>11</td>\n",
       "      <td>0</td>\n",
       "      <td>1</td>\n",
       "      <td>0</td>\n",
       "      <td>8</td>\n",
       "      <td>1</td>\n",
       "      <td>0</td>\n",
       "      <td>0</td>\n",
       "    </tr>\n",
       "    <tr>\n",
       "      <th>1457</th>\n",
       "      <td>2918</td>\n",
       "      <td>970</td>\n",
       "      <td>0</td>\n",
       "      <td>3</td>\n",
       "      <td>3</td>\n",
       "      <td>2</td>\n",
       "      <td>337.0</td>\n",
       "      <td>0.0</td>\n",
       "      <td>6</td>\n",
       "      <td>1</td>\n",
       "      <td>...</td>\n",
       "      <td>3</td>\n",
       "      <td>9</td>\n",
       "      <td>11</td>\n",
       "      <td>0</td>\n",
       "      <td>1</td>\n",
       "      <td>4</td>\n",
       "      <td>8</td>\n",
       "      <td>1</td>\n",
       "      <td>0</td>\n",
       "      <td>0</td>\n",
       "    </tr>\n",
       "    <tr>\n",
       "      <th>1458</th>\n",
       "      <td>2919</td>\n",
       "      <td>996</td>\n",
       "      <td>1004</td>\n",
       "      <td>3</td>\n",
       "      <td>3</td>\n",
       "      <td>2</td>\n",
       "      <td>758.0</td>\n",
       "      <td>0.0</td>\n",
       "      <td>2</td>\n",
       "      <td>1</td>\n",
       "      <td>...</td>\n",
       "      <td>1</td>\n",
       "      <td>2</td>\n",
       "      <td>11</td>\n",
       "      <td>0</td>\n",
       "      <td>1</td>\n",
       "      <td>4</td>\n",
       "      <td>8</td>\n",
       "      <td>1</td>\n",
       "      <td>0</td>\n",
       "      <td>0</td>\n",
       "    </tr>\n",
       "  </tbody>\n",
       "</table>\n",
       "<p>5 rows × 69 columns</p>\n",
       "</div>"
      ],
      "text/plain": [
       "        Id  1stFlrSF  2ndFlrSF  BedroomAbvGr  BsmtCond  BsmtExposure  \\\n",
       "1454  2915       546       546             3         3             0   \n",
       "1455  2916       546       546             3         3             0   \n",
       "1456  2917      1224         0             4         3             0   \n",
       "1457  2918       970         0             3         3             2   \n",
       "1458  2919       996      1004             3         3             2   \n",
       "\n",
       "      BsmtFinSF1  BsmtFinSF2  BsmtFinType1  BsmtFinType2   ...    MasVnrType  \\\n",
       "1454         0.0         0.0             1             1   ...             3   \n",
       "1455       252.0         0.0             3             1   ...             3   \n",
       "1456      1224.0         0.0             5             1   ...             3   \n",
       "1457       337.0         0.0             6             1   ...             3   \n",
       "1458       758.0         0.0             2             1   ...             1   \n",
       "\n",
       "      MoSold  Neighborhood  RoofMatl  RoofStyle  SaleCondition  SaleType  \\\n",
       "1454       8            10         0          1              4         8   \n",
       "1455       6            10         0          1              0         8   \n",
       "1456      11            11         0          1              0         8   \n",
       "1457       9            11         0          1              4         8   \n",
       "1458       2            11         0          1              4         8   \n",
       "\n",
       "      Street  Utilities  YrSold  \n",
       "1454       1          0       0  \n",
       "1455       1          0       0  \n",
       "1456       1          0       0  \n",
       "1457       1          0       0  \n",
       "1458       1          0       0  \n",
       "\n",
       "[5 rows x 69 columns]"
      ]
     },
     "execution_count": 80,
     "metadata": {},
     "output_type": "execute_result"
    }
   ],
   "source": [
    "cols = testt.columns.tolist()\n",
    "cols = ['Id']  + [col for col in testt if col != 'Id']\n",
    "testt = testt[cols]\n",
    "testt.tail()"
   ]
  },
  {
   "cell_type": "code",
   "execution_count": 81,
   "metadata": {},
   "outputs": [
    {
     "name": "stdout",
     "output_type": "stream",
     "text": [
      "(1000, 69)\n",
      "(458, 69)\n",
      "(1459, 69)\n"
     ]
    }
   ],
   "source": [
    "print(traint.shape)\n",
    "print(validationt.shape)\n",
    "print(testt.shape)"
   ]
  },
  {
   "cell_type": "markdown",
   "metadata": {},
   "source": [
    "<div class=\"alert alert-block alert-success\">\n",
    "<font color='darkblue'>We need to add back our target variable SalePrice in our Train data and Validation data in order to build our model later. </font>\n",
    "<br>We will talk about how we build our validation data set after this."
   ]
  },
  {
   "cell_type": "code",
   "execution_count": 82,
   "metadata": {},
   "outputs": [
    {
     "data": {
      "text/plain": [
       "array([ 12.24769912,  12.10901644,  12.31717117, ...,  12.49313327,\n",
       "        11.86446927,  11.90159023])"
      ]
     },
     "execution_count": 82,
     "metadata": {},
     "output_type": "execute_result"
    }
   ],
   "source": [
    "y_train = train.SalePrice.values\n",
    "y_train"
   ]
  },
  {
   "cell_type": "code",
   "execution_count": 83,
   "metadata": {},
   "outputs": [
    {
     "name": "stdout",
     "output_type": "stream",
     "text": [
      "(1458, 1)\n"
     ]
    },
    {
     "data": {
      "text/html": [
       "<div>\n",
       "<style>\n",
       "    .dataframe thead tr:only-child th {\n",
       "        text-align: right;\n",
       "    }\n",
       "\n",
       "    .dataframe thead th {\n",
       "        text-align: left;\n",
       "    }\n",
       "\n",
       "    .dataframe tbody tr th {\n",
       "        vertical-align: top;\n",
       "    }\n",
       "</style>\n",
       "<table border=\"1\" class=\"dataframe\">\n",
       "  <thead>\n",
       "    <tr style=\"text-align: right;\">\n",
       "      <th></th>\n",
       "      <th>SalePrice</th>\n",
       "    </tr>\n",
       "  </thead>\n",
       "  <tbody>\n",
       "    <tr>\n",
       "      <th>0</th>\n",
       "      <td>12.247699</td>\n",
       "    </tr>\n",
       "    <tr>\n",
       "      <th>1</th>\n",
       "      <td>12.109016</td>\n",
       "    </tr>\n",
       "    <tr>\n",
       "      <th>2</th>\n",
       "      <td>12.317171</td>\n",
       "    </tr>\n",
       "    <tr>\n",
       "      <th>3</th>\n",
       "      <td>11.849405</td>\n",
       "    </tr>\n",
       "    <tr>\n",
       "      <th>4</th>\n",
       "      <td>12.429220</td>\n",
       "    </tr>\n",
       "  </tbody>\n",
       "</table>\n",
       "</div>"
      ],
      "text/plain": [
       "   SalePrice\n",
       "0  12.247699\n",
       "1  12.109016\n",
       "2  12.317171\n",
       "3  11.849405\n",
       "4  12.429220"
      ]
     },
     "execution_count": 83,
     "metadata": {},
     "output_type": "execute_result"
    }
   ],
   "source": [
    "a=y_train\n",
    "\n",
    "df_SalePrice=pd.DataFrame(a)\n",
    "df_SalePrice.columns =['SalePrice']\n",
    "\n",
    "print(df_SalePrice.shape)\n",
    "df_SalePrice.head()"
   ]
  },
  {
   "cell_type": "code",
   "execution_count": 84,
   "metadata": {
    "collapsed": true
   },
   "outputs": [],
   "source": [
    "data=pd.concat((traint,validationt)).reset_index(drop=True)"
   ]
  },
  {
   "cell_type": "code",
   "execution_count": 85,
   "metadata": {},
   "outputs": [
    {
     "name": "stdout",
     "output_type": "stream",
     "text": [
      "(1458, 70)\n"
     ]
    },
    {
     "data": {
      "text/html": [
       "<div>\n",
       "<style>\n",
       "    .dataframe thead tr:only-child th {\n",
       "        text-align: right;\n",
       "    }\n",
       "\n",
       "    .dataframe thead th {\n",
       "        text-align: left;\n",
       "    }\n",
       "\n",
       "    .dataframe tbody tr th {\n",
       "        vertical-align: top;\n",
       "    }\n",
       "</style>\n",
       "<table border=\"1\" class=\"dataframe\">\n",
       "  <thead>\n",
       "    <tr style=\"text-align: right;\">\n",
       "      <th></th>\n",
       "      <th>Id</th>\n",
       "      <th>1stFlrSF</th>\n",
       "      <th>2ndFlrSF</th>\n",
       "      <th>BedroomAbvGr</th>\n",
       "      <th>BsmtCond</th>\n",
       "      <th>BsmtExposure</th>\n",
       "      <th>BsmtFinSF1</th>\n",
       "      <th>BsmtFinSF2</th>\n",
       "      <th>BsmtFinType1</th>\n",
       "      <th>BsmtFinType2</th>\n",
       "      <th>...</th>\n",
       "      <th>MoSold</th>\n",
       "      <th>Neighborhood</th>\n",
       "      <th>RoofMatl</th>\n",
       "      <th>RoofStyle</th>\n",
       "      <th>SaleCondition</th>\n",
       "      <th>SaleType</th>\n",
       "      <th>Street</th>\n",
       "      <th>Utilities</th>\n",
       "      <th>YrSold</th>\n",
       "      <th>SalePrice</th>\n",
       "    </tr>\n",
       "  </thead>\n",
       "  <tbody>\n",
       "    <tr>\n",
       "      <th>0</th>\n",
       "      <td>1</td>\n",
       "      <td>856</td>\n",
       "      <td>854</td>\n",
       "      <td>3</td>\n",
       "      <td>3</td>\n",
       "      <td>0</td>\n",
       "      <td>706.0</td>\n",
       "      <td>0.0</td>\n",
       "      <td>6</td>\n",
       "      <td>1</td>\n",
       "      <td>...</td>\n",
       "      <td>4</td>\n",
       "      <td>5</td>\n",
       "      <td>0</td>\n",
       "      <td>1</td>\n",
       "      <td>4</td>\n",
       "      <td>8</td>\n",
       "      <td>1</td>\n",
       "      <td>0</td>\n",
       "      <td>2</td>\n",
       "      <td>12.247699</td>\n",
       "    </tr>\n",
       "    <tr>\n",
       "      <th>1</th>\n",
       "      <td>2</td>\n",
       "      <td>1262</td>\n",
       "      <td>0</td>\n",
       "      <td>3</td>\n",
       "      <td>3</td>\n",
       "      <td>3</td>\n",
       "      <td>978.0</td>\n",
       "      <td>0.0</td>\n",
       "      <td>5</td>\n",
       "      <td>1</td>\n",
       "      <td>...</td>\n",
       "      <td>7</td>\n",
       "      <td>24</td>\n",
       "      <td>0</td>\n",
       "      <td>1</td>\n",
       "      <td>4</td>\n",
       "      <td>8</td>\n",
       "      <td>1</td>\n",
       "      <td>0</td>\n",
       "      <td>1</td>\n",
       "      <td>12.109016</td>\n",
       "    </tr>\n",
       "    <tr>\n",
       "      <th>2</th>\n",
       "      <td>3</td>\n",
       "      <td>920</td>\n",
       "      <td>866</td>\n",
       "      <td>3</td>\n",
       "      <td>3</td>\n",
       "      <td>1</td>\n",
       "      <td>486.0</td>\n",
       "      <td>0.0</td>\n",
       "      <td>6</td>\n",
       "      <td>1</td>\n",
       "      <td>...</td>\n",
       "      <td>11</td>\n",
       "      <td>5</td>\n",
       "      <td>0</td>\n",
       "      <td>1</td>\n",
       "      <td>4</td>\n",
       "      <td>8</td>\n",
       "      <td>1</td>\n",
       "      <td>0</td>\n",
       "      <td>2</td>\n",
       "      <td>12.317171</td>\n",
       "    </tr>\n",
       "    <tr>\n",
       "      <th>3</th>\n",
       "      <td>4</td>\n",
       "      <td>961</td>\n",
       "      <td>756</td>\n",
       "      <td>3</td>\n",
       "      <td>4</td>\n",
       "      <td>0</td>\n",
       "      <td>216.0</td>\n",
       "      <td>0.0</td>\n",
       "      <td>5</td>\n",
       "      <td>1</td>\n",
       "      <td>...</td>\n",
       "      <td>4</td>\n",
       "      <td>6</td>\n",
       "      <td>0</td>\n",
       "      <td>1</td>\n",
       "      <td>0</td>\n",
       "      <td>8</td>\n",
       "      <td>1</td>\n",
       "      <td>0</td>\n",
       "      <td>0</td>\n",
       "      <td>11.849405</td>\n",
       "    </tr>\n",
       "    <tr>\n",
       "      <th>4</th>\n",
       "      <td>5</td>\n",
       "      <td>1145</td>\n",
       "      <td>1053</td>\n",
       "      <td>4</td>\n",
       "      <td>3</td>\n",
       "      <td>2</td>\n",
       "      <td>655.0</td>\n",
       "      <td>0.0</td>\n",
       "      <td>6</td>\n",
       "      <td>1</td>\n",
       "      <td>...</td>\n",
       "      <td>3</td>\n",
       "      <td>15</td>\n",
       "      <td>0</td>\n",
       "      <td>1</td>\n",
       "      <td>4</td>\n",
       "      <td>8</td>\n",
       "      <td>1</td>\n",
       "      <td>0</td>\n",
       "      <td>2</td>\n",
       "      <td>12.429220</td>\n",
       "    </tr>\n",
       "  </tbody>\n",
       "</table>\n",
       "<p>5 rows × 70 columns</p>\n",
       "</div>"
      ],
      "text/plain": [
       "   Id  1stFlrSF  2ndFlrSF  BedroomAbvGr  BsmtCond  BsmtExposure  BsmtFinSF1  \\\n",
       "0   1       856       854             3         3             0       706.0   \n",
       "1   2      1262         0             3         3             3       978.0   \n",
       "2   3       920       866             3         3             1       486.0   \n",
       "3   4       961       756             3         4             0       216.0   \n",
       "4   5      1145      1053             4         3             2       655.0   \n",
       "\n",
       "   BsmtFinSF2  BsmtFinType1  BsmtFinType2    ...      MoSold  Neighborhood  \\\n",
       "0         0.0             6             1    ...           4             5   \n",
       "1         0.0             5             1    ...           7            24   \n",
       "2         0.0             6             1    ...          11             5   \n",
       "3         0.0             5             1    ...           4             6   \n",
       "4         0.0             6             1    ...           3            15   \n",
       "\n",
       "   RoofMatl  RoofStyle  SaleCondition  SaleType  Street  Utilities  YrSold  \\\n",
       "0         0          1              4         8       1          0       2   \n",
       "1         0          1              4         8       1          0       1   \n",
       "2         0          1              4         8       1          0       2   \n",
       "3         0          1              0         8       1          0       0   \n",
       "4         0          1              4         8       1          0       2   \n",
       "\n",
       "   SalePrice  \n",
       "0  12.247699  \n",
       "1  12.109016  \n",
       "2  12.317171  \n",
       "3  11.849405  \n",
       "4  12.429220  \n",
       "\n",
       "[5 rows x 70 columns]"
      ]
     },
     "execution_count": 85,
     "metadata": {},
     "output_type": "execute_result"
    }
   ],
   "source": [
    "data = pd.concat([data, df_SalePrice], axis=1)\n",
    "print(data.shape)\n",
    "data.head()"
   ]
  },
  {
   "cell_type": "code",
   "execution_count": 86,
   "metadata": {},
   "outputs": [
    {
     "name": "stdout",
     "output_type": "stream",
     "text": [
      "(1000, 70)\n",
      "(458, 70)\n"
     ]
    }
   ],
   "source": [
    "newtrain2 =data[:1000]\n",
    "newvalidation2 = data[1000:]\n",
    "print(newtrain2.shape)\n",
    "print(newvalidation2.shape)"
   ]
  },
  {
   "cell_type": "code",
   "execution_count": 87,
   "metadata": {
    "collapsed": true
   },
   "outputs": [],
   "source": [
    "newtrain2.to_csv('train_model.csv',index=False)\n",
    "newvalidation2.to_csv('validation_model.csv',index=False)\n",
    "testt.to_csv('test_model.csv',index=False)"
   ]
  },
  {
   "cell_type": "markdown",
   "metadata": {},
   "source": [
    "<div class=\"alert alert-block alert-info\">\n",
    "<font color='green'>Final Check our data and save them as train, validation, and test data, so that we can building our model. </font>"
   ]
  },
  {
   "cell_type": "code",
   "execution_count": 88,
   "metadata": {},
   "outputs": [
    {
     "data": {
      "text/html": [
       "<div>\n",
       "<style>\n",
       "    .dataframe thead tr:only-child th {\n",
       "        text-align: right;\n",
       "    }\n",
       "\n",
       "    .dataframe thead th {\n",
       "        text-align: left;\n",
       "    }\n",
       "\n",
       "    .dataframe tbody tr th {\n",
       "        vertical-align: top;\n",
       "    }\n",
       "</style>\n",
       "<table border=\"1\" class=\"dataframe\">\n",
       "  <thead>\n",
       "    <tr style=\"text-align: right;\">\n",
       "      <th></th>\n",
       "      <th>Id</th>\n",
       "      <th>1stFlrSF</th>\n",
       "      <th>2ndFlrSF</th>\n",
       "      <th>BedroomAbvGr</th>\n",
       "      <th>BsmtCond</th>\n",
       "      <th>BsmtExposure</th>\n",
       "      <th>BsmtFinSF1</th>\n",
       "      <th>BsmtFinSF2</th>\n",
       "      <th>BsmtFinType1</th>\n",
       "      <th>BsmtFinType2</th>\n",
       "      <th>...</th>\n",
       "      <th>MoSold</th>\n",
       "      <th>Neighborhood</th>\n",
       "      <th>RoofMatl</th>\n",
       "      <th>RoofStyle</th>\n",
       "      <th>SaleCondition</th>\n",
       "      <th>SaleType</th>\n",
       "      <th>Street</th>\n",
       "      <th>Utilities</th>\n",
       "      <th>YrSold</th>\n",
       "      <th>SalePrice</th>\n",
       "    </tr>\n",
       "  </thead>\n",
       "  <tbody>\n",
       "    <tr>\n",
       "      <th>995</th>\n",
       "      <td>997</td>\n",
       "      <td>1050</td>\n",
       "      <td>0</td>\n",
       "      <td>3</td>\n",
       "      <td>3</td>\n",
       "      <td>0</td>\n",
       "      <td>915.0</td>\n",
       "      <td>0.0</td>\n",
       "      <td>3</td>\n",
       "      <td>1</td>\n",
       "      <td>...</td>\n",
       "      <td>0</td>\n",
       "      <td>12</td>\n",
       "      <td>0</td>\n",
       "      <td>3</td>\n",
       "      <td>4</td>\n",
       "      <td>0</td>\n",
       "      <td>1</td>\n",
       "      <td>0</td>\n",
       "      <td>0</td>\n",
       "      <td>11.824087</td>\n",
       "    </tr>\n",
       "    <tr>\n",
       "      <th>996</th>\n",
       "      <td>998</td>\n",
       "      <td>1442</td>\n",
       "      <td>0</td>\n",
       "      <td>2</td>\n",
       "      <td>3</td>\n",
       "      <td>0</td>\n",
       "      <td>0.0</td>\n",
       "      <td>0.0</td>\n",
       "      <td>1</td>\n",
       "      <td>1</td>\n",
       "      <td>...</td>\n",
       "      <td>4</td>\n",
       "      <td>14</td>\n",
       "      <td>0</td>\n",
       "      <td>3</td>\n",
       "      <td>4</td>\n",
       "      <td>8</td>\n",
       "      <td>1</td>\n",
       "      <td>0</td>\n",
       "      <td>3</td>\n",
       "      <td>12.128117</td>\n",
       "    </tr>\n",
       "    <tr>\n",
       "      <th>997</th>\n",
       "      <td>999</td>\n",
       "      <td>1077</td>\n",
       "      <td>0</td>\n",
       "      <td>3</td>\n",
       "      <td>2</td>\n",
       "      <td>0</td>\n",
       "      <td>0.0</td>\n",
       "      <td>0.0</td>\n",
       "      <td>1</td>\n",
       "      <td>1</td>\n",
       "      <td>...</td>\n",
       "      <td>7</td>\n",
       "      <td>9</td>\n",
       "      <td>0</td>\n",
       "      <td>3</td>\n",
       "      <td>4</td>\n",
       "      <td>8</td>\n",
       "      <td>1</td>\n",
       "      <td>0</td>\n",
       "      <td>0</td>\n",
       "      <td>11.418626</td>\n",
       "    </tr>\n",
       "    <tr>\n",
       "      <th>998</th>\n",
       "      <td>1000</td>\n",
       "      <td>1208</td>\n",
       "      <td>0</td>\n",
       "      <td>2</td>\n",
       "      <td>3</td>\n",
       "      <td>2</td>\n",
       "      <td>686.0</td>\n",
       "      <td>0.0</td>\n",
       "      <td>6</td>\n",
       "      <td>1</td>\n",
       "      <td>...</td>\n",
       "      <td>4</td>\n",
       "      <td>5</td>\n",
       "      <td>0</td>\n",
       "      <td>1</td>\n",
       "      <td>4</td>\n",
       "      <td>8</td>\n",
       "      <td>1</td>\n",
       "      <td>0</td>\n",
       "      <td>4</td>\n",
       "      <td>12.235636</td>\n",
       "    </tr>\n",
       "    <tr>\n",
       "      <th>999</th>\n",
       "      <td>1001</td>\n",
       "      <td>944</td>\n",
       "      <td>0</td>\n",
       "      <td>2</td>\n",
       "      <td>0</td>\n",
       "      <td>0</td>\n",
       "      <td>0.0</td>\n",
       "      <td>0.0</td>\n",
       "      <td>0</td>\n",
       "      <td>0</td>\n",
       "      <td>...</td>\n",
       "      <td>9</td>\n",
       "      <td>7</td>\n",
       "      <td>4</td>\n",
       "      <td>0</td>\n",
       "      <td>4</td>\n",
       "      <td>8</td>\n",
       "      <td>1</td>\n",
       "      <td>0</td>\n",
       "      <td>3</td>\n",
       "      <td>11.314487</td>\n",
       "    </tr>\n",
       "  </tbody>\n",
       "</table>\n",
       "<p>5 rows × 70 columns</p>\n",
       "</div>"
      ],
      "text/plain": [
       "       Id  1stFlrSF  2ndFlrSF  BedroomAbvGr  BsmtCond  BsmtExposure  \\\n",
       "995   997      1050         0             3         3             0   \n",
       "996   998      1442         0             2         3             0   \n",
       "997   999      1077         0             3         2             0   \n",
       "998  1000      1208         0             2         3             2   \n",
       "999  1001       944         0             2         0             0   \n",
       "\n",
       "     BsmtFinSF1  BsmtFinSF2  BsmtFinType1  BsmtFinType2    ...      MoSold  \\\n",
       "995       915.0         0.0             3             1    ...           0   \n",
       "996         0.0         0.0             1             1    ...           4   \n",
       "997         0.0         0.0             1             1    ...           7   \n",
       "998       686.0         0.0             6             1    ...           4   \n",
       "999         0.0         0.0             0             0    ...           9   \n",
       "\n",
       "     Neighborhood  RoofMatl  RoofStyle  SaleCondition  SaleType  Street  \\\n",
       "995            12         0          3              4         0       1   \n",
       "996            14         0          3              4         8       1   \n",
       "997             9         0          3              4         8       1   \n",
       "998             5         0          1              4         8       1   \n",
       "999             7         4          0              4         8       1   \n",
       "\n",
       "     Utilities  YrSold  SalePrice  \n",
       "995          0       0  11.824087  \n",
       "996          0       3  12.128117  \n",
       "997          0       0  11.418626  \n",
       "998          0       4  12.235636  \n",
       "999          0       3  11.314487  \n",
       "\n",
       "[5 rows x 70 columns]"
      ]
     },
     "execution_count": 88,
     "metadata": {},
     "output_type": "execute_result"
    }
   ],
   "source": [
    "train = pd.read_csv('train_model.csv')\n",
    "train.tail()"
   ]
  },
  {
   "cell_type": "code",
   "execution_count": 89,
   "metadata": {},
   "outputs": [
    {
     "data": {
      "text/html": [
       "<div>\n",
       "<style>\n",
       "    .dataframe thead tr:only-child th {\n",
       "        text-align: right;\n",
       "    }\n",
       "\n",
       "    .dataframe thead th {\n",
       "        text-align: left;\n",
       "    }\n",
       "\n",
       "    .dataframe tbody tr th {\n",
       "        vertical-align: top;\n",
       "    }\n",
       "</style>\n",
       "<table border=\"1\" class=\"dataframe\">\n",
       "  <thead>\n",
       "    <tr style=\"text-align: right;\">\n",
       "      <th></th>\n",
       "      <th>Id</th>\n",
       "      <th>1stFlrSF</th>\n",
       "      <th>2ndFlrSF</th>\n",
       "      <th>BedroomAbvGr</th>\n",
       "      <th>BsmtCond</th>\n",
       "      <th>BsmtExposure</th>\n",
       "      <th>BsmtFinSF1</th>\n",
       "      <th>BsmtFinSF2</th>\n",
       "      <th>BsmtFinType1</th>\n",
       "      <th>BsmtFinType2</th>\n",
       "      <th>...</th>\n",
       "      <th>MoSold</th>\n",
       "      <th>Neighborhood</th>\n",
       "      <th>RoofMatl</th>\n",
       "      <th>RoofStyle</th>\n",
       "      <th>SaleCondition</th>\n",
       "      <th>SaleType</th>\n",
       "      <th>Street</th>\n",
       "      <th>Utilities</th>\n",
       "      <th>YrSold</th>\n",
       "      <th>SalePrice</th>\n",
       "    </tr>\n",
       "  </thead>\n",
       "  <tbody>\n",
       "    <tr>\n",
       "      <th>0</th>\n",
       "      <td>1002</td>\n",
       "      <td>691</td>\n",
       "      <td>0</td>\n",
       "      <td>2</td>\n",
       "      <td>3</td>\n",
       "      <td>0</td>\n",
       "      <td>0.0</td>\n",
       "      <td>0.0</td>\n",
       "      <td>1</td>\n",
       "      <td>1</td>\n",
       "      <td>...</td>\n",
       "      <td>0</td>\n",
       "      <td>17</td>\n",
       "      <td>0</td>\n",
       "      <td>1</td>\n",
       "      <td>0</td>\n",
       "      <td>8</td>\n",
       "      <td>1</td>\n",
       "      <td>0</td>\n",
       "      <td>1</td>\n",
       "      <td>11.362114</td>\n",
       "    </tr>\n",
       "    <tr>\n",
       "      <th>1</th>\n",
       "      <td>1003</td>\n",
       "      <td>1574</td>\n",
       "      <td>0</td>\n",
       "      <td>3</td>\n",
       "      <td>3</td>\n",
       "      <td>0</td>\n",
       "      <td>24.0</td>\n",
       "      <td>0.0</td>\n",
       "      <td>6</td>\n",
       "      <td>1</td>\n",
       "      <td>...</td>\n",
       "      <td>9</td>\n",
       "      <td>21</td>\n",
       "      <td>0</td>\n",
       "      <td>1</td>\n",
       "      <td>4</td>\n",
       "      <td>8</td>\n",
       "      <td>1</td>\n",
       "      <td>0</td>\n",
       "      <td>2</td>\n",
       "      <td>12.354497</td>\n",
       "    </tr>\n",
       "    <tr>\n",
       "      <th>2</th>\n",
       "      <td>1004</td>\n",
       "      <td>1680</td>\n",
       "      <td>0</td>\n",
       "      <td>4</td>\n",
       "      <td>3</td>\n",
       "      <td>0</td>\n",
       "      <td>0.0</td>\n",
       "      <td>0.0</td>\n",
       "      <td>1</td>\n",
       "      <td>1</td>\n",
       "      <td>...</td>\n",
       "      <td>8</td>\n",
       "      <td>14</td>\n",
       "      <td>0</td>\n",
       "      <td>1</td>\n",
       "      <td>4</td>\n",
       "      <td>8</td>\n",
       "      <td>1</td>\n",
       "      <td>0</td>\n",
       "      <td>1</td>\n",
       "      <td>11.827050</td>\n",
       "    </tr>\n",
       "    <tr>\n",
       "      <th>3</th>\n",
       "      <td>1005</td>\n",
       "      <td>1504</td>\n",
       "      <td>0</td>\n",
       "      <td>1</td>\n",
       "      <td>3</td>\n",
       "      <td>0</td>\n",
       "      <td>16.0</td>\n",
       "      <td>0.0</td>\n",
       "      <td>6</td>\n",
       "      <td>1</td>\n",
       "      <td>...</td>\n",
       "      <td>7</td>\n",
       "      <td>0</td>\n",
       "      <td>0</td>\n",
       "      <td>1</td>\n",
       "      <td>4</td>\n",
       "      <td>8</td>\n",
       "      <td>1</td>\n",
       "      <td>0</td>\n",
       "      <td>3</td>\n",
       "      <td>12.106258</td>\n",
       "    </tr>\n",
       "    <tr>\n",
       "      <th>4</th>\n",
       "      <td>1006</td>\n",
       "      <td>985</td>\n",
       "      <td>0</td>\n",
       "      <td>3</td>\n",
       "      <td>4</td>\n",
       "      <td>2</td>\n",
       "      <td>595.0</td>\n",
       "      <td>0.0</td>\n",
       "      <td>6</td>\n",
       "      <td>1</td>\n",
       "      <td>...</td>\n",
       "      <td>2</td>\n",
       "      <td>5</td>\n",
       "      <td>0</td>\n",
       "      <td>1</td>\n",
       "      <td>4</td>\n",
       "      <td>8</td>\n",
       "      <td>1</td>\n",
       "      <td>0</td>\n",
       "      <td>2</td>\n",
       "      <td>11.917730</td>\n",
       "    </tr>\n",
       "  </tbody>\n",
       "</table>\n",
       "<p>5 rows × 70 columns</p>\n",
       "</div>"
      ],
      "text/plain": [
       "     Id  1stFlrSF  2ndFlrSF  BedroomAbvGr  BsmtCond  BsmtExposure  BsmtFinSF1  \\\n",
       "0  1002       691         0             2         3             0         0.0   \n",
       "1  1003      1574         0             3         3             0        24.0   \n",
       "2  1004      1680         0             4         3             0         0.0   \n",
       "3  1005      1504         0             1         3             0        16.0   \n",
       "4  1006       985         0             3         4             2       595.0   \n",
       "\n",
       "   BsmtFinSF2  BsmtFinType1  BsmtFinType2    ...      MoSold  Neighborhood  \\\n",
       "0         0.0             1             1    ...           0            17   \n",
       "1         0.0             6             1    ...           9            21   \n",
       "2         0.0             1             1    ...           8            14   \n",
       "3         0.0             6             1    ...           7             0   \n",
       "4         0.0             6             1    ...           2             5   \n",
       "\n",
       "   RoofMatl  RoofStyle  SaleCondition  SaleType  Street  Utilities  YrSold  \\\n",
       "0         0          1              0         8       1          0       1   \n",
       "1         0          1              4         8       1          0       2   \n",
       "2         0          1              4         8       1          0       1   \n",
       "3         0          1              4         8       1          0       3   \n",
       "4         0          1              4         8       1          0       2   \n",
       "\n",
       "   SalePrice  \n",
       "0  11.362114  \n",
       "1  12.354497  \n",
       "2  11.827050  \n",
       "3  12.106258  \n",
       "4  11.917730  \n",
       "\n",
       "[5 rows x 70 columns]"
      ]
     },
     "execution_count": 89,
     "metadata": {},
     "output_type": "execute_result"
    }
   ],
   "source": [
    "validation = pd.read_csv('validation_model.csv')\n",
    "validation.head()"
   ]
  },
  {
   "cell_type": "code",
   "execution_count": 90,
   "metadata": {},
   "outputs": [
    {
     "data": {
      "text/html": [
       "<div>\n",
       "<style>\n",
       "    .dataframe thead tr:only-child th {\n",
       "        text-align: right;\n",
       "    }\n",
       "\n",
       "    .dataframe thead th {\n",
       "        text-align: left;\n",
       "    }\n",
       "\n",
       "    .dataframe tbody tr th {\n",
       "        vertical-align: top;\n",
       "    }\n",
       "</style>\n",
       "<table border=\"1\" class=\"dataframe\">\n",
       "  <thead>\n",
       "    <tr style=\"text-align: right;\">\n",
       "      <th></th>\n",
       "      <th>Id</th>\n",
       "      <th>1stFlrSF</th>\n",
       "      <th>2ndFlrSF</th>\n",
       "      <th>BedroomAbvGr</th>\n",
       "      <th>BsmtCond</th>\n",
       "      <th>BsmtExposure</th>\n",
       "      <th>BsmtFinSF1</th>\n",
       "      <th>BsmtFinSF2</th>\n",
       "      <th>BsmtFinType1</th>\n",
       "      <th>BsmtFinType2</th>\n",
       "      <th>...</th>\n",
       "      <th>MasVnrType</th>\n",
       "      <th>MoSold</th>\n",
       "      <th>Neighborhood</th>\n",
       "      <th>RoofMatl</th>\n",
       "      <th>RoofStyle</th>\n",
       "      <th>SaleCondition</th>\n",
       "      <th>SaleType</th>\n",
       "      <th>Street</th>\n",
       "      <th>Utilities</th>\n",
       "      <th>YrSold</th>\n",
       "    </tr>\n",
       "  </thead>\n",
       "  <tbody>\n",
       "    <tr>\n",
       "      <th>1454</th>\n",
       "      <td>2915</td>\n",
       "      <td>546</td>\n",
       "      <td>546</td>\n",
       "      <td>3</td>\n",
       "      <td>3</td>\n",
       "      <td>0</td>\n",
       "      <td>0.0</td>\n",
       "      <td>0.0</td>\n",
       "      <td>1</td>\n",
       "      <td>1</td>\n",
       "      <td>...</td>\n",
       "      <td>3</td>\n",
       "      <td>8</td>\n",
       "      <td>10</td>\n",
       "      <td>0</td>\n",
       "      <td>1</td>\n",
       "      <td>4</td>\n",
       "      <td>8</td>\n",
       "      <td>1</td>\n",
       "      <td>0</td>\n",
       "      <td>0</td>\n",
       "    </tr>\n",
       "    <tr>\n",
       "      <th>1455</th>\n",
       "      <td>2916</td>\n",
       "      <td>546</td>\n",
       "      <td>546</td>\n",
       "      <td>3</td>\n",
       "      <td>3</td>\n",
       "      <td>0</td>\n",
       "      <td>252.0</td>\n",
       "      <td>0.0</td>\n",
       "      <td>3</td>\n",
       "      <td>1</td>\n",
       "      <td>...</td>\n",
       "      <td>3</td>\n",
       "      <td>6</td>\n",
       "      <td>10</td>\n",
       "      <td>0</td>\n",
       "      <td>1</td>\n",
       "      <td>0</td>\n",
       "      <td>8</td>\n",
       "      <td>1</td>\n",
       "      <td>0</td>\n",
       "      <td>0</td>\n",
       "    </tr>\n",
       "    <tr>\n",
       "      <th>1456</th>\n",
       "      <td>2917</td>\n",
       "      <td>1224</td>\n",
       "      <td>0</td>\n",
       "      <td>4</td>\n",
       "      <td>3</td>\n",
       "      <td>0</td>\n",
       "      <td>1224.0</td>\n",
       "      <td>0.0</td>\n",
       "      <td>5</td>\n",
       "      <td>1</td>\n",
       "      <td>...</td>\n",
       "      <td>3</td>\n",
       "      <td>11</td>\n",
       "      <td>11</td>\n",
       "      <td>0</td>\n",
       "      <td>1</td>\n",
       "      <td>0</td>\n",
       "      <td>8</td>\n",
       "      <td>1</td>\n",
       "      <td>0</td>\n",
       "      <td>0</td>\n",
       "    </tr>\n",
       "    <tr>\n",
       "      <th>1457</th>\n",
       "      <td>2918</td>\n",
       "      <td>970</td>\n",
       "      <td>0</td>\n",
       "      <td>3</td>\n",
       "      <td>3</td>\n",
       "      <td>2</td>\n",
       "      <td>337.0</td>\n",
       "      <td>0.0</td>\n",
       "      <td>6</td>\n",
       "      <td>1</td>\n",
       "      <td>...</td>\n",
       "      <td>3</td>\n",
       "      <td>9</td>\n",
       "      <td>11</td>\n",
       "      <td>0</td>\n",
       "      <td>1</td>\n",
       "      <td>4</td>\n",
       "      <td>8</td>\n",
       "      <td>1</td>\n",
       "      <td>0</td>\n",
       "      <td>0</td>\n",
       "    </tr>\n",
       "    <tr>\n",
       "      <th>1458</th>\n",
       "      <td>2919</td>\n",
       "      <td>996</td>\n",
       "      <td>1004</td>\n",
       "      <td>3</td>\n",
       "      <td>3</td>\n",
       "      <td>2</td>\n",
       "      <td>758.0</td>\n",
       "      <td>0.0</td>\n",
       "      <td>2</td>\n",
       "      <td>1</td>\n",
       "      <td>...</td>\n",
       "      <td>1</td>\n",
       "      <td>2</td>\n",
       "      <td>11</td>\n",
       "      <td>0</td>\n",
       "      <td>1</td>\n",
       "      <td>4</td>\n",
       "      <td>8</td>\n",
       "      <td>1</td>\n",
       "      <td>0</td>\n",
       "      <td>0</td>\n",
       "    </tr>\n",
       "  </tbody>\n",
       "</table>\n",
       "<p>5 rows × 69 columns</p>\n",
       "</div>"
      ],
      "text/plain": [
       "        Id  1stFlrSF  2ndFlrSF  BedroomAbvGr  BsmtCond  BsmtExposure  \\\n",
       "1454  2915       546       546             3         3             0   \n",
       "1455  2916       546       546             3         3             0   \n",
       "1456  2917      1224         0             4         3             0   \n",
       "1457  2918       970         0             3         3             2   \n",
       "1458  2919       996      1004             3         3             2   \n",
       "\n",
       "      BsmtFinSF1  BsmtFinSF2  BsmtFinType1  BsmtFinType2   ...    MasVnrType  \\\n",
       "1454         0.0         0.0             1             1   ...             3   \n",
       "1455       252.0         0.0             3             1   ...             3   \n",
       "1456      1224.0         0.0             5             1   ...             3   \n",
       "1457       337.0         0.0             6             1   ...             3   \n",
       "1458       758.0         0.0             2             1   ...             1   \n",
       "\n",
       "      MoSold  Neighborhood  RoofMatl  RoofStyle  SaleCondition  SaleType  \\\n",
       "1454       8            10         0          1              4         8   \n",
       "1455       6            10         0          1              0         8   \n",
       "1456      11            11         0          1              0         8   \n",
       "1457       9            11         0          1              4         8   \n",
       "1458       2            11         0          1              4         8   \n",
       "\n",
       "      Street  Utilities  YrSold  \n",
       "1454       1          0       0  \n",
       "1455       1          0       0  \n",
       "1456       1          0       0  \n",
       "1457       1          0       0  \n",
       "1458       1          0       0  \n",
       "\n",
       "[5 rows x 69 columns]"
      ]
     },
     "execution_count": 90,
     "metadata": {},
     "output_type": "execute_result"
    }
   ],
   "source": [
    "testa = pd.read_csv('test_model.csv')\n",
    "testa.tail()"
   ]
  },
  {
   "cell_type": "code",
   "execution_count": 91,
   "metadata": {},
   "outputs": [
    {
     "name": "stdout",
     "output_type": "stream",
     "text": [
      "(1000, 70)\n",
      "(458, 70)\n",
      "(1459, 69)\n"
     ]
    }
   ],
   "source": [
    "print(train.shape)\n",
    "print(validation.shape)\n",
    "print(testa.shape)"
   ]
  },
  {
   "cell_type": "markdown",
   "metadata": {},
   "source": [
    "<br>\n",
    "# Step Three:  Build Models"
   ]
  },
  {
   "cell_type": "markdown",
   "metadata": {},
   "source": [
    "![title](img/h20.png \"ShowMyImage\")"
   ]
  },
  {
   "cell_type": "code",
   "execution_count": 92,
   "metadata": {
    "collapsed": true
   },
   "outputs": [],
   "source": [
    "import h2o\n",
    "from h2o.estimators.gbm import H2OGradientBoostingEstimator \n",
    "from h2o.estimators.random_forest import H2ORandomForestEstimator\n",
    "from h2o.grid.grid_search import H2OGridSearch \n",
    "from h2o.estimators.xgboost import H2OXGBoostEstimator\n",
    "from h2o.estimators.gbm import H2OGradientBoostingEstimator"
   ]
  },
  {
   "cell_type": "code",
   "execution_count": 93,
   "metadata": {},
   "outputs": [
    {
     "name": "stdout",
     "output_type": "stream",
     "text": [
      "Checking whether there is an H2O instance running at http://localhost:54321. connected.\n"
     ]
    },
    {
     "data": {
      "text/html": [
       "<div style=\"overflow:auto\"><table style=\"width:50%\"><tr><td>H2O cluster uptime:</td>\n",
       "<td>14 days 20 hours 29 mins</td></tr>\n",
       "<tr><td>H2O cluster timezone:</td>\n",
       "<td>America/Detroit</td></tr>\n",
       "<tr><td>H2O data parsing timezone:</td>\n",
       "<td>UTC</td></tr>\n",
       "<tr><td>H2O cluster version:</td>\n",
       "<td>3.18.0.4</td></tr>\n",
       "<tr><td>H2O cluster version age:</td>\n",
       "<td>1 month and 10 days </td></tr>\n",
       "<tr><td>H2O cluster name:</td>\n",
       "<td>H2O_from_python_jingze_7tsxqz</td></tr>\n",
       "<tr><td>H2O cluster total nodes:</td>\n",
       "<td>1</td></tr>\n",
       "<tr><td>H2O cluster free memory:</td>\n",
       "<td>874 Mb</td></tr>\n",
       "<tr><td>H2O cluster total cores:</td>\n",
       "<td>4</td></tr>\n",
       "<tr><td>H2O cluster allowed cores:</td>\n",
       "<td>4</td></tr>\n",
       "<tr><td>H2O cluster status:</td>\n",
       "<td>locked, healthy</td></tr>\n",
       "<tr><td>H2O connection url:</td>\n",
       "<td>http://localhost:54321</td></tr>\n",
       "<tr><td>H2O connection proxy:</td>\n",
       "<td>None</td></tr>\n",
       "<tr><td>H2O internal security:</td>\n",
       "<td>False</td></tr>\n",
       "<tr><td>H2O API Extensions:</td>\n",
       "<td>XGBoost, Algos, AutoML, Core V3, Core V4</td></tr>\n",
       "<tr><td>Python version:</td>\n",
       "<td>3.6.1 final</td></tr></table></div>"
      ],
      "text/plain": [
       "--------------------------  ----------------------------------------\n",
       "H2O cluster uptime:         14 days 20 hours 29 mins\n",
       "H2O cluster timezone:       America/Detroit\n",
       "H2O data parsing timezone:  UTC\n",
       "H2O cluster version:        3.18.0.4\n",
       "H2O cluster version age:    1 month and 10 days\n",
       "H2O cluster name:           H2O_from_python_jingze_7tsxqz\n",
       "H2O cluster total nodes:    1\n",
       "H2O cluster free memory:    874 Mb\n",
       "H2O cluster total cores:    4\n",
       "H2O cluster allowed cores:  4\n",
       "H2O cluster status:         locked, healthy\n",
       "H2O connection url:         http://localhost:54321\n",
       "H2O connection proxy:\n",
       "H2O internal security:      False\n",
       "H2O API Extensions:         XGBoost, Algos, AutoML, Core V3, Core V4\n",
       "Python version:             3.6.1 final\n",
       "--------------------------  ----------------------------------------"
      ]
     },
     "metadata": {},
     "output_type": "display_data"
    }
   ],
   "source": [
    "h2o.init()"
   ]
  },
  {
   "cell_type": "code",
   "execution_count": 94,
   "metadata": {},
   "outputs": [
    {
     "name": "stdout",
     "output_type": "stream",
     "text": [
      "Parse progress: |█████████████████████████████████████████████████████████| 100%\n"
     ]
    }
   ],
   "source": [
    "train = h2o.import_file(path='train_model.csv')"
   ]
  },
  {
   "cell_type": "code",
   "execution_count": 95,
   "metadata": {},
   "outputs": [
    {
     "name": "stdout",
     "output_type": "stream",
     "text": [
      "Parse progress: |█████████████████████████████████████████████████████████| 100%\n"
     ]
    }
   ],
   "source": [
    "validation = h2o.import_file(path='validation_model.csv')"
   ]
  },
  {
   "cell_type": "code",
   "execution_count": 96,
   "metadata": {},
   "outputs": [
    {
     "name": "stdout",
     "output_type": "stream",
     "text": [
      "Parse progress: |█████████████████████████████████████████████████████████| 100%\n"
     ]
    }
   ],
   "source": [
    "test = h2o.import_file(path='test_model.csv')"
   ]
  },
  {
   "cell_type": "code",
   "execution_count": 97,
   "metadata": {},
   "outputs": [
    {
     "name": "stdout",
     "output_type": "stream",
     "text": [
      "(1000, 70)\n",
      "(458, 70)\n",
      "(1459, 69)\n"
     ]
    }
   ],
   "source": [
    "print(train.shape)\n",
    "print(validation.shape)\n",
    "print(test.shape)"
   ]
  },
  {
   "cell_type": "code",
   "execution_count": 98,
   "metadata": {},
   "outputs": [
    {
     "data": {
      "text/html": [
       "<table>\n",
       "<thead>\n",
       "<tr><th style=\"text-align: right;\">  Id</th><th style=\"text-align: right;\">  1stFlrSF</th><th style=\"text-align: right;\">  2ndFlrSF</th><th style=\"text-align: right;\">  BedroomAbvGr</th><th style=\"text-align: right;\">  BsmtCond</th><th style=\"text-align: right;\">  BsmtExposure</th><th style=\"text-align: right;\">  BsmtFinSF1</th><th style=\"text-align: right;\">  BsmtFinSF2</th><th style=\"text-align: right;\">  BsmtFinType1</th><th style=\"text-align: right;\">  BsmtFinType2</th><th style=\"text-align: right;\">  BsmtFullBath</th><th style=\"text-align: right;\">  BsmtQual</th><th style=\"text-align: right;\">  BsmtUnfSF</th><th style=\"text-align: right;\">  EnclosedPorch</th><th style=\"text-align: right;\">  ExterCond</th><th style=\"text-align: right;\">  ExterQual</th><th style=\"text-align: right;\">  FireplaceQu</th><th style=\"text-align: right;\">  Fireplaces</th><th style=\"text-align: right;\">  FullBath</th><th style=\"text-align: right;\">  GarageCars</th><th style=\"text-align: right;\">  GarageCond</th><th style=\"text-align: right;\">  GarageFinish</th><th style=\"text-align: right;\">  GarageQual</th><th style=\"text-align: right;\">  GarageYrBlt</th><th style=\"text-align: right;\">  GrLivArea</th><th style=\"text-align: right;\">  HalfBath</th><th style=\"text-align: right;\">  HeatingQC</th><th style=\"text-align: right;\">  KitchenAbvGr</th><th style=\"text-align: right;\">  KitchenQual</th><th style=\"text-align: right;\">  LandSlope</th><th style=\"text-align: right;\">  LotArea</th><th style=\"text-align: right;\">  LotFrontage</th><th style=\"text-align: right;\">  LotShape</th><th style=\"text-align: right;\">  MasVnrArea</th><th style=\"text-align: right;\">  OpenPorchSF</th><th style=\"text-align: right;\">  OverallCond</th><th style=\"text-align: right;\">  OverallQual</th><th style=\"text-align: right;\">  PavedDrive</th><th style=\"text-align: right;\">  TotalBsmtSF</th><th style=\"text-align: right;\">  TotalSF</th><th style=\"text-align: right;\">  WoodDeckSF</th><th style=\"text-align: right;\">  YearBuilt</th><th style=\"text-align: right;\">  YearRemodAdd</th><th style=\"text-align: right;\">  BldgType</th><th style=\"text-align: right;\">  CentralAir</th><th style=\"text-align: right;\">  Condition1</th><th style=\"text-align: right;\">  Condition2</th><th style=\"text-align: right;\">  Electrical</th><th style=\"text-align: right;\">  Exterior1st</th><th style=\"text-align: right;\">  Exterior2nd</th><th style=\"text-align: right;\">  Foundation</th><th style=\"text-align: right;\">  Functional</th><th style=\"text-align: right;\">  GarageType</th><th style=\"text-align: right;\">  Heating</th><th style=\"text-align: right;\">  HouseStyle</th><th style=\"text-align: right;\">  LandContour</th><th style=\"text-align: right;\">  LotConfig</th><th style=\"text-align: right;\">  MSSubClass</th><th style=\"text-align: right;\">  MSZoning</th><th style=\"text-align: right;\">  MasVnrType</th><th style=\"text-align: right;\">  MoSold</th><th style=\"text-align: right;\">  Neighborhood</th><th style=\"text-align: right;\">  RoofMatl</th><th style=\"text-align: right;\">  RoofStyle</th><th style=\"text-align: right;\">  SaleCondition</th><th style=\"text-align: right;\">  SaleType</th><th style=\"text-align: right;\">  Street</th><th style=\"text-align: right;\">  Utilities</th><th style=\"text-align: right;\">  YrSold</th><th style=\"text-align: right;\">  SalePrice</th></tr>\n",
       "</thead>\n",
       "<tbody>\n",
       "<tr><td style=\"text-align: right;\">   1</td><td style=\"text-align: right;\">       856</td><td style=\"text-align: right;\">       854</td><td style=\"text-align: right;\">             3</td><td style=\"text-align: right;\">         3</td><td style=\"text-align: right;\">             0</td><td style=\"text-align: right;\">         706</td><td style=\"text-align: right;\">           0</td><td style=\"text-align: right;\">             6</td><td style=\"text-align: right;\">             1</td><td style=\"text-align: right;\">             1</td><td style=\"text-align: right;\">         4</td><td style=\"text-align: right;\">        150</td><td style=\"text-align: right;\">              0</td><td style=\"text-align: right;\">          3</td><td style=\"text-align: right;\">          4</td><td style=\"text-align: right;\">            0</td><td style=\"text-align: right;\">           0</td><td style=\"text-align: right;\">         2</td><td style=\"text-align: right;\">           2</td><td style=\"text-align: right;\">           3</td><td style=\"text-align: right;\">             2</td><td style=\"text-align: right;\">           3</td><td style=\"text-align: right;\">         2003</td><td style=\"text-align: right;\">       1710</td><td style=\"text-align: right;\">         1</td><td style=\"text-align: right;\">          5</td><td style=\"text-align: right;\">             1</td><td style=\"text-align: right;\">            4</td><td style=\"text-align: right;\">          3</td><td style=\"text-align: right;\">     8450</td><td style=\"text-align: right;\">           65</td><td style=\"text-align: right;\">         4</td><td style=\"text-align: right;\">         196</td><td style=\"text-align: right;\">           61</td><td style=\"text-align: right;\">            5</td><td style=\"text-align: right;\">            7</td><td style=\"text-align: right;\">           3</td><td style=\"text-align: right;\">          856</td><td style=\"text-align: right;\">     2566</td><td style=\"text-align: right;\">           0</td><td style=\"text-align: right;\">       2003</td><td style=\"text-align: right;\">          2003</td><td style=\"text-align: right;\">         0</td><td style=\"text-align: right;\">           1</td><td style=\"text-align: right;\">           2</td><td style=\"text-align: right;\">           2</td><td style=\"text-align: right;\">           4</td><td style=\"text-align: right;\">           12</td><td style=\"text-align: right;\">           13</td><td style=\"text-align: right;\">           2</td><td style=\"text-align: right;\">           6</td><td style=\"text-align: right;\">           1</td><td style=\"text-align: right;\">        1</td><td style=\"text-align: right;\">           5</td><td style=\"text-align: right;\">            3</td><td style=\"text-align: right;\">          4</td><td style=\"text-align: right;\">          10</td><td style=\"text-align: right;\">         3</td><td style=\"text-align: right;\">           1</td><td style=\"text-align: right;\">       4</td><td style=\"text-align: right;\">             5</td><td style=\"text-align: right;\">         0</td><td style=\"text-align: right;\">          1</td><td style=\"text-align: right;\">              4</td><td style=\"text-align: right;\">         8</td><td style=\"text-align: right;\">       1</td><td style=\"text-align: right;\">          0</td><td style=\"text-align: right;\">       2</td><td style=\"text-align: right;\">    12.2477</td></tr>\n",
       "<tr><td style=\"text-align: right;\">   2</td><td style=\"text-align: right;\">      1262</td><td style=\"text-align: right;\">         0</td><td style=\"text-align: right;\">             3</td><td style=\"text-align: right;\">         3</td><td style=\"text-align: right;\">             3</td><td style=\"text-align: right;\">         978</td><td style=\"text-align: right;\">           0</td><td style=\"text-align: right;\">             5</td><td style=\"text-align: right;\">             1</td><td style=\"text-align: right;\">             0</td><td style=\"text-align: right;\">         4</td><td style=\"text-align: right;\">        284</td><td style=\"text-align: right;\">              0</td><td style=\"text-align: right;\">          3</td><td style=\"text-align: right;\">          3</td><td style=\"text-align: right;\">            3</td><td style=\"text-align: right;\">           1</td><td style=\"text-align: right;\">         2</td><td style=\"text-align: right;\">           2</td><td style=\"text-align: right;\">           3</td><td style=\"text-align: right;\">             2</td><td style=\"text-align: right;\">           3</td><td style=\"text-align: right;\">         1976</td><td style=\"text-align: right;\">       1262</td><td style=\"text-align: right;\">         0</td><td style=\"text-align: right;\">          5</td><td style=\"text-align: right;\">             1</td><td style=\"text-align: right;\">            3</td><td style=\"text-align: right;\">          3</td><td style=\"text-align: right;\">     9600</td><td style=\"text-align: right;\">           80</td><td style=\"text-align: right;\">         4</td><td style=\"text-align: right;\">           0</td><td style=\"text-align: right;\">            0</td><td style=\"text-align: right;\">            8</td><td style=\"text-align: right;\">            6</td><td style=\"text-align: right;\">           3</td><td style=\"text-align: right;\">         1262</td><td style=\"text-align: right;\">     2524</td><td style=\"text-align: right;\">         298</td><td style=\"text-align: right;\">       1976</td><td style=\"text-align: right;\">          1976</td><td style=\"text-align: right;\">         0</td><td style=\"text-align: right;\">           1</td><td style=\"text-align: right;\">           1</td><td style=\"text-align: right;\">           2</td><td style=\"text-align: right;\">           4</td><td style=\"text-align: right;\">            8</td><td style=\"text-align: right;\">            8</td><td style=\"text-align: right;\">           1</td><td style=\"text-align: right;\">           6</td><td style=\"text-align: right;\">           1</td><td style=\"text-align: right;\">        1</td><td style=\"text-align: right;\">           2</td><td style=\"text-align: right;\">            3</td><td style=\"text-align: right;\">          2</td><td style=\"text-align: right;\">           5</td><td style=\"text-align: right;\">         3</td><td style=\"text-align: right;\">           3</td><td style=\"text-align: right;\">       7</td><td style=\"text-align: right;\">            24</td><td style=\"text-align: right;\">         0</td><td style=\"text-align: right;\">          1</td><td style=\"text-align: right;\">              4</td><td style=\"text-align: right;\">         8</td><td style=\"text-align: right;\">       1</td><td style=\"text-align: right;\">          0</td><td style=\"text-align: right;\">       1</td><td style=\"text-align: right;\">    12.109 </td></tr>\n",
       "<tr><td style=\"text-align: right;\">   3</td><td style=\"text-align: right;\">       920</td><td style=\"text-align: right;\">       866</td><td style=\"text-align: right;\">             3</td><td style=\"text-align: right;\">         3</td><td style=\"text-align: right;\">             1</td><td style=\"text-align: right;\">         486</td><td style=\"text-align: right;\">           0</td><td style=\"text-align: right;\">             6</td><td style=\"text-align: right;\">             1</td><td style=\"text-align: right;\">             1</td><td style=\"text-align: right;\">         4</td><td style=\"text-align: right;\">        434</td><td style=\"text-align: right;\">              0</td><td style=\"text-align: right;\">          3</td><td style=\"text-align: right;\">          4</td><td style=\"text-align: right;\">            3</td><td style=\"text-align: right;\">           1</td><td style=\"text-align: right;\">         2</td><td style=\"text-align: right;\">           2</td><td style=\"text-align: right;\">           3</td><td style=\"text-align: right;\">             2</td><td style=\"text-align: right;\">           3</td><td style=\"text-align: right;\">         2001</td><td style=\"text-align: right;\">       1786</td><td style=\"text-align: right;\">         1</td><td style=\"text-align: right;\">          5</td><td style=\"text-align: right;\">             1</td><td style=\"text-align: right;\">            4</td><td style=\"text-align: right;\">          3</td><td style=\"text-align: right;\">    11250</td><td style=\"text-align: right;\">           68</td><td style=\"text-align: right;\">         3</td><td style=\"text-align: right;\">         162</td><td style=\"text-align: right;\">           42</td><td style=\"text-align: right;\">            5</td><td style=\"text-align: right;\">            7</td><td style=\"text-align: right;\">           3</td><td style=\"text-align: right;\">          920</td><td style=\"text-align: right;\">     2706</td><td style=\"text-align: right;\">           0</td><td style=\"text-align: right;\">       2001</td><td style=\"text-align: right;\">          2002</td><td style=\"text-align: right;\">         0</td><td style=\"text-align: right;\">           1</td><td style=\"text-align: right;\">           2</td><td style=\"text-align: right;\">           2</td><td style=\"text-align: right;\">           4</td><td style=\"text-align: right;\">           12</td><td style=\"text-align: right;\">           13</td><td style=\"text-align: right;\">           2</td><td style=\"text-align: right;\">           6</td><td style=\"text-align: right;\">           1</td><td style=\"text-align: right;\">        1</td><td style=\"text-align: right;\">           5</td><td style=\"text-align: right;\">            3</td><td style=\"text-align: right;\">          4</td><td style=\"text-align: right;\">          10</td><td style=\"text-align: right;\">         3</td><td style=\"text-align: right;\">           1</td><td style=\"text-align: right;\">      11</td><td style=\"text-align: right;\">             5</td><td style=\"text-align: right;\">         0</td><td style=\"text-align: right;\">          1</td><td style=\"text-align: right;\">              4</td><td style=\"text-align: right;\">         8</td><td style=\"text-align: right;\">       1</td><td style=\"text-align: right;\">          0</td><td style=\"text-align: right;\">       2</td><td style=\"text-align: right;\">    12.3172</td></tr>\n",
       "<tr><td style=\"text-align: right;\">   4</td><td style=\"text-align: right;\">       961</td><td style=\"text-align: right;\">       756</td><td style=\"text-align: right;\">             3</td><td style=\"text-align: right;\">         4</td><td style=\"text-align: right;\">             0</td><td style=\"text-align: right;\">         216</td><td style=\"text-align: right;\">           0</td><td style=\"text-align: right;\">             5</td><td style=\"text-align: right;\">             1</td><td style=\"text-align: right;\">             1</td><td style=\"text-align: right;\">         3</td><td style=\"text-align: right;\">        540</td><td style=\"text-align: right;\">            272</td><td style=\"text-align: right;\">          3</td><td style=\"text-align: right;\">          3</td><td style=\"text-align: right;\">            4</td><td style=\"text-align: right;\">           1</td><td style=\"text-align: right;\">         1</td><td style=\"text-align: right;\">           3</td><td style=\"text-align: right;\">           3</td><td style=\"text-align: right;\">             1</td><td style=\"text-align: right;\">           3</td><td style=\"text-align: right;\">         1998</td><td style=\"text-align: right;\">       1717</td><td style=\"text-align: right;\">         0</td><td style=\"text-align: right;\">          4</td><td style=\"text-align: right;\">             1</td><td style=\"text-align: right;\">            4</td><td style=\"text-align: right;\">          3</td><td style=\"text-align: right;\">     9550</td><td style=\"text-align: right;\">           60</td><td style=\"text-align: right;\">         3</td><td style=\"text-align: right;\">           0</td><td style=\"text-align: right;\">           35</td><td style=\"text-align: right;\">            5</td><td style=\"text-align: right;\">            7</td><td style=\"text-align: right;\">           3</td><td style=\"text-align: right;\">          756</td><td style=\"text-align: right;\">     2473</td><td style=\"text-align: right;\">           0</td><td style=\"text-align: right;\">       1915</td><td style=\"text-align: right;\">          1970</td><td style=\"text-align: right;\">         0</td><td style=\"text-align: right;\">           1</td><td style=\"text-align: right;\">           2</td><td style=\"text-align: right;\">           2</td><td style=\"text-align: right;\">           4</td><td style=\"text-align: right;\">           13</td><td style=\"text-align: right;\">           15</td><td style=\"text-align: right;\">           0</td><td style=\"text-align: right;\">           6</td><td style=\"text-align: right;\">           5</td><td style=\"text-align: right;\">        1</td><td style=\"text-align: right;\">           5</td><td style=\"text-align: right;\">            3</td><td style=\"text-align: right;\">          0</td><td style=\"text-align: right;\">          11</td><td style=\"text-align: right;\">         3</td><td style=\"text-align: right;\">           3</td><td style=\"text-align: right;\">       4</td><td style=\"text-align: right;\">             6</td><td style=\"text-align: right;\">         0</td><td style=\"text-align: right;\">          1</td><td style=\"text-align: right;\">              0</td><td style=\"text-align: right;\">         8</td><td style=\"text-align: right;\">       1</td><td style=\"text-align: right;\">          0</td><td style=\"text-align: right;\">       0</td><td style=\"text-align: right;\">    11.8494</td></tr>\n",
       "<tr><td style=\"text-align: right;\">   5</td><td style=\"text-align: right;\">      1145</td><td style=\"text-align: right;\">      1053</td><td style=\"text-align: right;\">             4</td><td style=\"text-align: right;\">         3</td><td style=\"text-align: right;\">             2</td><td style=\"text-align: right;\">         655</td><td style=\"text-align: right;\">           0</td><td style=\"text-align: right;\">             6</td><td style=\"text-align: right;\">             1</td><td style=\"text-align: right;\">             1</td><td style=\"text-align: right;\">         4</td><td style=\"text-align: right;\">        490</td><td style=\"text-align: right;\">              0</td><td style=\"text-align: right;\">          3</td><td style=\"text-align: right;\">          4</td><td style=\"text-align: right;\">            3</td><td style=\"text-align: right;\">           1</td><td style=\"text-align: right;\">         2</td><td style=\"text-align: right;\">           3</td><td style=\"text-align: right;\">           3</td><td style=\"text-align: right;\">             2</td><td style=\"text-align: right;\">           3</td><td style=\"text-align: right;\">         2000</td><td style=\"text-align: right;\">       2198</td><td style=\"text-align: right;\">         1</td><td style=\"text-align: right;\">          5</td><td style=\"text-align: right;\">             1</td><td style=\"text-align: right;\">            4</td><td style=\"text-align: right;\">          3</td><td style=\"text-align: right;\">    14260</td><td style=\"text-align: right;\">           84</td><td style=\"text-align: right;\">         3</td><td style=\"text-align: right;\">         350</td><td style=\"text-align: right;\">           84</td><td style=\"text-align: right;\">            5</td><td style=\"text-align: right;\">            8</td><td style=\"text-align: right;\">           3</td><td style=\"text-align: right;\">         1145</td><td style=\"text-align: right;\">     3343</td><td style=\"text-align: right;\">         192</td><td style=\"text-align: right;\">       2000</td><td style=\"text-align: right;\">          2000</td><td style=\"text-align: right;\">         0</td><td style=\"text-align: right;\">           1</td><td style=\"text-align: right;\">           2</td><td style=\"text-align: right;\">           2</td><td style=\"text-align: right;\">           4</td><td style=\"text-align: right;\">           12</td><td style=\"text-align: right;\">           13</td><td style=\"text-align: right;\">           2</td><td style=\"text-align: right;\">           6</td><td style=\"text-align: right;\">           1</td><td style=\"text-align: right;\">        1</td><td style=\"text-align: right;\">           5</td><td style=\"text-align: right;\">            3</td><td style=\"text-align: right;\">          2</td><td style=\"text-align: right;\">          10</td><td style=\"text-align: right;\">         3</td><td style=\"text-align: right;\">           1</td><td style=\"text-align: right;\">       3</td><td style=\"text-align: right;\">            15</td><td style=\"text-align: right;\">         0</td><td style=\"text-align: right;\">          1</td><td style=\"text-align: right;\">              4</td><td style=\"text-align: right;\">         8</td><td style=\"text-align: right;\">       1</td><td style=\"text-align: right;\">          0</td><td style=\"text-align: right;\">       2</td><td style=\"text-align: right;\">    12.4292</td></tr>\n",
       "</tbody>\n",
       "</table>"
      ]
     },
     "metadata": {},
     "output_type": "display_data"
    },
    {
     "data": {
      "text/plain": []
     },
     "execution_count": 98,
     "metadata": {},
     "output_type": "execute_result"
    }
   ],
   "source": [
    "train.head(5)"
   ]
  },
  {
   "cell_type": "code",
   "execution_count": 99,
   "metadata": {},
   "outputs": [
    {
     "data": {
      "text/html": [
       "<table>\n",
       "<thead>\n",
       "<tr><th style=\"text-align: right;\">  Id</th><th style=\"text-align: right;\">  1stFlrSF</th><th style=\"text-align: right;\">  2ndFlrSF</th><th style=\"text-align: right;\">  BedroomAbvGr</th><th style=\"text-align: right;\">  BsmtCond</th><th style=\"text-align: right;\">  BsmtExposure</th><th style=\"text-align: right;\">  BsmtFinSF1</th><th style=\"text-align: right;\">  BsmtFinSF2</th><th style=\"text-align: right;\">  BsmtFinType1</th><th style=\"text-align: right;\">  BsmtFinType2</th><th style=\"text-align: right;\">  BsmtFullBath</th><th style=\"text-align: right;\">  BsmtQual</th><th style=\"text-align: right;\">  BsmtUnfSF</th><th style=\"text-align: right;\">  EnclosedPorch</th><th style=\"text-align: right;\">  ExterCond</th><th style=\"text-align: right;\">  ExterQual</th><th style=\"text-align: right;\">  FireplaceQu</th><th style=\"text-align: right;\">  Fireplaces</th><th style=\"text-align: right;\">  FullBath</th><th style=\"text-align: right;\">  GarageCars</th><th style=\"text-align: right;\">  GarageCond</th><th style=\"text-align: right;\">  GarageFinish</th><th style=\"text-align: right;\">  GarageQual</th><th style=\"text-align: right;\">  GarageYrBlt</th><th style=\"text-align: right;\">  GrLivArea</th><th style=\"text-align: right;\">  HalfBath</th><th style=\"text-align: right;\">  HeatingQC</th><th style=\"text-align: right;\">  KitchenAbvGr</th><th style=\"text-align: right;\">  KitchenQual</th><th style=\"text-align: right;\">  LandSlope</th><th style=\"text-align: right;\">  LotArea</th><th style=\"text-align: right;\">  LotFrontage</th><th style=\"text-align: right;\">  LotShape</th><th style=\"text-align: right;\">  MasVnrArea</th><th style=\"text-align: right;\">  OpenPorchSF</th><th style=\"text-align: right;\">  OverallCond</th><th style=\"text-align: right;\">  OverallQual</th><th style=\"text-align: right;\">  PavedDrive</th><th style=\"text-align: right;\">  TotalBsmtSF</th><th style=\"text-align: right;\">  TotalSF</th><th style=\"text-align: right;\">  WoodDeckSF</th><th style=\"text-align: right;\">  YearBuilt</th><th style=\"text-align: right;\">  YearRemodAdd</th><th style=\"text-align: right;\">  BldgType</th><th style=\"text-align: right;\">  CentralAir</th><th style=\"text-align: right;\">  Condition1</th><th style=\"text-align: right;\">  Condition2</th><th style=\"text-align: right;\">  Electrical</th><th style=\"text-align: right;\">  Exterior1st</th><th style=\"text-align: right;\">  Exterior2nd</th><th style=\"text-align: right;\">  Foundation</th><th style=\"text-align: right;\">  Functional</th><th style=\"text-align: right;\">  GarageType</th><th style=\"text-align: right;\">  Heating</th><th style=\"text-align: right;\">  HouseStyle</th><th style=\"text-align: right;\">  LandContour</th><th style=\"text-align: right;\">  LotConfig</th><th style=\"text-align: right;\">  MSSubClass</th><th style=\"text-align: right;\">  MSZoning</th><th style=\"text-align: right;\">  MasVnrType</th><th style=\"text-align: right;\">  MoSold</th><th style=\"text-align: right;\">  Neighborhood</th><th style=\"text-align: right;\">  RoofMatl</th><th style=\"text-align: right;\">  RoofStyle</th><th style=\"text-align: right;\">  SaleCondition</th><th style=\"text-align: right;\">  SaleType</th><th style=\"text-align: right;\">  Street</th><th style=\"text-align: right;\">  Utilities</th><th style=\"text-align: right;\">  YrSold</th><th style=\"text-align: right;\">  SalePrice</th></tr>\n",
       "</thead>\n",
       "<tbody>\n",
       "<tr><td style=\"text-align: right;\">1002</td><td style=\"text-align: right;\">       691</td><td style=\"text-align: right;\">         0</td><td style=\"text-align: right;\">             2</td><td style=\"text-align: right;\">         3</td><td style=\"text-align: right;\">             0</td><td style=\"text-align: right;\">           0</td><td style=\"text-align: right;\">           0</td><td style=\"text-align: right;\">             1</td><td style=\"text-align: right;\">             1</td><td style=\"text-align: right;\">             0</td><td style=\"text-align: right;\">         2</td><td style=\"text-align: right;\">        691</td><td style=\"text-align: right;\">             94</td><td style=\"text-align: right;\">          3</td><td style=\"text-align: right;\">          3</td><td style=\"text-align: right;\">            0</td><td style=\"text-align: right;\">           0</td><td style=\"text-align: right;\">         1</td><td style=\"text-align: right;\">           1</td><td style=\"text-align: right;\">           3</td><td style=\"text-align: right;\">             1</td><td style=\"text-align: right;\">           2</td><td style=\"text-align: right;\">         1920</td><td style=\"text-align: right;\">        691</td><td style=\"text-align: right;\">         0</td><td style=\"text-align: right;\">          5</td><td style=\"text-align: right;\">             1</td><td style=\"text-align: right;\">            5</td><td style=\"text-align: right;\">          3</td><td style=\"text-align: right;\">     5400</td><td style=\"text-align: right;\">           60</td><td style=\"text-align: right;\">         4</td><td style=\"text-align: right;\">           0</td><td style=\"text-align: right;\">           20</td><td style=\"text-align: right;\">            6</td><td style=\"text-align: right;\">            5</td><td style=\"text-align: right;\">           1</td><td style=\"text-align: right;\">          691</td><td style=\"text-align: right;\">     1382</td><td style=\"text-align: right;\">           0</td><td style=\"text-align: right;\">       1920</td><td style=\"text-align: right;\">          1950</td><td style=\"text-align: right;\">         0</td><td style=\"text-align: right;\">           1</td><td style=\"text-align: right;\">           2</td><td style=\"text-align: right;\">           2</td><td style=\"text-align: right;\">           0</td><td style=\"text-align: right;\">           13</td><td style=\"text-align: right;\">           14</td><td style=\"text-align: right;\">           0</td><td style=\"text-align: right;\">           6</td><td style=\"text-align: right;\">           5</td><td style=\"text-align: right;\">        1</td><td style=\"text-align: right;\">           2</td><td style=\"text-align: right;\">            3</td><td style=\"text-align: right;\">          0</td><td style=\"text-align: right;\">           6</td><td style=\"text-align: right;\">         3</td><td style=\"text-align: right;\">           3</td><td style=\"text-align: right;\">       0</td><td style=\"text-align: right;\">            17</td><td style=\"text-align: right;\">         0</td><td style=\"text-align: right;\">          1</td><td style=\"text-align: right;\">              0</td><td style=\"text-align: right;\">         8</td><td style=\"text-align: right;\">       1</td><td style=\"text-align: right;\">          0</td><td style=\"text-align: right;\">       1</td><td style=\"text-align: right;\">    11.3621</td></tr>\n",
       "<tr><td style=\"text-align: right;\">1003</td><td style=\"text-align: right;\">      1574</td><td style=\"text-align: right;\">         0</td><td style=\"text-align: right;\">             3</td><td style=\"text-align: right;\">         3</td><td style=\"text-align: right;\">             0</td><td style=\"text-align: right;\">          24</td><td style=\"text-align: right;\">           0</td><td style=\"text-align: right;\">             6</td><td style=\"text-align: right;\">             1</td><td style=\"text-align: right;\">             0</td><td style=\"text-align: right;\">         4</td><td style=\"text-align: right;\">       1550</td><td style=\"text-align: right;\">              0</td><td style=\"text-align: right;\">          3</td><td style=\"text-align: right;\">          4</td><td style=\"text-align: right;\">            4</td><td style=\"text-align: right;\">           1</td><td style=\"text-align: right;\">         2</td><td style=\"text-align: right;\">           3</td><td style=\"text-align: right;\">           3</td><td style=\"text-align: right;\">             2</td><td style=\"text-align: right;\">           3</td><td style=\"text-align: right;\">         2006</td><td style=\"text-align: right;\">       1574</td><td style=\"text-align: right;\">         0</td><td style=\"text-align: right;\">          5</td><td style=\"text-align: right;\">             1</td><td style=\"text-align: right;\">            4</td><td style=\"text-align: right;\">          3</td><td style=\"text-align: right;\">    11957</td><td style=\"text-align: right;\">           75</td><td style=\"text-align: right;\">         3</td><td style=\"text-align: right;\">          53</td><td style=\"text-align: right;\">          104</td><td style=\"text-align: right;\">            5</td><td style=\"text-align: right;\">            8</td><td style=\"text-align: right;\">           3</td><td style=\"text-align: right;\">         1574</td><td style=\"text-align: right;\">     3148</td><td style=\"text-align: right;\">         144</td><td style=\"text-align: right;\">       2006</td><td style=\"text-align: right;\">          2006</td><td style=\"text-align: right;\">         0</td><td style=\"text-align: right;\">           1</td><td style=\"text-align: right;\">           6</td><td style=\"text-align: right;\">           2</td><td style=\"text-align: right;\">           4</td><td style=\"text-align: right;\">           12</td><td style=\"text-align: right;\">           13</td><td style=\"text-align: right;\">           2</td><td style=\"text-align: right;\">           6</td><td style=\"text-align: right;\">           1</td><td style=\"text-align: right;\">        1</td><td style=\"text-align: right;\">           2</td><td style=\"text-align: right;\">            3</td><td style=\"text-align: right;\">          4</td><td style=\"text-align: right;\">           5</td><td style=\"text-align: right;\">         3</td><td style=\"text-align: right;\">           1</td><td style=\"text-align: right;\">       9</td><td style=\"text-align: right;\">            21</td><td style=\"text-align: right;\">         0</td><td style=\"text-align: right;\">          1</td><td style=\"text-align: right;\">              4</td><td style=\"text-align: right;\">         8</td><td style=\"text-align: right;\">       1</td><td style=\"text-align: right;\">          0</td><td style=\"text-align: right;\">       2</td><td style=\"text-align: right;\">    12.3545</td></tr>\n",
       "<tr><td style=\"text-align: right;\">1004</td><td style=\"text-align: right;\">      1680</td><td style=\"text-align: right;\">         0</td><td style=\"text-align: right;\">             4</td><td style=\"text-align: right;\">         3</td><td style=\"text-align: right;\">             0</td><td style=\"text-align: right;\">           0</td><td style=\"text-align: right;\">           0</td><td style=\"text-align: right;\">             1</td><td style=\"text-align: right;\">             1</td><td style=\"text-align: right;\">             0</td><td style=\"text-align: right;\">         3</td><td style=\"text-align: right;\">       1680</td><td style=\"text-align: right;\">              0</td><td style=\"text-align: right;\">          3</td><td style=\"text-align: right;\">          3</td><td style=\"text-align: right;\">            0</td><td style=\"text-align: right;\">           0</td><td style=\"text-align: right;\">         2</td><td style=\"text-align: right;\">           2</td><td style=\"text-align: right;\">           3</td><td style=\"text-align: right;\">             1</td><td style=\"text-align: right;\">           3</td><td style=\"text-align: right;\">         1976</td><td style=\"text-align: right;\">       1680</td><td style=\"text-align: right;\">         0</td><td style=\"text-align: right;\">          2</td><td style=\"text-align: right;\">             2</td><td style=\"text-align: right;\">            3</td><td style=\"text-align: right;\">          3</td><td style=\"text-align: right;\">    11500</td><td style=\"text-align: right;\">           60</td><td style=\"text-align: right;\">         3</td><td style=\"text-align: right;\">         164</td><td style=\"text-align: right;\">            0</td><td style=\"text-align: right;\">            6</td><td style=\"text-align: right;\">            5</td><td style=\"text-align: right;\">           3</td><td style=\"text-align: right;\">         1680</td><td style=\"text-align: right;\">     3360</td><td style=\"text-align: right;\">           0</td><td style=\"text-align: right;\">       1976</td><td style=\"text-align: right;\">          1976</td><td style=\"text-align: right;\">         2</td><td style=\"text-align: right;\">           1</td><td style=\"text-align: right;\">           1</td><td style=\"text-align: right;\">           6</td><td style=\"text-align: right;\">           4</td><td style=\"text-align: right;\">           12</td><td style=\"text-align: right;\">           13</td><td style=\"text-align: right;\">           1</td><td style=\"text-align: right;\">           6</td><td style=\"text-align: right;\">           5</td><td style=\"text-align: right;\">        1</td><td style=\"text-align: right;\">           2</td><td style=\"text-align: right;\">            3</td><td style=\"text-align: right;\">          0</td><td style=\"text-align: right;\">          15</td><td style=\"text-align: right;\">         3</td><td style=\"text-align: right;\">           1</td><td style=\"text-align: right;\">       8</td><td style=\"text-align: right;\">            14</td><td style=\"text-align: right;\">         0</td><td style=\"text-align: right;\">          1</td><td style=\"text-align: right;\">              4</td><td style=\"text-align: right;\">         8</td><td style=\"text-align: right;\">       1</td><td style=\"text-align: right;\">          0</td><td style=\"text-align: right;\">       1</td><td style=\"text-align: right;\">    11.827 </td></tr>\n",
       "<tr><td style=\"text-align: right;\">1005</td><td style=\"text-align: right;\">      1504</td><td style=\"text-align: right;\">         0</td><td style=\"text-align: right;\">             1</td><td style=\"text-align: right;\">         3</td><td style=\"text-align: right;\">             0</td><td style=\"text-align: right;\">          16</td><td style=\"text-align: right;\">           0</td><td style=\"text-align: right;\">             6</td><td style=\"text-align: right;\">             1</td><td style=\"text-align: right;\">             0</td><td style=\"text-align: right;\">         4</td><td style=\"text-align: right;\">       1330</td><td style=\"text-align: right;\">              0</td><td style=\"text-align: right;\">          3</td><td style=\"text-align: right;\">          4</td><td style=\"text-align: right;\">            4</td><td style=\"text-align: right;\">           1</td><td style=\"text-align: right;\">         2</td><td style=\"text-align: right;\">           2</td><td style=\"text-align: right;\">           3</td><td style=\"text-align: right;\">             3</td><td style=\"text-align: right;\">           3</td><td style=\"text-align: right;\">         2005</td><td style=\"text-align: right;\">       1504</td><td style=\"text-align: right;\">         0</td><td style=\"text-align: right;\">          5</td><td style=\"text-align: right;\">             1</td><td style=\"text-align: right;\">            4</td><td style=\"text-align: right;\">          3</td><td style=\"text-align: right;\">     3182</td><td style=\"text-align: right;\">           43</td><td style=\"text-align: right;\">         4</td><td style=\"text-align: right;\">          16</td><td style=\"text-align: right;\">            0</td><td style=\"text-align: right;\">            5</td><td style=\"text-align: right;\">            7</td><td style=\"text-align: right;\">           3</td><td style=\"text-align: right;\">         1346</td><td style=\"text-align: right;\">     2850</td><td style=\"text-align: right;\">         156</td><td style=\"text-align: right;\">       2005</td><td style=\"text-align: right;\">          2006</td><td style=\"text-align: right;\">         4</td><td style=\"text-align: right;\">           1</td><td style=\"text-align: right;\">           2</td><td style=\"text-align: right;\">           2</td><td style=\"text-align: right;\">           4</td><td style=\"text-align: right;\">           12</td><td style=\"text-align: right;\">           13</td><td style=\"text-align: right;\">           2</td><td style=\"text-align: right;\">           6</td><td style=\"text-align: right;\">           1</td><td style=\"text-align: right;\">        1</td><td style=\"text-align: right;\">           2</td><td style=\"text-align: right;\">            3</td><td style=\"text-align: right;\">          4</td><td style=\"text-align: right;\">           0</td><td style=\"text-align: right;\">         3</td><td style=\"text-align: right;\">           1</td><td style=\"text-align: right;\">       7</td><td style=\"text-align: right;\">             0</td><td style=\"text-align: right;\">         0</td><td style=\"text-align: right;\">          1</td><td style=\"text-align: right;\">              4</td><td style=\"text-align: right;\">         8</td><td style=\"text-align: right;\">       1</td><td style=\"text-align: right;\">          0</td><td style=\"text-align: right;\">       3</td><td style=\"text-align: right;\">    12.1063</td></tr>\n",
       "<tr><td style=\"text-align: right;\">1006</td><td style=\"text-align: right;\">       985</td><td style=\"text-align: right;\">         0</td><td style=\"text-align: right;\">             3</td><td style=\"text-align: right;\">         4</td><td style=\"text-align: right;\">             2</td><td style=\"text-align: right;\">         595</td><td style=\"text-align: right;\">           0</td><td style=\"text-align: right;\">             6</td><td style=\"text-align: right;\">             1</td><td style=\"text-align: right;\">             0</td><td style=\"text-align: right;\">         4</td><td style=\"text-align: right;\">        390</td><td style=\"text-align: right;\">              0</td><td style=\"text-align: right;\">          3</td><td style=\"text-align: right;\">          4</td><td style=\"text-align: right;\">            0</td><td style=\"text-align: right;\">           0</td><td style=\"text-align: right;\">         2</td><td style=\"text-align: right;\">           1</td><td style=\"text-align: right;\">           3</td><td style=\"text-align: right;\">             1</td><td style=\"text-align: right;\">           3</td><td style=\"text-align: right;\">         1977</td><td style=\"text-align: right;\">        985</td><td style=\"text-align: right;\">         0</td><td style=\"text-align: right;\">          3</td><td style=\"text-align: right;\">             1</td><td style=\"text-align: right;\">            3</td><td style=\"text-align: right;\">          3</td><td style=\"text-align: right;\">     8385</td><td style=\"text-align: right;\">           65</td><td style=\"text-align: right;\">         4</td><td style=\"text-align: right;\">         220</td><td style=\"text-align: right;\">            0</td><td style=\"text-align: right;\">            8</td><td style=\"text-align: right;\">            5</td><td style=\"text-align: right;\">           3</td><td style=\"text-align: right;\">          985</td><td style=\"text-align: right;\">     1970</td><td style=\"text-align: right;\">         210</td><td style=\"text-align: right;\">       1977</td><td style=\"text-align: right;\">          1977</td><td style=\"text-align: right;\">         0</td><td style=\"text-align: right;\">           1</td><td style=\"text-align: right;\">           2</td><td style=\"text-align: right;\">           2</td><td style=\"text-align: right;\">           4</td><td style=\"text-align: right;\">            6</td><td style=\"text-align: right;\">            6</td><td style=\"text-align: right;\">           1</td><td style=\"text-align: right;\">           6</td><td style=\"text-align: right;\">           1</td><td style=\"text-align: right;\">        1</td><td style=\"text-align: right;\">           7</td><td style=\"text-align: right;\">            3</td><td style=\"text-align: right;\">          4</td><td style=\"text-align: right;\">          13</td><td style=\"text-align: right;\">         3</td><td style=\"text-align: right;\">           1</td><td style=\"text-align: right;\">       2</td><td style=\"text-align: right;\">             5</td><td style=\"text-align: right;\">         0</td><td style=\"text-align: right;\">          1</td><td style=\"text-align: right;\">              4</td><td style=\"text-align: right;\">         8</td><td style=\"text-align: right;\">       1</td><td style=\"text-align: right;\">          0</td><td style=\"text-align: right;\">       2</td><td style=\"text-align: right;\">    11.9177</td></tr>\n",
       "</tbody>\n",
       "</table>"
      ]
     },
     "metadata": {},
     "output_type": "display_data"
    },
    {
     "data": {
      "text/plain": []
     },
     "execution_count": 99,
     "metadata": {},
     "output_type": "execute_result"
    }
   ],
   "source": [
    "validation.head(5)"
   ]
  },
  {
   "cell_type": "markdown",
   "metadata": {},
   "source": [
    "## Models"
   ]
  },
  {
   "cell_type": "markdown",
   "metadata": {},
   "source": [
    "## 1. Decision Tree"
   ]
  },
  {
   "cell_type": "markdown",
   "metadata": {},
   "source": [
    "![title](img/tree.png \"ShowMyImage\")"
   ]
  },
  {
   "cell_type": "markdown",
   "metadata": {},
   "source": [
    "<div class=\"alert alert-block alert-success\">\n",
    "<font color='darkblue'>Before we build our model, we first need to set our x variable and y variable. </font>"
   ]
  },
  {
   "cell_type": "code",
   "execution_count": 100,
   "metadata": {},
   "outputs": [
    {
     "name": "stdout",
     "output_type": "stream",
     "text": [
      "SalePrice\n",
      "['1stFlrSF', '2ndFlrSF', 'BedroomAbvGr', 'BsmtCond', 'BsmtExposure', 'BsmtFinSF1', 'BsmtFinSF2', 'BsmtFinType1', 'BsmtFinType2', 'BsmtFullBath', 'BsmtQual', 'BsmtUnfSF', 'EnclosedPorch', 'ExterCond', 'ExterQual', 'FireplaceQu', 'Fireplaces', 'FullBath', 'GarageCars', 'GarageCond', 'GarageFinish', 'GarageQual', 'GarageYrBlt', 'GrLivArea', 'HalfBath', 'HeatingQC', 'KitchenAbvGr', 'KitchenQual', 'LandSlope', 'LotArea', 'LotFrontage', 'LotShape', 'MasVnrArea', 'OpenPorchSF', 'OverallCond', 'OverallQual', 'PavedDrive', 'TotalBsmtSF', 'TotalSF', 'WoodDeckSF', 'YearBuilt', 'YearRemodAdd', 'BldgType', 'CentralAir', 'Condition1', 'Condition2', 'Electrical', 'Exterior1st', 'Exterior2nd', 'Foundation', 'Functional', 'GarageType', 'Heating', 'HouseStyle', 'LandContour', 'LotConfig', 'MSSubClass', 'MSZoning', 'MasVnrType', 'MoSold', 'Neighborhood', 'RoofMatl', 'RoofStyle', 'SaleCondition', 'SaleType', 'Street', 'Utilities', 'YrSold']\n"
     ]
    }
   ],
   "source": [
    "x=[name for name in train.columns if name not in ['SalePrice','Id']]\n",
    "y=\"SalePrice\"\n",
    "\n",
    "print(y)\n",
    "print(x)"
   ]
  },
  {
   "cell_type": "markdown",
   "metadata": {},
   "source": [
    "### (1) Random Forest"
   ]
  },
  {
   "cell_type": "code",
   "execution_count": 101,
   "metadata": {},
   "outputs": [
    {
     "name": "stdout",
     "output_type": "stream",
     "text": [
      "drf Model Build progress: |███████████████████████████████████████████████| 100%\n",
      "Model Details\n",
      "=============\n",
      "H2ORandomForestEstimator :  Distributed Random Forest\n",
      "Model Key:  DRF_model_python_1522814867933_29\n",
      "\n",
      "\n",
      "ModelMetricsRegression: drf\n",
      "** Reported on train data. **\n",
      "\n",
      "MSE: 0.03365835650455205\n",
      "RMSE: 0.1834621391583344\n",
      "MAE: 0.12703556510089062\n",
      "RMSLE: 0.014213754195706394\n",
      "Mean Residual Deviance: 0.03365835650455205\n",
      "\n",
      "ModelMetricsRegression: drf\n",
      "** Reported on validation data. **\n",
      "\n",
      "MSE: 0.02704842615077966\n",
      "RMSE: 0.16446405732189529\n",
      "MAE: 0.11784508677203459\n",
      "RMSLE: 0.012640520350996323\n",
      "Mean Residual Deviance: 0.02704842615077966\n",
      "\n",
      "ModelMetricsRegression: drf\n",
      "** Reported on cross-validation data. **\n",
      "\n",
      "MSE: 0.031910642987982685\n",
      "RMSE: 0.17863550315651894\n",
      "MAE: 0.12336712809267358\n",
      "RMSLE: 0.013856659605613886\n",
      "Mean Residual Deviance: 0.031910642987982685\n",
      "Cross-Validation Metrics Summary: \n"
     ]
    },
    {
     "data": {
      "text/html": [
       "<div style=\"overflow:auto\"><table style=\"width:50%\"><tr><td><b></b></td>\n",
       "<td><b>mean</b></td>\n",
       "<td><b>sd</b></td>\n",
       "<td><b>cv_1_valid</b></td>\n",
       "<td><b>cv_2_valid</b></td>\n",
       "<td><b>cv_3_valid</b></td></tr>\n",
       "<tr><td>mae</td>\n",
       "<td>0.1233164</td>\n",
       "<td>0.0032543</td>\n",
       "<td>0.1172773</td>\n",
       "<td>0.1242339</td>\n",
       "<td>0.1284379</td></tr>\n",
       "<tr><td>mean_residual_deviance</td>\n",
       "<td>0.0319299</td>\n",
       "<td>0.0013920</td>\n",
       "<td>0.0301116</td>\n",
       "<td>0.0310134</td>\n",
       "<td>0.0346648</td></tr>\n",
       "<tr><td>mse</td>\n",
       "<td>0.0319299</td>\n",
       "<td>0.0013920</td>\n",
       "<td>0.0301116</td>\n",
       "<td>0.0310134</td>\n",
       "<td>0.0346648</td></tr>\n",
       "<tr><td>r2</td>\n",
       "<td>0.8063159</td>\n",
       "<td>0.0045266</td>\n",
       "<td>0.8053379</td>\n",
       "<td>0.8145994</td>\n",
       "<td>0.7990106</td></tr>\n",
       "<tr><td>residual_deviance</td>\n",
       "<td>0.0319299</td>\n",
       "<td>0.0013920</td>\n",
       "<td>0.0301116</td>\n",
       "<td>0.0310134</td>\n",
       "<td>0.0346648</td></tr>\n",
       "<tr><td>rmse</td>\n",
       "<td>0.1786060</td>\n",
       "<td>0.0038618</td>\n",
       "<td>0.1735270</td>\n",
       "<td>0.1761063</td>\n",
       "<td>0.1861848</td></tr>\n",
       "<tr><td>rmsle</td>\n",
       "<td>0.0138577</td>\n",
       "<td>0.0002265</td>\n",
       "<td>0.0136019</td>\n",
       "<td>0.0136618</td>\n",
       "<td>0.0143094</td></tr></table></div>"
      ],
      "text/plain": [
       "                        mean       sd           cv_1_valid    cv_2_valid    cv_3_valid\n",
       "----------------------  ---------  -----------  ------------  ------------  ------------\n",
       "mae                     0.123316   0.00325429   0.117277      0.124234      0.128438\n",
       "mean_residual_deviance  0.0319299  0.00139198   0.0301116     0.0310134     0.0346648\n",
       "mse                     0.0319299  0.00139198   0.0301116     0.0310134     0.0346648\n",
       "r2                      0.806316   0.0045266    0.805338      0.814599      0.799011\n",
       "residual_deviance       0.0319299  0.00139198   0.0301116     0.0310134     0.0346648\n",
       "rmse                    0.178606   0.00386184   0.173527      0.176106      0.186185\n",
       "rmsle                   0.0138577  0.000226531  0.0136019     0.0136618     0.0143094"
      ]
     },
     "metadata": {},
     "output_type": "display_data"
    },
    {
     "name": "stdout",
     "output_type": "stream",
     "text": [
      "Scoring History: \n"
     ]
    },
    {
     "data": {
      "text/html": [
       "<div style=\"overflow:auto\"><table style=\"width:50%\"><tr><td><b></b></td>\n",
       "<td><b>timestamp</b></td>\n",
       "<td><b>duration</b></td>\n",
       "<td><b>number_of_trees</b></td>\n",
       "<td><b>training_rmse</b></td>\n",
       "<td><b>training_mae</b></td>\n",
       "<td><b>training_deviance</b></td>\n",
       "<td><b>validation_rmse</b></td>\n",
       "<td><b>validation_mae</b></td>\n",
       "<td><b>validation_deviance</b></td></tr>\n",
       "<tr><td></td>\n",
       "<td>2018-04-18 20:37:14</td>\n",
       "<td> 5.944 sec</td>\n",
       "<td>0.0</td>\n",
       "<td>nan</td>\n",
       "<td>nan</td>\n",
       "<td>nan</td>\n",
       "<td>nan</td>\n",
       "<td>nan</td>\n",
       "<td>nan</td></tr>\n",
       "<tr><td></td>\n",
       "<td>2018-04-18 20:37:14</td>\n",
       "<td> 5.963 sec</td>\n",
       "<td>1.0</td>\n",
       "<td>0.3439924</td>\n",
       "<td>0.2530273</td>\n",
       "<td>0.1183308</td>\n",
       "<td>0.3662999</td>\n",
       "<td>0.2700024</td>\n",
       "<td>0.1341756</td></tr>\n",
       "<tr><td></td>\n",
       "<td>2018-04-18 20:37:14</td>\n",
       "<td> 5.978 sec</td>\n",
       "<td>2.0</td>\n",
       "<td>0.3433572</td>\n",
       "<td>0.2479801</td>\n",
       "<td>0.1178941</td>\n",
       "<td>0.2683308</td>\n",
       "<td>0.2005787</td>\n",
       "<td>0.0720014</td></tr>\n",
       "<tr><td></td>\n",
       "<td>2018-04-18 20:37:14</td>\n",
       "<td> 5.991 sec</td>\n",
       "<td>3.0</td>\n",
       "<td>0.3160646</td>\n",
       "<td>0.2286365</td>\n",
       "<td>0.0998969</td>\n",
       "<td>0.2360400</td>\n",
       "<td>0.1747939</td>\n",
       "<td>0.0557149</td></tr>\n",
       "<tr><td></td>\n",
       "<td>2018-04-18 20:37:14</td>\n",
       "<td> 6.011 sec</td>\n",
       "<td>4.0</td>\n",
       "<td>0.2857416</td>\n",
       "<td>0.2063685</td>\n",
       "<td>0.0816483</td>\n",
       "<td>0.2054470</td>\n",
       "<td>0.1529225</td>\n",
       "<td>0.0422085</td></tr>\n",
       "<tr><td>---</td>\n",
       "<td>---</td>\n",
       "<td>---</td>\n",
       "<td>---</td>\n",
       "<td>---</td>\n",
       "<td>---</td>\n",
       "<td>---</td>\n",
       "<td>---</td>\n",
       "<td>---</td>\n",
       "<td>---</td></tr>\n",
       "<tr><td></td>\n",
       "<td>2018-04-18 20:37:17</td>\n",
       "<td> 8.844 sec</td>\n",
       "<td>133.0</td>\n",
       "<td>0.1834285</td>\n",
       "<td>0.1268660</td>\n",
       "<td>0.0336460</td>\n",
       "<td>0.1644188</td>\n",
       "<td>0.1179329</td>\n",
       "<td>0.0270336</td></tr>\n",
       "<tr><td></td>\n",
       "<td>2018-04-18 20:37:17</td>\n",
       "<td> 8.882 sec</td>\n",
       "<td>134.0</td>\n",
       "<td>0.1837265</td>\n",
       "<td>0.1272479</td>\n",
       "<td>0.0337554</td>\n",
       "<td>0.1646620</td>\n",
       "<td>0.1179910</td>\n",
       "<td>0.0271136</td></tr>\n",
       "<tr><td></td>\n",
       "<td>2018-04-18 20:37:17</td>\n",
       "<td> 8.910 sec</td>\n",
       "<td>135.0</td>\n",
       "<td>0.1838255</td>\n",
       "<td>0.1274569</td>\n",
       "<td>0.0337918</td>\n",
       "<td>0.1646558</td>\n",
       "<td>0.1180832</td>\n",
       "<td>0.0271115</td></tr>\n",
       "<tr><td></td>\n",
       "<td>2018-04-18 20:37:17</td>\n",
       "<td> 8.949 sec</td>\n",
       "<td>136.0</td>\n",
       "<td>0.1833254</td>\n",
       "<td>0.1270482</td>\n",
       "<td>0.0336082</td>\n",
       "<td>0.1642353</td>\n",
       "<td>0.1177108</td>\n",
       "<td>0.0269732</td></tr>\n",
       "<tr><td></td>\n",
       "<td>2018-04-18 20:37:17</td>\n",
       "<td> 8.989 sec</td>\n",
       "<td>137.0</td>\n",
       "<td>0.1834621</td>\n",
       "<td>0.1270356</td>\n",
       "<td>0.0336584</td>\n",
       "<td>0.1644641</td>\n",
       "<td>0.1178451</td>\n",
       "<td>0.0270484</td></tr></table></div>"
      ],
      "text/plain": [
       "     timestamp            duration    number_of_trees    training_rmse        training_mae         training_deviance     validation_rmse      validation_mae       validation_deviance\n",
       "---  -------------------  ----------  -----------------  -------------------  -------------------  --------------------  -------------------  -------------------  ---------------------\n",
       "     2018-04-18 20:37:14  5.944 sec   0.0                nan                  nan                  nan                   nan                  nan                  nan\n",
       "     2018-04-18 20:37:14  5.963 sec   1.0                0.3439924345503943   0.25302730052929207  0.1183307950279073    0.3662999187709299   0.270002404675213    0.13417563049158984\n",
       "     2018-04-18 20:37:14  5.978 sec   2.0                0.3433571559813714   0.24798007909802422  0.1178941365636158    0.26833077594941496  0.20057867499938697  0.07200140532161513\n",
       "     2018-04-18 20:37:14  5.991 sec   3.0                0.31606462972921545  0.2286364512436836   0.09989685016586607   0.23604002699561222  0.17479387086204737  0.05571489434408935\n",
       "     2018-04-18 20:37:14  6.011 sec   4.0                0.28574161065916154  0.2063684752989744   0.08164826806209186   0.20544699628581856  0.1529225064156878   0.04220846828286515\n",
       "---  ---                  ---         ---                ---                  ---                  ---                   ---                  ---                  ---\n",
       "     2018-04-18 20:37:17  8.844 sec   133.0              0.18342850330949603  0.12686597486146745  0.03364601582636179   0.1644188364034872   0.11793288722089774  0.027033553764276685\n",
       "     2018-04-18 20:37:17  8.882 sec   134.0              0.18372648178007567  0.12724789793544894  0.033755420107284474  0.1646620404087011   0.11799097135745586  0.02711358755155672\n",
       "     2018-04-18 20:37:17  8.910 sec   135.0              0.18382554340993354  0.12745685396934198  0.03379183040995736   0.1646557715261573   0.11808315359156014  0.02711152309687411\n",
       "     2018-04-18 20:37:17  8.949 sec   136.0              0.1833254184502572   0.1270481589900683   0.0336082090499619    0.1642352694905911   0.11771081547610965  0.02697322374464709\n",
       "     2018-04-18 20:37:17  8.989 sec   137.0              0.1834621391583344   0.12703556510089062  0.03365835650455205   0.16446405732189529  0.11784508677203459  0.02704842615077966"
      ]
     },
     "metadata": {},
     "output_type": "display_data"
    },
    {
     "name": "stdout",
     "output_type": "stream",
     "text": [
      "\n",
      "See the whole table with table.as_data_frame()\n",
      "Variable Importances: \n"
     ]
    },
    {
     "data": {
      "text/html": [
       "<div style=\"overflow:auto\"><table style=\"width:50%\"><tr><td><b>variable</b></td>\n",
       "<td><b>relative_importance</b></td>\n",
       "<td><b>scaled_importance</b></td>\n",
       "<td><b>percentage</b></td></tr>\n",
       "<tr><td>OverallQual</td>\n",
       "<td>1525.5278320</td>\n",
       "<td>1.0</td>\n",
       "<td>0.0865391</td></tr>\n",
       "<tr><td>GrLivArea</td>\n",
       "<td>1387.6665039</td>\n",
       "<td>0.9096304</td>\n",
       "<td>0.0787186</td></tr>\n",
       "<tr><td>ExterQual</td>\n",
       "<td>1020.0325317</td>\n",
       "<td>0.6686424</td>\n",
       "<td>0.0578637</td></tr>\n",
       "<tr><td>TotalSF</td>\n",
       "<td>1000.4140015</td>\n",
       "<td>0.6557822</td>\n",
       "<td>0.0567508</td></tr>\n",
       "<tr><td>KitchenQual</td>\n",
       "<td>770.2818604</td>\n",
       "<td>0.5049281</td>\n",
       "<td>0.0436960</td></tr>\n",
       "<tr><td>---</td>\n",
       "<td>---</td>\n",
       "<td>---</td>\n",
       "<td>---</td></tr>\n",
       "<tr><td>KitchenAbvGr</td>\n",
       "<td>16.0245590</td>\n",
       "<td>0.0105043</td>\n",
       "<td>0.0009090</td></tr>\n",
       "<tr><td>Heating</td>\n",
       "<td>15.9401960</td>\n",
       "<td>0.0104490</td>\n",
       "<td>0.0009042</td></tr>\n",
       "<tr><td>Condition2</td>\n",
       "<td>6.2874975</td>\n",
       "<td>0.0041215</td>\n",
       "<td>0.0003567</td></tr>\n",
       "<tr><td>Street</td>\n",
       "<td>2.6488671</td>\n",
       "<td>0.0017364</td>\n",
       "<td>0.0001503</td></tr>\n",
       "<tr><td>Utilities</td>\n",
       "<td>0.5030513</td>\n",
       "<td>0.0003298</td>\n",
       "<td>0.0000285</td></tr></table></div>"
      ],
      "text/plain": [
       "variable      relative_importance    scaled_importance      percentage\n",
       "------------  ---------------------  ---------------------  ----------------------\n",
       "OverallQual   1525.52783203125       1.0                    0.08653911988205541\n",
       "GrLivArea     1387.66650390625       0.9096304077642184     0.07871861490587065\n",
       "ExterQual     1020.0325317382812     0.6686423612344728     0.05786372145709065\n",
       "TotalSF       1000.4140014648438     0.6557822023691211     0.0567508146273397\n",
       "KitchenQual   770.2818603515625      0.5049280938558344     0.04369603284600778\n",
       "---           ---                    ---                    ---\n",
       "KitchenAbvGr  16.024559020996094     0.010504271822861004   0.0009090304385522652\n",
       "Heating       15.94019603729248      0.010448970974241753   0.0009042447517840245\n",
       "Condition2    6.287497520446777      0.004121522654932447   0.00035667294313180637\n",
       "Street        2.648867130279541      0.0017363610644537096  0.00015026315831529293\n",
       "Utilities     0.5030513405799866     0.0003297555967301957  2.8536759117213126e-05"
      ]
     },
     "metadata": {},
     "output_type": "display_data"
    },
    {
     "name": "stdout",
     "output_type": "stream",
     "text": [
      "\n",
      "See the whole table with table.as_data_frame()\n",
      "\n"
     ]
    }
   ],
   "source": [
    "# initialize rf model\n",
    "rf_model = H2ORandomForestEstimator(\n",
    "    ntrees=10000,                    # Up to 10000 decision trees in the forest \n",
    "    max_depth=20,                    # trees can grow to depth of 20\n",
    "    col_sample_rate_per_tree=0.1,\n",
    "    sample_rate=0.8,\n",
    "    stopping_rounds=50,              # stop after validation error does not decrease for 5 iterations/new trees\n",
    "    score_each_iteration=True,       # score validation error on every iteration/new tree\n",
    "    nfolds=3,\n",
    "    keep_cross_validation_predictions=True,\n",
    "    seed=12345)           \n",
    "\n",
    "# train rf model\n",
    "rf_model.train(x,y,training_frame=train,validation_frame=validation)\n",
    "\n",
    "# print model information\n",
    "print(rf_model)"
   ]
  },
  {
   "cell_type": "markdown",
   "metadata": {},
   "source": [
    "<div class=\"alert alert-block alert-success\">\n",
    "<font color='darkblue'> For our Random Forest Model, we set:<font>\n",
    "\n",
    "- <font color='darkblue'> Up to 10000 decision trees in the forest.<font>\n",
    "\n",
    "- <font color='darkblue'> Trees can grow to depth of 20<font>\n",
    "\n",
    "- <font color='darkblue'>stop after validation error does not decrease for 5 iterations/new trees <font>\n",
    "\n",
    "- <font color='darkblue'>score validation error on every iteration/new tree<font>"
   ]
  },
  {
   "cell_type": "code",
   "execution_count": 102,
   "metadata": {},
   "outputs": [
    {
     "name": "stdout",
     "output_type": "stream",
     "text": [
      "drf prediction progress: |████████████████████████████████████████████████| 100%\n",
      "drf prediction progress: |████████████████████████████████████████████████| 100%\n"
     ]
    }
   ],
   "source": [
    "ert_preds1_val = rf_model.predict(validation)\n",
    "ert_preds1_test = rf_model.predict(test)"
   ]
  },
  {
   "cell_type": "markdown",
   "metadata": {},
   "source": [
    "<div class=\"alert alert-block alert-info\">\n",
    "<font color='green'>Below is our predicted log(SalePrice) based on our Random Forest Model. \n",
    "<br>\n",
    "We then convernt the predicted SalePrice to a data frame so that we can concatenate it with Id.</font>"
   ]
  },
  {
   "cell_type": "code",
   "execution_count": 103,
   "metadata": {
    "scrolled": true
   },
   "outputs": [
    {
     "data": {
      "text/html": [
       "<table>\n",
       "<thead>\n",
       "<tr><th style=\"text-align: right;\">  predict</th></tr>\n",
       "</thead>\n",
       "<tbody>\n",
       "<tr><td style=\"text-align: right;\">  11.774 </td></tr>\n",
       "<tr><td style=\"text-align: right;\">  11.9587</td></tr>\n",
       "<tr><td style=\"text-align: right;\">  12.1378</td></tr>\n",
       "<tr><td style=\"text-align: right;\">  12.1781</td></tr>\n",
       "<tr><td style=\"text-align: right;\">  12.1471</td></tr>\n",
       "<tr><td style=\"text-align: right;\">  12.1184</td></tr>\n",
       "<tr><td style=\"text-align: right;\">  12.0284</td></tr>\n",
       "<tr><td style=\"text-align: right;\">  12.0927</td></tr>\n",
       "<tr><td style=\"text-align: right;\">  12.0671</td></tr>\n",
       "<tr><td style=\"text-align: right;\">  11.8292</td></tr>\n",
       "</tbody>\n",
       "</table>"
      ]
     },
     "metadata": {},
     "output_type": "display_data"
    },
    {
     "data": {
      "text/plain": []
     },
     "execution_count": 103,
     "metadata": {},
     "output_type": "execute_result"
    }
   ],
   "source": [
    "ert_preds1_test.head()"
   ]
  },
  {
   "cell_type": "code",
   "execution_count": 104,
   "metadata": {
    "collapsed": true
   },
   "outputs": [],
   "source": [
    "a=ert_preds1_test.as_data_frame()"
   ]
  },
  {
   "cell_type": "code",
   "execution_count": 105,
   "metadata": {},
   "outputs": [
    {
     "data": {
      "text/html": [
       "<div>\n",
       "<style>\n",
       "    .dataframe thead tr:only-child th {\n",
       "        text-align: right;\n",
       "    }\n",
       "\n",
       "    .dataframe thead th {\n",
       "        text-align: left;\n",
       "    }\n",
       "\n",
       "    .dataframe tbody tr th {\n",
       "        vertical-align: top;\n",
       "    }\n",
       "</style>\n",
       "<table border=\"1\" class=\"dataframe\">\n",
       "  <thead>\n",
       "    <tr style=\"text-align: right;\">\n",
       "      <th></th>\n",
       "      <th>predict</th>\n",
       "    </tr>\n",
       "  </thead>\n",
       "  <tbody>\n",
       "    <tr>\n",
       "      <th>0</th>\n",
       "      <td>11.773993</td>\n",
       "    </tr>\n",
       "    <tr>\n",
       "      <th>1</th>\n",
       "      <td>11.958668</td>\n",
       "    </tr>\n",
       "    <tr>\n",
       "      <th>2</th>\n",
       "      <td>12.137805</td>\n",
       "    </tr>\n",
       "    <tr>\n",
       "      <th>3</th>\n",
       "      <td>12.178061</td>\n",
       "    </tr>\n",
       "    <tr>\n",
       "      <th>4</th>\n",
       "      <td>12.147106</td>\n",
       "    </tr>\n",
       "  </tbody>\n",
       "</table>\n",
       "</div>"
      ],
      "text/plain": [
       "     predict\n",
       "0  11.773993\n",
       "1  11.958668\n",
       "2  12.137805\n",
       "3  12.178061\n",
       "4  12.147106"
      ]
     },
     "execution_count": 105,
     "metadata": {},
     "output_type": "execute_result"
    }
   ],
   "source": [
    "a.head()"
   ]
  },
  {
   "cell_type": "markdown",
   "metadata": {},
   "source": [
    "<div class=\"alert alert-block alert-success\">\n",
    "<font color='darkblue'>Before we concatenate our Log(SalePrice) with Id, we need to convert our log(Saleprice) to Saleprice ($) </font>"
   ]
  },
  {
   "cell_type": "code",
   "execution_count": 106,
   "metadata": {
    "collapsed": true
   },
   "outputs": [],
   "source": [
    "a['Saleprice'] = np.exp(a['predict'])"
   ]
  },
  {
   "cell_type": "code",
   "execution_count": 107,
   "metadata": {},
   "outputs": [
    {
     "data": {
      "text/html": [
       "<div>\n",
       "<style>\n",
       "    .dataframe thead tr:only-child th {\n",
       "        text-align: right;\n",
       "    }\n",
       "\n",
       "    .dataframe thead th {\n",
       "        text-align: left;\n",
       "    }\n",
       "\n",
       "    .dataframe tbody tr th {\n",
       "        vertical-align: top;\n",
       "    }\n",
       "</style>\n",
       "<table border=\"1\" class=\"dataframe\">\n",
       "  <thead>\n",
       "    <tr style=\"text-align: right;\">\n",
       "      <th></th>\n",
       "      <th>predict</th>\n",
       "      <th>Saleprice</th>\n",
       "    </tr>\n",
       "  </thead>\n",
       "  <tbody>\n",
       "    <tr>\n",
       "      <th>0</th>\n",
       "      <td>11.773993</td>\n",
       "      <td>129831.503421</td>\n",
       "    </tr>\n",
       "    <tr>\n",
       "      <th>1</th>\n",
       "      <td>11.958668</td>\n",
       "      <td>156164.928849</td>\n",
       "    </tr>\n",
       "    <tr>\n",
       "      <th>2</th>\n",
       "      <td>12.137805</td>\n",
       "      <td>186802.044274</td>\n",
       "    </tr>\n",
       "    <tr>\n",
       "      <th>3</th>\n",
       "      <td>12.178061</td>\n",
       "      <td>194475.389238</td>\n",
       "    </tr>\n",
       "    <tr>\n",
       "      <th>4</th>\n",
       "      <td>12.147106</td>\n",
       "      <td>188547.728622</td>\n",
       "    </tr>\n",
       "  </tbody>\n",
       "</table>\n",
       "</div>"
      ],
      "text/plain": [
       "     predict      Saleprice\n",
       "0  11.773993  129831.503421\n",
       "1  11.958668  156164.928849\n",
       "2  12.137805  186802.044274\n",
       "3  12.178061  194475.389238\n",
       "4  12.147106  188547.728622"
      ]
     },
     "execution_count": 107,
     "metadata": {},
     "output_type": "execute_result"
    }
   ],
   "source": [
    "a.head()"
   ]
  },
  {
   "cell_type": "markdown",
   "metadata": {},
   "source": [
    "<div class=\"alert alert-block alert-info\">\n",
    "<font color='green'>Here, we can have a look at the statistics of  our predict log(SalePrice) and SalePrice.</font>"
   ]
  },
  {
   "cell_type": "code",
   "execution_count": 108,
   "metadata": {},
   "outputs": [
    {
     "data": {
      "text/html": [
       "<div>\n",
       "<style>\n",
       "    .dataframe thead tr:only-child th {\n",
       "        text-align: right;\n",
       "    }\n",
       "\n",
       "    .dataframe thead th {\n",
       "        text-align: left;\n",
       "    }\n",
       "\n",
       "    .dataframe tbody tr th {\n",
       "        vertical-align: top;\n",
       "    }\n",
       "</style>\n",
       "<table border=\"1\" class=\"dataframe\">\n",
       "  <thead>\n",
       "    <tr style=\"text-align: right;\">\n",
       "      <th></th>\n",
       "      <th>predict</th>\n",
       "      <th>Saleprice</th>\n",
       "    </tr>\n",
       "  </thead>\n",
       "  <tbody>\n",
       "    <tr>\n",
       "      <th>count</th>\n",
       "      <td>1459.000000</td>\n",
       "      <td>1459.000000</td>\n",
       "    </tr>\n",
       "    <tr>\n",
       "      <th>mean</th>\n",
       "      <td>12.018622</td>\n",
       "      <td>173089.270509</td>\n",
       "    </tr>\n",
       "    <tr>\n",
       "      <th>std</th>\n",
       "      <td>0.288504</td>\n",
       "      <td>53269.898736</td>\n",
       "    </tr>\n",
       "    <tr>\n",
       "      <th>min</th>\n",
       "      <td>11.210945</td>\n",
       "      <td>73935.279927</td>\n",
       "    </tr>\n",
       "    <tr>\n",
       "      <th>25%</th>\n",
       "      <td>11.824589</td>\n",
       "      <td>136569.443483</td>\n",
       "    </tr>\n",
       "    <tr>\n",
       "      <th>50%</th>\n",
       "      <td>11.967881</td>\n",
       "      <td>157610.314779</td>\n",
       "    </tr>\n",
       "    <tr>\n",
       "      <th>75%</th>\n",
       "      <td>12.211227</td>\n",
       "      <td>201033.446003</td>\n",
       "    </tr>\n",
       "    <tr>\n",
       "      <th>max</th>\n",
       "      <td>12.914717</td>\n",
       "      <td>406247.286476</td>\n",
       "    </tr>\n",
       "  </tbody>\n",
       "</table>\n",
       "</div>"
      ],
      "text/plain": [
       "           predict      Saleprice\n",
       "count  1459.000000    1459.000000\n",
       "mean     12.018622  173089.270509\n",
       "std       0.288504   53269.898736\n",
       "min      11.210945   73935.279927\n",
       "25%      11.824589  136569.443483\n",
       "50%      11.967881  157610.314779\n",
       "75%      12.211227  201033.446003\n",
       "max      12.914717  406247.286476"
      ]
     },
     "execution_count": 108,
     "metadata": {},
     "output_type": "execute_result"
    }
   ],
   "source": [
    "a.describe()"
   ]
  },
  {
   "cell_type": "markdown",
   "metadata": {},
   "source": [
    "<div class=\"alert alert-block alert-info\">\n",
    "<font color='green'>Now, we can put Id and Saleprice together, save them and submit it on Kaggle. </font>"
   ]
  },
  {
   "cell_type": "code",
   "execution_count": 109,
   "metadata": {
    "collapsed": true
   },
   "outputs": [],
   "source": [
    "Id=testa['Id']"
   ]
  },
  {
   "cell_type": "code",
   "execution_count": 110,
   "metadata": {
    "collapsed": true
   },
   "outputs": [],
   "source": [
    "SalePrice=a['Saleprice']"
   ]
  },
  {
   "cell_type": "code",
   "execution_count": 111,
   "metadata": {
    "collapsed": true
   },
   "outputs": [],
   "source": [
    "rf_result=pd.concat((Id,SalePrice),axis=1)"
   ]
  },
  {
   "cell_type": "code",
   "execution_count": 112,
   "metadata": {},
   "outputs": [
    {
     "data": {
      "text/html": [
       "<div>\n",
       "<style>\n",
       "    .dataframe thead tr:only-child th {\n",
       "        text-align: right;\n",
       "    }\n",
       "\n",
       "    .dataframe thead th {\n",
       "        text-align: left;\n",
       "    }\n",
       "\n",
       "    .dataframe tbody tr th {\n",
       "        vertical-align: top;\n",
       "    }\n",
       "</style>\n",
       "<table border=\"1\" class=\"dataframe\">\n",
       "  <thead>\n",
       "    <tr style=\"text-align: right;\">\n",
       "      <th></th>\n",
       "      <th>Id</th>\n",
       "      <th>Saleprice</th>\n",
       "    </tr>\n",
       "  </thead>\n",
       "  <tbody>\n",
       "    <tr>\n",
       "      <th>0</th>\n",
       "      <td>1461</td>\n",
       "      <td>129831.503421</td>\n",
       "    </tr>\n",
       "    <tr>\n",
       "      <th>1</th>\n",
       "      <td>1462</td>\n",
       "      <td>156164.928849</td>\n",
       "    </tr>\n",
       "    <tr>\n",
       "      <th>2</th>\n",
       "      <td>1463</td>\n",
       "      <td>186802.044274</td>\n",
       "    </tr>\n",
       "    <tr>\n",
       "      <th>3</th>\n",
       "      <td>1464</td>\n",
       "      <td>194475.389238</td>\n",
       "    </tr>\n",
       "    <tr>\n",
       "      <th>4</th>\n",
       "      <td>1465</td>\n",
       "      <td>188547.728622</td>\n",
       "    </tr>\n",
       "  </tbody>\n",
       "</table>\n",
       "</div>"
      ],
      "text/plain": [
       "     Id      Saleprice\n",
       "0  1461  129831.503421\n",
       "1  1462  156164.928849\n",
       "2  1463  186802.044274\n",
       "3  1464  194475.389238\n",
       "4  1465  188547.728622"
      ]
     },
     "execution_count": 112,
     "metadata": {},
     "output_type": "execute_result"
    }
   ],
   "source": [
    "rf_result.head()"
   ]
  },
  {
   "cell_type": "code",
   "execution_count": 113,
   "metadata": {
    "collapsed": true
   },
   "outputs": [],
   "source": [
    "rf_result.to_csv('rf_result.csv')"
   ]
  },
  {
   "cell_type": "markdown",
   "metadata": {},
   "source": [
    "### (2) GBM"
   ]
  },
  {
   "cell_type": "markdown",
   "metadata": {},
   "source": [
    "### a. GBM with random hyperparameter search"
   ]
  },
  {
   "cell_type": "code",
   "execution_count": 114,
   "metadata": {},
   "outputs": [
    {
     "name": "stdout",
     "output_type": "stream",
     "text": [
      "gbm Grid Build progress: |████████████████████████████████████████████████| 100%\n",
      "Errors/Warnings building gridsearch model\n",
      "\n",
      "Hyper-parameter: col_sample_rate, 0.4\n",
      "Hyper-parameter: max_depth, 0\n",
      "Hyper-parameter: ntrees, 450\n",
      "Hyper-parameter: sample_rate, 0.6\n",
      "failure_details: Illegal argument(s) for GBM model: Grid_GBM_train_model9.hex_model_python_1522814867933_30_model_11.  Details: ERRR on field: _max_depth: _max_depth must be > 0.\n",
      "\n",
      "failure_stack_traces: water.exceptions.H2OModelBuilderIllegalArgumentException: Illegal argument(s) for GBM model: Grid_GBM_train_model9.hex_model_python_1522814867933_30_model_11.  Details: ERRR on field: _max_depth: _max_depth must be > 0.\n",
      "\n",
      "\tat water.exceptions.H2OModelBuilderIllegalArgumentException.makeFromBuilder(H2OModelBuilderIllegalArgumentException.java:20)\n",
      "\tat hex.tree.gbm.GBM.init(GBM.java:84)\n",
      "\tat hex.tree.SharedTree$Driver.computeImpl(SharedTree.java:202)\n",
      "\tat hex.ModelBuilder$Driver.compute2(ModelBuilder.java:206)\n",
      "\tat hex.ModelBuilder.trainModelNested(ModelBuilder.java:262)\n",
      "\tat hex.grid.GridSearch.startBuildModel(GridSearch.java:345)\n",
      "\tat hex.grid.GridSearch.buildModel(GridSearch.java:327)\n",
      "\tat hex.grid.GridSearch.gridSearch(GridSearch.java:214)\n",
      "\tat hex.grid.GridSearch.access$000(GridSearch.java:69)\n",
      "\tat hex.grid.GridSearch$1.compute2(GridSearch.java:136)\n",
      "\tat water.H2O$H2OCountedCompleter.compute(H2O.java:1263)\n",
      "\tat jsr166y.CountedCompleter.exec(CountedCompleter.java:468)\n",
      "\tat jsr166y.ForkJoinTask.doExec(ForkJoinTask.java:263)\n",
      "\tat jsr166y.ForkJoinPool$WorkQueue.runTask(ForkJoinPool.java:974)\n",
      "\tat jsr166y.ForkJoinPool.runWorker(ForkJoinPool.java:1477)\n",
      "\tat jsr166y.ForkJoinWorkerThread.run(ForkJoinWorkerThread.java:104)\n",
      "\n",
      "\n",
      "Hyper-parameter: col_sample_rate, 0.7\n",
      "Hyper-parameter: max_depth, 0\n",
      "Hyper-parameter: ntrees, 350\n",
      "Hyper-parameter: sample_rate, 0.3\n",
      "failure_details: Illegal argument(s) for GBM model: Grid_GBM_train_model9.hex_model_python_1522814867933_30_model_14.  Details: ERRR on field: _max_depth: _max_depth must be > 0.\n",
      "\n",
      "failure_stack_traces: water.exceptions.H2OModelBuilderIllegalArgumentException: Illegal argument(s) for GBM model: Grid_GBM_train_model9.hex_model_python_1522814867933_30_model_14.  Details: ERRR on field: _max_depth: _max_depth must be > 0.\n",
      "\n",
      "\tat water.exceptions.H2OModelBuilderIllegalArgumentException.makeFromBuilder(H2OModelBuilderIllegalArgumentException.java:20)\n",
      "\tat hex.tree.gbm.GBM.init(GBM.java:84)\n",
      "\tat hex.tree.SharedTree$Driver.computeImpl(SharedTree.java:202)\n",
      "\tat hex.ModelBuilder$Driver.compute2(ModelBuilder.java:206)\n",
      "\tat hex.ModelBuilder.trainModelNested(ModelBuilder.java:262)\n",
      "\tat hex.grid.GridSearch.startBuildModel(GridSearch.java:345)\n",
      "\tat hex.grid.GridSearch.buildModel(GridSearch.java:327)\n",
      "\tat hex.grid.GridSearch.gridSearch(GridSearch.java:214)\n",
      "\tat hex.grid.GridSearch.access$000(GridSearch.java:69)\n",
      "\tat hex.grid.GridSearch$1.compute2(GridSearch.java:136)\n",
      "\tat water.H2O$H2OCountedCompleter.compute(H2O.java:1263)\n",
      "\tat jsr166y.CountedCompleter.exec(CountedCompleter.java:468)\n",
      "\tat jsr166y.ForkJoinTask.doExec(ForkJoinTask.java:263)\n",
      "\tat jsr166y.ForkJoinPool$WorkQueue.runTask(ForkJoinPool.java:974)\n",
      "\tat jsr166y.ForkJoinPool.runWorker(ForkJoinPool.java:1477)\n",
      "\tat jsr166y.ForkJoinWorkerThread.run(ForkJoinWorkerThread.java:104)\n",
      "\n",
      "\n",
      "Hyper-parameter: col_sample_rate, 0.8\n",
      "Hyper-parameter: max_depth, 0\n",
      "Hyper-parameter: ntrees, 250\n",
      "Hyper-parameter: sample_rate, 0.2\n",
      "failure_details: Illegal argument(s) for GBM model: Grid_GBM_train_model9.hex_model_python_1522814867933_30_model_17.  Details: ERRR on field: _max_depth: _max_depth must be > 0.\n",
      "\n",
      "failure_stack_traces: water.exceptions.H2OModelBuilderIllegalArgumentException: Illegal argument(s) for GBM model: Grid_GBM_train_model9.hex_model_python_1522814867933_30_model_17.  Details: ERRR on field: _max_depth: _max_depth must be > 0.\n",
      "\n",
      "\tat water.exceptions.H2OModelBuilderIllegalArgumentException.makeFromBuilder(H2OModelBuilderIllegalArgumentException.java:20)\n",
      "\tat hex.tree.gbm.GBM.init(GBM.java:84)\n",
      "\tat hex.tree.SharedTree$Driver.computeImpl(SharedTree.java:202)\n",
      "\tat hex.ModelBuilder$Driver.compute2(ModelBuilder.java:206)\n",
      "\tat hex.ModelBuilder.trainModelNested(ModelBuilder.java:262)\n",
      "\tat hex.grid.GridSearch.startBuildModel(GridSearch.java:345)\n",
      "\tat hex.grid.GridSearch.buildModel(GridSearch.java:327)\n",
      "\tat hex.grid.GridSearch.gridSearch(GridSearch.java:214)\n",
      "\tat hex.grid.GridSearch.access$000(GridSearch.java:69)\n",
      "\tat hex.grid.GridSearch$1.compute2(GridSearch.java:136)\n",
      "\tat water.H2O$H2OCountedCompleter.compute(H2O.java:1263)\n",
      "\tat jsr166y.CountedCompleter.exec(CountedCompleter.java:468)\n",
      "\tat jsr166y.ForkJoinTask.doExec(ForkJoinTask.java:263)\n",
      "\tat jsr166y.ForkJoinPool$WorkQueue.runTask(ForkJoinPool.java:974)\n",
      "\tat jsr166y.ForkJoinPool.runWorker(ForkJoinPool.java:1477)\n",
      "\tat jsr166y.ForkJoinWorkerThread.run(ForkJoinWorkerThread.java:104)\n",
      "\n",
      "\n"
     ]
    }
   ],
   "source": [
    "# GBM with random hyperparameter search\n",
    "# train many different GBM models with random hyperparameters\n",
    "# and select best model based on validation error\n",
    "\n",
    "# define random grid search parameters\n",
    "hyper_parameters = {'ntrees':list(range(0, 500, 50)),\n",
    "                    'max_depth':list(range(0, 20, 2)),\n",
    "                    'sample_rate':[s/float(10) for s in range(1, 11)],\n",
    "                    'col_sample_rate':[s/float(10) for s in range(1, 11)]}\n",
    "\n",
    "# define search strategy\n",
    "search_criteria = {'strategy':'RandomDiscrete',\n",
    "                   'max_models':20,\n",
    "                   'max_runtime_secs':600}\n",
    "\n",
    "# initialize grid search\n",
    "gsearch = H2OGridSearch(H2OGradientBoostingEstimator,\n",
    "                        hyper_params=hyper_parameters,\n",
    "                        search_criteria=search_criteria)\n",
    "\n",
    "# execute training w/ grid search\n",
    "gsearch.train(x=x,\n",
    "              y=y,\n",
    "              training_frame=train,\n",
    "              validation_frame=validation)"
   ]
  },
  {
   "cell_type": "code",
   "execution_count": 115,
   "metadata": {},
   "outputs": [
    {
     "name": "stdout",
     "output_type": "stream",
     "text": [
      "     col_sample_rate max_depth ntrees sample_rate  \\\n",
      "0                0.3         2    300         0.9   \n",
      "1                0.1         2    400         0.2   \n",
      "2                0.1        18     50         1.0   \n",
      "3                0.5        18    250         0.6   \n",
      "4                0.4        18     50         0.4   \n",
      "5                0.1        10    250         0.7   \n",
      "6                0.8         8    150         0.4   \n",
      "7                0.1        14    200         0.9   \n",
      "8                0.8         6    300         1.0   \n",
      "9                0.3        14    250         0.5   \n",
      "10               0.9        10    250         0.9   \n",
      "11               0.6        14    300         0.5   \n",
      "12               0.7        18    300         1.0   \n",
      "13               0.1        12    400         0.3   \n",
      "14               0.9        14    300         0.4   \n",
      "15               0.4        16    200         0.2   \n",
      "16               0.3         8      0         0.1   \n",
      "\n",
      "                                                           model_ids  \\\n",
      "0    Grid_GBM_train_model9.hex_model_python_1522814867933_30_model_3   \n",
      "1   Grid_GBM_train_model9.hex_model_python_1522814867933_30_model_15   \n",
      "2    Grid_GBM_train_model9.hex_model_python_1522814867933_30_model_2   \n",
      "3    Grid_GBM_train_model9.hex_model_python_1522814867933_30_model_8   \n",
      "4    Grid_GBM_train_model9.hex_model_python_1522814867933_30_model_4   \n",
      "5    Grid_GBM_train_model9.hex_model_python_1522814867933_30_model_7   \n",
      "6   Grid_GBM_train_model9.hex_model_python_1522814867933_30_model_13   \n",
      "7   Grid_GBM_train_model9.hex_model_python_1522814867933_30_model_19   \n",
      "8    Grid_GBM_train_model9.hex_model_python_1522814867933_30_model_1   \n",
      "9    Grid_GBM_train_model9.hex_model_python_1522814867933_30_model_0   \n",
      "10  Grid_GBM_train_model9.hex_model_python_1522814867933_30_model_18   \n",
      "11   Grid_GBM_train_model9.hex_model_python_1522814867933_30_model_5   \n",
      "12  Grid_GBM_train_model9.hex_model_python_1522814867933_30_model_12   \n",
      "13  Grid_GBM_train_model9.hex_model_python_1522814867933_30_model_10   \n",
      "14   Grid_GBM_train_model9.hex_model_python_1522814867933_30_model_6   \n",
      "15  Grid_GBM_train_model9.hex_model_python_1522814867933_30_model_16   \n",
      "16   Grid_GBM_train_model9.hex_model_python_1522814867933_30_model_9   \n",
      "\n",
      "       residual_deviance  \n",
      "0    0.01365378724135734  \n",
      "1   0.013702353953057628  \n",
      "2   0.013783738092051549  \n",
      "3   0.014112543916034212  \n",
      "4   0.014199633957514177  \n",
      "5   0.014202661526784923  \n",
      "6   0.014263187251741893  \n",
      "7   0.014343376593609479  \n",
      "8   0.014563768055234086  \n",
      "9   0.014783853417772925  \n",
      "10  0.014797883283576507  \n",
      "11  0.014933091905981084  \n",
      "12  0.014988219966916747  \n",
      "13  0.015391235447085668  \n",
      "14  0.015758871655828198  \n",
      "15  0.016949054258153764  \n",
      "16   0.14778851671432447  \n",
      "Model Details\n",
      "=============\n",
      "H2OGradientBoostingEstimator :  Gradient Boosting Machine\n",
      "Model Key:  Grid_GBM_train_model9.hex_model_python_1522814867933_30_model_3\n",
      "\n",
      "\n",
      "ModelMetricsRegression: gbm\n",
      "** Reported on train data. **\n",
      "\n",
      "MSE: 0.007122349569718608\n",
      "RMSE: 0.08439401382632898\n",
      "MAE: 0.05861261653900147\n",
      "RMSLE: 0.006593516658058044\n",
      "Mean Residual Deviance: 0.007122349569718608\n",
      "\n",
      "ModelMetricsRegression: gbm\n",
      "** Reported on validation data. **\n",
      "\n",
      "MSE: 0.01365378724135734\n",
      "RMSE: 0.11684942122816587\n",
      "MAE: 0.08385542431467974\n",
      "RMSLE: 0.00905845467977458\n",
      "Mean Residual Deviance: 0.01365378724135734\n",
      "Scoring History: \n"
     ]
    },
    {
     "data": {
      "text/html": [
       "<div style=\"overflow:auto\"><table style=\"width:50%\"><tr><td><b></b></td>\n",
       "<td><b>timestamp</b></td>\n",
       "<td><b>duration</b></td>\n",
       "<td><b>number_of_trees</b></td>\n",
       "<td><b>training_rmse</b></td>\n",
       "<td><b>training_mae</b></td>\n",
       "<td><b>training_deviance</b></td>\n",
       "<td><b>validation_rmse</b></td>\n",
       "<td><b>validation_mae</b></td>\n",
       "<td><b>validation_deviance</b></td></tr>\n",
       "<tr><td></td>\n",
       "<td>2018-04-18 20:37:25</td>\n",
       "<td> 7.099 sec</td>\n",
       "<td>0.0</td>\n",
       "<td>0.4063635</td>\n",
       "<td>0.3149379</td>\n",
       "<td>0.1651313</td>\n",
       "<td>0.3844327</td>\n",
       "<td>0.3003295</td>\n",
       "<td>0.1477885</td></tr>\n",
       "<tr><td></td>\n",
       "<td>2018-04-18 20:37:25</td>\n",
       "<td> 7.104 sec</td>\n",
       "<td>1.0</td>\n",
       "<td>0.3792780</td>\n",
       "<td>0.2919891</td>\n",
       "<td>0.1438518</td>\n",
       "<td>0.3599571</td>\n",
       "<td>0.2792334</td>\n",
       "<td>0.1295691</td></tr>\n",
       "<tr><td></td>\n",
       "<td>2018-04-18 20:37:25</td>\n",
       "<td> 7.108 sec</td>\n",
       "<td>2.0</td>\n",
       "<td>0.3567144</td>\n",
       "<td>0.2721141</td>\n",
       "<td>0.1272452</td>\n",
       "<td>0.3397358</td>\n",
       "<td>0.2608125</td>\n",
       "<td>0.1154204</td></tr>\n",
       "<tr><td></td>\n",
       "<td>2018-04-18 20:37:25</td>\n",
       "<td> 7.111 sec</td>\n",
       "<td>3.0</td>\n",
       "<td>0.3374057</td>\n",
       "<td>0.2542107</td>\n",
       "<td>0.1138426</td>\n",
       "<td>0.3211995</td>\n",
       "<td>0.2444840</td>\n",
       "<td>0.1031691</td></tr>\n",
       "<tr><td></td>\n",
       "<td>2018-04-18 20:37:25</td>\n",
       "<td> 7.114 sec</td>\n",
       "<td>4.0</td>\n",
       "<td>0.3187659</td>\n",
       "<td>0.2392516</td>\n",
       "<td>0.1016117</td>\n",
       "<td>0.3040672</td>\n",
       "<td>0.2310211</td>\n",
       "<td>0.0924569</td></tr>\n",
       "<tr><td>---</td>\n",
       "<td>---</td>\n",
       "<td>---</td>\n",
       "<td>---</td>\n",
       "<td>---</td>\n",
       "<td>---</td>\n",
       "<td>---</td>\n",
       "<td>---</td>\n",
       "<td>---</td>\n",
       "<td>---</td></tr>\n",
       "<tr><td></td>\n",
       "<td>2018-04-18 20:37:27</td>\n",
       "<td> 8.528 sec</td>\n",
       "<td>296.0</td>\n",
       "<td>0.0846235</td>\n",
       "<td>0.0587248</td>\n",
       "<td>0.0071611</td>\n",
       "<td>0.1168056</td>\n",
       "<td>0.0837365</td>\n",
       "<td>0.0136436</td></tr>\n",
       "<tr><td></td>\n",
       "<td>2018-04-18 20:37:27</td>\n",
       "<td> 8.534 sec</td>\n",
       "<td>297.0</td>\n",
       "<td>0.0845789</td>\n",
       "<td>0.0586876</td>\n",
       "<td>0.0071536</td>\n",
       "<td>0.1168229</td>\n",
       "<td>0.0837767</td>\n",
       "<td>0.0136476</td></tr>\n",
       "<tr><td></td>\n",
       "<td>2018-04-18 20:37:27</td>\n",
       "<td> 8.540 sec</td>\n",
       "<td>298.0</td>\n",
       "<td>0.0845547</td>\n",
       "<td>0.0586925</td>\n",
       "<td>0.0071495</td>\n",
       "<td>0.1169527</td>\n",
       "<td>0.0838688</td>\n",
       "<td>0.0136779</td></tr>\n",
       "<tr><td></td>\n",
       "<td>2018-04-18 20:37:27</td>\n",
       "<td> 8.547 sec</td>\n",
       "<td>299.0</td>\n",
       "<td>0.0844851</td>\n",
       "<td>0.0586617</td>\n",
       "<td>0.0071377</td>\n",
       "<td>0.1168799</td>\n",
       "<td>0.0838441</td>\n",
       "<td>0.0136609</td></tr>\n",
       "<tr><td></td>\n",
       "<td>2018-04-18 20:37:27</td>\n",
       "<td> 8.554 sec</td>\n",
       "<td>300.0</td>\n",
       "<td>0.0843940</td>\n",
       "<td>0.0586126</td>\n",
       "<td>0.0071223</td>\n",
       "<td>0.1168494</td>\n",
       "<td>0.0838554</td>\n",
       "<td>0.0136538</td></tr></table></div>"
      ],
      "text/plain": [
       "     timestamp            duration    number_of_trees    training_rmse        training_mae          training_deviance     validation_rmse      validation_mae       validation_deviance\n",
       "---  -------------------  ----------  -----------------  -------------------  --------------------  --------------------  -------------------  -------------------  ---------------------\n",
       "     2018-04-18 20:37:25  7.099 sec   0.0                0.40636345067387103  0.3149378786500236    0.16513125404357562   0.3844327206603575   0.30032950343529763  0.14778851671432447\n",
       "     2018-04-18 20:37:25  7.104 sec   1.0                0.3792780026969167   0.29198906135559083   0.14385180332976233   0.3599571337603373   0.2792333797324057   0.12956913814495735\n",
       "     2018-04-18 20:37:25  7.108 sec   2.0                0.3567144443446999   0.27211412143707275   0.127245194804148     0.33973575663205996  0.26081251715942755  0.11542038433435828\n",
       "     2018-04-18 20:37:25  7.111 sec   3.0                0.3374057424292784   0.25421070194244383   0.11384263502425256   0.3211995095581794   0.24448395225424158  0.10316912494041496\n",
       "     2018-04-18 20:37:25  7.114 sec   4.0                0.3187658513673584   0.23925158882141112   0.10161166799795683   0.30406722721297924  0.23102110399919126  0.09245687866498953\n",
       "---  ---                  ---         ---                ---                  ---                   ---                   ---                  ---                  ---\n",
       "     2018-04-18 20:37:27  8.528 sec   296.0              0.08462351952191574  0.058724769592285155  0.007161140056276054  0.11680563951683173  0.08373652770255492  0.013643557422936043\n",
       "     2018-04-18 20:37:27  8.534 sec   297.0              0.0845789175109652   0.058687646865844725  0.007153593287326657  0.11682287086395696  0.08377672841979682  0.013647583156896763\n",
       "     2018-04-18 20:37:27  8.540 sec   298.0              0.08455470300373112  0.05869250011444092   0.007149497800049176  0.11695270770002963  0.08386879334833769  0.013677935838368571\n",
       "     2018-04-18 20:37:27  8.547 sec   299.0              0.08448510281391705  0.05866168689727783   0.007137732597478135  0.1168799326855828   0.08384411343552184  0.013660918664586368\n",
       "     2018-04-18 20:37:27  8.554 sec   300.0              0.08439401382632898  0.05861261653900147   0.007122349569718608  0.11684942122816587  0.08385542431467974  0.01365378724135734"
      ]
     },
     "metadata": {},
     "output_type": "display_data"
    },
    {
     "name": "stdout",
     "output_type": "stream",
     "text": [
      "\n",
      "See the whole table with table.as_data_frame()\n",
      "Variable Importances: \n"
     ]
    },
    {
     "data": {
      "text/html": [
       "<div style=\"overflow:auto\"><table style=\"width:50%\"><tr><td><b>variable</b></td>\n",
       "<td><b>relative_importance</b></td>\n",
       "<td><b>scaled_importance</b></td>\n",
       "<td><b>percentage</b></td></tr>\n",
       "<tr><td>TotalSF</td>\n",
       "<td>260.4473267</td>\n",
       "<td>1.0</td>\n",
       "<td>0.3209176</td></tr>\n",
       "<tr><td>OverallQual</td>\n",
       "<td>189.9320679</td>\n",
       "<td>0.7292533</td>\n",
       "<td>0.2340302</td></tr>\n",
       "<tr><td>GrLivArea</td>\n",
       "<td>55.9051437</td>\n",
       "<td>0.2146505</td>\n",
       "<td>0.0688851</td></tr>\n",
       "<tr><td>KitchenQual</td>\n",
       "<td>46.3608818</td>\n",
       "<td>0.1780048</td>\n",
       "<td>0.0571249</td></tr>\n",
       "<tr><td>BsmtQual</td>\n",
       "<td>38.2335243</td>\n",
       "<td>0.1467995</td>\n",
       "<td>0.0471105</td></tr>\n",
       "<tr><td>---</td>\n",
       "<td>---</td>\n",
       "<td>---</td>\n",
       "<td>---</td></tr>\n",
       "<tr><td>BldgType</td>\n",
       "<td>0.0</td>\n",
       "<td>0.0</td>\n",
       "<td>0.0</td></tr>\n",
       "<tr><td>Condition2</td>\n",
       "<td>0.0</td>\n",
       "<td>0.0</td>\n",
       "<td>0.0</td></tr>\n",
       "<tr><td>RoofStyle</td>\n",
       "<td>0.0</td>\n",
       "<td>0.0</td>\n",
       "<td>0.0</td></tr>\n",
       "<tr><td>Street</td>\n",
       "<td>0.0</td>\n",
       "<td>0.0</td>\n",
       "<td>0.0</td></tr>\n",
       "<tr><td>Utilities</td>\n",
       "<td>0.0</td>\n",
       "<td>0.0</td>\n",
       "<td>0.0</td></tr></table></div>"
      ],
      "text/plain": [
       "variable     relative_importance    scaled_importance    percentage\n",
       "-----------  ---------------------  -------------------  -------------------\n",
       "TotalSF      260.44732666015625     1.0                  0.3209175770851428\n",
       "OverallQual  189.93206787109375     0.7292532824455745   0.2340301964838211\n",
       "GrLivArea    55.90514373779297      0.21465048021299368  0.06888511203011632\n",
       "KitchenQual  46.36088180541992      0.1780048288455414   0.05712487838256668\n",
       "BsmtQual     38.233524322509766     0.1467994500569347   0.04711052382970291\n",
       "---          ---                    ---                  ---\n",
       "BldgType     0.0                    0.0                  0.0\n",
       "Condition2   0.0                    0.0                  0.0\n",
       "RoofStyle    0.0                    0.0                  0.0\n",
       "Street       0.0                    0.0                  0.0\n",
       "Utilities    0.0                    0.0                  0.0"
      ]
     },
     "metadata": {},
     "output_type": "display_data"
    },
    {
     "name": "stdout",
     "output_type": "stream",
     "text": [
      "\n",
      "See the whole table with table.as_data_frame()\n"
     ]
    },
    {
     "data": {
      "text/plain": []
     },
     "execution_count": 115,
     "metadata": {},
     "output_type": "execute_result"
    }
   ],
   "source": [
    "# show grid search results\n",
    "gsearch.show()\n",
    "\n",
    "# select best model\n",
    "gbm_model = gsearch.get_grid()[0]\n",
    "\n",
    "# print model information\n",
    "gbm_model"
   ]
  },
  {
   "cell_type": "code",
   "execution_count": 116,
   "metadata": {
    "scrolled": true
   },
   "outputs": [
    {
     "name": "stdout",
     "output_type": "stream",
     "text": [
      "gbm prediction progress: |████████████████████████████████████████████████| 100%\n",
      "gbm prediction progress: |████████████████████████████████████████████████| 100%\n"
     ]
    }
   ],
   "source": [
    "ert_preds1_val = gbm_model.predict(validation)\n",
    "ert_preds1_test = gbm_model.predict(test)"
   ]
  },
  {
   "cell_type": "markdown",
   "metadata": {},
   "source": [
    "<div class=\"alert alert-block alert-info\">\n",
    "<font color='green'>Below is our predicted log(SalePrice) based on our Random Forest Model. \n",
    "<br>\n",
    "We then convernt the predicted SalePrice to a data frame so that we can concatenate it with Id.</font>"
   ]
  },
  {
   "cell_type": "code",
   "execution_count": 117,
   "metadata": {
    "scrolled": true
   },
   "outputs": [
    {
     "data": {
      "text/html": [
       "<table>\n",
       "<thead>\n",
       "<tr><th style=\"text-align: right;\">  predict</th></tr>\n",
       "</thead>\n",
       "<tbody>\n",
       "<tr><td style=\"text-align: right;\">  11.6802</td></tr>\n",
       "<tr><td style=\"text-align: right;\">  11.9435</td></tr>\n",
       "<tr><td style=\"text-align: right;\">  12.1368</td></tr>\n",
       "<tr><td style=\"text-align: right;\">  12.1169</td></tr>\n",
       "<tr><td style=\"text-align: right;\">  12.1679</td></tr>\n",
       "<tr><td style=\"text-align: right;\">  12.0511</td></tr>\n",
       "<tr><td style=\"text-align: right;\">  12.0652</td></tr>\n",
       "<tr><td style=\"text-align: right;\">  12.0166</td></tr>\n",
       "<tr><td style=\"text-align: right;\">  12.1035</td></tr>\n",
       "<tr><td style=\"text-align: right;\">  11.7186</td></tr>\n",
       "</tbody>\n",
       "</table>"
      ]
     },
     "metadata": {},
     "output_type": "display_data"
    },
    {
     "data": {
      "text/plain": []
     },
     "execution_count": 117,
     "metadata": {},
     "output_type": "execute_result"
    }
   ],
   "source": [
    "ert_preds1_test.head()"
   ]
  },
  {
   "cell_type": "code",
   "execution_count": 118,
   "metadata": {
    "collapsed": true
   },
   "outputs": [],
   "source": [
    "a=ert_preds1_test.as_data_frame()"
   ]
  },
  {
   "cell_type": "code",
   "execution_count": 119,
   "metadata": {},
   "outputs": [
    {
     "data": {
      "text/html": [
       "<div>\n",
       "<style>\n",
       "    .dataframe thead tr:only-child th {\n",
       "        text-align: right;\n",
       "    }\n",
       "\n",
       "    .dataframe thead th {\n",
       "        text-align: left;\n",
       "    }\n",
       "\n",
       "    .dataframe tbody tr th {\n",
       "        vertical-align: top;\n",
       "    }\n",
       "</style>\n",
       "<table border=\"1\" class=\"dataframe\">\n",
       "  <thead>\n",
       "    <tr style=\"text-align: right;\">\n",
       "      <th></th>\n",
       "      <th>predict</th>\n",
       "    </tr>\n",
       "  </thead>\n",
       "  <tbody>\n",
       "    <tr>\n",
       "      <th>0</th>\n",
       "      <td>11.680236</td>\n",
       "    </tr>\n",
       "    <tr>\n",
       "      <th>1</th>\n",
       "      <td>11.943526</td>\n",
       "    </tr>\n",
       "    <tr>\n",
       "      <th>2</th>\n",
       "      <td>12.136781</td>\n",
       "    </tr>\n",
       "    <tr>\n",
       "      <th>3</th>\n",
       "      <td>12.116880</td>\n",
       "    </tr>\n",
       "    <tr>\n",
       "      <th>4</th>\n",
       "      <td>12.167925</td>\n",
       "    </tr>\n",
       "  </tbody>\n",
       "</table>\n",
       "</div>"
      ],
      "text/plain": [
       "     predict\n",
       "0  11.680236\n",
       "1  11.943526\n",
       "2  12.136781\n",
       "3  12.116880\n",
       "4  12.167925"
      ]
     },
     "execution_count": 119,
     "metadata": {},
     "output_type": "execute_result"
    }
   ],
   "source": [
    "a.head()"
   ]
  },
  {
   "cell_type": "markdown",
   "metadata": {},
   "source": [
    "<div class=\"alert alert-block alert-success\">\n",
    "<font color='darkblue'>Before we concatenate our Log(SalePrice) with Id, we need to convert our log(Saleprice) to Saleprice ($) </font>"
   ]
  },
  {
   "cell_type": "code",
   "execution_count": 120,
   "metadata": {
    "collapsed": true
   },
   "outputs": [],
   "source": [
    "a['Saleprice'] = np.exp(a['predict'])"
   ]
  },
  {
   "cell_type": "code",
   "execution_count": 121,
   "metadata": {},
   "outputs": [
    {
     "data": {
      "text/html": [
       "<div>\n",
       "<style>\n",
       "    .dataframe thead tr:only-child th {\n",
       "        text-align: right;\n",
       "    }\n",
       "\n",
       "    .dataframe thead th {\n",
       "        text-align: left;\n",
       "    }\n",
       "\n",
       "    .dataframe tbody tr th {\n",
       "        vertical-align: top;\n",
       "    }\n",
       "</style>\n",
       "<table border=\"1\" class=\"dataframe\">\n",
       "  <thead>\n",
       "    <tr style=\"text-align: right;\">\n",
       "      <th></th>\n",
       "      <th>predict</th>\n",
       "      <th>Saleprice</th>\n",
       "    </tr>\n",
       "  </thead>\n",
       "  <tbody>\n",
       "    <tr>\n",
       "      <th>0</th>\n",
       "      <td>11.680236</td>\n",
       "      <td>118212.178786</td>\n",
       "    </tr>\n",
       "    <tr>\n",
       "      <th>1</th>\n",
       "      <td>11.943526</td>\n",
       "      <td>153818.028123</td>\n",
       "    </tr>\n",
       "    <tr>\n",
       "      <th>2</th>\n",
       "      <td>12.136781</td>\n",
       "      <td>186610.838788</td>\n",
       "    </tr>\n",
       "    <tr>\n",
       "      <th>3</th>\n",
       "      <td>12.116880</td>\n",
       "      <td>182933.854347</td>\n",
       "    </tr>\n",
       "    <tr>\n",
       "      <th>4</th>\n",
       "      <td>12.167925</td>\n",
       "      <td>192514.217350</td>\n",
       "    </tr>\n",
       "  </tbody>\n",
       "</table>\n",
       "</div>"
      ],
      "text/plain": [
       "     predict      Saleprice\n",
       "0  11.680236  118212.178786\n",
       "1  11.943526  153818.028123\n",
       "2  12.136781  186610.838788\n",
       "3  12.116880  182933.854347\n",
       "4  12.167925  192514.217350"
      ]
     },
     "execution_count": 121,
     "metadata": {},
     "output_type": "execute_result"
    }
   ],
   "source": [
    "a.head()"
   ]
  },
  {
   "cell_type": "markdown",
   "metadata": {},
   "source": [
    "<div class=\"alert alert-block alert-info\">\n",
    "<font color='green'>Here, we can have a look at the statistics of  our predict log(SalePrice) and SalePrice.</font>"
   ]
  },
  {
   "cell_type": "code",
   "execution_count": 122,
   "metadata": {},
   "outputs": [
    {
     "data": {
      "text/html": [
       "<div>\n",
       "<style>\n",
       "    .dataframe thead tr:only-child th {\n",
       "        text-align: right;\n",
       "    }\n",
       "\n",
       "    .dataframe thead th {\n",
       "        text-align: left;\n",
       "    }\n",
       "\n",
       "    .dataframe tbody tr th {\n",
       "        vertical-align: top;\n",
       "    }\n",
       "</style>\n",
       "<table border=\"1\" class=\"dataframe\">\n",
       "  <thead>\n",
       "    <tr style=\"text-align: right;\">\n",
       "      <th></th>\n",
       "      <th>predict</th>\n",
       "      <th>Saleprice</th>\n",
       "    </tr>\n",
       "  </thead>\n",
       "  <tbody>\n",
       "    <tr>\n",
       "      <th>count</th>\n",
       "      <td>1459.000000</td>\n",
       "      <td>1459.000000</td>\n",
       "    </tr>\n",
       "    <tr>\n",
       "      <th>mean</th>\n",
       "      <td>12.009561</td>\n",
       "      <td>178293.743160</td>\n",
       "    </tr>\n",
       "    <tr>\n",
       "      <th>std</th>\n",
       "      <td>0.397262</td>\n",
       "      <td>78031.463894</td>\n",
       "    </tr>\n",
       "    <tr>\n",
       "      <th>min</th>\n",
       "      <td>10.786268</td>\n",
       "      <td>48352.226438</td>\n",
       "    </tr>\n",
       "    <tr>\n",
       "      <th>25%</th>\n",
       "      <td>11.765898</td>\n",
       "      <td>128784.836184</td>\n",
       "    </tr>\n",
       "    <tr>\n",
       "      <th>50%</th>\n",
       "      <td>11.964224</td>\n",
       "      <td>157035.059729</td>\n",
       "    </tr>\n",
       "    <tr>\n",
       "      <th>75%</th>\n",
       "      <td>12.234371</td>\n",
       "      <td>205740.533153</td>\n",
       "    </tr>\n",
       "    <tr>\n",
       "      <th>max</th>\n",
       "      <td>13.372883</td>\n",
       "      <td>642346.648986</td>\n",
       "    </tr>\n",
       "  </tbody>\n",
       "</table>\n",
       "</div>"
      ],
      "text/plain": [
       "           predict      Saleprice\n",
       "count  1459.000000    1459.000000\n",
       "mean     12.009561  178293.743160\n",
       "std       0.397262   78031.463894\n",
       "min      10.786268   48352.226438\n",
       "25%      11.765898  128784.836184\n",
       "50%      11.964224  157035.059729\n",
       "75%      12.234371  205740.533153\n",
       "max      13.372883  642346.648986"
      ]
     },
     "execution_count": 122,
     "metadata": {},
     "output_type": "execute_result"
    }
   ],
   "source": [
    "a.describe()"
   ]
  },
  {
   "cell_type": "markdown",
   "metadata": {},
   "source": [
    "<div class=\"alert alert-block alert-info\">\n",
    "<font color='green'>Now, we can put Id and Saleprice together, save them and submit it on Kaggle. </font>"
   ]
  },
  {
   "cell_type": "code",
   "execution_count": 123,
   "metadata": {
    "collapsed": true
   },
   "outputs": [],
   "source": [
    "Id=testa['Id']"
   ]
  },
  {
   "cell_type": "code",
   "execution_count": 124,
   "metadata": {
    "collapsed": true
   },
   "outputs": [],
   "source": [
    "SalePrice=a['Saleprice']"
   ]
  },
  {
   "cell_type": "code",
   "execution_count": 125,
   "metadata": {
    "collapsed": true
   },
   "outputs": [],
   "source": [
    "gbm_random_hyperparameter_result2=pd.concat((Id,SalePrice),axis=1)"
   ]
  },
  {
   "cell_type": "code",
   "execution_count": 126,
   "metadata": {},
   "outputs": [
    {
     "data": {
      "text/html": [
       "<div>\n",
       "<style>\n",
       "    .dataframe thead tr:only-child th {\n",
       "        text-align: right;\n",
       "    }\n",
       "\n",
       "    .dataframe thead th {\n",
       "        text-align: left;\n",
       "    }\n",
       "\n",
       "    .dataframe tbody tr th {\n",
       "        vertical-align: top;\n",
       "    }\n",
       "</style>\n",
       "<table border=\"1\" class=\"dataframe\">\n",
       "  <thead>\n",
       "    <tr style=\"text-align: right;\">\n",
       "      <th></th>\n",
       "      <th>Id</th>\n",
       "      <th>Saleprice</th>\n",
       "    </tr>\n",
       "  </thead>\n",
       "  <tbody>\n",
       "    <tr>\n",
       "      <th>0</th>\n",
       "      <td>1461</td>\n",
       "      <td>118212.178786</td>\n",
       "    </tr>\n",
       "    <tr>\n",
       "      <th>1</th>\n",
       "      <td>1462</td>\n",
       "      <td>153818.028123</td>\n",
       "    </tr>\n",
       "    <tr>\n",
       "      <th>2</th>\n",
       "      <td>1463</td>\n",
       "      <td>186610.838788</td>\n",
       "    </tr>\n",
       "    <tr>\n",
       "      <th>3</th>\n",
       "      <td>1464</td>\n",
       "      <td>182933.854347</td>\n",
       "    </tr>\n",
       "    <tr>\n",
       "      <th>4</th>\n",
       "      <td>1465</td>\n",
       "      <td>192514.217350</td>\n",
       "    </tr>\n",
       "  </tbody>\n",
       "</table>\n",
       "</div>"
      ],
      "text/plain": [
       "     Id      Saleprice\n",
       "0  1461  118212.178786\n",
       "1  1462  153818.028123\n",
       "2  1463  186610.838788\n",
       "3  1464  182933.854347\n",
       "4  1465  192514.217350"
      ]
     },
     "execution_count": 126,
     "metadata": {},
     "output_type": "execute_result"
    }
   ],
   "source": [
    "gbm_random_hyperparameter_result2.head()"
   ]
  },
  {
   "cell_type": "code",
   "execution_count": 127,
   "metadata": {
    "collapsed": true
   },
   "outputs": [],
   "source": [
    "gbm_random_hyperparameter_result2.to_csv('gbm_random_hyperparameter_result2.csv')"
   ]
  },
  {
   "cell_type": "markdown",
   "metadata": {},
   "source": [
    "### b. base line GBM"
   ]
  },
  {
   "cell_type": "code",
   "execution_count": 128,
   "metadata": {},
   "outputs": [
    {
     "name": "stdout",
     "output_type": "stream",
     "text": [
      "gbm Model Build progress: |███████████████████████████████████████████████| 100%\n"
     ]
    }
   ],
   "source": [
    "gbm = H2OGradientBoostingEstimator()\n",
    "gbm.train(x=x, y=y, training_frame=train,validation_frame=validation)"
   ]
  },
  {
   "cell_type": "code",
   "execution_count": 129,
   "metadata": {},
   "outputs": [
    {
     "name": "stdout",
     "output_type": "stream",
     "text": [
      "Model Details\n",
      "=============\n",
      "H2OGradientBoostingEstimator :  Gradient Boosting Machine\n",
      "Model Key:  GBM_model_python_1522814867933_31\n",
      "\n",
      "\n",
      "ModelMetricsRegression: gbm\n",
      "** Reported on train data. **\n",
      "\n",
      "MSE: 0.00445069424461235\n",
      "RMSE: 0.06671352370106341\n",
      "MAE: 0.04687411594390869\n",
      "RMSLE: 0.005211627646101336\n",
      "Mean Residual Deviance: 0.00445069424461235\n",
      "\n",
      "ModelMetricsRegression: gbm\n",
      "** Reported on validation data. **\n",
      "\n",
      "MSE: 0.014606440884154024\n",
      "RMSE: 0.12085710936537422\n",
      "MAE: 0.08657422647276466\n",
      "RMSLE: 0.009337815251580726\n",
      "Mean Residual Deviance: 0.014606440884154024\n",
      "Scoring History: \n"
     ]
    },
    {
     "data": {
      "text/html": [
       "<div style=\"overflow:auto\"><table style=\"width:50%\"><tr><td><b></b></td>\n",
       "<td><b>timestamp</b></td>\n",
       "<td><b>duration</b></td>\n",
       "<td><b>number_of_trees</b></td>\n",
       "<td><b>training_rmse</b></td>\n",
       "<td><b>training_mae</b></td>\n",
       "<td><b>training_deviance</b></td>\n",
       "<td><b>validation_rmse</b></td>\n",
       "<td><b>validation_mae</b></td>\n",
       "<td><b>validation_deviance</b></td></tr>\n",
       "<tr><td></td>\n",
       "<td>2018-04-18 20:38:57</td>\n",
       "<td> 0.001 sec</td>\n",
       "<td>0.0</td>\n",
       "<td>0.4063635</td>\n",
       "<td>0.3149379</td>\n",
       "<td>0.1651313</td>\n",
       "<td>0.3844327</td>\n",
       "<td>0.3003295</td>\n",
       "<td>0.1477885</td></tr>\n",
       "<tr><td></td>\n",
       "<td>2018-04-18 20:38:57</td>\n",
       "<td> 0.015 sec</td>\n",
       "<td>1.0</td>\n",
       "<td>0.3714019</td>\n",
       "<td>0.2869014</td>\n",
       "<td>0.1379394</td>\n",
       "<td>0.3529393</td>\n",
       "<td>0.2754958</td>\n",
       "<td>0.1245662</td></tr>\n",
       "<tr><td></td>\n",
       "<td>2018-04-18 20:38:57</td>\n",
       "<td> 0.023 sec</td>\n",
       "<td>2.0</td>\n",
       "<td>0.3403328</td>\n",
       "<td>0.2619567</td>\n",
       "<td>0.1158264</td>\n",
       "<td>0.3248484</td>\n",
       "<td>0.2526968</td>\n",
       "<td>0.1055265</td></tr>\n",
       "<tr><td></td>\n",
       "<td>2018-04-18 20:38:57</td>\n",
       "<td> 0.031 sec</td>\n",
       "<td>3.0</td>\n",
       "<td>0.3124615</td>\n",
       "<td>0.2394972</td>\n",
       "<td>0.0976322</td>\n",
       "<td>0.2993685</td>\n",
       "<td>0.2325236</td>\n",
       "<td>0.0896215</td></tr>\n",
       "<tr><td></td>\n",
       "<td>2018-04-18 20:38:57</td>\n",
       "<td> 0.040 sec</td>\n",
       "<td>4.0</td>\n",
       "<td>0.2879660</td>\n",
       "<td>0.2196785</td>\n",
       "<td>0.0829244</td>\n",
       "<td>0.2789144</td>\n",
       "<td>0.2158628</td>\n",
       "<td>0.0777933</td></tr>\n",
       "<tr><td>---</td>\n",
       "<td>---</td>\n",
       "<td>---</td>\n",
       "<td>---</td>\n",
       "<td>---</td>\n",
       "<td>---</td>\n",
       "<td>---</td>\n",
       "<td>---</td>\n",
       "<td>---</td>\n",
       "<td>---</td></tr>\n",
       "<tr><td></td>\n",
       "<td>2018-04-18 20:38:57</td>\n",
       "<td> 0.402 sec</td>\n",
       "<td>46.0</td>\n",
       "<td>0.0690831</td>\n",
       "<td>0.0485774</td>\n",
       "<td>0.0047725</td>\n",
       "<td>0.1215416</td>\n",
       "<td>0.0872031</td>\n",
       "<td>0.0147724</td></tr>\n",
       "<tr><td></td>\n",
       "<td>2018-04-18 20:38:57</td>\n",
       "<td> 0.411 sec</td>\n",
       "<td>47.0</td>\n",
       "<td>0.0681628</td>\n",
       "<td>0.0479648</td>\n",
       "<td>0.0046462</td>\n",
       "<td>0.1213127</td>\n",
       "<td>0.0868159</td>\n",
       "<td>0.0147168</td></tr>\n",
       "<tr><td></td>\n",
       "<td>2018-04-18 20:38:57</td>\n",
       "<td> 0.419 sec</td>\n",
       "<td>48.0</td>\n",
       "<td>0.0675920</td>\n",
       "<td>0.0475363</td>\n",
       "<td>0.0045687</td>\n",
       "<td>0.1210736</td>\n",
       "<td>0.0867121</td>\n",
       "<td>0.0146588</td></tr>\n",
       "<tr><td></td>\n",
       "<td>2018-04-18 20:38:57</td>\n",
       "<td> 0.429 sec</td>\n",
       "<td>49.0</td>\n",
       "<td>0.0673122</td>\n",
       "<td>0.0473367</td>\n",
       "<td>0.0045309</td>\n",
       "<td>0.1208308</td>\n",
       "<td>0.0865749</td>\n",
       "<td>0.0146001</td></tr>\n",
       "<tr><td></td>\n",
       "<td>2018-04-18 20:38:57</td>\n",
       "<td> 0.438 sec</td>\n",
       "<td>50.0</td>\n",
       "<td>0.0667135</td>\n",
       "<td>0.0468741</td>\n",
       "<td>0.0044507</td>\n",
       "<td>0.1208571</td>\n",
       "<td>0.0865742</td>\n",
       "<td>0.0146064</td></tr></table></div>"
      ],
      "text/plain": [
       "     timestamp            duration    number_of_trees    training_rmse        training_mae         training_deviance      validation_rmse      validation_mae       validation_deviance\n",
       "---  -------------------  ----------  -----------------  -------------------  -------------------  ---------------------  -------------------  -------------------  ---------------------\n",
       "     2018-04-18 20:38:57  0.001 sec   0.0                0.40636345067387103  0.3149378786500236   0.16513125404357562    0.3844327206603575   0.30032950343529763  0.14778851671432447\n",
       "     2018-04-18 20:38:57  0.015 sec   1.0                0.3714019302607548   0.286901403427124    0.13793939380141457    0.3529393341670529   0.2754957707972864   0.12456617360228266\n",
       "     2018-04-18 20:38:57  0.023 sec   2.0                0.3403328161835825   0.2619567232131958   0.11582642577144815    0.3248484279413705   0.25269678931446315  0.10552650113597978\n",
       "     2018-04-18 20:38:57  0.031 sec   3.0                0.3124615030094511   0.23949722862243653  0.0976321908629252     0.2993684687203937   0.23252355373667977  0.08962148006399334\n",
       "     2018-04-18 20:38:57  0.040 sec   4.0                0.28796600955408963  0.21967850589752197  0.08292442265850605    0.2789144467993618   0.2158628479046473   0.077793268633394\n",
       "---  ---                  ---         ---                ---                  ---                  ---                    ---                  ---                  ---\n",
       "     2018-04-18 20:38:57  0.402 sec   46.0               0.06908308128261861  0.04857744026184082  0.00477247211950089    0.1215415897874333   0.08720314879533826  0.014772358048056712\n",
       "     2018-04-18 20:38:57  0.411 sec   47.0               0.06816281724047397  0.04796476078033447  0.0046461696541582565  0.12131267067261386  0.0868159100351561   0.014716764065722069\n",
       "     2018-04-18 20:38:57  0.419 sec   48.0               0.06759195908643872  0.04753631591796875  0.004568672933142807   0.12107363958248452  0.08671206976890604  0.01465882620174936\n",
       "     2018-04-18 20:38:57  0.429 sec   49.0               0.0673121833665978   0.047336745262146    0.004530930029578485   0.12083079352603418  0.0865748937425937   0.014600080664131102\n",
       "     2018-04-18 20:38:57  0.438 sec   50.0               0.06671352370106341  0.04687411594390869  0.00445069424461235    0.12085710936537422  0.08657422647276466  0.014606440884154024"
      ]
     },
     "metadata": {},
     "output_type": "display_data"
    },
    {
     "name": "stdout",
     "output_type": "stream",
     "text": [
      "\n",
      "See the whole table with table.as_data_frame()\n",
      "Variable Importances: \n"
     ]
    },
    {
     "data": {
      "text/html": [
       "<div style=\"overflow:auto\"><table style=\"width:50%\"><tr><td><b>variable</b></td>\n",
       "<td><b>relative_importance</b></td>\n",
       "<td><b>scaled_importance</b></td>\n",
       "<td><b>percentage</b></td></tr>\n",
       "<tr><td>OverallQual</td>\n",
       "<td>347.5245972</td>\n",
       "<td>1.0</td>\n",
       "<td>0.4109378</td></tr>\n",
       "<tr><td>TotalSF</td>\n",
       "<td>299.2709351</td>\n",
       "<td>0.8611504</td>\n",
       "<td>0.3538792</td></tr>\n",
       "<tr><td>GrLivArea</td>\n",
       "<td>26.5048313</td>\n",
       "<td>0.0762675</td>\n",
       "<td>0.0313412</td></tr>\n",
       "<tr><td>CentralAir</td>\n",
       "<td>17.1024590</td>\n",
       "<td>0.0492122</td>\n",
       "<td>0.0202232</td></tr>\n",
       "<tr><td>BsmtFinSF1</td>\n",
       "<td>13.6260614</td>\n",
       "<td>0.0392089</td>\n",
       "<td>0.0161124</td></tr>\n",
       "<tr><td>---</td>\n",
       "<td>---</td>\n",
       "<td>---</td>\n",
       "<td>---</td></tr>\n",
       "<tr><td>Condition2</td>\n",
       "<td>0.0</td>\n",
       "<td>0.0</td>\n",
       "<td>0.0</td></tr>\n",
       "<tr><td>Foundation</td>\n",
       "<td>0.0</td>\n",
       "<td>0.0</td>\n",
       "<td>0.0</td></tr>\n",
       "<tr><td>Heating</td>\n",
       "<td>0.0</td>\n",
       "<td>0.0</td>\n",
       "<td>0.0</td></tr>\n",
       "<tr><td>Street</td>\n",
       "<td>0.0</td>\n",
       "<td>0.0</td>\n",
       "<td>0.0</td></tr>\n",
       "<tr><td>Utilities</td>\n",
       "<td>0.0</td>\n",
       "<td>0.0</td>\n",
       "<td>0.0</td></tr></table></div>"
      ],
      "text/plain": [
       "variable     relative_importance    scaled_importance    percentage\n",
       "-----------  ---------------------  -------------------  --------------------\n",
       "OverallQual  347.52459716796875     1.0                  0.4109378016414029\n",
       "TotalSF      299.27093505859375     0.8611503689160379   0.35387923948503974\n",
       "GrLivArea    26.504831314086914     0.07626749740904341  0.0313411977219637\n",
       "CentralAir   17.102458953857422     0.04921222582006564  0.020223163892378063\n",
       "BsmtFinSF1   13.62606143951416      0.03920891226277226  0.01611242421001428\n",
       "---          ---                    ---                  ---\n",
       "Condition2   0.0                    0.0                  0.0\n",
       "Foundation   0.0                    0.0                  0.0\n",
       "Heating      0.0                    0.0                  0.0\n",
       "Street       0.0                    0.0                  0.0\n",
       "Utilities    0.0                    0.0                  0.0"
      ]
     },
     "metadata": {},
     "output_type": "display_data"
    },
    {
     "name": "stdout",
     "output_type": "stream",
     "text": [
      "\n",
      "See the whole table with table.as_data_frame()\n"
     ]
    },
    {
     "data": {
      "text/plain": []
     },
     "execution_count": 129,
     "metadata": {},
     "output_type": "execute_result"
    }
   ],
   "source": [
    "gbm"
   ]
  },
  {
   "cell_type": "code",
   "execution_count": 130,
   "metadata": {},
   "outputs": [
    {
     "name": "stdout",
     "output_type": "stream",
     "text": [
      "gbm prediction progress: |████████████████████████████████████████████████| 100%\n",
      "gbm prediction progress: |████████████████████████████████████████████████| 100%\n"
     ]
    }
   ],
   "source": [
    "ert_preds1_val = gbm.predict(validation)\n",
    "ert_preds1_test = gbm.predict(test)"
   ]
  },
  {
   "cell_type": "markdown",
   "metadata": {},
   "source": [
    "<div class=\"alert alert-block alert-info\">\n",
    "<font color='green'>Below is our predicted log(SalePrice) based on our Random Forest Model. \n",
    "<br>\n",
    "We then convernt the predicted SalePrice to a data frame so that we can concatenate it with Id.</font>"
   ]
  },
  {
   "cell_type": "code",
   "execution_count": 131,
   "metadata": {
    "scrolled": true
   },
   "outputs": [
    {
     "data": {
      "text/html": [
       "<table>\n",
       "<thead>\n",
       "<tr><th style=\"text-align: right;\">  predict</th></tr>\n",
       "</thead>\n",
       "<tbody>\n",
       "<tr><td style=\"text-align: right;\">  11.6401</td></tr>\n",
       "<tr><td style=\"text-align: right;\">  11.9666</td></tr>\n",
       "<tr><td style=\"text-align: right;\">  12.1465</td></tr>\n",
       "<tr><td style=\"text-align: right;\">  12.1329</td></tr>\n",
       "<tr><td style=\"text-align: right;\">  12.1691</td></tr>\n",
       "<tr><td style=\"text-align: right;\">  12.0915</td></tr>\n",
       "<tr><td style=\"text-align: right;\">  12.0781</td></tr>\n",
       "<tr><td style=\"text-align: right;\">  12.0604</td></tr>\n",
       "<tr><td style=\"text-align: right;\">  12.1641</td></tr>\n",
       "<tr><td style=\"text-align: right;\">  11.7017</td></tr>\n",
       "</tbody>\n",
       "</table>"
      ]
     },
     "metadata": {},
     "output_type": "display_data"
    },
    {
     "data": {
      "text/plain": []
     },
     "execution_count": 131,
     "metadata": {},
     "output_type": "execute_result"
    }
   ],
   "source": [
    "ert_preds1_test.head()"
   ]
  },
  {
   "cell_type": "code",
   "execution_count": 132,
   "metadata": {
    "collapsed": true
   },
   "outputs": [],
   "source": [
    "a=ert_preds1_test.as_data_frame()"
   ]
  },
  {
   "cell_type": "code",
   "execution_count": 133,
   "metadata": {},
   "outputs": [
    {
     "data": {
      "text/html": [
       "<div>\n",
       "<style>\n",
       "    .dataframe thead tr:only-child th {\n",
       "        text-align: right;\n",
       "    }\n",
       "\n",
       "    .dataframe thead th {\n",
       "        text-align: left;\n",
       "    }\n",
       "\n",
       "    .dataframe tbody tr th {\n",
       "        vertical-align: top;\n",
       "    }\n",
       "</style>\n",
       "<table border=\"1\" class=\"dataframe\">\n",
       "  <thead>\n",
       "    <tr style=\"text-align: right;\">\n",
       "      <th></th>\n",
       "      <th>predict</th>\n",
       "    </tr>\n",
       "  </thead>\n",
       "  <tbody>\n",
       "    <tr>\n",
       "      <th>0</th>\n",
       "      <td>11.640092</td>\n",
       "    </tr>\n",
       "    <tr>\n",
       "      <th>1</th>\n",
       "      <td>11.966594</td>\n",
       "    </tr>\n",
       "    <tr>\n",
       "      <th>2</th>\n",
       "      <td>12.146459</td>\n",
       "    </tr>\n",
       "    <tr>\n",
       "      <th>3</th>\n",
       "      <td>12.132919</td>\n",
       "    </tr>\n",
       "    <tr>\n",
       "      <th>4</th>\n",
       "      <td>12.169085</td>\n",
       "    </tr>\n",
       "  </tbody>\n",
       "</table>\n",
       "</div>"
      ],
      "text/plain": [
       "     predict\n",
       "0  11.640092\n",
       "1  11.966594\n",
       "2  12.146459\n",
       "3  12.132919\n",
       "4  12.169085"
      ]
     },
     "execution_count": 133,
     "metadata": {},
     "output_type": "execute_result"
    }
   ],
   "source": [
    "a.head()"
   ]
  },
  {
   "cell_type": "markdown",
   "metadata": {},
   "source": [
    "<div class=\"alert alert-block alert-success\">\n",
    "<font color='darkblue'>Before we concatenate our Log(SalePrice) with Id, we need to convert our log(Saleprice) to Saleprice ($) </font>"
   ]
  },
  {
   "cell_type": "code",
   "execution_count": 134,
   "metadata": {
    "collapsed": true
   },
   "outputs": [],
   "source": [
    "a['Saleprice'] = np.exp(a['predict'])"
   ]
  },
  {
   "cell_type": "code",
   "execution_count": 135,
   "metadata": {},
   "outputs": [
    {
     "data": {
      "text/html": [
       "<div>\n",
       "<style>\n",
       "    .dataframe thead tr:only-child th {\n",
       "        text-align: right;\n",
       "    }\n",
       "\n",
       "    .dataframe thead th {\n",
       "        text-align: left;\n",
       "    }\n",
       "\n",
       "    .dataframe tbody tr th {\n",
       "        vertical-align: top;\n",
       "    }\n",
       "</style>\n",
       "<table border=\"1\" class=\"dataframe\">\n",
       "  <thead>\n",
       "    <tr style=\"text-align: right;\">\n",
       "      <th></th>\n",
       "      <th>predict</th>\n",
       "      <th>Saleprice</th>\n",
       "    </tr>\n",
       "  </thead>\n",
       "  <tbody>\n",
       "    <tr>\n",
       "      <th>0</th>\n",
       "      <td>11.640092</td>\n",
       "      <td>113560.652773</td>\n",
       "    </tr>\n",
       "    <tr>\n",
       "      <th>1</th>\n",
       "      <td>11.966594</td>\n",
       "      <td>157407.616499</td>\n",
       "    </tr>\n",
       "    <tr>\n",
       "      <th>2</th>\n",
       "      <td>12.146459</td>\n",
       "      <td>188425.645693</td>\n",
       "    </tr>\n",
       "    <tr>\n",
       "      <th>3</th>\n",
       "      <td>12.132919</td>\n",
       "      <td>185891.512932</td>\n",
       "    </tr>\n",
       "    <tr>\n",
       "      <th>4</th>\n",
       "      <td>12.169085</td>\n",
       "      <td>192737.542390</td>\n",
       "    </tr>\n",
       "  </tbody>\n",
       "</table>\n",
       "</div>"
      ],
      "text/plain": [
       "     predict      Saleprice\n",
       "0  11.640092  113560.652773\n",
       "1  11.966594  157407.616499\n",
       "2  12.146459  188425.645693\n",
       "3  12.132919  185891.512932\n",
       "4  12.169085  192737.542390"
      ]
     },
     "execution_count": 135,
     "metadata": {},
     "output_type": "execute_result"
    }
   ],
   "source": [
    "a.head()"
   ]
  },
  {
   "cell_type": "markdown",
   "metadata": {},
   "source": [
    "<div class=\"alert alert-block alert-info\">\n",
    "<font color='green'>Here, we can have a look at the statistics of  our predict log(SalePrice) and SalePrice.</font>"
   ]
  },
  {
   "cell_type": "code",
   "execution_count": 136,
   "metadata": {},
   "outputs": [
    {
     "data": {
      "text/html": [
       "<div>\n",
       "<style>\n",
       "    .dataframe thead tr:only-child th {\n",
       "        text-align: right;\n",
       "    }\n",
       "\n",
       "    .dataframe thead th {\n",
       "        text-align: left;\n",
       "    }\n",
       "\n",
       "    .dataframe tbody tr th {\n",
       "        vertical-align: top;\n",
       "    }\n",
       "</style>\n",
       "<table border=\"1\" class=\"dataframe\">\n",
       "  <thead>\n",
       "    <tr style=\"text-align: right;\">\n",
       "      <th></th>\n",
       "      <th>predict</th>\n",
       "      <th>Saleprice</th>\n",
       "    </tr>\n",
       "  </thead>\n",
       "  <tbody>\n",
       "    <tr>\n",
       "      <th>count</th>\n",
       "      <td>1459.000000</td>\n",
       "      <td>1459.000000</td>\n",
       "    </tr>\n",
       "    <tr>\n",
       "      <th>mean</th>\n",
       "      <td>12.007411</td>\n",
       "      <td>177537.330396</td>\n",
       "    </tr>\n",
       "    <tr>\n",
       "      <th>std</th>\n",
       "      <td>0.391141</td>\n",
       "      <td>77107.972772</td>\n",
       "    </tr>\n",
       "    <tr>\n",
       "      <th>min</th>\n",
       "      <td>10.801036</td>\n",
       "      <td>49071.605609</td>\n",
       "    </tr>\n",
       "    <tr>\n",
       "      <th>25%</th>\n",
       "      <td>11.764602</td>\n",
       "      <td>128618.011012</td>\n",
       "    </tr>\n",
       "    <tr>\n",
       "      <th>50%</th>\n",
       "      <td>11.957457</td>\n",
       "      <td>155975.980962</td>\n",
       "    </tr>\n",
       "    <tr>\n",
       "      <th>75%</th>\n",
       "      <td>12.238087</td>\n",
       "      <td>206506.478493</td>\n",
       "    </tr>\n",
       "    <tr>\n",
       "      <th>max</th>\n",
       "      <td>13.174888</td>\n",
       "      <td>526964.047014</td>\n",
       "    </tr>\n",
       "  </tbody>\n",
       "</table>\n",
       "</div>"
      ],
      "text/plain": [
       "           predict      Saleprice\n",
       "count  1459.000000    1459.000000\n",
       "mean     12.007411  177537.330396\n",
       "std       0.391141   77107.972772\n",
       "min      10.801036   49071.605609\n",
       "25%      11.764602  128618.011012\n",
       "50%      11.957457  155975.980962\n",
       "75%      12.238087  206506.478493\n",
       "max      13.174888  526964.047014"
      ]
     },
     "execution_count": 136,
     "metadata": {},
     "output_type": "execute_result"
    }
   ],
   "source": [
    "a.describe()"
   ]
  },
  {
   "cell_type": "markdown",
   "metadata": {},
   "source": [
    "<div class=\"alert alert-block alert-info\">\n",
    "<font color='green'>Now, we can put Id and Saleprice together, save them and submit it on Kaggle. </font>"
   ]
  },
  {
   "cell_type": "code",
   "execution_count": 137,
   "metadata": {
    "collapsed": true
   },
   "outputs": [],
   "source": [
    "Id=testa['Id']"
   ]
  },
  {
   "cell_type": "code",
   "execution_count": 138,
   "metadata": {
    "collapsed": true
   },
   "outputs": [],
   "source": [
    "SalePrice=a['Saleprice']"
   ]
  },
  {
   "cell_type": "code",
   "execution_count": 139,
   "metadata": {
    "collapsed": true
   },
   "outputs": [],
   "source": [
    "gbm_baseline_result=pd.concat((Id,SalePrice),axis=1)"
   ]
  },
  {
   "cell_type": "code",
   "execution_count": 140,
   "metadata": {},
   "outputs": [
    {
     "data": {
      "text/html": [
       "<div>\n",
       "<style>\n",
       "    .dataframe thead tr:only-child th {\n",
       "        text-align: right;\n",
       "    }\n",
       "\n",
       "    .dataframe thead th {\n",
       "        text-align: left;\n",
       "    }\n",
       "\n",
       "    .dataframe tbody tr th {\n",
       "        vertical-align: top;\n",
       "    }\n",
       "</style>\n",
       "<table border=\"1\" class=\"dataframe\">\n",
       "  <thead>\n",
       "    <tr style=\"text-align: right;\">\n",
       "      <th></th>\n",
       "      <th>Id</th>\n",
       "      <th>Saleprice</th>\n",
       "    </tr>\n",
       "  </thead>\n",
       "  <tbody>\n",
       "    <tr>\n",
       "      <th>0</th>\n",
       "      <td>1461</td>\n",
       "      <td>113560.652773</td>\n",
       "    </tr>\n",
       "    <tr>\n",
       "      <th>1</th>\n",
       "      <td>1462</td>\n",
       "      <td>157407.616499</td>\n",
       "    </tr>\n",
       "    <tr>\n",
       "      <th>2</th>\n",
       "      <td>1463</td>\n",
       "      <td>188425.645693</td>\n",
       "    </tr>\n",
       "    <tr>\n",
       "      <th>3</th>\n",
       "      <td>1464</td>\n",
       "      <td>185891.512932</td>\n",
       "    </tr>\n",
       "    <tr>\n",
       "      <th>4</th>\n",
       "      <td>1465</td>\n",
       "      <td>192737.542390</td>\n",
       "    </tr>\n",
       "  </tbody>\n",
       "</table>\n",
       "</div>"
      ],
      "text/plain": [
       "     Id      Saleprice\n",
       "0  1461  113560.652773\n",
       "1  1462  157407.616499\n",
       "2  1463  188425.645693\n",
       "3  1464  185891.512932\n",
       "4  1465  192737.542390"
      ]
     },
     "execution_count": 140,
     "metadata": {},
     "output_type": "execute_result"
    }
   ],
   "source": [
    "gbm_baseline_result.head()"
   ]
  },
  {
   "cell_type": "code",
   "execution_count": 141,
   "metadata": {
    "collapsed": true
   },
   "outputs": [],
   "source": [
    "gbm_baseline_result.to_csv('gbm_baseline_result.csv')"
   ]
  },
  {
   "cell_type": "markdown",
   "metadata": {},
   "source": [
    "### c. GBM + Cross-validation"
   ]
  },
  {
   "cell_type": "code",
   "execution_count": 142,
   "metadata": {},
   "outputs": [
    {
     "name": "stdout",
     "output_type": "stream",
     "text": [
      "gbm Model Build progress: |███████████████████████████████████████████████| 100%\n"
     ]
    }
   ],
   "source": [
    "cv_gbm = H2OGradientBoostingEstimator(nfolds = 4, seed = 0xDECAF)\n",
    "cv_gbm.train(x=x, y=y, training_frame=train.rbind(validation))\n",
    "cv_summary = cv_gbm.cross_validation_metrics_summary().as_data_frame()"
   ]
  },
  {
   "cell_type": "code",
   "execution_count": 143,
   "metadata": {},
   "outputs": [
    {
     "name": "stdout",
     "output_type": "stream",
     "text": [
      "Model Details\n",
      "=============\n",
      "H2OGradientBoostingEstimator :  Gradient Boosting Machine\n",
      "Model Key:  GBM_model_python_1522814867933_32\n",
      "\n",
      "\n",
      "ModelMetricsRegression: gbm\n",
      "** Reported on train data. **\n",
      "\n",
      "MSE: 0.0052863281058227775\n",
      "RMSE: 0.07270713930435427\n",
      "MAE: 0.05151085271429787\n",
      "RMSLE: 0.005661558373142255\n",
      "Mean Residual Deviance: 0.0052863281058227775\n",
      "\n",
      "ModelMetricsRegression: gbm\n",
      "** Reported on cross-validation data. **\n",
      "\n",
      "MSE: 0.016586706223844266\n",
      "RMSE: 0.12878938707767915\n",
      "MAE: 0.08929007607927814\n",
      "RMSLE: 0.010056986170426175\n",
      "Mean Residual Deviance: 0.016586706223844266\n",
      "Cross-Validation Metrics Summary: \n"
     ]
    },
    {
     "data": {
      "text/html": [
       "<div style=\"overflow:auto\"><table style=\"width:50%\"><tr><td><b></b></td>\n",
       "<td><b>mean</b></td>\n",
       "<td><b>sd</b></td>\n",
       "<td><b>cv_1_valid</b></td>\n",
       "<td><b>cv_2_valid</b></td>\n",
       "<td><b>cv_3_valid</b></td>\n",
       "<td><b>cv_4_valid</b></td></tr>\n",
       "<tr><td>mae</td>\n",
       "<td>0.0893129</td>\n",
       "<td>0.0024589</td>\n",
       "<td>0.0840894</td>\n",
       "<td>0.0882309</td>\n",
       "<td>0.0923368</td>\n",
       "<td>0.0925944</td></tr>\n",
       "<tr><td>mean_residual_deviance</td>\n",
       "<td>0.0165923</td>\n",
       "<td>0.0013368</td>\n",
       "<td>0.0138468</td>\n",
       "<td>0.0160351</td>\n",
       "<td>0.0189490</td>\n",
       "<td>0.0175381</td></tr>\n",
       "<tr><td>mse</td>\n",
       "<td>0.0165923</td>\n",
       "<td>0.0013368</td>\n",
       "<td>0.0138468</td>\n",
       "<td>0.0160351</td>\n",
       "<td>0.0189490</td>\n",
       "<td>0.0175381</td></tr>\n",
       "<tr><td>r2</td>\n",
       "<td>0.8958585</td>\n",
       "<td>0.0067893</td>\n",
       "<td>0.9062904</td>\n",
       "<td>0.9040871</td>\n",
       "<td>0.8895376</td>\n",
       "<td>0.8835188</td></tr>\n",
       "<tr><td>residual_deviance</td>\n",
       "<td>0.0165923</td>\n",
       "<td>0.0013368</td>\n",
       "<td>0.0138468</td>\n",
       "<td>0.0160351</td>\n",
       "<td>0.0189490</td>\n",
       "<td>0.0175381</td></tr>\n",
       "<tr><td>rmse</td>\n",
       "<td>0.1285973</td>\n",
       "<td>0.0052438</td>\n",
       "<td>0.1176724</td>\n",
       "<td>0.1266297</td>\n",
       "<td>0.1376555</td>\n",
       "<td>0.1324314</td></tr>\n",
       "<tr><td>rmsle</td>\n",
       "<td>0.0100386</td>\n",
       "<td>0.0004336</td>\n",
       "<td>0.0091095</td>\n",
       "<td>0.0100001</td>\n",
       "<td>0.0108150</td>\n",
       "<td>0.0102300</td></tr></table></div>"
      ],
      "text/plain": [
       "                        mean       sd          cv_1_valid    cv_2_valid    cv_3_valid    cv_4_valid\n",
       "----------------------  ---------  ----------  ------------  ------------  ------------  ------------\n",
       "mae                     0.0893129  0.00245886  0.0840894     0.0882309     0.0923368     0.0925944\n",
       "mean_residual_deviance  0.0165923  0.00133683  0.0138468     0.0160351     0.018949      0.0175381\n",
       "mse                     0.0165923  0.00133683  0.0138468     0.0160351     0.018949      0.0175381\n",
       "r2                      0.895858   0.00678928  0.90629       0.904087      0.889538      0.883519\n",
       "residual_deviance       0.0165923  0.00133683  0.0138468     0.0160351     0.018949      0.0175381\n",
       "rmse                    0.128597   0.00524376  0.117672      0.12663       0.137656      0.132431\n",
       "rmsle                   0.0100386  0.00043362  0.00910945    0.0100001     0.010815      0.01023"
      ]
     },
     "metadata": {},
     "output_type": "display_data"
    },
    {
     "name": "stdout",
     "output_type": "stream",
     "text": [
      "Scoring History: \n"
     ]
    },
    {
     "data": {
      "text/html": [
       "<div style=\"overflow:auto\"><table style=\"width:50%\"><tr><td><b></b></td>\n",
       "<td><b>timestamp</b></td>\n",
       "<td><b>duration</b></td>\n",
       "<td><b>number_of_trees</b></td>\n",
       "<td><b>training_rmse</b></td>\n",
       "<td><b>training_mae</b></td>\n",
       "<td><b>training_deviance</b></td></tr>\n",
       "<tr><td></td>\n",
       "<td>2018-04-18 20:39:03</td>\n",
       "<td> 2.699 sec</td>\n",
       "<td>0.0</td>\n",
       "<td>0.3995757</td>\n",
       "<td>0.3101343</td>\n",
       "<td>0.1596608</td></tr>\n",
       "<tr><td></td>\n",
       "<td>2018-04-18 20:39:03</td>\n",
       "<td> 2.715 sec</td>\n",
       "<td>1.0</td>\n",
       "<td>0.3658404</td>\n",
       "<td>0.2829835</td>\n",
       "<td>0.1338392</td></tr>\n",
       "<tr><td></td>\n",
       "<td>2018-04-18 20:39:03</td>\n",
       "<td> 2.731 sec</td>\n",
       "<td>2.0</td>\n",
       "<td>0.3357823</td>\n",
       "<td>0.2589345</td>\n",
       "<td>0.1127498</td></tr>\n",
       "<tr><td></td>\n",
       "<td>2018-04-18 20:39:03</td>\n",
       "<td> 2.742 sec</td>\n",
       "<td>3.0</td>\n",
       "<td>0.3088753</td>\n",
       "<td>0.2374930</td>\n",
       "<td>0.0954040</td></tr>\n",
       "<tr><td></td>\n",
       "<td>2018-04-18 20:39:03</td>\n",
       "<td> 2.752 sec</td>\n",
       "<td>4.0</td>\n",
       "<td>0.2848046</td>\n",
       "<td>0.2178499</td>\n",
       "<td>0.0811136</td></tr>\n",
       "<tr><td>---</td>\n",
       "<td>---</td>\n",
       "<td>---</td>\n",
       "<td>---</td>\n",
       "<td>---</td>\n",
       "<td>---</td>\n",
       "<td>---</td></tr>\n",
       "<tr><td></td>\n",
       "<td>2018-04-18 20:39:03</td>\n",
       "<td> 3.238 sec</td>\n",
       "<td>46.0</td>\n",
       "<td>0.0748673</td>\n",
       "<td>0.0530735</td>\n",
       "<td>0.0056051</td></tr>\n",
       "<tr><td></td>\n",
       "<td>2018-04-18 20:39:03</td>\n",
       "<td> 3.248 sec</td>\n",
       "<td>47.0</td>\n",
       "<td>0.0743636</td>\n",
       "<td>0.0527136</td>\n",
       "<td>0.0055299</td></tr>\n",
       "<tr><td></td>\n",
       "<td>2018-04-18 20:39:03</td>\n",
       "<td> 3.258 sec</td>\n",
       "<td>48.0</td>\n",
       "<td>0.0739244</td>\n",
       "<td>0.0524104</td>\n",
       "<td>0.0054648</td></tr>\n",
       "<tr><td></td>\n",
       "<td>2018-04-18 20:39:03</td>\n",
       "<td> 3.271 sec</td>\n",
       "<td>49.0</td>\n",
       "<td>0.0733101</td>\n",
       "<td>0.0519970</td>\n",
       "<td>0.0053744</td></tr>\n",
       "<tr><td></td>\n",
       "<td>2018-04-18 20:39:03</td>\n",
       "<td> 3.282 sec</td>\n",
       "<td>50.0</td>\n",
       "<td>0.0727071</td>\n",
       "<td>0.0515109</td>\n",
       "<td>0.0052863</td></tr></table></div>"
      ],
      "text/plain": [
       "     timestamp            duration    number_of_trees    training_rmse        training_mae         training_deviance\n",
       "---  -------------------  ----------  -----------------  -------------------  -------------------  ---------------------\n",
       "     2018-04-18 20:39:03  2.699 sec   0.0                0.39957573215404474  0.3101343473800082   0.15966076572644092\n",
       "     2018-04-18 20:39:03  2.715 sec   1.0                0.36584044607130534  0.28298351107310854  0.13383923198165168\n",
       "     2018-04-18 20:39:03  2.731 sec   2.0                0.3357823312558666   0.25893448017261644  0.11274977398362454\n",
       "     2018-04-18 20:39:03  2.742 sec   3.0                0.3088753266514501   0.2374930126676834   0.09540396741404\n",
       "     2018-04-18 20:39:03  2.752 sec   4.0                0.2848045775662422   0.2178498524533705   0.08111364740268567\n",
       "---  ---                  ---         ---                ---                  ---                  ---\n",
       "     2018-04-18 20:39:03  3.238 sec   46.0               0.07486732657277077  0.05307352134066191  0.005605116588153909\n",
       "     2018-04-18 20:39:03  3.248 sec   47.0               0.07436358914247745  0.05271356946319873  0.00552994339015119\n",
       "     2018-04-18 20:39:03  3.258 sec   48.0               0.07392443974736894  0.05241041615176103  0.0054648227919623805\n",
       "     2018-04-18 20:39:03  3.271 sec   49.0               0.07331012805139252  0.05199703234867468  0.005374374874911569\n",
       "     2018-04-18 20:39:03  3.282 sec   50.0               0.07270713930435427  0.05151085271429787  0.0052863281058227775"
      ]
     },
     "metadata": {},
     "output_type": "display_data"
    },
    {
     "name": "stdout",
     "output_type": "stream",
     "text": [
      "\n",
      "See the whole table with table.as_data_frame()\n",
      "Variable Importances: \n"
     ]
    },
    {
     "data": {
      "text/html": [
       "<div style=\"overflow:auto\"><table style=\"width:50%\"><tr><td><b>variable</b></td>\n",
       "<td><b>relative_importance</b></td>\n",
       "<td><b>scaled_importance</b></td>\n",
       "<td><b>percentage</b></td></tr>\n",
       "<tr><td>OverallQual</td>\n",
       "<td>514.7850952</td>\n",
       "<td>1.0</td>\n",
       "<td>0.4345566</td></tr>\n",
       "<tr><td>TotalSF</td>\n",
       "<td>382.0739441</td>\n",
       "<td>0.7422009</td>\n",
       "<td>0.3225283</td></tr>\n",
       "<tr><td>GrLivArea</td>\n",
       "<td>26.1442242</td>\n",
       "<td>0.0507867</td>\n",
       "<td>0.0220697</td></tr>\n",
       "<tr><td>CentralAir</td>\n",
       "<td>23.5079212</td>\n",
       "<td>0.0456655</td>\n",
       "<td>0.0198442</td></tr>\n",
       "<tr><td>KitchenQual</td>\n",
       "<td>20.5253448</td>\n",
       "<td>0.0398717</td>\n",
       "<td>0.0173265</td></tr>\n",
       "<tr><td>---</td>\n",
       "<td>---</td>\n",
       "<td>---</td>\n",
       "<td>---</td></tr>\n",
       "<tr><td>BsmtFinType2</td>\n",
       "<td>0.0</td>\n",
       "<td>0.0</td>\n",
       "<td>0.0</td></tr>\n",
       "<tr><td>Condition2</td>\n",
       "<td>0.0</td>\n",
       "<td>0.0</td>\n",
       "<td>0.0</td></tr>\n",
       "<tr><td>RoofMatl</td>\n",
       "<td>0.0</td>\n",
       "<td>0.0</td>\n",
       "<td>0.0</td></tr>\n",
       "<tr><td>Street</td>\n",
       "<td>0.0</td>\n",
       "<td>0.0</td>\n",
       "<td>0.0</td></tr>\n",
       "<tr><td>Utilities</td>\n",
       "<td>0.0</td>\n",
       "<td>0.0</td>\n",
       "<td>0.0</td></tr></table></div>"
      ],
      "text/plain": [
       "variable      relative_importance    scaled_importance    percentage\n",
       "------------  ---------------------  -------------------  --------------------\n",
       "OverallQual   514.7850952148438      1.0                  0.4345565962181637\n",
       "TotalSF       382.0739440917969      0.7422008672033126   0.32252828256204086\n",
       "GrLivArea     26.144224166870117     0.05078667663437093  0.022069685331464774\n",
       "CentralAir    23.50792121887207      0.04566550476575302  0.019844246315589967\n",
       "KitchenQual   20.525344848632812     0.03987167662666424  0.01732650008039453\n",
       "---           ---                    ---                  ---\n",
       "BsmtFinType2  0.0                    0.0                  0.0\n",
       "Condition2    0.0                    0.0                  0.0\n",
       "RoofMatl      0.0                    0.0                  0.0\n",
       "Street        0.0                    0.0                  0.0\n",
       "Utilities     0.0                    0.0                  0.0"
      ]
     },
     "metadata": {},
     "output_type": "display_data"
    },
    {
     "name": "stdout",
     "output_type": "stream",
     "text": [
      "\n",
      "See the whole table with table.as_data_frame()\n"
     ]
    },
    {
     "data": {
      "text/plain": []
     },
     "execution_count": 143,
     "metadata": {},
     "output_type": "execute_result"
    }
   ],
   "source": [
    "cv_gbm"
   ]
  },
  {
   "cell_type": "code",
   "execution_count": 144,
   "metadata": {},
   "outputs": [
    {
     "name": "stdout",
     "output_type": "stream",
     "text": [
      "gbm prediction progress: |████████████████████████████████████████████████| 100%\n",
      "gbm prediction progress: |████████████████████████████████████████████████| 100%\n"
     ]
    }
   ],
   "source": [
    "ert_preds1_val = cv_gbm.predict(validation)\n",
    "ert_preds1_test = cv_gbm.predict(test)"
   ]
  },
  {
   "cell_type": "markdown",
   "metadata": {},
   "source": [
    "<div class=\"alert alert-block alert-info\">\n",
    "<font color='green'>Below is our predicted log(SalePrice) based on our Random Forest Model. \n",
    "<br>\n",
    "We then convernt the predicted SalePrice to a data frame so that we can concatenate it with Id.</font>"
   ]
  },
  {
   "cell_type": "code",
   "execution_count": 145,
   "metadata": {
    "scrolled": true
   },
   "outputs": [
    {
     "data": {
      "text/html": [
       "<table>\n",
       "<thead>\n",
       "<tr><th style=\"text-align: right;\">  predict</th></tr>\n",
       "</thead>\n",
       "<tbody>\n",
       "<tr><td style=\"text-align: right;\">  11.7065</td></tr>\n",
       "<tr><td style=\"text-align: right;\">  12.0137</td></tr>\n",
       "<tr><td style=\"text-align: right;\">  12.1237</td></tr>\n",
       "<tr><td style=\"text-align: right;\">  12.1503</td></tr>\n",
       "<tr><td style=\"text-align: right;\">  12.1323</td></tr>\n",
       "<tr><td style=\"text-align: right;\">  12.1041</td></tr>\n",
       "<tr><td style=\"text-align: right;\">  12.0665</td></tr>\n",
       "<tr><td style=\"text-align: right;\">  12.0435</td></tr>\n",
       "<tr><td style=\"text-align: right;\">  12.169 </td></tr>\n",
       "<tr><td style=\"text-align: right;\">  11.7091</td></tr>\n",
       "</tbody>\n",
       "</table>"
      ]
     },
     "metadata": {},
     "output_type": "display_data"
    },
    {
     "data": {
      "text/plain": []
     },
     "execution_count": 145,
     "metadata": {},
     "output_type": "execute_result"
    }
   ],
   "source": [
    "ert_preds1_test.head()"
   ]
  },
  {
   "cell_type": "code",
   "execution_count": 146,
   "metadata": {
    "collapsed": true
   },
   "outputs": [],
   "source": [
    "a=ert_preds1_test.as_data_frame()"
   ]
  },
  {
   "cell_type": "code",
   "execution_count": 147,
   "metadata": {},
   "outputs": [
    {
     "data": {
      "text/html": [
       "<div>\n",
       "<style>\n",
       "    .dataframe thead tr:only-child th {\n",
       "        text-align: right;\n",
       "    }\n",
       "\n",
       "    .dataframe thead th {\n",
       "        text-align: left;\n",
       "    }\n",
       "\n",
       "    .dataframe tbody tr th {\n",
       "        vertical-align: top;\n",
       "    }\n",
       "</style>\n",
       "<table border=\"1\" class=\"dataframe\">\n",
       "  <thead>\n",
       "    <tr style=\"text-align: right;\">\n",
       "      <th></th>\n",
       "      <th>predict</th>\n",
       "    </tr>\n",
       "  </thead>\n",
       "  <tbody>\n",
       "    <tr>\n",
       "      <th>0</th>\n",
       "      <td>11.706536</td>\n",
       "    </tr>\n",
       "    <tr>\n",
       "      <th>1</th>\n",
       "      <td>12.013711</td>\n",
       "    </tr>\n",
       "    <tr>\n",
       "      <th>2</th>\n",
       "      <td>12.123671</td>\n",
       "    </tr>\n",
       "    <tr>\n",
       "      <th>3</th>\n",
       "      <td>12.150253</td>\n",
       "    </tr>\n",
       "    <tr>\n",
       "      <th>4</th>\n",
       "      <td>12.132252</td>\n",
       "    </tr>\n",
       "  </tbody>\n",
       "</table>\n",
       "</div>"
      ],
      "text/plain": [
       "     predict\n",
       "0  11.706536\n",
       "1  12.013711\n",
       "2  12.123671\n",
       "3  12.150253\n",
       "4  12.132252"
      ]
     },
     "execution_count": 147,
     "metadata": {},
     "output_type": "execute_result"
    }
   ],
   "source": [
    "a.head()"
   ]
  },
  {
   "cell_type": "markdown",
   "metadata": {},
   "source": [
    "<div class=\"alert alert-block alert-success\">\n",
    "<font color='darkblue'>Before we concatenate our Log(SalePrice) with Id, we need to convert our log(Saleprice) to Saleprice ($) </font>"
   ]
  },
  {
   "cell_type": "code",
   "execution_count": 148,
   "metadata": {
    "collapsed": true
   },
   "outputs": [],
   "source": [
    "a['Saleprice'] = np.exp(a['predict'])"
   ]
  },
  {
   "cell_type": "code",
   "execution_count": 149,
   "metadata": {},
   "outputs": [
    {
     "data": {
      "text/html": [
       "<div>\n",
       "<style>\n",
       "    .dataframe thead tr:only-child th {\n",
       "        text-align: right;\n",
       "    }\n",
       "\n",
       "    .dataframe thead th {\n",
       "        text-align: left;\n",
       "    }\n",
       "\n",
       "    .dataframe tbody tr th {\n",
       "        vertical-align: top;\n",
       "    }\n",
       "</style>\n",
       "<table border=\"1\" class=\"dataframe\">\n",
       "  <thead>\n",
       "    <tr style=\"text-align: right;\">\n",
       "      <th></th>\n",
       "      <th>predict</th>\n",
       "      <th>Saleprice</th>\n",
       "    </tr>\n",
       "  </thead>\n",
       "  <tbody>\n",
       "    <tr>\n",
       "      <th>0</th>\n",
       "      <td>11.706536</td>\n",
       "      <td>121362.346722</td>\n",
       "    </tr>\n",
       "    <tr>\n",
       "      <th>1</th>\n",
       "      <td>12.013711</td>\n",
       "      <td>165001.646577</td>\n",
       "    </tr>\n",
       "    <tr>\n",
       "      <th>2</th>\n",
       "      <td>12.123671</td>\n",
       "      <td>184180.335263</td>\n",
       "    </tr>\n",
       "    <tr>\n",
       "      <th>3</th>\n",
       "      <td>12.150253</td>\n",
       "      <td>189141.874034</td>\n",
       "    </tr>\n",
       "    <tr>\n",
       "      <th>4</th>\n",
       "      <td>12.132252</td>\n",
       "      <td>185767.671566</td>\n",
       "    </tr>\n",
       "  </tbody>\n",
       "</table>\n",
       "</div>"
      ],
      "text/plain": [
       "     predict      Saleprice\n",
       "0  11.706536  121362.346722\n",
       "1  12.013711  165001.646577\n",
       "2  12.123671  184180.335263\n",
       "3  12.150253  189141.874034\n",
       "4  12.132252  185767.671566"
      ]
     },
     "execution_count": 149,
     "metadata": {},
     "output_type": "execute_result"
    }
   ],
   "source": [
    "a.head()"
   ]
  },
  {
   "cell_type": "markdown",
   "metadata": {},
   "source": [
    "<div class=\"alert alert-block alert-info\">\n",
    "<font color='green'>Here, we can have a look at the statistics of  our predict log(SalePrice) and SalePrice.</font>"
   ]
  },
  {
   "cell_type": "code",
   "execution_count": 150,
   "metadata": {},
   "outputs": [
    {
     "data": {
      "text/html": [
       "<div>\n",
       "<style>\n",
       "    .dataframe thead tr:only-child th {\n",
       "        text-align: right;\n",
       "    }\n",
       "\n",
       "    .dataframe thead th {\n",
       "        text-align: left;\n",
       "    }\n",
       "\n",
       "    .dataframe tbody tr th {\n",
       "        vertical-align: top;\n",
       "    }\n",
       "</style>\n",
       "<table border=\"1\" class=\"dataframe\">\n",
       "  <thead>\n",
       "    <tr style=\"text-align: right;\">\n",
       "      <th></th>\n",
       "      <th>predict</th>\n",
       "      <th>Saleprice</th>\n",
       "    </tr>\n",
       "  </thead>\n",
       "  <tbody>\n",
       "    <tr>\n",
       "      <th>count</th>\n",
       "      <td>1459.000000</td>\n",
       "      <td>1459.000000</td>\n",
       "    </tr>\n",
       "    <tr>\n",
       "      <th>mean</th>\n",
       "      <td>12.009443</td>\n",
       "      <td>177830.335022</td>\n",
       "    </tr>\n",
       "    <tr>\n",
       "      <th>std</th>\n",
       "      <td>0.389328</td>\n",
       "      <td>77491.265514</td>\n",
       "    </tr>\n",
       "    <tr>\n",
       "      <th>min</th>\n",
       "      <td>10.757826</td>\n",
       "      <td>46996.398949</td>\n",
       "    </tr>\n",
       "    <tr>\n",
       "      <th>25%</th>\n",
       "      <td>11.765693</td>\n",
       "      <td>128758.437984</td>\n",
       "    </tr>\n",
       "    <tr>\n",
       "      <th>50%</th>\n",
       "      <td>11.970491</td>\n",
       "      <td>158022.269141</td>\n",
       "    </tr>\n",
       "    <tr>\n",
       "      <th>75%</th>\n",
       "      <td>12.236497</td>\n",
       "      <td>206178.299499</td>\n",
       "    </tr>\n",
       "    <tr>\n",
       "      <th>max</th>\n",
       "      <td>13.322396</td>\n",
       "      <td>610721.403014</td>\n",
       "    </tr>\n",
       "  </tbody>\n",
       "</table>\n",
       "</div>"
      ],
      "text/plain": [
       "           predict      Saleprice\n",
       "count  1459.000000    1459.000000\n",
       "mean     12.009443  177830.335022\n",
       "std       0.389328   77491.265514\n",
       "min      10.757826   46996.398949\n",
       "25%      11.765693  128758.437984\n",
       "50%      11.970491  158022.269141\n",
       "75%      12.236497  206178.299499\n",
       "max      13.322396  610721.403014"
      ]
     },
     "execution_count": 150,
     "metadata": {},
     "output_type": "execute_result"
    }
   ],
   "source": [
    "a.describe()"
   ]
  },
  {
   "cell_type": "markdown",
   "metadata": {},
   "source": [
    "<div class=\"alert alert-block alert-info\">\n",
    "<font color='green'>Now, we can put Id and Saleprice together, save them and submit it on Kaggle. </font>"
   ]
  },
  {
   "cell_type": "code",
   "execution_count": 151,
   "metadata": {
    "collapsed": true
   },
   "outputs": [],
   "source": [
    "Id=testa['Id']"
   ]
  },
  {
   "cell_type": "code",
   "execution_count": 152,
   "metadata": {
    "collapsed": true
   },
   "outputs": [],
   "source": [
    "SalePrice=a['Saleprice']"
   ]
  },
  {
   "cell_type": "code",
   "execution_count": 153,
   "metadata": {
    "collapsed": true
   },
   "outputs": [],
   "source": [
    "gbm_crossvalidation_result=pd.concat((Id,SalePrice),axis=1)"
   ]
  },
  {
   "cell_type": "code",
   "execution_count": 154,
   "metadata": {},
   "outputs": [
    {
     "data": {
      "text/html": [
       "<div>\n",
       "<style>\n",
       "    .dataframe thead tr:only-child th {\n",
       "        text-align: right;\n",
       "    }\n",
       "\n",
       "    .dataframe thead th {\n",
       "        text-align: left;\n",
       "    }\n",
       "\n",
       "    .dataframe tbody tr th {\n",
       "        vertical-align: top;\n",
       "    }\n",
       "</style>\n",
       "<table border=\"1\" class=\"dataframe\">\n",
       "  <thead>\n",
       "    <tr style=\"text-align: right;\">\n",
       "      <th></th>\n",
       "      <th>Id</th>\n",
       "      <th>Saleprice</th>\n",
       "    </tr>\n",
       "  </thead>\n",
       "  <tbody>\n",
       "    <tr>\n",
       "      <th>0</th>\n",
       "      <td>1461</td>\n",
       "      <td>121362.346722</td>\n",
       "    </tr>\n",
       "    <tr>\n",
       "      <th>1</th>\n",
       "      <td>1462</td>\n",
       "      <td>165001.646577</td>\n",
       "    </tr>\n",
       "    <tr>\n",
       "      <th>2</th>\n",
       "      <td>1463</td>\n",
       "      <td>184180.335263</td>\n",
       "    </tr>\n",
       "    <tr>\n",
       "      <th>3</th>\n",
       "      <td>1464</td>\n",
       "      <td>189141.874034</td>\n",
       "    </tr>\n",
       "    <tr>\n",
       "      <th>4</th>\n",
       "      <td>1465</td>\n",
       "      <td>185767.671566</td>\n",
       "    </tr>\n",
       "  </tbody>\n",
       "</table>\n",
       "</div>"
      ],
      "text/plain": [
       "     Id      Saleprice\n",
       "0  1461  121362.346722\n",
       "1  1462  165001.646577\n",
       "2  1463  184180.335263\n",
       "3  1464  189141.874034\n",
       "4  1465  185767.671566"
      ]
     },
     "execution_count": 154,
     "metadata": {},
     "output_type": "execute_result"
    }
   ],
   "source": [
    "gbm_crossvalidation_result.head()"
   ]
  },
  {
   "cell_type": "code",
   "execution_count": 155,
   "metadata": {
    "collapsed": true
   },
   "outputs": [],
   "source": [
    "gbm_crossvalidation_result.to_csv('gbm_cv_result.csv')"
   ]
  },
  {
   "cell_type": "markdown",
   "metadata": {},
   "source": [
    "### d. GBM + I feel lucky parameters"
   ]
  },
  {
   "cell_type": "code",
   "execution_count": 156,
   "metadata": {},
   "outputs": [
    {
     "name": "stdout",
     "output_type": "stream",
     "text": [
      "gbm Model Build progress: |███████████████████████████████████████████████| 100%\n"
     ]
    }
   ],
   "source": [
    "gbm_lucky = H2OGradientBoostingEstimator(\n",
    "  ## more trees is better if the learning rate is small enough \n",
    "  ## here, use \"more than enough\" trees - we have early stopping\n",
    "  ntrees = 10000,                                                            \n",
    "\n",
    "  ## smaller learning rate is better (this is a good value for most datasets, but see below for annealing)\n",
    "  learn_rate = 0.01,                                                         \n",
    "\n",
    "  ## early stopping once the validation AUC doesn't improve by at least 0.01% for 5 consecutive scoring events\n",
    "  stopping_rounds = 5, stopping_tolerance = 1e-4, stopping_metric = \"RMSE\", \n",
    "\n",
    "  ## sample 80% of rows per tree\n",
    "  sample_rate = 0.8,                                                       \n",
    "\n",
    "  ## sample 80% of columns per split\n",
    "  col_sample_rate = 0.8,                                                   \n",
    "\n",
    "  ## fix a random number generator seed for reproducibility\n",
    "  seed = 1234,                                                             \n",
    "\n",
    "  ## score every 10 trees to make early stopping reproducible (it depends on the scoring interval)\n",
    "  score_tree_interval = 10)\n",
    "\n",
    "gbm_lucky.train(x=x,\n",
    "              y=y,\n",
    "              training_frame=train,\n",
    "              validation_frame=validation)"
   ]
  },
  {
   "cell_type": "code",
   "execution_count": 157,
   "metadata": {},
   "outputs": [
    {
     "name": "stdout",
     "output_type": "stream",
     "text": [
      "Model Details\n",
      "=============\n",
      "H2OGradientBoostingEstimator :  Gradient Boosting Machine\n",
      "Model Key:  GBM_model_python_1522814867933_33\n",
      "\n",
      "\n",
      "ModelMetricsRegression: gbm\n",
      "** Reported on train data. **\n",
      "\n",
      "MSE: 0.003247162368372301\n",
      "RMSE: 0.05698387814436905\n",
      "MAE: 0.039732877731323245\n",
      "RMSLE: 0.00445359350940482\n",
      "Mean Residual Deviance: 0.003247162368372301\n",
      "\n",
      "ModelMetricsRegression: gbm\n",
      "** Reported on validation data. **\n",
      "\n",
      "MSE: 0.013433741446903924\n",
      "RMSE: 0.11590401825175832\n",
      "MAE: 0.08285146245705009\n",
      "RMSLE: 0.00897119832786256\n",
      "Mean Residual Deviance: 0.013433741446903924\n",
      "Scoring History: \n"
     ]
    },
    {
     "data": {
      "text/html": [
       "<div style=\"overflow:auto\"><table style=\"width:50%\"><tr><td><b></b></td>\n",
       "<td><b>timestamp</b></td>\n",
       "<td><b>duration</b></td>\n",
       "<td><b>number_of_trees</b></td>\n",
       "<td><b>training_rmse</b></td>\n",
       "<td><b>training_mae</b></td>\n",
       "<td><b>training_deviance</b></td>\n",
       "<td><b>validation_rmse</b></td>\n",
       "<td><b>validation_mae</b></td>\n",
       "<td><b>validation_deviance</b></td></tr>\n",
       "<tr><td></td>\n",
       "<td>2018-04-18 20:39:04</td>\n",
       "<td> 0.001 sec</td>\n",
       "<td>0.0</td>\n",
       "<td>0.4063635</td>\n",
       "<td>0.3149379</td>\n",
       "<td>0.1651313</td>\n",
       "<td>0.3844327</td>\n",
       "<td>0.3003295</td>\n",
       "<td>0.1477885</td></tr>\n",
       "<tr><td></td>\n",
       "<td>2018-04-18 20:39:05</td>\n",
       "<td> 0.089 sec</td>\n",
       "<td>10.0</td>\n",
       "<td>0.3732805</td>\n",
       "<td>0.2880864</td>\n",
       "<td>0.1393383</td>\n",
       "<td>0.3544117</td>\n",
       "<td>0.2760284</td>\n",
       "<td>0.1256076</td></tr>\n",
       "<tr><td></td>\n",
       "<td>2018-04-18 20:39:05</td>\n",
       "<td> 0.159 sec</td>\n",
       "<td>20.0</td>\n",
       "<td>0.3437334</td>\n",
       "<td>0.2639416</td>\n",
       "<td>0.1181527</td>\n",
       "<td>0.3275128</td>\n",
       "<td>0.2539863</td>\n",
       "<td>0.1072646</td></tr>\n",
       "<tr><td></td>\n",
       "<td>2018-04-18 20:39:05</td>\n",
       "<td> 0.236 sec</td>\n",
       "<td>30.0</td>\n",
       "<td>0.3172833</td>\n",
       "<td>0.2424124</td>\n",
       "<td>0.1006687</td>\n",
       "<td>0.3040596</td>\n",
       "<td>0.2349425</td>\n",
       "<td>0.0924522</td></tr>\n",
       "<tr><td></td>\n",
       "<td>2018-04-18 20:39:05</td>\n",
       "<td> 0.305 sec</td>\n",
       "<td>40.0</td>\n",
       "<td>0.2932469</td>\n",
       "<td>0.2228350</td>\n",
       "<td>0.0859937</td>\n",
       "<td>0.2825902</td>\n",
       "<td>0.2175254</td>\n",
       "<td>0.0798572</td></tr>\n",
       "<tr><td>---</td>\n",
       "<td>---</td>\n",
       "<td>---</td>\n",
       "<td>---</td>\n",
       "<td>---</td>\n",
       "<td>---</td>\n",
       "<td>---</td>\n",
       "<td>---</td>\n",
       "<td>---</td>\n",
       "<td>---</td></tr>\n",
       "<tr><td></td>\n",
       "<td>2018-04-18 20:39:11</td>\n",
       "<td> 6.097 sec</td>\n",
       "<td>870.0</td>\n",
       "<td>0.0579599</td>\n",
       "<td>0.0404141</td>\n",
       "<td>0.0033593</td>\n",
       "<td>0.1158882</td>\n",
       "<td>0.0827989</td>\n",
       "<td>0.0134301</td></tr>\n",
       "<tr><td></td>\n",
       "<td>2018-04-18 20:39:11</td>\n",
       "<td> 6.152 sec</td>\n",
       "<td>880.0</td>\n",
       "<td>0.0576631</td>\n",
       "<td>0.0402064</td>\n",
       "<td>0.0033250</td>\n",
       "<td>0.1158803</td>\n",
       "<td>0.0828034</td>\n",
       "<td>0.0134282</td></tr>\n",
       "<tr><td></td>\n",
       "<td>2018-04-18 20:39:11</td>\n",
       "<td> 6.197 sec</td>\n",
       "<td>890.0</td>\n",
       "<td>0.0574573</td>\n",
       "<td>0.0400579</td>\n",
       "<td>0.0033013</td>\n",
       "<td>0.1158813</td>\n",
       "<td>0.0828029</td>\n",
       "<td>0.0134285</td></tr>\n",
       "<tr><td></td>\n",
       "<td>2018-04-18 20:39:11</td>\n",
       "<td> 6.248 sec</td>\n",
       "<td>900.0</td>\n",
       "<td>0.0571835</td>\n",
       "<td>0.0398693</td>\n",
       "<td>0.0032700</td>\n",
       "<td>0.1158907</td>\n",
       "<td>0.0828573</td>\n",
       "<td>0.0134307</td></tr>\n",
       "<tr><td></td>\n",
       "<td>2018-04-18 20:39:11</td>\n",
       "<td> 6.304 sec</td>\n",
       "<td>910.0</td>\n",
       "<td>0.0569839</td>\n",
       "<td>0.0397329</td>\n",
       "<td>0.0032472</td>\n",
       "<td>0.1159040</td>\n",
       "<td>0.0828515</td>\n",
       "<td>0.0134337</td></tr></table></div>"
      ],
      "text/plain": [
       "     timestamp            duration    number_of_trees    training_rmse         training_mae          training_deviance      validation_rmse      validation_mae       validation_deviance\n",
       "---  -------------------  ----------  -----------------  --------------------  --------------------  ---------------------  -------------------  -------------------  ---------------------\n",
       "     2018-04-18 20:39:04  0.001 sec   0.0                0.40636345067387103   0.3149378786500236    0.16513125404357562    0.3844327206603575   0.30032950343529763  0.14778851671432447\n",
       "     2018-04-18 20:39:05  0.089 sec   10.0               0.3732804871848108    0.28808642768859866   0.13933832211292974    0.3544116690568976   0.27602837085899057  0.1256076311636959\n",
       "     2018-04-18 20:39:05  0.159 sec   20.0               0.3437334465619535    0.2639416007995605    0.11815268228535933    0.32751277259616485  0.2539862963656172   0.10726461621362718\n",
       "     2018-04-18 20:39:05  0.236 sec   30.0               0.3172832726918836    0.2424124059677124    0.10066867513007219    0.3040596094628423   0.2349425263883696   0.09245224610669615\n",
       "     2018-04-18 20:39:05  0.305 sec   40.0               0.2932468719981053    0.22283503913879393   0.08599372793667316    0.28259019043197386  0.21752541139117856  0.07985721572837924\n",
       "---  ---                  ---         ---                ---                   ---                   ---                    ---                  ---                  ---\n",
       "     2018-04-18 20:39:11  6.097 sec   870.0              0.057959892797299115  0.04041407299041748   0.003359349173074406   0.1158881927746367   0.08279887426298996  0.013430073224571359\n",
       "     2018-04-18 20:39:11  6.152 sec   880.0              0.05766308347615679   0.04020641708374023   0.0033250311959782267  0.11588030276972074  0.08280341365901943  0.013428244570002147\n",
       "     2018-04-18 20:39:11  6.197 sec   890.0              0.05745729759962869   0.04005791664123535   0.003301341047452297   0.11588129673847394  0.08280285902647845  0.013428474933790253\n",
       "     2018-04-18 20:39:11  6.248 sec   900.0              0.057183515590085325  0.03986932754516601   0.003269954455241532   0.11589068219240117  0.08285725870427534  0.01343065021902013\n",
       "     2018-04-18 20:39:11  6.304 sec   910.0              0.05698387814436905   0.039732877731323245  0.003247162368372301   0.11590401825175832  0.08285146245705009  0.013433741446903924"
      ]
     },
     "metadata": {},
     "output_type": "display_data"
    },
    {
     "name": "stdout",
     "output_type": "stream",
     "text": [
      "\n",
      "See the whole table with table.as_data_frame()\n",
      "Variable Importances: \n"
     ]
    },
    {
     "data": {
      "text/html": [
       "<div style=\"overflow:auto\"><table style=\"width:50%\"><tr><td><b>variable</b></td>\n",
       "<td><b>relative_importance</b></td>\n",
       "<td><b>scaled_importance</b></td>\n",
       "<td><b>percentage</b></td></tr>\n",
       "<tr><td>OverallQual</td>\n",
       "<td>3079.2966309</td>\n",
       "<td>1.0</td>\n",
       "<td>0.4090972</td></tr>\n",
       "<tr><td>TotalSF</td>\n",
       "<td>2316.1813965</td>\n",
       "<td>0.7521787</td>\n",
       "<td>0.3077142</td></tr>\n",
       "<tr><td>GrLivArea</td>\n",
       "<td>300.5686646</td>\n",
       "<td>0.0976095</td>\n",
       "<td>0.0399318</td></tr>\n",
       "<tr><td>YearRemodAdd</td>\n",
       "<td>139.7464447</td>\n",
       "<td>0.0453826</td>\n",
       "<td>0.0185659</td></tr>\n",
       "<tr><td>GarageCars</td>\n",
       "<td>128.4871368</td>\n",
       "<td>0.0417261</td>\n",
       "<td>0.0170700</td></tr>\n",
       "<tr><td>---</td>\n",
       "<td>---</td>\n",
       "<td>---</td>\n",
       "<td>---</td></tr>\n",
       "<tr><td>BsmtFinType2</td>\n",
       "<td>0.3616390</td>\n",
       "<td>0.0001174</td>\n",
       "<td>0.0000480</td></tr>\n",
       "<tr><td>Heating</td>\n",
       "<td>0.0947837</td>\n",
       "<td>0.0000308</td>\n",
       "<td>0.0000126</td></tr>\n",
       "<tr><td>Condition2</td>\n",
       "<td>0.0</td>\n",
       "<td>0.0</td>\n",
       "<td>0.0</td></tr>\n",
       "<tr><td>Street</td>\n",
       "<td>0.0</td>\n",
       "<td>0.0</td>\n",
       "<td>0.0</td></tr>\n",
       "<tr><td>Utilities</td>\n",
       "<td>0.0</td>\n",
       "<td>0.0</td>\n",
       "<td>0.0</td></tr></table></div>"
      ],
      "text/plain": [
       "variable      relative_importance    scaled_importance       percentage\n",
       "------------  ---------------------  ----------------------  ----------------------\n",
       "OverallQual   3079.296630859375      1.0                     0.4090972489607438\n",
       "TotalSF       2316.181396484375      0.7521787194103386      0.30771424483758475\n",
       "GrLivArea     300.56866455078125     0.09760951950475069     0.03993178590177357\n",
       "YearRemodAdd  139.74644470214844     0.0453825861729819      0.018565891154090786\n",
       "GarageCars    128.4871368408203      0.041726131725400524    0.01707004569863497\n",
       "---           ---                    ---                     ---\n",
       "BsmtFinType2  0.36163896322250366    0.00011744206764568078  4.804522678610959e-05\n",
       "Heating       0.094783715903759      3.078096307899594e-05   1.2592407315979463e-05\n",
       "Condition2    0.0                    0.0                     0.0\n",
       "Street        0.0                    0.0                     0.0\n",
       "Utilities     0.0                    0.0                     0.0"
      ]
     },
     "metadata": {},
     "output_type": "display_data"
    },
    {
     "name": "stdout",
     "output_type": "stream",
     "text": [
      "\n",
      "See the whole table with table.as_data_frame()\n"
     ]
    },
    {
     "data": {
      "text/plain": []
     },
     "execution_count": 157,
     "metadata": {},
     "output_type": "execute_result"
    }
   ],
   "source": [
    "gbm_lucky"
   ]
  },
  {
   "cell_type": "code",
   "execution_count": 158,
   "metadata": {},
   "outputs": [
    {
     "name": "stdout",
     "output_type": "stream",
     "text": [
      "gbm prediction progress: |████████████████████████████████████████████████| 100%\n",
      "gbm prediction progress: |████████████████████████████████████████████████| 100%\n"
     ]
    }
   ],
   "source": [
    "ert_preds1_val = gbm_lucky.predict(validation)\n",
    "ert_preds1_test = gbm_lucky.predict(test)"
   ]
  },
  {
   "cell_type": "markdown",
   "metadata": {},
   "source": [
    "<div class=\"alert alert-block alert-info\">\n",
    "<font color='green'>Below is our predicted log(SalePrice) based on our Random Forest Model. \n",
    "<br>\n",
    "We then convernt the predicted SalePrice to a data frame so that we can concatenate it with Id.</font>"
   ]
  },
  {
   "cell_type": "code",
   "execution_count": 159,
   "metadata": {
    "scrolled": true
   },
   "outputs": [
    {
     "data": {
      "text/html": [
       "<table>\n",
       "<thead>\n",
       "<tr><th style=\"text-align: right;\">  predict</th></tr>\n",
       "</thead>\n",
       "<tbody>\n",
       "<tr><td style=\"text-align: right;\">  11.6506</td></tr>\n",
       "<tr><td style=\"text-align: right;\">  11.9783</td></tr>\n",
       "<tr><td style=\"text-align: right;\">  12.1433</td></tr>\n",
       "<tr><td style=\"text-align: right;\">  12.1576</td></tr>\n",
       "<tr><td style=\"text-align: right;\">  12.1292</td></tr>\n",
       "<tr><td style=\"text-align: right;\">  12.1015</td></tr>\n",
       "<tr><td style=\"text-align: right;\">  12.0786</td></tr>\n",
       "<tr><td style=\"text-align: right;\">  12.0589</td></tr>\n",
       "<tr><td style=\"text-align: right;\">  12.1217</td></tr>\n",
       "<tr><td style=\"text-align: right;\">  11.7158</td></tr>\n",
       "</tbody>\n",
       "</table>"
      ]
     },
     "metadata": {},
     "output_type": "display_data"
    },
    {
     "data": {
      "text/plain": []
     },
     "execution_count": 159,
     "metadata": {},
     "output_type": "execute_result"
    }
   ],
   "source": [
    "ert_preds1_test.head()"
   ]
  },
  {
   "cell_type": "code",
   "execution_count": 160,
   "metadata": {
    "collapsed": true
   },
   "outputs": [],
   "source": [
    "a=ert_preds1_test.as_data_frame()"
   ]
  },
  {
   "cell_type": "code",
   "execution_count": 161,
   "metadata": {},
   "outputs": [
    {
     "data": {
      "text/html": [
       "<div>\n",
       "<style>\n",
       "    .dataframe thead tr:only-child th {\n",
       "        text-align: right;\n",
       "    }\n",
       "\n",
       "    .dataframe thead th {\n",
       "        text-align: left;\n",
       "    }\n",
       "\n",
       "    .dataframe tbody tr th {\n",
       "        vertical-align: top;\n",
       "    }\n",
       "</style>\n",
       "<table border=\"1\" class=\"dataframe\">\n",
       "  <thead>\n",
       "    <tr style=\"text-align: right;\">\n",
       "      <th></th>\n",
       "      <th>predict</th>\n",
       "    </tr>\n",
       "  </thead>\n",
       "  <tbody>\n",
       "    <tr>\n",
       "      <th>0</th>\n",
       "      <td>11.650644</td>\n",
       "    </tr>\n",
       "    <tr>\n",
       "      <th>1</th>\n",
       "      <td>11.978286</td>\n",
       "    </tr>\n",
       "    <tr>\n",
       "      <th>2</th>\n",
       "      <td>12.143338</td>\n",
       "    </tr>\n",
       "    <tr>\n",
       "      <th>3</th>\n",
       "      <td>12.157625</td>\n",
       "    </tr>\n",
       "    <tr>\n",
       "      <th>4</th>\n",
       "      <td>12.129156</td>\n",
       "    </tr>\n",
       "  </tbody>\n",
       "</table>\n",
       "</div>"
      ],
      "text/plain": [
       "     predict\n",
       "0  11.650644\n",
       "1  11.978286\n",
       "2  12.143338\n",
       "3  12.157625\n",
       "4  12.129156"
      ]
     },
     "execution_count": 161,
     "metadata": {},
     "output_type": "execute_result"
    }
   ],
   "source": [
    "a.head()"
   ]
  },
  {
   "cell_type": "markdown",
   "metadata": {},
   "source": [
    "<div class=\"alert alert-block alert-success\">\n",
    "<font color='darkblue'>Before we concatenate our Log(SalePrice) with Id, we need to convert our log(Saleprice) to Saleprice ($) </font>"
   ]
  },
  {
   "cell_type": "code",
   "execution_count": 162,
   "metadata": {
    "collapsed": true
   },
   "outputs": [],
   "source": [
    "a['Saleprice'] = np.exp(a['predict'])"
   ]
  },
  {
   "cell_type": "code",
   "execution_count": 163,
   "metadata": {},
   "outputs": [
    {
     "data": {
      "text/html": [
       "<div>\n",
       "<style>\n",
       "    .dataframe thead tr:only-child th {\n",
       "        text-align: right;\n",
       "    }\n",
       "\n",
       "    .dataframe thead th {\n",
       "        text-align: left;\n",
       "    }\n",
       "\n",
       "    .dataframe tbody tr th {\n",
       "        vertical-align: top;\n",
       "    }\n",
       "</style>\n",
       "<table border=\"1\" class=\"dataframe\">\n",
       "  <thead>\n",
       "    <tr style=\"text-align: right;\">\n",
       "      <th></th>\n",
       "      <th>predict</th>\n",
       "      <th>Saleprice</th>\n",
       "    </tr>\n",
       "  </thead>\n",
       "  <tbody>\n",
       "    <tr>\n",
       "      <th>0</th>\n",
       "      <td>11.650644</td>\n",
       "      <td>114765.232704</td>\n",
       "    </tr>\n",
       "    <tr>\n",
       "      <th>1</th>\n",
       "      <td>11.978286</td>\n",
       "      <td>159258.882221</td>\n",
       "    </tr>\n",
       "    <tr>\n",
       "      <th>2</th>\n",
       "      <td>12.143338</td>\n",
       "      <td>187838.579270</td>\n",
       "    </tr>\n",
       "    <tr>\n",
       "      <th>3</th>\n",
       "      <td>12.157625</td>\n",
       "      <td>190541.537196</td>\n",
       "    </tr>\n",
       "    <tr>\n",
       "      <th>4</th>\n",
       "      <td>12.129156</td>\n",
       "      <td>185193.442559</td>\n",
       "    </tr>\n",
       "  </tbody>\n",
       "</table>\n",
       "</div>"
      ],
      "text/plain": [
       "     predict      Saleprice\n",
       "0  11.650644  114765.232704\n",
       "1  11.978286  159258.882221\n",
       "2  12.143338  187838.579270\n",
       "3  12.157625  190541.537196\n",
       "4  12.129156  185193.442559"
      ]
     },
     "execution_count": 163,
     "metadata": {},
     "output_type": "execute_result"
    }
   ],
   "source": [
    "a.head()"
   ]
  },
  {
   "cell_type": "markdown",
   "metadata": {},
   "source": [
    "<div class=\"alert alert-block alert-info\">\n",
    "<font color='green'>Here, we can have a look at the statistics of  our predict log(SalePrice) and SalePrice.</font>"
   ]
  },
  {
   "cell_type": "code",
   "execution_count": 164,
   "metadata": {},
   "outputs": [
    {
     "data": {
      "text/html": [
       "<div>\n",
       "<style>\n",
       "    .dataframe thead tr:only-child th {\n",
       "        text-align: right;\n",
       "    }\n",
       "\n",
       "    .dataframe thead th {\n",
       "        text-align: left;\n",
       "    }\n",
       "\n",
       "    .dataframe tbody tr th {\n",
       "        vertical-align: top;\n",
       "    }\n",
       "</style>\n",
       "<table border=\"1\" class=\"dataframe\">\n",
       "  <thead>\n",
       "    <tr style=\"text-align: right;\">\n",
       "      <th></th>\n",
       "      <th>predict</th>\n",
       "      <th>Saleprice</th>\n",
       "    </tr>\n",
       "  </thead>\n",
       "  <tbody>\n",
       "    <tr>\n",
       "      <th>count</th>\n",
       "      <td>1459.000000</td>\n",
       "      <td>1459.000000</td>\n",
       "    </tr>\n",
       "    <tr>\n",
       "      <th>mean</th>\n",
       "      <td>12.006715</td>\n",
       "      <td>177783.980434</td>\n",
       "    </tr>\n",
       "    <tr>\n",
       "      <th>std</th>\n",
       "      <td>0.397278</td>\n",
       "      <td>77807.773987</td>\n",
       "    </tr>\n",
       "    <tr>\n",
       "      <th>min</th>\n",
       "      <td>10.791465</td>\n",
       "      <td>48604.170169</td>\n",
       "    </tr>\n",
       "    <tr>\n",
       "      <th>25%</th>\n",
       "      <td>11.757311</td>\n",
       "      <td>127683.633654</td>\n",
       "    </tr>\n",
       "    <tr>\n",
       "      <th>50%</th>\n",
       "      <td>11.958708</td>\n",
       "      <td>156171.157487</td>\n",
       "    </tr>\n",
       "    <tr>\n",
       "      <th>75%</th>\n",
       "      <td>12.245313</td>\n",
       "      <td>208004.052817</td>\n",
       "    </tr>\n",
       "    <tr>\n",
       "      <th>max</th>\n",
       "      <td>13.204612</td>\n",
       "      <td>542863.009615</td>\n",
       "    </tr>\n",
       "  </tbody>\n",
       "</table>\n",
       "</div>"
      ],
      "text/plain": [
       "           predict      Saleprice\n",
       "count  1459.000000    1459.000000\n",
       "mean     12.006715  177783.980434\n",
       "std       0.397278   77807.773987\n",
       "min      10.791465   48604.170169\n",
       "25%      11.757311  127683.633654\n",
       "50%      11.958708  156171.157487\n",
       "75%      12.245313  208004.052817\n",
       "max      13.204612  542863.009615"
      ]
     },
     "execution_count": 164,
     "metadata": {},
     "output_type": "execute_result"
    }
   ],
   "source": [
    "a.describe()"
   ]
  },
  {
   "cell_type": "markdown",
   "metadata": {},
   "source": [
    "<div class=\"alert alert-block alert-info\">\n",
    "<font color='green'>Now, we can put Id and Saleprice together, save them and submit it on Kaggle. </font>"
   ]
  },
  {
   "cell_type": "code",
   "execution_count": 165,
   "metadata": {
    "collapsed": true
   },
   "outputs": [],
   "source": [
    "Id=testa['Id']"
   ]
  },
  {
   "cell_type": "code",
   "execution_count": 166,
   "metadata": {
    "collapsed": true
   },
   "outputs": [],
   "source": [
    "SalePrice=a['Saleprice']"
   ]
  },
  {
   "cell_type": "code",
   "execution_count": 167,
   "metadata": {
    "collapsed": true
   },
   "outputs": [],
   "source": [
    "gbm_lucky_result=pd.concat((Id,SalePrice),axis=1)"
   ]
  },
  {
   "cell_type": "code",
   "execution_count": 168,
   "metadata": {},
   "outputs": [
    {
     "data": {
      "text/html": [
       "<div>\n",
       "<style>\n",
       "    .dataframe thead tr:only-child th {\n",
       "        text-align: right;\n",
       "    }\n",
       "\n",
       "    .dataframe thead th {\n",
       "        text-align: left;\n",
       "    }\n",
       "\n",
       "    .dataframe tbody tr th {\n",
       "        vertical-align: top;\n",
       "    }\n",
       "</style>\n",
       "<table border=\"1\" class=\"dataframe\">\n",
       "  <thead>\n",
       "    <tr style=\"text-align: right;\">\n",
       "      <th></th>\n",
       "      <th>Id</th>\n",
       "      <th>Saleprice</th>\n",
       "    </tr>\n",
       "  </thead>\n",
       "  <tbody>\n",
       "    <tr>\n",
       "      <th>0</th>\n",
       "      <td>1461</td>\n",
       "      <td>114765.232704</td>\n",
       "    </tr>\n",
       "    <tr>\n",
       "      <th>1</th>\n",
       "      <td>1462</td>\n",
       "      <td>159258.882221</td>\n",
       "    </tr>\n",
       "    <tr>\n",
       "      <th>2</th>\n",
       "      <td>1463</td>\n",
       "      <td>187838.579270</td>\n",
       "    </tr>\n",
       "    <tr>\n",
       "      <th>3</th>\n",
       "      <td>1464</td>\n",
       "      <td>190541.537196</td>\n",
       "    </tr>\n",
       "    <tr>\n",
       "      <th>4</th>\n",
       "      <td>1465</td>\n",
       "      <td>185193.442559</td>\n",
       "    </tr>\n",
       "  </tbody>\n",
       "</table>\n",
       "</div>"
      ],
      "text/plain": [
       "     Id      Saleprice\n",
       "0  1461  114765.232704\n",
       "1  1462  159258.882221\n",
       "2  1463  187838.579270\n",
       "3  1464  190541.537196\n",
       "4  1465  185193.442559"
      ]
     },
     "execution_count": 168,
     "metadata": {},
     "output_type": "execute_result"
    }
   ],
   "source": [
    "gbm_lucky_result.head()"
   ]
  },
  {
   "cell_type": "code",
   "execution_count": 169,
   "metadata": {
    "collapsed": true
   },
   "outputs": [],
   "source": [
    "gbm_lucky_result.to_csv('gbm_lucky_result.csv')"
   ]
  },
  {
   "cell_type": "markdown",
   "metadata": {},
   "source": [
    "## 2. Regression "
   ]
  },
  {
   "cell_type": "code",
   "execution_count": 170,
   "metadata": {
    "collapsed": true
   },
   "outputs": [],
   "source": [
    "from h2o.estimators.glm import H2OGeneralizedLinearEstimator"
   ]
  },
  {
   "cell_type": "code",
   "execution_count": 171,
   "metadata": {},
   "outputs": [
    {
     "name": "stdout",
     "output_type": "stream",
     "text": [
      "glm Model Build progress: |███████████████████████████████████████████████| 100%\n"
     ]
    }
   ],
   "source": [
    "# elastic net regularized regression\n",
    "#   - binomial family for logistic regression\n",
    "#   - L1 for variable selection\n",
    "#   - L2 for handling multicollinearity\n",
    "#   - IRLS for handling outliers\n",
    "#   - with lamba parameter tuning for variable selection\n",
    "\n",
    "# initialize\n",
    "price_glm = H2OGeneralizedLinearEstimator(family='gaussian',\n",
    "                                         solver='L_BFGS',\n",
    "                                         model_id='loan_glm1',\n",
    "                                         standardize=True,\n",
    "                                         lambda_search=True)\n",
    "\n",
    "# train \n",
    "price_glm.train(x, y, training_frame=train,validation_frame=validation)\n",
    "\n",
    "# view detailed results at http://host:ip/flow/index.html"
   ]
  },
  {
   "cell_type": "code",
   "execution_count": 172,
   "metadata": {},
   "outputs": [
    {
     "name": "stdout",
     "output_type": "stream",
     "text": [
      "Model Details\n",
      "=============\n",
      "H2OGeneralizedLinearEstimator :  Generalized Linear Modeling\n",
      "Model Key:  loan_glm1\n",
      "\n",
      "\n",
      "ModelMetricsRegressionGLM: glm\n",
      "** Reported on train data. **\n",
      "\n",
      "MSE: 0.01369236692578646\n",
      "RMSE: 0.11701438768709795\n",
      "MAE: 0.08189342826526357\n",
      "RMSLE: 0.009162185951711293\n",
      "R^2: 0.9170819176230742\n",
      "Mean Residual Deviance: 0.01369236692578646\n",
      "Null degrees of freedom: 999\n",
      "Residual degrees of freedom: 931\n",
      "Null deviance: 165.1312540435756\n",
      "Residual deviance: 13.69236692578646\n",
      "AIC: -1313.039693711016\n",
      "\n",
      "ModelMetricsRegressionGLM: glm\n",
      "** Reported on validation data. **\n",
      "\n",
      "MSE: 0.01364203533618937\n",
      "RMSE: 0.11679912386738768\n",
      "MAE: 0.08777581151454494\n",
      "RMSLE: 0.009057185640346037\n",
      "R^2: 0.9075487032058026\n",
      "Mean Residual Deviance: 0.01364203533618937\n",
      "Null degrees of freedom: 457\n",
      "Residual degrees of freedom: 389\n",
      "Null deviance: 67.68714065516063\n",
      "Residual deviance: 6.248052183974732\n",
      "AIC: -527.1788377169153\n",
      "Scoring History: \n"
     ]
    },
    {
     "data": {
      "text/html": [
       "<div style=\"overflow:auto\"><table style=\"width:50%\"><tr><td><b></b></td>\n",
       "<td><b>timestamp</b></td>\n",
       "<td><b>duration</b></td>\n",
       "<td><b>iteration</b></td>\n",
       "<td><b>lambda</b></td>\n",
       "<td><b>predictors</b></td>\n",
       "<td><b>deviance_train</b></td>\n",
       "<td><b>deviance_test</b></td></tr>\n",
       "<tr><td></td>\n",
       "<td>2018-04-18 20:39:12</td>\n",
       "<td> 0.000 sec</td>\n",
       "<td>3</td>\n",
       "<td>.34E2</td>\n",
       "<td>69</td>\n",
       "<td>0.2051966</td>\n",
       "<td>0.0911662</td></tr>\n",
       "<tr><td></td>\n",
       "<td>2018-04-18 20:39:12</td>\n",
       "<td> 0.006 sec</td>\n",
       "<td>4</td>\n",
       "<td>.25E2</td>\n",
       "<td>69</td>\n",
       "<td>0.1776785</td>\n",
       "<td>0.0787570</td></tr>\n",
       "<tr><td></td>\n",
       "<td>2018-04-18 20:39:12</td>\n",
       "<td> 0.013 sec</td>\n",
       "<td>5</td>\n",
       "<td>.18E2</td>\n",
       "<td>69</td>\n",
       "<td>0.1497927</td>\n",
       "<td>0.0662232</td></tr>\n",
       "<tr><td></td>\n",
       "<td>2018-04-18 20:39:12</td>\n",
       "<td> 0.018 sec</td>\n",
       "<td>8</td>\n",
       "<td>.13E2</td>\n",
       "<td>69</td>\n",
       "<td>0.1257574</td>\n",
       "<td>0.0554857</td></tr>\n",
       "<tr><td></td>\n",
       "<td>2018-04-18 20:39:12</td>\n",
       "<td> 0.025 sec</td>\n",
       "<td>11</td>\n",
       "<td>.95E1</td>\n",
       "<td>69</td>\n",
       "<td>0.1025004</td>\n",
       "<td>0.0451256</td></tr>\n",
       "<tr><td>---</td>\n",
       "<td>---</td>\n",
       "<td>---</td>\n",
       "<td>---</td>\n",
       "<td>---</td>\n",
       "<td>---</td>\n",
       "<td>---</td>\n",
       "<td>---</td></tr>\n",
       "<tr><td></td>\n",
       "<td>2018-04-18 20:39:12</td>\n",
       "<td> 0.132 sec</td>\n",
       "<td>93</td>\n",
       "<td>.81E-1</td>\n",
       "<td>69</td>\n",
       "<td>0.0271760</td>\n",
       "<td>0.0136599</td></tr>\n",
       "<tr><td></td>\n",
       "<td>2018-04-18 20:39:12</td>\n",
       "<td> 0.140 sec</td>\n",
       "<td>100</td>\n",
       "<td>.59E-1</td>\n",
       "<td>69</td>\n",
       "<td>0.0270379</td>\n",
       "<td>0.0136937</td></tr>\n",
       "<tr><td></td>\n",
       "<td>2018-04-18 20:39:12</td>\n",
       "<td> 0.147 sec</td>\n",
       "<td>106</td>\n",
       "<td>.43E-1</td>\n",
       "<td>69</td>\n",
       "<td>0.0269511</td>\n",
       "<td>0.0137354</td></tr>\n",
       "<tr><td></td>\n",
       "<td>2018-04-18 20:39:12</td>\n",
       "<td> 0.154 sec</td>\n",
       "<td>111</td>\n",
       "<td>.31E-1</td>\n",
       "<td>69</td>\n",
       "<td>0.0268978</td>\n",
       "<td>0.0137768</td></tr>\n",
       "<tr><td></td>\n",
       "<td>2018-04-18 20:39:12</td>\n",
       "<td> 0.156 sec</td>\n",
       "<td>112</td>\n",
       "<td>.23E-1</td>\n",
       "<td>69</td>\n",
       "<td>0.0268935</td>\n",
       "<td>0.0137859</td></tr></table></div>"
      ],
      "text/plain": [
       "     timestamp            duration    iteration    lambda    predictors    deviance_train        deviance_test\n",
       "---  -------------------  ----------  -----------  --------  ------------  --------------------  --------------------\n",
       "     2018-04-18 20:39:12  0.000 sec   3            .34E2     69            0.2051965627724512    0.09116615451856476\n",
       "     2018-04-18 20:39:12  0.006 sec   4            .25E2     69            0.17767848446241202   0.07875701860117265\n",
       "     2018-04-18 20:39:12  0.013 sec   5            .18E2     69            0.1497927312042014    0.06622324839090471\n",
       "     2018-04-18 20:39:12  0.018 sec   8            .13E2     69            0.1257574476374649    0.055485703666080695\n",
       "     2018-04-18 20:39:12  0.025 sec   11           .95E1     69            0.10250044854279937   0.04512559198322392\n",
       "---  ---                  ---         ---          ---       ---           ---                   ---\n",
       "     2018-04-18 20:39:12  0.132 sec   93           .81E-1    69            0.027175968311532097  0.013659885066873292\n",
       "     2018-04-18 20:39:12  0.140 sec   100          .59E-1    69            0.027037902811387737  0.013693744226606958\n",
       "     2018-04-18 20:39:12  0.147 sec   106          .43E-1    69            0.02695110712505916   0.013735396866235596\n",
       "     2018-04-18 20:39:12  0.154 sec   111          .31E-1    69            0.026897770316561875  0.01377681655427547\n",
       "     2018-04-18 20:39:12  0.156 sec   112          .23E-1    69            0.026893534200355326  0.013785929332590988"
      ]
     },
     "metadata": {},
     "output_type": "display_data"
    },
    {
     "name": "stdout",
     "output_type": "stream",
     "text": [
      "\n",
      "See the whole table with table.as_data_frame()\n"
     ]
    },
    {
     "data": {
      "text/plain": []
     },
     "execution_count": 172,
     "metadata": {},
     "output_type": "execute_result"
    }
   ],
   "source": [
    "price_glm"
   ]
  },
  {
   "cell_type": "code",
   "execution_count": 173,
   "metadata": {},
   "outputs": [
    {
     "name": "stdout",
     "output_type": "stream",
     "text": [
      "glm prediction progress: |████████████████████████████████████████████████| 100%\n",
      "glm prediction progress: |████████████████████████████████████████████████| 100%\n"
     ]
    }
   ],
   "source": [
    "ert_preds1_val = price_glm.predict(validation)\n",
    "ert_preds1_test = price_glm.predict(test)"
   ]
  },
  {
   "cell_type": "code",
   "execution_count": 174,
   "metadata": {
    "scrolled": true
   },
   "outputs": [
    {
     "data": {
      "text/html": [
       "<table>\n",
       "<thead>\n",
       "<tr><th style=\"text-align: right;\">  predict</th></tr>\n",
       "</thead>\n",
       "<tbody>\n",
       "<tr><td style=\"text-align: right;\">  11.636 </td></tr>\n",
       "<tr><td style=\"text-align: right;\">  11.9637</td></tr>\n",
       "<tr><td style=\"text-align: right;\">  12.0984</td></tr>\n",
       "<tr><td style=\"text-align: right;\">  12.1855</td></tr>\n",
       "<tr><td style=\"text-align: right;\">  12.0815</td></tr>\n",
       "<tr><td style=\"text-align: right;\">  12.0469</td></tr>\n",
       "<tr><td style=\"text-align: right;\">  12.1045</td></tr>\n",
       "<tr><td style=\"text-align: right;\">  12.0041</td></tr>\n",
       "<tr><td style=\"text-align: right;\">  12.1582</td></tr>\n",
       "<tr><td style=\"text-align: right;\">  11.6695</td></tr>\n",
       "</tbody>\n",
       "</table>"
      ]
     },
     "metadata": {},
     "output_type": "display_data"
    },
    {
     "data": {
      "text/plain": []
     },
     "execution_count": 174,
     "metadata": {},
     "output_type": "execute_result"
    }
   ],
   "source": [
    "ert_preds1_test.head()"
   ]
  },
  {
   "cell_type": "code",
   "execution_count": 175,
   "metadata": {
    "collapsed": true
   },
   "outputs": [],
   "source": [
    "a=ert_preds1_test.as_data_frame()"
   ]
  },
  {
   "cell_type": "code",
   "execution_count": 176,
   "metadata": {},
   "outputs": [
    {
     "data": {
      "text/html": [
       "<div>\n",
       "<style>\n",
       "    .dataframe thead tr:only-child th {\n",
       "        text-align: right;\n",
       "    }\n",
       "\n",
       "    .dataframe thead th {\n",
       "        text-align: left;\n",
       "    }\n",
       "\n",
       "    .dataframe tbody tr th {\n",
       "        vertical-align: top;\n",
       "    }\n",
       "</style>\n",
       "<table border=\"1\" class=\"dataframe\">\n",
       "  <thead>\n",
       "    <tr style=\"text-align: right;\">\n",
       "      <th></th>\n",
       "      <th>predict</th>\n",
       "    </tr>\n",
       "  </thead>\n",
       "  <tbody>\n",
       "    <tr>\n",
       "      <th>0</th>\n",
       "      <td>11.636016</td>\n",
       "    </tr>\n",
       "    <tr>\n",
       "      <th>1</th>\n",
       "      <td>11.963691</td>\n",
       "    </tr>\n",
       "    <tr>\n",
       "      <th>2</th>\n",
       "      <td>12.098417</td>\n",
       "    </tr>\n",
       "    <tr>\n",
       "      <th>3</th>\n",
       "      <td>12.185503</td>\n",
       "    </tr>\n",
       "    <tr>\n",
       "      <th>4</th>\n",
       "      <td>12.081470</td>\n",
       "    </tr>\n",
       "  </tbody>\n",
       "</table>\n",
       "</div>"
      ],
      "text/plain": [
       "     predict\n",
       "0  11.636016\n",
       "1  11.963691\n",
       "2  12.098417\n",
       "3  12.185503\n",
       "4  12.081470"
      ]
     },
     "execution_count": 176,
     "metadata": {},
     "output_type": "execute_result"
    }
   ],
   "source": [
    "a.head()"
   ]
  },
  {
   "cell_type": "markdown",
   "metadata": {},
   "source": [
    "<div class=\"alert alert-block alert-success\">\n",
    "<font color='darkblue'>Before we concatenate our Log(SalePrice) with Id, we need to convert our log(Saleprice) to Saleprice ($) </font>"
   ]
  },
  {
   "cell_type": "code",
   "execution_count": 177,
   "metadata": {
    "collapsed": true
   },
   "outputs": [],
   "source": [
    "a['Saleprice'] = np.exp(a['predict'])"
   ]
  },
  {
   "cell_type": "code",
   "execution_count": 178,
   "metadata": {},
   "outputs": [
    {
     "data": {
      "text/html": [
       "<div>\n",
       "<style>\n",
       "    .dataframe thead tr:only-child th {\n",
       "        text-align: right;\n",
       "    }\n",
       "\n",
       "    .dataframe thead th {\n",
       "        text-align: left;\n",
       "    }\n",
       "\n",
       "    .dataframe tbody tr th {\n",
       "        vertical-align: top;\n",
       "    }\n",
       "</style>\n",
       "<table border=\"1\" class=\"dataframe\">\n",
       "  <thead>\n",
       "    <tr style=\"text-align: right;\">\n",
       "      <th></th>\n",
       "      <th>predict</th>\n",
       "      <th>Saleprice</th>\n",
       "    </tr>\n",
       "  </thead>\n",
       "  <tbody>\n",
       "    <tr>\n",
       "      <th>0</th>\n",
       "      <td>11.636016</td>\n",
       "      <td>113098.646621</td>\n",
       "    </tr>\n",
       "    <tr>\n",
       "      <th>1</th>\n",
       "      <td>11.963691</td>\n",
       "      <td>156951.340489</td>\n",
       "    </tr>\n",
       "    <tr>\n",
       "      <th>2</th>\n",
       "      <td>12.098417</td>\n",
       "      <td>179587.393635</td>\n",
       "    </tr>\n",
       "    <tr>\n",
       "      <th>3</th>\n",
       "      <td>12.185503</td>\n",
       "      <td>195928.076250</td>\n",
       "    </tr>\n",
       "    <tr>\n",
       "      <th>4</th>\n",
       "      <td>12.081470</td>\n",
       "      <td>176569.565797</td>\n",
       "    </tr>\n",
       "  </tbody>\n",
       "</table>\n",
       "</div>"
      ],
      "text/plain": [
       "     predict      Saleprice\n",
       "0  11.636016  113098.646621\n",
       "1  11.963691  156951.340489\n",
       "2  12.098417  179587.393635\n",
       "3  12.185503  195928.076250\n",
       "4  12.081470  176569.565797"
      ]
     },
     "execution_count": 178,
     "metadata": {},
     "output_type": "execute_result"
    }
   ],
   "source": [
    "a.head()"
   ]
  },
  {
   "cell_type": "markdown",
   "metadata": {},
   "source": [
    "<div class=\"alert alert-block alert-info\">\n",
    "<font color='green'>Here, we can have a look at the statistics of  our predict log(SalePrice) and SalePrice.</font>"
   ]
  },
  {
   "cell_type": "code",
   "execution_count": 179,
   "metadata": {},
   "outputs": [
    {
     "data": {
      "text/html": [
       "<div>\n",
       "<style>\n",
       "    .dataframe thead tr:only-child th {\n",
       "        text-align: right;\n",
       "    }\n",
       "\n",
       "    .dataframe thead th {\n",
       "        text-align: left;\n",
       "    }\n",
       "\n",
       "    .dataframe tbody tr th {\n",
       "        vertical-align: top;\n",
       "    }\n",
       "</style>\n",
       "<table border=\"1\" class=\"dataframe\">\n",
       "  <thead>\n",
       "    <tr style=\"text-align: right;\">\n",
       "      <th></th>\n",
       "      <th>predict</th>\n",
       "      <th>Saleprice</th>\n",
       "    </tr>\n",
       "  </thead>\n",
       "  <tbody>\n",
       "    <tr>\n",
       "      <th>count</th>\n",
       "      <td>1459.000000</td>\n",
       "      <td>1.459000e+03</td>\n",
       "    </tr>\n",
       "    <tr>\n",
       "      <th>mean</th>\n",
       "      <td>12.013802</td>\n",
       "      <td>1.794062e+05</td>\n",
       "    </tr>\n",
       "    <tr>\n",
       "      <th>std</th>\n",
       "      <td>0.394055</td>\n",
       "      <td>8.874769e+04</td>\n",
       "    </tr>\n",
       "    <tr>\n",
       "      <th>min</th>\n",
       "      <td>10.865569</td>\n",
       "      <td>5.234275e+04</td>\n",
       "    </tr>\n",
       "    <tr>\n",
       "      <th>25%</th>\n",
       "      <td>11.741692</td>\n",
       "      <td>1.257048e+05</td>\n",
       "    </tr>\n",
       "    <tr>\n",
       "      <th>50%</th>\n",
       "      <td>11.966384</td>\n",
       "      <td>1.573746e+05</td>\n",
       "    </tr>\n",
       "    <tr>\n",
       "      <th>75%</th>\n",
       "      <td>12.254307</td>\n",
       "      <td>2.098833e+05</td>\n",
       "    </tr>\n",
       "    <tr>\n",
       "      <th>max</th>\n",
       "      <td>14.459269</td>\n",
       "      <td>1.903622e+06</td>\n",
       "    </tr>\n",
       "  </tbody>\n",
       "</table>\n",
       "</div>"
      ],
      "text/plain": [
       "           predict     Saleprice\n",
       "count  1459.000000  1.459000e+03\n",
       "mean     12.013802  1.794062e+05\n",
       "std       0.394055  8.874769e+04\n",
       "min      10.865569  5.234275e+04\n",
       "25%      11.741692  1.257048e+05\n",
       "50%      11.966384  1.573746e+05\n",
       "75%      12.254307  2.098833e+05\n",
       "max      14.459269  1.903622e+06"
      ]
     },
     "execution_count": 179,
     "metadata": {},
     "output_type": "execute_result"
    }
   ],
   "source": [
    "a.describe()"
   ]
  },
  {
   "cell_type": "markdown",
   "metadata": {},
   "source": [
    "<div class=\"alert alert-block alert-info\">\n",
    "<font color='green'>Now, we can put Id and Saleprice together, save them and submit it on Kaggle. </font>"
   ]
  },
  {
   "cell_type": "code",
   "execution_count": 180,
   "metadata": {
    "collapsed": true
   },
   "outputs": [],
   "source": [
    "Id=testa['Id']"
   ]
  },
  {
   "cell_type": "code",
   "execution_count": 181,
   "metadata": {
    "collapsed": true
   },
   "outputs": [],
   "source": [
    "SalePrice=a['Saleprice']"
   ]
  },
  {
   "cell_type": "code",
   "execution_count": 182,
   "metadata": {
    "collapsed": true
   },
   "outputs": [],
   "source": [
    "Regression_result2=pd.concat((Id,SalePrice),axis=1)"
   ]
  },
  {
   "cell_type": "code",
   "execution_count": 183,
   "metadata": {},
   "outputs": [
    {
     "data": {
      "text/html": [
       "<div>\n",
       "<style>\n",
       "    .dataframe thead tr:only-child th {\n",
       "        text-align: right;\n",
       "    }\n",
       "\n",
       "    .dataframe thead th {\n",
       "        text-align: left;\n",
       "    }\n",
       "\n",
       "    .dataframe tbody tr th {\n",
       "        vertical-align: top;\n",
       "    }\n",
       "</style>\n",
       "<table border=\"1\" class=\"dataframe\">\n",
       "  <thead>\n",
       "    <tr style=\"text-align: right;\">\n",
       "      <th></th>\n",
       "      <th>Id</th>\n",
       "      <th>Saleprice</th>\n",
       "    </tr>\n",
       "  </thead>\n",
       "  <tbody>\n",
       "    <tr>\n",
       "      <th>0</th>\n",
       "      <td>1461</td>\n",
       "      <td>113098.646621</td>\n",
       "    </tr>\n",
       "    <tr>\n",
       "      <th>1</th>\n",
       "      <td>1462</td>\n",
       "      <td>156951.340489</td>\n",
       "    </tr>\n",
       "    <tr>\n",
       "      <th>2</th>\n",
       "      <td>1463</td>\n",
       "      <td>179587.393635</td>\n",
       "    </tr>\n",
       "    <tr>\n",
       "      <th>3</th>\n",
       "      <td>1464</td>\n",
       "      <td>195928.076250</td>\n",
       "    </tr>\n",
       "    <tr>\n",
       "      <th>4</th>\n",
       "      <td>1465</td>\n",
       "      <td>176569.565797</td>\n",
       "    </tr>\n",
       "  </tbody>\n",
       "</table>\n",
       "</div>"
      ],
      "text/plain": [
       "     Id      Saleprice\n",
       "0  1461  113098.646621\n",
       "1  1462  156951.340489\n",
       "2  1463  179587.393635\n",
       "3  1464  195928.076250\n",
       "4  1465  176569.565797"
      ]
     },
     "execution_count": 183,
     "metadata": {},
     "output_type": "execute_result"
    }
   ],
   "source": [
    "Regression_result2.head()"
   ]
  },
  {
   "cell_type": "code",
   "execution_count": 184,
   "metadata": {
    "collapsed": true
   },
   "outputs": [],
   "source": [
    "Regression_result2.to_csv('regression_result2.csv')"
   ]
  },
  {
   "cell_type": "markdown",
   "metadata": {},
   "source": [
    "## 3. Neural Network "
   ]
  },
  {
   "cell_type": "code",
   "execution_count": 185,
   "metadata": {
    "collapsed": true
   },
   "outputs": [],
   "source": [
    "from h2o.estimators.deeplearning import H2ODeepLearningEstimator\n",
    "from h2o.grid.grid_search import H2OGridSearch"
   ]
  },
  {
   "cell_type": "markdown",
   "metadata": {},
   "source": [
    "### (1) Neural Network Model 1 "
   ]
  },
  {
   "cell_type": "code",
   "execution_count": 186,
   "metadata": {},
   "outputs": [
    {
     "name": "stdout",
     "output_type": "stream",
     "text": [
      "deeplearning Model Build progress: |██████████████████████████████████████| 100%\n",
      "Model Details\n",
      "=============\n",
      "H2ODeepLearningEstimator :  Deep Learning\n",
      "Model Key:  nn_model\n",
      "\n",
      "\n",
      "ModelMetricsRegression: deeplearning\n",
      "** Reported on train data. **\n",
      "\n",
      "MSE: 0.017656470846009503\n",
      "RMSE: 0.13287765367438387\n",
      "MAE: 0.0997377645940417\n",
      "RMSLE: 0.010380101398085768\n",
      "Mean Residual Deviance: 0.017656470846009503\n",
      "\n",
      "ModelMetricsRegression: deeplearning\n",
      "** Reported on validation data. **\n",
      "\n",
      "MSE: 0.017669178990072247\n",
      "RMSE: 0.1329254640393339\n",
      "MAE: 0.10258430690656133\n",
      "RMSLE: 0.010293167372217037\n",
      "Mean Residual Deviance: 0.017669178990072247\n",
      "Scoring History: \n"
     ]
    },
    {
     "data": {
      "text/html": [
       "<div style=\"overflow:auto\"><table style=\"width:50%\"><tr><td><b></b></td>\n",
       "<td><b>timestamp</b></td>\n",
       "<td><b>duration</b></td>\n",
       "<td><b>training_speed</b></td>\n",
       "<td><b>epochs</b></td>\n",
       "<td><b>iterations</b></td>\n",
       "<td><b>samples</b></td>\n",
       "<td><b>training_rmse</b></td>\n",
       "<td><b>training_deviance</b></td>\n",
       "<td><b>training_mae</b></td>\n",
       "<td><b>validation_rmse</b></td>\n",
       "<td><b>validation_deviance</b></td>\n",
       "<td><b>validation_mae</b></td></tr>\n",
       "<tr><td></td>\n",
       "<td>2018-04-18 20:39:15</td>\n",
       "<td> 0.000 sec</td>\n",
       "<td>None</td>\n",
       "<td>0.0</td>\n",
       "<td>0</td>\n",
       "<td>0.0</td>\n",
       "<td>nan</td>\n",
       "<td>nan</td>\n",
       "<td>nan</td>\n",
       "<td>nan</td>\n",
       "<td>nan</td>\n",
       "<td>nan</td></tr>\n",
       "<tr><td></td>\n",
       "<td>2018-04-18 20:39:16</td>\n",
       "<td> 0.366 sec</td>\n",
       "<td>14792 obs/sec</td>\n",
       "<td>5.0</td>\n",
       "<td>1</td>\n",
       "<td>5000.0</td>\n",
       "<td>0.1418231</td>\n",
       "<td>0.0201138</td>\n",
       "<td>0.1087496</td>\n",
       "<td>0.1458985</td>\n",
       "<td>0.0212864</td>\n",
       "<td>0.1140089</td></tr>\n",
       "<tr><td></td>\n",
       "<td>2018-04-18 20:39:16</td>\n",
       "<td> 0.761 sec</td>\n",
       "<td>13986 obs/sec</td>\n",
       "<td>10.0</td>\n",
       "<td>2</td>\n",
       "<td>10000.0</td>\n",
       "<td>0.1380494</td>\n",
       "<td>0.0190576</td>\n",
       "<td>0.1066985</td>\n",
       "<td>0.1393803</td>\n",
       "<td>0.0194269</td>\n",
       "<td>0.1099798</td></tr>\n",
       "<tr><td></td>\n",
       "<td>2018-04-18 20:39:16</td>\n",
       "<td> 1.143 sec</td>\n",
       "<td>13927 obs/sec</td>\n",
       "<td>15.0</td>\n",
       "<td>3</td>\n",
       "<td>15000.0</td>\n",
       "<td>0.1556677</td>\n",
       "<td>0.0242324</td>\n",
       "<td>0.1226973</td>\n",
       "<td>0.1547040</td>\n",
       "<td>0.0239333</td>\n",
       "<td>0.1221961</td></tr>\n",
       "<tr><td></td>\n",
       "<td>2018-04-18 20:39:17</td>\n",
       "<td> 1.717 sec</td>\n",
       "<td>12322 obs/sec</td>\n",
       "<td>20.0</td>\n",
       "<td>4</td>\n",
       "<td>20000.0</td>\n",
       "<td>0.1447107</td>\n",
       "<td>0.0209412</td>\n",
       "<td>0.1106949</td>\n",
       "<td>0.1422261</td>\n",
       "<td>0.0202282</td>\n",
       "<td>0.1135936</td></tr>\n",
       "<tr><td></td>\n",
       "<td>2018-04-18 20:39:17</td>\n",
       "<td> 2.086 sec</td>\n",
       "<td>12639 obs/sec</td>\n",
       "<td>25.0</td>\n",
       "<td>5</td>\n",
       "<td>25000.0</td>\n",
       "<td>0.1328777</td>\n",
       "<td>0.0176565</td>\n",
       "<td>0.0997378</td>\n",
       "<td>0.1329255</td>\n",
       "<td>0.0176692</td>\n",
       "<td>0.1025843</td></tr>\n",
       "<tr><td></td>\n",
       "<td>2018-04-18 20:39:18</td>\n",
       "<td> 2.349 sec</td>\n",
       "<td>13471 obs/sec</td>\n",
       "<td>30.0</td>\n",
       "<td>6</td>\n",
       "<td>30000.0</td>\n",
       "<td>0.1563885</td>\n",
       "<td>0.0244574</td>\n",
       "<td>0.1243086</td>\n",
       "<td>0.1569206</td>\n",
       "<td>0.0246241</td>\n",
       "<td>0.1268278</td></tr>\n",
       "<tr><td></td>\n",
       "<td>2018-04-18 20:39:18</td>\n",
       "<td> 2.653 sec</td>\n",
       "<td>13910 obs/sec</td>\n",
       "<td>35.0</td>\n",
       "<td>7</td>\n",
       "<td>35000.0</td>\n",
       "<td>0.1398647</td>\n",
       "<td>0.0195621</td>\n",
       "<td>0.1058328</td>\n",
       "<td>0.1412755</td>\n",
       "<td>0.0199588</td>\n",
       "<td>0.1098274</td></tr>\n",
       "<tr><td></td>\n",
       "<td>2018-04-18 20:39:18</td>\n",
       "<td> 2.970 sec</td>\n",
       "<td>14189 obs/sec</td>\n",
       "<td>40.0</td>\n",
       "<td>8</td>\n",
       "<td>40000.0</td>\n",
       "<td>0.1456550</td>\n",
       "<td>0.0212154</td>\n",
       "<td>0.1133003</td>\n",
       "<td>0.1463870</td>\n",
       "<td>0.0214291</td>\n",
       "<td>0.1156538</td></tr>\n",
       "<tr><td></td>\n",
       "<td>2018-04-18 20:39:18</td>\n",
       "<td> 3.265 sec</td>\n",
       "<td>14506 obs/sec</td>\n",
       "<td>45.0</td>\n",
       "<td>9</td>\n",
       "<td>45000.0</td>\n",
       "<td>0.1608040</td>\n",
       "<td>0.0258579</td>\n",
       "<td>0.1275419</td>\n",
       "<td>0.1585102</td>\n",
       "<td>0.0251255</td>\n",
       "<td>0.1287468</td></tr>\n",
       "<tr><td></td>\n",
       "<td>2018-04-18 20:39:19</td>\n",
       "<td> 3.621 sec</td>\n",
       "<td>14509 obs/sec</td>\n",
       "<td>50.0</td>\n",
       "<td>10</td>\n",
       "<td>50000.0</td>\n",
       "<td>0.1509837</td>\n",
       "<td>0.0227961</td>\n",
       "<td>0.1168179</td>\n",
       "<td>0.1498619</td>\n",
       "<td>0.0224586</td>\n",
       "<td>0.1201064</td></tr>\n",
       "<tr><td></td>\n",
       "<td>2018-04-18 20:39:19</td>\n",
       "<td> 3.632 sec</td>\n",
       "<td>14501 obs/sec</td>\n",
       "<td>50.0</td>\n",
       "<td>10</td>\n",
       "<td>50000.0</td>\n",
       "<td>0.1328777</td>\n",
       "<td>0.0176565</td>\n",
       "<td>0.0997378</td>\n",
       "<td>0.1329255</td>\n",
       "<td>0.0176692</td>\n",
       "<td>0.1025843</td></tr></table></div>"
      ],
      "text/plain": [
       "    timestamp            duration    training_speed    epochs    iterations    samples    training_rmse    training_deviance    training_mae    validation_rmse    validation_deviance    validation_mae\n",
       "--  -------------------  ----------  ----------------  --------  ------------  ---------  ---------------  -------------------  --------------  -----------------  ---------------------  ----------------\n",
       "    2018-04-18 20:39:15  0.000 sec                     0         0             0          nan              nan                  nan             nan                nan                    nan\n",
       "    2018-04-18 20:39:16  0.366 sec   14792 obs/sec     5         1             5000       0.141823         0.0201138            0.10875         0.145899           0.0212864              0.114009\n",
       "    2018-04-18 20:39:16  0.761 sec   13986 obs/sec     10        2             10000      0.138049         0.0190576            0.106699        0.13938            0.0194269              0.10998\n",
       "    2018-04-18 20:39:16  1.143 sec   13927 obs/sec     15        3             15000      0.155668         0.0242324            0.122697        0.154704           0.0239333              0.122196\n",
       "    2018-04-18 20:39:17  1.717 sec   12322 obs/sec     20        4             20000      0.144711         0.0209412            0.110695        0.142226           0.0202282              0.113594\n",
       "    2018-04-18 20:39:17  2.086 sec   12639 obs/sec     25        5             25000      0.132878         0.0176565            0.0997378       0.132925           0.0176692              0.102584\n",
       "    2018-04-18 20:39:18  2.349 sec   13471 obs/sec     30        6             30000      0.156388         0.0244574            0.124309        0.156921           0.0246241              0.126828\n",
       "    2018-04-18 20:39:18  2.653 sec   13910 obs/sec     35        7             35000      0.139865         0.0195621            0.105833        0.141276           0.0199588              0.109827\n",
       "    2018-04-18 20:39:18  2.970 sec   14189 obs/sec     40        8             40000      0.145655         0.0212154            0.1133          0.146387           0.0214291              0.115654\n",
       "    2018-04-18 20:39:18  3.265 sec   14506 obs/sec     45        9             45000      0.160804         0.0258579            0.127542        0.15851            0.0251255              0.128747\n",
       "    2018-04-18 20:39:19  3.621 sec   14509 obs/sec     50        10            50000      0.150984         0.0227961            0.116818        0.149862           0.0224586              0.120106\n",
       "    2018-04-18 20:39:19  3.632 sec   14501 obs/sec     50        10            50000      0.132878         0.0176565            0.0997378       0.132925           0.0176692              0.102584"
      ]
     },
     "metadata": {},
     "output_type": "display_data"
    },
    {
     "name": "stdout",
     "output_type": "stream",
     "text": [
      "Variable Importances: \n"
     ]
    },
    {
     "data": {
      "text/html": [
       "<div style=\"overflow:auto\"><table style=\"width:50%\"><tr><td><b>variable</b></td>\n",
       "<td><b>relative_importance</b></td>\n",
       "<td><b>scaled_importance</b></td>\n",
       "<td><b>percentage</b></td></tr>\n",
       "<tr><td>OverallQual</td>\n",
       "<td>1.0</td>\n",
       "<td>1.0</td>\n",
       "<td>0.0507648</td></tr>\n",
       "<tr><td>GrLivArea</td>\n",
       "<td>0.8033905</td>\n",
       "<td>0.8033905</td>\n",
       "<td>0.0407840</td></tr>\n",
       "<tr><td>TotalSF</td>\n",
       "<td>0.7239822</td>\n",
       "<td>0.7239822</td>\n",
       "<td>0.0367528</td></tr>\n",
       "<tr><td>CentralAir</td>\n",
       "<td>0.6634696</td>\n",
       "<td>0.6634696</td>\n",
       "<td>0.0336809</td></tr>\n",
       "<tr><td>YearRemodAdd</td>\n",
       "<td>0.5187544</td>\n",
       "<td>0.5187544</td>\n",
       "<td>0.0263345</td></tr>\n",
       "<tr><td>---</td>\n",
       "<td>---</td>\n",
       "<td>---</td>\n",
       "<td>---</td></tr>\n",
       "<tr><td>MoSold</td>\n",
       "<td>0.0637213</td>\n",
       "<td>0.0637213</td>\n",
       "<td>0.0032348</td></tr>\n",
       "<tr><td>BsmtUnfSF</td>\n",
       "<td>0.0498604</td>\n",
       "<td>0.0498604</td>\n",
       "<td>0.0025312</td></tr>\n",
       "<tr><td>Condition2</td>\n",
       "<td>0.0376009</td>\n",
       "<td>0.0376009</td>\n",
       "<td>0.0019088</td></tr>\n",
       "<tr><td>Street</td>\n",
       "<td>0.0227233</td>\n",
       "<td>0.0227233</td>\n",
       "<td>0.0011535</td></tr>\n",
       "<tr><td>Utilities</td>\n",
       "<td>0.0101661</td>\n",
       "<td>0.0101661</td>\n",
       "<td>0.0005161</td></tr></table></div>"
      ],
      "text/plain": [
       "variable      relative_importance    scaled_importance     percentage\n",
       "------------  ---------------------  --------------------  ---------------------\n",
       "OverallQual   1.0                    1.0                   0.05076483821616053\n",
       "GrLivArea     0.8033905029296875     0.8033905029296875    0.04078398890562542\n",
       "TotalSF       0.7239821553230286     0.7239821553230286    0.03675283698636075\n",
       "CentralAir    0.6634695529937744     0.6634695529937744    0.0336809245190773\n",
       "YearRemodAdd  0.5187544226646423     0.5187544226646423    0.026334484340488323\n",
       "---           ---                    ---                   ---\n",
       "MoSold        0.06372132897377014    0.06372132897377014   0.0032348029562721836\n",
       "BsmtUnfSF     0.0498603954911232     0.0498603954911232    0.002531154910500649\n",
       "Condition2    0.03760094940662384    0.03760094940662384   0.0019088061134012963\n",
       "Street        0.022723276168107986   0.022723276168107986  0.001153543438415138\n",
       "Utilities     0.010166122578084469   0.010166122578084469  0.0005160815679621148"
      ]
     },
     "metadata": {},
     "output_type": "display_data"
    },
    {
     "name": "stdout",
     "output_type": "stream",
     "text": [
      "\n",
      "See the whole table with table.as_data_frame()\n"
     ]
    },
    {
     "data": {
      "text/plain": []
     },
     "execution_count": 186,
     "metadata": {},
     "output_type": "execute_result"
    }
   ],
   "source": [
    "# neural network\n",
    "\n",
    "# initialize nn model\n",
    "nn_model = H2ODeepLearningEstimator(\n",
    "    epochs=50,                    # read over the data 50 times, but in mini-batches\n",
    "    hidden=[100],                 # 100 hidden units in 1 hidden layer\n",
    "    input_dropout_ratio=0.2,      # randomly drop 20% of inputs for each iteration, helps w/ generalization\n",
    "    hidden_dropout_ratios=[0.05], # randomly set 5% of hidden weights to 0 each iteration, helps w/ generalization\n",
    "    activation='TanhWithDropout', # bounded activation function that allows for dropout, tanh\n",
    "    l1=0.001,                     # L1 penalty can help generalization   \n",
    "    l2=0.01,                      # L2 penalty can increase stability in presence of highly correlated inputs\n",
    "    adaptive_rate=True,           # adjust magnitude of weight updates automatically (+stability, +accuracy)\n",
    "    stopping_rounds=5,            # stop after validation error does not decrease for 5 iterations\n",
    "    score_each_iteration=True,    # score validation error on every iteration\n",
    "    model_id='nn_model')          # for easy lookup in flow\n",
    "\n",
    "# train nn model\n",
    "nn_model.train(\n",
    "    x=x,\n",
    "    y=y,\n",
    "    training_frame=train,\n",
    "    validation_frame=validation)\n",
    "\n",
    "# print model information\n",
    "nn_model\n",
    "\n",
    "# view detailed results at http://localhost:54321/flow/index.html"
   ]
  },
  {
   "cell_type": "code",
   "execution_count": 187,
   "metadata": {},
   "outputs": [
    {
     "name": "stdout",
     "output_type": "stream",
     "text": [
      "deeplearning prediction progress: |███████████████████████████████████████| 100%\n",
      "deeplearning prediction progress: |███████████████████████████████████████| 100%\n"
     ]
    }
   ],
   "source": [
    "ert_preds1_val = nn_model.predict(validation)\n",
    "ert_preds1_test = nn_model.predict(test)"
   ]
  },
  {
   "cell_type": "markdown",
   "metadata": {},
   "source": [
    "<div class=\"alert alert-block alert-info\">\n",
    "<font color='green'>Below is our predicted log(SalePrice) based on our Random Forest Model. \n",
    "<br>\n",
    "We then convernt the predicted SalePrice to a data frame so that we can concatenate it with Id.</font>"
   ]
  },
  {
   "cell_type": "code",
   "execution_count": 188,
   "metadata": {
    "scrolled": true
   },
   "outputs": [
    {
     "data": {
      "text/html": [
       "<table>\n",
       "<thead>\n",
       "<tr><th style=\"text-align: right;\">  predict</th></tr>\n",
       "</thead>\n",
       "<tbody>\n",
       "<tr><td style=\"text-align: right;\">  11.6114</td></tr>\n",
       "<tr><td style=\"text-align: right;\">  11.9857</td></tr>\n",
       "<tr><td style=\"text-align: right;\">  12.0955</td></tr>\n",
       "<tr><td style=\"text-align: right;\">  12.1944</td></tr>\n",
       "<tr><td style=\"text-align: right;\">  12.1671</td></tr>\n",
       "<tr><td style=\"text-align: right;\">  12.0038</td></tr>\n",
       "<tr><td style=\"text-align: right;\">  12.0608</td></tr>\n",
       "<tr><td style=\"text-align: right;\">  11.9629</td></tr>\n",
       "<tr><td style=\"text-align: right;\">  12.1912</td></tr>\n",
       "<tr><td style=\"text-align: right;\">  11.6291</td></tr>\n",
       "</tbody>\n",
       "</table>"
      ]
     },
     "metadata": {},
     "output_type": "display_data"
    },
    {
     "data": {
      "text/plain": []
     },
     "execution_count": 188,
     "metadata": {},
     "output_type": "execute_result"
    }
   ],
   "source": [
    "ert_preds1_test.head()"
   ]
  },
  {
   "cell_type": "code",
   "execution_count": 189,
   "metadata": {
    "collapsed": true
   },
   "outputs": [],
   "source": [
    "a=ert_preds1_test.as_data_frame()"
   ]
  },
  {
   "cell_type": "code",
   "execution_count": 190,
   "metadata": {},
   "outputs": [
    {
     "data": {
      "text/html": [
       "<div>\n",
       "<style>\n",
       "    .dataframe thead tr:only-child th {\n",
       "        text-align: right;\n",
       "    }\n",
       "\n",
       "    .dataframe thead th {\n",
       "        text-align: left;\n",
       "    }\n",
       "\n",
       "    .dataframe tbody tr th {\n",
       "        vertical-align: top;\n",
       "    }\n",
       "</style>\n",
       "<table border=\"1\" class=\"dataframe\">\n",
       "  <thead>\n",
       "    <tr style=\"text-align: right;\">\n",
       "      <th></th>\n",
       "      <th>predict</th>\n",
       "    </tr>\n",
       "  </thead>\n",
       "  <tbody>\n",
       "    <tr>\n",
       "      <th>0</th>\n",
       "      <td>11.611356</td>\n",
       "    </tr>\n",
       "    <tr>\n",
       "      <th>1</th>\n",
       "      <td>11.985731</td>\n",
       "    </tr>\n",
       "    <tr>\n",
       "      <th>2</th>\n",
       "      <td>12.095538</td>\n",
       "    </tr>\n",
       "    <tr>\n",
       "      <th>3</th>\n",
       "      <td>12.194413</td>\n",
       "    </tr>\n",
       "    <tr>\n",
       "      <th>4</th>\n",
       "      <td>12.167088</td>\n",
       "    </tr>\n",
       "  </tbody>\n",
       "</table>\n",
       "</div>"
      ],
      "text/plain": [
       "     predict\n",
       "0  11.611356\n",
       "1  11.985731\n",
       "2  12.095538\n",
       "3  12.194413\n",
       "4  12.167088"
      ]
     },
     "execution_count": 190,
     "metadata": {},
     "output_type": "execute_result"
    }
   ],
   "source": [
    "a.head()"
   ]
  },
  {
   "cell_type": "markdown",
   "metadata": {},
   "source": [
    "<div class=\"alert alert-block alert-success\">\n",
    "<font color='darkblue'>Before we concatenate our Log(SalePrice) with Id, we need to convert our log(Saleprice) to Saleprice ($) </font>"
   ]
  },
  {
   "cell_type": "code",
   "execution_count": 191,
   "metadata": {
    "collapsed": true
   },
   "outputs": [],
   "source": [
    "a['Saleprice'] = np.exp(a['predict'])"
   ]
  },
  {
   "cell_type": "code",
   "execution_count": 192,
   "metadata": {},
   "outputs": [
    {
     "data": {
      "text/html": [
       "<div>\n",
       "<style>\n",
       "    .dataframe thead tr:only-child th {\n",
       "        text-align: right;\n",
       "    }\n",
       "\n",
       "    .dataframe thead th {\n",
       "        text-align: left;\n",
       "    }\n",
       "\n",
       "    .dataframe tbody tr th {\n",
       "        vertical-align: top;\n",
       "    }\n",
       "</style>\n",
       "<table border=\"1\" class=\"dataframe\">\n",
       "  <thead>\n",
       "    <tr style=\"text-align: right;\">\n",
       "      <th></th>\n",
       "      <th>predict</th>\n",
       "      <th>Saleprice</th>\n",
       "    </tr>\n",
       "  </thead>\n",
       "  <tbody>\n",
       "    <tr>\n",
       "      <th>0</th>\n",
       "      <td>11.611356</td>\n",
       "      <td>110343.796225</td>\n",
       "    </tr>\n",
       "    <tr>\n",
       "      <th>1</th>\n",
       "      <td>11.985731</td>\n",
       "      <td>160448.953970</td>\n",
       "    </tr>\n",
       "    <tr>\n",
       "      <th>2</th>\n",
       "      <td>12.095538</td>\n",
       "      <td>179071.094361</td>\n",
       "    </tr>\n",
       "    <tr>\n",
       "      <th>3</th>\n",
       "      <td>12.194413</td>\n",
       "      <td>197681.643639</td>\n",
       "    </tr>\n",
       "    <tr>\n",
       "      <th>4</th>\n",
       "      <td>12.167088</td>\n",
       "      <td>192353.147289</td>\n",
       "    </tr>\n",
       "  </tbody>\n",
       "</table>\n",
       "</div>"
      ],
      "text/plain": [
       "     predict      Saleprice\n",
       "0  11.611356  110343.796225\n",
       "1  11.985731  160448.953970\n",
       "2  12.095538  179071.094361\n",
       "3  12.194413  197681.643639\n",
       "4  12.167088  192353.147289"
      ]
     },
     "execution_count": 192,
     "metadata": {},
     "output_type": "execute_result"
    }
   ],
   "source": [
    "a.head()"
   ]
  },
  {
   "cell_type": "markdown",
   "metadata": {},
   "source": [
    "<div class=\"alert alert-block alert-info\">\n",
    "<font color='green'>Here, we can have a look at the statistics of  our predict log(SalePrice) and SalePrice.</font>"
   ]
  },
  {
   "cell_type": "code",
   "execution_count": 193,
   "metadata": {},
   "outputs": [
    {
     "data": {
      "text/html": [
       "<div>\n",
       "<style>\n",
       "    .dataframe thead tr:only-child th {\n",
       "        text-align: right;\n",
       "    }\n",
       "\n",
       "    .dataframe thead th {\n",
       "        text-align: left;\n",
       "    }\n",
       "\n",
       "    .dataframe tbody tr th {\n",
       "        vertical-align: top;\n",
       "    }\n",
       "</style>\n",
       "<table border=\"1\" class=\"dataframe\">\n",
       "  <thead>\n",
       "    <tr style=\"text-align: right;\">\n",
       "      <th></th>\n",
       "      <th>predict</th>\n",
       "      <th>Saleprice</th>\n",
       "    </tr>\n",
       "  </thead>\n",
       "  <tbody>\n",
       "    <tr>\n",
       "      <th>count</th>\n",
       "      <td>1459.000000</td>\n",
       "      <td>1459.000000</td>\n",
       "    </tr>\n",
       "    <tr>\n",
       "      <th>mean</th>\n",
       "      <td>12.005312</td>\n",
       "      <td>179638.889158</td>\n",
       "    </tr>\n",
       "    <tr>\n",
       "      <th>std</th>\n",
       "      <td>0.424633</td>\n",
       "      <td>82873.220513</td>\n",
       "    </tr>\n",
       "    <tr>\n",
       "      <th>min</th>\n",
       "      <td>10.986299</td>\n",
       "      <td>59059.391842</td>\n",
       "    </tr>\n",
       "    <tr>\n",
       "      <th>25%</th>\n",
       "      <td>11.696015</td>\n",
       "      <td>120092.225511</td>\n",
       "    </tr>\n",
       "    <tr>\n",
       "      <th>50%</th>\n",
       "      <td>11.944901</td>\n",
       "      <td>154029.756034</td>\n",
       "    </tr>\n",
       "    <tr>\n",
       "      <th>75%</th>\n",
       "      <td>12.289318</td>\n",
       "      <td>217361.910848</td>\n",
       "    </tr>\n",
       "    <tr>\n",
       "      <th>max</th>\n",
       "      <td>13.414959</td>\n",
       "      <td>669950.420316</td>\n",
       "    </tr>\n",
       "  </tbody>\n",
       "</table>\n",
       "</div>"
      ],
      "text/plain": [
       "           predict      Saleprice\n",
       "count  1459.000000    1459.000000\n",
       "mean     12.005312  179638.889158\n",
       "std       0.424633   82873.220513\n",
       "min      10.986299   59059.391842\n",
       "25%      11.696015  120092.225511\n",
       "50%      11.944901  154029.756034\n",
       "75%      12.289318  217361.910848\n",
       "max      13.414959  669950.420316"
      ]
     },
     "execution_count": 193,
     "metadata": {},
     "output_type": "execute_result"
    }
   ],
   "source": [
    "a.describe()"
   ]
  },
  {
   "cell_type": "markdown",
   "metadata": {},
   "source": [
    "<div class=\"alert alert-block alert-info\">\n",
    "<font color='green'>Now, we can put Id and Saleprice together, save them and submit it on Kaggle. </font>"
   ]
  },
  {
   "cell_type": "code",
   "execution_count": 194,
   "metadata": {
    "collapsed": true
   },
   "outputs": [],
   "source": [
    "Id=testa['Id']"
   ]
  },
  {
   "cell_type": "code",
   "execution_count": 195,
   "metadata": {
    "collapsed": true
   },
   "outputs": [],
   "source": [
    "SalePrice=a['Saleprice']"
   ]
  },
  {
   "cell_type": "code",
   "execution_count": 196,
   "metadata": {
    "collapsed": true
   },
   "outputs": [],
   "source": [
    "nn_model1_result=pd.concat((Id,SalePrice),axis=1)"
   ]
  },
  {
   "cell_type": "code",
   "execution_count": 197,
   "metadata": {},
   "outputs": [
    {
     "data": {
      "text/html": [
       "<div>\n",
       "<style>\n",
       "    .dataframe thead tr:only-child th {\n",
       "        text-align: right;\n",
       "    }\n",
       "\n",
       "    .dataframe thead th {\n",
       "        text-align: left;\n",
       "    }\n",
       "\n",
       "    .dataframe tbody tr th {\n",
       "        vertical-align: top;\n",
       "    }\n",
       "</style>\n",
       "<table border=\"1\" class=\"dataframe\">\n",
       "  <thead>\n",
       "    <tr style=\"text-align: right;\">\n",
       "      <th></th>\n",
       "      <th>Id</th>\n",
       "      <th>Saleprice</th>\n",
       "    </tr>\n",
       "  </thead>\n",
       "  <tbody>\n",
       "    <tr>\n",
       "      <th>0</th>\n",
       "      <td>1461</td>\n",
       "      <td>110343.796225</td>\n",
       "    </tr>\n",
       "    <tr>\n",
       "      <th>1</th>\n",
       "      <td>1462</td>\n",
       "      <td>160448.953970</td>\n",
       "    </tr>\n",
       "    <tr>\n",
       "      <th>2</th>\n",
       "      <td>1463</td>\n",
       "      <td>179071.094361</td>\n",
       "    </tr>\n",
       "    <tr>\n",
       "      <th>3</th>\n",
       "      <td>1464</td>\n",
       "      <td>197681.643639</td>\n",
       "    </tr>\n",
       "    <tr>\n",
       "      <th>4</th>\n",
       "      <td>1465</td>\n",
       "      <td>192353.147289</td>\n",
       "    </tr>\n",
       "  </tbody>\n",
       "</table>\n",
       "</div>"
      ],
      "text/plain": [
       "     Id      Saleprice\n",
       "0  1461  110343.796225\n",
       "1  1462  160448.953970\n",
       "2  1463  179071.094361\n",
       "3  1464  197681.643639\n",
       "4  1465  192353.147289"
      ]
     },
     "execution_count": 197,
     "metadata": {},
     "output_type": "execute_result"
    }
   ],
   "source": [
    "nn_model1_result.head()"
   ]
  },
  {
   "cell_type": "code",
   "execution_count": 198,
   "metadata": {
    "collapsed": true
   },
   "outputs": [],
   "source": [
    "nn_model1_result.to_csv('nn_model1_result.csv')"
   ]
  },
  {
   "cell_type": "markdown",
   "metadata": {},
   "source": [
    "### (2) Neural Network Model 2"
   ]
  },
  {
   "cell_type": "code",
   "execution_count": 199,
   "metadata": {},
   "outputs": [
    {
     "name": "stdout",
     "output_type": "stream",
     "text": [
      "deeplearning Grid Build progress: |███████████████████████████████████████| 100%\n",
      "Errors/Warnings building gridsearch model\n",
      "\n",
      "Hyper-parameter: hidden, [320, 160, 80]\n",
      "Hyper-parameter: input_dropout_ratio, 0.12\n",
      "Hyper-parameter: l1, 0.08\n",
      "Hyper-parameter: l2, 0.009\n",
      "failure_details: DistributedException from /127.0.0.1:54321: '\n",
      "\n",
      "Trying to predict with an unstable model.\n",
      "Job was aborted due to observed numerical instability (exponential growth).\n",
      "Either the weights or the bias values are unreasonably large or lead to large activation values.\n",
      "Try a different initial distribution, a bounded activation function (Tanh), adding regularization\n",
      "(via max_w2, l1, l2, dropout) or learning rate (either enable adaptive_rate or use a smaller learning rate or faster annealing).\n",
      "\n",
      "For more information visit:\n",
      "  http://jira.h2o.ai/browse/TN-4'\n",
      "failure_stack_traces: DistributedException from /127.0.0.1:54321: '\n",
      "\n",
      "Trying to predict with an unstable model.\n",
      "Job was aborted due to observed numerical instability (exponential growth).\n",
      "Either the weights or the bias values are unreasonably large or lead to large activation values.\n",
      "Try a different initial distribution, a bounded activation function (Tanh), adding regularization\n",
      "(via max_w2, l1, l2, dropout) or learning rate (either enable adaptive_rate or use a smaller learning rate or faster annealing).\n",
      "\n",
      "For more information visit:\n",
      "  http://jira.h2o.ai/browse/TN-4', caused by java.lang.UnsupportedOperationException: \n",
      "\n",
      "Trying to predict with an unstable model.\n",
      "Job was aborted due to observed numerical instability (exponential growth).\n",
      "Either the weights or the bias values are unreasonably large or lead to large activation values.\n",
      "Try a different initial distribution, a bounded activation function (Tanh), adding regularization\n",
      "(via max_w2, l1, l2, dropout) or learning rate (either enable adaptive_rate or use a smaller learning rate or faster annealing).\n",
      "\n",
      "For more information visit:\n",
      "  http://jira.h2o.ai/browse/TN-4\n",
      "\tat water.MRTask.getResult(MRTask.java:478)\n",
      "\tat water.MRTask.getResult(MRTask.java:486)\n",
      "\tat water.MRTask.doAll(MRTask.java:390)\n",
      "\tat water.MRTask.doAll(MRTask.java:385)\n",
      "\tat hex.Model.scoreMetrics(Model.java:1396)\n",
      "\tat hex.deeplearning.DeepLearningModel.doScoring(DeepLearningModel.java:392)\n",
      "\tat hex.deeplearning.DeepLearning$DeepLearningDriver.trainModel(DeepLearning.java:441)\n",
      "\tat hex.deeplearning.DeepLearning$DeepLearningDriver.buildModel(DeepLearning.java:311)\n",
      "\tat hex.deeplearning.DeepLearning$DeepLearningDriver.computeImpl(DeepLearning.java:216)\n",
      "\tat hex.ModelBuilder$Driver.compute2(ModelBuilder.java:206)\n",
      "\tat hex.deeplearning.DeepLearning$DeepLearningDriver.compute2(DeepLearning.java:209)\n",
      "\tat hex.ModelBuilder.trainModelNested(ModelBuilder.java:262)\n",
      "\tat hex.grid.GridSearch.startBuildModel(GridSearch.java:345)\n",
      "\tat hex.grid.GridSearch.buildModel(GridSearch.java:327)\n",
      "\tat hex.grid.GridSearch.gridSearch(GridSearch.java:214)\n",
      "\tat hex.grid.GridSearch.access$000(GridSearch.java:69)\n",
      "\tat hex.grid.GridSearch$1.compute2(GridSearch.java:136)\n",
      "\tat water.H2O$H2OCountedCompleter.compute(H2O.java:1263)\n",
      "\tat jsr166y.CountedCompleter.exec(CountedCompleter.java:468)\n",
      "\tat jsr166y.ForkJoinTask.doExec(ForkJoinTask.java:263)\n",
      "\tat jsr166y.ForkJoinPool$WorkQueue.runTask(ForkJoinPool.java:974)\n",
      "\tat jsr166y.ForkJoinPool.runWorker(ForkJoinPool.java:1477)\n",
      "\tat jsr166y.ForkJoinWorkerThread.run(ForkJoinWorkerThread.java:104)\n",
      "Caused by: java.lang.UnsupportedOperationException: \n",
      "\n",
      "Trying to predict with an unstable model.\n",
      "Job was aborted due to observed numerical instability (exponential growth).\n",
      "Either the weights or the bias values are unreasonably large or lead to large activation values.\n",
      "Try a different initial distribution, a bounded activation function (Tanh), adding regularization\n",
      "(via max_w2, l1, l2, dropout) or learning rate (either enable adaptive_rate or use a smaller learning rate or faster annealing).\n",
      "\n",
      "For more information visit:\n",
      "  http://jira.h2o.ai/browse/TN-4\n",
      "\tat hex.deeplearning.DeepLearningModel.score0(DeepLearningModel.java:700)\n",
      "\tat hex.Model.score0(Model.java:1575)\n",
      "\tat hex.Model$BigScore.map(Model.java:1454)\n",
      "\tat water.MRTask.compute2(MRTask.java:657)\n",
      "\tat water.MRTask.compute2(MRTask.java:591)\n",
      "\tat water.MRTask.compute2(MRTask.java:591)\n",
      "\tat water.MRTask.compute2(MRTask.java:591)\n",
      "\tat water.H2O$H2OCountedCompleter.compute1(H2O.java:1266)\n",
      "\tat hex.Model$BigScore$Icer.compute1(Model$BigScore$Icer.java)\n",
      "\tat water.H2O$H2OCountedCompleter.compute(H2O.java:1262)\n",
      "\t... 5 more\n",
      "\n",
      "\n"
     ]
    }
   ],
   "source": [
    "# NN with random hyperparameter search\n",
    "# train many different NN models with random hyperparameters\n",
    "# and select best model based on validation error\n",
    "\n",
    "# define random grid search parameters\n",
    "hyper_parameters = {'hidden':[[170, 320], [80, 190], [320, 160, 80], [100], [50, 50, 50, 50]],\n",
    "                    'l1':[s/1e4 for s in range(0, 1000, 100)],\n",
    "                    'l2':[s/1e5 for s in range(0, 1000, 100)],\n",
    "                    'input_dropout_ratio':[s/1e2 for s in range(0, 20, 2)]}\n",
    "\n",
    "# define search strategy\n",
    "search_criteria = {'strategy':'RandomDiscrete',\n",
    "                   'max_models':20,\n",
    "                   'max_runtime_secs':600}\n",
    "\n",
    "# initialize grid search\n",
    "gsearch = H2OGridSearch(H2ODeepLearningEstimator,\n",
    "                        hyper_params=hyper_parameters,\n",
    "                        search_criteria=search_criteria)\n",
    "\n",
    "# execute training w/ grid search\n",
    "gsearch.train(x=x,\n",
    "              y=y,\n",
    "              training_frame=train,\n",
    "              validation_frame=validation)\n",
    "\n",
    "# view detailed results at http://localhost:54321/flow/index.html"
   ]
  },
  {
   "cell_type": "code",
   "execution_count": 200,
   "metadata": {},
   "outputs": [
    {
     "name": "stdout",
     "output_type": "stream",
     "text": [
      "                hidden input_dropout_ratio    l1     l2  \\\n",
      "0            [80, 190]                0.02  0.01  0.009   \n",
      "1     [50, 50, 50, 50]                0.12   0.0  0.009   \n",
      "2                [100]                 0.1  0.06  0.005   \n",
      "3                [100]                0.18  0.04  0.003   \n",
      "4                [100]                0.14  0.07  0.005   \n",
      "5                [100]                 0.1  0.05  0.003   \n",
      "6     [50, 50, 50, 50]                0.18  0.04  0.009   \n",
      "7            [80, 190]                0.08  0.06  0.006   \n",
      "8            [80, 190]                0.04  0.04  0.005   \n",
      "9                [100]                0.04  0.07  0.009   \n",
      "10    [50, 50, 50, 50]                0.06  0.05  0.005   \n",
      "11    [50, 50, 50, 50]                 0.0  0.05  0.009   \n",
      "12          [170, 320]                0.08  0.04    0.0   \n",
      "13    [50, 50, 50, 50]                0.06  0.04  0.005   \n",
      "14           [80, 190]                0.16  0.08  0.005   \n",
      "15          [170, 320]                0.02  0.07  0.009   \n",
      "16          [170, 320]                0.14  0.06  0.008   \n",
      "17    [50, 50, 50, 50]                0.08  0.06  0.002   \n",
      "18      [320, 160, 80]                0.02  0.07  0.008   \n",
      "\n",
      "                                                                model_ids  \\\n",
      "0   Grid_DeepLearning_train_model9.hex_model_python_1522814867933_34_m...   \n",
      "1   Grid_DeepLearning_train_model9.hex_model_python_1522814867933_34_m...   \n",
      "2   Grid_DeepLearning_train_model9.hex_model_python_1522814867933_34_m...   \n",
      "3   Grid_DeepLearning_train_model9.hex_model_python_1522814867933_34_m...   \n",
      "4   Grid_DeepLearning_train_model9.hex_model_python_1522814867933_34_m...   \n",
      "5   Grid_DeepLearning_train_model9.hex_model_python_1522814867933_34_m...   \n",
      "6   Grid_DeepLearning_train_model9.hex_model_python_1522814867933_34_m...   \n",
      "7   Grid_DeepLearning_train_model9.hex_model_python_1522814867933_34_m...   \n",
      "8   Grid_DeepLearning_train_model9.hex_model_python_1522814867933_34_m...   \n",
      "9   Grid_DeepLearning_train_model9.hex_model_python_1522814867933_34_m...   \n",
      "10  Grid_DeepLearning_train_model9.hex_model_python_1522814867933_34_m...   \n",
      "11  Grid_DeepLearning_train_model9.hex_model_python_1522814867933_34_m...   \n",
      "12  Grid_DeepLearning_train_model9.hex_model_python_1522814867933_34_m...   \n",
      "13  Grid_DeepLearning_train_model9.hex_model_python_1522814867933_34_m...   \n",
      "14  Grid_DeepLearning_train_model9.hex_model_python_1522814867933_34_m...   \n",
      "15  Grid_DeepLearning_train_model9.hex_model_python_1522814867933_34_m...   \n",
      "16  Grid_DeepLearning_train_model9.hex_model_python_1522814867933_34_m...   \n",
      "17  Grid_DeepLearning_train_model9.hex_model_python_1522814867933_34_m...   \n",
      "18  Grid_DeepLearning_train_model9.hex_model_python_1522814867933_34_m...   \n",
      "\n",
      "       residual_deviance  \n",
      "0    0.01612084236935115  \n",
      "1   0.017175811044327804  \n",
      "2   0.018451308068095768  \n",
      "3   0.019561364711848456  \n",
      "4    0.01998416891178717  \n",
      "5   0.021327732089789983  \n",
      "6   0.021481664741713653  \n",
      "7   0.021603337228528873  \n",
      "8   0.021831028409356912  \n",
      "9   0.021848539118184317  \n",
      "10   0.02280957307093283  \n",
      "11  0.023311801421073818  \n",
      "12  0.024766258662390427  \n",
      "13  0.026748436516616392  \n",
      "14   0.02720886219438325  \n",
      "15  0.027974480257020394  \n",
      "16   0.03028385513802758  \n",
      "17   0.03163491954791941  \n",
      "18  0.033530602718505484  \n",
      "Model Details\n",
      "=============\n",
      "H2ODeepLearningEstimator :  Deep Learning\n",
      "Model Key:  Grid_DeepLearning_train_model9.hex_model_python_1522814867933_34_model_1\n",
      "\n",
      "\n",
      "ModelMetricsRegression: deeplearning\n",
      "** Reported on train data. **\n",
      "\n",
      "MSE: 0.016643754627340995\n",
      "RMSE: 0.12901067640835387\n",
      "MAE: 0.08994110909952838\n",
      "RMSLE: 0.01012839736660679\n",
      "Mean Residual Deviance: 0.016643754627340995\n",
      "\n",
      "ModelMetricsRegression: deeplearning\n",
      "** Reported on validation data. **\n",
      "\n",
      "MSE: 0.01612084236935115\n",
      "RMSE: 0.12696787928193157\n",
      "MAE: 0.09412745490791238\n",
      "RMSLE: 0.009842434264039556\n",
      "Mean Residual Deviance: 0.01612084236935115\n",
      "Scoring History: \n"
     ]
    },
    {
     "data": {
      "text/html": [
       "<div style=\"overflow:auto\"><table style=\"width:50%\"><tr><td><b></b></td>\n",
       "<td><b>timestamp</b></td>\n",
       "<td><b>duration</b></td>\n",
       "<td><b>training_speed</b></td>\n",
       "<td><b>epochs</b></td>\n",
       "<td><b>iterations</b></td>\n",
       "<td><b>samples</b></td>\n",
       "<td><b>training_rmse</b></td>\n",
       "<td><b>training_deviance</b></td>\n",
       "<td><b>training_mae</b></td>\n",
       "<td><b>validation_rmse</b></td>\n",
       "<td><b>validation_deviance</b></td>\n",
       "<td><b>validation_mae</b></td></tr>\n",
       "<tr><td></td>\n",
       "<td>2018-04-18 20:39:21</td>\n",
       "<td> 0.000 sec</td>\n",
       "<td>None</td>\n",
       "<td>0.0</td>\n",
       "<td>0</td>\n",
       "<td>0.0</td>\n",
       "<td>nan</td>\n",
       "<td>nan</td>\n",
       "<td>nan</td>\n",
       "<td>nan</td>\n",
       "<td>nan</td>\n",
       "<td>nan</td></tr>\n",
       "<tr><td></td>\n",
       "<td>2018-04-18 20:39:21</td>\n",
       "<td> 0.935 sec</td>\n",
       "<td>7042 obs/sec</td>\n",
       "<td>1.0</td>\n",
       "<td>1</td>\n",
       "<td>1000.0</td>\n",
       "<td>0.1690652</td>\n",
       "<td>0.0285830</td>\n",
       "<td>0.1293096</td>\n",
       "<td>0.1792521</td>\n",
       "<td>0.0321313</td>\n",
       "<td>0.1353839</td></tr>\n",
       "<tr><td></td>\n",
       "<td>2018-04-18 20:39:22</td>\n",
       "<td> 1.854 sec</td>\n",
       "<td>9633 obs/sec</td>\n",
       "<td>10.0</td>\n",
       "<td>10</td>\n",
       "<td>10000.0</td>\n",
       "<td>0.1290107</td>\n",
       "<td>0.0166438</td>\n",
       "<td>0.0899411</td>\n",
       "<td>0.1269679</td>\n",
       "<td>0.0161208</td>\n",
       "<td>0.0941275</td></tr></table></div>"
      ],
      "text/plain": [
       "    timestamp            duration    training_speed    epochs    iterations    samples    training_rmse    training_deviance    training_mae    validation_rmse    validation_deviance    validation_mae\n",
       "--  -------------------  ----------  ----------------  --------  ------------  ---------  ---------------  -------------------  --------------  -----------------  ---------------------  ----------------\n",
       "    2018-04-18 20:39:21  0.000 sec                     0         0             0          nan              nan                  nan             nan                nan                    nan\n",
       "    2018-04-18 20:39:21  0.935 sec   7042 obs/sec      1         1             1000       0.169065         0.028583             0.12931         0.179252           0.0321313              0.135384\n",
       "    2018-04-18 20:39:22  1.854 sec   9633 obs/sec      10        10            10000      0.129011         0.0166438            0.0899411       0.126968           0.0161208              0.0941275"
      ]
     },
     "metadata": {},
     "output_type": "display_data"
    },
    {
     "name": "stdout",
     "output_type": "stream",
     "text": [
      "Variable Importances: \n"
     ]
    },
    {
     "data": {
      "text/html": [
       "<div style=\"overflow:auto\"><table style=\"width:50%\"><tr><td><b>variable</b></td>\n",
       "<td><b>relative_importance</b></td>\n",
       "<td><b>scaled_importance</b></td>\n",
       "<td><b>percentage</b></td></tr>\n",
       "<tr><td>OverallQual</td>\n",
       "<td>1.0</td>\n",
       "<td>1.0</td>\n",
       "<td>0.0303740</td></tr>\n",
       "<tr><td>TotalSF</td>\n",
       "<td>0.9054841</td>\n",
       "<td>0.9054841</td>\n",
       "<td>0.0275032</td></tr>\n",
       "<tr><td>GrLivArea</td>\n",
       "<td>0.8245503</td>\n",
       "<td>0.8245503</td>\n",
       "<td>0.0250449</td></tr>\n",
       "<tr><td>PavedDrive</td>\n",
       "<td>0.7494392</td>\n",
       "<td>0.7494392</td>\n",
       "<td>0.0227635</td></tr>\n",
       "<tr><td>FullBath</td>\n",
       "<td>0.7074648</td>\n",
       "<td>0.7074648</td>\n",
       "<td>0.0214886</td></tr>\n",
       "<tr><td>---</td>\n",
       "<td>---</td>\n",
       "<td>---</td>\n",
       "<td>---</td></tr>\n",
       "<tr><td>MasVnrType</td>\n",
       "<td>0.3567063</td>\n",
       "<td>0.3567063</td>\n",
       "<td>0.0108346</td></tr>\n",
       "<tr><td>Condition2</td>\n",
       "<td>0.3538555</td>\n",
       "<td>0.3538555</td>\n",
       "<td>0.0107480</td></tr>\n",
       "<tr><td>GarageYrBlt</td>\n",
       "<td>0.3478089</td>\n",
       "<td>0.3478089</td>\n",
       "<td>0.0105644</td></tr>\n",
       "<tr><td>LotConfig</td>\n",
       "<td>0.3426687</td>\n",
       "<td>0.3426687</td>\n",
       "<td>0.0104082</td></tr>\n",
       "<tr><td>HouseStyle</td>\n",
       "<td>0.3411727</td>\n",
       "<td>0.3411727</td>\n",
       "<td>0.0103628</td></tr></table></div>"
      ],
      "text/plain": [
       "variable     relative_importance    scaled_importance    percentage\n",
       "-----------  ---------------------  -------------------  --------------------\n",
       "OverallQual  1.0                    1.0                  0.03037403935801307\n",
       "TotalSF      0.905484139919281      0.905484139919281    0.027503210903964855\n",
       "GrLivArea    0.8245503306388855     0.8245503306388855   0.025044924195488198\n",
       "PavedDrive   0.7494391798973083     0.7494391798973083   0.02276349514663788\n",
       "FullBath     0.7074647545814514     0.7074647545814514   0.021488562300064063\n",
       "---          ---                    ---                  ---\n",
       "MasVnrType   0.35670629143714905    0.35670629143714905  0.010834610935362846\n",
       "Condition2   0.3538554608821869     0.3538554608821869   0.010748019695883399\n",
       "GarageYrBlt  0.34780892729759216    0.34780892729759216  0.01056436204680537\n",
       "LotConfig    0.34266865253448486    0.34266865253448486  0.010408231138839747\n",
       "HouseStyle   0.3411726951599121     0.3411726951599121   0.010362792870666566"
      ]
     },
     "metadata": {},
     "output_type": "display_data"
    },
    {
     "name": "stdout",
     "output_type": "stream",
     "text": [
      "\n",
      "See the whole table with table.as_data_frame()\n"
     ]
    },
    {
     "data": {
      "text/plain": []
     },
     "execution_count": 200,
     "metadata": {},
     "output_type": "execute_result"
    }
   ],
   "source": [
    "# show grid search results\n",
    "gsearch.show()\n",
    "\n",
    "# select best model\n",
    "nn_model2 = gsearch.get_grid()[0]\n",
    "\n",
    "# print model information\n",
    "nn_model2"
   ]
  },
  {
   "cell_type": "code",
   "execution_count": 201,
   "metadata": {},
   "outputs": [
    {
     "name": "stdout",
     "output_type": "stream",
     "text": [
      "deeplearning prediction progress: |███████████████████████████████████████| 100%\n",
      "deeplearning prediction progress: |███████████████████████████████████████| 100%\n"
     ]
    }
   ],
   "source": [
    "ert_preds1_val = nn_model2.predict(validation)\n",
    "ert_preds1_test = nn_model2.predict(test)"
   ]
  },
  {
   "cell_type": "markdown",
   "metadata": {},
   "source": [
    "<div class=\"alert alert-block alert-info\">\n",
    "<font color='green'>Below is our predicted log(SalePrice) based on our Random Forest Model. \n",
    "<br>\n",
    "We then convernt the predicted SalePrice to a data frame so that we can concatenate it with Id.</font>"
   ]
  },
  {
   "cell_type": "code",
   "execution_count": 202,
   "metadata": {
    "scrolled": true
   },
   "outputs": [
    {
     "data": {
      "text/html": [
       "<table>\n",
       "<thead>\n",
       "<tr><th style=\"text-align: right;\">  predict</th></tr>\n",
       "</thead>\n",
       "<tbody>\n",
       "<tr><td style=\"text-align: right;\">  11.6832</td></tr>\n",
       "<tr><td style=\"text-align: right;\">  11.9174</td></tr>\n",
       "<tr><td style=\"text-align: right;\">  12.0617</td></tr>\n",
       "<tr><td style=\"text-align: right;\">  12.1378</td></tr>\n",
       "<tr><td style=\"text-align: right;\">  12.1097</td></tr>\n",
       "<tr><td style=\"text-align: right;\">  12.0482</td></tr>\n",
       "<tr><td style=\"text-align: right;\">  12.0489</td></tr>\n",
       "<tr><td style=\"text-align: right;\">  11.984 </td></tr>\n",
       "<tr><td style=\"text-align: right;\">  12.1899</td></tr>\n",
       "<tr><td style=\"text-align: right;\">  11.6979</td></tr>\n",
       "</tbody>\n",
       "</table>"
      ]
     },
     "metadata": {},
     "output_type": "display_data"
    },
    {
     "data": {
      "text/plain": []
     },
     "execution_count": 202,
     "metadata": {},
     "output_type": "execute_result"
    }
   ],
   "source": [
    "ert_preds1_test.head()"
   ]
  },
  {
   "cell_type": "code",
   "execution_count": 203,
   "metadata": {
    "collapsed": true
   },
   "outputs": [],
   "source": [
    "a=ert_preds1_test.as_data_frame()"
   ]
  },
  {
   "cell_type": "code",
   "execution_count": 204,
   "metadata": {},
   "outputs": [
    {
     "data": {
      "text/html": [
       "<div>\n",
       "<style>\n",
       "    .dataframe thead tr:only-child th {\n",
       "        text-align: right;\n",
       "    }\n",
       "\n",
       "    .dataframe thead th {\n",
       "        text-align: left;\n",
       "    }\n",
       "\n",
       "    .dataframe tbody tr th {\n",
       "        vertical-align: top;\n",
       "    }\n",
       "</style>\n",
       "<table border=\"1\" class=\"dataframe\">\n",
       "  <thead>\n",
       "    <tr style=\"text-align: right;\">\n",
       "      <th></th>\n",
       "      <th>predict</th>\n",
       "    </tr>\n",
       "  </thead>\n",
       "  <tbody>\n",
       "    <tr>\n",
       "      <th>0</th>\n",
       "      <td>11.683249</td>\n",
       "    </tr>\n",
       "    <tr>\n",
       "      <th>1</th>\n",
       "      <td>11.917369</td>\n",
       "    </tr>\n",
       "    <tr>\n",
       "      <th>2</th>\n",
       "      <td>12.061708</td>\n",
       "    </tr>\n",
       "    <tr>\n",
       "      <th>3</th>\n",
       "      <td>12.137799</td>\n",
       "    </tr>\n",
       "    <tr>\n",
       "      <th>4</th>\n",
       "      <td>12.109689</td>\n",
       "    </tr>\n",
       "  </tbody>\n",
       "</table>\n",
       "</div>"
      ],
      "text/plain": [
       "     predict\n",
       "0  11.683249\n",
       "1  11.917369\n",
       "2  12.061708\n",
       "3  12.137799\n",
       "4  12.109689"
      ]
     },
     "execution_count": 204,
     "metadata": {},
     "output_type": "execute_result"
    }
   ],
   "source": [
    "a.head()"
   ]
  },
  {
   "cell_type": "markdown",
   "metadata": {},
   "source": [
    "<div class=\"alert alert-block alert-success\">\n",
    "<font color='darkblue'>Before we concatenate our Log(SalePrice) with Id, we need to convert our log(Saleprice) to Saleprice ($) </font>"
   ]
  },
  {
   "cell_type": "code",
   "execution_count": 205,
   "metadata": {
    "collapsed": true
   },
   "outputs": [],
   "source": [
    "a['Saleprice'] = np.exp(a['predict'])"
   ]
  },
  {
   "cell_type": "code",
   "execution_count": 206,
   "metadata": {},
   "outputs": [
    {
     "data": {
      "text/html": [
       "<div>\n",
       "<style>\n",
       "    .dataframe thead tr:only-child th {\n",
       "        text-align: right;\n",
       "    }\n",
       "\n",
       "    .dataframe thead th {\n",
       "        text-align: left;\n",
       "    }\n",
       "\n",
       "    .dataframe tbody tr th {\n",
       "        vertical-align: top;\n",
       "    }\n",
       "</style>\n",
       "<table border=\"1\" class=\"dataframe\">\n",
       "  <thead>\n",
       "    <tr style=\"text-align: right;\">\n",
       "      <th></th>\n",
       "      <th>predict</th>\n",
       "      <th>Saleprice</th>\n",
       "    </tr>\n",
       "  </thead>\n",
       "  <tbody>\n",
       "    <tr>\n",
       "      <th>0</th>\n",
       "      <td>11.683249</td>\n",
       "      <td>118568.886047</td>\n",
       "    </tr>\n",
       "    <tr>\n",
       "      <th>1</th>\n",
       "      <td>11.917369</td>\n",
       "      <td>149846.779716</td>\n",
       "    </tr>\n",
       "    <tr>\n",
       "      <th>2</th>\n",
       "      <td>12.061708</td>\n",
       "      <td>173114.344049</td>\n",
       "    </tr>\n",
       "    <tr>\n",
       "      <th>3</th>\n",
       "      <td>12.137799</td>\n",
       "      <td>186801.014602</td>\n",
       "    </tr>\n",
       "    <tr>\n",
       "      <th>4</th>\n",
       "      <td>12.109689</td>\n",
       "      <td>181623.154486</td>\n",
       "    </tr>\n",
       "  </tbody>\n",
       "</table>\n",
       "</div>"
      ],
      "text/plain": [
       "     predict      Saleprice\n",
       "0  11.683249  118568.886047\n",
       "1  11.917369  149846.779716\n",
       "2  12.061708  173114.344049\n",
       "3  12.137799  186801.014602\n",
       "4  12.109689  181623.154486"
      ]
     },
     "execution_count": 206,
     "metadata": {},
     "output_type": "execute_result"
    }
   ],
   "source": [
    "a.head()"
   ]
  },
  {
   "cell_type": "markdown",
   "metadata": {},
   "source": [
    "<div class=\"alert alert-block alert-info\">\n",
    "<font color='green'>Here, we can have a look at the statistics of  our predict log(SalePrice) and SalePrice.</font>"
   ]
  },
  {
   "cell_type": "code",
   "execution_count": 207,
   "metadata": {},
   "outputs": [
    {
     "data": {
      "text/html": [
       "<div>\n",
       "<style>\n",
       "    .dataframe thead tr:only-child th {\n",
       "        text-align: right;\n",
       "    }\n",
       "\n",
       "    .dataframe thead th {\n",
       "        text-align: left;\n",
       "    }\n",
       "\n",
       "    .dataframe tbody tr th {\n",
       "        vertical-align: top;\n",
       "    }\n",
       "</style>\n",
       "<table border=\"1\" class=\"dataframe\">\n",
       "  <thead>\n",
       "    <tr style=\"text-align: right;\">\n",
       "      <th></th>\n",
       "      <th>predict</th>\n",
       "      <th>Saleprice</th>\n",
       "    </tr>\n",
       "  </thead>\n",
       "  <tbody>\n",
       "    <tr>\n",
       "      <th>count</th>\n",
       "      <td>1459.000000</td>\n",
       "      <td>1.459000e+03</td>\n",
       "    </tr>\n",
       "    <tr>\n",
       "      <th>mean</th>\n",
       "      <td>12.007825</td>\n",
       "      <td>1.766057e+05</td>\n",
       "    </tr>\n",
       "    <tr>\n",
       "      <th>std</th>\n",
       "      <td>0.373239</td>\n",
       "      <td>7.473316e+04</td>\n",
       "    </tr>\n",
       "    <tr>\n",
       "      <th>min</th>\n",
       "      <td>11.169244</td>\n",
       "      <td>7.091549e+04</td>\n",
       "    </tr>\n",
       "    <tr>\n",
       "      <th>25%</th>\n",
       "      <td>11.731474</td>\n",
       "      <td>1.244270e+05</td>\n",
       "    </tr>\n",
       "    <tr>\n",
       "      <th>50%</th>\n",
       "      <td>11.932728</td>\n",
       "      <td>1.521661e+05</td>\n",
       "    </tr>\n",
       "    <tr>\n",
       "      <th>75%</th>\n",
       "      <td>12.263004</td>\n",
       "      <td>2.117168e+05</td>\n",
       "    </tr>\n",
       "    <tr>\n",
       "      <th>max</th>\n",
       "      <td>13.836405</td>\n",
       "      <td>1.021115e+06</td>\n",
       "    </tr>\n",
       "  </tbody>\n",
       "</table>\n",
       "</div>"
      ],
      "text/plain": [
       "           predict     Saleprice\n",
       "count  1459.000000  1.459000e+03\n",
       "mean     12.007825  1.766057e+05\n",
       "std       0.373239  7.473316e+04\n",
       "min      11.169244  7.091549e+04\n",
       "25%      11.731474  1.244270e+05\n",
       "50%      11.932728  1.521661e+05\n",
       "75%      12.263004  2.117168e+05\n",
       "max      13.836405  1.021115e+06"
      ]
     },
     "execution_count": 207,
     "metadata": {},
     "output_type": "execute_result"
    }
   ],
   "source": [
    "a.describe()"
   ]
  },
  {
   "cell_type": "markdown",
   "metadata": {},
   "source": [
    "<div class=\"alert alert-block alert-info\">\n",
    "<font color='green'>Now, we can put Id and Saleprice together, save them and submit it on Kaggle. </font>"
   ]
  },
  {
   "cell_type": "code",
   "execution_count": 208,
   "metadata": {
    "collapsed": true
   },
   "outputs": [],
   "source": [
    "Id=testa['Id']"
   ]
  },
  {
   "cell_type": "code",
   "execution_count": 209,
   "metadata": {
    "collapsed": true
   },
   "outputs": [],
   "source": [
    "SalePrice=a['Saleprice']"
   ]
  },
  {
   "cell_type": "code",
   "execution_count": 210,
   "metadata": {
    "collapsed": true
   },
   "outputs": [],
   "source": [
    "nn_model2_result=pd.concat((Id,SalePrice),axis=1)"
   ]
  },
  {
   "cell_type": "code",
   "execution_count": 211,
   "metadata": {},
   "outputs": [
    {
     "data": {
      "text/html": [
       "<div>\n",
       "<style>\n",
       "    .dataframe thead tr:only-child th {\n",
       "        text-align: right;\n",
       "    }\n",
       "\n",
       "    .dataframe thead th {\n",
       "        text-align: left;\n",
       "    }\n",
       "\n",
       "    .dataframe tbody tr th {\n",
       "        vertical-align: top;\n",
       "    }\n",
       "</style>\n",
       "<table border=\"1\" class=\"dataframe\">\n",
       "  <thead>\n",
       "    <tr style=\"text-align: right;\">\n",
       "      <th></th>\n",
       "      <th>Id</th>\n",
       "      <th>Saleprice</th>\n",
       "    </tr>\n",
       "  </thead>\n",
       "  <tbody>\n",
       "    <tr>\n",
       "      <th>0</th>\n",
       "      <td>1461</td>\n",
       "      <td>118568.886047</td>\n",
       "    </tr>\n",
       "    <tr>\n",
       "      <th>1</th>\n",
       "      <td>1462</td>\n",
       "      <td>149846.779716</td>\n",
       "    </tr>\n",
       "    <tr>\n",
       "      <th>2</th>\n",
       "      <td>1463</td>\n",
       "      <td>173114.344049</td>\n",
       "    </tr>\n",
       "    <tr>\n",
       "      <th>3</th>\n",
       "      <td>1464</td>\n",
       "      <td>186801.014602</td>\n",
       "    </tr>\n",
       "    <tr>\n",
       "      <th>4</th>\n",
       "      <td>1465</td>\n",
       "      <td>181623.154486</td>\n",
       "    </tr>\n",
       "  </tbody>\n",
       "</table>\n",
       "</div>"
      ],
      "text/plain": [
       "     Id      Saleprice\n",
       "0  1461  118568.886047\n",
       "1  1462  149846.779716\n",
       "2  1463  173114.344049\n",
       "3  1464  186801.014602\n",
       "4  1465  181623.154486"
      ]
     },
     "execution_count": 211,
     "metadata": {},
     "output_type": "execute_result"
    }
   ],
   "source": [
    "nn_model2_result.head()"
   ]
  },
  {
   "cell_type": "code",
   "execution_count": 212,
   "metadata": {
    "collapsed": true
   },
   "outputs": [],
   "source": [
    "nn_model2_result.to_csv('nn_model2_result.csv')"
   ]
  },
  {
   "cell_type": "markdown",
   "metadata": {},
   "source": [
    "## 4. Deep Learning"
   ]
  },
  {
   "cell_type": "code",
   "execution_count": 213,
   "metadata": {
    "collapsed": true
   },
   "outputs": [],
   "source": [
    "from h2o.estimators.deeplearning import H2OAutoEncoderEstimator, H2ODeepLearningEstimator"
   ]
  },
  {
   "cell_type": "markdown",
   "metadata": {},
   "source": [
    "### (1) Deep Learning Model 1 "
   ]
  },
  {
   "cell_type": "code",
   "execution_count": 214,
   "metadata": {},
   "outputs": [
    {
     "name": "stdout",
     "output_type": "stream",
     "text": [
      "deeplearning Model Build progress: |██████████████████████████████████████| 100%\n"
     ]
    }
   ],
   "source": [
    "DL_model1 = H2ODeepLearningEstimator(\n",
    "    model_id=\"model_1\", \n",
    "    hidden=[32,32,32],                  ## small network, runs faster\n",
    "    epochs=1000000,                      ## hopefully converges earlier...\n",
    "    score_validation_samples=10000,      ## sample the validation dataset (faster)\n",
    "    stopping_rounds=2,\n",
    "    standardize = True,\n",
    "    stopping_metric=\"MSE\", ## alternatives: \"MSE\",\"logloss\",\"r2\"\n",
    "    stopping_tolerance=0.01)\n",
    "DL_model1.train(x, y, training_frame=train, validation_frame=validation)"
   ]
  },
  {
   "cell_type": "code",
   "execution_count": 215,
   "metadata": {},
   "outputs": [
    {
     "name": "stdout",
     "output_type": "stream",
     "text": [
      "Model Details\n",
      "=============\n",
      "H2ODeepLearningEstimator :  Deep Learning\n",
      "Model Key:  model_1\n",
      "\n",
      "\n",
      "ModelMetricsRegression: deeplearning\n",
      "** Reported on train data. **\n",
      "\n",
      "MSE: 6.41818653325466e-05\n",
      "RMSE: 0.00801135851978593\n",
      "MAE: 0.005884382121730061\n",
      "RMSLE: 0.0006234484796426153\n",
      "Mean Residual Deviance: 6.41818653325466e-05\n",
      "\n",
      "ModelMetricsRegression: deeplearning\n",
      "** Reported on validation data. **\n",
      "\n",
      "MSE: 0.019603029477933284\n",
      "RMSE: 0.14001081914599772\n",
      "MAE: 0.10326482869944824\n",
      "RMSLE: 0.010861806709753702\n",
      "Mean Residual Deviance: 0.019603029477933284\n",
      "Scoring History: \n"
     ]
    },
    {
     "data": {
      "text/html": [
       "<div style=\"overflow:auto\"><table style=\"width:50%\"><tr><td><b></b></td>\n",
       "<td><b>timestamp</b></td>\n",
       "<td><b>duration</b></td>\n",
       "<td><b>training_speed</b></td>\n",
       "<td><b>epochs</b></td>\n",
       "<td><b>iterations</b></td>\n",
       "<td><b>samples</b></td>\n",
       "<td><b>training_rmse</b></td>\n",
       "<td><b>training_deviance</b></td>\n",
       "<td><b>training_mae</b></td>\n",
       "<td><b>validation_rmse</b></td>\n",
       "<td><b>validation_deviance</b></td>\n",
       "<td><b>validation_mae</b></td></tr>\n",
       "<tr><td></td>\n",
       "<td>2018-04-18 20:39:40</td>\n",
       "<td> 0.000 sec</td>\n",
       "<td>None</td>\n",
       "<td>0.0</td>\n",
       "<td>0</td>\n",
       "<td>0.0</td>\n",
       "<td>nan</td>\n",
       "<td>nan</td>\n",
       "<td>nan</td>\n",
       "<td>nan</td>\n",
       "<td>nan</td>\n",
       "<td>nan</td></tr>\n",
       "<tr><td></td>\n",
       "<td>2018-04-18 20:39:40</td>\n",
       "<td> 0.238 sec</td>\n",
       "<td>43859 obs/sec</td>\n",
       "<td>10.0</td>\n",
       "<td>1</td>\n",
       "<td>10000.0</td>\n",
       "<td>0.1100316</td>\n",
       "<td>0.0121069</td>\n",
       "<td>0.0780004</td>\n",
       "<td>0.1517143</td>\n",
       "<td>0.0230172</td>\n",
       "<td>0.1140501</td></tr>\n",
       "<tr><td></td>\n",
       "<td>2018-04-18 20:39:45</td>\n",
       "<td> 5.326 sec</td>\n",
       "<td>52770 obs/sec</td>\n",
       "<td>280.0</td>\n",
       "<td>28</td>\n",
       "<td>280000.0</td>\n",
       "<td>0.0188408</td>\n",
       "<td>0.0003550</td>\n",
       "<td>0.0137889</td>\n",
       "<td>0.1442252</td>\n",
       "<td>0.0208009</td>\n",
       "<td>0.1062740</td></tr>\n",
       "<tr><td></td>\n",
       "<td>2018-04-18 20:39:51</td>\n",
       "<td>10.495 sec</td>\n",
       "<td>49679 obs/sec</td>\n",
       "<td>520.0</td>\n",
       "<td>52</td>\n",
       "<td>520000.0</td>\n",
       "<td>0.0146788</td>\n",
       "<td>0.0002155</td>\n",
       "<td>0.0110942</td>\n",
       "<td>0.1419558</td>\n",
       "<td>0.0201515</td>\n",
       "<td>0.1044549</td></tr>\n",
       "<tr><td></td>\n",
       "<td>2018-04-18 20:39:56</td>\n",
       "<td>15.614 sec</td>\n",
       "<td>50064 obs/sec</td>\n",
       "<td>780.0</td>\n",
       "<td>78</td>\n",
       "<td>780000.0</td>\n",
       "<td>0.0175378</td>\n",
       "<td>0.0003076</td>\n",
       "<td>0.0138632</td>\n",
       "<td>0.1431688</td>\n",
       "<td>0.0204973</td>\n",
       "<td>0.1060603</td></tr>\n",
       "<tr><td></td>\n",
       "<td>2018-04-18 20:40:01</td>\n",
       "<td>20.688 sec</td>\n",
       "<td>51831 obs/sec</td>\n",
       "<td>1070.0</td>\n",
       "<td>107</td>\n",
       "<td>1070000.0</td>\n",
       "<td>0.0094012</td>\n",
       "<td>0.0000884</td>\n",
       "<td>0.0069975</td>\n",
       "<td>0.1410257</td>\n",
       "<td>0.0198882</td>\n",
       "<td>0.1040657</td></tr>\n",
       "<tr><td></td>\n",
       "<td>2018-04-18 20:40:06</td>\n",
       "<td>25.704 sec</td>\n",
       "<td>52627 obs/sec</td>\n",
       "<td>1350.0</td>\n",
       "<td>135</td>\n",
       "<td>1350000.0</td>\n",
       "<td>0.0168362</td>\n",
       "<td>0.0002835</td>\n",
       "<td>0.0130552</td>\n",
       "<td>0.1405404</td>\n",
       "<td>0.0197516</td>\n",
       "<td>0.1033805</td></tr>\n",
       "<tr><td></td>\n",
       "<td>2018-04-18 20:40:11</td>\n",
       "<td>30.865 sec</td>\n",
       "<td>53238 obs/sec</td>\n",
       "<td>1640.0</td>\n",
       "<td>164</td>\n",
       "<td>1640000.0</td>\n",
       "<td>0.0091728</td>\n",
       "<td>0.0000841</td>\n",
       "<td>0.0071464</td>\n",
       "<td>0.1400601</td>\n",
       "<td>0.0196168</td>\n",
       "<td>0.1033607</td></tr>\n",
       "<tr><td></td>\n",
       "<td>2018-04-18 20:40:16</td>\n",
       "<td>35.970 sec</td>\n",
       "<td>54032 obs/sec</td>\n",
       "<td>1940.0</td>\n",
       "<td>194</td>\n",
       "<td>1940000.0</td>\n",
       "<td>0.0080114</td>\n",
       "<td>0.0000642</td>\n",
       "<td>0.0058844</td>\n",
       "<td>0.1400108</td>\n",
       "<td>0.0196030</td>\n",
       "<td>0.1032648</td></tr>\n",
       "<tr><td></td>\n",
       "<td>2018-04-18 20:40:21</td>\n",
       "<td>41.119 sec</td>\n",
       "<td>54570 obs/sec</td>\n",
       "<td>2240.0</td>\n",
       "<td>224</td>\n",
       "<td>2240000.0</td>\n",
       "<td>0.0084449</td>\n",
       "<td>0.0000713</td>\n",
       "<td>0.0064624</td>\n",
       "<td>0.1407458</td>\n",
       "<td>0.0198094</td>\n",
       "<td>0.1033122</td></tr>\n",
       "<tr><td></td>\n",
       "<td>2018-04-18 20:40:21</td>\n",
       "<td>41.129 sec</td>\n",
       "<td>54566 obs/sec</td>\n",
       "<td>2240.0</td>\n",
       "<td>224</td>\n",
       "<td>2240000.0</td>\n",
       "<td>0.0080114</td>\n",
       "<td>0.0000642</td>\n",
       "<td>0.0058844</td>\n",
       "<td>0.1400108</td>\n",
       "<td>0.0196030</td>\n",
       "<td>0.1032648</td></tr></table></div>"
      ],
      "text/plain": [
       "    timestamp            duration    training_speed    epochs    iterations    samples    training_rmse    training_deviance    training_mae    validation_rmse    validation_deviance    validation_mae\n",
       "--  -------------------  ----------  ----------------  --------  ------------  ---------  ---------------  -------------------  --------------  -----------------  ---------------------  ----------------\n",
       "    2018-04-18 20:39:40  0.000 sec                     0         0             0          nan              nan                  nan             nan                nan                    nan\n",
       "    2018-04-18 20:39:40  0.238 sec   43859 obs/sec     10        1             10000      0.110032         0.0121069            0.0780004       0.151714           0.0230172              0.11405\n",
       "    2018-04-18 20:39:45  5.326 sec   52770 obs/sec     280       28            280000     0.0188408        0.000354976          0.0137889       0.144225           0.0208009              0.106274\n",
       "    2018-04-18 20:39:51  10.495 sec  49679 obs/sec     520       52            520000     0.0146788        0.000215467          0.0110942       0.141956           0.0201515              0.104455\n",
       "    2018-04-18 20:39:56  15.614 sec  50064 obs/sec     780       78            780000     0.0175378        0.000307573          0.0138632       0.143169           0.0204973              0.10606\n",
       "    2018-04-18 20:40:01  20.688 sec  51831 obs/sec     1070      107           1.07e+06   0.00940124       8.83833e-05          0.00699751      0.141026           0.0198882              0.104066\n",
       "    2018-04-18 20:40:06  25.704 sec  52627 obs/sec     1350      135           1.35e+06   0.0168362        0.000283458          0.0130552       0.14054            0.0197516              0.10338\n",
       "    2018-04-18 20:40:11  30.865 sec  53238 obs/sec     1640      164           1.64e+06   0.00917277       8.41397e-05          0.00714643      0.14006            0.0196168              0.103361\n",
       "    2018-04-18 20:40:16  35.970 sec  54032 obs/sec     1940      194           1.94e+06   0.00801136       6.41819e-05          0.00588438      0.140011           0.019603               0.103265\n",
       "    2018-04-18 20:40:21  41.119 sec  54570 obs/sec     2240      224           2.24e+06   0.00844495       7.13172e-05          0.00646237      0.140746           0.0198094              0.103312\n",
       "    2018-04-18 20:40:21  41.129 sec  54566 obs/sec     2240      224           2.24e+06   0.00801136       6.41819e-05          0.00588438      0.140011           0.019603               0.103265"
      ]
     },
     "metadata": {},
     "output_type": "display_data"
    },
    {
     "name": "stdout",
     "output_type": "stream",
     "text": [
      "Variable Importances: \n"
     ]
    },
    {
     "data": {
      "text/html": [
       "<div style=\"overflow:auto\"><table style=\"width:50%\"><tr><td><b>variable</b></td>\n",
       "<td><b>relative_importance</b></td>\n",
       "<td><b>scaled_importance</b></td>\n",
       "<td><b>percentage</b></td></tr>\n",
       "<tr><td>HalfBath</td>\n",
       "<td>1.0</td>\n",
       "<td>1.0</td>\n",
       "<td>0.0218922</td></tr>\n",
       "<tr><td>GarageType</td>\n",
       "<td>0.9237312</td>\n",
       "<td>0.9237312</td>\n",
       "<td>0.0202225</td></tr>\n",
       "<tr><td>LotFrontage</td>\n",
       "<td>0.8463358</td>\n",
       "<td>0.8463358</td>\n",
       "<td>0.0185281</td></tr>\n",
       "<tr><td>OverallQual</td>\n",
       "<td>0.8440511</td>\n",
       "<td>0.8440511</td>\n",
       "<td>0.0184781</td></tr>\n",
       "<tr><td>BsmtFinType1</td>\n",
       "<td>0.8398686</td>\n",
       "<td>0.8398686</td>\n",
       "<td>0.0183865</td></tr>\n",
       "<tr><td>---</td>\n",
       "<td>---</td>\n",
       "<td>---</td>\n",
       "<td>---</td></tr>\n",
       "<tr><td>PavedDrive</td>\n",
       "<td>0.4781834</td>\n",
       "<td>0.4781834</td>\n",
       "<td>0.0104685</td></tr>\n",
       "<tr><td>BsmtCond</td>\n",
       "<td>0.4690956</td>\n",
       "<td>0.4690956</td>\n",
       "<td>0.0102695</td></tr>\n",
       "<tr><td>Street</td>\n",
       "<td>0.3997785</td>\n",
       "<td>0.3997785</td>\n",
       "<td>0.0087520</td></tr>\n",
       "<tr><td>RoofMatl</td>\n",
       "<td>0.3978429</td>\n",
       "<td>0.3978429</td>\n",
       "<td>0.0087096</td></tr>\n",
       "<tr><td>Utilities</td>\n",
       "<td>0.2819727</td>\n",
       "<td>0.2819727</td>\n",
       "<td>0.0061730</td></tr></table></div>"
      ],
      "text/plain": [
       "variable      relative_importance    scaled_importance    percentage\n",
       "------------  ---------------------  -------------------  --------------------\n",
       "HalfBath      1.0                    1.0                  0.02189215423753035\n",
       "GarageType    0.9237312078475952     0.9237312078475952   0.020222466076219758\n",
       "LotFrontage   0.846335768699646      0.846335768699646    0.01852811318511146\n",
       "OverallQual   0.8440511226654053     0.8440511226654053   0.0184780973617517\n",
       "BsmtFinType1  0.8398686051368713     0.8398686051368713   0.018386533042915862\n",
       "---           ---                    ---                  ---\n",
       "PavedDrive    0.47818344831466675    0.47818344831466675  0.010468465804338807\n",
       "BsmtCond      0.4690955877304077     0.4690955877304077   0.010269512958739034\n",
       "Street        0.39977845549583435    0.39977845549583435  0.008752011608556468\n",
       "RoofMatl      0.3978428542613983     0.3978428542613983   0.00870963712778984\n",
       "Utilities     0.2819727063179016     0.2819727063179016   0.006172989977485351"
      ]
     },
     "metadata": {},
     "output_type": "display_data"
    },
    {
     "name": "stdout",
     "output_type": "stream",
     "text": [
      "\n",
      "See the whole table with table.as_data_frame()\n"
     ]
    },
    {
     "data": {
      "text/plain": []
     },
     "execution_count": 215,
     "metadata": {},
     "output_type": "execute_result"
    }
   ],
   "source": [
    "DL_model1"
   ]
  },
  {
   "cell_type": "code",
   "execution_count": 216,
   "metadata": {},
   "outputs": [
    {
     "name": "stdout",
     "output_type": "stream",
     "text": [
      "deeplearning prediction progress: |███████████████████████████████████████| 100%\n",
      "deeplearning prediction progress: |███████████████████████████████████████| 100%\n"
     ]
    }
   ],
   "source": [
    "ert_preds1_val = DL_model1.predict(validation)\n",
    "ert_preds1_test = DL_model1.predict(test)"
   ]
  },
  {
   "cell_type": "markdown",
   "metadata": {},
   "source": [
    "<div class=\"alert alert-block alert-info\">\n",
    "<font color='green'>Below is our predicted log(SalePrice) based on our Random Forest Model. \n",
    "<br>\n",
    "We then convernt the predicted SalePrice to a data frame so that we can concatenate it with Id.</font>"
   ]
  },
  {
   "cell_type": "code",
   "execution_count": 217,
   "metadata": {
    "scrolled": true
   },
   "outputs": [
    {
     "data": {
      "text/html": [
       "<table>\n",
       "<thead>\n",
       "<tr><th style=\"text-align: right;\">  predict</th></tr>\n",
       "</thead>\n",
       "<tbody>\n",
       "<tr><td style=\"text-align: right;\">  11.6752</td></tr>\n",
       "<tr><td style=\"text-align: right;\">  11.9225</td></tr>\n",
       "<tr><td style=\"text-align: right;\">  12.1628</td></tr>\n",
       "<tr><td style=\"text-align: right;\">  12.2095</td></tr>\n",
       "<tr><td style=\"text-align: right;\">  11.9338</td></tr>\n",
       "<tr><td style=\"text-align: right;\">  12.0975</td></tr>\n",
       "<tr><td style=\"text-align: right;\">  12.0617</td></tr>\n",
       "<tr><td style=\"text-align: right;\">  11.9666</td></tr>\n",
       "<tr><td style=\"text-align: right;\">  12.2334</td></tr>\n",
       "<tr><td style=\"text-align: right;\">  11.7408</td></tr>\n",
       "</tbody>\n",
       "</table>"
      ]
     },
     "metadata": {},
     "output_type": "display_data"
    },
    {
     "data": {
      "text/plain": []
     },
     "execution_count": 217,
     "metadata": {},
     "output_type": "execute_result"
    }
   ],
   "source": [
    "ert_preds1_test.head()"
   ]
  },
  {
   "cell_type": "code",
   "execution_count": 218,
   "metadata": {
    "collapsed": true
   },
   "outputs": [],
   "source": [
    "a=ert_preds1_test.as_data_frame()"
   ]
  },
  {
   "cell_type": "code",
   "execution_count": 219,
   "metadata": {},
   "outputs": [
    {
     "data": {
      "text/html": [
       "<div>\n",
       "<style>\n",
       "    .dataframe thead tr:only-child th {\n",
       "        text-align: right;\n",
       "    }\n",
       "\n",
       "    .dataframe thead th {\n",
       "        text-align: left;\n",
       "    }\n",
       "\n",
       "    .dataframe tbody tr th {\n",
       "        vertical-align: top;\n",
       "    }\n",
       "</style>\n",
       "<table border=\"1\" class=\"dataframe\">\n",
       "  <thead>\n",
       "    <tr style=\"text-align: right;\">\n",
       "      <th></th>\n",
       "      <th>predict</th>\n",
       "    </tr>\n",
       "  </thead>\n",
       "  <tbody>\n",
       "    <tr>\n",
       "      <th>0</th>\n",
       "      <td>11.675209</td>\n",
       "    </tr>\n",
       "    <tr>\n",
       "      <th>1</th>\n",
       "      <td>11.922537</td>\n",
       "    </tr>\n",
       "    <tr>\n",
       "      <th>2</th>\n",
       "      <td>12.162830</td>\n",
       "    </tr>\n",
       "    <tr>\n",
       "      <th>3</th>\n",
       "      <td>12.209475</td>\n",
       "    </tr>\n",
       "    <tr>\n",
       "      <th>4</th>\n",
       "      <td>11.933758</td>\n",
       "    </tr>\n",
       "  </tbody>\n",
       "</table>\n",
       "</div>"
      ],
      "text/plain": [
       "     predict\n",
       "0  11.675209\n",
       "1  11.922537\n",
       "2  12.162830\n",
       "3  12.209475\n",
       "4  11.933758"
      ]
     },
     "execution_count": 219,
     "metadata": {},
     "output_type": "execute_result"
    }
   ],
   "source": [
    "a.head()"
   ]
  },
  {
   "cell_type": "markdown",
   "metadata": {},
   "source": [
    "<div class=\"alert alert-block alert-success\">\n",
    "<font color='darkblue'>Before we concatenate our Log(SalePrice) with Id, we need to convert our log(Saleprice) to Saleprice ($) </font>"
   ]
  },
  {
   "cell_type": "code",
   "execution_count": 220,
   "metadata": {
    "collapsed": true
   },
   "outputs": [],
   "source": [
    "a['Saleprice'] = np.exp(a['predict'])"
   ]
  },
  {
   "cell_type": "code",
   "execution_count": 221,
   "metadata": {},
   "outputs": [
    {
     "data": {
      "text/html": [
       "<div>\n",
       "<style>\n",
       "    .dataframe thead tr:only-child th {\n",
       "        text-align: right;\n",
       "    }\n",
       "\n",
       "    .dataframe thead th {\n",
       "        text-align: left;\n",
       "    }\n",
       "\n",
       "    .dataframe tbody tr th {\n",
       "        vertical-align: top;\n",
       "    }\n",
       "</style>\n",
       "<table border=\"1\" class=\"dataframe\">\n",
       "  <thead>\n",
       "    <tr style=\"text-align: right;\">\n",
       "      <th></th>\n",
       "      <th>predict</th>\n",
       "      <th>Saleprice</th>\n",
       "    </tr>\n",
       "  </thead>\n",
       "  <tbody>\n",
       "    <tr>\n",
       "      <th>0</th>\n",
       "      <td>11.675209</td>\n",
       "      <td>117619.358218</td>\n",
       "    </tr>\n",
       "    <tr>\n",
       "      <th>1</th>\n",
       "      <td>11.922537</td>\n",
       "      <td>150623.291258</td>\n",
       "    </tr>\n",
       "    <tr>\n",
       "      <th>2</th>\n",
       "      <td>12.162830</td>\n",
       "      <td>191535.886713</td>\n",
       "    </tr>\n",
       "    <tr>\n",
       "      <th>3</th>\n",
       "      <td>12.209475</td>\n",
       "      <td>200681.631473</td>\n",
       "    </tr>\n",
       "    <tr>\n",
       "      <th>4</th>\n",
       "      <td>11.933758</td>\n",
       "      <td>152322.929701</td>\n",
       "    </tr>\n",
       "  </tbody>\n",
       "</table>\n",
       "</div>"
      ],
      "text/plain": [
       "     predict      Saleprice\n",
       "0  11.675209  117619.358218\n",
       "1  11.922537  150623.291258\n",
       "2  12.162830  191535.886713\n",
       "3  12.209475  200681.631473\n",
       "4  11.933758  152322.929701"
      ]
     },
     "execution_count": 221,
     "metadata": {},
     "output_type": "execute_result"
    }
   ],
   "source": [
    "a.head()"
   ]
  },
  {
   "cell_type": "markdown",
   "metadata": {},
   "source": [
    "<div class=\"alert alert-block alert-info\">\n",
    "<font color='green'>Here, we can have a look at the statistics of  our predict log(SalePrice) and SalePrice.</font>"
   ]
  },
  {
   "cell_type": "code",
   "execution_count": 222,
   "metadata": {},
   "outputs": [
    {
     "data": {
      "text/html": [
       "<div>\n",
       "<style>\n",
       "    .dataframe thead tr:only-child th {\n",
       "        text-align: right;\n",
       "    }\n",
       "\n",
       "    .dataframe thead th {\n",
       "        text-align: left;\n",
       "    }\n",
       "\n",
       "    .dataframe tbody tr th {\n",
       "        vertical-align: top;\n",
       "    }\n",
       "</style>\n",
       "<table border=\"1\" class=\"dataframe\">\n",
       "  <thead>\n",
       "    <tr style=\"text-align: right;\">\n",
       "      <th></th>\n",
       "      <th>predict</th>\n",
       "      <th>Saleprice</th>\n",
       "    </tr>\n",
       "  </thead>\n",
       "  <tbody>\n",
       "    <tr>\n",
       "      <th>count</th>\n",
       "      <td>1459.000000</td>\n",
       "      <td>1.459000e+03</td>\n",
       "    </tr>\n",
       "    <tr>\n",
       "      <th>mean</th>\n",
       "      <td>12.007705</td>\n",
       "      <td>1.791649e+05</td>\n",
       "    </tr>\n",
       "    <tr>\n",
       "      <th>std</th>\n",
       "      <td>0.404555</td>\n",
       "      <td>9.763286e+04</td>\n",
       "    </tr>\n",
       "    <tr>\n",
       "      <th>min</th>\n",
       "      <td>10.585627</td>\n",
       "      <td>3.956210e+04</td>\n",
       "    </tr>\n",
       "    <tr>\n",
       "      <th>25%</th>\n",
       "      <td>11.755800</td>\n",
       "      <td>1.274908e+05</td>\n",
       "    </tr>\n",
       "    <tr>\n",
       "      <th>50%</th>\n",
       "      <td>11.968336</td>\n",
       "      <td>1.576820e+05</td>\n",
       "    </tr>\n",
       "    <tr>\n",
       "      <th>75%</th>\n",
       "      <td>12.255274</td>\n",
       "      <td>2.100863e+05</td>\n",
       "    </tr>\n",
       "    <tr>\n",
       "      <th>max</th>\n",
       "      <td>14.722708</td>\n",
       "      <td>2.477369e+06</td>\n",
       "    </tr>\n",
       "  </tbody>\n",
       "</table>\n",
       "</div>"
      ],
      "text/plain": [
       "           predict     Saleprice\n",
       "count  1459.000000  1.459000e+03\n",
       "mean     12.007705  1.791649e+05\n",
       "std       0.404555  9.763286e+04\n",
       "min      10.585627  3.956210e+04\n",
       "25%      11.755800  1.274908e+05\n",
       "50%      11.968336  1.576820e+05\n",
       "75%      12.255274  2.100863e+05\n",
       "max      14.722708  2.477369e+06"
      ]
     },
     "execution_count": 222,
     "metadata": {},
     "output_type": "execute_result"
    }
   ],
   "source": [
    "a.describe()"
   ]
  },
  {
   "cell_type": "markdown",
   "metadata": {},
   "source": [
    "<div class=\"alert alert-block alert-info\">\n",
    "<font color='green'>Now, we can put Id and Saleprice together, save them and submit it on Kaggle. </font>"
   ]
  },
  {
   "cell_type": "code",
   "execution_count": 223,
   "metadata": {
    "collapsed": true
   },
   "outputs": [],
   "source": [
    "Id=testa['Id']"
   ]
  },
  {
   "cell_type": "code",
   "execution_count": 224,
   "metadata": {
    "collapsed": true
   },
   "outputs": [],
   "source": [
    "SalePrice=a['Saleprice']"
   ]
  },
  {
   "cell_type": "code",
   "execution_count": 225,
   "metadata": {
    "collapsed": true
   },
   "outputs": [],
   "source": [
    "DL_model1_result=pd.concat((Id,SalePrice),axis=1)"
   ]
  },
  {
   "cell_type": "code",
   "execution_count": 226,
   "metadata": {},
   "outputs": [
    {
     "data": {
      "text/html": [
       "<div>\n",
       "<style>\n",
       "    .dataframe thead tr:only-child th {\n",
       "        text-align: right;\n",
       "    }\n",
       "\n",
       "    .dataframe thead th {\n",
       "        text-align: left;\n",
       "    }\n",
       "\n",
       "    .dataframe tbody tr th {\n",
       "        vertical-align: top;\n",
       "    }\n",
       "</style>\n",
       "<table border=\"1\" class=\"dataframe\">\n",
       "  <thead>\n",
       "    <tr style=\"text-align: right;\">\n",
       "      <th></th>\n",
       "      <th>Id</th>\n",
       "      <th>Saleprice</th>\n",
       "    </tr>\n",
       "  </thead>\n",
       "  <tbody>\n",
       "    <tr>\n",
       "      <th>0</th>\n",
       "      <td>1461</td>\n",
       "      <td>117619.358218</td>\n",
       "    </tr>\n",
       "    <tr>\n",
       "      <th>1</th>\n",
       "      <td>1462</td>\n",
       "      <td>150623.291258</td>\n",
       "    </tr>\n",
       "    <tr>\n",
       "      <th>2</th>\n",
       "      <td>1463</td>\n",
       "      <td>191535.886713</td>\n",
       "    </tr>\n",
       "    <tr>\n",
       "      <th>3</th>\n",
       "      <td>1464</td>\n",
       "      <td>200681.631473</td>\n",
       "    </tr>\n",
       "    <tr>\n",
       "      <th>4</th>\n",
       "      <td>1465</td>\n",
       "      <td>152322.929701</td>\n",
       "    </tr>\n",
       "  </tbody>\n",
       "</table>\n",
       "</div>"
      ],
      "text/plain": [
       "     Id      Saleprice\n",
       "0  1461  117619.358218\n",
       "1  1462  150623.291258\n",
       "2  1463  191535.886713\n",
       "3  1464  200681.631473\n",
       "4  1465  152322.929701"
      ]
     },
     "execution_count": 226,
     "metadata": {},
     "output_type": "execute_result"
    }
   ],
   "source": [
    "DL_model1_result.head()"
   ]
  },
  {
   "cell_type": "code",
   "execution_count": 227,
   "metadata": {
    "collapsed": true
   },
   "outputs": [],
   "source": [
    "DL_model1_result.to_csv('DL_model1_result.csv')"
   ]
  },
  {
   "cell_type": "markdown",
   "metadata": {},
   "source": [
    "### (2) Deep Learning Model 2"
   ]
  },
  {
   "cell_type": "code",
   "execution_count": 228,
   "metadata": {},
   "outputs": [
    {
     "name": "stdout",
     "output_type": "stream",
     "text": [
      "deeplearning Model Build progress: |██████████████████████████████████████| 100%\n"
     ]
    }
   ],
   "source": [
    "DL_model2 = H2ODeepLearningEstimator(\n",
    "    model_id=\"model_1\",\n",
    "    stopping_metric = \"RMSE\",\n",
    "    epochs = 300, \n",
    "    hidden = [128,128,128,200],\n",
    "    stopping_rounds=2,\n",
    "    nfolds = 3)\n",
    "DL_model2.train(x, y, training_frame=train, validation_frame=validation)"
   ]
  },
  {
   "cell_type": "code",
   "execution_count": 229,
   "metadata": {},
   "outputs": [
    {
     "name": "stdout",
     "output_type": "stream",
     "text": [
      "Model Details\n",
      "=============\n",
      "H2ODeepLearningEstimator :  Deep Learning\n",
      "Model Key:  model_1\n",
      "\n",
      "\n",
      "ModelMetricsRegression: deeplearning\n",
      "** Reported on train data. **\n",
      "\n",
      "MSE: 0.0004316496489513255\n",
      "RMSE: 0.02077617984498896\n",
      "MAE: 0.014802093635220639\n",
      "RMSLE: 0.0016190273228997277\n",
      "Mean Residual Deviance: 0.0004316496489513255\n",
      "\n",
      "ModelMetricsRegression: deeplearning\n",
      "** Reported on validation data. **\n",
      "\n",
      "MSE: 0.015474695693352117\n",
      "RMSE: 0.12439732992854838\n",
      "MAE: 0.08803364700845538\n",
      "RMSLE: 0.009613132733033233\n",
      "Mean Residual Deviance: 0.015474695693352117\n",
      "\n",
      "ModelMetricsRegression: deeplearning\n",
      "** Reported on cross-validation data. **\n",
      "\n",
      "MSE: 0.019178610126795018\n",
      "RMSE: 0.138486859040109\n",
      "MAE: 0.09269351926637481\n",
      "RMSLE: 0.010864237559170337\n",
      "Mean Residual Deviance: 0.019178610126795018\n",
      "Cross-Validation Metrics Summary: \n"
     ]
    },
    {
     "data": {
      "text/html": [
       "<div style=\"overflow:auto\"><table style=\"width:50%\"><tr><td><b></b></td>\n",
       "<td><b>mean</b></td>\n",
       "<td><b>sd</b></td>\n",
       "<td><b>cv_1_valid</b></td>\n",
       "<td><b>cv_2_valid</b></td>\n",
       "<td><b>cv_3_valid</b></td></tr>\n",
       "<tr><td>mae</td>\n",
       "<td>0.0926206</td>\n",
       "<td>0.0014633</td>\n",
       "<td>0.0911414</td>\n",
       "<td>0.0955472</td>\n",
       "<td>0.0911732</td></tr>\n",
       "<tr><td>mean_residual_deviance</td>\n",
       "<td>0.0190428</td>\n",
       "<td>0.0024636</td>\n",
       "<td>0.0176543</td>\n",
       "<td>0.0238312</td>\n",
       "<td>0.0156429</td></tr>\n",
       "<tr><td>mse</td>\n",
       "<td>0.0190428</td>\n",
       "<td>0.0024636</td>\n",
       "<td>0.0176543</td>\n",
       "<td>0.0238312</td>\n",
       "<td>0.0156429</td></tr>\n",
       "<tr><td>r2</td>\n",
       "<td>0.8847581</td>\n",
       "<td>0.0098709</td>\n",
       "<td>0.8782323</td>\n",
       "<td>0.8718851</td>\n",
       "<td>0.9041569</td></tr>\n",
       "<tr><td>residual_deviance</td>\n",
       "<td>0.0190428</td>\n",
       "<td>0.0024636</td>\n",
       "<td>0.0176543</td>\n",
       "<td>0.0238312</td>\n",
       "<td>0.0156429</td></tr>\n",
       "<tr><td>rmse</td>\n",
       "<td>0.1374383</td>\n",
       "<td>0.0087618</td>\n",
       "<td>0.1328696</td>\n",
       "<td>0.1543735</td>\n",
       "<td>0.1250716</td></tr>\n",
       "<tr><td>rmsle</td>\n",
       "<td>0.0107696</td>\n",
       "<td>0.0007528</td>\n",
       "<td>0.0103644</td>\n",
       "<td>0.0122280</td>\n",
       "<td>0.0097163</td></tr></table></div>"
      ],
      "text/plain": [
       "                        mean       sd           cv_1_valid    cv_2_valid    cv_3_valid\n",
       "----------------------  ---------  -----------  ------------  ------------  ------------\n",
       "mae                     0.0926206  0.00146333   0.0911414     0.0955472     0.0911732\n",
       "mean_residual_deviance  0.0190428  0.00246359   0.0176543     0.0238312     0.0156429\n",
       "mse                     0.0190428  0.00246359   0.0176543     0.0238312     0.0156429\n",
       "r2                      0.884758   0.00987095   0.878232      0.871885      0.904157\n",
       "residual_deviance       0.0190428  0.00246359   0.0176543     0.0238312     0.0156429\n",
       "rmse                    0.137438   0.00876175   0.13287       0.154374      0.125072\n",
       "rmsle                   0.0107696  0.000752847  0.0103644     0.012228      0.00971629"
      ]
     },
     "metadata": {},
     "output_type": "display_data"
    },
    {
     "name": "stdout",
     "output_type": "stream",
     "text": [
      "Scoring History: \n"
     ]
    },
    {
     "data": {
      "text/html": [
       "<div style=\"overflow:auto\"><table style=\"width:50%\"><tr><td><b></b></td>\n",
       "<td><b>timestamp</b></td>\n",
       "<td><b>duration</b></td>\n",
       "<td><b>training_speed</b></td>\n",
       "<td><b>epochs</b></td>\n",
       "<td><b>iterations</b></td>\n",
       "<td><b>samples</b></td>\n",
       "<td><b>training_rmse</b></td>\n",
       "<td><b>training_deviance</b></td>\n",
       "<td><b>training_mae</b></td>\n",
       "<td><b>validation_rmse</b></td>\n",
       "<td><b>validation_deviance</b></td>\n",
       "<td><b>validation_mae</b></td></tr>\n",
       "<tr><td></td>\n",
       "<td>2018-04-18 20:41:29</td>\n",
       "<td> 0.000 sec</td>\n",
       "<td>None</td>\n",
       "<td>0.0</td>\n",
       "<td>0</td>\n",
       "<td>0.0</td>\n",
       "<td>nan</td>\n",
       "<td>nan</td>\n",
       "<td>nan</td>\n",
       "<td>nan</td>\n",
       "<td>nan</td>\n",
       "<td>nan</td></tr>\n",
       "<tr><td></td>\n",
       "<td>2018-04-18 20:41:31</td>\n",
       "<td> 1 min  9.272 sec</td>\n",
       "<td>4304 obs/sec</td>\n",
       "<td>10.0</td>\n",
       "<td>1</td>\n",
       "<td>10000.0</td>\n",
       "<td>0.1296256</td>\n",
       "<td>0.0168028</td>\n",
       "<td>0.0922482</td>\n",
       "<td>0.1540234</td>\n",
       "<td>0.0237232</td>\n",
       "<td>0.1154043</td></tr>\n",
       "<tr><td></td>\n",
       "<td>2018-04-18 20:41:37</td>\n",
       "<td> 1 min 14.359 sec</td>\n",
       "<td>5437 obs/sec</td>\n",
       "<td>40.0</td>\n",
       "<td>4</td>\n",
       "<td>40000.0</td>\n",
       "<td>0.0796042</td>\n",
       "<td>0.0063368</td>\n",
       "<td>0.0578921</td>\n",
       "<td>0.1374422</td>\n",
       "<td>0.0188904</td>\n",
       "<td>0.0988305</td></tr>\n",
       "<tr><td></td>\n",
       "<td>2018-04-18 20:41:42</td>\n",
       "<td> 1 min 20.179 sec</td>\n",
       "<td>6090 obs/sec</td>\n",
       "<td>80.0</td>\n",
       "<td>8</td>\n",
       "<td>80000.0</td>\n",
       "<td>0.0477694</td>\n",
       "<td>0.0022819</td>\n",
       "<td>0.0341208</td>\n",
       "<td>0.1285493</td>\n",
       "<td>0.0165249</td>\n",
       "<td>0.0900504</td></tr>\n",
       "<tr><td></td>\n",
       "<td>2018-04-18 20:41:48</td>\n",
       "<td> 1 min 25.397 sec</td>\n",
       "<td>6559 obs/sec</td>\n",
       "<td>120.0</td>\n",
       "<td>12</td>\n",
       "<td>120000.0</td>\n",
       "<td>0.0318226</td>\n",
       "<td>0.0010127</td>\n",
       "<td>0.0230085</td>\n",
       "<td>0.1261769</td>\n",
       "<td>0.0159206</td>\n",
       "<td>0.0891872</td></tr>\n",
       "<tr><td></td>\n",
       "<td>2018-04-18 20:41:54</td>\n",
       "<td> 1 min 31.463 sec</td>\n",
       "<td>6990 obs/sec</td>\n",
       "<td>170.0</td>\n",
       "<td>17</td>\n",
       "<td>170000.0</td>\n",
       "<td>0.0245164</td>\n",
       "<td>0.0006011</td>\n",
       "<td>0.0176547</td>\n",
       "<td>0.1206476</td>\n",
       "<td>0.0145558</td>\n",
       "<td>0.0866010</td></tr>\n",
       "<tr><td></td>\n",
       "<td>2018-04-18 20:41:59</td>\n",
       "<td> 1 min 37.177 sec</td>\n",
       "<td>7335 obs/sec</td>\n",
       "<td>220.0</td>\n",
       "<td>22</td>\n",
       "<td>220000.0</td>\n",
       "<td>0.0207762</td>\n",
       "<td>0.0004316</td>\n",
       "<td>0.0148021</td>\n",
       "<td>0.1243973</td>\n",
       "<td>0.0154747</td>\n",
       "<td>0.0880336</td></tr></table></div>"
      ],
      "text/plain": [
       "    timestamp            duration          training_speed    epochs    iterations    samples    training_rmse    training_deviance    training_mae    validation_rmse    validation_deviance    validation_mae\n",
       "--  -------------------  ----------------  ----------------  --------  ------------  ---------  ---------------  -------------------  --------------  -----------------  ---------------------  ----------------\n",
       "    2018-04-18 20:41:29  0.000 sec                           0         0             0          nan              nan                  nan             nan                nan                    nan\n",
       "    2018-04-18 20:41:31  1 min  9.272 sec  4304 obs/sec      10        1             10000      0.129626         0.0168028            0.0922482       0.154023           0.0237232              0.115404\n",
       "    2018-04-18 20:41:37  1 min 14.359 sec  5437 obs/sec      40        4             40000      0.0796042        0.00633683           0.0578921       0.137442           0.0188904              0.0988305\n",
       "    2018-04-18 20:41:42  1 min 20.179 sec  6090 obs/sec      80        8             80000      0.0477694        0.00228192           0.0341208       0.128549           0.0165249              0.0900504\n",
       "    2018-04-18 20:41:48  1 min 25.397 sec  6559 obs/sec      120       12            120000     0.0318226        0.00101268           0.0230085       0.126177           0.0159206              0.0891872\n",
       "    2018-04-18 20:41:54  1 min 31.463 sec  6990 obs/sec      170       17            170000     0.0245164        0.000601053          0.0176547       0.120648           0.0145558              0.086601\n",
       "    2018-04-18 20:41:59  1 min 37.177 sec  7335 obs/sec      220       22            220000     0.0207762        0.00043165           0.0148021       0.124397           0.0154747              0.0880336"
      ]
     },
     "metadata": {},
     "output_type": "display_data"
    },
    {
     "name": "stdout",
     "output_type": "stream",
     "text": [
      "Variable Importances: \n"
     ]
    },
    {
     "data": {
      "text/html": [
       "<div style=\"overflow:auto\"><table style=\"width:50%\"><tr><td><b>variable</b></td>\n",
       "<td><b>relative_importance</b></td>\n",
       "<td><b>scaled_importance</b></td>\n",
       "<td><b>percentage</b></td></tr>\n",
       "<tr><td>Neighborhood</td>\n",
       "<td>1.0</td>\n",
       "<td>1.0</td>\n",
       "<td>0.0189877</td></tr>\n",
       "<tr><td>MoSold</td>\n",
       "<td>0.9998202</td>\n",
       "<td>0.9998202</td>\n",
       "<td>0.0189842</td></tr>\n",
       "<tr><td>BsmtExposure</td>\n",
       "<td>0.9736369</td>\n",
       "<td>0.9736369</td>\n",
       "<td>0.0184871</td></tr>\n",
       "<tr><td>GarageType</td>\n",
       "<td>0.9716427</td>\n",
       "<td>0.9716427</td>\n",
       "<td>0.0184492</td></tr>\n",
       "<tr><td>YrSold</td>\n",
       "<td>0.9579205</td>\n",
       "<td>0.9579205</td>\n",
       "<td>0.0181887</td></tr>\n",
       "<tr><td>---</td>\n",
       "<td>---</td>\n",
       "<td>---</td>\n",
       "<td>---</td></tr>\n",
       "<tr><td>GarageCond</td>\n",
       "<td>0.5723165</td>\n",
       "<td>0.5723165</td>\n",
       "<td>0.0108669</td></tr>\n",
       "<tr><td>GarageYrBlt</td>\n",
       "<td>0.5688121</td>\n",
       "<td>0.5688121</td>\n",
       "<td>0.0108004</td></tr>\n",
       "<tr><td>Heating</td>\n",
       "<td>0.5680026</td>\n",
       "<td>0.5680026</td>\n",
       "<td>0.0107850</td></tr>\n",
       "<tr><td>Condition2</td>\n",
       "<td>0.5619767</td>\n",
       "<td>0.5619767</td>\n",
       "<td>0.0106706</td></tr>\n",
       "<tr><td>RoofMatl</td>\n",
       "<td>0.5335059</td>\n",
       "<td>0.5335059</td>\n",
       "<td>0.0101300</td></tr></table></div>"
      ],
      "text/plain": [
       "variable      relative_importance    scaled_importance    percentage\n",
       "------------  ---------------------  -------------------  --------------------\n",
       "Neighborhood  1.0                    1.0                  0.01898765556843037\n",
       "MoSold        0.9998201727867126     0.9998201727867126   0.01898424107124264\n",
       "BsmtExposure  0.9736369252204895     0.9736369252204895   0.01848708258479225\n",
       "GarageType    0.9716427326202393     0.9716427326202393   0.01844921754256159\n",
       "YrSold        0.957920491695404      0.957920491695404    0.0181886643582538\n",
       "---           ---                    ---                  ---\n",
       "GarageCond    0.5723164677619934     0.5723164677619934   0.010866947966005415\n",
       "GarageYrBlt   0.5688120722770691     0.5688120722770691   0.01080040771156211\n",
       "Heating       0.5680026412010193     0.5680026412010193   0.010785038513083692\n",
       "Condition2    0.5619767308235168     0.5619767308235168   0.010670620602349445\n",
       "RoofMatl      0.533505916595459      0.533505916595459    0.010130026588034316"
      ]
     },
     "metadata": {},
     "output_type": "display_data"
    },
    {
     "name": "stdout",
     "output_type": "stream",
     "text": [
      "\n",
      "See the whole table with table.as_data_frame()\n"
     ]
    },
    {
     "data": {
      "text/plain": []
     },
     "execution_count": 229,
     "metadata": {},
     "output_type": "execute_result"
    }
   ],
   "source": [
    "DL_model2"
   ]
  },
  {
   "cell_type": "code",
   "execution_count": 230,
   "metadata": {},
   "outputs": [
    {
     "name": "stdout",
     "output_type": "stream",
     "text": [
      "deeplearning prediction progress: |███████████████████████████████████████| 100%\n",
      "deeplearning prediction progress: |███████████████████████████████████████| 100%\n"
     ]
    }
   ],
   "source": [
    "ert_preds1_val = DL_model2.predict(validation)\n",
    "ert_preds1_test = DL_model2.predict(test)"
   ]
  },
  {
   "cell_type": "markdown",
   "metadata": {},
   "source": [
    "<div class=\"alert alert-block alert-info\">\n",
    "<font color='green'>Below is our predicted log(SalePrice) based on our Random Forest Model. \n",
    "<br>\n",
    "We then convernt the predicted SalePrice to a data frame so that we can concatenate it with Id.</font>"
   ]
  },
  {
   "cell_type": "code",
   "execution_count": 231,
   "metadata": {
    "scrolled": true
   },
   "outputs": [
    {
     "data": {
      "text/html": [
       "<table>\n",
       "<thead>\n",
       "<tr><th style=\"text-align: right;\">  predict</th></tr>\n",
       "</thead>\n",
       "<tbody>\n",
       "<tr><td style=\"text-align: right;\">  11.7257</td></tr>\n",
       "<tr><td style=\"text-align: right;\">  12.0297</td></tr>\n",
       "<tr><td style=\"text-align: right;\">  12.1711</td></tr>\n",
       "<tr><td style=\"text-align: right;\">  12.2323</td></tr>\n",
       "<tr><td style=\"text-align: right;\">  12.0306</td></tr>\n",
       "<tr><td style=\"text-align: right;\">  12.0856</td></tr>\n",
       "<tr><td style=\"text-align: right;\">  12.057 </td></tr>\n",
       "<tr><td style=\"text-align: right;\">  12.0761</td></tr>\n",
       "<tr><td style=\"text-align: right;\">  12.1704</td></tr>\n",
       "<tr><td style=\"text-align: right;\">  11.7739</td></tr>\n",
       "</tbody>\n",
       "</table>"
      ]
     },
     "metadata": {},
     "output_type": "display_data"
    },
    {
     "data": {
      "text/plain": []
     },
     "execution_count": 231,
     "metadata": {},
     "output_type": "execute_result"
    }
   ],
   "source": [
    "ert_preds1_test.head()"
   ]
  },
  {
   "cell_type": "code",
   "execution_count": 232,
   "metadata": {
    "collapsed": true
   },
   "outputs": [],
   "source": [
    "a=ert_preds1_test.as_data_frame()"
   ]
  },
  {
   "cell_type": "code",
   "execution_count": 233,
   "metadata": {},
   "outputs": [
    {
     "data": {
      "text/html": [
       "<div>\n",
       "<style>\n",
       "    .dataframe thead tr:only-child th {\n",
       "        text-align: right;\n",
       "    }\n",
       "\n",
       "    .dataframe thead th {\n",
       "        text-align: left;\n",
       "    }\n",
       "\n",
       "    .dataframe tbody tr th {\n",
       "        vertical-align: top;\n",
       "    }\n",
       "</style>\n",
       "<table border=\"1\" class=\"dataframe\">\n",
       "  <thead>\n",
       "    <tr style=\"text-align: right;\">\n",
       "      <th></th>\n",
       "      <th>predict</th>\n",
       "    </tr>\n",
       "  </thead>\n",
       "  <tbody>\n",
       "    <tr>\n",
       "      <th>0</th>\n",
       "      <td>11.725672</td>\n",
       "    </tr>\n",
       "    <tr>\n",
       "      <th>1</th>\n",
       "      <td>12.029718</td>\n",
       "    </tr>\n",
       "    <tr>\n",
       "      <th>2</th>\n",
       "      <td>12.171124</td>\n",
       "    </tr>\n",
       "    <tr>\n",
       "      <th>3</th>\n",
       "      <td>12.232321</td>\n",
       "    </tr>\n",
       "    <tr>\n",
       "      <th>4</th>\n",
       "      <td>12.030626</td>\n",
       "    </tr>\n",
       "  </tbody>\n",
       "</table>\n",
       "</div>"
      ],
      "text/plain": [
       "     predict\n",
       "0  11.725672\n",
       "1  12.029718\n",
       "2  12.171124\n",
       "3  12.232321\n",
       "4  12.030626"
      ]
     },
     "execution_count": 233,
     "metadata": {},
     "output_type": "execute_result"
    }
   ],
   "source": [
    "a.head()"
   ]
  },
  {
   "cell_type": "markdown",
   "metadata": {},
   "source": [
    "<div class=\"alert alert-block alert-success\">\n",
    "<font color='darkblue'>Before we concatenate our Log(SalePrice) with Id, we need to convert our log(Saleprice) to Saleprice ($) </font>"
   ]
  },
  {
   "cell_type": "code",
   "execution_count": 234,
   "metadata": {
    "collapsed": true
   },
   "outputs": [],
   "source": [
    "a['Saleprice'] = np.exp(a['predict'])"
   ]
  },
  {
   "cell_type": "code",
   "execution_count": 235,
   "metadata": {},
   "outputs": [
    {
     "data": {
      "text/html": [
       "<div>\n",
       "<style>\n",
       "    .dataframe thead tr:only-child th {\n",
       "        text-align: right;\n",
       "    }\n",
       "\n",
       "    .dataframe thead th {\n",
       "        text-align: left;\n",
       "    }\n",
       "\n",
       "    .dataframe tbody tr th {\n",
       "        vertical-align: top;\n",
       "    }\n",
       "</style>\n",
       "<table border=\"1\" class=\"dataframe\">\n",
       "  <thead>\n",
       "    <tr style=\"text-align: right;\">\n",
       "      <th></th>\n",
       "      <th>predict</th>\n",
       "      <th>Saleprice</th>\n",
       "    </tr>\n",
       "  </thead>\n",
       "  <tbody>\n",
       "    <tr>\n",
       "      <th>0</th>\n",
       "      <td>11.725672</td>\n",
       "      <td>123707.101701</td>\n",
       "    </tr>\n",
       "    <tr>\n",
       "      <th>1</th>\n",
       "      <td>12.029718</td>\n",
       "      <td>167664.110746</td>\n",
       "    </tr>\n",
       "    <tr>\n",
       "      <th>2</th>\n",
       "      <td>12.171124</td>\n",
       "      <td>193130.960882</td>\n",
       "    </tr>\n",
       "    <tr>\n",
       "      <th>3</th>\n",
       "      <td>12.232321</td>\n",
       "      <td>205319.106489</td>\n",
       "    </tr>\n",
       "    <tr>\n",
       "      <th>4</th>\n",
       "      <td>12.030626</td>\n",
       "      <td>167816.476328</td>\n",
       "    </tr>\n",
       "  </tbody>\n",
       "</table>\n",
       "</div>"
      ],
      "text/plain": [
       "     predict      Saleprice\n",
       "0  11.725672  123707.101701\n",
       "1  12.029718  167664.110746\n",
       "2  12.171124  193130.960882\n",
       "3  12.232321  205319.106489\n",
       "4  12.030626  167816.476328"
      ]
     },
     "execution_count": 235,
     "metadata": {},
     "output_type": "execute_result"
    }
   ],
   "source": [
    "a.head()"
   ]
  },
  {
   "cell_type": "markdown",
   "metadata": {},
   "source": [
    "<div class=\"alert alert-block alert-info\">\n",
    "<font color='green'>Here, we can have a look at the statistics of  our predict log(SalePrice) and SalePrice.</font>"
   ]
  },
  {
   "cell_type": "code",
   "execution_count": 236,
   "metadata": {},
   "outputs": [
    {
     "data": {
      "text/html": [
       "<div>\n",
       "<style>\n",
       "    .dataframe thead tr:only-child th {\n",
       "        text-align: right;\n",
       "    }\n",
       "\n",
       "    .dataframe thead th {\n",
       "        text-align: left;\n",
       "    }\n",
       "\n",
       "    .dataframe tbody tr th {\n",
       "        vertical-align: top;\n",
       "    }\n",
       "</style>\n",
       "<table border=\"1\" class=\"dataframe\">\n",
       "  <thead>\n",
       "    <tr style=\"text-align: right;\">\n",
       "      <th></th>\n",
       "      <th>predict</th>\n",
       "      <th>Saleprice</th>\n",
       "    </tr>\n",
       "  </thead>\n",
       "  <tbody>\n",
       "    <tr>\n",
       "      <th>count</th>\n",
       "      <td>1459.000000</td>\n",
       "      <td>1.459000e+03</td>\n",
       "    </tr>\n",
       "    <tr>\n",
       "      <th>mean</th>\n",
       "      <td>12.026353</td>\n",
       "      <td>1.816342e+05</td>\n",
       "    </tr>\n",
       "    <tr>\n",
       "      <th>std</th>\n",
       "      <td>0.395922</td>\n",
       "      <td>8.441736e+04</td>\n",
       "    </tr>\n",
       "    <tr>\n",
       "      <th>min</th>\n",
       "      <td>10.815062</td>\n",
       "      <td>4.976475e+04</td>\n",
       "    </tr>\n",
       "    <tr>\n",
       "      <th>25%</th>\n",
       "      <td>11.768617</td>\n",
       "      <td>1.291355e+05</td>\n",
       "    </tr>\n",
       "    <tr>\n",
       "      <th>50%</th>\n",
       "      <td>11.969673</td>\n",
       "      <td>1.578930e+05</td>\n",
       "    </tr>\n",
       "    <tr>\n",
       "      <th>75%</th>\n",
       "      <td>12.269489</td>\n",
       "      <td>2.130941e+05</td>\n",
       "    </tr>\n",
       "    <tr>\n",
       "      <th>max</th>\n",
       "      <td>14.119761</td>\n",
       "      <td>1.355608e+06</td>\n",
       "    </tr>\n",
       "  </tbody>\n",
       "</table>\n",
       "</div>"
      ],
      "text/plain": [
       "           predict     Saleprice\n",
       "count  1459.000000  1.459000e+03\n",
       "mean     12.026353  1.816342e+05\n",
       "std       0.395922  8.441736e+04\n",
       "min      10.815062  4.976475e+04\n",
       "25%      11.768617  1.291355e+05\n",
       "50%      11.969673  1.578930e+05\n",
       "75%      12.269489  2.130941e+05\n",
       "max      14.119761  1.355608e+06"
      ]
     },
     "execution_count": 236,
     "metadata": {},
     "output_type": "execute_result"
    }
   ],
   "source": [
    "a.describe()"
   ]
  },
  {
   "cell_type": "markdown",
   "metadata": {},
   "source": [
    "<div class=\"alert alert-block alert-info\">\n",
    "<font color='green'>Now, we can put Id and Saleprice together, save them and submit it on Kaggle. </font>"
   ]
  },
  {
   "cell_type": "code",
   "execution_count": 237,
   "metadata": {
    "collapsed": true
   },
   "outputs": [],
   "source": [
    "Id=testa['Id']"
   ]
  },
  {
   "cell_type": "code",
   "execution_count": 238,
   "metadata": {
    "collapsed": true
   },
   "outputs": [],
   "source": [
    "SalePrice=a['Saleprice']"
   ]
  },
  {
   "cell_type": "code",
   "execution_count": 239,
   "metadata": {
    "collapsed": true
   },
   "outputs": [],
   "source": [
    "DL_model2_result=pd.concat((Id,SalePrice),axis=1)"
   ]
  },
  {
   "cell_type": "code",
   "execution_count": 240,
   "metadata": {},
   "outputs": [
    {
     "data": {
      "text/html": [
       "<div>\n",
       "<style>\n",
       "    .dataframe thead tr:only-child th {\n",
       "        text-align: right;\n",
       "    }\n",
       "\n",
       "    .dataframe thead th {\n",
       "        text-align: left;\n",
       "    }\n",
       "\n",
       "    .dataframe tbody tr th {\n",
       "        vertical-align: top;\n",
       "    }\n",
       "</style>\n",
       "<table border=\"1\" class=\"dataframe\">\n",
       "  <thead>\n",
       "    <tr style=\"text-align: right;\">\n",
       "      <th></th>\n",
       "      <th>Id</th>\n",
       "      <th>Saleprice</th>\n",
       "    </tr>\n",
       "  </thead>\n",
       "  <tbody>\n",
       "    <tr>\n",
       "      <th>0</th>\n",
       "      <td>1461</td>\n",
       "      <td>123707.101701</td>\n",
       "    </tr>\n",
       "    <tr>\n",
       "      <th>1</th>\n",
       "      <td>1462</td>\n",
       "      <td>167664.110746</td>\n",
       "    </tr>\n",
       "    <tr>\n",
       "      <th>2</th>\n",
       "      <td>1463</td>\n",
       "      <td>193130.960882</td>\n",
       "    </tr>\n",
       "    <tr>\n",
       "      <th>3</th>\n",
       "      <td>1464</td>\n",
       "      <td>205319.106489</td>\n",
       "    </tr>\n",
       "    <tr>\n",
       "      <th>4</th>\n",
       "      <td>1465</td>\n",
       "      <td>167816.476328</td>\n",
       "    </tr>\n",
       "  </tbody>\n",
       "</table>\n",
       "</div>"
      ],
      "text/plain": [
       "     Id      Saleprice\n",
       "0  1461  123707.101701\n",
       "1  1462  167664.110746\n",
       "2  1463  193130.960882\n",
       "3  1464  205319.106489\n",
       "4  1465  167816.476328"
      ]
     },
     "execution_count": 240,
     "metadata": {},
     "output_type": "execute_result"
    }
   ],
   "source": [
    "DL_model2_result.head()"
   ]
  },
  {
   "cell_type": "code",
   "execution_count": 241,
   "metadata": {
    "collapsed": true
   },
   "outputs": [],
   "source": [
    "DL_model2_result.to_csv('DL_model2_result.csv')"
   ]
  },
  {
   "cell_type": "markdown",
   "metadata": {},
   "source": [
    "### (3) Deep Learning Model 3"
   ]
  },
  {
   "cell_type": "code",
   "execution_count": 242,
   "metadata": {},
   "outputs": [
    {
     "name": "stdout",
     "output_type": "stream",
     "text": [
      "deeplearning Model Build progress: |██████████████████████████████████████| 100%\n"
     ]
    }
   ],
   "source": [
    "DL_model3 = H2ODeepLearningEstimator(\n",
    "    model_id=\"model_3\",\n",
    "    stopping_metric = \"RMSE\",\n",
    "    epochs = 200, \n",
    "    hidden = [64,64,64,64],\n",
    "    stopping_rounds=3,\n",
    "    standardize = True)\n",
    "DL_model3.train(x, y, training_frame=train, validation_frame=validation)"
   ]
  },
  {
   "cell_type": "code",
   "execution_count": 243,
   "metadata": {},
   "outputs": [
    {
     "name": "stdout",
     "output_type": "stream",
     "text": [
      "Model Details\n",
      "=============\n",
      "H2ODeepLearningEstimator :  Deep Learning\n",
      "Model Key:  model_3\n",
      "\n",
      "\n",
      "ModelMetricsRegression: deeplearning\n",
      "** Reported on train data. **\n",
      "\n",
      "MSE: 0.0009991755879489698\n",
      "RMSE: 0.03160973881494388\n",
      "MAE: 0.02424768984733889\n",
      "RMSLE: 0.002467197147196252\n",
      "Mean Residual Deviance: 0.0009991755879489698\n",
      "\n",
      "ModelMetricsRegression: deeplearning\n",
      "** Reported on validation data. **\n",
      "\n",
      "MSE: 0.016363717919497468\n",
      "RMSE: 0.12792074858871594\n",
      "MAE: 0.0911688222739493\n",
      "RMSLE: 0.00989006088656424\n",
      "Mean Residual Deviance: 0.016363717919497468\n",
      "Scoring History: \n"
     ]
    },
    {
     "data": {
      "text/html": [
       "<div style=\"overflow:auto\"><table style=\"width:50%\"><tr><td><b></b></td>\n",
       "<td><b>timestamp</b></td>\n",
       "<td><b>duration</b></td>\n",
       "<td><b>training_speed</b></td>\n",
       "<td><b>epochs</b></td>\n",
       "<td><b>iterations</b></td>\n",
       "<td><b>samples</b></td>\n",
       "<td><b>training_rmse</b></td>\n",
       "<td><b>training_deviance</b></td>\n",
       "<td><b>training_mae</b></td>\n",
       "<td><b>validation_rmse</b></td>\n",
       "<td><b>validation_deviance</b></td>\n",
       "<td><b>validation_mae</b></td></tr>\n",
       "<tr><td></td>\n",
       "<td>2018-04-18 20:42:01</td>\n",
       "<td> 0.000 sec</td>\n",
       "<td>None</td>\n",
       "<td>0.0</td>\n",
       "<td>0</td>\n",
       "<td>0.0</td>\n",
       "<td>nan</td>\n",
       "<td>nan</td>\n",
       "<td>nan</td>\n",
       "<td>nan</td>\n",
       "<td>nan</td>\n",
       "<td>nan</td></tr>\n",
       "<tr><td></td>\n",
       "<td>2018-04-18 20:42:02</td>\n",
       "<td> 0.721 sec</td>\n",
       "<td>14224 obs/sec</td>\n",
       "<td>10.0</td>\n",
       "<td>1</td>\n",
       "<td>10000.0</td>\n",
       "<td>0.1206390</td>\n",
       "<td>0.0145538</td>\n",
       "<td>0.0835275</td>\n",
       "<td>0.1441241</td>\n",
       "<td>0.0207718</td>\n",
       "<td>0.1062798</td></tr>\n",
       "<tr><td></td>\n",
       "<td>2018-04-18 20:42:07</td>\n",
       "<td> 5.941 sec</td>\n",
       "<td>16920 obs/sec</td>\n",
       "<td>100.0</td>\n",
       "<td>10</td>\n",
       "<td>100000.0</td>\n",
       "<td>0.0512920</td>\n",
       "<td>0.0026309</td>\n",
       "<td>0.0394185</td>\n",
       "<td>0.1305113</td>\n",
       "<td>0.0170332</td>\n",
       "<td>0.0944810</td></tr>\n",
       "<tr><td></td>\n",
       "<td>2018-04-18 20:42:12</td>\n",
       "<td>11.108 sec</td>\n",
       "<td>18081 obs/sec</td>\n",
       "<td>200.0</td>\n",
       "<td>20</td>\n",
       "<td>200000.0</td>\n",
       "<td>0.0316097</td>\n",
       "<td>0.0009992</td>\n",
       "<td>0.0242477</td>\n",
       "<td>0.1279207</td>\n",
       "<td>0.0163637</td>\n",
       "<td>0.0911688</td></tr></table></div>"
      ],
      "text/plain": [
       "    timestamp            duration    training_speed    epochs    iterations    samples    training_rmse    training_deviance    training_mae    validation_rmse    validation_deviance    validation_mae\n",
       "--  -------------------  ----------  ----------------  --------  ------------  ---------  ---------------  -------------------  --------------  -----------------  ---------------------  ----------------\n",
       "    2018-04-18 20:42:01  0.000 sec                     0         0             0          nan              nan                  nan             nan                nan                    nan\n",
       "    2018-04-18 20:42:02  0.721 sec   14224 obs/sec     10        1             10000      0.120639         0.0145538            0.0835275       0.144124           0.0207718              0.10628\n",
       "    2018-04-18 20:42:07  5.941 sec   16920 obs/sec     100       10            100000     0.051292         0.00263087           0.0394185       0.130511           0.0170332              0.094481\n",
       "    2018-04-18 20:42:12  11.108 sec  18081 obs/sec     200       20            200000     0.0316097        0.000999176          0.0242477       0.127921           0.0163637              0.0911688"
      ]
     },
     "metadata": {},
     "output_type": "display_data"
    },
    {
     "name": "stdout",
     "output_type": "stream",
     "text": [
      "Variable Importances: \n"
     ]
    },
    {
     "data": {
      "text/html": [
       "<div style=\"overflow:auto\"><table style=\"width:50%\"><tr><td><b>variable</b></td>\n",
       "<td><b>relative_importance</b></td>\n",
       "<td><b>scaled_importance</b></td>\n",
       "<td><b>percentage</b></td></tr>\n",
       "<tr><td>FullBath</td>\n",
       "<td>1.0</td>\n",
       "<td>1.0</td>\n",
       "<td>0.0196259</td></tr>\n",
       "<tr><td>Neighborhood</td>\n",
       "<td>0.9513675</td>\n",
       "<td>0.9513675</td>\n",
       "<td>0.0186715</td></tr>\n",
       "<tr><td>1stFlrSF</td>\n",
       "<td>0.9103259</td>\n",
       "<td>0.9103259</td>\n",
       "<td>0.0178660</td></tr>\n",
       "<tr><td>MasVnrType</td>\n",
       "<td>0.9091529</td>\n",
       "<td>0.9091529</td>\n",
       "<td>0.0178430</td></tr>\n",
       "<tr><td>YrSold</td>\n",
       "<td>0.9040977</td>\n",
       "<td>0.9040977</td>\n",
       "<td>0.0177438</td></tr>\n",
       "<tr><td>---</td>\n",
       "<td>---</td>\n",
       "<td>---</td>\n",
       "<td>---</td></tr>\n",
       "<tr><td>LandSlope</td>\n",
       "<td>0.6101478</td>\n",
       "<td>0.6101478</td>\n",
       "<td>0.0119747</td></tr>\n",
       "<tr><td>RoofMatl</td>\n",
       "<td>0.5940440</td>\n",
       "<td>0.5940440</td>\n",
       "<td>0.0116587</td></tr>\n",
       "<tr><td>BsmtFinSF2</td>\n",
       "<td>0.5821314</td>\n",
       "<td>0.5821314</td>\n",
       "<td>0.0114249</td></tr>\n",
       "<tr><td>Heating</td>\n",
       "<td>0.5814606</td>\n",
       "<td>0.5814606</td>\n",
       "<td>0.0114117</td></tr>\n",
       "<tr><td>Functional</td>\n",
       "<td>0.5403788</td>\n",
       "<td>0.5403788</td>\n",
       "<td>0.0106054</td></tr></table></div>"
      ],
      "text/plain": [
       "variable      relative_importance    scaled_importance    percentage\n",
       "------------  ---------------------  -------------------  --------------------\n",
       "FullBath      1.0                    1.0                  0.01962594669524872\n",
       "Neighborhood  0.9513674974441528     0.9513674974441528   0.018671487792431118\n",
       "1stFlrSF      0.9103258848190308     0.9103258848190308   0.017866007290763423\n",
       "MasVnrType    0.9091529250144958     0.9091529250144958   0.017842986844163952\n",
       "YrSold        0.9040977358818054     0.9040977358818054   0.01774377397171137\n",
       "---           ---                    ---                  ---\n",
       "LandSlope     0.6101477742195129     0.6101477742195129   0.011974727693056813\n",
       "RoofMatl      0.594044029712677      0.594044029712677    0.011658676461771746\n",
       "BsmtFinSF2    0.5821314454078674     0.5821314454078674   0.011424880717202898\n",
       "Heating       0.5814605951309204     0.5814605951309204   0.011411714645427042\n",
       "Functional    0.5403788089752197     0.5403788089752197   0.010605445700189653"
      ]
     },
     "metadata": {},
     "output_type": "display_data"
    },
    {
     "name": "stdout",
     "output_type": "stream",
     "text": [
      "\n",
      "See the whole table with table.as_data_frame()\n"
     ]
    },
    {
     "data": {
      "text/plain": []
     },
     "execution_count": 243,
     "metadata": {},
     "output_type": "execute_result"
    }
   ],
   "source": [
    "DL_model3"
   ]
  },
  {
   "cell_type": "code",
   "execution_count": 244,
   "metadata": {
    "scrolled": true
   },
   "outputs": [
    {
     "name": "stdout",
     "output_type": "stream",
     "text": [
      "deeplearning prediction progress: |███████████████████████████████████████| 100%\n",
      "deeplearning prediction progress: |███████████████████████████████████████| 100%\n"
     ]
    }
   ],
   "source": [
    "ert_preds1_val = DL_model3.predict(validation)\n",
    "ert_preds1_test = DL_model3.predict(test)"
   ]
  },
  {
   "cell_type": "code",
   "execution_count": 245,
   "metadata": {
    "scrolled": true
   },
   "outputs": [
    {
     "data": {
      "text/html": [
       "<table>\n",
       "<thead>\n",
       "<tr><th style=\"text-align: right;\">  predict</th></tr>\n",
       "</thead>\n",
       "<tbody>\n",
       "<tr><td style=\"text-align: right;\">  11.7609</td></tr>\n",
       "<tr><td style=\"text-align: right;\">  12.0345</td></tr>\n",
       "<tr><td style=\"text-align: right;\">  12.1781</td></tr>\n",
       "<tr><td style=\"text-align: right;\">  12.1631</td></tr>\n",
       "<tr><td style=\"text-align: right;\">  12.0177</td></tr>\n",
       "<tr><td style=\"text-align: right;\">  12.174 </td></tr>\n",
       "<tr><td style=\"text-align: right;\">  12.0502</td></tr>\n",
       "<tr><td style=\"text-align: right;\">  12.0451</td></tr>\n",
       "<tr><td style=\"text-align: right;\">  12.1063</td></tr>\n",
       "<tr><td style=\"text-align: right;\">  11.7469</td></tr>\n",
       "</tbody>\n",
       "</table>"
      ]
     },
     "metadata": {},
     "output_type": "display_data"
    },
    {
     "data": {
      "text/plain": []
     },
     "execution_count": 245,
     "metadata": {},
     "output_type": "execute_result"
    }
   ],
   "source": [
    "ert_preds1_test.head()"
   ]
  },
  {
   "cell_type": "code",
   "execution_count": 246,
   "metadata": {
    "collapsed": true
   },
   "outputs": [],
   "source": [
    "a=ert_preds1_test.as_data_frame()"
   ]
  },
  {
   "cell_type": "code",
   "execution_count": 247,
   "metadata": {},
   "outputs": [
    {
     "data": {
      "text/html": [
       "<div>\n",
       "<style>\n",
       "    .dataframe thead tr:only-child th {\n",
       "        text-align: right;\n",
       "    }\n",
       "\n",
       "    .dataframe thead th {\n",
       "        text-align: left;\n",
       "    }\n",
       "\n",
       "    .dataframe tbody tr th {\n",
       "        vertical-align: top;\n",
       "    }\n",
       "</style>\n",
       "<table border=\"1\" class=\"dataframe\">\n",
       "  <thead>\n",
       "    <tr style=\"text-align: right;\">\n",
       "      <th></th>\n",
       "      <th>predict</th>\n",
       "    </tr>\n",
       "  </thead>\n",
       "  <tbody>\n",
       "    <tr>\n",
       "      <th>0</th>\n",
       "      <td>11.760889</td>\n",
       "    </tr>\n",
       "    <tr>\n",
       "      <th>1</th>\n",
       "      <td>12.034492</td>\n",
       "    </tr>\n",
       "    <tr>\n",
       "      <th>2</th>\n",
       "      <td>12.178059</td>\n",
       "    </tr>\n",
       "    <tr>\n",
       "      <th>3</th>\n",
       "      <td>12.163088</td>\n",
       "    </tr>\n",
       "    <tr>\n",
       "      <th>4</th>\n",
       "      <td>12.017663</td>\n",
       "    </tr>\n",
       "  </tbody>\n",
       "</table>\n",
       "</div>"
      ],
      "text/plain": [
       "     predict\n",
       "0  11.760889\n",
       "1  12.034492\n",
       "2  12.178059\n",
       "3  12.163088\n",
       "4  12.017663"
      ]
     },
     "execution_count": 247,
     "metadata": {},
     "output_type": "execute_result"
    }
   ],
   "source": [
    "a.head()"
   ]
  },
  {
   "cell_type": "markdown",
   "metadata": {},
   "source": [
    "<div class=\"alert alert-block alert-success\">\n",
    "<font color='darkblue'>Before we concatenate our Log(SalePrice) with Id, we need to convert our log(Saleprice) to Saleprice ($) </font>"
   ]
  },
  {
   "cell_type": "code",
   "execution_count": 248,
   "metadata": {
    "collapsed": true
   },
   "outputs": [],
   "source": [
    "a['Saleprice'] = np.exp(a['predict'])"
   ]
  },
  {
   "cell_type": "code",
   "execution_count": 249,
   "metadata": {},
   "outputs": [
    {
     "data": {
      "text/html": [
       "<div>\n",
       "<style>\n",
       "    .dataframe thead tr:only-child th {\n",
       "        text-align: right;\n",
       "    }\n",
       "\n",
       "    .dataframe thead th {\n",
       "        text-align: left;\n",
       "    }\n",
       "\n",
       "    .dataframe tbody tr th {\n",
       "        vertical-align: top;\n",
       "    }\n",
       "</style>\n",
       "<table border=\"1\" class=\"dataframe\">\n",
       "  <thead>\n",
       "    <tr style=\"text-align: right;\">\n",
       "      <th></th>\n",
       "      <th>predict</th>\n",
       "      <th>Saleprice</th>\n",
       "    </tr>\n",
       "  </thead>\n",
       "  <tbody>\n",
       "    <tr>\n",
       "      <th>0</th>\n",
       "      <td>11.760889</td>\n",
       "      <td>128141.336665</td>\n",
       "    </tr>\n",
       "    <tr>\n",
       "      <th>1</th>\n",
       "      <td>12.034492</td>\n",
       "      <td>168466.389031</td>\n",
       "    </tr>\n",
       "    <tr>\n",
       "      <th>2</th>\n",
       "      <td>12.178059</td>\n",
       "      <td>194475.055233</td>\n",
       "    </tr>\n",
       "    <tr>\n",
       "      <th>3</th>\n",
       "      <td>12.163088</td>\n",
       "      <td>191585.244597</td>\n",
       "    </tr>\n",
       "    <tr>\n",
       "      <th>4</th>\n",
       "      <td>12.017663</td>\n",
       "      <td>165655.139114</td>\n",
       "    </tr>\n",
       "  </tbody>\n",
       "</table>\n",
       "</div>"
      ],
      "text/plain": [
       "     predict      Saleprice\n",
       "0  11.760889  128141.336665\n",
       "1  12.034492  168466.389031\n",
       "2  12.178059  194475.055233\n",
       "3  12.163088  191585.244597\n",
       "4  12.017663  165655.139114"
      ]
     },
     "execution_count": 249,
     "metadata": {},
     "output_type": "execute_result"
    }
   ],
   "source": [
    "a.head()"
   ]
  },
  {
   "cell_type": "markdown",
   "metadata": {},
   "source": [
    "<div class=\"alert alert-block alert-info\">\n",
    "<font color='green'>Here, we can have a look at the statistics of  our predict log(SalePrice) and SalePrice.</font>"
   ]
  },
  {
   "cell_type": "code",
   "execution_count": 250,
   "metadata": {},
   "outputs": [
    {
     "data": {
      "text/html": [
       "<div>\n",
       "<style>\n",
       "    .dataframe thead tr:only-child th {\n",
       "        text-align: right;\n",
       "    }\n",
       "\n",
       "    .dataframe thead th {\n",
       "        text-align: left;\n",
       "    }\n",
       "\n",
       "    .dataframe tbody tr th {\n",
       "        vertical-align: top;\n",
       "    }\n",
       "</style>\n",
       "<table border=\"1\" class=\"dataframe\">\n",
       "  <thead>\n",
       "    <tr style=\"text-align: right;\">\n",
       "      <th></th>\n",
       "      <th>predict</th>\n",
       "      <th>Saleprice</th>\n",
       "    </tr>\n",
       "  </thead>\n",
       "  <tbody>\n",
       "    <tr>\n",
       "      <th>count</th>\n",
       "      <td>1459.000000</td>\n",
       "      <td>1.459000e+03</td>\n",
       "    </tr>\n",
       "    <tr>\n",
       "      <th>mean</th>\n",
       "      <td>12.032915</td>\n",
       "      <td>1.823057e+05</td>\n",
       "    </tr>\n",
       "    <tr>\n",
       "      <th>std</th>\n",
       "      <td>0.390626</td>\n",
       "      <td>8.177251e+04</td>\n",
       "    </tr>\n",
       "    <tr>\n",
       "      <th>min</th>\n",
       "      <td>10.883087</td>\n",
       "      <td>5.326776e+04</td>\n",
       "    </tr>\n",
       "    <tr>\n",
       "      <th>25%</th>\n",
       "      <td>11.780738</td>\n",
       "      <td>1.307102e+05</td>\n",
       "    </tr>\n",
       "    <tr>\n",
       "      <th>50%</th>\n",
       "      <td>11.980607</td>\n",
       "      <td>1.596289e+05</td>\n",
       "    </tr>\n",
       "    <tr>\n",
       "      <th>75%</th>\n",
       "      <td>12.271288</td>\n",
       "      <td>2.134779e+05</td>\n",
       "    </tr>\n",
       "    <tr>\n",
       "      <th>max</th>\n",
       "      <td>13.955228</td>\n",
       "      <td>1.149949e+06</td>\n",
       "    </tr>\n",
       "  </tbody>\n",
       "</table>\n",
       "</div>"
      ],
      "text/plain": [
       "           predict     Saleprice\n",
       "count  1459.000000  1.459000e+03\n",
       "mean     12.032915  1.823057e+05\n",
       "std       0.390626  8.177251e+04\n",
       "min      10.883087  5.326776e+04\n",
       "25%      11.780738  1.307102e+05\n",
       "50%      11.980607  1.596289e+05\n",
       "75%      12.271288  2.134779e+05\n",
       "max      13.955228  1.149949e+06"
      ]
     },
     "execution_count": 250,
     "metadata": {},
     "output_type": "execute_result"
    }
   ],
   "source": [
    "a.describe()"
   ]
  },
  {
   "cell_type": "markdown",
   "metadata": {},
   "source": [
    "<div class=\"alert alert-block alert-info\">\n",
    "<font color='green'>Now, we can put Id and Saleprice together, save them and submit it on Kaggle. </font>"
   ]
  },
  {
   "cell_type": "code",
   "execution_count": 251,
   "metadata": {
    "collapsed": true
   },
   "outputs": [],
   "source": [
    "Id=testa['Id']"
   ]
  },
  {
   "cell_type": "code",
   "execution_count": 252,
   "metadata": {
    "collapsed": true
   },
   "outputs": [],
   "source": [
    "SalePrice=a['Saleprice']"
   ]
  },
  {
   "cell_type": "code",
   "execution_count": 253,
   "metadata": {
    "collapsed": true
   },
   "outputs": [],
   "source": [
    "DL_model3_result=pd.concat((Id,SalePrice),axis=1)"
   ]
  },
  {
   "cell_type": "code",
   "execution_count": 254,
   "metadata": {},
   "outputs": [
    {
     "data": {
      "text/html": [
       "<div>\n",
       "<style>\n",
       "    .dataframe thead tr:only-child th {\n",
       "        text-align: right;\n",
       "    }\n",
       "\n",
       "    .dataframe thead th {\n",
       "        text-align: left;\n",
       "    }\n",
       "\n",
       "    .dataframe tbody tr th {\n",
       "        vertical-align: top;\n",
       "    }\n",
       "</style>\n",
       "<table border=\"1\" class=\"dataframe\">\n",
       "  <thead>\n",
       "    <tr style=\"text-align: right;\">\n",
       "      <th></th>\n",
       "      <th>Id</th>\n",
       "      <th>Saleprice</th>\n",
       "    </tr>\n",
       "  </thead>\n",
       "  <tbody>\n",
       "    <tr>\n",
       "      <th>0</th>\n",
       "      <td>1461</td>\n",
       "      <td>128141.336665</td>\n",
       "    </tr>\n",
       "    <tr>\n",
       "      <th>1</th>\n",
       "      <td>1462</td>\n",
       "      <td>168466.389031</td>\n",
       "    </tr>\n",
       "    <tr>\n",
       "      <th>2</th>\n",
       "      <td>1463</td>\n",
       "      <td>194475.055233</td>\n",
       "    </tr>\n",
       "    <tr>\n",
       "      <th>3</th>\n",
       "      <td>1464</td>\n",
       "      <td>191585.244597</td>\n",
       "    </tr>\n",
       "    <tr>\n",
       "      <th>4</th>\n",
       "      <td>1465</td>\n",
       "      <td>165655.139114</td>\n",
       "    </tr>\n",
       "  </tbody>\n",
       "</table>\n",
       "</div>"
      ],
      "text/plain": [
       "     Id      Saleprice\n",
       "0  1461  128141.336665\n",
       "1  1462  168466.389031\n",
       "2  1463  194475.055233\n",
       "3  1464  191585.244597\n",
       "4  1465  165655.139114"
      ]
     },
     "execution_count": 254,
     "metadata": {},
     "output_type": "execute_result"
    }
   ],
   "source": [
    "DL_model3_result.head()"
   ]
  },
  {
   "cell_type": "code",
   "execution_count": 255,
   "metadata": {
    "collapsed": true
   },
   "outputs": [],
   "source": [
    "DL_model3_result.to_csv('DL_model3_result.csv')"
   ]
  },
  {
   "cell_type": "code",
   "execution_count": null,
   "metadata": {
    "collapsed": true
   },
   "outputs": [],
   "source": []
  }
 ],
 "metadata": {
  "kernelspec": {
   "display_name": "Python 3",
   "language": "python",
   "name": "python3"
  },
  "language_info": {
   "codemirror_mode": {
    "name": "ipython",
    "version": 3
   },
   "file_extension": ".py",
   "mimetype": "text/x-python",
   "name": "python",
   "nbconvert_exporter": "python",
   "pygments_lexer": "ipython3",
   "version": "3.6.1"
  }
 },
 "nbformat": 4,
 "nbformat_minor": 2
}
